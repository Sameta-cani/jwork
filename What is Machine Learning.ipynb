{
 "cells": [
  {
   "cell_type": "markdown",
   "id": "0b5a39a3",
   "metadata": {},
   "source": [
    "대부분의 사람은 '머신러닝<sup>machine learning</sup>'이란 말을 들으면 로봇을 떠올린다. 누구에게 묻는지에 따라 믿음직한 집사 로봇이나 살인 병기 터미네이터를 생각할 것이다. 하지만 머신러닝은 초현실 판타지가 아니고 이미 우리 주위에 있다. 사실 <strong>광학 문자 판독기</strong><sup>optical character recognition</sup>(OCR) 같은 특별한 몇 가지 애플리케이션이 수십 년 동안 사용되어왔다. 수억 명의 생활을 편리하게 만들어 주류가 된 첫 번째 머신러닝 애플리케이션은 1990년대에 시작되었다. 바로 <strong>스팸 필터</strong><sup>spam filter</sup>이다. 스스로 생각하는 스카이넷<sup>Skynet</sup> 정도는 아니지만, 기술적으로 머신러닝이라 할 수 있다(실제로 잘 학습되어 있어서 더는 이메일에 스팸이라고 표시할 일이 거의 없다). 이후 추천과 음성 검색으로 발전했으며, 매일 사용하는 많은 제품과 기능을 소리 없이 향상시킨 수백 개의 머신러닝 애플리케이션이 나왔다."
   ]
  },
  {
   "cell_type": "markdown",
   "id": "6f0809cc",
   "metadata": {},
   "source": [
    "이러한 상업적인 애플리케이션 이외에도 머신러닝은 오늘날 데이터에 기반한 연구에 커다란 영향을 끼쳐 왔다. 예를 들어 별을 탐구하고 새로운 행성을 찾거나 새로운 미립자를 발견하고 DNA 서열을 분석하며, 맞춤형 암 치료법을 만드는 일과 같은 다양한 과학 분야에 적용되어 왔다."
   ]
  },
  {
   "cell_type": "markdown",
   "id": "f25c1847",
   "metadata": {},
   "source": [
    "머신러닝은 어디서 시작하고 어디서 끝나는 걸까? 기계가 <strong>배운다</strong>는 것이 정확히 무엇을 의미하는 걸까? 내가 위키백과 문서를 내려받으면 내 컴퓨터가 실제로 무언가를 배울 수 있을까? 컴퓨터가 갑자기 똑똑해질 수 있을까? 머신러닝이 무엇인지, 왜 머신러닝이 필요한지 살펴보면서 이 장을 시작하겠다."
   ]
  },
  {
   "cell_type": "markdown",
   "id": "b54c8965",
   "metadata": {},
   "source": [
    "머신러닝의 세상을 탐험하기 전에 전체 머신러닝의 그림을 조망하고 주요 영역과 가장 중요한 랜드마크인 지도 학습과 비지도 학습, 온라인 학습과 배치 학습, 사례 기반 학습과 모델 기반 학습을 알아보겠다. 또한 전형적인 머신러닝 프로젝트의 작업 흐름을 살펴보고 만날 수 있는 주요 문제점과 머신러닝 시스템을 평가하고 세밀하게 튜닝하는 방법을 다루겠다."
   ]
  },
  {
   "cell_type": "markdown",
   "id": "54be8205",
   "metadata": {},
   "source": [
    "# 머신러닝이란?"
   ]
  },
  {
   "cell_type": "markdown",
   "id": "6a82c315",
   "metadata": {},
   "source": [
    "인공지능(AI)의 한 분야로, 일반적으로 좁게 정의된 과제에서 성능을 향상시키기 위해 명시적 프로그래밍<sup id=\"a1\">[1](#p1)</sup>을 작성하지 않고 수많은 데이터를 학습시켜 거기에 있는 패턴을 찾아내는 것이다. 그 후 추출한 패턴을 새로운 데이터에 적용해서 새로운 결과를 예측 및 추론한다. 이러한 과학(또는 예술)을 머신러닝이라고 한다."
   ]
  },
  {
   "cell_type": "markdown",
   "id": "e6d4c0df",
   "metadata": {},
   "source": [
    "조금 더 일반적인 정의는 다음과 같다."
   ]
  },
  {
   "cell_type": "markdown",
   "id": "f557dba5",
   "metadata": {},
   "source": [
    "<strong>아서 새뮤얼<sup>Arthur Samual</sup>, 1959</strong>: 명시적인 프로그래밍 없이 컴퓨터가 학습하는 능력을 갖추게 하는 연구 분야다."
   ]
  },
  {
   "cell_type": "markdown",
   "id": "2c40ee50",
   "metadata": {},
   "source": [
    "조금 더 통계학적으로는 접근하자면 다음과 같다."
   ]
  },
  {
   "cell_type": "markdown",
   "id": "3e7d62e1",
   "metadata": {},
   "source": [
    "통계학, 인공지능 그리고 컴퓨터 과학이 얽혀 있는 연구 분야이며 통계학의 확률이론에 근거한 모델 생성을 수행하기에 예측 분석<sup>predictive analytics</sup>이나 통계적 머신러닝<sup>statistical learning</sup>으로도 불린다."
   ]
  },
  {
   "cell_type": "markdown",
   "id": "6d33a01f",
   "metadata": {},
   "source": [
    " 그리고 머신러닝 알고리즘은 데이터를 기반으로 통계적인 신뢰도를 강화하고 예측 오류를 최소화하기 위한 다양한 수학적 기법을 적용해 데이터 내의 패턴을 스스로 인지하고 신뢰도 있는 예측 결과를 도출해 낸다."
   ]
  },
  {
   "cell_type": "markdown",
   "id": "e99b70af",
   "metadata": {},
   "source": [
    "조금 더 공학적인 정의는 다음과 같다."
   ]
  },
  {
   "cell_type": "markdown",
   "id": "a5250bbc",
   "metadata": {},
   "source": [
    "<strong>톰 미첼<sup>Tom Mitchell</sup>, 1997</strong>: 어떤 작업 T에 대한 컴퓨터 프로그래밍의 성능을 P로 측정했을 때 경험 E로 인해 성능이 향상됐다면, 이 컴퓨터 프로그램은 작업 T와 성능 측정 P에 대해 경험 E로 학습한 것이다."
   ]
  },
  {
   "cell_type": "markdown",
   "id": "726666aa",
   "metadata": {},
   "source": [
    "스팸 필터는 (사용자가 스팸이라고 지정한) 스팸 메일과 일반 메일의 샘플을 이용해 스팸 메일 구분법을 배울 수 있는 머신러닝 프로그램이다. 시스템이 학습하는 데 사용하는 샘플을 <strong>훈련 세트</strong><sup>training set</sup>라고 하고 각 훈련 데이터를 <strong>훈련 사례</strong><sup>training instance</sup>(혹은 <strong>샘플</strong>)라고 한다. 이 경우 작업 T는 새로운 메일이 스팸인지 구분하는 것이고, 경험 E는 <strong>훈련 데이터</strong><sup>training data</sup>이며, 성능 측정 P는 직접 정의해야 한다. 예를 들면 정확히 분류된 메일의 비율을 P로 사용할 수 있다. 이 성능 측정을 <strong>정확도</strong><sup>accuracy</sup>라고 부르며 분류 작업에서 자주 사용된다."
   ]
  },
  {
   "cell_type": "markdown",
   "id": "de8f58ac",
   "metadata": {},
   "source": [
    "위키백과 문서를 모두 내려받으면 여러분 컴퓨터는 아주 많은 데이터를 갖게 된다. 하지만 그렇다고 해서 어떤 작업 성능이 갑자기 좋아지는 것은 아니다. 그러므로 위키백과 문서를 다운로드하는 것은 머신러닝이 아니다."
   ]
  },
  {
   "cell_type": "markdown",
   "id": "1274111d",
   "metadata": {},
   "source": [
    "# 왜 머신러닝을 사용하는가?"
   ]
  },
  {
   "cell_type": "markdown",
   "id": "7a0ce67c",
   "metadata": {},
   "source": [
    "전통적인 프로그래밍 기법을 사용해 스팸 필터를 어떻게 만들 수 있을지 생각해보자.\n",
    "1. 먼저 스팸에 어떤 단어들이 주로 나타나는지 살펴본다. 그러면 '4U', '신용카드', '무료', '굉장한' 같은 단어나 구절이 제목에 많이 나타나는 경향이 있다는 것을 알 수 있다. 어쩌면 보낸이의 이름이나 메일 주소, 본문이나 이메일의 다른 요소에서 다른 패턴을 감지할 수도 있다.\n",
    "2. 발견한 각 패턴을 감지하는 알고리즘을 작성하여 프로그래밍이 이런 패턴을 발견했을 때 그 메일을 스팸으로 분류하게 한다.\n",
    "3. 프로그램을 테스트하고 론칭할 만큼 충분한 성능이 나올 때까지 1단계와 2단계를 반복한다."
   ]
  },
  {
   "cell_type": "markdown",
   "id": "656bd4a8",
   "metadata": {},
   "source": [
    "문제가 어렵기 때문에 규칙이 점점 길고 복잡해져서 유지 보수하기 매우 힘들어진다(그림 1-1)."
   ]
  },
  {
   "cell_type": "markdown",
   "id": "827dd69c",
   "metadata": {},
   "source": [
    "그림 1-1: 전통적인 접근 방법"
   ]
  },
  {
   "cell_type": "markdown",
   "id": "32eef67d",
   "metadata": {},
   "source": [
    "반면 머신러닝 기법에 기반을 둔 스팸 필터는 일반 메일에 비해 스팸에 자주 나타나는 패턴을 감지하여 어떤 단어와 구절이 스팸 메일을 판단하는 데 좋은 기준인지 자동으로 학습한다(그림 1-2). 그러므로 프로그램이 훨씬 짧아지고 유지 보수하기 쉬우며 대부분 정확도가 더 높다."
   ]
  },
  {
   "cell_type": "markdown",
   "id": "ac1c75fa",
   "metadata": {},
   "source": [
    "그림 1-2: 머신러닝 접근 방법"
   ]
  },
  {
   "cell_type": "markdown",
   "id": "88c992c1",
   "metadata": {},
   "source": [
    "스팸 메일 발송자가 '4U'를 포함한 모든 메일이 차단된다는 것을 안다면 어떻게 될까? 아마도 '4U' 대신 'For U'를 쓰기 시작할지도 모른다. 전통적인 프로그래밍 방식의 스팸 필터는 'For U' 메일을 구분하기 위해 코드상 수정이 필요하다. 스팸 메일 발송자가 스팸 필터에 대항해 계속 단어를 바꾸면 영원히 새로운 규칙을 추가해야 한다."
   ]
  },
  {
   "cell_type": "markdown",
   "id": "726089bb",
   "metadata": {},
   "source": [
    "하지만, 머신러닝 기반의 스팸 필터는 사용자가 스팸으로 지정한 메일에 유독 'For U'가 자주 나타나는 것을 자동으로 인식하고 별도의 작업을 하지 않아도 자동으로 이 단어를 스팸으로 분류한다(그림 1-3)."
   ]
  },
  {
   "cell_type": "markdown",
   "id": "2085092f",
   "metadata": {},
   "source": [
    "그림 1-3: 자동으로 변화에 적응함"
   ]
  },
  {
   "cell_type": "markdown",
   "id": "30d27acf",
   "metadata": {},
   "source": [
    "위와 같은 전통적인 접근 방법은 규칙 기반 전문가 시스템<sup>rule-based expert system</sup>이라고도 한다. 물론 모델링할 처리 과정을 사람이 잘 알고 있는 경우 결정 규칙을 수동으로 만드는 것이 적합할 때도 있다. 하지만 직접 규칙을 만드는 것은 두 가지 커다란 단점이 있다.\n",
    "- 결정에 필요한 로직은 한 분야나 작업에 국한된다. 따라서 작업이 조금만 변경되더라도 전체 시스템을 다시 개발해야 할 수도 있다.\n",
    "- 규칙을 설계하려면 그 분야의 전문가들이 내리는 결정 방식에 대해 잘 알아야 한다."
   ]
  },
  {
   "cell_type": "markdown",
   "id": "48a1b255",
   "metadata": {},
   "source": [
    "머신러닝이 유용한 또 다른 분야는 전통적인 방식으로는 너무 복잡하거나 알려진 알고리즘이 없는 문제다. 음성 인식<sup>speech recognition</sup>을 예로 들 수 있다. 'one'과 'two' 두 단어를 구분하는 프로그램을 작성한다고 하자. 단어 'two'는 높은 피치<sup>pitch</sup>의 사운드('T')로 시작하므로 높은 피치의 사운드 강도를 측정하는 알고리즘을 하드코딩해서 'one'과 'two'를 구분할 수도 있다. 당연히 이 방법은 소음이 있는 환경에서 수백만 명이 말하는 여러 언어로 된 수천 개의 단어를 구분하는 것으로 확장하기 어렵다. 각 단어를 녹음한 샘플을 사용해 스스로 학습하는 알고리즘을 작성하는 것이 현재 가장 좋은 솔루션이다."
   ]
  },
  {
   "cell_type": "markdown",
   "id": "c1a20a97",
   "metadata": {},
   "source": [
    "우리는 머신러닝을 통해 배울 수도 있다(그림 1-4). 즉, 머신러닝 알고리즘이 학습한 것을 조사할 수 있다(어떤 알고리즘은 이렇게 하기 어렵다). 예를 들어, 스팸 메일로 충분히 훈련된 스팸 필터에서 스팸을 예측하는데 가장 좋은 단어 및 단어의 조합이 무엇인지 확인할 수 있다. 가끔 예상치 못한 연관 관계나 새로운 추세가 발견되기도 해서 해당 문제를 더 잘 이해하도록 도와준다. 머신러닝 기술을 적용해서 대용량의 데이터를 분석하면 겉으로는 보이지 않던 패턴을 발견할 수 있다. 이를 <strong>데이터 마이닝</strong><sup>data mining</sup>이라고 한다."
   ]
  },
  {
   "cell_type": "markdown",
   "id": "b172e497",
   "metadata": {},
   "source": [
    "그림 1-4: 머신러닝을 통해 배운다."
   ]
  },
  {
   "cell_type": "markdown",
   "id": "b5ab24b8",
   "metadata": {},
   "source": [
    "요약하면 머신러닝은 다음 분야에 뛰어나다.\n",
    "- 기존 솔루션으로는 많은 수동 조정과 규칙이 필요한 문제: 하나의 머신러닝 모델이 코드를 간단하게 만들고 전통적인 방법보다 더 잘 수행되도록 할 수 있다.\n",
    "- 전통적인 방식으로는 해결 방법이 없는 복잡한 문제: 가장 뛰어난 머신러닝 기법으로 해결 방법을 찾을 수 있다.\n",
    "- 유동적인 환경: 머신러닝 시스템은 새로운 데이터에 적응할 수 있다.\n",
    "- 복잡한 문제와 대량의 데이터에서 통찰 얻기"
   ]
  },
  {
   "cell_type": "markdown",
   "id": "f8ebc1b8",
   "metadata": {},
   "source": [
    "본격적으로 머신러닝 세상이 펼쳐진다면 데이터의 중요성이 무엇보다 커지는데, 좋기만 할 것 같았던 머신러닝도 물론 단점이 있다.\n",
    "- 머신러닝의 가장 큰 단점은 데이터에 매우 의존적이라는 것이다.\n",
    "- 머신러닝을 이용해 데이터만 집어넣으면 자동으로 최적화된 결과를 도출할 거라는 믿음은 환상이다.\n",
    "- 학습 시에 최적의 결과를 도출하기 위해 수집된 머신러닝 모델은 실제 환경 데이터 적용 시 과대적합되기 쉽다.\n",
    "- 복잡한 머신러닝 알고리즘으로 도출된 결과에 대한 논리적인 이해가 어려울 수 있다."
   ]
  },
  {
   "cell_type": "markdown",
   "id": "5760d553",
   "metadata": {},
   "source": [
    "이를 위해서 최적의 머신러닝 알고리즘과 모델 파라미터를 구축하는 능력도 중요하지만 데이터를 이해하고 효율적으로 가공, 처리, 추출해 최적의 데이터를 기반으로 알고리즘을 구동할 수 있도록 준비하는 능력이 더 중요할 수 있다."
   ]
  },
  {
   "cell_type": "markdown",
   "id": "b0dc39fe",
   "metadata": {},
   "source": [
    "# 어떻게 특징과 규칙을 찾을까?"
   ]
  },
  {
   "cell_type": "markdown",
   "id": "41f24a29",
   "metadata": {},
   "source": [
    "일반인은머신러닝과 딥러닝을 \"데이터를 넣기만 하면 알아서 분석되는 것이구나!\"처럼 생각할 수도 있다. 하지만 당연하게도 이런 마법은 존재하지 않는다. 머신러닝과 딥러닝은 분석을 위해 내부적으로 일반적인 프로그램과 같은 계산을 사용한다."
   ]
  },
  {
   "cell_type": "markdown",
   "id": "eb1d7b11",
   "metadata": {},
   "source": [
    "앞서 머신러닝을 정의할 때 패턴(특징, 규칙이라고도 한다)을 추출한다고 했었는데 이는 어떻게 분석되는 것일까? 간단히 살펴보자."
   ]
  },
  {
   "cell_type": "markdown",
   "id": "8dab8fef",
   "metadata": {},
   "source": [
    "머신러닝에서는 벡터라는 것이 굉장히 중요하다. 벡터<sup>vector</sup>란 공간에서 방향과 크기를 가진 것을 의미한다."
   ]
  },
  {
   "cell_type": "markdown",
   "id": "1dda4045",
   "metadata": {},
   "source": [
    "일단 간단한 문제를 풀어보자. 다음 그래프에는 o와 x가 많이 그려져 있다. 그런데 내부에 빈 공간이 하나 있는데 과연 이 공간에 o와 x 중 어떤걸 넣는 게 더 적합할까?"
   ]
  },
  {
   "cell_type": "markdown",
   "id": "81e3ddd4",
   "metadata": {},
   "source": [
    "그림 1-5: 빈 공간에는 o와 x 중에 무엇을 넣어야 할까?"
   ]
  },
  {
   "cell_type": "markdown",
   "id": "5e074044",
   "metadata": {},
   "source": [
    "아마 빈 공간에는 직감적으로 x가 들어가야 한다고 생각했을 것이다. 왜 그렇게 생각했을까? 무의식적으로 o와 x가 모여있는 위치 관계를 파악했을 것이다. 이처럼 어떤 요소가 모여있는 것을 \"특징량\"이라고 부른다."
   ]
  },
  {
   "cell_type": "markdown",
   "id": "72ffde9f",
   "metadata": {},
   "source": [
    "이러한 특징량을 기반으로 구분선을 그으면 컴퓨터도 쉽게 판단할 수 있을 것이다. 머신러닝은 이처럼 계산을 통해 구분선을 찾아내는 것이다. 구분선을 찾을 때는 점과 점 사이의 거리를 구하고 이러한 거리가 가까우면 비슷한 데이터라고 판정한다."
   ]
  },
  {
   "cell_type": "markdown",
   "id": "3c90080d",
   "metadata": {},
   "source": [
    "# 애플리케이션 사례"
   ]
  },
  {
   "cell_type": "markdown",
   "id": "5180fd9a",
   "metadata": {},
   "source": [
    "구체적인 머신러닝 작업의 사례와 이를 위한 기술을 함께 살펴보자."
   ]
  },
  {
   "cell_type": "markdown",
   "id": "2421b06d",
   "metadata": {},
   "source": [
    "- 생산 라인에서 제품 이미지를 분석해 자동으로 분류하기: 이미지 분류 작업이다. 일반적으로 합성곱 신경망<sup>convolutional neural network</sup>(CNN)을 사용하여 수행한다.\n",
    "- 뇌를 스캔하여 종양 진단하기: 시맨틱 분할 작업이다. 일반적으로 CNN을 사용해 이미지의 각 픽셀을 분류한다(종양의 정확한 위치와 모양을 결정해야 한다).\n",
    "- 자동으로 뉴스 기사를 분류하기: 자연어 처리<sup>natural language processing</sup>(NLP)작업이다. 더 구체적으로 말하면 텍스트 분류다. 순환 신경망<sup>recurrent neural network</sup>(RNN), CNN, 트랜스포머<sup>Transformer</sup>를 사용해 해결할 수 있다.\n",
    "- 토론 포럼에서 부정적인 코멘트를 자동으로 구분하기: 역시 텍스트 분류 작업이다. NLP 도구를 사용한다.\n",
    "- 긴 문서를 자동으로 요약하기: 텍스트 요약이라 불리는 NLP의 한 분야다. NLP 도구를 사용한다.\n",
    "- 챗봇<sup>chatbot</sup> 또는 개인 비서 만들기: 자연어 이해<sup>natural language understanding</sup>(NLU)와 질문-대답<sup>question-answering</sup> 모듈을 포함해 여러 가지 NLP 컴포넌트가 필요하다.\n",
    "- 다양한 성능 지표를 기반으로 회사의 내년도 수익을 예측하기: 회귀<sup>regression</sup> 작업이다(즉 연속적인 수치값을 예측한다). 선형 회귀<sup>linear regression</sup>나 다항 회귀<sup>polynomial regression</sup>모델, 회귀 SVM, 회귀 랜덤 포레스트<sup>random forest</sup>, 인공 신경망<sup>artificial neural network</sup>과 같은 회귀 모델을 사용해서 해결할 수 있다. 지난 성능 지표의 시퀀스를 고려한다면 RNN, CNN 또는 트랜스포머를 사용할 수 있다.\n",
    "- 음성 명령에 반응하는 앱을 만들기: 음성 인식 작업이다. 오디오 샘플을 처리해야 한다. 이는 길고 복잡한 시퀀스이므로 일반적으로 RNN, CNN 또는 트랜스포머를 사용한다.\n",
    "- 신용 카드 부정 거래 감지하기: 이상치 탐지 작업이다.\n",
    "- 구매 이력을 기반으로 고객을 나누고 각 집합마다 다른 마케팅 전략을 계획하기: 군집<sup>clustering</sup> 작업이다.\n",
    "- 고차원의 복잡한 데이터셋을 명확하고 의미 있는 그래프로 표현하기: 데이터 시각화 작업이다. 차원 축소<sup>dimensionality reduction</sup> 기법을 많이 사용한다.\n",
    "- 과거 구매 이력을 기반으로 고객이 관심을 가질 수 있는 상품 추천하기: 추천 시스템이다. 과거 구매 이력을 (그리고 고객에 관한 다른 정보를) 인공 신경망에 주입하고 다음에 구매할 가능성이 가장 높은 상품을 출력하는 것이 한 가지 방법이다. 일반적으로 모든 고객의 구매 이력을 기반으로 훈련한다.\n",
    "- 지능형 게임 봇<sup>bot</sup> 만들기: 보통 강화 학습<sup>reinforcement learning</sup>(RL)으로 해결한다. 주어진 환경(예를 들어 게임)에서 시간이 지나면 보상이 최대가 되는 행동을 (봇과 같은) 에이전트를 훈련하는 머신러닝의 한 분야이다(예를 들어 상대 플레이어가 점수를 잃을 때마다 봇이 보상을 받을 수 있다). 바둑 세계 챔피언을 이긴 유명한 알파고<sup>AlphaGo</sup>가 강화 학습을 사용해 구축되었다."
   ]
  },
  {
   "cell_type": "markdown",
   "id": "2ed14399",
   "metadata": {},
   "source": [
    "이 목록이 전부는 아니지만 머신러닝이 다룰 수 있는 작업의 복잡도와 다양성은 물론, 이런 작업에 사용할 수 있는 기술에 대해 감을 얻었기를 바란다."
   ]
  },
  {
   "cell_type": "markdown",
   "id": "296d9b6a",
   "metadata": {},
   "source": [
    "# 머신러닝 시스템의 종류"
   ]
  },
  {
   "cell_type": "markdown",
   "id": "3143bcf2",
   "metadata": {},
   "source": [
    "머신러닝 시스템의 종류는 굉장히 많으므로 넓은 범주에서 분류하면 도움이 된다."
   ]
  },
  {
   "cell_type": "markdown",
   "id": "8a207326",
   "metadata": {},
   "source": [
    "- 사람의 감독하에 훈련하는 것인지 그렇지 않은 것인지(지도, 비지도, 준지도, 강화 학습)\n",
    "- 실시간으로 점진적인 학습을 하는지 아닌지(온라인 학습과 배치 학습)\n",
    "- 단순하게 알고 있는 데이터 포인트와 새 데이터 포인트를 비교하는 것인지 아니면 과학자들이 하는 것처럼 훈련 데이터셋에서 패턴을 발견하여 예측 모델을 만드는지(사례 기반 학습과 모델 기반 학습)"
   ]
  },
  {
   "cell_type": "markdown",
   "id": "9ec9d746",
   "metadata": {},
   "source": [
    "이 범주들은 독립적이며 원하는 대로 연결할 수 있다. 예를 들어 최첨단 스팸 필터가 심층 신경망 모델을 사용해 스팸과 스팸이 아닌 메일에서부터 실시간으로 학습할지도 모른다. 그렇다면 이 시스템은 온라인이고 모델 기반이며 지도 학습 시스템이다."
   ]
  },
  {
   "cell_type": "markdown",
   "id": "8f62e5b9",
   "metadata": {},
   "source": [
    "이 범주들은 조금 더 자세히 들여다보겠다."
   ]
  },
  {
   "cell_type": "markdown",
   "id": "140f6bd0",
   "metadata": {},
   "source": [
    "## 지도 학습과 비지도 학습"
   ]
  },
  {
   "cell_type": "markdown",
   "id": "dab7a4db",
   "metadata": {},
   "source": [
    "머신러닝 시스템을 '학습하는 동안의 감독 형태나 정보량'에 따라 분류할 수 있다. 지도 학습, 비지도 학습, 준지도 학습, 강화 학습 등 네 가지 주요 범주가 있다.\n",
    "\n",
    "<strong>지도 학습</strong>\n",
    "- 레이블된 데이터\n",
    "- 직접 피드백\n",
    "- 출력 및 미래 예측\n",
    "\n",
    "<strong>비지도 학습</strong>\n",
    "- 레이블 및 타깃 없음\n",
    "- 피드백 없음\n",
    "- 데이터에서 숨겨진 구조 찾기\n",
    "\n",
    "<strong>준지도 학습</strong>\n",
    "- 레이블된 데이터와 레이블되지 않은 데이터\n",
    "- 지도 학습과 비지도 학습 알고리즘의 조합\n",
    "\n",
    "<strong>강화 학습</strong>\n",
    "- 결정 과정\n",
    "- 보상 시스템\n",
    "- 연속된 행동에서 학습"
   ]
  },
  {
   "cell_type": "markdown",
   "id": "5183d789",
   "metadata": {},
   "source": [
    "### 지도 학습"
   ]
  },
  {
   "cell_type": "markdown",
   "id": "c980a173",
   "metadata": {},
   "source": [
    "가장 많이 사용되는 머신러닝 알고리즘들은 이미 알려진 사례를 바탕으로 일반화된 모델을 만들어 의사 결정 프로세스를 자동화하는 것들이다. 이 방식을 <strong>지도 학습</strong><sup>supervised learning</sup>이라고 하며 사용자는 알고리즘에 입력과 기대되는 출력을 제공하고, 알고리즘은 주어진 입력에서 원하는 출력을 만드는 방법을 찾는다. 이때 주입하는 훈련 데이터에는 <strong>레이블</strong><sup>label</sup>이라는 원하는 답이 포함된다(그림 1-6). 이렇게 학습된 알고리즘은 사람의 도움 없이도 새로운 입력이 주어지면 적절한 출력을 만들 수 있다."
   ]
  },
  {
   "cell_type": "markdown",
   "id": "5cd6a944",
   "metadata": {},
   "source": [
    "입력 데이터로부터 기대한 출력이 나오도록 알고리즘을 가르치는 것이기 때문에 입력과 출력으로부터 학습하는 머신러닝 알고리즘들을 지도 학습 알고리즘이라고 한다. 입력과 출력 데이터를 만드는 것은 종종 수작업을 거쳐야 해서 힘든 일이지만, 지도 학습 알고리즘은 분석하기에 좋고 성능을 측정하기도 쉽다. 만약 여러분의 애플리케이션을 지도 학습 문제로 구성할 수 있고 원하는 출력을 포함한 데이터셋<sup>dataset</sup>을 만들 수 있다면 아마도 머신러닝이 그 문제를 해결할 수 있을 것이다."
   ]
  },
  {
   "cell_type": "markdown",
   "id": "55295ec2",
   "metadata": {},
   "source": [
    "그림 1-6: 스팸 분류를 위한 레이블된 훈련 세트(지도 학습의 예)"
   ]
  },
  {
   "cell_type": "markdown",
   "id": "9ef4bcd1",
   "metadata": {},
   "source": [
    "지도 학습의 종류로는 개별 클래스 레이블이 있는 분류와 연속적인 값을 출력하는 회귀가 있다. 하나씩 살펴보자."
   ]
  },
  {
   "cell_type": "markdown",
   "id": "3d3807c6",
   "metadata": {},
   "source": [
    "#### 분류: 클래스 레이블 예측"
   ]
  },
  {
   "cell_type": "markdown",
   "id": "32e4bb44",
   "metadata": {},
   "source": [
    "<strong>분류</strong><sup>classification</sup>는 지도 학습의 하위 카테고리이다. 과거의 관측을 기반으로 새로운 샘플의 범주형 클래스 레이블을 예측하는 것이 목적이다. 클래스 레이블은 이산적(discrete)이고 순서가 없어 샘플이 속한 그룹으로 이해할 수 있다. 앞서 언급한 스팸 메일 필터는 전형적인 <strong>이진 분류</strong><sup>binary classification</sup> 작업의 예이다. 스팸과 스팸이 아닌 이메일 두 개의 클래스 사이를 구분하려고 머신러닝 알고리즘이 일련의 규칙을 학습한다."
   ]
  },
  {
   "cell_type": "markdown",
   "id": "4757f6fd",
   "metadata": {},
   "source": [
    "또한, 분류하고자 하는 것이 두 개 이상의 클래스 레이블을 가진 경우가 많다. 지도 학습 알고리즘으로 학습한 예측 모델은 훈련 데이터셋에 있는 모든 클래스 레이블을 새로운 샘플에 할당할 수 있다. 이런 <strong>다중 분류</strong><sup>multiclass classification</sup>의 전형적인 예는 손으로 쓴 글자 인식이다. 알파벳 각 글자를 손으로 쓴 이미지 샘플을 모아서 훈련 데이터셋을 구성한다. 새로운 글자를 입력으로 제공하면 예측 모델이 일정한 정확도로 알파벳 글자를 예측할 것이다. 만약 0에서 9까지의 숫자가 훈련 데이터셋에 없다면 이 머신러닝 시스템은 숫자를 인식하지 못할 것이다."
   ]
  },
  {
   "cell_type": "markdown",
   "id": "a55c08d1",
   "metadata": {},
   "source": [
    "그림 1-7은 30개의 훈련 샘플이 있는 이진 분류 작업의 개념을 나타낸다. 15개의 샘플은 <strong>음성 클래스</strong><sup>negative class</sup>로 레이블(뺄셈 기호)되어 있고, 다른 15개의 샘플은 <strong>양성 클래스</strong><sup>positive class</sup>로 레이블(덧셈 기호)되어 있다. 각 샘플이 두 개의 x<sub>1</sub>, x<sub>2</sub> 값에 연관되어 있으므로 2차원 데이터셋이다. 지도 학습 알고리즘을 사용하여 두 클래스를 구분할 수 있는 규칙을 학습한다. 이 규칙은 점선으로 나타난 <strong>결정 경계</strong><sup>decision boundary</sup>이다. 새로운 데이터의 x<sub>1</sub>, x<sub>2</sub> 값이 주어지면 이 결정 경계에 기반해서 두 개의 범주 중 하나로 분류한다."
   ]
  },
  {
   "cell_type": "markdown",
   "id": "a953a980",
   "metadata": {},
   "source": [
    "그림 1-7: 두 개의 클래스를 구분하는 결정 경계(p33)"
   ]
  },
  {
   "cell_type": "markdown",
   "id": "24846706",
   "metadata": {},
   "source": [
    "#### 회귀: 연속적인 출력 값 예측"
   ]
  },
  {
   "cell_type": "markdown",
   "id": "0ce787ec",
   "metadata": {},
   "source": [
    "이전 절에서 분류 작업은 범주형 순서가 없는 레이블을 샘플에 할당하는 것이라고 배웠다. 두 번째 지도 학습의 종류는 연속적인 출력 값을 예측하는 <strong>회귀</strong><sup>regression</sup> 분석이다. 회귀는 <strong>예측 변수</strong><sup>predictor variable</sup>(또는 <strong>설명 변수</strong><sup>explanatory variable</sup>, <strong>입력</strong><sup>input</sup>)와 연속적인 <strong>반응 변수</strong><sup>response variable</sup>(또는 <strong>출력</strong><sup>outcome</sup>, <strong>타깃</strong><sup>target</sup>)가 주어졌을 때 출력 값을 예측하는 두 변수 사이의 관계를 찾는다."
   ]
  },
  {
   "cell_type": "markdown",
   "id": "4ac003de",
   "metadata": {},
   "source": [
    "예를 들어 학생들의 수학 SAT 점수를 예측한다고 가정해 보자. 시험 공부에 투자한 시간과 최종 점수 사이에 관계가 있다면 두 값으로 훈련 데이터를 만들고 모델을 학습할 수 있다. 이 모델은 시험에 응시하려는 학생들이 공부한 시간을 이용하여 시험 점수를 예측한다."
   ]
  },
  {
   "cell_type": "markdown",
   "id": "ce4898bf",
   "metadata": {},
   "source": [
    "그림 1-8은 <strong>선형 회귀</strong><sup>linear regression</sup>의 개념을 나타낸다. 입력 x와 타깃 y가 주어지면 샘플과 직선 사이 거리가 최소가 되는 직선을 그을 수 있다. 일반적으로 평균 제곱 거리를 사용한다. 이렇게 데이터에서 학습한 직선의 기울기와 절편<sup>intercept</sup>을 사용하여 새로운 데이터의 출력값을 예측한다."
   ]
  },
  {
   "cell_type": "markdown",
   "id": "02f18359",
   "metadata": {},
   "source": [
    "그림 1-8: 선형 회귀의 예(p34)"
   ]
  },
  {
   "cell_type": "markdown",
   "id": "7de9b4c0",
   "metadata": {},
   "source": [
    "<div style=\"background-color:#D3D3D3; padding:10px;\">\n",
    "    <span style=\"color: green\"><strong>NOTE_</strong></span>머신러닝에서 <strong>속성</strong><sup>attribute</sup>은 데이터 타입(예를 들면 주행거리)을 말한다. <strong>특성</strong>은 문맥에 따라 여러 의미를 갖지만 일반적으로 속성과 값이 합쳐진 것을 의미한다(예를 들면 주행거리=15,000). 하지만 많은 사람이 <strong>속성</strong>과 <strong>특성</strong>을 구분하지 않고 사용한다.</div>"
   ]
  },
  {
   "cell_type": "markdown",
   "id": "803cc569",
   "metadata": {},
   "source": [
    "한편 일부 회귀 알고리즘은 분류에 사용할 수도 있고, 반대로 일부 분류 알고리즘을 회귀에 사용할 수도 있다. 예를 들어 분류에 널리 쓰이는 <strong>로지스틱 회귀</strong>는 클래스에 속할 확률을 출력한다(예를 들면 스팸일 가능성 20%)."
   ]
  },
  {
   "cell_type": "markdown",
   "id": "2f224a20",
   "metadata": {},
   "source": [
    "다음은 가장 중요한 지도 학습 알고리즘들이다.\n",
    "- k-최근접 이웃<sup>k-nearest neighbors</sup>\n",
    "- 선형 회귀<sup>linear regression</sup>\n",
    "- 로지스틱 회귀<sup>logistic regression</sup>\n",
    "- 서포트 벡터 머신<sup>support vector machine</sup>(SVM)\n",
    "- 결정 트리<sup>decision tree</sup>와 랜덤 포레스트<sup>random forest</sup>\n",
    "- 신경망<sup>neural networks</sup>"
   ]
  },
  {
   "cell_type": "markdown",
   "id": "86a40479",
   "metadata": {},
   "source": [
    "지도 학습의 예는 다음과 같다."
   ]
  },
  {
   "cell_type": "markdown",
   "id": "51454503",
   "metadata": {},
   "source": [
    "<strong>1. 편지 봉투에 손으로 쓴 우편번호 숫자 판별</strong><br>\n",
    "여기서 입력은 손글씨를 스캔한 이미지이고 기대하는 출력은 우편번호 숫자다. 머신러닝 모델 구축에 쓸 데이터셋을 만들려면 많은 편지 봉투를 모아야 한다. 그리고 우편번호를 눈으로 확인해서 원하는 출력 값을 기록해놓아야 한다.<br><br>\n",
    "\n",
    "<strong>2. 의료 영상 이미지에 기반한 종양 판단</strong><br>\n",
    "이 경우 입력은 이미지이고 출력은 종양이 양성인지의 여부다. 모델 구축에 사용할 데이터셋을 만들려면 의료 영상 데이터베이스와 전문가의 의견이 필요하다. 다시 말해 의사가 이미지를 모두 확인해서 종양이 양성인지, 아니면 악성인지 판단을 내려야 한다. 경우에 따라서는 종양이 암인지를 확인하기 위해 이미지 확인 외의 추가 분석을 해야 할 수도 있다.<br><br>\n",
    "\n",
    "<strong>3. 의심되는 신용카드 거래 감지</strong><br>\n",
    "여기서는 신용카드 거래 내역이 입력이 되고 부정 거래인지의 여부가 출력이 된다. 신용카드 회사라면 모든 거래 내역을 저장하고 고객이 잘못된 거래라고 신고한 내역을 기록해서 데이터셋을 만들 수 있다."
   ]
  },
  {
   "cell_type": "markdown",
   "id": "b7a26593",
   "metadata": {},
   "source": [
    "이런 사례들에서 주목할 점은 입력과 출력이 상당히 직관적으로 보이지만, 데이터를 모으는 과정은 세 경우가 많이 다르다는 것이다. 편지 봉투를 읽는 것은 손이 많이 가는 일이지만, 쉽고 비용이 적게 든다. 반면에 의료 영상 이미지를 얻거나 분석하려면 도덕적 이슈나 개인정보 보호를 차치하더라도 고가의 장비가 필요하고 보수가 높고 흔치 않은 전문가의 의견을 구해야 한다. 신용카드 사기 탐지의 예에서는 데이터 수집이 매우 간단하다. 고객이 사기 거래라고 보고할 것이니 필요한 출력 데이터를 고객이 제공하는 셈이다. 즉, 사기 거래와 일반 거래의 입력과 출력을 얻기 위해서는 기다리기만 하면 된다."
   ]
  },
  {
   "cell_type": "markdown",
   "id": "07131636",
   "metadata": {},
   "source": [
    "### 비지도 학습"
   ]
  },
  {
   "cell_type": "markdown",
   "id": "11a790e3",
   "metadata": {},
   "source": [
    "<strong>비지도 학습</strong><sup>unsupervised learning</sup>에서는 말 그대로 레이블되지 않거나 구조를 알 수 없는 데이터를 다룬다. 비지도 학습 기법을 사용하면 알려진 출력 값의 도움을 받지 않고 의미 있는 정보를 추출하기 위해 데이터 구조를 탐색할 수 있다(그림 1-9). 즉 시스템이 아무런 도움 없이 학습해야 한다. 이 알고리즘의 성공 사례는 많지만 비지도 학습을 이해하거나 평가하는 일은 쉽지 않다."
   ]
  },
  {
   "cell_type": "markdown",
   "id": "b0f33519",
   "metadata": {},
   "source": [
    "그림 1-9: 비지도 학습에서 레이블 없는 훈련 세트"
   ]
  },
  {
   "cell_type": "markdown",
   "id": "9f368330",
   "metadata": {},
   "source": [
    "#### 군집: 서브그룹 찾기"
   ]
  },
  {
   "cell_type": "markdown",
   "id": "9d0bb147",
   "metadata": {},
   "source": [
    "<strong>군집</strong><sup>clustering</sup>은 사전 정보 없이 쌓여 있는 그룹 정보를 의미 있는 서브그룹<sup>subgroup</sup> 또는 <strong>클러스터</strong><sup>cluster</sup>로 조직하는 탐색적 데이터 분석 기법이다. 분석 과정에서 만든 각 클러스터 내에서는 어느 정도 유사성을 공유하고 다른 클러스터와는 비슷하지 않은 샘플 그룹을 형성한다. 이따금 군집을 <strong>비지도 분류</strong><sup>unsupervised classification</sup>라고 하는 이유가 여기 있다. 클러스터링은 정보를 조직화하고 데이터에서 의미 있는 관계를 유도하는 훌륭한 도구다."
   ]
  },
  {
   "cell_type": "markdown",
   "id": "a2b94c7e",
   "metadata": {},
   "source": [
    "예를 들어 블로그 방문자에 대한 데이터가 많이 있다고 하자. 비슷한 방문자들을 그룹으로 묶기 위해 군집 알고리즘을 적용하려 한다(그림 1-10). 하지만 방문자가 어떤 그룹에 속하는지 알고리즘에 알려줄 수 있는 데이터 포인트가 없다. 그래서 알고리즘이 스스로 방문자 사이의 연결고리를 찾는다. 예를 들어 40%의 방문자가 만화책을 좋아하며 저녁 때 블로그 글을 읽는 남성이고, 20%는 주말에 방문하는 SF를 좋아하는 젊은 사람임을 알게 될지도 모른다. <strong>계층 군집</strong><sup>hierarchical clustering</sup> 알고리즘을 사용하면 각 그룹을 더 작은 그룹으로 세분화할 수 있다. 그러면 각 그룹에 맞춰 블로그에 글을 쓰는 데 도움이 될 것이다."
   ]
  },
  {
   "cell_type": "markdown",
   "id": "ea92680d",
   "metadata": {},
   "source": [
    "그림 1-10: 군집"
   ]
  },
  {
   "cell_type": "markdown",
   "id": "275bc32e",
   "metadata": {},
   "source": [
    "#### 차원 축소: 데이터 압축"
   ]
  },
  {
   "cell_type": "markdown",
   "id": "39b3c0a7",
   "metadata": {},
   "source": [
    "비슷한 작업으로는 너무 많은 정보를 잃지 않으면서 데이터를 간소화하려는 <strong>차원 축소</strong><sup>dimensionality reduction</sup>가 있다. 고차원의 데이터를 다루어야 하는 경우는 흔하다. 즉 하나의 관측 샘플에 많은 측정 지표가 있다. 이로 인해 머신러닝 알고리즘의 계산 성능과 저장 공간의 한계에 맞닥뜨릴 수 있다. 비지도 차원 축소는 잡음<sup>noise</sup> 데이터를 제거하기 위해 특성 전처리 단계에서 종종 적용하는 방법이다. 이런 잡음 데이터는 특정 알고리즘의 예측 성능을 감소시킬 수 있다. 차원 축소는 관련 있는 정보를 대부분 유지하면서 더 작은 차원의 부분 공간<sup>subspace</sup><sup id=\"a2\">[2](#p2)</sup>으로 데이터를 압축한다. "
   ]
  },
  {
   "cell_type": "markdown",
   "id": "51267b06",
   "metadata": {},
   "source": [
    "이렇게 하는 한 가지 방법은 상관관계가 있는 여러 특성을 하나로 합치는 것이다. 예를 들어 차의 주행거리는 연식과 강하게 연관되어 있으므로 차원 축소 알고리즘으로 두 특성을 차의 마모 정도를 나타내는 하나의 특성으로 합칠 수 있다. 이를 <strong>특성 추출</strong><sup>feature extraction</sup>이라고 한다."
   ]
  },
  {
   "cell_type": "markdown",
   "id": "b66b957a",
   "metadata": {},
   "source": [
    "<strong>시각화</strong><sup>visualization</sup> 알고리즘도 비지도 학습 알고리즘의 좋은 예이다. 레이블이 없는 대규모의 고차원 특성을 1차원, 2차원 또는 3차원 특성 공간으로 투영하여 도식화가 가능한 3D나 2D 산점도<sup>scatterplot</sup>나 히스토그램<sup>histogram</sup>으로 시각화한다(그림 1-11). 이런 알고리즘은 가능한 한 구조를 그대로 유지하려 하므로(예를 들어 입력 공간에서 떨어져 있던 클러스터는 시각화된 그래프에서 겹쳐지지 않게 유지된다) 데이터가 어떻게 조직되어 있는지 이해할 수 있고 예상하지 못한 패턴을 발견할 수도 있다."
   ]
  },
  {
   "cell_type": "markdown",
   "id": "4a2fc238",
   "metadata": {},
   "source": [
    "그림 1-11: 의미 있는 군집을 강조한 t-SNE 시각화의 예"
   ]
  },
  {
   "cell_type": "markdown",
   "id": "c0ad39b7",
   "metadata": {},
   "source": [
    "<strong>TIP</strong> (지도 학습 알고리즘 같은) 머신러닝 알고리즘에 데이터를 주입하기 전에 차원 축소 알고리즘을 사용하여 훈련 데이터의 차원을 줄이는 것이 유용할 때가 많다. 실행 속도가 훨씬 빨라지고 디스크와 메모리를 차지하는 공간도 줄고 경우에 따라 성능이 좋아지기도 한다."
   ]
  },
  {
   "cell_type": "markdown",
   "id": "8ae5fb6a",
   "metadata": {},
   "source": [
    "#### 이상치와 특이치 탐지"
   ]
  },
  {
   "cell_type": "markdown",
   "id": "17bcbbaf",
   "metadata": {},
   "source": [
    "또 하나의 중요한 비지도 학습은 <strong>이상치 탐지</strong><sup>outlier detection</sup>이다. 예를 들어 부정 거래를 막기 위해 이상한 신용카드 거래를 감지하고, 제조 결함을 잡아내고, 학습 알고리즘에 주입하기 전에 데이터셋에서 이상한 값을 자동으로 제거하는 것 등이다. 시스템은 훈련하는 동안 대부분 정상 샘플을 만나 이를 인식하도록 훈련된다. 그다음 새로운 샘플을 보고 정상 데이터인지 혹은 이상치인지 판단한다(그림 1-12). 매우 비슷한 작업으로 <strong>특이치 탐지</strong><sup>novelty detection</sup>가 있다. 훈련 세트에 있는 모든 샘플과 달라 보이는 새로운 샘플을 탐지하는 것이 목적이다. 알고리즘으로 감지하고 싶은 모든 샘플을 제거한 매우 '깨끗한' 훈련 세트가 필요하다. 예를 들어 강아지 사진 수천 장이 있고 그중에 1%가 치와와 사진이라면 특이치 탐지 알고리즘이 치와와 사진을 새로운 특이한 것으로 처리하지 못한다. 반면 이상치 탐지 알고리즘은 이 강아지 사진을 매우 드물고 다른 강아지와 다르다고 인식하여 이상치로 분류할 것이다."
   ]
  },
  {
   "cell_type": "markdown",
   "id": "a8504877",
   "metadata": {},
   "source": [
    "그림 1-12: 이상치 탐지"
   ]
  },
  {
   "cell_type": "markdown",
   "id": "d41f9a46",
   "metadata": {},
   "source": [
    "#### 연관 규칙 학습"
   ]
  },
  {
   "cell_type": "markdown",
   "id": "a1c6e5c2",
   "metadata": {},
   "source": [
    "널리 사용되는 또 다른 비지도 학습은 대량의 데이터에서 특성 간의 흥미로운 관계를 찾는 <strong>연관 규칙 학습</strong><sup>association rule learning</sup>이다. 예를 들어 여러분이 슈퍼마켓을 운영한다고 가정했을 때 판매 기록에 연관 규칙을 적용하면 바비큐 소스와 감자를 구매한 사람이 스테이크도 구매하는 경향이 있다는 것을 찾을지도 모른다. 그렇다면 아마 이 상품들을 서로 가까이 진열하고 싶을 것이다."
   ]
  },
  {
   "cell_type": "markdown",
   "id": "b4795fea",
   "metadata": {},
   "source": [
    "다음은 가장 중요한 비지도 학습 알고리즘이다."
   ]
  },
  {
   "cell_type": "markdown",
   "id": "71c4ab8f",
   "metadata": {},
   "source": [
    "<ul>\n",
    "    <li>군집<sup>clustering</sup></li>\n",
    "        <ul>\n",
    "            <li>k-평균<sup>k-means</sup></li>\n",
    "            <li>DBSCAN</li>\n",
    "            <li>계층 군집 분석<sup>hierarchical cluster analysis</sup>(HCA)</li>\n",
    "            <li>이상치 탐지<sup>outlier detection</sup>와 특이치 탐지<sup>novelty detection</sup></li>\n",
    "            <li>원-클래스<sup>one-class SVM</sup></li>\n",
    "            <li>아이솔레이션 포레스트<sup>isolation forest</sup></li>\n",
    "        </ul>\n",
    "    <li>시각화<sup>visualization</sup>와 차원 축소<sup>dimensionality reduction</sup></li>\n",
    "        <ul>\n",
    "            <li>주성분 분석<sup>principal component analysis</sup>(PCA)</li>\n",
    "            <li>커널<sup>kernel</sup>PCA</li>\n",
    "            <li>지역적 선형 임베딩<sup>locally-linear embedding</sup>(LLE)</li>\n",
    "            <li>t-SNE<sup>t-distributed stochastic neighbor embedding</sup></li>\n",
    "        </ul>\n",
    "    <li>연관 규칙 학습<sup>association rule learning</sup></li>\n",
    "        <ul>\n",
    "            <li>어프라이어리<sup>Apriori</sup></li>\n",
    "            <li>이클렛<sup>Eclat</sup></li>\n",
    "        </ul>\n",
    "</ul>"
   ]
  },
  {
   "cell_type": "markdown",
   "id": "4d2cf697",
   "metadata": {},
   "source": [
    "비지도 학습의 예는 다음과 같다."
   ]
  },
  {
   "cell_type": "markdown",
   "id": "4f1dfeb4",
   "metadata": {},
   "source": [
    "<strong>1. 블로그 글의 주제 구분</strong><br>\n",
    "많은 양의 텍스트 데이터를 요약하고 그 안에 담긴 핵심 주제를 찾고자 할 수 있다. 사전에 어떤 주제인지 알지 못하고 얼마나 많은 주제가 있는지도 모른다. 그러므로 출력 값을 준비할 수 없다.<br><br>\n",
    "\n",
    "<strong>2. 고객들을 취향이 비슷한 그룹으로 묶기</strong><br>\n",
    "고객 데이터를 이용해서 어떤 고객들의 취향이 비슷한지 알고 싶거나 비슷한 취향의 고객을 그룹으로 묶고 싶을 것이다. 쇼핑 사이트라면 부모, 독서광, 게이머 같은 그룹이 있을 수 있다. 어떤 그룹이 있는지 미리 알 수 없고 얼마나 많은 그룹이 있는지도 모르니 출력을 가지고 있지 않은 셈이다.<br><br>\n",
    "\n",
    "<strong>3. 비정상적인 웹사이트 접근 탐지</strong><br>\n",
    "일상적이지 않은 접근 패턴을 찾으면 부정행위나 버그를 구별하는 데 도움이 된다. 각각의 비정상 패턴은 서로 많이 다를 수 있고 이미 가지고 있는 비정상 데이터도 없을 수 있다. 이 경우 단지 웹 트래픽만 관찰할 수 있고 어떤 것이 정상이고 비정상인지 알지 못하므로 비지도 학습 문제다."
   ]
  },
  {
   "cell_type": "markdown",
   "id": "d78436de",
   "metadata": {},
   "source": [
    "### 준지도 학습"
   ]
  },
  {
   "cell_type": "markdown",
   "id": "bf5fc0f5",
   "metadata": {},
   "source": [
    "데이터에 레이블을 다는 것은 일반적으로 시간과 비용이 많이 들기 때문에 레이블이 없는 샘플이 많고 레이블된 샘플은 적은 경우가 많다. 어떤 알고리즘은 레이블이 일부만 있는 데이터를 다룰 수 있다. 이를 <strong>준지도 학습</strong><sup>semisupervised learning</sup>이라고 한다(그림 1-13)."
   ]
  },
  {
   "cell_type": "markdown",
   "id": "ee89368c",
   "metadata": {},
   "source": [
    "구글 포토 호스팅 서비스가 좋은 예다. 이 서비스에 가족사진을 모두 올리면 사람 A는 사진 1, 5, 11에 있고, 사람 B는 사진 2, 5, 7에 있다고 자동으로 인식한다. 이는 비지도 학습(군집)이다. 이제 시스템에 필요한 것은 이 사람들이 누구인가 하는 정보이다. 사람마다 레이블을 하나만 추가하면<sup id=\"a3\">[3](#p3)</sup> 사진에 있는 모든 사람의 이름을 알 수 있고, 편리하게 사진을 찾을 수 있다."
   ]
  },
  {
   "cell_type": "markdown",
   "id": "cfbcdf9f",
   "metadata": {},
   "source": [
    "대부분의 준지도 학습 알고리즘은 지도 학습과 비지도 학습의 조합으로 이루어져 있다. 예를 들어 <strong>심층 신뢰 신경망</strong><sup>deep belief network</sup>(DBN)은 여러 겹으로 쌓은 <strong>제한된 볼츠만 머신</strong><sup>restricted Boltzmann machine</sup>(RBM)이라 불리는 비지도 학습에 기초한다. RBM이 비지도 학습 방식으로 순차적으로 훈련된 다음 전체 시스템이 지도 학습 방식으로 세밀하게 조정된다."
   ]
  },
  {
   "cell_type": "markdown",
   "id": "f8082055",
   "metadata": {},
   "source": [
    "그림 1-13: 두 개의 클래스(삼각형과 사각형)를 사용한 준지도 학습: 새로운 샘플(곱셈 기호)이 레이블이 있는 사각형 클래스에 더 가깝지만 레이블이 없는 샘플(원)이 이 샘플을 삼각형 클래스로 분류하는 데 도움을 준다."
   ]
  },
  {
   "cell_type": "markdown",
   "id": "20c337d0",
   "metadata": {},
   "source": [
    "### 강화 학습"
   ]
  },
  {
   "cell_type": "markdown",
   "id": "50c1e0e4",
   "metadata": {},
   "source": [
    "<strong>강화 학습</strong><sup>reinforcement learning</sup>은 매우 다른 종류의 알고리즘으로 <strong>순차적인 의사 결정 문제</strong><sup>sequential decision problem</sup>를 다룬다. 즉, 현재의 의사 결정이 미래에 영향을 미칠 때 목표를 달성하기 위한 순차적인 의사 결정 방법을 학습한다. 이는 행동 심리학의 '보상과 강화가 행동의 형성 과정에 큰 영향을 미친다'는 행동강화 이론을 토대로 보상을 최대화하는 행동을 선택하도록 학습하는 방식이다."
   ]
  },
  {
   "cell_type": "markdown",
   "id": "4672ac12",
   "metadata": {},
   "source": [
    "여기서는 학습하는 시스템을 <strong>에이전트</strong>라고 부르며 환경<sup>environment</sup>을 관찰해서 행동<sup>action</sup>을 실행하고 그 결과로 <strong>보상</strong><sup>reward</sup>(또는 [그림 1-14]처럼 부정적인 보상에 해당하는 <strong>벌점</strong><sup>penalty</sup>)을 받는다. 강화 학습의 이런 피드백은 정답 레이블이나 값이 아니다. 보상 함수로 얼마나 행동이 좋은지를 측정한 값이다.\n",
    "시간이 지나면서 에이전트는 환경과 상호 작용하며 탐험적인 시행착오<sup>trial and error</sup> 방식이나 신중하게 세운 계획을 사용한다. 이 과정에서 가장 큰 보상을 얻기 위해 <strong>정책</strong><sup>policy</sup>이라고 부르는 최상의 전략을 스스로 학습한다. 이렇게 학습한 정책은 주어진 상황에서 에이전트가 어떤 행동을 선택해야 할지 정의한다."
   ]
  },
  {
   "cell_type": "markdown",
   "id": "f128c29c",
   "metadata": {},
   "source": [
    "그림 1-14: 강화 학습"
   ]
  },
  {
   "cell_type": "markdown",
   "id": "e6b311b6",
   "metadata": {},
   "source": [
    "에이전트를 \"고양이\", 환경을 \"자동으로 먹이 주는 기계\"로 예를 들어보자. \"고양이\"는 \"자동으로 사료 주는 기계\"에서 사료 냄새가 난다는 것을 발견한다. 따라서 내부에 사료가 있다는 것은 알지만 어떻게 해야 사료를 먹을 수 있는지는 모른다. 그래서 고양이는 기계 주변을 배회하고, 몸으로 비비고, 손으로 쳐보기도 한다. 그렇게 여러 가지 행동을 하다 보니 스위치가 눌려 사료가 조금 나온다. 고양이는 행동에 의해 사료라는 보상을 얻게 된 것이다. 고양이는 어떤 상황에 사료가 나오는지 계속 반복해서 테스트해보고, 최종적으로 붉은색 버튼을 눌렀을 때 사료가 나온다는 것을 깨닫게 된다. 붉은색 버튼을 누르면 먹이가 나오는 것을 학습한 것이다. 이후에는 배가 고플 때마다 버튼을 눌러 먹이를 먹을 수 있을 것이다. 고양이가 최선의 행동을 스스로 학습한 것이다. 이러한 것을 컴퓨터로 구현하는 것이 강화 학습이다."
   ]
  },
  {
   "cell_type": "markdown",
   "id": "33d60a34",
   "metadata": {},
   "source": [
    "강화 학습에는 여러 하위 분류가 있다. 일반적인 구조는 강화 학습 에이전트가 환경과 상호 작용하여 보상을 최대화하는 것이다. 각 상태는 양의 보상이나 음의 보상과 연관된다. 보상은 체스 게임의 승리나 패배처럼 전체 목표를 달성하는 것으로 정의할 수 있다. 예를 들어 체스에서 기물의 이동으로 나타난 결과는 각기 다른 환경 상태로 생각할 수 있다. 체스판의 특정 위치에 도달하는 것이 긍정적인 이벤트와 연관될 수 있다. 예를 들어 상대 체스 기물을 잡거나 퀸을 위협하는 것이다. 반면 어떤 위치는 부정적인 이벤트와 연관된다. 예를 들어 다음 차례에 상대에게 기물을 잃게 되는 경우다. 매번 차례가 돌아올 때마다 체스 기물을 잃지는 않는다. 강화 학습은 즉시 또는 지연된 피드백을 기초로 하여 보상을 최대화하는 일련의 단계를 학습한다."
   ]
  },
  {
   "cell_type": "markdown",
   "id": "aae12476",
   "metadata": {},
   "source": [
    "## 배치 학습과 온라인 학습"
   ]
  },
  {
   "cell_type": "markdown",
   "id": "7e826d77",
   "metadata": {},
   "source": [
    "머신러닝 시스템을 분류하는 데 사용하는 다른 기준은 입력 데이터의 스트림<sup>stream</sup>으로부터 점진적으로 학습할 수 있는지 여부이다."
   ]
  },
  {
   "cell_type": "markdown",
   "id": "dd847c40",
   "metadata": {},
   "source": [
    "### 배치 학습"
   ]
  },
  {
   "cell_type": "markdown",
   "id": "62b6a76d",
   "metadata": {},
   "source": [
    "<strong>배치 학습</strong><sup>batch learning</sup>에서는 시스템이 점진적으로 학습할 수 없다. 가용한 데이터를 모두 사용해 훈련시켜야 한다. 일반적으로 이 방식은 시간과 자원을 많이 소모하므로 보통 오프라인에서 수행된다. 먼저 시스템을 훈련시키고 그런 다음 제품 시스템에 적용하면 더 이상의 학습 없이 실행된다. 즉, 학습한 것을 단지 적용만 한다. 이를 <strong>오프라인 학습</strong><sup>offline learning</sup>이라고 한다."
   ]
  },
  {
   "cell_type": "markdown",
   "id": "7a6697aa",
   "metadata": {},
   "source": [
    "배치 학습 시스템이 (새로운 종류의 스팸 같은) 새로운 데이터에 대해 학습하려면 (새로운 데이터뿐만 아니라 이전 데이터도 포함한) 전체 데이터를 사용하여 시스템의 새로운 버전을 처음부터 다시 훈련해야 한다. 그런 다음 이전 시스템을 중지시키고 학습이 완료된 새 시스템으로 교체한다."
   ]
  },
  {
   "cell_type": "markdown",
   "id": "3a7a5a4a",
   "metadata": {},
   "source": [
    "다행히 ([그림 1-3]에 보았듯이) 머신러닝 시스템을 훈련, 평가, 론칭하는 전체 과정이 쉽게 자동화될 수 있어서 배치 학습 시스템도 변화에 적응할 수 있다. 데이터를 업데이트하고 시스템의 새 버전을 필요한 만큼 자주 훈련시키면 된다."
   ]
  },
  {
   "cell_type": "markdown",
   "id": "5043e6e7",
   "metadata": {},
   "source": [
    "이런 방식이 간단하고 잘 작동하지만, 전체 데이터셋을 사용해 훈련하는 데 몇 시간이 소요될 수 있다. 보통 24시간마다 또는 매주 시스템을 훈련시킨다. 시스템이 빠르게 변하는 데이터에 적응해야 한다면 (예를 들면 주식가격) 더 능동적인 방법이 필요하다."
   ]
  },
  {
   "cell_type": "markdown",
   "id": "3710f0e8",
   "metadata": {},
   "source": [
    "또한 전체 데이터셋을 사용해 훈련한다면 많은 컴퓨팅 자원이 필요하다(CPU, 메모리 공간, 디스크 공간, 디스크 IO, 네트워크 IO 등). 대량의 데이터를 가지고 있는데 매일 처음부터 새로 훈련시키도록 시스템을 자동화한다면 큰 비용이 발생할 것이다. 데이터 양이 아주 많으면 배치 학습 알고리즘을 사용하는 게 불가능할 수도 있다."
   ]
  },
  {
   "cell_type": "markdown",
   "id": "c2a55fa3",
   "metadata": {},
   "source": [
    "마지막으로, 자원이 제한된 시스템(예를 들면 스마트폰 또는 화성 탐사 로버<sup>rover</sup>)이 스스로 학습해야 할 때 많은 양의 훈련 데이터를 나르고 학습을 위해 매일 몇 시간씩 많은 자원을 사용하면 심각한 문제를 일으킨다."
   ]
  },
  {
   "cell_type": "markdown",
   "id": "4c6333d9",
   "metadata": {},
   "source": [
    "이런 경우에는 점진적으로 학습할 수 있는 알고리즘을 사용하는 편이 낫다."
   ]
  },
  {
   "cell_type": "markdown",
   "id": "9e007f33",
   "metadata": {},
   "source": [
    "### 온라인 학습"
   ]
  },
  {
   "cell_type": "markdown",
   "id": "0c101825",
   "metadata": {},
   "source": [
    "<strong>온라인 학습</strong><sup>online learning</sup>에서는 데이터를 순차적으로 한 개씩 또는 <strong>미니배치</strong><sup>mini-batch</sup>라 부르는 작은 묶음 단위로 주입하여 시스템을 훈련시킨다. 매 학습 단계가 빠르고 비용이 적게 들어 시스템은 데이터가 도착하는 대로 즉시 학습할 수 있다(그림 1-15)."
   ]
  },
  {
   "cell_type": "markdown",
   "id": "c52dfaa2",
   "metadata": {},
   "source": [
    "그림 1-15: 온라인 학습에서 모델을 훈련하고 제품에 론칭한 뒤에도 새로운 데이터가 들어오면 계속 학습한다."
   ]
  },
  {
   "cell_type": "markdown",
   "id": "0cf51c94",
   "metadata": {},
   "source": [
    "온라인 학습은 연속적으로 데이터를 받고 (예를 들면 주식가격) 빠른 변화에 스스로 적응해야 하는 시스템에 적합하다. 컴퓨팅 자원이 제한된 경우에도 좋은 선택이다. 온라인 학습 시스템이 새로운 데이터 샘플을 학습하면 학습이 끝난 데이터는 더이상 필요하지 않으므로 버리면 된다(이전 상태로 되돌릴 수 있도록 데이터를 재사용하기 위해 보관할 필요가 없다면). 그러면 많은 공간을 절약할 수 있다."
   ]
  },
  {
   "cell_type": "markdown",
   "id": "026be6e3",
   "metadata": {},
   "source": [
    "컴퓨터 한 대의 메인 메모리에 들어갈 수 없는 아주 큰 데이터셋을 학습하는 시스템에도 온라인 학습 알고리즘을 사용할 수 있다(이를 <strong>외부 메모리</strong><sup>out-of-core</sup> 학습이라고 한다). 알고리즘이 데이터 일부를 읽어 들이고 훈련 단계를 수행한다. 전체 데이터가 모두 적용될 때까지 이 과정을 반복한다(그림 1-16)."
   ]
  },
  {
   "cell_type": "markdown",
   "id": "32de1b95",
   "metadata": {},
   "source": [
    "<div style=\"background-color:#D3D3D3; padding:10px;\">\n",
    "    <span style=\"color: red\"><strong>CAUTION_</strong></span> 외부 메모리 학습은 오프라인으로 실행된다(즉, 실시간 시스템에서 수행되는 것이 아니다). 그래서 <strong>온라인 학습</strong>이란 이름이 혼란을 줄 수 있다. <strong>점진적 학습</strong><sup>incremental learning</sup>이라고 생각하자.</div>"
   ]
  },
  {
   "cell_type": "markdown",
   "id": "322cf300",
   "metadata": {},
   "source": [
    "그림 1-15: 온라인 학습을 사용한 대량의 데이터 처리"
   ]
  },
  {
   "cell_type": "markdown",
   "id": "c38188d6",
   "metadata": {},
   "source": [
    "온라인 학습 시스템에서 중요한 파라미터 하나는 변화하는 데이터에 얼마나 빠르게 적응할 것인지다. 이를 <strong>학습률</strong><sup>learning rate</sup>이라고 한다. 학습률을 높게 하면 시스템이 데이터에 빠르게 적응하지만 예전 데이터를 금방 잊어버릴 것이다(최근에 나타난 스팸의 종류만 걸러낼 수 있는 스팸 필터를 원할 리는 없지 않은가?). 반대로 학습률이 낮으면 시스템의 관성이 더 커져서 더 느리게 학습된다. 하지만 새로운 데이터에 있는 잡음이나 대표성 없는 데이터 포인트에 덜 민감해진다."
   ]
  },
  {
   "cell_type": "markdown",
   "id": "9ffb7e22",
   "metadata": {},
   "source": [
    "온라인 학습에서 가장 큰 문제점은 시스템에 나쁜 데이터가 주입되었을 때 시스템 성능이 점진적으로 감소한다는 점이다. 운영 중인 시스템이라면 고객이 이를 눈치챌지 모른다. 예를 들어 로봇의 오작동 센서에서부터, 혹은 검색 엔진을 속여 검색 결과 상위에 노출시키려는 누군가로부터 나쁜 데이터가 올 수 있다. 이런 위험을 줄이려면 시스템을 면밀히 모니터링하고 성능 감소가 감지되면 즉각 학습을 중지시켜야 한다(가능하면 이전 운영 상태로 되돌린다). 입력 데이터를 모니터링해서 비정상 데이터를 잡아낼 수도 있다(예를 들면 이상치 탐지 알고리즘을 사용해서)."
   ]
  },
  {
   "cell_type": "markdown",
   "id": "831aabce",
   "metadata": {},
   "source": [
    "## 사례 기반 학습과 모델 기반 학습"
   ]
  },
  {
   "cell_type": "markdown",
   "id": "24f4b89d",
   "metadata": {},
   "source": [
    "머신러닝 시스템은 어떻게 <strong>일반화</strong><sup>generalize</sup>되는가에 따라 분류할 수도 있다. 대부분의 머신러닝 작업은 예측을 만드는 것이다. 이 말은 주어진 훈련 데이터로 학습하고 훈련 데이터에서는 본 적 없는 새로운 데이터에서 좋은 예측을 만들어야 (일반화되어야) 한다는 뜻이다. 훈련 데이터에서 높은 성능을 내는 것도 좋지만 그게 전부는 아니다. 진짜 목표는 새로운 샘플에 잘 작동하는 모델이다."
   ]
  },
  {
   "cell_type": "markdown",
   "id": "ef26e6e6",
   "metadata": {},
   "source": [
    "일반화를 위한 두 가지 접근법은 사례 기반 학습과 모델 기반 학습이다."
   ]
  },
  {
   "cell_type": "markdown",
   "id": "f9eb3fc8",
   "metadata": {},
   "source": [
    "### 사례 기반 학습"
   ]
  },
  {
   "cell_type": "markdown",
   "id": "20229be9",
   "metadata": {},
   "source": [
    "아마도 가장 간단한 형태의 학습은 단순히 기억하는 것이다. 스팸 필터를 이러한 방식으로 만들면 사용자가 스팸이라고 지정한 메일과 동일한 모든 메일을 스팸으로 분류한다. 최악의 방법은 아니지만 그렇다고 최선도 아니다."
   ]
  },
  {
   "cell_type": "markdown",
   "id": "c26c3214",
   "metadata": {},
   "source": [
    "스팸 메일과 동일한 메일을 스팸이라고 지정하는 대신 스팸 메일과 매우 유사한 메일을 구분하도록 스팸 필터를 프로그래밍할 수 있다. 이렇게 하려면 두 메일 사이의 <strong>유사도</strong><sup>similarity</sup>를 <strong>측정</strong><sup>measure</sup>해야 한다. 두 메일 사이의 매우 간단한 유사도 측정 방법은 공통으로 포함된 단어의 수를 세는 것이다. 스팸 메일과 공통으로 가지고 있는 단어가 많으면 스팸으로 분류한다."
   ]
  },
  {
   "cell_type": "markdown",
   "id": "8962f96a",
   "metadata": {},
   "source": [
    "이를 <strong>사례 기반 학습</strong><sup>instance-based learning</sup>이라고 한다. 시스템이 훈련 샘플을 기억함으로써 학습한다. 그리고 유사도 측정을 사용해 새로운 데이터와 학습한 샘플을 (또는 학습한 샘플 중 일부를) 비교하는 식으로 일반화한다. 예를 들어 [그림 1-16]에서 새로운 샘플은 가장 비슷한 샘플 중 다수가 삼각형이므로 삼각형 클래스로 분류될 것이다."
   ]
  },
  {
   "cell_type": "markdown",
   "id": "1cbbb468",
   "metadata": {},
   "source": [
    "그림 1-16: 사례 기반 학습"
   ]
  },
  {
   "cell_type": "markdown",
   "id": "a0c2bcbc",
   "metadata": {},
   "source": [
    "### 모델 기반 학습"
   ]
  },
  {
   "cell_type": "markdown",
   "id": "e0c6cdc7",
   "metadata": {},
   "source": [
    "샘플로부터 일반화시키는 다른 방법은 이 샘플들의 모델을 만들어 <strong>예측</strong><sup>prediction</sup>에 사용하는 것이다. 이를 <strong>모델 기반 학습</strong><sup>model-based learning</sup>이라고 한다(그림 1-17)."
   ]
  },
  {
   "cell_type": "markdown",
   "id": "d9960100",
   "metadata": {},
   "source": [
    "그림 1-17: 모델 기반 학습"
   ]
  },
  {
   "cell_type": "markdown",
   "id": "b13ce222",
   "metadata": {},
   "source": [
    "예를 들어 돈이 사람을 행복하게 만드는지 알아본다고 가정하자. OECD 웹사이트(<a href='https://homl.info/4' target='blank'>https://homl.info/4</a>)에서 <strong>더 나은 삶의 지표</strong><sup>Better Life Index</sup> 데이터와 IMF 웹사이트(<a href='https://homl.info/5' target='blank'>https://homl.info/5</a>)에서 1인당 GDP 통계를 내려받는다. 두 데이터 테이블을 합치고 1인당 GDP로 정렬한다. [표 1-1]에 그 일부를 나타냈다."
   ]
  },
  {
   "cell_type": "markdown",
   "id": "046640d5",
   "metadata": {},
   "source": [
    "<strong>표 1-1</strong> 돈이 사람을 행복하게 만드는가?\n",
    "<style type=\"text/css\">\n",
    ".tg  {border-collapse:collapse;border-spacing:0;}\n",
    ".tg td{border-color:black;border-style:solid;border-width:1px;font-family:Arial, sans-serif;font-size:14px;\n",
    "  overflow:hidden;padding:10px 5px;word-break:normal;}\n",
    ".tg th{border-color:black;border-style:solid;border-width:1px;font-family:Arial, sans-serif;font-size:14px;\n",
    "  font-weight:normal;overflow:hidden;padding:10px 5px;word-break:normal;}\n",
    ".tg .tg-blr0{background-color:#32cb00;border-color:#000000;color:#ffffff;font-weight:bold;text-align:left;vertical-align:top}\n",
    ".tg .tg-c3ow{border-color:inherit;text-align:center;vertical-align:top}\n",
    "</style>\n",
    "<table class=\"tg\">\n",
    "<thead>\n",
    "  <tr>\n",
    "    <th class=\"tg-blr0\">국가</th>\n",
    "    <th class=\"tg-blr0\">1인당 GDP(US달러)</th>\n",
    "    <th class=\"tg-blr0\">삶의 만족도</th>\n",
    "  </tr>\n",
    "</thead>\n",
    "<tbody>\n",
    "  <tr>\n",
    "    <td class=\"tg-c3ow\">헝가리</td>\n",
    "    <td class=\"tg-c3ow\">12,240</td>\n",
    "    <td class=\"tg-c3ow\">4.9</td>\n",
    "  </tr>\n",
    "  <tr>\n",
    "    <td class=\"tg-c3ow\">대한민국</td>\n",
    "    <td class=\"tg-c3ow\">27,195</td>\n",
    "    <td class=\"tg-c3ow\">5.8</td>\n",
    "  </tr>\n",
    "  <tr>\n",
    "    <td class=\"tg-c3ow\">프랑스</td>\n",
    "    <td class=\"tg-c3ow\">37,675</td>\n",
    "    <td class=\"tg-c3ow\">6.5</td>\n",
    "  </tr>\n",
    "  <tr>\n",
    "    <td class=\"tg-c3ow\">호주</td>\n",
    "    <td class=\"tg-c3ow\">50,962</td>\n",
    "    <td class=\"tg-c3ow\">7.3</td>\n",
    "  </tr>\n",
    "  <tr>\n",
    "    <td class=\"tg-c3ow\">미국</td>\n",
    "    <td class=\"tg-c3ow\">55,805</td>\n",
    "    <td class=\"tg-c3ow\">7.2</td>\n",
    "  </tr>\n",
    "</tbody>\n",
    "</table>"
   ]
  },
  {
   "cell_type": "markdown",
   "id": "8f6ac256",
   "metadata": {},
   "source": [
    "이 국가들을 그래프에 나타냈다(그림 1-18)."
   ]
  },
  {
   "attachments": {
    "money_happy_scatterplot.png": {
     "image/png": "[encoded data removed]"
    }
   },
   "cell_type": "markdown",
   "id": "b57fdad1",
   "metadata": {},
   "source": [
    "<strong>그림 1-18</strong> 어떤 경향이 보이나요?\n",
    "![money_happy_scatterplot.png](attachment:money_happy_scatterplot.png)"
   ]
  },
  {
   "cell_type": "markdown",
   "id": "a30601b2",
   "metadata": {},
   "source": [
    "여기서 어떤 경향을 발견할 수 있다! 데이터가 <strong>흩어져 있지만</strong>(즉, 어느 정도 무작위성이 있지만) 삶의 만족도는 국가의 1인당 GDP가 증가할수록 거의 선형으로 같이 올라간다. 선형이라는 것은 직선(숫자로 말하는 1차원 방정식)으로 나타낼 수 있는 모양이라는 의미다. 그러므로 1인당 GDP의 선형 함수로 삶의 만족도를 모델링해보겠다. 이 단계를 <strong>모델 선택</strong><sup>model selection</sup>이라고 한다. 1인당 GDP라는 특성 하나를 가진 삶의 만족도에 대한 <strong>선형 모델</strong><sup>linear model</sup>이다(식 1-1)."
   ]
  },
  {
   "cell_type": "markdown",
   "id": "697fde83",
   "metadata": {},
   "source": [
    "<strong>식 1-1</strong> 간단한 선형 모델<br>\n",
    "삶의_만족도 = <i>θ<sub>0</sub></i> + <i>θ<sub>1</sub></i> × 1인당_GDP"
   ]
  },
  {
   "cell_type": "markdown",
   "id": "7d26f7e4",
   "metadata": {},
   "source": [
    "이 모델은 두 개의 <strong>모델 파라미터</strong><sup>model parameter</sup> <i>θ<sub>0</sub></i>과 <i>θ<sub>1</sub></i>을 가진다. 이 모델 파라미터를 조정하여 [그림 1-19]처럼 어떤 선형 함수를 표현하는 모델을 얻을 수 있다."
   ]
  },
  {
   "cell_type": "markdown",
   "id": "7a2848dd",
   "metadata": {},
   "source": [
    "<strong>그림 1-19</strong> 가능한 몇 개의 선형 모델\n",
    "<img src=\"images/fundamentals/tweaking_model_params_plot.png\" alt=\"간단한 몇 개의 선형 모델\" class=\"center\">"
   ]
  },
  {
   "cell_type": "markdown",
   "id": "b561e404",
   "metadata": {},
   "source": [
    "모델을 사용하기 전에 <i>θ<sub>0</sub></i>과 <i>θ<sub>1</sub></i>을 정의해야 한다. 모델이 최상의 성능을 내도록 하는 값을 어떻게 알 수 있을까? 이 질문에 대답하려면 평가 지표를 정해야 한다. 모델이 얼마나 <strong>좋은지</strong> 측정하는 <strong>효용 함수</strong><sup>utility function</sup>(또는 <strong>적합도 함수</strong><sup>fitness function</sup>)를 정의하거나 얼마나 <strong>나쁜지</strong> 측정하는 <strong>비용 함수</strong><sup>cost function</sup>를 정의할 수 있다. 선형 회귀에서는 보통 선형 모델의 예측과 훈련 데이터 사이의 거리를 재는 비용 함수를 사용한다. 이 거리를 최소화하는 것이 목표이다."
   ]
  },
  {
   "cell_type": "markdown",
   "id": "4af70405",
   "metadata": {},
   "source": [
    "여기에서 선형 회귀<sup>linear regression</sup> 알고리즘이 등장한다. 알고리즘에 훈련 데이터를 공급하면 데이터에 가장 잘 맞는 선형 모델의 파라미터를 찾는다. 이를 모델을 <strong>훈련</strong><sup>training</sup>시킨다고 말한다. 이 경우에는 알고리즘이 최적의 파라미터로 <i>θ<sub>0</sub></i> = 4.85와 <i>θ<sub>1</sub></i> = 4.91 × 10<sup>-5</sup>을 찾았다."
   ]
  },
  {
   "cell_type": "markdown",
   "id": "b6ff4dee",
   "metadata": {},
   "source": [
    "<div style=\"background-color:#D3D3D3; padding:10px;\">\n",
    "    <span style=\"color: red\"><strong>CAUTION_</strong></span> 조금 혼란스러울 수 있지만 '모델'이란 단어는 <strong>모델의 종류</strong>(예를 들면 선형 회귀)나 <strong>완전히 정의된 모델 구조</strong>(예를 들면 하나의 입력과 하나의 출력을 가진 선형 회귀)나 예측에 사용하기 위해 준비된 <strong>훈련된 최종 모델</strong>(예를 들면 <i>θ<sub>0</sub></i> = 4.85와 <i>θ<sub>1</sub></i> = 4.91 × 10<sup>-5</sup>인 입력 하나와 출력 하나를 가진 선형 회귀)을 의미할 수 있다. 모델 선택은 모델의 종류나 완전히 정의된 모델 구조를 선택하는 것이다. 모델 훈련은 훈련 데이터에 가장 잘 맞는 (그리고 새로운 데이터에 좋은 예측을 만드는) 모델 파라미터를 찾기 위해 알고리즘을 실행하는 것을 의미한다.</div>"
   ]
  },
  {
   "cell_type": "markdown",
   "id": "4d688c3e",
   "metadata": {},
   "source": [
    "[그림 1-20]에서 볼 수 있듯이 모델이 훈련 데이터에 (선형 모델로서) 가능한 한 가깝게 맞춰졌다."
   ]
  },
  {
   "cell_type": "markdown",
   "id": "2250fba4",
   "metadata": {},
   "source": [
    "<strong>그림 1-20</strong> 훈련 데이터에 최적인 선형 모델\n",
    "<img src=\"images/fundamentals/best_fit_model_plot.png\" alt=\"훈련 데이터에 최적인 선형 모델\" class=\"center\">"
   ]
  },
  {
   "cell_type": "markdown",
   "id": "201667a4",
   "metadata": {},
   "source": [
    "이제 이 모델을 사용해 예측을 할 수 있다. 예를 들어 OECD 데이터에 없는 키프로스<sup>Cyprus</sup> 사람들이 얼마나 행복한지 알아보려면 이 모델을 사용해 예측할 수 있다. 키프로스의 1인당 GDP를 보면 22,587달러이므로 이를 모델에 적용해 4.85 ＋ 22,587 × 4.91 × 10<sup>-5</sup> ＝ 5.96과 같이 삶의 만족도를 계산한다."
   ]
  },
  {
   "cell_type": "markdown",
   "id": "f37a7e1f",
   "metadata": {},
   "source": [
    "[예제 1-1]의 파이썬 코드는 데이터를 로드하고 준비한 다음 산점도<sup>scatterplot</sup>를 그려 시각화하고 선형 모델을 훈련하여 예측하는 과정을 보여준다."
   ]
  },
  {
   "cell_type": "code",
   "execution_count": 8,
   "id": "e643aa70",
   "metadata": {
    "ExecuteTime": {
     "end_time": "2022-11-06T12:18:14.749523Z",
     "start_time": "2022-11-06T12:18:13.472883Z"
    },
    "scrolled": true
   },
   "outputs": [
    {
     "data": {
      "image/png": "[encoded data removed]",
      "text/plain": [
       "<Figure size 432x288 with 1 Axes>"
      ]
     },
     "metadata": {
      "needs_background": "light"
     },
     "output_type": "display_data"
    },
    {
     "name": "stdout",
     "output_type": "stream",
     "text": [
      "[[5.96242338]]\n"
     ]
    }
   ],
   "source": [
    "# 예제 1-1 사이킷런을 이용한 선형 모델의 훈련과 실행\n",
    "import matplotlib.pyplot as plt\n",
    "import numpy as np\n",
    "import pandas as pd\n",
    "import sklearn.linear_model\n",
    "\n",
    "# 데이터 적재\n",
    "oecd_bli = pd.read_csv(datapath + \"oecd_bli_2015.csv\", thousands=',')\n",
    "gdp_per_capita = pd.read_csv(datapath + \"gdp_per_capita.csv\", thousands=',', delimiter='\\t',\n",
    "                             encoding='latin1', na_values=\"n/a\")\n",
    "\n",
    "# 데이터 준비\n",
    "country_stats = prepare_country_stats(oecd_bli, gdp_per_capita)\n",
    "X = np.c_[country_stats[\"GDP per capita\"]]\n",
    "y = np.c_[country_stats[\"Life satisfaction\"]]\n",
    "\n",
    "# 데이터 시각화\n",
    "country_stats.plot(kind='scatter', x=\"GDP per capita\", y='Life satisfaction')\n",
    "plt.show()\n",
    "\n",
    "# 선형 모델 선택\n",
    "model = sklearn.linear_model.LinearRegression()\n",
    "\n",
    "# 모델 훈련\n",
    "model.fit(X, y)\n",
    "\n",
    "# 키프로스에 대한 예측\n",
    "X_new = [[22587]]  # 키프로스 1인당 GDP\n",
    "print(model.predict(X_new))"
   ]
  },
  {
   "cell_type": "markdown",
   "id": "c252bfee",
   "metadata": {},
   "source": [
    "<div style=\"background-color:#D3D3D3; padding:10px;\">\n",
    "    <span style=\"color: green\"><strong>NOTE_</strong></span> 사례 기반의 학습 알고리즘을 사용한다면 먼저 1인당 GDP가 키프로스와 가장 가까운 슬로베니아<sup>Slovenia</sup>(20,732달러)를 찾는다. OECD 데이터에 있는 슬로베니아의 삶의 만족도가 5.7이므로 키프로스의 삶의 만족도를 5.7로 예측한다. 조금 더 확대해서 그다음으로 가까운 두 나라를 더 고려하면 삶의 만족도가 5.1과 6.7인 포르투갈<sup>Portugal</sup>과 스페인<sup>Spain</sup>이 있다. 이 세 값을 평균하면 모델 기반의 예측과 매우 비슷한 5.77이 된다. 이 간단한 알고리즘을 <storng>k-최근접 이웃</strong><sup>k-nearest neighbors</sup> 회귀라고 한다(여기서는 k=3이다).<br><br>\n",
    "이전 코드에서 선형 회귀 모델을 k-최근접 이웃 회귀로 바꾸려면 간단히 아래 두 줄을\n",
    "<pre>\n",
    "import sklearn.linear_model\n",
    "model = sklearn.linear_model.LinearRegression()\n",
    "</pre>\n",
    "    다음과 같이 바꾸면 된다.\n",
    "<pre>\n",
    "import sklearn.neighbors\n",
    "model = sklearn.neighbors.KNeighborsRegressor(n_neighbors=3)\n",
    "</pre>\n",
    "    모든 게 다 잘되면 모델은 좋은 예측을 내놓을 것이다. 아니면 더 많은 특성(고용률, 건강, 대기오염 등)을 추가로 사용하거나, 좋은 훈련 데이터를 더 많이 모으거나, 더 강력한 모델(예를 들면 다항 회귀 모델)을 선택해야 할지 모른다.</div>"
   ]
  },
  {
   "cell_type": "markdown",
   "id": "c5121001",
   "metadata": {},
   "source": [
    "# 머신러닝 시스템 구축 로드맵"
   ]
  },
  {
   "cell_type": "markdown",
   "id": "af4c364b",
   "metadata": {},
   "source": [
    "이전 절에서 머신러닝의 기초 개념과 시스템의 종류에 대해 설명했다. 이 절에서는 학습 알고리즘과 함께 머신러닝 시스템의 중요한 다른 부분을 알아보고자 한다. 그림 1-21은 예측 모델링에 머신러닝을 사용하는 전형적인 작업 흐름을 보여 준다."
   ]
  },
  {
   "cell_type": "markdown",
   "id": "fc98891b",
   "metadata": {},
   "source": [
    "<strong>그림 1-21</strong> 머신러닝의 작업 흐름"
   ]
  },
  {
   "cell_type": "markdown",
   "id": "35748cf8",
   "metadata": {},
   "source": [
    "이제 머신러닝 시스템을 구축할 수 있는 로드맵<sup>roadmap</sup>을 이야기해 보자. "
   ]
  },
  {
   "cell_type": "markdown",
   "id": "deed057c",
   "metadata": {},
   "source": [
    "## 문제와 데이터 이해하기"
   ]
  },
  {
   "cell_type": "markdown",
   "id": "761e4ad8",
   "metadata": {},
   "source": [
    "머신러닝 프로세스에서 가장 중요한 과정은 사용할 데이터를 이해하고 그 데이터가 해결해야 할 문제와 어떤 관련이 있는지를 이해하는 일이다. 아무 알고리즘이나 선택해서 데이터를 입력해보는 것은 좋은 방법이 아니다. 데이터셋으로 무엇을 하는 것인지 머신러닝 모델을 만들기 전에 반드시 이해해야 한다. 알고리즘마다 잘 들어맞는 데이터나 문제의 종류가 다르기 때문이다. 머신러닝 솔루션을 만들 동안 다음 질문에 답해보거나 최소한 마음에 새겨둬야 한다.\n",
    "- 어떤 질문에 대한 답을 원하는가? 가지고 있는 데이터가 원하는 답을 줄 수 있는가?\n",
    "- 내 질문을 머신러닝의 문제로 가장 잘 기술하는 방법은 무엇인가?\n",
    "- 문제를 풀기에 충분한 데이터를 모았는가?\n",
    "- 내가 추출한 데이터의 특성은 무엇이며 좋은 예측을 만들어낼 수 있을 것인가?\n",
    "- 머신러닝 애플리케이션의 성과를 어떻게 측정할 수 있는가?\n",
    "- 머신러닝 솔루션이 다른 연구나 제품과 어떻게 협력할 수 있는가?"
   ]
  },
  {
   "cell_type": "markdown",
   "id": "24a59fb5",
   "metadata": {},
   "source": [
    "넓은 시각으로 보면, 머신러닝 알고리즘이나 방법론은 특정 문제를 푸는 전체 과정의 일부일 뿐이다. 항상 머릿속에 전체 시스템에 대한 큰 그림을 담고 있어야 한다. 많은 사람이 복잡한 머신러닝 솔루션을 구축하느라 오랜 시간을 투자하고 나서야 문제를 풀기에 적절한 방법이 아니었음을 깨닫곤 한다."
   ]
  },
  {
   "cell_type": "markdown",
   "id": "13fcc911",
   "metadata": {},
   "source": [
    "머신러닝의 기술적인 측면만을 깊게 파고들다가 궁극적인 목표를 망각하게 되기 쉽다. 앞에서 나열한 질문들에 대해 깊게 다루지는 않겠지만, 머신러닝 모델을 구축하기 시작할 때 직간접적인 가능한 모든 가정들을 세워보라고 강조해본다."
   ]
  },
  {
   "cell_type": "markdown",
   "id": "458f3028",
   "metadata": {},
   "source": [
    "## 전처리: 데이터 형태 갖추기"
   ]
  },
  {
   "cell_type": "markdown",
   "id": "e30332c2",
   "metadata": {},
   "source": [
    "주어진 원본 데이터의 형태와 모습이 학습 알고리즘이 최적의 성능을 내기에 적합한 경우는 매우 드물다. 데이터 전처리는 모든 머신러닝 애플리케이션에서 가장 중요한 단계 중 하나다. 예를 들어 붓꽃 데이터셋을 생각해 보면 원본 데이터는 일련의 꽃 이미지들이고, 여기서 의미 있는 특성을 추출해야 한다. 가령 여기서는 꽃의 색깔, 색조, 채도가 될 수 있고 물론 높이, 꽃의 길이와 너비도 가능하다. 많은 머신러닝 알고리즘에서 최적의 성능을 내려면 선택된 특성이 같은 스케일을 가져야 한다. 특성을 [0, 1] 범위로 변환하거나 평균이 0이고 단위 분산을 가진 표준 정규 분포<sup>standard noraml distribution</sup>로 변환하는 경우가 많다."
   ]
  },
  {
   "cell_type": "markdown",
   "id": "d38567dc",
   "metadata": {},
   "source": [
    "일부 선택된 특성은 매우 상관관계가 높아 어느 정도 중복된 정보를 가질 수 있다. 이때는 차원 축소 기법을 사용하여 특성을 저차원 부분 공간으로 압축한다. 특성 공간의 차원을 축소하면 저장 공간이 덜 필요하고 학습 알고리즘을 더 빨리 실행할 수 있다. 어떤 경우에는 차원 축소가 모델의 예측 성능을 높이기도 한다. 데이터셋에 관련 없는 특성(또는 잡음)이 매우 많을 경우, 즉 신호 대 잡음비<sup>Signal-to-Noise Ratio</sup>(SNR)<sup id=\"a4\">[4](#p4)</sup>가 낮은 경우다."
   ]
  },
  {
   "cell_type": "markdown",
   "id": "a8d05dd2",
   "metadata": {},
   "source": [
    "머신러닝 알고리즘이 훈련 데이터셋에서 잘 작동하고 새로운 데이터에서도 잘 일반화되는지 확인하려면 데이터셋을 랜덤하게 훈련 세트와 테스트 세트로 나누어야 한다. 훈련 세트에서 머신러닝 모델을 훈련하고 최적화한다. 테스트 세트는 별도로 보관하고 최종 모델을 평가하는 맨 마지막에 사용한다."
   ]
  },
  {
   "cell_type": "markdown",
   "id": "d96c4fcc",
   "metadata": {},
   "source": [
    "## 예측 모델 훈련과 선택"
   ]
  },
  {
   "cell_type": "markdown",
   "id": "20ca0dc6",
   "metadata": {},
   "source": [
    "이후 장들에서 보겠지만 여러 머신러닝 알고리즘은 각기 다른 문제를 해결하기 위해 개발했다. 데이비드 월퍼트<sup>Davit Wolpert</sup>의 공짜 점심 없음<sup>No free lunch</sup> 이론의 중요한 핵심 포인트는 아무런 대가도 치르지 않고 학습할 수는 없다는 것이다. 이에 잘 알려진 속담과 연관 지어 생각할 수 있다. \"가진 도구가 망치밖에 없다면 모든 문제가 못으로 보일 것이다.\"(에이브러햄 매슬로<sup>Abraham Maslow</sup>, 1966) 예를 들어 분류 알고리즘은 저마다 태생적인 편향이 있다. 작업에서 아무런 가정도 하지 않는다면 어떤 하나의 분류 모델이 더 우월하다고 말할 수 없다. 현실에서는 가장 좋은 모델을 훈련하고 선택하기 위해 최소한 몇 가지 알고리즘을 비교해야 한다. 여러 모델을 비교하기 전에 먼저 성능을 측정할 지표를 결정해야 한다. 분류에서 널리 사용되는 지표는 정확히 분류된 샘플 비율인 정확도이다."
   ]
  },
  {
   "cell_type": "markdown",
   "id": "5d58f33e",
   "metadata": {},
   "source": [
    "다음 질문이 생길 법하다. 모델 선택에 테스트 세트를 사용하지 않고 최종 모델을 평가하려고 따로 보관한다면, 테스트 세트와 실제 데이터에서 어떤 모델이 잘 동작할지를 어떻게 알 수 있을까? 이 질문에 나온 이슈를 해결하기 위해 다양한 교차 검증 기법을 사용한다. 이 기법은 모델의 일반화 성능을 예측하기 위해 훈련 데이터를 훈련 세트와 검증 세트로 더 나눈다. 또 머신러닝 라이브러리들에서 제공하는 알고리즘의 기본 하이퍼파라미터가 현재 작업에 최적이라고 기대할 수 없기에 모델 성능을 상세하게 조정하기 위해 하이퍼파라미터 최적화 기법을 많이 사용할 것이다. 하이퍼파라미터<sup>hyperparameter</sup>는 데이터에서 학습하는 파라미터가 아니라 모델 성능을 향상하기 위해 사용하는 다이얼로 생각할 수 있다."
   ]
  },
  {
   "cell_type": "markdown",
   "id": "489ecc8c",
   "metadata": {},
   "source": [
    "## 모델을 평가하고 본 적 없는 샘플로 예측"
   ]
  },
  {
   "cell_type": "markdown",
   "id": "555197df",
   "metadata": {},
   "source": [
    "훈련 세트에서 최적의 모델을 선택한 후에는 테스트 세트를 사용하여 이전에 본 적이 없는 데이터에서 얼마나 좋은 성능을 내는지 예측하여 일반화 오차를 예상한다. 이 성능에 만족한다면 이 모델을 사용하여 미래의 새로운 데이터를 예측할 수 있다. 이전에 언급한 특성 스케일 조정과 차원 축소 같은 단계에서 사용한 파라미터(예를 들어 평균, 표준 편차 등)는 훈련 세트만 사용하여 얻은 것임을 주목해야 한다. 나중에 동일한 파라미터를 테스트 세트는 물론 새로운 모든 샘플을 변환하는 데 사용한다. 그렇지 않으면 테스트 세트에서 측정한 성능은 과도하게 낙관적인 결과가 된다.<sup id=\"a5\">[5](#p5)</sup>"
   ]
  },
  {
   "cell_type": "markdown",
   "id": "f4529096",
   "metadata": {},
   "source": [
    "지금까지의 작업을 요약해보자.\n",
    "- 데이터를 분석한다.\n",
    "- 모델을 선택한다.\n",
    "- 훈련 데이터로 모델을 훈련시킨다(즉 학습 알고리즘이 비용 함수를 최소화하는 모델 파라미터를 찾는다).\n",
    "- 마지막으로 새로운 데이터에 모델을 적용해 예측을 하고(이를 <strong>추론</strong><sup>inference</sup>이라고 한다). 이 모델이 잘 일반화되길 기대한다."
   ]
  },
  {
   "cell_type": "markdown",
   "id": "4a178f60",
   "metadata": {},
   "source": [
    "지금까지 많은 부분을 다뤘다. 머신러닝이 무엇인지, 왜 유용한지, 머신러닝 시스템에 가장 일반적인 분류는 무엇인지, 그리고 전형적인 머신러닝 프로젝트의 작업 흐름이 어떤지 배웠다. 다음 장에서는 학습 과정에서 발생할 수 있는 문제와 정확한 예측을 방해하는 것들에 대해 알아보겠다."
   ]
  },
  {
   "cell_type": "markdown",
   "id": "92cc8dfc",
   "metadata": {},
   "source": [
    "# 이미지 출력을 위한 코드"
   ]
  },
  {
   "cell_type": "code",
   "execution_count": 1,
   "id": "9189da4e",
   "metadata": {
    "ExecuteTime": {
     "end_time": "2022-11-06T12:06:41.926687Z",
     "start_time": "2022-11-06T12:06:41.912665Z"
    }
   },
   "outputs": [],
   "source": [
    "# Python ≥3.5 이상 권장\n",
    "import sys\n",
    "assert sys.version_info >= (3, 5)"
   ]
  },
  {
   "cell_type": "code",
   "execution_count": 2,
   "id": "06ad81c2",
   "metadata": {
    "ExecuteTime": {
     "end_time": "2022-11-06T12:07:00.830060Z",
     "start_time": "2022-11-06T12:06:59.436843Z"
    }
   },
   "outputs": [],
   "source": [
    "# Scikit-Learn ≥0.20 이상이 권장\n",
    "import sklearn\n",
    "assert sklearn.__version__ >= \"0.20\""
   ]
  },
  {
   "cell_type": "code",
   "execution_count": 4,
   "id": "2362e109",
   "metadata": {
    "ExecuteTime": {
     "end_time": "2022-11-06T12:10:30.693399Z",
     "start_time": "2022-11-06T12:10:30.686870Z"
    }
   },
   "outputs": [],
   "source": [
    "def prepare_country_stats(oecd_bli, gdp_per_capita):\n",
    "    oecd_bli = oecd_bli[oecd_bli[\"INEQUALITY\"]==\"TOT\"]\n",
    "    oecd_bli = oecd_bli.pivot(index=\"Country\", columns=\"Indicator\", values=\"Value\")\n",
    "    gdp_per_capita.rename(columns={\"2015\": \"GDP per capita\"}, inplace=True)\n",
    "    gdp_per_capita.set_index(\"Country\", inplace=True)\n",
    "    full_country_stats = pd.merge(left=oecd_bli, right=gdp_per_capita,\n",
    "                                  left_index=True, right_index=True)\n",
    "    full_country_stats.sort_values(by=\"GDP per capita\", inplace=True)\n",
    "    remove_indices = [0, 1, 6, 8, 33, 34, 35]\n",
    "    keep_indices = list(set(range(36)) - set(remove_indices))\n",
    "    return full_country_stats[[\"GDP per capita\", 'Life satisfaction']].iloc[keep_indices]"
   ]
  },
  {
   "cell_type": "code",
   "execution_count": 5,
   "id": "623a38e5",
   "metadata": {
    "ExecuteTime": {
     "end_time": "2022-11-06T12:11:20.125126Z",
     "start_time": "2022-11-06T12:11:20.121574Z"
    }
   },
   "outputs": [],
   "source": [
    "import os\n",
    "datapath = os.path.join(\"datasets\", \"lifesat\", \"\")"
   ]
  },
  {
   "cell_type": "code",
   "execution_count": 6,
   "id": "19ea3de3",
   "metadata": {
    "ExecuteTime": {
     "end_time": "2022-11-06T12:12:04.460994Z",
     "start_time": "2022-11-06T12:12:03.306317Z"
    }
   },
   "outputs": [],
   "source": [
    "# 주피터에 그래프를 깔끔하게 그리기 위해서\n",
    "%matplotlib inline\n",
    "import matplotlib as mpl\n",
    "mpl.rc('axes', labelsize=14)\n",
    "mpl.rc('xtick', labelsize=12)\n",
    "mpl.rc('ytick', labelsize=12)"
   ]
  },
  {
   "cell_type": "code",
   "execution_count": 7,
   "id": "856d1e0c",
   "metadata": {
    "ExecuteTime": {
     "end_time": "2022-11-06T12:13:51.012009Z",
     "start_time": "2022-11-06T12:13:50.308781Z"
    }
   },
   "outputs": [
    {
     "name": "stdout",
     "output_type": "stream",
     "text": [
      "Downloading oecd_bli_2015.csv\n",
      "Downloading gdp_per_capita.csv\n"
     ]
    }
   ],
   "source": [
    "# 데이터 다운로드\n",
    "import urllib.request\n",
    "DOWNLOAD_ROOT = \"https://raw.githubusercontent.com/rickiepark/handson-ml2/master/\"\n",
    "os.makedirs(datapath, exist_ok=True)\n",
    "for filename in (\"oecd_bli_2015.csv\", \"gdp_per_capita.csv\"):\n",
    "    print(\"Downloading\", filename)\n",
    "    url = DOWNLOAD_ROOT + \"datasets/lifesat/\" + filename\n",
    "    urllib.request.urlretrieve(url, datapath + filename)"
   ]
  },
  {
   "cell_type": "markdown",
   "id": "6537fe9b",
   "metadata": {},
   "source": [
    "그림을 저장하기 위한 함수"
   ]
  },
  {
   "cell_type": "code",
   "execution_count": 16,
   "id": "c778135f",
   "metadata": {
    "ExecuteTime": {
     "end_time": "2022-11-06T14:09:03.615981Z",
     "start_time": "2022-11-06T14:09:03.599201Z"
    }
   },
   "outputs": [],
   "source": [
    "# Where to save the figures\n",
    "PROJECT_ROOT_DIR = \".\"\n",
    "CHAPTER_ID = \"fundamentals\"\n",
    "IMAGES_PATH = os.path.join(PROJECT_ROOT_DIR, \"images\", CHAPTER_ID)\n",
    "os.makedirs(IMAGES_PATH, exist_ok=True)\n",
    "\n",
    "def save_fig(fig_id, tight_layout=True, fig_extension=\"png\", resolution=300):\n",
    "    path = os.path.join(IMAGES_PATH, fig_id + \".\" + fig_extension)\n",
    "    if tight_layout:\n",
    "        plt.tight_layout()\n",
    "    plt.savefig(path, format=fig_extension, dpi=resolution)"
   ]
  },
  {
   "cell_type": "markdown",
   "id": "29c7acb1",
   "metadata": {},
   "source": [
    "노트북 출력을 동일하게 만들기 위해서"
   ]
  },
  {
   "cell_type": "code",
   "execution_count": 18,
   "id": "1283058d",
   "metadata": {
    "ExecuteTime": {
     "end_time": "2022-11-06T14:10:08.018967Z",
     "start_time": "2022-11-06T14:10:08.008452Z"
    }
   },
   "outputs": [],
   "source": [
    "np.random.seed(42)"
   ]
  },
  {
   "cell_type": "markdown",
   "id": "c3edcdad",
   "metadata": {},
   "source": [
    "## 삶의 만족도 데이터 적재와 준비"
   ]
  },
  {
   "cell_type": "markdown",
   "id": "33c8cbf6",
   "metadata": {},
   "source": [
    "필요하면 OECD 웹사이트에서 새 데이터를 받을 수 있다.<br>\n",
    "<a href='https://stats.oecd.org/index.aspx?DataSetCode=BLI' target='blank'>https://stats.oecd.org/index.aspx?DataSetCode=BLI</a>에서 CSV 파일을 다운받아<br>\n",
    "dataset/lifesat/에 저장한다."
   ]
  },
  {
   "cell_type": "code",
   "execution_count": 20,
   "id": "5bb33562",
   "metadata": {
    "ExecuteTime": {
     "end_time": "2022-11-06T14:13:00.341521Z",
     "start_time": "2022-11-06T14:13:00.301614Z"
    }
   },
   "outputs": [
    {
     "data": {
      "text/html": [
       "<div>\n",
       "<style scoped>\n",
       "    .dataframe tbody tr th:only-of-type {\n",
       "        vertical-align: middle;\n",
       "    }\n",
       "\n",
       "    .dataframe tbody tr th {\n",
       "        vertical-align: top;\n",
       "    }\n",
       "\n",
       "    .dataframe thead th {\n",
       "        text-align: right;\n",
       "    }\n",
       "</style>\n",
       "<table border=\"1\" class=\"dataframe\">\n",
       "  <thead>\n",
       "    <tr style=\"text-align: right;\">\n",
       "      <th>Indicator</th>\n",
       "      <th>Air pollution</th>\n",
       "      <th>Assault rate</th>\n",
       "      <th>Consultation on rule-making</th>\n",
       "      <th>Dwellings without basic facilities</th>\n",
       "      <th>Educational attainment</th>\n",
       "      <th>Employees working very long hours</th>\n",
       "      <th>Employment rate</th>\n",
       "      <th>Homicide rate</th>\n",
       "      <th>Household net adjusted disposable income</th>\n",
       "      <th>Household net financial wealth</th>\n",
       "      <th>...</th>\n",
       "      <th>Long-term unemployment rate</th>\n",
       "      <th>Personal earnings</th>\n",
       "      <th>Quality of support network</th>\n",
       "      <th>Rooms per person</th>\n",
       "      <th>Self-reported health</th>\n",
       "      <th>Student skills</th>\n",
       "      <th>Time devoted to leisure and personal care</th>\n",
       "      <th>Voter turnout</th>\n",
       "      <th>Water quality</th>\n",
       "      <th>Years in education</th>\n",
       "    </tr>\n",
       "    <tr>\n",
       "      <th>Country</th>\n",
       "      <th></th>\n",
       "      <th></th>\n",
       "      <th></th>\n",
       "      <th></th>\n",
       "      <th></th>\n",
       "      <th></th>\n",
       "      <th></th>\n",
       "      <th></th>\n",
       "      <th></th>\n",
       "      <th></th>\n",
       "      <th></th>\n",
       "      <th></th>\n",
       "      <th></th>\n",
       "      <th></th>\n",
       "      <th></th>\n",
       "      <th></th>\n",
       "      <th></th>\n",
       "      <th></th>\n",
       "      <th></th>\n",
       "      <th></th>\n",
       "      <th></th>\n",
       "    </tr>\n",
       "  </thead>\n",
       "  <tbody>\n",
       "    <tr>\n",
       "      <th>Australia</th>\n",
       "      <td>13.0</td>\n",
       "      <td>2.1</td>\n",
       "      <td>10.5</td>\n",
       "      <td>1.1</td>\n",
       "      <td>76.0</td>\n",
       "      <td>14.02</td>\n",
       "      <td>72.0</td>\n",
       "      <td>0.8</td>\n",
       "      <td>31588.0</td>\n",
       "      <td>47657.0</td>\n",
       "      <td>...</td>\n",
       "      <td>1.08</td>\n",
       "      <td>50449.0</td>\n",
       "      <td>92.0</td>\n",
       "      <td>2.3</td>\n",
       "      <td>85.0</td>\n",
       "      <td>512.0</td>\n",
       "      <td>14.41</td>\n",
       "      <td>93.0</td>\n",
       "      <td>91.0</td>\n",
       "      <td>19.4</td>\n",
       "    </tr>\n",
       "    <tr>\n",
       "      <th>Austria</th>\n",
       "      <td>27.0</td>\n",
       "      <td>3.4</td>\n",
       "      <td>7.1</td>\n",
       "      <td>1.0</td>\n",
       "      <td>83.0</td>\n",
       "      <td>7.61</td>\n",
       "      <td>72.0</td>\n",
       "      <td>0.4</td>\n",
       "      <td>31173.0</td>\n",
       "      <td>49887.0</td>\n",
       "      <td>...</td>\n",
       "      <td>1.19</td>\n",
       "      <td>45199.0</td>\n",
       "      <td>89.0</td>\n",
       "      <td>1.6</td>\n",
       "      <td>69.0</td>\n",
       "      <td>500.0</td>\n",
       "      <td>14.46</td>\n",
       "      <td>75.0</td>\n",
       "      <td>94.0</td>\n",
       "      <td>17.0</td>\n",
       "    </tr>\n",
       "  </tbody>\n",
       "</table>\n",
       "<p>2 rows × 24 columns</p>\n",
       "</div>"
      ],
      "text/plain": [
       "Indicator  Air pollution  Assault rate  Consultation on rule-making  \\\n",
       "Country                                                               \n",
       "Australia           13.0           2.1                         10.5   \n",
       "Austria             27.0           3.4                          7.1   \n",
       "\n",
       "Indicator  Dwellings without basic facilities  Educational attainment  \\\n",
       "Country                                                                 \n",
       "Australia                                 1.1                    76.0   \n",
       "Austria                                   1.0                    83.0   \n",
       "\n",
       "Indicator  Employees working very long hours  Employment rate  Homicide rate  \\\n",
       "Country                                                                        \n",
       "Australia                              14.02             72.0            0.8   \n",
       "Austria                                 7.61             72.0            0.4   \n",
       "\n",
       "Indicator  Household net adjusted disposable income  \\\n",
       "Country                                               \n",
       "Australia                                   31588.0   \n",
       "Austria                                     31173.0   \n",
       "\n",
       "Indicator  Household net financial wealth  ...  Long-term unemployment rate  \\\n",
       "Country                                    ...                                \n",
       "Australia                         47657.0  ...                         1.08   \n",
       "Austria                           49887.0  ...                         1.19   \n",
       "\n",
       "Indicator  Personal earnings  Quality of support network  Rooms per person  \\\n",
       "Country                                                                      \n",
       "Australia            50449.0                        92.0               2.3   \n",
       "Austria              45199.0                        89.0               1.6   \n",
       "\n",
       "Indicator  Self-reported health  Student skills  \\\n",
       "Country                                           \n",
       "Australia                  85.0           512.0   \n",
       "Austria                    69.0           500.0   \n",
       "\n",
       "Indicator  Time devoted to leisure and personal care  Voter turnout  \\\n",
       "Country                                                               \n",
       "Australia                                      14.41           93.0   \n",
       "Austria                                        14.46           75.0   \n",
       "\n",
       "Indicator  Water quality  Years in education  \n",
       "Country                                       \n",
       "Australia           91.0                19.4  \n",
       "Austria             94.0                17.0  \n",
       "\n",
       "[2 rows x 24 columns]"
      ]
     },
     "execution_count": 20,
     "metadata": {},
     "output_type": "execute_result"
    }
   ],
   "source": [
    "oecd_bli = pd.read_csv(datapath + \"oecd_bli_2015.csv\", thousands=',')\n",
    "oecd_bli = oecd_bli[oecd_bli[\"INEQUALITY\"]==\"TOT\"]\n",
    "oecd_bli = oecd_bli.pivot(index=\"Country\", columns=\"Indicator\", values=\"Value\")\n",
    "oecd_bli.head(2)"
   ]
  },
  {
   "cell_type": "code",
   "execution_count": 21,
   "id": "13a0604b",
   "metadata": {
    "ExecuteTime": {
     "end_time": "2022-11-06T14:13:54.058675Z",
     "start_time": "2022-11-06T14:13:54.042186Z"
    }
   },
   "outputs": [
    {
     "data": {
      "text/plain": [
       "Country\n",
       "Australia    7.3\n",
       "Austria      6.9\n",
       "Belgium      6.9\n",
       "Brazil       7.0\n",
       "Canada       7.3\n",
       "Name: Life satisfaction, dtype: float64"
      ]
     },
     "execution_count": 21,
     "metadata": {},
     "output_type": "execute_result"
    }
   ],
   "source": [
    "oecd_bli[\"Life satisfaction\"].head()"
   ]
  },
  {
   "cell_type": "markdown",
   "id": "591a8c8c",
   "metadata": {},
   "source": [
    "## 1인당 GDP 데이터 적재와 준비"
   ]
  },
  {
   "cell_type": "markdown",
   "id": "42d54a9c",
   "metadata": {},
   "source": [
    "위와 마찬가지로 필요하면 1인당 GDP 데이터를 새로 받을 수 있다.<br>\n",
    "<a href='https://goo.gl/j1MSKe' target='blank'>https://goo.gl/j1MSKe</a>(=> imf.org)에서 다운받아<br>\n",
    "datasets/lifesat/에 저장하면 된다."
   ]
  },
  {
   "cell_type": "code",
   "execution_count": 22,
   "id": "987b625f",
   "metadata": {
    "ExecuteTime": {
     "end_time": "2022-11-06T14:16:01.761909Z",
     "start_time": "2022-11-06T14:16:01.737554Z"
    }
   },
   "outputs": [
    {
     "data": {
      "text/html": [
       "<div>\n",
       "<style scoped>\n",
       "    .dataframe tbody tr th:only-of-type {\n",
       "        vertical-align: middle;\n",
       "    }\n",
       "\n",
       "    .dataframe tbody tr th {\n",
       "        vertical-align: top;\n",
       "    }\n",
       "\n",
       "    .dataframe thead th {\n",
       "        text-align: right;\n",
       "    }\n",
       "</style>\n",
       "<table border=\"1\" class=\"dataframe\">\n",
       "  <thead>\n",
       "    <tr style=\"text-align: right;\">\n",
       "      <th></th>\n",
       "      <th>Subject Descriptor</th>\n",
       "      <th>Units</th>\n",
       "      <th>Scale</th>\n",
       "      <th>Country/Series-specific Notes</th>\n",
       "      <th>GDP per capita</th>\n",
       "      <th>Estimates Start After</th>\n",
       "    </tr>\n",
       "    <tr>\n",
       "      <th>Country</th>\n",
       "      <th></th>\n",
       "      <th></th>\n",
       "      <th></th>\n",
       "      <th></th>\n",
       "      <th></th>\n",
       "      <th></th>\n",
       "    </tr>\n",
       "  </thead>\n",
       "  <tbody>\n",
       "    <tr>\n",
       "      <th>Afghanistan</th>\n",
       "      <td>Gross domestic product per capita, current prices</td>\n",
       "      <td>U.S. dollars</td>\n",
       "      <td>Units</td>\n",
       "      <td>See notes for:  Gross domestic product, curren...</td>\n",
       "      <td>599.994</td>\n",
       "      <td>2013.0</td>\n",
       "    </tr>\n",
       "    <tr>\n",
       "      <th>Albania</th>\n",
       "      <td>Gross domestic product per capita, current prices</td>\n",
       "      <td>U.S. dollars</td>\n",
       "      <td>Units</td>\n",
       "      <td>See notes for:  Gross domestic product, curren...</td>\n",
       "      <td>3995.383</td>\n",
       "      <td>2010.0</td>\n",
       "    </tr>\n",
       "  </tbody>\n",
       "</table>\n",
       "</div>"
      ],
      "text/plain": [
       "                                            Subject Descriptor         Units  \\\n",
       "Country                                                                        \n",
       "Afghanistan  Gross domestic product per capita, current prices  U.S. dollars   \n",
       "Albania      Gross domestic product per capita, current prices  U.S. dollars   \n",
       "\n",
       "             Scale                      Country/Series-specific Notes  \\\n",
       "Country                                                                 \n",
       "Afghanistan  Units  See notes for:  Gross domestic product, curren...   \n",
       "Albania      Units  See notes for:  Gross domestic product, curren...   \n",
       "\n",
       "             GDP per capita  Estimates Start After  \n",
       "Country                                             \n",
       "Afghanistan         599.994                 2013.0  \n",
       "Albania            3995.383                 2010.0  "
      ]
     },
     "execution_count": 22,
     "metadata": {},
     "output_type": "execute_result"
    }
   ],
   "source": [
    "gdp_per_capita = pd.read_csv(datapath + \"gdp_per_capita.csv\", thousands=',', delimiter='\\t',\n",
    "                             encoding='latin1', na_values=\"n/a\")\n",
    "gdp_per_capita.rename(columns={\"2015\": \"GDP per capita\"}, inplace=True)\n",
    "gdp_per_capita.set_index(\"Country\", inplace=True)\n",
    "gdp_per_capita.head(2)"
   ]
  },
  {
   "cell_type": "code",
   "execution_count": 23,
   "id": "2518dad8",
   "metadata": {
    "ExecuteTime": {
     "end_time": "2022-11-06T14:17:00.017019Z",
     "start_time": "2022-11-06T14:16:59.962676Z"
    }
   },
   "outputs": [
    {
     "data": {
      "text/html": [
       "<div>\n",
       "<style scoped>\n",
       "    .dataframe tbody tr th:only-of-type {\n",
       "        vertical-align: middle;\n",
       "    }\n",
       "\n",
       "    .dataframe tbody tr th {\n",
       "        vertical-align: top;\n",
       "    }\n",
       "\n",
       "    .dataframe thead th {\n",
       "        text-align: right;\n",
       "    }\n",
       "</style>\n",
       "<table border=\"1\" class=\"dataframe\">\n",
       "  <thead>\n",
       "    <tr style=\"text-align: right;\">\n",
       "      <th></th>\n",
       "      <th>Air pollution</th>\n",
       "      <th>Assault rate</th>\n",
       "      <th>Consultation on rule-making</th>\n",
       "      <th>Dwellings without basic facilities</th>\n",
       "      <th>Educational attainment</th>\n",
       "      <th>Employees working very long hours</th>\n",
       "      <th>Employment rate</th>\n",
       "      <th>Homicide rate</th>\n",
       "      <th>Household net adjusted disposable income</th>\n",
       "      <th>Household net financial wealth</th>\n",
       "      <th>...</th>\n",
       "      <th>Time devoted to leisure and personal care</th>\n",
       "      <th>Voter turnout</th>\n",
       "      <th>Water quality</th>\n",
       "      <th>Years in education</th>\n",
       "      <th>Subject Descriptor</th>\n",
       "      <th>Units</th>\n",
       "      <th>Scale</th>\n",
       "      <th>Country/Series-specific Notes</th>\n",
       "      <th>GDP per capita</th>\n",
       "      <th>Estimates Start After</th>\n",
       "    </tr>\n",
       "    <tr>\n",
       "      <th>Country</th>\n",
       "      <th></th>\n",
       "      <th></th>\n",
       "      <th></th>\n",
       "      <th></th>\n",
       "      <th></th>\n",
       "      <th></th>\n",
       "      <th></th>\n",
       "      <th></th>\n",
       "      <th></th>\n",
       "      <th></th>\n",
       "      <th></th>\n",
       "      <th></th>\n",
       "      <th></th>\n",
       "      <th></th>\n",
       "      <th></th>\n",
       "      <th></th>\n",
       "      <th></th>\n",
       "      <th></th>\n",
       "      <th></th>\n",
       "      <th></th>\n",
       "      <th></th>\n",
       "    </tr>\n",
       "  </thead>\n",
       "  <tbody>\n",
       "    <tr>\n",
       "      <th>Brazil</th>\n",
       "      <td>18.0</td>\n",
       "      <td>7.9</td>\n",
       "      <td>4.0</td>\n",
       "      <td>6.7</td>\n",
       "      <td>45.0</td>\n",
       "      <td>10.41</td>\n",
       "      <td>67.0</td>\n",
       "      <td>25.5</td>\n",
       "      <td>11664.0</td>\n",
       "      <td>6844.0</td>\n",
       "      <td>...</td>\n",
       "      <td>14.97</td>\n",
       "      <td>79.0</td>\n",
       "      <td>72.0</td>\n",
       "      <td>16.3</td>\n",
       "      <td>Gross domestic product per capita, current prices</td>\n",
       "      <td>U.S. dollars</td>\n",
       "      <td>Units</td>\n",
       "      <td>See notes for:  Gross domestic product, curren...</td>\n",
       "      <td>8669.998</td>\n",
       "      <td>2014.0</td>\n",
       "    </tr>\n",
       "    <tr>\n",
       "      <th>Mexico</th>\n",
       "      <td>30.0</td>\n",
       "      <td>12.8</td>\n",
       "      <td>9.0</td>\n",
       "      <td>4.2</td>\n",
       "      <td>37.0</td>\n",
       "      <td>28.83</td>\n",
       "      <td>61.0</td>\n",
       "      <td>23.4</td>\n",
       "      <td>13085.0</td>\n",
       "      <td>9056.0</td>\n",
       "      <td>...</td>\n",
       "      <td>13.89</td>\n",
       "      <td>63.0</td>\n",
       "      <td>67.0</td>\n",
       "      <td>14.4</td>\n",
       "      <td>Gross domestic product per capita, current prices</td>\n",
       "      <td>U.S. dollars</td>\n",
       "      <td>Units</td>\n",
       "      <td>See notes for:  Gross domestic product, curren...</td>\n",
       "      <td>9009.280</td>\n",
       "      <td>2015.0</td>\n",
       "    </tr>\n",
       "    <tr>\n",
       "      <th>Russia</th>\n",
       "      <td>15.0</td>\n",
       "      <td>3.8</td>\n",
       "      <td>2.5</td>\n",
       "      <td>15.1</td>\n",
       "      <td>94.0</td>\n",
       "      <td>0.16</td>\n",
       "      <td>69.0</td>\n",
       "      <td>12.8</td>\n",
       "      <td>19292.0</td>\n",
       "      <td>3412.0</td>\n",
       "      <td>...</td>\n",
       "      <td>14.97</td>\n",
       "      <td>65.0</td>\n",
       "      <td>56.0</td>\n",
       "      <td>16.0</td>\n",
       "      <td>Gross domestic product per capita, current prices</td>\n",
       "      <td>U.S. dollars</td>\n",
       "      <td>Units</td>\n",
       "      <td>See notes for:  Gross domestic product, curren...</td>\n",
       "      <td>9054.914</td>\n",
       "      <td>2015.0</td>\n",
       "    </tr>\n",
       "    <tr>\n",
       "      <th>Turkey</th>\n",
       "      <td>35.0</td>\n",
       "      <td>5.0</td>\n",
       "      <td>5.5</td>\n",
       "      <td>12.7</td>\n",
       "      <td>34.0</td>\n",
       "      <td>40.86</td>\n",
       "      <td>50.0</td>\n",
       "      <td>1.2</td>\n",
       "      <td>14095.0</td>\n",
       "      <td>3251.0</td>\n",
       "      <td>...</td>\n",
       "      <td>13.42</td>\n",
       "      <td>88.0</td>\n",
       "      <td>62.0</td>\n",
       "      <td>16.4</td>\n",
       "      <td>Gross domestic product per capita, current prices</td>\n",
       "      <td>U.S. dollars</td>\n",
       "      <td>Units</td>\n",
       "      <td>See notes for:  Gross domestic product, curren...</td>\n",
       "      <td>9437.372</td>\n",
       "      <td>2013.0</td>\n",
       "    </tr>\n",
       "    <tr>\n",
       "      <th>Hungary</th>\n",
       "      <td>15.0</td>\n",
       "      <td>3.6</td>\n",
       "      <td>7.9</td>\n",
       "      <td>4.8</td>\n",
       "      <td>82.0</td>\n",
       "      <td>3.19</td>\n",
       "      <td>58.0</td>\n",
       "      <td>1.3</td>\n",
       "      <td>15442.0</td>\n",
       "      <td>13277.0</td>\n",
       "      <td>...</td>\n",
       "      <td>15.04</td>\n",
       "      <td>62.0</td>\n",
       "      <td>77.0</td>\n",
       "      <td>17.6</td>\n",
       "      <td>Gross domestic product per capita, current prices</td>\n",
       "      <td>U.S. dollars</td>\n",
       "      <td>Units</td>\n",
       "      <td>See notes for:  Gross domestic product, curren...</td>\n",
       "      <td>12239.894</td>\n",
       "      <td>2015.0</td>\n",
       "    </tr>\n",
       "    <tr>\n",
       "      <th>Poland</th>\n",
       "      <td>33.0</td>\n",
       "      <td>1.4</td>\n",
       "      <td>10.8</td>\n",
       "      <td>3.2</td>\n",
       "      <td>90.0</td>\n",
       "      <td>7.41</td>\n",
       "      <td>60.0</td>\n",
       "      <td>0.9</td>\n",
       "      <td>17852.0</td>\n",
       "      <td>10919.0</td>\n",
       "      <td>...</td>\n",
       "      <td>14.20</td>\n",
       "      <td>55.0</td>\n",
       "      <td>79.0</td>\n",
       "      <td>18.4</td>\n",
       "      <td>Gross domestic product per capita, current prices</td>\n",
       "      <td>U.S. dollars</td>\n",
       "      <td>Units</td>\n",
       "      <td>See notes for:  Gross domestic product, curren...</td>\n",
       "      <td>12495.334</td>\n",
       "      <td>2014.0</td>\n",
       "    </tr>\n",
       "    <tr>\n",
       "      <th>Chile</th>\n",
       "      <td>46.0</td>\n",
       "      <td>6.9</td>\n",
       "      <td>2.0</td>\n",
       "      <td>9.4</td>\n",
       "      <td>57.0</td>\n",
       "      <td>15.42</td>\n",
       "      <td>62.0</td>\n",
       "      <td>4.4</td>\n",
       "      <td>14533.0</td>\n",
       "      <td>17733.0</td>\n",
       "      <td>...</td>\n",
       "      <td>14.41</td>\n",
       "      <td>49.0</td>\n",
       "      <td>73.0</td>\n",
       "      <td>16.5</td>\n",
       "      <td>Gross domestic product per capita, current prices</td>\n",
       "      <td>U.S. dollars</td>\n",
       "      <td>Units</td>\n",
       "      <td>See notes for:  Gross domestic product, curren...</td>\n",
       "      <td>13340.905</td>\n",
       "      <td>2014.0</td>\n",
       "    </tr>\n",
       "    <tr>\n",
       "      <th>Slovak Republic</th>\n",
       "      <td>13.0</td>\n",
       "      <td>3.0</td>\n",
       "      <td>6.6</td>\n",
       "      <td>0.6</td>\n",
       "      <td>92.0</td>\n",
       "      <td>7.02</td>\n",
       "      <td>60.0</td>\n",
       "      <td>1.2</td>\n",
       "      <td>17503.0</td>\n",
       "      <td>8663.0</td>\n",
       "      <td>...</td>\n",
       "      <td>14.99</td>\n",
       "      <td>59.0</td>\n",
       "      <td>81.0</td>\n",
       "      <td>16.3</td>\n",
       "      <td>Gross domestic product per capita, current prices</td>\n",
       "      <td>U.S. dollars</td>\n",
       "      <td>Units</td>\n",
       "      <td>See notes for:  Gross domestic product, curren...</td>\n",
       "      <td>15991.736</td>\n",
       "      <td>2015.0</td>\n",
       "    </tr>\n",
       "    <tr>\n",
       "      <th>Czech Republic</th>\n",
       "      <td>16.0</td>\n",
       "      <td>2.8</td>\n",
       "      <td>6.8</td>\n",
       "      <td>0.9</td>\n",
       "      <td>92.0</td>\n",
       "      <td>6.98</td>\n",
       "      <td>68.0</td>\n",
       "      <td>0.8</td>\n",
       "      <td>18404.0</td>\n",
       "      <td>17299.0</td>\n",
       "      <td>...</td>\n",
       "      <td>14.98</td>\n",
       "      <td>59.0</td>\n",
       "      <td>85.0</td>\n",
       "      <td>18.1</td>\n",
       "      <td>Gross domestic product per capita, current prices</td>\n",
       "      <td>U.S. dollars</td>\n",
       "      <td>Units</td>\n",
       "      <td>See notes for:  Gross domestic product, curren...</td>\n",
       "      <td>17256.918</td>\n",
       "      <td>2015.0</td>\n",
       "    </tr>\n",
       "    <tr>\n",
       "      <th>Estonia</th>\n",
       "      <td>9.0</td>\n",
       "      <td>5.5</td>\n",
       "      <td>3.3</td>\n",
       "      <td>8.1</td>\n",
       "      <td>90.0</td>\n",
       "      <td>3.30</td>\n",
       "      <td>68.0</td>\n",
       "      <td>4.8</td>\n",
       "      <td>15167.0</td>\n",
       "      <td>7680.0</td>\n",
       "      <td>...</td>\n",
       "      <td>14.90</td>\n",
       "      <td>64.0</td>\n",
       "      <td>79.0</td>\n",
       "      <td>17.5</td>\n",
       "      <td>Gross domestic product per capita, current prices</td>\n",
       "      <td>U.S. dollars</td>\n",
       "      <td>Units</td>\n",
       "      <td>See notes for:  Gross domestic product, curren...</td>\n",
       "      <td>17288.083</td>\n",
       "      <td>2014.0</td>\n",
       "    </tr>\n",
       "    <tr>\n",
       "      <th>Greece</th>\n",
       "      <td>27.0</td>\n",
       "      <td>3.7</td>\n",
       "      <td>6.5</td>\n",
       "      <td>0.7</td>\n",
       "      <td>68.0</td>\n",
       "      <td>6.16</td>\n",
       "      <td>49.0</td>\n",
       "      <td>1.6</td>\n",
       "      <td>18575.0</td>\n",
       "      <td>14579.0</td>\n",
       "      <td>...</td>\n",
       "      <td>14.91</td>\n",
       "      <td>64.0</td>\n",
       "      <td>69.0</td>\n",
       "      <td>18.6</td>\n",
       "      <td>Gross domestic product per capita, current prices</td>\n",
       "      <td>U.S. dollars</td>\n",
       "      <td>Units</td>\n",
       "      <td>See notes for:  Gross domestic product, curren...</td>\n",
       "      <td>18064.288</td>\n",
       "      <td>2014.0</td>\n",
       "    </tr>\n",
       "    <tr>\n",
       "      <th>Portugal</th>\n",
       "      <td>18.0</td>\n",
       "      <td>5.7</td>\n",
       "      <td>6.5</td>\n",
       "      <td>0.9</td>\n",
       "      <td>38.0</td>\n",
       "      <td>9.62</td>\n",
       "      <td>61.0</td>\n",
       "      <td>1.1</td>\n",
       "      <td>20086.0</td>\n",
       "      <td>31245.0</td>\n",
       "      <td>...</td>\n",
       "      <td>14.95</td>\n",
       "      <td>58.0</td>\n",
       "      <td>86.0</td>\n",
       "      <td>17.6</td>\n",
       "      <td>Gross domestic product per capita, current prices</td>\n",
       "      <td>U.S. dollars</td>\n",
       "      <td>Units</td>\n",
       "      <td>See notes for:  Gross domestic product, curren...</td>\n",
       "      <td>19121.592</td>\n",
       "      <td>2014.0</td>\n",
       "    </tr>\n",
       "    <tr>\n",
       "      <th>Slovenia</th>\n",
       "      <td>26.0</td>\n",
       "      <td>3.9</td>\n",
       "      <td>10.3</td>\n",
       "      <td>0.5</td>\n",
       "      <td>85.0</td>\n",
       "      <td>5.63</td>\n",
       "      <td>63.0</td>\n",
       "      <td>0.4</td>\n",
       "      <td>19326.0</td>\n",
       "      <td>18465.0</td>\n",
       "      <td>...</td>\n",
       "      <td>14.62</td>\n",
       "      <td>52.0</td>\n",
       "      <td>88.0</td>\n",
       "      <td>18.4</td>\n",
       "      <td>Gross domestic product per capita, current prices</td>\n",
       "      <td>U.S. dollars</td>\n",
       "      <td>Units</td>\n",
       "      <td>See notes for:  Gross domestic product, curren...</td>\n",
       "      <td>20732.482</td>\n",
       "      <td>2015.0</td>\n",
       "    </tr>\n",
       "    <tr>\n",
       "      <th>Spain</th>\n",
       "      <td>24.0</td>\n",
       "      <td>4.2</td>\n",
       "      <td>7.3</td>\n",
       "      <td>0.1</td>\n",
       "      <td>55.0</td>\n",
       "      <td>5.89</td>\n",
       "      <td>56.0</td>\n",
       "      <td>0.6</td>\n",
       "      <td>22477.0</td>\n",
       "      <td>24774.0</td>\n",
       "      <td>...</td>\n",
       "      <td>16.06</td>\n",
       "      <td>69.0</td>\n",
       "      <td>71.0</td>\n",
       "      <td>17.6</td>\n",
       "      <td>Gross domestic product per capita, current prices</td>\n",
       "      <td>U.S. dollars</td>\n",
       "      <td>Units</td>\n",
       "      <td>See notes for:  Gross domestic product, curren...</td>\n",
       "      <td>25864.721</td>\n",
       "      <td>2014.0</td>\n",
       "    </tr>\n",
       "    <tr>\n",
       "      <th>Korea</th>\n",
       "      <td>30.0</td>\n",
       "      <td>2.1</td>\n",
       "      <td>10.4</td>\n",
       "      <td>4.2</td>\n",
       "      <td>82.0</td>\n",
       "      <td>18.72</td>\n",
       "      <td>64.0</td>\n",
       "      <td>1.1</td>\n",
       "      <td>19510.0</td>\n",
       "      <td>29091.0</td>\n",
       "      <td>...</td>\n",
       "      <td>14.63</td>\n",
       "      <td>76.0</td>\n",
       "      <td>78.0</td>\n",
       "      <td>17.5</td>\n",
       "      <td>Gross domestic product per capita, current prices</td>\n",
       "      <td>U.S. dollars</td>\n",
       "      <td>Units</td>\n",
       "      <td>See notes for:  Gross domestic product, curren...</td>\n",
       "      <td>27195.197</td>\n",
       "      <td>2014.0</td>\n",
       "    </tr>\n",
       "    <tr>\n",
       "      <th>Italy</th>\n",
       "      <td>21.0</td>\n",
       "      <td>4.7</td>\n",
       "      <td>5.0</td>\n",
       "      <td>1.1</td>\n",
       "      <td>57.0</td>\n",
       "      <td>3.66</td>\n",
       "      <td>56.0</td>\n",
       "      <td>0.7</td>\n",
       "      <td>25166.0</td>\n",
       "      <td>54987.0</td>\n",
       "      <td>...</td>\n",
       "      <td>14.98</td>\n",
       "      <td>75.0</td>\n",
       "      <td>71.0</td>\n",
       "      <td>16.8</td>\n",
       "      <td>Gross domestic product per capita, current prices</td>\n",
       "      <td>U.S. dollars</td>\n",
       "      <td>Units</td>\n",
       "      <td>See notes for:  Gross domestic product, curren...</td>\n",
       "      <td>29866.581</td>\n",
       "      <td>2015.0</td>\n",
       "    </tr>\n",
       "    <tr>\n",
       "      <th>Japan</th>\n",
       "      <td>24.0</td>\n",
       "      <td>1.4</td>\n",
       "      <td>7.3</td>\n",
       "      <td>6.4</td>\n",
       "      <td>94.0</td>\n",
       "      <td>22.26</td>\n",
       "      <td>72.0</td>\n",
       "      <td>0.3</td>\n",
       "      <td>26111.0</td>\n",
       "      <td>86764.0</td>\n",
       "      <td>...</td>\n",
       "      <td>14.93</td>\n",
       "      <td>53.0</td>\n",
       "      <td>85.0</td>\n",
       "      <td>16.3</td>\n",
       "      <td>Gross domestic product per capita, current prices</td>\n",
       "      <td>U.S. dollars</td>\n",
       "      <td>Units</td>\n",
       "      <td>See notes for:  Gross domestic product, curren...</td>\n",
       "      <td>32485.545</td>\n",
       "      <td>2015.0</td>\n",
       "    </tr>\n",
       "    <tr>\n",
       "      <th>Israel</th>\n",
       "      <td>21.0</td>\n",
       "      <td>6.4</td>\n",
       "      <td>2.5</td>\n",
       "      <td>3.7</td>\n",
       "      <td>85.0</td>\n",
       "      <td>16.03</td>\n",
       "      <td>67.0</td>\n",
       "      <td>2.3</td>\n",
       "      <td>22104.0</td>\n",
       "      <td>52933.0</td>\n",
       "      <td>...</td>\n",
       "      <td>14.48</td>\n",
       "      <td>68.0</td>\n",
       "      <td>68.0</td>\n",
       "      <td>15.8</td>\n",
       "      <td>Gross domestic product per capita, current prices</td>\n",
       "      <td>U.S. dollars</td>\n",
       "      <td>Units</td>\n",
       "      <td>See notes for:  Gross domestic product, curren...</td>\n",
       "      <td>35343.336</td>\n",
       "      <td>2015.0</td>\n",
       "    </tr>\n",
       "    <tr>\n",
       "      <th>New Zealand</th>\n",
       "      <td>11.0</td>\n",
       "      <td>2.2</td>\n",
       "      <td>10.3</td>\n",
       "      <td>0.2</td>\n",
       "      <td>74.0</td>\n",
       "      <td>13.87</td>\n",
       "      <td>73.0</td>\n",
       "      <td>1.2</td>\n",
       "      <td>23815.0</td>\n",
       "      <td>28290.0</td>\n",
       "      <td>...</td>\n",
       "      <td>14.87</td>\n",
       "      <td>77.0</td>\n",
       "      <td>89.0</td>\n",
       "      <td>18.1</td>\n",
       "      <td>Gross domestic product per capita, current prices</td>\n",
       "      <td>U.S. dollars</td>\n",
       "      <td>Units</td>\n",
       "      <td>See notes for:  Gross domestic product, curren...</td>\n",
       "      <td>37044.891</td>\n",
       "      <td>2015.0</td>\n",
       "    </tr>\n",
       "    <tr>\n",
       "      <th>France</th>\n",
       "      <td>12.0</td>\n",
       "      <td>5.0</td>\n",
       "      <td>3.5</td>\n",
       "      <td>0.5</td>\n",
       "      <td>73.0</td>\n",
       "      <td>8.15</td>\n",
       "      <td>64.0</td>\n",
       "      <td>0.6</td>\n",
       "      <td>28799.0</td>\n",
       "      <td>48741.0</td>\n",
       "      <td>...</td>\n",
       "      <td>15.33</td>\n",
       "      <td>80.0</td>\n",
       "      <td>82.0</td>\n",
       "      <td>16.4</td>\n",
       "      <td>Gross domestic product per capita, current prices</td>\n",
       "      <td>U.S. dollars</td>\n",
       "      <td>Units</td>\n",
       "      <td>See notes for:  Gross domestic product, curren...</td>\n",
       "      <td>37675.006</td>\n",
       "      <td>2015.0</td>\n",
       "    </tr>\n",
       "    <tr>\n",
       "      <th>Belgium</th>\n",
       "      <td>21.0</td>\n",
       "      <td>6.6</td>\n",
       "      <td>4.5</td>\n",
       "      <td>2.0</td>\n",
       "      <td>72.0</td>\n",
       "      <td>4.57</td>\n",
       "      <td>62.0</td>\n",
       "      <td>1.1</td>\n",
       "      <td>28307.0</td>\n",
       "      <td>83876.0</td>\n",
       "      <td>...</td>\n",
       "      <td>15.71</td>\n",
       "      <td>89.0</td>\n",
       "      <td>87.0</td>\n",
       "      <td>18.9</td>\n",
       "      <td>Gross domestic product per capita, current prices</td>\n",
       "      <td>U.S. dollars</td>\n",
       "      <td>Units</td>\n",
       "      <td>See notes for:  Gross domestic product, curren...</td>\n",
       "      <td>40106.632</td>\n",
       "      <td>2014.0</td>\n",
       "    </tr>\n",
       "    <tr>\n",
       "      <th>Germany</th>\n",
       "      <td>16.0</td>\n",
       "      <td>3.6</td>\n",
       "      <td>4.5</td>\n",
       "      <td>0.1</td>\n",
       "      <td>86.0</td>\n",
       "      <td>5.25</td>\n",
       "      <td>73.0</td>\n",
       "      <td>0.5</td>\n",
       "      <td>31252.0</td>\n",
       "      <td>50394.0</td>\n",
       "      <td>...</td>\n",
       "      <td>15.31</td>\n",
       "      <td>72.0</td>\n",
       "      <td>95.0</td>\n",
       "      <td>18.2</td>\n",
       "      <td>Gross domestic product per capita, current prices</td>\n",
       "      <td>U.S. dollars</td>\n",
       "      <td>Units</td>\n",
       "      <td>See notes for:  Gross domestic product, curren...</td>\n",
       "      <td>40996.511</td>\n",
       "      <td>2014.0</td>\n",
       "    </tr>\n",
       "    <tr>\n",
       "      <th>Finland</th>\n",
       "      <td>15.0</td>\n",
       "      <td>2.4</td>\n",
       "      <td>9.0</td>\n",
       "      <td>0.6</td>\n",
       "      <td>85.0</td>\n",
       "      <td>3.58</td>\n",
       "      <td>69.0</td>\n",
       "      <td>1.4</td>\n",
       "      <td>27927.0</td>\n",
       "      <td>18761.0</td>\n",
       "      <td>...</td>\n",
       "      <td>14.89</td>\n",
       "      <td>69.0</td>\n",
       "      <td>94.0</td>\n",
       "      <td>19.7</td>\n",
       "      <td>Gross domestic product per capita, current prices</td>\n",
       "      <td>U.S. dollars</td>\n",
       "      <td>Units</td>\n",
       "      <td>See notes for:  Gross domestic product, curren...</td>\n",
       "      <td>41973.988</td>\n",
       "      <td>2014.0</td>\n",
       "    </tr>\n",
       "    <tr>\n",
       "      <th>Canada</th>\n",
       "      <td>15.0</td>\n",
       "      <td>1.3</td>\n",
       "      <td>10.5</td>\n",
       "      <td>0.2</td>\n",
       "      <td>89.0</td>\n",
       "      <td>3.94</td>\n",
       "      <td>72.0</td>\n",
       "      <td>1.5</td>\n",
       "      <td>29365.0</td>\n",
       "      <td>67913.0</td>\n",
       "      <td>...</td>\n",
       "      <td>14.25</td>\n",
       "      <td>61.0</td>\n",
       "      <td>91.0</td>\n",
       "      <td>17.2</td>\n",
       "      <td>Gross domestic product per capita, current prices</td>\n",
       "      <td>U.S. dollars</td>\n",
       "      <td>Units</td>\n",
       "      <td>See notes for:  Gross domestic product, curren...</td>\n",
       "      <td>43331.961</td>\n",
       "      <td>2015.0</td>\n",
       "    </tr>\n",
       "    <tr>\n",
       "      <th>Netherlands</th>\n",
       "      <td>30.0</td>\n",
       "      <td>4.9</td>\n",
       "      <td>6.1</td>\n",
       "      <td>0.0</td>\n",
       "      <td>73.0</td>\n",
       "      <td>0.45</td>\n",
       "      <td>74.0</td>\n",
       "      <td>0.9</td>\n",
       "      <td>27888.0</td>\n",
       "      <td>77961.0</td>\n",
       "      <td>...</td>\n",
       "      <td>15.44</td>\n",
       "      <td>75.0</td>\n",
       "      <td>92.0</td>\n",
       "      <td>18.7</td>\n",
       "      <td>Gross domestic product per capita, current prices</td>\n",
       "      <td>U.S. dollars</td>\n",
       "      <td>Units</td>\n",
       "      <td>See notes for:  Gross domestic product, curren...</td>\n",
       "      <td>43603.115</td>\n",
       "      <td>2014.0</td>\n",
       "    </tr>\n",
       "    <tr>\n",
       "      <th>Austria</th>\n",
       "      <td>27.0</td>\n",
       "      <td>3.4</td>\n",
       "      <td>7.1</td>\n",
       "      <td>1.0</td>\n",
       "      <td>83.0</td>\n",
       "      <td>7.61</td>\n",
       "      <td>72.0</td>\n",
       "      <td>0.4</td>\n",
       "      <td>31173.0</td>\n",
       "      <td>49887.0</td>\n",
       "      <td>...</td>\n",
       "      <td>14.46</td>\n",
       "      <td>75.0</td>\n",
       "      <td>94.0</td>\n",
       "      <td>17.0</td>\n",
       "      <td>Gross domestic product per capita, current prices</td>\n",
       "      <td>U.S. dollars</td>\n",
       "      <td>Units</td>\n",
       "      <td>See notes for:  Gross domestic product, curren...</td>\n",
       "      <td>43724.031</td>\n",
       "      <td>2015.0</td>\n",
       "    </tr>\n",
       "    <tr>\n",
       "      <th>United Kingdom</th>\n",
       "      <td>13.0</td>\n",
       "      <td>1.9</td>\n",
       "      <td>11.5</td>\n",
       "      <td>0.2</td>\n",
       "      <td>78.0</td>\n",
       "      <td>12.70</td>\n",
       "      <td>71.0</td>\n",
       "      <td>0.3</td>\n",
       "      <td>27029.0</td>\n",
       "      <td>60778.0</td>\n",
       "      <td>...</td>\n",
       "      <td>14.83</td>\n",
       "      <td>66.0</td>\n",
       "      <td>88.0</td>\n",
       "      <td>16.4</td>\n",
       "      <td>Gross domestic product per capita, current prices</td>\n",
       "      <td>U.S. dollars</td>\n",
       "      <td>Units</td>\n",
       "      <td>See notes for:  Gross domestic product, curren...</td>\n",
       "      <td>43770.688</td>\n",
       "      <td>2015.0</td>\n",
       "    </tr>\n",
       "    <tr>\n",
       "      <th>Sweden</th>\n",
       "      <td>10.0</td>\n",
       "      <td>5.1</td>\n",
       "      <td>10.9</td>\n",
       "      <td>0.0</td>\n",
       "      <td>88.0</td>\n",
       "      <td>1.13</td>\n",
       "      <td>74.0</td>\n",
       "      <td>0.7</td>\n",
       "      <td>29185.0</td>\n",
       "      <td>60328.0</td>\n",
       "      <td>...</td>\n",
       "      <td>15.11</td>\n",
       "      <td>86.0</td>\n",
       "      <td>95.0</td>\n",
       "      <td>19.3</td>\n",
       "      <td>Gross domestic product per capita, current prices</td>\n",
       "      <td>U.S. dollars</td>\n",
       "      <td>Units</td>\n",
       "      <td>See notes for:  Gross domestic product, curren...</td>\n",
       "      <td>49866.266</td>\n",
       "      <td>2014.0</td>\n",
       "    </tr>\n",
       "    <tr>\n",
       "      <th>Iceland</th>\n",
       "      <td>18.0</td>\n",
       "      <td>2.7</td>\n",
       "      <td>5.1</td>\n",
       "      <td>0.4</td>\n",
       "      <td>71.0</td>\n",
       "      <td>12.25</td>\n",
       "      <td>82.0</td>\n",
       "      <td>0.3</td>\n",
       "      <td>23965.0</td>\n",
       "      <td>43045.0</td>\n",
       "      <td>...</td>\n",
       "      <td>14.61</td>\n",
       "      <td>81.0</td>\n",
       "      <td>97.0</td>\n",
       "      <td>19.8</td>\n",
       "      <td>Gross domestic product per capita, current prices</td>\n",
       "      <td>U.S. dollars</td>\n",
       "      <td>Units</td>\n",
       "      <td>See notes for:  Gross domestic product, curren...</td>\n",
       "      <td>50854.583</td>\n",
       "      <td>2014.0</td>\n",
       "    </tr>\n",
       "    <tr>\n",
       "      <th>Australia</th>\n",
       "      <td>13.0</td>\n",
       "      <td>2.1</td>\n",
       "      <td>10.5</td>\n",
       "      <td>1.1</td>\n",
       "      <td>76.0</td>\n",
       "      <td>14.02</td>\n",
       "      <td>72.0</td>\n",
       "      <td>0.8</td>\n",
       "      <td>31588.0</td>\n",
       "      <td>47657.0</td>\n",
       "      <td>...</td>\n",
       "      <td>14.41</td>\n",
       "      <td>93.0</td>\n",
       "      <td>91.0</td>\n",
       "      <td>19.4</td>\n",
       "      <td>Gross domestic product per capita, current prices</td>\n",
       "      <td>U.S. dollars</td>\n",
       "      <td>Units</td>\n",
       "      <td>See notes for:  Gross domestic product, curren...</td>\n",
       "      <td>50961.865</td>\n",
       "      <td>2014.0</td>\n",
       "    </tr>\n",
       "    <tr>\n",
       "      <th>Ireland</th>\n",
       "      <td>13.0</td>\n",
       "      <td>2.6</td>\n",
       "      <td>9.0</td>\n",
       "      <td>0.2</td>\n",
       "      <td>75.0</td>\n",
       "      <td>4.20</td>\n",
       "      <td>60.0</td>\n",
       "      <td>0.8</td>\n",
       "      <td>23917.0</td>\n",
       "      <td>31580.0</td>\n",
       "      <td>...</td>\n",
       "      <td>15.19</td>\n",
       "      <td>70.0</td>\n",
       "      <td>80.0</td>\n",
       "      <td>17.6</td>\n",
       "      <td>Gross domestic product per capita, current prices</td>\n",
       "      <td>U.S. dollars</td>\n",
       "      <td>Units</td>\n",
       "      <td>See notes for:  Gross domestic product, curren...</td>\n",
       "      <td>51350.744</td>\n",
       "      <td>2014.0</td>\n",
       "    </tr>\n",
       "    <tr>\n",
       "      <th>Denmark</th>\n",
       "      <td>15.0</td>\n",
       "      <td>3.9</td>\n",
       "      <td>7.0</td>\n",
       "      <td>0.9</td>\n",
       "      <td>78.0</td>\n",
       "      <td>2.03</td>\n",
       "      <td>73.0</td>\n",
       "      <td>0.3</td>\n",
       "      <td>26491.0</td>\n",
       "      <td>44488.0</td>\n",
       "      <td>...</td>\n",
       "      <td>16.06</td>\n",
       "      <td>88.0</td>\n",
       "      <td>94.0</td>\n",
       "      <td>19.4</td>\n",
       "      <td>Gross domestic product per capita, current prices</td>\n",
       "      <td>U.S. dollars</td>\n",
       "      <td>Units</td>\n",
       "      <td>See notes for:  Gross domestic product, curren...</td>\n",
       "      <td>52114.165</td>\n",
       "      <td>2015.0</td>\n",
       "    </tr>\n",
       "    <tr>\n",
       "      <th>United States</th>\n",
       "      <td>18.0</td>\n",
       "      <td>1.5</td>\n",
       "      <td>8.3</td>\n",
       "      <td>0.1</td>\n",
       "      <td>89.0</td>\n",
       "      <td>11.30</td>\n",
       "      <td>67.0</td>\n",
       "      <td>5.2</td>\n",
       "      <td>41355.0</td>\n",
       "      <td>145769.0</td>\n",
       "      <td>...</td>\n",
       "      <td>14.27</td>\n",
       "      <td>68.0</td>\n",
       "      <td>85.0</td>\n",
       "      <td>17.2</td>\n",
       "      <td>Gross domestic product per capita, current prices</td>\n",
       "      <td>U.S. dollars</td>\n",
       "      <td>Units</td>\n",
       "      <td>See notes for:  Gross domestic product, curren...</td>\n",
       "      <td>55805.204</td>\n",
       "      <td>2015.0</td>\n",
       "    </tr>\n",
       "    <tr>\n",
       "      <th>Norway</th>\n",
       "      <td>16.0</td>\n",
       "      <td>3.3</td>\n",
       "      <td>8.1</td>\n",
       "      <td>0.3</td>\n",
       "      <td>82.0</td>\n",
       "      <td>2.82</td>\n",
       "      <td>75.0</td>\n",
       "      <td>0.6</td>\n",
       "      <td>33492.0</td>\n",
       "      <td>8797.0</td>\n",
       "      <td>...</td>\n",
       "      <td>15.56</td>\n",
       "      <td>78.0</td>\n",
       "      <td>94.0</td>\n",
       "      <td>17.9</td>\n",
       "      <td>Gross domestic product per capita, current prices</td>\n",
       "      <td>U.S. dollars</td>\n",
       "      <td>Units</td>\n",
       "      <td>See notes for:  Gross domestic product, curren...</td>\n",
       "      <td>74822.106</td>\n",
       "      <td>2015.0</td>\n",
       "    </tr>\n",
       "    <tr>\n",
       "      <th>Switzerland</th>\n",
       "      <td>20.0</td>\n",
       "      <td>4.2</td>\n",
       "      <td>8.4</td>\n",
       "      <td>0.0</td>\n",
       "      <td>86.0</td>\n",
       "      <td>6.72</td>\n",
       "      <td>80.0</td>\n",
       "      <td>0.5</td>\n",
       "      <td>33491.0</td>\n",
       "      <td>108823.0</td>\n",
       "      <td>...</td>\n",
       "      <td>14.98</td>\n",
       "      <td>49.0</td>\n",
       "      <td>96.0</td>\n",
       "      <td>17.3</td>\n",
       "      <td>Gross domestic product per capita, current prices</td>\n",
       "      <td>U.S. dollars</td>\n",
       "      <td>Units</td>\n",
       "      <td>See notes for:  Gross domestic product, curren...</td>\n",
       "      <td>80675.308</td>\n",
       "      <td>2015.0</td>\n",
       "    </tr>\n",
       "    <tr>\n",
       "      <th>Luxembourg</th>\n",
       "      <td>12.0</td>\n",
       "      <td>4.3</td>\n",
       "      <td>6.0</td>\n",
       "      <td>0.1</td>\n",
       "      <td>78.0</td>\n",
       "      <td>3.47</td>\n",
       "      <td>66.0</td>\n",
       "      <td>0.4</td>\n",
       "      <td>38951.0</td>\n",
       "      <td>61765.0</td>\n",
       "      <td>...</td>\n",
       "      <td>15.12</td>\n",
       "      <td>91.0</td>\n",
       "      <td>86.0</td>\n",
       "      <td>15.1</td>\n",
       "      <td>Gross domestic product per capita, current prices</td>\n",
       "      <td>U.S. dollars</td>\n",
       "      <td>Units</td>\n",
       "      <td>See notes for:  Gross domestic product, curren...</td>\n",
       "      <td>101994.093</td>\n",
       "      <td>2014.0</td>\n",
       "    </tr>\n",
       "  </tbody>\n",
       "</table>\n",
       "<p>36 rows × 30 columns</p>\n",
       "</div>"
      ],
      "text/plain": [
       "                 Air pollution  Assault rate  Consultation on rule-making  \\\n",
       "Country                                                                     \n",
       "Brazil                    18.0           7.9                          4.0   \n",
       "Mexico                    30.0          12.8                          9.0   \n",
       "Russia                    15.0           3.8                          2.5   \n",
       "Turkey                    35.0           5.0                          5.5   \n",
       "Hungary                   15.0           3.6                          7.9   \n",
       "Poland                    33.0           1.4                         10.8   \n",
       "Chile                     46.0           6.9                          2.0   \n",
       "Slovak Republic           13.0           3.0                          6.6   \n",
       "Czech Republic            16.0           2.8                          6.8   \n",
       "Estonia                    9.0           5.5                          3.3   \n",
       "Greece                    27.0           3.7                          6.5   \n",
       "Portugal                  18.0           5.7                          6.5   \n",
       "Slovenia                  26.0           3.9                         10.3   \n",
       "Spain                     24.0           4.2                          7.3   \n",
       "Korea                     30.0           2.1                         10.4   \n",
       "Italy                     21.0           4.7                          5.0   \n",
       "Japan                     24.0           1.4                          7.3   \n",
       "Israel                    21.0           6.4                          2.5   \n",
       "New Zealand               11.0           2.2                         10.3   \n",
       "France                    12.0           5.0                          3.5   \n",
       "Belgium                   21.0           6.6                          4.5   \n",
       "Germany                   16.0           3.6                          4.5   \n",
       "Finland                   15.0           2.4                          9.0   \n",
       "Canada                    15.0           1.3                         10.5   \n",
       "Netherlands               30.0           4.9                          6.1   \n",
       "Austria                   27.0           3.4                          7.1   \n",
       "United Kingdom            13.0           1.9                         11.5   \n",
       "Sweden                    10.0           5.1                         10.9   \n",
       "Iceland                   18.0           2.7                          5.1   \n",
       "Australia                 13.0           2.1                         10.5   \n",
       "Ireland                   13.0           2.6                          9.0   \n",
       "Denmark                   15.0           3.9                          7.0   \n",
       "United States             18.0           1.5                          8.3   \n",
       "Norway                    16.0           3.3                          8.1   \n",
       "Switzerland               20.0           4.2                          8.4   \n",
       "Luxembourg                12.0           4.3                          6.0   \n",
       "\n",
       "                 Dwellings without basic facilities  Educational attainment  \\\n",
       "Country                                                                       \n",
       "Brazil                                          6.7                    45.0   \n",
       "Mexico                                          4.2                    37.0   \n",
       "Russia                                         15.1                    94.0   \n",
       "Turkey                                         12.7                    34.0   \n",
       "Hungary                                         4.8                    82.0   \n",
       "Poland                                          3.2                    90.0   \n",
       "Chile                                           9.4                    57.0   \n",
       "Slovak Republic                                 0.6                    92.0   \n",
       "Czech Republic                                  0.9                    92.0   \n",
       "Estonia                                         8.1                    90.0   \n",
       "Greece                                          0.7                    68.0   \n",
       "Portugal                                        0.9                    38.0   \n",
       "Slovenia                                        0.5                    85.0   \n",
       "Spain                                           0.1                    55.0   \n",
       "Korea                                           4.2                    82.0   \n",
       "Italy                                           1.1                    57.0   \n",
       "Japan                                           6.4                    94.0   \n",
       "Israel                                          3.7                    85.0   \n",
       "New Zealand                                     0.2                    74.0   \n",
       "France                                          0.5                    73.0   \n",
       "Belgium                                         2.0                    72.0   \n",
       "Germany                                         0.1                    86.0   \n",
       "Finland                                         0.6                    85.0   \n",
       "Canada                                          0.2                    89.0   \n",
       "Netherlands                                     0.0                    73.0   \n",
       "Austria                                         1.0                    83.0   \n",
       "United Kingdom                                  0.2                    78.0   \n",
       "Sweden                                          0.0                    88.0   \n",
       "Iceland                                         0.4                    71.0   \n",
       "Australia                                       1.1                    76.0   \n",
       "Ireland                                         0.2                    75.0   \n",
       "Denmark                                         0.9                    78.0   \n",
       "United States                                   0.1                    89.0   \n",
       "Norway                                          0.3                    82.0   \n",
       "Switzerland                                     0.0                    86.0   \n",
       "Luxembourg                                      0.1                    78.0   \n",
       "\n",
       "                 Employees working very long hours  Employment rate  \\\n",
       "Country                                                               \n",
       "Brazil                                       10.41             67.0   \n",
       "Mexico                                       28.83             61.0   \n",
       "Russia                                        0.16             69.0   \n",
       "Turkey                                       40.86             50.0   \n",
       "Hungary                                       3.19             58.0   \n",
       "Poland                                        7.41             60.0   \n",
       "Chile                                        15.42             62.0   \n",
       "Slovak Republic                               7.02             60.0   \n",
       "Czech Republic                                6.98             68.0   \n",
       "Estonia                                       3.30             68.0   \n",
       "Greece                                        6.16             49.0   \n",
       "Portugal                                      9.62             61.0   \n",
       "Slovenia                                      5.63             63.0   \n",
       "Spain                                         5.89             56.0   \n",
       "Korea                                        18.72             64.0   \n",
       "Italy                                         3.66             56.0   \n",
       "Japan                                        22.26             72.0   \n",
       "Israel                                       16.03             67.0   \n",
       "New Zealand                                  13.87             73.0   \n",
       "France                                        8.15             64.0   \n",
       "Belgium                                       4.57             62.0   \n",
       "Germany                                       5.25             73.0   \n",
       "Finland                                       3.58             69.0   \n",
       "Canada                                        3.94             72.0   \n",
       "Netherlands                                   0.45             74.0   \n",
       "Austria                                       7.61             72.0   \n",
       "United Kingdom                               12.70             71.0   \n",
       "Sweden                                        1.13             74.0   \n",
       "Iceland                                      12.25             82.0   \n",
       "Australia                                    14.02             72.0   \n",
       "Ireland                                       4.20             60.0   \n",
       "Denmark                                       2.03             73.0   \n",
       "United States                                11.30             67.0   \n",
       "Norway                                        2.82             75.0   \n",
       "Switzerland                                   6.72             80.0   \n",
       "Luxembourg                                    3.47             66.0   \n",
       "\n",
       "                 Homicide rate  Household net adjusted disposable income  \\\n",
       "Country                                                                    \n",
       "Brazil                    25.5                                   11664.0   \n",
       "Mexico                    23.4                                   13085.0   \n",
       "Russia                    12.8                                   19292.0   \n",
       "Turkey                     1.2                                   14095.0   \n",
       "Hungary                    1.3                                   15442.0   \n",
       "Poland                     0.9                                   17852.0   \n",
       "Chile                      4.4                                   14533.0   \n",
       "Slovak Republic            1.2                                   17503.0   \n",
       "Czech Republic             0.8                                   18404.0   \n",
       "Estonia                    4.8                                   15167.0   \n",
       "Greece                     1.6                                   18575.0   \n",
       "Portugal                   1.1                                   20086.0   \n",
       "Slovenia                   0.4                                   19326.0   \n",
       "Spain                      0.6                                   22477.0   \n",
       "Korea                      1.1                                   19510.0   \n",
       "Italy                      0.7                                   25166.0   \n",
       "Japan                      0.3                                   26111.0   \n",
       "Israel                     2.3                                   22104.0   \n",
       "New Zealand                1.2                                   23815.0   \n",
       "France                     0.6                                   28799.0   \n",
       "Belgium                    1.1                                   28307.0   \n",
       "Germany                    0.5                                   31252.0   \n",
       "Finland                    1.4                                   27927.0   \n",
       "Canada                     1.5                                   29365.0   \n",
       "Netherlands                0.9                                   27888.0   \n",
       "Austria                    0.4                                   31173.0   \n",
       "United Kingdom             0.3                                   27029.0   \n",
       "Sweden                     0.7                                   29185.0   \n",
       "Iceland                    0.3                                   23965.0   \n",
       "Australia                  0.8                                   31588.0   \n",
       "Ireland                    0.8                                   23917.0   \n",
       "Denmark                    0.3                                   26491.0   \n",
       "United States              5.2                                   41355.0   \n",
       "Norway                     0.6                                   33492.0   \n",
       "Switzerland                0.5                                   33491.0   \n",
       "Luxembourg                 0.4                                   38951.0   \n",
       "\n",
       "                 Household net financial wealth  ...  \\\n",
       "Country                                          ...   \n",
       "Brazil                                   6844.0  ...   \n",
       "Mexico                                   9056.0  ...   \n",
       "Russia                                   3412.0  ...   \n",
       "Turkey                                   3251.0  ...   \n",
       "Hungary                                 13277.0  ...   \n",
       "Poland                                  10919.0  ...   \n",
       "Chile                                   17733.0  ...   \n",
       "Slovak Republic                          8663.0  ...   \n",
       "Czech Republic                          17299.0  ...   \n",
       "Estonia                                  7680.0  ...   \n",
       "Greece                                  14579.0  ...   \n",
       "Portugal                                31245.0  ...   \n",
       "Slovenia                                18465.0  ...   \n",
       "Spain                                   24774.0  ...   \n",
       "Korea                                   29091.0  ...   \n",
       "Italy                                   54987.0  ...   \n",
       "Japan                                   86764.0  ...   \n",
       "Israel                                  52933.0  ...   \n",
       "New Zealand                             28290.0  ...   \n",
       "France                                  48741.0  ...   \n",
       "Belgium                                 83876.0  ...   \n",
       "Germany                                 50394.0  ...   \n",
       "Finland                                 18761.0  ...   \n",
       "Canada                                  67913.0  ...   \n",
       "Netherlands                             77961.0  ...   \n",
       "Austria                                 49887.0  ...   \n",
       "United Kingdom                          60778.0  ...   \n",
       "Sweden                                  60328.0  ...   \n",
       "Iceland                                 43045.0  ...   \n",
       "Australia                               47657.0  ...   \n",
       "Ireland                                 31580.0  ...   \n",
       "Denmark                                 44488.0  ...   \n",
       "United States                          145769.0  ...   \n",
       "Norway                                   8797.0  ...   \n",
       "Switzerland                            108823.0  ...   \n",
       "Luxembourg                              61765.0  ...   \n",
       "\n",
       "                 Time devoted to leisure and personal care  Voter turnout  \\\n",
       "Country                                                                     \n",
       "Brazil                                               14.97           79.0   \n",
       "Mexico                                               13.89           63.0   \n",
       "Russia                                               14.97           65.0   \n",
       "Turkey                                               13.42           88.0   \n",
       "Hungary                                              15.04           62.0   \n",
       "Poland                                               14.20           55.0   \n",
       "Chile                                                14.41           49.0   \n",
       "Slovak Republic                                      14.99           59.0   \n",
       "Czech Republic                                       14.98           59.0   \n",
       "Estonia                                              14.90           64.0   \n",
       "Greece                                               14.91           64.0   \n",
       "Portugal                                             14.95           58.0   \n",
       "Slovenia                                             14.62           52.0   \n",
       "Spain                                                16.06           69.0   \n",
       "Korea                                                14.63           76.0   \n",
       "Italy                                                14.98           75.0   \n",
       "Japan                                                14.93           53.0   \n",
       "Israel                                               14.48           68.0   \n",
       "New Zealand                                          14.87           77.0   \n",
       "France                                               15.33           80.0   \n",
       "Belgium                                              15.71           89.0   \n",
       "Germany                                              15.31           72.0   \n",
       "Finland                                              14.89           69.0   \n",
       "Canada                                               14.25           61.0   \n",
       "Netherlands                                          15.44           75.0   \n",
       "Austria                                              14.46           75.0   \n",
       "United Kingdom                                       14.83           66.0   \n",
       "Sweden                                               15.11           86.0   \n",
       "Iceland                                              14.61           81.0   \n",
       "Australia                                            14.41           93.0   \n",
       "Ireland                                              15.19           70.0   \n",
       "Denmark                                              16.06           88.0   \n",
       "United States                                        14.27           68.0   \n",
       "Norway                                               15.56           78.0   \n",
       "Switzerland                                          14.98           49.0   \n",
       "Luxembourg                                           15.12           91.0   \n",
       "\n",
       "                 Water quality  Years in education  \\\n",
       "Country                                              \n",
       "Brazil                    72.0                16.3   \n",
       "Mexico                    67.0                14.4   \n",
       "Russia                    56.0                16.0   \n",
       "Turkey                    62.0                16.4   \n",
       "Hungary                   77.0                17.6   \n",
       "Poland                    79.0                18.4   \n",
       "Chile                     73.0                16.5   \n",
       "Slovak Republic           81.0                16.3   \n",
       "Czech Republic            85.0                18.1   \n",
       "Estonia                   79.0                17.5   \n",
       "Greece                    69.0                18.6   \n",
       "Portugal                  86.0                17.6   \n",
       "Slovenia                  88.0                18.4   \n",
       "Spain                     71.0                17.6   \n",
       "Korea                     78.0                17.5   \n",
       "Italy                     71.0                16.8   \n",
       "Japan                     85.0                16.3   \n",
       "Israel                    68.0                15.8   \n",
       "New Zealand               89.0                18.1   \n",
       "France                    82.0                16.4   \n",
       "Belgium                   87.0                18.9   \n",
       "Germany                   95.0                18.2   \n",
       "Finland                   94.0                19.7   \n",
       "Canada                    91.0                17.2   \n",
       "Netherlands               92.0                18.7   \n",
       "Austria                   94.0                17.0   \n",
       "United Kingdom            88.0                16.4   \n",
       "Sweden                    95.0                19.3   \n",
       "Iceland                   97.0                19.8   \n",
       "Australia                 91.0                19.4   \n",
       "Ireland                   80.0                17.6   \n",
       "Denmark                   94.0                19.4   \n",
       "United States             85.0                17.2   \n",
       "Norway                    94.0                17.9   \n",
       "Switzerland               96.0                17.3   \n",
       "Luxembourg                86.0                15.1   \n",
       "\n",
       "                                                Subject Descriptor  \\\n",
       "Country                                                              \n",
       "Brazil           Gross domestic product per capita, current prices   \n",
       "Mexico           Gross domestic product per capita, current prices   \n",
       "Russia           Gross domestic product per capita, current prices   \n",
       "Turkey           Gross domestic product per capita, current prices   \n",
       "Hungary          Gross domestic product per capita, current prices   \n",
       "Poland           Gross domestic product per capita, current prices   \n",
       "Chile            Gross domestic product per capita, current prices   \n",
       "Slovak Republic  Gross domestic product per capita, current prices   \n",
       "Czech Republic   Gross domestic product per capita, current prices   \n",
       "Estonia          Gross domestic product per capita, current prices   \n",
       "Greece           Gross domestic product per capita, current prices   \n",
       "Portugal         Gross domestic product per capita, current prices   \n",
       "Slovenia         Gross domestic product per capita, current prices   \n",
       "Spain            Gross domestic product per capita, current prices   \n",
       "Korea            Gross domestic product per capita, current prices   \n",
       "Italy            Gross domestic product per capita, current prices   \n",
       "Japan            Gross domestic product per capita, current prices   \n",
       "Israel           Gross domestic product per capita, current prices   \n",
       "New Zealand      Gross domestic product per capita, current prices   \n",
       "France           Gross domestic product per capita, current prices   \n",
       "Belgium          Gross domestic product per capita, current prices   \n",
       "Germany          Gross domestic product per capita, current prices   \n",
       "Finland          Gross domestic product per capita, current prices   \n",
       "Canada           Gross domestic product per capita, current prices   \n",
       "Netherlands      Gross domestic product per capita, current prices   \n",
       "Austria          Gross domestic product per capita, current prices   \n",
       "United Kingdom   Gross domestic product per capita, current prices   \n",
       "Sweden           Gross domestic product per capita, current prices   \n",
       "Iceland          Gross domestic product per capita, current prices   \n",
       "Australia        Gross domestic product per capita, current prices   \n",
       "Ireland          Gross domestic product per capita, current prices   \n",
       "Denmark          Gross domestic product per capita, current prices   \n",
       "United States    Gross domestic product per capita, current prices   \n",
       "Norway           Gross domestic product per capita, current prices   \n",
       "Switzerland      Gross domestic product per capita, current prices   \n",
       "Luxembourg       Gross domestic product per capita, current prices   \n",
       "\n",
       "                        Units  Scale  \\\n",
       "Country                                \n",
       "Brazil           U.S. dollars  Units   \n",
       "Mexico           U.S. dollars  Units   \n",
       "Russia           U.S. dollars  Units   \n",
       "Turkey           U.S. dollars  Units   \n",
       "Hungary          U.S. dollars  Units   \n",
       "Poland           U.S. dollars  Units   \n",
       "Chile            U.S. dollars  Units   \n",
       "Slovak Republic  U.S. dollars  Units   \n",
       "Czech Republic   U.S. dollars  Units   \n",
       "Estonia          U.S. dollars  Units   \n",
       "Greece           U.S. dollars  Units   \n",
       "Portugal         U.S. dollars  Units   \n",
       "Slovenia         U.S. dollars  Units   \n",
       "Spain            U.S. dollars  Units   \n",
       "Korea            U.S. dollars  Units   \n",
       "Italy            U.S. dollars  Units   \n",
       "Japan            U.S. dollars  Units   \n",
       "Israel           U.S. dollars  Units   \n",
       "New Zealand      U.S. dollars  Units   \n",
       "France           U.S. dollars  Units   \n",
       "Belgium          U.S. dollars  Units   \n",
       "Germany          U.S. dollars  Units   \n",
       "Finland          U.S. dollars  Units   \n",
       "Canada           U.S. dollars  Units   \n",
       "Netherlands      U.S. dollars  Units   \n",
       "Austria          U.S. dollars  Units   \n",
       "United Kingdom   U.S. dollars  Units   \n",
       "Sweden           U.S. dollars  Units   \n",
       "Iceland          U.S. dollars  Units   \n",
       "Australia        U.S. dollars  Units   \n",
       "Ireland          U.S. dollars  Units   \n",
       "Denmark          U.S. dollars  Units   \n",
       "United States    U.S. dollars  Units   \n",
       "Norway           U.S. dollars  Units   \n",
       "Switzerland      U.S. dollars  Units   \n",
       "Luxembourg       U.S. dollars  Units   \n",
       "\n",
       "                                     Country/Series-specific Notes  \\\n",
       "Country                                                              \n",
       "Brazil           See notes for:  Gross domestic product, curren...   \n",
       "Mexico           See notes for:  Gross domestic product, curren...   \n",
       "Russia           See notes for:  Gross domestic product, curren...   \n",
       "Turkey           See notes for:  Gross domestic product, curren...   \n",
       "Hungary          See notes for:  Gross domestic product, curren...   \n",
       "Poland           See notes for:  Gross domestic product, curren...   \n",
       "Chile            See notes for:  Gross domestic product, curren...   \n",
       "Slovak Republic  See notes for:  Gross domestic product, curren...   \n",
       "Czech Republic   See notes for:  Gross domestic product, curren...   \n",
       "Estonia          See notes for:  Gross domestic product, curren...   \n",
       "Greece           See notes for:  Gross domestic product, curren...   \n",
       "Portugal         See notes for:  Gross domestic product, curren...   \n",
       "Slovenia         See notes for:  Gross domestic product, curren...   \n",
       "Spain            See notes for:  Gross domestic product, curren...   \n",
       "Korea            See notes for:  Gross domestic product, curren...   \n",
       "Italy            See notes for:  Gross domestic product, curren...   \n",
       "Japan            See notes for:  Gross domestic product, curren...   \n",
       "Israel           See notes for:  Gross domestic product, curren...   \n",
       "New Zealand      See notes for:  Gross domestic product, curren...   \n",
       "France           See notes for:  Gross domestic product, curren...   \n",
       "Belgium          See notes for:  Gross domestic product, curren...   \n",
       "Germany          See notes for:  Gross domestic product, curren...   \n",
       "Finland          See notes for:  Gross domestic product, curren...   \n",
       "Canada           See notes for:  Gross domestic product, curren...   \n",
       "Netherlands      See notes for:  Gross domestic product, curren...   \n",
       "Austria          See notes for:  Gross domestic product, curren...   \n",
       "United Kingdom   See notes for:  Gross domestic product, curren...   \n",
       "Sweden           See notes for:  Gross domestic product, curren...   \n",
       "Iceland          See notes for:  Gross domestic product, curren...   \n",
       "Australia        See notes for:  Gross domestic product, curren...   \n",
       "Ireland          See notes for:  Gross domestic product, curren...   \n",
       "Denmark          See notes for:  Gross domestic product, curren...   \n",
       "United States    See notes for:  Gross domestic product, curren...   \n",
       "Norway           See notes for:  Gross domestic product, curren...   \n",
       "Switzerland      See notes for:  Gross domestic product, curren...   \n",
       "Luxembourg       See notes for:  Gross domestic product, curren...   \n",
       "\n",
       "                 GDP per capita  Estimates Start After  \n",
       "Country                                                 \n",
       "Brazil                 8669.998                 2014.0  \n",
       "Mexico                 9009.280                 2015.0  \n",
       "Russia                 9054.914                 2015.0  \n",
       "Turkey                 9437.372                 2013.0  \n",
       "Hungary               12239.894                 2015.0  \n",
       "Poland                12495.334                 2014.0  \n",
       "Chile                 13340.905                 2014.0  \n",
       "Slovak Republic       15991.736                 2015.0  \n",
       "Czech Republic        17256.918                 2015.0  \n",
       "Estonia               17288.083                 2014.0  \n",
       "Greece                18064.288                 2014.0  \n",
       "Portugal              19121.592                 2014.0  \n",
       "Slovenia              20732.482                 2015.0  \n",
       "Spain                 25864.721                 2014.0  \n",
       "Korea                 27195.197                 2014.0  \n",
       "Italy                 29866.581                 2015.0  \n",
       "Japan                 32485.545                 2015.0  \n",
       "Israel                35343.336                 2015.0  \n",
       "New Zealand           37044.891                 2015.0  \n",
       "France                37675.006                 2015.0  \n",
       "Belgium               40106.632                 2014.0  \n",
       "Germany               40996.511                 2014.0  \n",
       "Finland               41973.988                 2014.0  \n",
       "Canada                43331.961                 2015.0  \n",
       "Netherlands           43603.115                 2014.0  \n",
       "Austria               43724.031                 2015.0  \n",
       "United Kingdom        43770.688                 2015.0  \n",
       "Sweden                49866.266                 2014.0  \n",
       "Iceland               50854.583                 2014.0  \n",
       "Australia             50961.865                 2014.0  \n",
       "Ireland               51350.744                 2014.0  \n",
       "Denmark               52114.165                 2015.0  \n",
       "United States         55805.204                 2015.0  \n",
       "Norway                74822.106                 2015.0  \n",
       "Switzerland           80675.308                 2015.0  \n",
       "Luxembourg           101994.093                 2014.0  \n",
       "\n",
       "[36 rows x 30 columns]"
      ]
     },
     "execution_count": 23,
     "metadata": {},
     "output_type": "execute_result"
    }
   ],
   "source": [
    "full_country_stats = pd.merge(left=oecd_bli, right=gdp_per_capita, left_index=True, right_index=True)\n",
    "full_country_stats.sort_values(by=\"GDP per capita\", inplace=True)\n",
    "full_country_stats"
   ]
  },
  {
   "cell_type": "code",
   "execution_count": 24,
   "id": "442739e7",
   "metadata": {
    "ExecuteTime": {
     "end_time": "2022-11-06T14:17:28.258327Z",
     "start_time": "2022-11-06T14:17:28.245196Z"
    }
   },
   "outputs": [
    {
     "data": {
      "text/plain": [
       "GDP per capita       55805.204\n",
       "Life satisfaction        7.200\n",
       "Name: United States, dtype: float64"
      ]
     },
     "execution_count": 24,
     "metadata": {},
     "output_type": "execute_result"
    }
   ],
   "source": [
    "full_country_stats[[\"GDP per capita\", 'Life satisfaction']].loc[\"United States\"]"
   ]
  },
  {
   "cell_type": "code",
   "execution_count": 26,
   "id": "3b0d28ab",
   "metadata": {
    "ExecuteTime": {
     "end_time": "2022-11-06T14:18:38.037233Z",
     "start_time": "2022-11-06T14:18:38.021757Z"
    }
   },
   "outputs": [],
   "source": [
    "remove_indices = [0, 1, 6, 8, 33, 34, 35]\n",
    "keep_indices = list(set(range(36)) - set(remove_indices))\n",
    "\n",
    "sample_data = full_country_stats[[\"GDP per capita\", 'Life satisfaction']].iloc[keep_indices]\n",
    "missing_data = full_country_stats[[\"GDP per capita\", 'Life satisfaction']].iloc[remove_indices]"
   ]
  },
  {
   "cell_type": "code",
   "execution_count": 30,
   "id": "47c80ba4",
   "metadata": {
    "ExecuteTime": {
     "end_time": "2022-11-06T14:22:03.305370Z",
     "start_time": "2022-11-06T14:22:02.875583Z"
    }
   },
   "outputs": [
    {
     "data": {
      "image/png": "[encoded data removed]",
      "text/plain": [
       "<Figure size 360x216 with 1 Axes>"
      ]
     },
     "metadata": {
      "needs_background": "light"
     },
     "output_type": "display_data"
    }
   ],
   "source": [
    "sample_data.plot(kind='scatter', x=\"GDP per capita\", y='Life satisfaction', figsize=(5,3))\n",
    "plt.axis([0, 60000, 0, 10])\n",
    "position_text = {\n",
    "    \"Hungary\": (5000, 1),\n",
    "    \"Korea\": (18000, 1.7),\n",
    "    \"France\": (29000, 2.4),\n",
    "    \"Australia\": (40000, 3.0),\n",
    "    \"United States\": (52000, 3.8),\n",
    "}\n",
    "for country, pos_text in position_text.items():\n",
    "    pos_data_x, pos_data_y = sample_data.loc[country]\n",
    "    country = \"U.S.\" if country == \"United States\" else country\n",
    "    plt.annotate(country, xy=(pos_data_x, pos_data_y), xytext=pos_text,\n",
    "                 arrowprops=dict(facecolor='black', width=0.5, shrink=0.1, headwidth=5))\n",
    "    plt.plot(pos_data_x, pos_data_y, \"ro\")\n",
    "plt.xlabel(\"GDP per capita (USD)\")\n",
    "save_fig('money_happy_scatterplot')\n",
    "plt.show()"
   ]
  },
  {
   "cell_type": "code",
   "execution_count": 31,
   "id": "0ecd2d6d",
   "metadata": {
    "ExecuteTime": {
     "end_time": "2022-11-06T14:22:43.019868Z",
     "start_time": "2022-11-06T14:22:43.012040Z"
    }
   },
   "outputs": [],
   "source": [
    "sample_data.to_csv(os.path.join(\"datasets\", \"lifesat\", \"lifesat.csv\"))"
   ]
  },
  {
   "cell_type": "code",
   "execution_count": 32,
   "id": "5c45948a",
   "metadata": {
    "ExecuteTime": {
     "end_time": "2022-11-06T14:22:53.596267Z",
     "start_time": "2022-11-06T14:22:53.575225Z"
    }
   },
   "outputs": [
    {
     "data": {
      "text/html": [
       "<div>\n",
       "<style scoped>\n",
       "    .dataframe tbody tr th:only-of-type {\n",
       "        vertical-align: middle;\n",
       "    }\n",
       "\n",
       "    .dataframe tbody tr th {\n",
       "        vertical-align: top;\n",
       "    }\n",
       "\n",
       "    .dataframe thead th {\n",
       "        text-align: right;\n",
       "    }\n",
       "</style>\n",
       "<table border=\"1\" class=\"dataframe\">\n",
       "  <thead>\n",
       "    <tr style=\"text-align: right;\">\n",
       "      <th></th>\n",
       "      <th>GDP per capita</th>\n",
       "      <th>Life satisfaction</th>\n",
       "    </tr>\n",
       "    <tr>\n",
       "      <th>Country</th>\n",
       "      <th></th>\n",
       "      <th></th>\n",
       "    </tr>\n",
       "  </thead>\n",
       "  <tbody>\n",
       "    <tr>\n",
       "      <th>Hungary</th>\n",
       "      <td>12239.894</td>\n",
       "      <td>4.9</td>\n",
       "    </tr>\n",
       "    <tr>\n",
       "      <th>Korea</th>\n",
       "      <td>27195.197</td>\n",
       "      <td>5.8</td>\n",
       "    </tr>\n",
       "    <tr>\n",
       "      <th>France</th>\n",
       "      <td>37675.006</td>\n",
       "      <td>6.5</td>\n",
       "    </tr>\n",
       "    <tr>\n",
       "      <th>Australia</th>\n",
       "      <td>50961.865</td>\n",
       "      <td>7.3</td>\n",
       "    </tr>\n",
       "    <tr>\n",
       "      <th>United States</th>\n",
       "      <td>55805.204</td>\n",
       "      <td>7.2</td>\n",
       "    </tr>\n",
       "  </tbody>\n",
       "</table>\n",
       "</div>"
      ],
      "text/plain": [
       "               GDP per capita  Life satisfaction\n",
       "Country                                         \n",
       "Hungary             12239.894                4.9\n",
       "Korea               27195.197                5.8\n",
       "France              37675.006                6.5\n",
       "Australia           50961.865                7.3\n",
       "United States       55805.204                7.2"
      ]
     },
     "execution_count": 32,
     "metadata": {},
     "output_type": "execute_result"
    }
   ],
   "source": [
    "sample_data.loc[list(position_text.keys())]"
   ]
  },
  {
   "cell_type": "code",
   "execution_count": 35,
   "id": "c40be326",
   "metadata": {
    "ExecuteTime": {
     "end_time": "2022-11-06T14:24:46.807023Z",
     "start_time": "2022-11-06T14:24:46.452439Z"
    }
   },
   "outputs": [
    {
     "data": {
      "image/png": "[encoded data removed]",
      "text/plain": [
       "<Figure size 360x216 with 1 Axes>"
      ]
     },
     "metadata": {
      "needs_background": "light"
     },
     "output_type": "display_data"
    }
   ],
   "source": [
    "import numpy as np\n",
    "\n",
    "sample_data.plot(kind='scatter', x=\"GDP per capita\", y='Life satisfaction', figsize=(5,3))\n",
    "plt.xlabel(\"GDP per capita (USD)\")\n",
    "plt.axis([0, 60000, 0, 10])\n",
    "X = np.linspace(0, 60000, 1000)\n",
    "plt.plot(X, 2*X/100000, \"r\")\n",
    "plt.text(40000, 2.7, r\"$\\theta_0 = 0$\", fontsize=14, color=\"r\")\n",
    "plt.text(40000, 1.8, r\"$\\theta_1 = 2 \\times 10^{-5}$\", fontsize=14, color=\"r\")\n",
    "plt.plot(X, 8 - 5*X/100000, \"g\")\n",
    "plt.text(5000, 9.1, r\"$\\theta_0 = 8$\", fontsize=14, color=\"g\")\n",
    "plt.text(5000, 8.2, r\"$\\theta_1 = -5 \\times 10^{-5}$\", fontsize=14, color=\"g\")\n",
    "plt.plot(X, 4 + 5*X/100000, \"b\")\n",
    "plt.text(5000, 3.5, r\"$\\theta_0 = 4$\", fontsize=14, color=\"b\")\n",
    "plt.text(5000, 2.6, r\"$\\theta_1 = 5 \\times 10^{-5}$\", fontsize=14, color=\"b\")\n",
    "save_fig('tweaking_model_params_plot')\n",
    "plt.show()"
   ]
  },
  {
   "cell_type": "code",
   "execution_count": 36,
   "id": "375cc309",
   "metadata": {
    "ExecuteTime": {
     "end_time": "2022-11-06T14:26:17.528267Z",
     "start_time": "2022-11-06T14:26:17.511918Z"
    }
   },
   "outputs": [
    {
     "data": {
      "text/plain": [
       "(4.853052800266436, 4.911544589158484e-05)"
      ]
     },
     "execution_count": 36,
     "metadata": {},
     "output_type": "execute_result"
    }
   ],
   "source": [
    "from sklearn import linear_model\n",
    "lin1 = linear_model.LinearRegression()\n",
    "Xsample = np.c_[sample_data[\"GDP per capita\"]]\n",
    "ysample = np.c_[sample_data[\"Life satisfaction\"]]\n",
    "lin1.fit(Xsample, ysample)\n",
    "t0, t1 = lin1.intercept_[0], lin1.coef_[0][0]\n",
    "t0, t1"
   ]
  },
  {
   "cell_type": "code",
   "execution_count": 39,
   "id": "2f9cee1b",
   "metadata": {
    "ExecuteTime": {
     "end_time": "2022-11-06T14:28:31.607800Z",
     "start_time": "2022-11-06T14:28:31.303826Z"
    }
   },
   "outputs": [
    {
     "data": {
      "image/png": "[encoded data removed]",
      "text/plain": [
       "<Figure size 360x216 with 1 Axes>"
      ]
     },
     "metadata": {
      "needs_background": "light"
     },
     "output_type": "display_data"
    }
   ],
   "source": [
    "sample_data.plot(kind='scatter', x=\"GDP per capita\", y='Life satisfaction', figsize=(5,3))\n",
    "plt.xlabel(\"GDP per capita\")\n",
    "plt.axis([0, 60000, 0, 10])\n",
    "X = np.linspace(0, 60000, 1000)\n",
    "plt.plot(X, t0 + t1*X, 1000)\n",
    "plt.text(5000, 3.1, r\"$\\theta_0 = 4.85$\", fontsize=14, color=\"b\")\n",
    "plt.text(5000, 2.2, r\"$\\theta_1 = 4.91 \\times 10^{-5}$\", fontsize=14, color=\"b\")\n",
    "save_fig('best_fit_model_plot')\n",
    "plt.show()"
   ]
  },
  {
   "cell_type": "code",
   "execution_count": 42,
   "id": "b0e4dbc1",
   "metadata": {
    "ExecuteTime": {
     "end_time": "2022-11-06T14:30:18.979629Z",
     "start_time": "2022-11-06T14:30:18.959492Z"
    }
   },
   "outputs": [
    {
     "name": "stdout",
     "output_type": "stream",
     "text": [
      "22587.49\n"
     ]
    },
    {
     "data": {
      "text/plain": [
       "5.96244744318815"
      ]
     },
     "execution_count": 42,
     "metadata": {},
     "output_type": "execute_result"
    }
   ],
   "source": [
    "cyprus_gdp_per_capita = gdp_per_capita.loc[\"Cyprus\"][\"GDP per capita\"]\n",
    "print(cyprus_gdp_per_capita)\n",
    "cyprus_predicted_life_satisfaction = lin1.predict([[cyprus_gdp_per_capita]])[0][0]\n",
    "cyprus_predicted_life_satisfaction"
   ]
  },
  {
   "cell_type": "code",
   "execution_count": 43,
   "id": "74f5d730",
   "metadata": {
    "ExecuteTime": {
     "end_time": "2022-11-06T14:30:20.198247Z",
     "start_time": "2022-11-06T14:30:19.868003Z"
    }
   },
   "outputs": [
    {
     "data": {
      "image/png": "[encoded data removed]",
      "text/plain": [
       "<Figure size 360x216 with 1 Axes>"
      ]
     },
     "metadata": {
      "needs_background": "light"
     },
     "output_type": "display_data"
    }
   ],
   "source": [
    "sample_data.plot(kind='scatter', x=\"GDP per capita\", y='Life satisfaction', figsize=(5,3), s=1)\n",
    "plt.xlabel(\"GDP per capita (USD)\")\n",
    "X = np.linspace(0, 60000, 1000)\n",
    "plt.plot(X, t0 + t1*X, \"b\")\n",
    "plt.axis([0, 60000, 0, 10])\n",
    "plt.text(5000, 7.5, r\"$\\theta_0 = 4.85$\", fontsize=14, color=\"b\")\n",
    "plt.text(5000, 6.6, r\"$\\theta_1 = 4.91 \\times 10^{-5}$\", fontsize=14, color=\"b\")\n",
    "plt.plot([cyprus_gdp_per_capita, cyprus_gdp_per_capita], [0, cyprus_predicted_life_satisfaction], \"r--\")\n",
    "plt.text(25000, 5.0, r\"Prediction = 5.96\", fontsize=14, color=\"b\")\n",
    "plt.plot(cyprus_gdp_per_capita, cyprus_predicted_life_satisfaction, \"ro\")\n",
    "save_fig('cyprus_prediction_plot')\n",
    "plt.show()"
   ]
  },
  {
   "cell_type": "code",
   "execution_count": 44,
   "id": "1c426eee",
   "metadata": {
    "ExecuteTime": {
     "end_time": "2022-11-06T14:30:36.759848Z",
     "start_time": "2022-11-06T14:30:36.739106Z"
    }
   },
   "outputs": [
    {
     "data": {
      "text/html": [
       "<div>\n",
       "<style scoped>\n",
       "    .dataframe tbody tr th:only-of-type {\n",
       "        vertical-align: middle;\n",
       "    }\n",
       "\n",
       "    .dataframe tbody tr th {\n",
       "        vertical-align: top;\n",
       "    }\n",
       "\n",
       "    .dataframe thead th {\n",
       "        text-align: right;\n",
       "    }\n",
       "</style>\n",
       "<table border=\"1\" class=\"dataframe\">\n",
       "  <thead>\n",
       "    <tr style=\"text-align: right;\">\n",
       "      <th></th>\n",
       "      <th>GDP per capita</th>\n",
       "      <th>Life satisfaction</th>\n",
       "    </tr>\n",
       "    <tr>\n",
       "      <th>Country</th>\n",
       "      <th></th>\n",
       "      <th></th>\n",
       "    </tr>\n",
       "  </thead>\n",
       "  <tbody>\n",
       "    <tr>\n",
       "      <th>Portugal</th>\n",
       "      <td>19121.592</td>\n",
       "      <td>5.1</td>\n",
       "    </tr>\n",
       "    <tr>\n",
       "      <th>Slovenia</th>\n",
       "      <td>20732.482</td>\n",
       "      <td>5.7</td>\n",
       "    </tr>\n",
       "    <tr>\n",
       "      <th>Spain</th>\n",
       "      <td>25864.721</td>\n",
       "      <td>6.5</td>\n",
       "    </tr>\n",
       "  </tbody>\n",
       "</table>\n",
       "</div>"
      ],
      "text/plain": [
       "          GDP per capita  Life satisfaction\n",
       "Country                                    \n",
       "Portugal       19121.592                5.1\n",
       "Slovenia       20732.482                5.7\n",
       "Spain          25864.721                6.5"
      ]
     },
     "execution_count": 44,
     "metadata": {},
     "output_type": "execute_result"
    }
   ],
   "source": [
    "sample_data[7:10]"
   ]
  },
  {
   "cell_type": "code",
   "execution_count": 46,
   "id": "d6997cf3",
   "metadata": {
    "ExecuteTime": {
     "end_time": "2022-11-06T14:30:55.490975Z",
     "start_time": "2022-11-06T14:30:55.484568Z"
    }
   },
   "outputs": [
    {
     "data": {
      "text/plain": [
       "5.766666666666667"
      ]
     },
     "execution_count": 46,
     "metadata": {},
     "output_type": "execute_result"
    }
   ],
   "source": [
    "(5.1 + 5.7 + 6.5) / 3"
   ]
  },
  {
   "cell_type": "code",
   "execution_count": 47,
   "id": "ddd37aaf",
   "metadata": {
    "ExecuteTime": {
     "end_time": "2022-11-06T14:33:46.619512Z",
     "start_time": "2022-11-06T14:33:46.607996Z"
    }
   },
   "outputs": [],
   "source": [
    "backup = oecd_bli, gdp_per_capita\n",
    "\n",
    "def prepare_country_stats(oecd_bli, gdp_per_capita):\n",
    "    oecd_bli = oecd_bli[oecd_bli[\"INEQUALITY\"]==\"TOT\"]\n",
    "    oecd_bli = oecd_bli.pivot(index=\"Country\", columns=\"Indicator\", values=\"Value\")\n",
    "    gdp_per_capita.rename(columns={\"2015\": \"GDP per capita\"}, inplace=True)\n",
    "    gdp_per_capita.set_index(\"Country\", inplace=True)\n",
    "    full_country_stats = pd.merge(left=oecd_bli, right=gdp_per_capita,\n",
    "                                  left_index=True, right_index=True)\n",
    "    full_country_stats.sort_values(by=\"GDP per capita\", inplace=True)\n",
    "    remove_indices = [0, 1, 6, 8, 33, 34, 35]\n",
    "    keep_indices = list(set(range(36)) - set(remove_indices))\n",
    "    return full_country_stats[[\"GDP per capita\", 'Life satisfaction']].iloc[keep_indices]"
   ]
  },
  {
   "cell_type": "code",
   "execution_count": 48,
   "id": "05dc1875",
   "metadata": {
    "ExecuteTime": {
     "end_time": "2022-11-06T14:37:24.331911Z",
     "start_time": "2022-11-06T14:37:24.194185Z"
    }
   },
   "outputs": [
    {
     "data": {
      "image/png": "[encoded data removed]",
      "text/plain": [
       "<Figure size 432x288 with 1 Axes>"
      ]
     },
     "metadata": {
      "needs_background": "light"
     },
     "output_type": "display_data"
    },
    {
     "name": "stdout",
     "output_type": "stream",
     "text": [
      "[[5.96242338]]\n"
     ]
    }
   ],
   "source": [
    "# Code example\n",
    "import matplotlib.pyplot as plt\n",
    "import numpy as np\n",
    "import pandas as pd\n",
    "import sklearn.linear_model\n",
    "\n",
    "# Load the data\n",
    "oecd_bli = pd.read_csv(datapath + \"oecd_bli_2015.csv\", thousands=',')\n",
    "gdp_per_capita = pd.read_csv(datapath + \"gdp_per_capita.csv\", thousands=',', delimiter='\\t',\n",
    "                             encoding='latin1', na_values=\"n/a\")\n",
    "\n",
    "# Prepare the data\n",
    "country_stats = prepare_country_stats(oecd_bli, gdp_per_capita)\n",
    "X = np.c_[country_stats[\"GDP per capita\"]]\n",
    "y = np.c_[country_stats[\"Life satisfaction\"]]\n",
    "\n",
    "# Visualize the data\n",
    "country_stats.plot(kind='scatter', x=\"GDP per capita\", y='Life satisfaction')\n",
    "plt.show()\n",
    "\n",
    "# Select a linear model\n",
    "model = sklearn.linear_model.LinearRegression()\n",
    "\n",
    "# Train the model\n",
    "model.fit(X, y)\n",
    "\n",
    "# Make a prediction for Cyprus\n",
    "X_new = [[22587]]  # Cyprus' GDP per capita\n",
    "print(model.predict(X_new))"
   ]
  },
  {
   "cell_type": "code",
   "execution_count": 49,
   "id": "fae191a1",
   "metadata": {
    "ExecuteTime": {
     "end_time": "2022-11-06T14:42:17.441370Z",
     "start_time": "2022-11-06T14:42:17.438301Z"
    }
   },
   "outputs": [],
   "source": [
    "oecd_bli, gdp_per_capita = backup"
   ]
  },
  {
   "cell_type": "code",
   "execution_count": 50,
   "id": "6e24b1a3",
   "metadata": {
    "ExecuteTime": {
     "end_time": "2022-11-06T14:42:19.310426Z",
     "start_time": "2022-11-06T14:42:19.297403Z"
    }
   },
   "outputs": [
    {
     "data": {
      "text/html": [
       "<div>\n",
       "<style scoped>\n",
       "    .dataframe tbody tr th:only-of-type {\n",
       "        vertical-align: middle;\n",
       "    }\n",
       "\n",
       "    .dataframe tbody tr th {\n",
       "        vertical-align: top;\n",
       "    }\n",
       "\n",
       "    .dataframe thead th {\n",
       "        text-align: right;\n",
       "    }\n",
       "</style>\n",
       "<table border=\"1\" class=\"dataframe\">\n",
       "  <thead>\n",
       "    <tr style=\"text-align: right;\">\n",
       "      <th></th>\n",
       "      <th>GDP per capita</th>\n",
       "      <th>Life satisfaction</th>\n",
       "    </tr>\n",
       "    <tr>\n",
       "      <th>Country</th>\n",
       "      <th></th>\n",
       "      <th></th>\n",
       "    </tr>\n",
       "  </thead>\n",
       "  <tbody>\n",
       "    <tr>\n",
       "      <th>Brazil</th>\n",
       "      <td>8669.998</td>\n",
       "      <td>7.0</td>\n",
       "    </tr>\n",
       "    <tr>\n",
       "      <th>Mexico</th>\n",
       "      <td>9009.280</td>\n",
       "      <td>6.7</td>\n",
       "    </tr>\n",
       "    <tr>\n",
       "      <th>Chile</th>\n",
       "      <td>13340.905</td>\n",
       "      <td>6.7</td>\n",
       "    </tr>\n",
       "    <tr>\n",
       "      <th>Czech Republic</th>\n",
       "      <td>17256.918</td>\n",
       "      <td>6.5</td>\n",
       "    </tr>\n",
       "    <tr>\n",
       "      <th>Norway</th>\n",
       "      <td>74822.106</td>\n",
       "      <td>7.4</td>\n",
       "    </tr>\n",
       "    <tr>\n",
       "      <th>Switzerland</th>\n",
       "      <td>80675.308</td>\n",
       "      <td>7.5</td>\n",
       "    </tr>\n",
       "    <tr>\n",
       "      <th>Luxembourg</th>\n",
       "      <td>101994.093</td>\n",
       "      <td>6.9</td>\n",
       "    </tr>\n",
       "  </tbody>\n",
       "</table>\n",
       "</div>"
      ],
      "text/plain": [
       "                GDP per capita  Life satisfaction\n",
       "Country                                          \n",
       "Brazil                8669.998                7.0\n",
       "Mexico                9009.280                6.7\n",
       "Chile                13340.905                6.7\n",
       "Czech Republic       17256.918                6.5\n",
       "Norway               74822.106                7.4\n",
       "Switzerland          80675.308                7.5\n",
       "Luxembourg          101994.093                6.9"
      ]
     },
     "execution_count": 50,
     "metadata": {},
     "output_type": "execute_result"
    }
   ],
   "source": [
    "missing_data"
   ]
  },
  {
   "cell_type": "code",
   "execution_count": 51,
   "id": "02c04663",
   "metadata": {
    "ExecuteTime": {
     "end_time": "2022-11-06T14:42:27.273943Z",
     "start_time": "2022-11-06T14:42:27.260052Z"
    }
   },
   "outputs": [],
   "source": [
    "position_text2 = {\n",
    "    \"Brazil\": (1000, 9.0),\n",
    "    \"Mexico\": (11000, 9.0),\n",
    "    \"Chile\": (25000, 9.0),\n",
    "    \"Czech Republic\": (35000, 9.0),\n",
    "    \"Norway\": (60000, 3),\n",
    "    \"Switzerland\": (72000, 3.0),\n",
    "    \"Luxembourg\": (90000, 3.0),\n",
    "}"
   ]
  },
  {
   "cell_type": "code",
   "execution_count": 54,
   "id": "cbebad24",
   "metadata": {
    "ExecuteTime": {
     "end_time": "2022-11-06T14:46:18.881685Z",
     "start_time": "2022-11-06T14:46:18.222003Z"
    }
   },
   "outputs": [
    {
     "data": {
      "image/png": "[encoded data removed]",
      "text/plain": [
       "<Figure size 576x216 with 1 Axes>"
      ]
     },
     "metadata": {
      "needs_background": "light"
     },
     "output_type": "display_data"
    }
   ],
   "source": [
    "sample_data.plot(kind='scatter', x=\"GDP per capita\", y='Life satisfaction', figsize=(8,3))\n",
    "plt.axis([0, 110000, 0, 10])\n",
    "\n",
    "for country, pos_text in position_text2.items():\n",
    "    pos_data_x, pos_data_y = missing_data.loc[country]\n",
    "    plt.annotate(country, xy=(pos_data_x, pos_data_y), xytext=pos_text,\n",
    "            arrowprops=dict(facecolor='black', width=0.5, shrink=0.1, headwidth=5))\n",
    "    plt.plot(pos_data_x, pos_data_y, \"rs\")\n",
    "\n",
    "X = np.linspace(0, 110000, 1000)\n",
    "plt.plot(X, t0 + t1*X, \"b:\")\n",
    "\n",
    "lin_reg_full = linear_model.LinearRegression()\n",
    "Xfull = np.c_[full_country_stats[\"GDP per capita\"]]\n",
    "yfull = np.c_[full_country_stats[\"Life satisfaction\"]]\n",
    "lin_reg_full.fit(Xfull, yfull)\n",
    "\n",
    "t0full, t1full = lin_reg_full.intercept_[0], lin_reg_full.coef_[0][0]\n",
    "X = np.linspace(0, 110000, 1000)\n",
    "plt.plot(X, t0full + t1full * X, \"k\")\n",
    "plt.xlabel(\"GDP per capita (USD)\")\n",
    "\n",
    "save_fig('representative_training_data_scatterplot')\n",
    "plt.show()"
   ]
  },
  {
   "cell_type": "code",
   "execution_count": 56,
   "id": "a5290042",
   "metadata": {
    "ExecuteTime": {
     "end_time": "2022-11-06T14:49:12.431247Z",
     "start_time": "2022-11-06T14:49:12.413168Z"
    }
   },
   "outputs": [
    {
     "data": {
      "text/plain": [
       "Country\n",
       "New Zealand    7.3\n",
       "Sweden         7.2\n",
       "Norway         7.4\n",
       "Switzerland    7.5\n",
       "Name: Life satisfaction, dtype: float64"
      ]
     },
     "execution_count": 56,
     "metadata": {},
     "output_type": "execute_result"
    }
   ],
   "source": [
    "full_country_stats.loc[[c for c in full_country_stats.index if \"W\" in c.upper()]][\"Life satisfaction\"]"
   ]
  },
  {
   "cell_type": "code",
   "execution_count": 57,
   "id": "b8f2c82c",
   "metadata": {
    "ExecuteTime": {
     "end_time": "2022-11-06T14:49:21.515011Z",
     "start_time": "2022-11-06T14:49:21.499434Z"
    }
   },
   "outputs": [
    {
     "data": {
      "text/html": [
       "<div>\n",
       "<style scoped>\n",
       "    .dataframe tbody tr th:only-of-type {\n",
       "        vertical-align: middle;\n",
       "    }\n",
       "\n",
       "    .dataframe tbody tr th {\n",
       "        vertical-align: top;\n",
       "    }\n",
       "\n",
       "    .dataframe thead th {\n",
       "        text-align: right;\n",
       "    }\n",
       "</style>\n",
       "<table border=\"1\" class=\"dataframe\">\n",
       "  <thead>\n",
       "    <tr style=\"text-align: right;\">\n",
       "      <th></th>\n",
       "      <th>Subject Descriptor</th>\n",
       "      <th>Units</th>\n",
       "      <th>Scale</th>\n",
       "      <th>Country/Series-specific Notes</th>\n",
       "      <th>GDP per capita</th>\n",
       "      <th>Estimates Start After</th>\n",
       "    </tr>\n",
       "    <tr>\n",
       "      <th>Country</th>\n",
       "      <th></th>\n",
       "      <th></th>\n",
       "      <th></th>\n",
       "      <th></th>\n",
       "      <th></th>\n",
       "      <th></th>\n",
       "    </tr>\n",
       "  </thead>\n",
       "  <tbody>\n",
       "    <tr>\n",
       "      <th>Botswana</th>\n",
       "      <td>Gross domestic product per capita, current prices</td>\n",
       "      <td>U.S. dollars</td>\n",
       "      <td>Units</td>\n",
       "      <td>See notes for:  Gross domestic product, curren...</td>\n",
       "      <td>6040.957</td>\n",
       "      <td>2008.0</td>\n",
       "    </tr>\n",
       "    <tr>\n",
       "      <th>Kuwait</th>\n",
       "      <td>Gross domestic product per capita, current prices</td>\n",
       "      <td>U.S. dollars</td>\n",
       "      <td>Units</td>\n",
       "      <td>See notes for:  Gross domestic product, curren...</td>\n",
       "      <td>29363.027</td>\n",
       "      <td>2014.0</td>\n",
       "    </tr>\n",
       "    <tr>\n",
       "      <th>Malawi</th>\n",
       "      <td>Gross domestic product per capita, current prices</td>\n",
       "      <td>U.S. dollars</td>\n",
       "      <td>Units</td>\n",
       "      <td>See notes for:  Gross domestic product, curren...</td>\n",
       "      <td>354.275</td>\n",
       "      <td>2011.0</td>\n",
       "    </tr>\n",
       "    <tr>\n",
       "      <th>New Zealand</th>\n",
       "      <td>Gross domestic product per capita, current prices</td>\n",
       "      <td>U.S. dollars</td>\n",
       "      <td>Units</td>\n",
       "      <td>See notes for:  Gross domestic product, curren...</td>\n",
       "      <td>37044.891</td>\n",
       "      <td>2015.0</td>\n",
       "    </tr>\n",
       "    <tr>\n",
       "      <th>Norway</th>\n",
       "      <td>Gross domestic product per capita, current prices</td>\n",
       "      <td>U.S. dollars</td>\n",
       "      <td>Units</td>\n",
       "      <td>See notes for:  Gross domestic product, curren...</td>\n",
       "      <td>74822.106</td>\n",
       "      <td>2015.0</td>\n",
       "    </tr>\n",
       "  </tbody>\n",
       "</table>\n",
       "</div>"
      ],
      "text/plain": [
       "                                            Subject Descriptor         Units  \\\n",
       "Country                                                                        \n",
       "Botswana     Gross domestic product per capita, current prices  U.S. dollars   \n",
       "Kuwait       Gross domestic product per capita, current prices  U.S. dollars   \n",
       "Malawi       Gross domestic product per capita, current prices  U.S. dollars   \n",
       "New Zealand  Gross domestic product per capita, current prices  U.S. dollars   \n",
       "Norway       Gross domestic product per capita, current prices  U.S. dollars   \n",
       "\n",
       "             Scale                      Country/Series-specific Notes  \\\n",
       "Country                                                                 \n",
       "Botswana     Units  See notes for:  Gross domestic product, curren...   \n",
       "Kuwait       Units  See notes for:  Gross domestic product, curren...   \n",
       "Malawi       Units  See notes for:  Gross domestic product, curren...   \n",
       "New Zealand  Units  See notes for:  Gross domestic product, curren...   \n",
       "Norway       Units  See notes for:  Gross domestic product, curren...   \n",
       "\n",
       "             GDP per capita  Estimates Start After  \n",
       "Country                                             \n",
       "Botswana           6040.957                 2008.0  \n",
       "Kuwait            29363.027                 2014.0  \n",
       "Malawi              354.275                 2011.0  \n",
       "New Zealand       37044.891                 2015.0  \n",
       "Norway            74822.106                 2015.0  "
      ]
     },
     "execution_count": 57,
     "metadata": {},
     "output_type": "execute_result"
    }
   ],
   "source": [
    "gdp_per_capita.loc[[c for c in gdp_per_capita.index if \"W\" in c.upper()]].head()"
   ]
  },
  {
   "cell_type": "code",
   "execution_count": 58,
   "id": "c359f376",
   "metadata": {
    "ExecuteTime": {
     "end_time": "2022-11-06T14:49:29.036320Z",
     "start_time": "2022-11-06T14:49:28.727585Z"
    },
    "scrolled": true
   },
   "outputs": [
    {
     "data": {
      "image/png": "[encoded data removed]",
      "text/plain": [
       "<Figure size 576x216 with 1 Axes>"
      ]
     },
     "metadata": {
      "needs_background": "light"
     },
     "output_type": "display_data"
    }
   ],
   "source": [
    "plt.figure(figsize=(8,3))\n",
    "\n",
    "plt.xlabel(\"GDP per capita\")\n",
    "plt.ylabel('Life satisfaction')\n",
    "\n",
    "plt.plot(list(sample_data[\"GDP per capita\"]), list(sample_data[\"Life satisfaction\"]), \"bo\")\n",
    "plt.plot(list(missing_data[\"GDP per capita\"]), list(missing_data[\"Life satisfaction\"]), \"rs\")\n",
    "\n",
    "X = np.linspace(0, 110000, 1000)\n",
    "plt.plot(X, t0full + t1full * X, \"r--\", label=\"Linear model on all data\")\n",
    "plt.plot(X, t0 + t1*X, \"b:\", label=\"Linear model on partial data\")\n",
    "\n",
    "ridge = linear_model.Ridge(alpha=10**9.5)\n",
    "Xsample = np.c_[sample_data[\"GDP per capita\"]]\n",
    "ysample = np.c_[sample_data[\"Life satisfaction\"]]\n",
    "ridge.fit(Xsample, ysample)\n",
    "t0ridge, t1ridge = ridge.intercept_[0], ridge.coef_[0][0]\n",
    "plt.plot(X, t0ridge + t1ridge * X, \"b\", label=\"Regularized linear model on partial data\")\n",
    "\n",
    "plt.legend(loc=\"lower right\")\n",
    "plt.axis([0, 110000, 0, 10])\n",
    "plt.xlabel(\"GDP per capita (USD)\")\n",
    "save_fig('ridge_model_plot')\n",
    "plt.show()"
   ]
  },
  {
   "cell_type": "markdown",
   "id": "2be9867b",
   "metadata": {},
   "source": [
    "# 각주"
   ]
  },
  {
   "cell_type": "markdown",
   "id": "b457d9a3",
   "metadata": {},
   "source": [
    "<b id=\"p1\">1</b> 명시적 프로그래밍은 규칙 기반 프로그램<sup>rule based program</sup>과 같이 입력조건과 상태조건에 따라 동작하는 것을 모두 구현하는 프로그래밍 방식이다. [↩](#a1)\n",
    "\n",
    "<b id=\"p2\">2</b> 머신러닝에서는 입력 데이터의 특성을 하나의 축으로 생각하여 벡터 공간이란 표현이 자주 등장한다. 특성을 줄여 차원이 낮아진 데이터는 부분 공간이라고 표현한다. [↩](#a2)\n",
    "\n",
    "<b id=\"p3\">3</b> 이는 시스템이 완벽했을 때이다. 실제로는 사람마다 여러 개의 군집이 만들어지고 때로는 비슷한 외모의 두 사람이 섞이기도 한다. 그래서 사람마다 여러 번 레이블을 부여하고 어떤 군집은 수동으로 정리해야 한다. [↩](#a3)\n",
    "\n",
    "<b id=\"p4\">4</b> 신호 대 잡음비(SNR = 신호 / 잡음)는 잡음 대비 신호의 크기를 나타낸다. [↩](#a4)\n",
    "\n",
    "<b id=\"p5\">5</b> 예를 들어 테스트 세트에서 따로 계산한 평균과 표준 편차를 사용하여 테스트 세트를 전처리하면 훈련 세트와는 다른 비율로 변환하기 때문에 훈련 세트에서 학습한 모델이 잘 작동하지 않을 것이다. 새로운 데이터 하나에서 예측을 만들 때는 이런 통계를 구할 수도 없다. 테스트 세트를 본 적 없는 새로운 데이터와 동일하게 취급하지 않으면 낙관적인 결과를 얻게 된다. [↩](#a5)"
   ]
  }
 ],
 "metadata": {
  "jupytext": {
   "formats": "ipynb,auto:light"
  },
  "kernelspec": {
   "display_name": "myenv",
   "language": "python",
   "name": "myenv"
  },
  "language_info": {
   "codemirror_mode": {
    "name": "ipython",
    "version": 3
   },
   "file_extension": ".py",
   "mimetype": "text/x-python",
   "name": "python",
   "nbconvert_exporter": "python",
   "pygments_lexer": "ipython3",
   "version": "3.8.13"
  },
  "toc": {
   "base_numbering": 1,
   "nav_menu": {},
   "number_sections": true,
   "sideBar": true,
   "skip_h1_title": false,
   "title_cell": "Table of Contents",
   "title_sidebar": "Contents",
   "toc_cell": false,
   "toc_position": {},
   "toc_section_display": true,
   "toc_window_display": true
  }
 },
 "nbformat": 4,
 "nbformat_minor": 5
}
