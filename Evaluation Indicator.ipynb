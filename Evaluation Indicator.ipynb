{
 "cells": [
  {
   "cell_type": "markdown",
   "id": "5a353590",
   "metadata": {},
   "source": [
    "# 설정"
   ]
  },
  {
   "cell_type": "code",
   "execution_count": 1,
   "id": "63275d63",
   "metadata": {
    "ExecuteTime": {
     "end_time": "2023-01-11T10:46:41.444463Z",
     "start_time": "2023-01-11T10:46:38.827482Z"
    }
   },
   "outputs": [],
   "source": [
    "# 파이썬 ≥3.5 필수\n",
    "import sys\n",
    "assert sys.version_info >= (3, 5)\n",
    "\n",
    "# 사이킷런 ≥0.20 필수\n",
    "import sklearn\n",
    "assert sklearn.__version__ >= \"0.20\"\n",
    "\n",
    "# 공통 모듈 임포트\n",
    "import numpy as np\n",
    "import os\n",
    "\n",
    "# 노트북 실행 결과를 동일하게 유지하기 위해\n",
    "np.random.seed(42)\n",
    "\n",
    "# 깔끔한 그래프 출력을 위해\n",
    "%matplotlib inline\n",
    "import matplotlib as mpl\n",
    "import matplotlib.pyplot as plt\n",
    "mpl.rc('axes', labelsize=14)\n",
    "mpl.rc('xtick', labelsize=12)\n",
    "mpl.rc('ytick', labelsize=12)\n",
    "\n",
    "# 그림을 저장할 위치\n",
    "PROJECT_ROOT_DIR = \".\"\n",
    "CHAPTER_ID = \"Evaluation Indicator\"\n",
    "IMAGES_PATH = os.path.join(PROJECT_ROOT_DIR, \"images\", CHAPTER_ID)\n",
    "os.makedirs(IMAGES_PATH, exist_ok=True)\n",
    "\n",
    "def save_fig(fig_id, tight_layout=True, fig_extension=\"png\", resolution=300):\n",
    "    path = os.path.join(IMAGES_PATH, fig_id + \".\" + fig_extension)\n",
    "    if tight_layout:\n",
    "        plt.tight_layout()\n",
    "    plt.savefig(IMAGES_PATH, format=fig_extension, dpi=resolution)"
   ]
  },
  {
   "cell_type": "markdown",
   "id": "58d01f72",
   "metadata": {},
   "source": [
    "# 평가"
   ]
  },
  {
   "cell_type": "markdown",
   "id": "16dc90d7",
   "metadata": {},
   "source": [
    "지금까지 분류 성능 평가에 정확도(정확하게 분류된 샘플이 비율)를 사용했고, 회귀 성능 평가에는 $R^2$을 사용했다. 그러나 주어진 데이터셋에 대한 지도 학습 모델의 성능을 재는 방법은 그 외에도 많다. 실전에서는 애플리케이션에 따라 이런 평가 지표가 적합하지 않을 수 있으므로, 모델을 선택하고 매개변수를 튜닝할 때 올바른 지표를 선택하는 것이 중요하다."
   ]
  },
  {
   "cell_type": "markdown",
   "id": "ffd07506",
   "metadata": {},
   "source": [
    "## 최종 목표를 기억하라"
   ]
  },
  {
   "cell_type": "markdown",
   "id": "8a08186f",
   "metadata": {},
   "source": [
    "평가 지표를 선택할 때 머신러닝 애플리케이션의 최종 목표를 기억해야 한다. 실제로 정확한 예측을 만드는 것뿐 아니라 큰 의사 결정 프로세스의 일부로 사용하는 데 더 중점을 둬야 할지 모른다. 머신러닝 평가 지표를 선택하기 전에 비지니스 지표라고 부르는 애플리케이션의 고차원적인 목표를 생각해야 한다. 어떤 머신러닝 애플리케이션에서 특정 알고리즘을 선택하여 나타난 결과를 <b>비지니스 임팩트</b><sup>business impact</sup>라고 한다. 고차원적인 목표는 교통사고를 피하거나 입원 환자 수를 줄이는 것일지 모른다. 또는 웹사이트에 더 많은 사용자를 유입시키거나 쇼핑몰에서 사용자의 소비를 늘리는 것일 수 있다. 모델을 선택하고 매개변수를 조정할 때, 이런 비지니스 지표에 긍정적인 영향을 주는 모델과 매개변수를 선택해야 한다. 많은 경우에 특정 모델이 비지니스에 미치는 영향은 실제 운영 시스템에 적용해야 알 수 있기 때문에 어려운 문제다."
   ]
  },
  {
   "cell_type": "markdown",
   "id": "cded6f6a",
   "metadata": {},
   "source": [
    "개발 초기 단계에서 매개변수를 조정하기 위해 시험 삼아 모델을 운영 시스템에 곧바로 적용하기란 비지니스적으로나 개인적으로나 위험부담이 커서 현실적으로 불가능하다. 자율 주행 자동차의 보행자 회피 기능을 먼저 검증하지 않고 실전에 투입하여 평가한다고 생각해보자. 모델이 나쁘다면 보행자가 위험에 처하게 된다. 그래서 계산하기 쉬운 평가 지표를 이용한 대리 평가 방식을 종종 사용한다. 예를 들면 보행자와 보행자가 아닌 이미지를 분류하는 테스트를 수행해서 정확도를 측정할 수 있다. 이는 대체 방식이므로 평가가 가능하고 원래 비지니스 목적에 가장 가까운 지표를 찾아야 한다. 이 근사 지표는 모델을 평가할 때나 선택할 때마다 사용해야 한다. 평가의 결과는 하나의 숫자가 아닐 수 있지만, 선택한 모델의 예상 비지니스 임팩트를 나타내야 한다. 예를 들어 어떤 알고리즘을 적용하면 고객 수는 10% 늘지만 고객당 매출은 15% 줄어들 수 있다.\n",
    "\n",
    "이번 절에서는 이진 분류의 특별한 사례에 대한 평가 지표를 먼저 이야기하고, 그다음으로 다중 분류를, 마지막으로 회귀에 대해 설명하겠다."
   ]
  },
  {
   "cell_type": "markdown",
   "id": "066a8fbf",
   "metadata": {},
   "source": [
    "## 고려할 점"
   ]
  },
  {
   "cell_type": "markdown",
   "id": "cb18af2a",
   "metadata": {},
   "source": [
    "이진 분류는 실전에서 가장 널리 사용하고 개념도 쉬운 머신러닝 알고리즘이다. 하지만 이 간단한 작업을 평가하는 데에도 주의할 점이 많다. 여러 평가 지표를 들여다보기 전에, 정확도를 잘못 측정하는 경우에 대해 살펴보겠다. 이진 분류에는 양성 클래스와 음성 클래스가 있으며 양성 클래스가 우리의 관심 클래스다."
   ]
  },
  {
   "cell_type": "markdown",
   "id": "9409abe4",
   "metadata": {},
   "source": [
    "### 에러의 종류"
   ]
  },
  {
   "cell_type": "markdown",
   "id": "a7a7036e",
   "metadata": {},
   "source": [
    "잘못 분류한 샘플의 수가 원하는 정보의 전부는 아니므로, 정확도만으로 예측 성능을 측정하기에는 부족할 때가 종종 있다. 자동화 테스트로 암을 조기 발견하는 애플리케이션을 가정해보겠다. 테스트가 음성이면 건강하다는 뜻이다. 반대로 양성이면 추가 검사를 받아야 한다. 여기서 양성 테스트(암 진단)를 양성 클래스라고 하고 음성 테스트를 음성 클래스라고 한다. 모델이 항상 완벽하게 작동하는 것은 아니니, 잘못 분류할 때가 있다. 어떤 애플리케이션에서든 이런 분류 오류가 실제 현실에서 어떤 결과를 초래하는지 살펴봐야 한다."
   ]
  },
  {
   "cell_type": "markdown",
   "id": "50f762b6",
   "metadata": {},
   "source": [
    "예컨대 건강한 사람을 양성으로 분류하면 추가 검사를 받게 할 것이다. 이는 환자에게 비용 손실과 불편함을 가져다준다(그리고 약간의 스트레스도). 이와 같은 잘못된 양성 예측을 <b>거짓 양성</b><sup>false positive</sup>이라 한다. 반대로 암에 걸린 사람을 음성으로 분류하여 제대로 된 검사나 치료를 받지 못하게 할 때도 있다. 암을 발견하지 못하면 건강에 심각한 위협을 가하며 치명적일 수 있다. 이런 종류의 잘못된 음성 예측 오류를 <b>거짓 음성</b><sup>false negative</sup>이라 한다. 통계학에서는 거짓 양성을 타입Ⅰ에러, 거짓 음성을 타입Ⅱ에러라고도 한다. 암 진단 예에서는 거짓 음성을 최대한 피해야 하는 반면, 거짓 양성은 비교적 중요도가 낮다."
   ]
  },
  {
   "cell_type": "markdown",
   "id": "83e5da8c",
   "metadata": {},
   "source": [
    "이 예는 특히 극단적이지만 일반적으로도 거짓 양성의 중요도와 거짓 음성의 중요도가 비슷한 경우는 매우 드물다. 상업적인 애플리케이션에서는 두 오류를 비용으로 환산하여, 예측 오류로 인한 금전적 손해를 측정한 값을 정확도 대신 사용하기도 한다. 이런 방식이 어떤 모델을 사용할지 비지니스 관점에서 판단하는 데 더 도움이 될 수 있다."
   ]
  },
  {
   "cell_type": "markdown",
   "id": "41c9701f",
   "metadata": {},
   "source": [
    "### 불균형 데이터셋"
   ]
  },
  {
   "cell_type": "markdown",
   "id": "75e41993",
   "metadata": {},
   "source": [
    "이 두 종류의 에러(거짓 양성과 거짓 음성)는 두 클래스 중 하나가 다른 것보다 훨씬 많을 때 더 중요하다. 실제로 이는 매우 흔한 상황이며, 좋은 예로는 어떤 아이템이 사용자에게 보여진 노출<sup>impression</sup> 데이터로 클릭을 예측하는 것이다. 아이템은 광고일 수도 있고, 관련 기사나 소셜 미디어 사이트에서 팔로우를 위해 추천하는 사람일 수도 있다. 목표는 특정 상품을 보여주면 사용자가 클릭을 할지(즉 관심 대상인지)를 예측하는 것이다. 인터넷에서 볼 수 있는 정보 대부분은 (특히 광고는) 클릭까지 이어지지 않는다. 그래서 사용자가 관심 있는 것을 클릭할 때까지 100개의 공고나 글을 보여줘야 할 수도 있다. 이때 클릭이 아닌 데이터 99개와 클릭 데이터 1개가 데이터셋으로 만들어진다. 다르게 말하면 샘플의 99%가 '클릭 아님'클래스에 속한다. 이렇게 한 클래스가 다른 것보다 훨씬 많은 데이터셋을 <b>불균형 데이터셋</b><sup>imbalanced datasets</sup> 또는 불균형 클래스의 데이터셋이라 한다. 현실에서는 불균형 데이터가 훨씬 많으며, 관심 대상인 이벤트의 빈도가 그렇지 않은 이벤트와 같거나 비슷한 경우는 드물다."
   ]
  },
  {
   "cell_type": "markdown",
   "id": "23eda4d8",
   "metadata": {},
   "source": [
    "클릭을 99% 정확도로 예측하는 분류기를 만들었다고 해보자. 이는 무슨 뜻일까? 99% 정확도는 꽤 높아 보이지만 이는 불균형 클래스를 고려하지 못했다. 굳이 머신러닝 모델을 만들지 않고서도 무조건 '클릭 아님'으로 예측하면 그 정확도는 99%다. 하지만 불균형 데이터에서도 99% 정확도는 사실 매우 좋은 성능일 수 있다. 그래서 정확도로는 '무조건 클릭 아님' 모델과 '진짜 좋은 모델'을 구분하기 어렵다."
   ]
  },
  {
   "cell_type": "markdown",
   "id": "70a5add8",
   "metadata": {},
   "source": [
    "예를 위해서 mnist 데이터셋을 사용해 숫자 5를 다른 숫자와 구분해서 9:1의 불균형한 데이터셋을 만들겠다.<sup><a id=\"a01\" href=\"#p01\">[1]</a></sup>"
   ]
  },
  {
   "cell_type": "code",
   "execution_count": 2,
   "id": "96a12fe9",
   "metadata": {
    "ExecuteTime": {
     "end_time": "2023-01-11T10:48:42.076717Z",
     "start_time": "2023-01-11T10:46:41.446977Z"
    }
   },
   "outputs": [],
   "source": [
    "from sklearn.datasets import fetch_openml\n",
    "mnist = fetch_openml('mnist_784', version=1)"
   ]
  },
  {
   "cell_type": "code",
   "execution_count": 3,
   "id": "ed833a3a",
   "metadata": {
    "ExecuteTime": {
     "end_time": "2023-01-11T10:48:42.153453Z",
     "start_time": "2023-01-11T10:48:42.103177Z"
    }
   },
   "outputs": [
    {
     "name": "stdout",
     "output_type": "stream",
     "text": [
      "(70000, 784)\n",
      "(70000,)\n"
     ]
    }
   ],
   "source": [
    "X, y = mnist[\"data\"].values, mnist[\"target\"].values.astype(np.uint8)\n",
    "print(X.shape)\n",
    "print(y.shape)"
   ]
  },
  {
   "cell_type": "code",
   "execution_count": 4,
   "id": "ab17c725",
   "metadata": {
    "ExecuteTime": {
     "end_time": "2023-01-11T10:48:42.463838Z",
     "start_time": "2023-01-11T10:48:42.159994Z"
    }
   },
   "outputs": [
    {
     "data": {
      "image/png": "[encoded data removed]",
      "text/plain": [
       "<Figure size 432x288 with 1 Axes>"
      ]
     },
     "metadata": {
      "needs_background": "light"
     },
     "output_type": "display_data"
    }
   ],
   "source": [
    "some_digit = X[0]\n",
    "some_digit_image = some_digit.reshape(28, 28)\n",
    "\n",
    "plt.imshow(some_digit_image, cmap=\"binary\")\n",
    "plt.axis(\"off\")\n",
    "plt.title(y[0])\n",
    "plt.show()"
   ]
  },
  {
   "cell_type": "code",
   "execution_count": 5,
   "id": "a27d9e8d",
   "metadata": {
    "ExecuteTime": {
     "end_time": "2023-01-11T10:48:42.478975Z",
     "start_time": "2023-01-11T10:48:42.465837Z"
    }
   },
   "outputs": [],
   "source": [
    "X_train, X_test, y_train, y_test = X[:60000], X[60000:], y[:60000], y[60000:]"
   ]
  },
  {
   "cell_type": "code",
   "execution_count": 6,
   "id": "73de3211",
   "metadata": {
    "ExecuteTime": {
     "end_time": "2023-01-11T10:48:42.493965Z",
     "start_time": "2023-01-11T10:48:42.482442Z"
    }
   },
   "outputs": [],
   "source": [
    "y_train_5 = (y_train == 5)\n",
    "y_test_5 = (y_test == 5)"
   ]
  },
  {
   "cell_type": "code",
   "execution_count": 7,
   "id": "ca390224",
   "metadata": {
    "ExecuteTime": {
     "end_time": "2023-01-11T10:49:03.579125Z",
     "start_time": "2023-01-11T10:48:42.496611Z"
    }
   },
   "outputs": [
    {
     "data": {
      "text/html": [
       "<style>#sk-container-id-1 {color: black;background-color: white;}#sk-container-id-1 pre{padding: 0;}#sk-container-id-1 div.sk-toggleable {background-color: white;}#sk-container-id-1 label.sk-toggleable__label {cursor: pointer;display: block;width: 100%;margin-bottom: 0;padding: 0.3em;box-sizing: border-box;text-align: center;}#sk-container-id-1 label.sk-toggleable__label-arrow:before {content: \"▸\";float: left;margin-right: 0.25em;color: #696969;}#sk-container-id-1 label.sk-toggleable__label-arrow:hover:before {color: black;}#sk-container-id-1 div.sk-estimator:hover label.sk-toggleable__label-arrow:before {color: black;}#sk-container-id-1 div.sk-toggleable__content {max-height: 0;max-width: 0;overflow: hidden;text-align: left;background-color: #f0f8ff;}#sk-container-id-1 div.sk-toggleable__content pre {margin: 0.2em;color: black;border-radius: 0.25em;background-color: #f0f8ff;}#sk-container-id-1 input.sk-toggleable__control:checked~div.sk-toggleable__content {max-height: 200px;max-width: 100%;overflow: auto;}#sk-container-id-1 input.sk-toggleable__control:checked~label.sk-toggleable__label-arrow:before {content: \"▾\";}#sk-container-id-1 div.sk-estimator input.sk-toggleable__control:checked~label.sk-toggleable__label {background-color: #d4ebff;}#sk-container-id-1 div.sk-label input.sk-toggleable__control:checked~label.sk-toggleable__label {background-color: #d4ebff;}#sk-container-id-1 input.sk-hidden--visually {border: 0;clip: rect(1px 1px 1px 1px);clip: rect(1px, 1px, 1px, 1px);height: 1px;margin: -1px;overflow: hidden;padding: 0;position: absolute;width: 1px;}#sk-container-id-1 div.sk-estimator {font-family: monospace;background-color: #f0f8ff;border: 1px dotted black;border-radius: 0.25em;box-sizing: border-box;margin-bottom: 0.5em;}#sk-container-id-1 div.sk-estimator:hover {background-color: #d4ebff;}#sk-container-id-1 div.sk-parallel-item::after {content: \"\";width: 100%;border-bottom: 1px solid gray;flex-grow: 1;}#sk-container-id-1 div.sk-label:hover label.sk-toggleable__label {background-color: #d4ebff;}#sk-container-id-1 div.sk-serial::before {content: \"\";position: absolute;border-left: 1px solid gray;box-sizing: border-box;top: 0;bottom: 0;left: 50%;z-index: 0;}#sk-container-id-1 div.sk-serial {display: flex;flex-direction: column;align-items: center;background-color: white;padding-right: 0.2em;padding-left: 0.2em;position: relative;}#sk-container-id-1 div.sk-item {position: relative;z-index: 1;}#sk-container-id-1 div.sk-parallel {display: flex;align-items: stretch;justify-content: center;background-color: white;position: relative;}#sk-container-id-1 div.sk-item::before, #sk-container-id-1 div.sk-parallel-item::before {content: \"\";position: absolute;border-left: 1px solid gray;box-sizing: border-box;top: 0;bottom: 0;left: 50%;z-index: -1;}#sk-container-id-1 div.sk-parallel-item {display: flex;flex-direction: column;z-index: 1;position: relative;background-color: white;}#sk-container-id-1 div.sk-parallel-item:first-child::after {align-self: flex-end;width: 50%;}#sk-container-id-1 div.sk-parallel-item:last-child::after {align-self: flex-start;width: 50%;}#sk-container-id-1 div.sk-parallel-item:only-child::after {width: 0;}#sk-container-id-1 div.sk-dashed-wrapped {border: 1px dashed gray;margin: 0 0.4em 0.5em 0.4em;box-sizing: border-box;padding-bottom: 0.4em;background-color: white;}#sk-container-id-1 div.sk-label label {font-family: monospace;font-weight: bold;display: inline-block;line-height: 1.2em;}#sk-container-id-1 div.sk-label-container {text-align: center;}#sk-container-id-1 div.sk-container {/* jupyter's `normalize.less` sets `[hidden] { display: none; }` but bootstrap.min.css set `[hidden] { display: none !important; }` so we also need the `!important` here to be able to override the default hidden behavior on the sphinx rendered scikit-learn.org. See: https://github.com/scikit-learn/scikit-learn/issues/21755 */display: inline-block !important;position: relative;}#sk-container-id-1 div.sk-text-repr-fallback {display: none;}</style><div id=\"sk-container-id-1\" class=\"sk-top-container\"><div class=\"sk-text-repr-fallback\"><pre>SGDClassifier(random_state=42)</pre><b>In a Jupyter environment, please rerun this cell to show the HTML representation or trust the notebook. <br />On GitHub, the HTML representation is unable to render, please try loading this page with nbviewer.org.</b></div><div class=\"sk-container\" hidden><div class=\"sk-item\"><div class=\"sk-estimator sk-toggleable\"><input class=\"sk-toggleable__control sk-hidden--visually\" id=\"sk-estimator-id-1\" type=\"checkbox\" checked><label for=\"sk-estimator-id-1\" class=\"sk-toggleable__label sk-toggleable__label-arrow\">SGDClassifier</label><div class=\"sk-toggleable__content\"><pre>SGDClassifier(random_state=42)</pre></div></div></div></div></div>"
      ],
      "text/plain": [
       "SGDClassifier(random_state=42)"
      ]
     },
     "execution_count": 7,
     "metadata": {},
     "output_type": "execute_result"
    }
   ],
   "source": [
    "from sklearn.linear_model import SGDClassifier\n",
    "\n",
    "sgd_clf = SGDClassifier(random_state=42)\n",
    "sgd_clf.fit(X_train, y_train_5)"
   ]
  },
  {
   "cell_type": "markdown",
   "id": "9342bd98",
   "metadata": {},
   "source": [
    "항상 다수인 클래스(여기서는 '5 아님')를 예측값으로 내놓는 DummyClassifier를 사용해서 정확도를 계산해보겠다.<sup><a id=\"a02\" href=\"#p02\">[2]</a></sup>"
   ]
  },
  {
   "cell_type": "markdown",
   "id": "18e34ae0",
   "metadata": {},
   "source": [
    "여기서 <code>cross_val_predict()</code> 함수는 k-겹 교차 검증을 수행하지만 <code>cross_val_score()</code> 함수처럼 평가 점수를 반환하지 않고 각 테스트 폴드에서 얻은 예측을 반환한다. 즉, 훈련 세트의 모든 샘플에 대해 깨끗한 예측을 얻게 된다(여기서 깨끗하다는 뜻은 모델이 훈련하는 동안 보지 못했던 데이터에 대해 예측했다는 의미다)."
   ]
  },
  {
   "cell_type": "code",
   "execution_count": 8,
   "id": "df32b3a2",
   "metadata": {
    "ExecuteTime": {
     "end_time": "2023-01-11T10:49:04.075115Z",
     "start_time": "2023-01-11T10:49:03.582131Z"
    }
   },
   "outputs": [
    {
     "name": "stdout",
     "output_type": "stream",
     "text": [
      "예측된 레이블의 레이블: [False]\n",
      "테스트 점수: 0.91\n"
     ]
    }
   ],
   "source": [
    "from sklearn.dummy import DummyClassifier\n",
    "from sklearn.model_selection import cross_val_predict\n",
    "dummy_majority = DummyClassifier(strategy='most_frequent').fit(X_train, y_train_5)\n",
    "pred_most_frequent = cross_val_predict(dummy_majority, X_train, y_train_5, cv=3)\n",
    "print(\"예측된 레이블의 레이블:\", np.unique(pred_most_frequent))\n",
    "print(\"테스트 점수: {:.2f}\".format(dummy_majority.score(X_test, y_test_5)))"
   ]
  },
  {
   "cell_type": "markdown",
   "id": "bc213612",
   "metadata": {},
   "source": [
    "거의 아무것도 학습하지 않고 90% 정확도를 얻었다. 누군가 자기 모델의 정확도가 90%라고 말하면 그 사람이 큰일을 해냈다고 생각할 수 있다. 하지만 문제에 따라서는 그저 무조건 한 클래스를 예측하기만 해도 될 수 있다. 실제 분류기를 사용한 것과 비교해보겠다."
   ]
  },
  {
   "cell_type": "code",
   "execution_count": 9,
   "id": "060360be",
   "metadata": {
    "ExecuteTime": {
     "end_time": "2023-01-11T10:49:12.866943Z",
     "start_time": "2023-01-11T10:49:04.077642Z"
    }
   },
   "outputs": [
    {
     "name": "stdout",
     "output_type": "stream",
     "text": [
      "테스트 점수: 0.93\n"
     ]
    }
   ],
   "source": [
    "from sklearn.tree import DecisionTreeClassifier\n",
    "tree = DecisionTreeClassifier(max_depth=2).fit(X_train, y_train_5)\n",
    "pred_tree = cross_val_predict(tree, X_train, y_train_5, cv=3)\n",
    "print(\"테스트 점수: {:.2f}\".format(tree.score(X_test, y_test_5)))"
   ]
  },
  {
   "cell_type": "markdown",
   "id": "90ddebb2",
   "metadata": {},
   "source": [
    "정확도로 보면 DecisionTreeClassifier가 더미 분류기보다 조금 나을 뿐이다. 이는 DecisionTreeClassifier를 잘못 사용했거나 이 문제에서는 정확도가 높은 측정 방법이 아님을 말해준다."
   ]
  },
  {
   "cell_type": "markdown",
   "id": "1385b636",
   "metadata": {},
   "source": [
    "비교를 위해 LogisticRegression과 기본 DummyClassifier 분류기 두 개를 더 살펴보겠다. DummyClassifier는 무작위로 선택하므로 훈련 세트와 같은 비율의 예측값을 만든다.<sup><a id=\"a03\" href=\"#p03\">[3]</a></sup>"
   ]
  },
  {
   "cell_type": "code",
   "execution_count": 10,
   "id": "a5ee6696",
   "metadata": {
    "ExecuteTime": {
     "end_time": "2023-01-11T10:49:40.654952Z",
     "start_time": "2023-01-11T10:49:12.872841Z"
    }
   },
   "outputs": [
    {
     "name": "stdout",
     "output_type": "stream",
     "text": [
      "dummy 점수: 0.84\n",
      "sgd 점수: 0.95\n"
     ]
    }
   ],
   "source": [
    "from sklearn.linear_model import LogisticRegression\n",
    "\n",
    "dummy = DummyClassifier(strategy='stratified').fit(X_train, y_train_5)\n",
    "pred_dummy = cross_val_predict(dummy, X_train, y_train_5, cv=3)\n",
    "print(\"dummy 점수: {:.2f}\".format(dummy.score(X_test, y_test_5)))\n",
    "\n",
    "pred_sgd = cross_val_predict(sgd_clf, X_train, y_train_5, cv=3)\n",
    "print(\"sgd 점수: {:.2f}\".format(sgd_clf.score(X_test, y_test_5)))"
   ]
  },
  {
   "cell_type": "markdown",
   "id": "0b7dc591",
   "metadata": {},
   "source": [
    "무작위로 예측하는 더미 분류기는 (정확도로 봐서는) 확실히 결과가 안 좋다. 반면에 SGD 모델은 매우 좋다. 하지만 더미 분류기조차도 80%를 맞췄다. 이런 결과가 실제로 유용한 것인지 판단하기가 매우 어렵다. 불균형 데이터셋에서 예측 성능을 정량화하는 데 정확도는 적절한 측정 방법이 아니기 때문이다. 이 장의 나머지에서는 모델 선택을 도와주는 다른 평가 지표를 살펴보겠다. 특히 pred_most_frequent와 pred_dummy처럼, 빈도나 무작위 기반 예측보다 얼마나 더 나은지 알려주는 평가 지표가 필요하다. 모델을 평가하는 지표라면 이런 비상식적인 예측은 피할 수 있어야 한다."
   ]
  },
  {
   "cell_type": "markdown",
   "id": "3b3ad6a2",
   "metadata": {},
   "source": [
    "## 오차 행렬"
   ]
  },
  {
   "cell_type": "markdown",
   "id": "cbfefc8c",
   "metadata": {},
   "source": [
    "이진 분류에서 성능 지표로 잘 활용되는 <b>오차행렬</b><sup>confusion matrix</sup>은 학습된 분류 모델이 예측을 수행하면서 얼마나 헷갈리고<sup>confused</sup> 있는지도 함께 보여주는 지표다. 즉, 이진 분류의 예측 오류가 얼마인지와 더불어 어떠한 유형의 예측 오류가 발생하고 있는지를 함께 나타내는 지표다."
   ]
  },
  {
   "cell_type": "markdown",
   "id": "2a56d7bc",
   "metadata": {},
   "source": [
    "오차 행렬은 다음과 같은 4분면 행렬에서 실제 레이블 클래스 값과 예측 레이블 클래스 값이 어떠한 유형을 가지고 매핑되는지를 나타낸다. 4분면의 왼쪽, 오른쪽을 예측된 클래스 값 기준으로 Negative와 Positive로 분류하고, 4분면의 위, 아래를 실제 클래스 값 기준으로 Negative와 Positive로 분류하면 예측 클래스와 실제 클래스의 값 유형에 따라 결전되는 TN, FP, FN, TP 형태로 오차 행렬의 4분면을 채울 수 있다. TN, FP, FN, TP 값을 다양하게 결합해 분류 모델 예측 성능의 오류가 어떠한 모습으로 발생하는지 알 수 있는 것이다."
   ]
  },
  {
   "cell_type": "markdown",
   "id": "ecfd99e5",
   "metadata": {},
   "source": [
    "<b>그림 1</b> 오차 행렬\n",
    "<div style=\"text-align:center;\">\n",
    "    <img src=\"./images/Evaluation Indicator/오차 행렬.png\">\n",
    "</div>"
   ]
  },
  {
   "cell_type": "markdown",
   "id": "e1535cdb",
   "metadata": {},
   "source": [
    "TN, FP, FN, TP는 예측 클래스와 실제 클래스의 Positive 결정 값(값 1)과 Negative 결정 값(값 0)의 결합에 따라 결정된다. 예를 들어 TN은 True Negative의 의미이며 앞 True는 예측 클래스 값과 실제 클래스 값이 같다는 의미고 뒤의 Negative는 예측값이 Negative 값이라는 의미다. 즉, TN은 예측을 Negative 값 0으로 예측했는데, 실제 값도 Negative 값 0이라는 의미다. TN, FP, FN, TP 기호가 의미하는 것은 앞 문자 True/False는 예측값과 실제값이 '같은가/틀린가'를 의미한다. 뒤 문자 Negative/Positive는 예측 결과 값이 부정(0)/긍정(1)을 의미한다."
   ]
  },
  {
   "cell_type": "markdown",
   "id": "de49c463",
   "metadata": {},
   "source": [
    "<ul>\n",
    "    <li>TN은 예측값을 Negative 값 0으로 예측했고 실제 값 역시 Negative 값 0</li>\n",
    "    <li>FP는 예측값을 Positive 값 1로 예측했는데 실제 값은 Negative 값 0</li>\n",
    "    <li>FN은 예측값을 Negative 값 0으로 예측했는데 실제 값은 Positive 값 1</li>\n",
    "    <li>TP는 예측값을 Positive 값 1로 예측했는데 실제 값 역시 Positive 값 1</li>\n",
    "</ul>"
   ]
  },
  {
   "cell_type": "markdown",
   "id": "e69d8aef",
   "metadata": {},
   "source": [
    "사이킷런은 오차 행렬을 구하기 위해 <code>confusion_matrix()</code> API를 제공한다. 위 정확도 예제에서 다룬 DummyClassifier의 예측 성능 지표를 오차 행렬로 표현해 보겠다. DummyClassifier의 예측 결과인 pred_dummy와 실제 결과인 y_test를 <code>confusion_matrix()</code>의 인자로 입력해 오차 행렬을 배열 형태로 출력한다."
   ]
  },
  {
   "cell_type": "code",
   "execution_count": 11,
   "id": "b77e2661",
   "metadata": {
    "ExecuteTime": {
     "end_time": "2023-01-11T10:49:40.685497Z",
     "start_time": "2023-01-11T10:49:40.657466Z"
    },
    "scrolled": false
   },
   "outputs": [
    {
     "name": "stdout",
     "output_type": "stream",
     "text": [
      "오차 행렬:\n",
      " [[53892   687]\n",
      " [ 1891  3530]]\n"
     ]
    }
   ],
   "source": [
    "from sklearn.metrics import confusion_matrix\n",
    "\n",
    "confusion = confusion_matrix(y_train_5, pred_sgd)\n",
    "print(\"오차 행렬:\\n\", confusion)"
   ]
  },
  {
   "cell_type": "markdown",
   "id": "797217cc",
   "metadata": {},
   "source": [
    "confusion_matrix의 출력은 2x2 배열이다. 행은 정답 클래스에 해당하고, 열은 예측 클래스에 해당한다. 각 항목의 숫자는 행에 해당하는 클래스(여기에서 '5 아님'과 '5')가 얼마나 많이 열에 해당하는 클래스로 분류되었는지를 나타낸다. 즉, TN은 array[0,0]로 53892, FP는 array[0,1]로 687, FN은 array[1,0]로 1891, TP는 array[1,1]로 3530에 해당한다."
   ]
  },
  {
   "cell_type": "markdown",
   "id": "d2753de4",
   "metadata": {},
   "source": [
    "맷플롯립의 <code>matshow()</code> 함수를 사용하여 오차 행렬 그림으로 나타낼 수 있다."
   ]
  },
  {
   "cell_type": "code",
   "execution_count": 12,
   "id": "7a857c17",
   "metadata": {
    "ExecuteTime": {
     "end_time": "2023-01-11T10:49:40.870476Z",
     "start_time": "2023-01-11T10:49:40.688046Z"
    }
   },
   "outputs": [
    {
     "data": {
      "image/png": "[encoded data removed]",
      "text/plain": [
       "<Figure size 180x180 with 1 Axes>"
      ]
     },
     "metadata": {
      "needs_background": "light"
     },
     "output_type": "display_data"
    }
   ],
   "source": [
    "fig, ax = plt.subplots(figsize=(2.5, 2.5))\n",
    "ax.matshow(confusion, cmap=plt.cm.Blues, alpha=0.3)\n",
    "for i in range(confusion.shape[0]):\n",
    "    for j in range(confusion.shape[1]):\n",
    "        ax.text(x=j, y=i,\n",
    "                s=confusion[i, j],\n",
    "                va='center', ha='center')\n",
    "plt.xlabel('predicted label')\n",
    "plt.ylabel('true label')\n",
    "plt.tight_layout()\n",
    "plt.show()"
   ]
  },
  {
   "cell_type": "markdown",
   "id": "bb0ca65f",
   "metadata": {},
   "source": [
    "오차 행렬의 대각 행렬은 정확히 분류된 경우이고, 다른 항목은 한 클래스의 샘플들이 다른 클래스로 잘못 분류된 경우가 얼마나 많은지를 알려준다."
   ]
  },
  {
   "cell_type": "markdown",
   "id": "90c4a8b1",
   "metadata": {},
   "source": [
    "이제 이 오차 행렬을 사용하여 앞서 만든 모델들(더미 모델 두 개, 결정 트리, 로지스틱 회귀)을 비교해보겠다."
   ]
  },
  {
   "cell_type": "code",
   "execution_count": 13,
   "id": "1680e28a",
   "metadata": {
    "ExecuteTime": {
     "end_time": "2023-01-11T10:49:40.918546Z",
     "start_time": "2023-01-11T10:49:40.872479Z"
    },
    "scrolled": true
   },
   "outputs": [
    {
     "name": "stdout",
     "output_type": "stream",
     "text": [
      "빈도 기반 더미 모델:\n",
      "[[54579     0]\n",
      " [ 5421     0]]\n",
      "\n",
      "무작위 더미 모델:\n",
      "[[49703  4876]\n",
      " [ 4922   499]]\n",
      "\n",
      "결정 트리:\n",
      "[[54207   372]\n",
      " [ 3773  1648]]\n",
      "\n",
      "SGD:\n",
      "[[53892   687]\n",
      " [ 1891  3530]]\n"
     ]
    }
   ],
   "source": [
    "print(\"빈도 기반 더미 모델:\")\n",
    "print(confusion_matrix(y_train_5, pred_most_frequent))\n",
    "print(\"\\n무작위 더미 모델:\")\n",
    "print(confusion_matrix(y_train_5, pred_dummy))\n",
    "print(\"\\n결정 트리:\")\n",
    "print(confusion_matrix(y_train_5, pred_tree))\n",
    "print(\"\\nSGD:\")\n",
    "print(confusion_matrix(y_train_5, pred_sgd))"
   ]
  },
  {
   "cell_type": "markdown",
   "id": "5688d3e0",
   "metadata": {},
   "source": [
    "오차 행렬을 보면 pred_most_frequent에서 뭔가 잘못된 것이 확실하다. 항상 동일한 클래스를 예측하기 때문이다. 반면에 pred_dummy는 특히 거짓 음성(FN)과 거짓 양성(FP)보다  진짜 양성(TP)이 매우 적고(499), 진짜 양성(TP)보다 거짓 양성(FP)이 매우 많다. 결정 트리의 예측은 더미 분류기보다 정상으로 보이지만, 정확도는 거의 비슷하다. 마지막으로 SGD는 모든 면에서 pred_tree보다 낫다. 진짜 양성(TP)과 진짜 거짓(TN)이 더 많은 반면, 거짓 양성(FP)과 거짓 음성(FN)은 적다. 이렇게 비교하니 결정 트리와 SGD의 결과만 정상이며 SGD가 모든 항목에서 트리 모델보다 잘 작동했다. 그러나 전체 오차 행렬을 조사하기는 솔직히 조금 번거롭다. 이 행렬의 모든 면을 살펴보면 많은 정보를 얻을 수 있지만, 매우 수동적이며 정성적인 방법이다. 다음 절에서 오차 행렬 정보를 요약할 수 있는 여러 방법을 알아보겠다."
   ]
  },
  {
   "cell_type": "markdown",
   "id": "e28d300e",
   "metadata": {},
   "source": [
    "## 정확도(Accuracy)"
   ]
  },
  {
   "cell_type": "markdown",
   "id": "1c7859bb",
   "metadata": {},
   "source": [
    "예측 오차<sup>ERR</sup>와 정확도<sup>ACC</sup> 모두 얼마나 많은 샘플을 잘못 분류했는지 일반적인 정보를 알려준다. 오차는 잘못된 예측의 합을 전체 데이터 수로 나눈 것이다. 정확도는 옳은 예측의 합을 전체 예측 샘플 개수로 나누어 계산한다."
   ]
  },
  {
   "cell_type": "markdown",
   "id": "00094ecc",
   "metadata": {},
   "source": [
    "$$\n",
    "ERR = \\frac{\\text{예측 결과와 실제 값이 다른 건수}}{\\text{전체 데이터 수}} = \\frac{FP + FN}{FP+FN+TP+TN}\n",
    "$$"
   ]
  },
  {
   "cell_type": "markdown",
   "id": "d97c1281",
   "metadata": {},
   "source": [
    "예측 정확도는 오차에서 바로 계산할 수 있다. "
   ]
  },
  {
   "cell_type": "markdown",
   "id": "7756b0cb",
   "metadata": {},
   "source": [
    "$$\n",
    "ACC =1 - ERR = \\frac{\\text{예측 결과와 실제 값이 동일한 건수}}{\\text{전체 데이터 수}} = \\frac{TN + TP}{FP + FN + TP + TN}\n",
    "$$"
   ]
  },
  {
   "cell_type": "markdown",
   "id": "bf599ac4",
   "metadata": {},
   "source": [
    "일반적으로 이러한 불균형한 레이블 클래스를 가지는 이진 분류 모델에서는 많은 데이터 중에서 중점적으로 찾아야 하는 매우 적은 수의 결괏값에 Positive를 설정해 1값을 부여하고, 그렇지 않은 경우는 Negative로 0 값을 부여하는 경우가 많다. 예를 들어 사기 행위 예측 모델에서는 사기 행위가 Positive 양성으로 1, 정상 행위가 Negative 음성으로 0 값이 결정 값으로 할당되거나 암 검진 예측 모델에서는 암이 양성일 경우 Positive 양성으로 1, 암이 음성일 경우 Negative 음성으로 0값이 할당되는 경우가 일반적이다."
   ]
  },
  {
   "cell_type": "markdown",
   "id": "21963231",
   "metadata": {},
   "source": [
    "불균형한 이진 분류 데이터 세트에서는 Positive 데이터 건수가 매우 작기 때문에 데이터에 기반한 머신 러닝 알고리즘은 Positive보다는 Negative로 예측 정확도가 높아지는 경향이 발생한다. 10,000건의 데이터 세트에서 9,900건이 Negative이고 100건이 Positive라면 Negative로 예측하는 경향이 더 강해져서 TN은 매우 커지고 TP는 매우 작아지게 된다. 또한 Negative로 예측할 때 정확도가 높기 때문에 FN(Negative로 예측할 때 틀린 데이터 수)이 매우 작고, Positive로 예측하는 경우가 작기 때문에 FP 역시 매우 작아진다. 결과적으로 정확도 지표는 비대칭한 데이터 세트에서 Positive에 대한 예측 정확도를 판단하지 못한 채 Negative에 대한 예측 정확도만으로도 분류의 정확도가 매우 높게 나타나는 수치적인 판단 오류를 일으키게 된다."
   ]
  },
  {
   "cell_type": "markdown",
   "id": "3c2e4761",
   "metadata": {},
   "source": [
    "진짜 양성 비율<sup>True Positive Rate, TPR</sup>과 거짓 양성 비율<sup>False Positive Rate, FPR</sup>은 클래스 비율이 다른 경우 유용한 성능 지표다.<sup><a id=\"a04\" href=\"#p04\">[4]</a></sup>"
   ]
  },
  {
   "cell_type": "markdown",
   "id": "4abe276c",
   "metadata": {},
   "source": [
    "$$\n",
    "TPR = \\frac{TP}{T} = \\frac{TP}{FN + TP}\n",
    "$$"
   ]
  },
  {
   "cell_type": "markdown",
   "id": "dc0e1426",
   "metadata": {},
   "source": [
    "$$\n",
    "FPR = \\frac{FP}{N} = \\frac{FP}{FP+TN}\n",
    "$$"
   ]
  },
  {
   "cell_type": "markdown",
   "id": "aa1684ad",
   "metadata": {},
   "source": [
    "예를 들어 종양 진단 문제에서는 환자가 적절한 치료를 받을 수 있도록 악성 종양을 감지하는 데 관심이 있다. 또 불필요하게 환자에게 걱정을 끼치지 않도록 음성 종양이 악성으로 분류되는 경우(FP)를 줄이는 것이 중요하다. FPR에 비해서 TPR은 전체 양성 샘플(P) 중에서 올바르게 분류된 양성 (또는 관심) 샘플의 비율을 알려 준다."
   ]
  },
  {
   "cell_type": "markdown",
   "id": "1a6def5b",
   "metadata": {},
   "source": [
    "## 정밀도와 재현율"
   ]
  },
  {
   "cell_type": "markdown",
   "id": "96a5b3c0",
   "metadata": {},
   "source": [
    "정밀도<sup>precision</sup>와 재현율<sup>recall</sup>은 Positive 데이터 세트의 예측 성능에 좀 더 초점을 맞춘 평가 지표다. 앞서 만든 빈도 기반 더미 모델은 Positive로 예측한 TP 값이 하나도 없기 때문에 정밀도와 재현율 값이 모두 0이다."
   ]
  },
  {
   "cell_type": "markdown",
   "id": "11b63dcd",
   "metadata": {},
   "source": [
    "정밀도와 재현율은 다음과 같은 공식으로 계산된다."
   ]
  },
  {
   "cell_type": "markdown",
   "id": "820467bf",
   "metadata": {},
   "source": [
    "$$\n",
    "PRE = \\frac{TP}{TP + FP}\n",
    "$$"
   ]
  },
  {
   "cell_type": "markdown",
   "id": "df0a493a",
   "metadata": {},
   "source": [
    "$$\n",
    "REC = TPR = \\frac{TP}{T} = \\frac{TP}{TP + FN}\n",
    "$$"
   ]
  },
  {
   "cell_type": "markdown",
   "id": "2c8ce61c",
   "metadata": {},
   "source": [
    "정밀도는 양성 예측의 정확도다. 즉, 예측을 Positive로 한 대상 중에 예측값과 실제 값이 Positive로 일치한 데이터의 비율을 뜻한다. 공식의 분모인 TP + FP는 예측을 Positive로 한 모든 데이터 건수이며, 공식의 분자인 TP는 예측값과 실제 값이 Positive로 일치한 데이터 건수다. Positive 예측 성능을 더욱 정밀하게 측정하기 위한 평가 지표로 양성 예측도<sup>PPV</sup>라고도 불린다."
   ]
  },
  {
   "cell_type": "markdown",
   "id": "9e921ecc",
   "metadata": {},
   "source": [
    "재현율은 실제 양성 샘플에서 분류기가 정확하게 감지한 양성 샘플의 비율이다. 즉, 실제 값이 Positive인 대상 중에 예측과 실제 값이 Positive로 일치한 데이터의 비율을 뜻한다. 공식의 분모인 FN + TP는 실제 값이 Positive인 모든 데이터 건수이며 공식의 분자인 TP는 예측과 실제 값이 Positive로 일치한 데이터 건수다. 재현율은 민감도<sup>Sensitivity</sup>, 적중률<sup>hit rate</sup> 또는 진짜 양성 비율<sup>TPR</sup>이라고도 불린다."
   ]
  },
  {
   "cell_type": "markdown",
   "id": "cf36c0f9",
   "metadata": {},
   "source": [
    "사이킷런은 정밀도 계산을 위해 <code>precision_score()</code>를, 재현율 계산을 위해 <code>recall_score()</code>를 API로 제공한다."
   ]
  },
  {
   "cell_type": "code",
   "execution_count": 14,
   "id": "f0bfaf89",
   "metadata": {
    "ExecuteTime": {
     "end_time": "2023-01-11T10:49:40.964742Z",
     "start_time": "2023-01-11T10:49:40.921554Z"
    }
   },
   "outputs": [
    {
     "name": "stdout",
     "output_type": "stream",
     "text": [
      "정밀도: 0.837, 재현율: 0.651\n"
     ]
    }
   ],
   "source": [
    "from sklearn.metrics import precision_score, recall_score\n",
    "\n",
    "print('정밀도: {0:.3f}, 재현율: {1:.3f}'.format(precision_score(y_train_5, pred_sgd), \n",
    "                                                recall_score(y_train_5, pred_sgd)))"
   ]
  },
  {
   "cell_type": "markdown",
   "id": "1ce0e976",
   "metadata": {},
   "source": [
    "<b>그림 2</b> 오차 행렬 예시\n",
    "<div style=\"text-align:center;\">\n",
    "    <img src=\"./images/Evaluation Indicator/오차 행렬 예시.png\">\n",
    "</div>"
   ]
  },
  {
   "cell_type": "markdown",
   "id": "51ee8f97",
   "metadata": {},
   "source": [
    "재현율 최적화와 정밀도 최적화는 상충한다. 모든 샘플을 진짜 음성(TN)이 하나도 없고 모두 양성 클래스에 속한다고 예측하면, 거짓 음성(FN)이 없어져 재현율이 완벽해진다. 하지만 모든 샘플을 양성으로 예측하면 거짓 양성(FP)을 많이 만들고, 따라서 정밀도는 매우 낮아진다. 다른 한편으로 데이터 포인트 하나만 양성이고 나머지는 음성이라고 예측한다면 정밀도는 (진짜 그 데이터 포인트가 양성이라면) 완벽하다. 하지만 재현율은 매우 낮아질 것이다."
   ]
  },
  {
   "cell_type": "markdown",
   "id": "d5bb71cd",
   "metadata": {},
   "source": [
    "정밀도와 재현율 지표 중에 이진 분류 모델의 업무 특성에 따라서 특정 평가 지표가 더 중요한 지표로 간주될 수 있다. <b>재현율이 중요한 지표인 경우는 실제 Positive 양성 데이터를 Negative로 잘못 판단하게 되면 업무상 큰 영향이 발생하는 경우다.</b> 예를 들어 암 판단 모델은 재현율이 훨씬 중요한 지표다. 왜냐햐면 실제 Positive인 암 환자를 Positive 양성이 아닌 Negative 음성으로 잘못 판단했을 경우 오류의 대가가 생명을 앗아갈 정도로 심각하기 때문이다. 반면에 실제 Negative인 건강한 환자를 암 환자인 Positive로 예측한 경우면 다시 한번 재검사를 하는 수준의 비용이 소모될 것이다."
   ]
  },
  {
   "cell_type": "markdown",
   "id": "3ce417ed",
   "metadata": {},
   "source": [
    "보험 사기와 같은 금융 사기 적발 모델도 재현율이 중요하다. 실제 금융거래 사기인 Positive 건을 Negative로 잘못 판단하게 되면 회사에 미치는 손해가 클 것이다. 반면에 정상 금융거래인 Negative를 금융사기인 Positive로 잘못 판단하더라도 다시 한번 금융 사기인지 재확인하는 절차를 가동하면 된다. 물론 고객에게 금융 사기 혐의를 잘못 씌우면 문제가 될 수 있기에 정밀도도 중요 평가 지표지만, 업무적인 특성을 고려하면 재현율이 상대적으로 더 중요한 지표다."
   ]
  },
  {
   "cell_type": "markdown",
   "id": "05f428f1",
   "metadata": {},
   "source": [
    "보통은 재현율이 정밀도보다 상대적으로 중요한 업무가 많지만, 정밀도가 더 중요한 지표인 경우도 있다. 예를 들어 스팸메일 여부를 판단하는 모델의 경우 실제 Positive인 스팸 메일을 Negative인 일반 메일로 분류하더라도 사용자가 불편함을 느끼는 정도이지만, 실제 Negative인 스팸 메일을 Positive인 스팸 메일로 분류할 경우에는 메일을 아예 받지도 못하게 돼 업무에 차질이 생긴다."
   ]
  },
  {
   "cell_type": "markdown",
   "id": "8a57d39a",
   "metadata": {},
   "source": [
    "<b>업무에 따른 재현율과 정밀도의 상대적 중요도</b>"
   ]
  },
  {
   "cell_type": "markdown",
   "id": "844a96e6",
   "metadata": {},
   "source": [
    "<ul>\n",
    "    <li>재현율이 상대적으로 더 중요한 지표인 경우는 실제 Positive 양성인 데이터 예측을 Negative로 잘못 판단하게 되면 업무상 큰 영향이 발생하는 경우: 암 진단, 금융사기 판별</li>\n",
    "    <li>정밀도가 상대적으로 더 중요한 지표인 경우는 실제 Negative 음성인 데이터 예측을 Positive 양성으로 잘못 판단하게 되면 업무상 큰 영향이 발생하는 경우: 스팸 메일 판별</li>\n",
    "</ul>"
   ]
  },
  {
   "cell_type": "markdown",
   "id": "0550396d",
   "metadata": {},
   "source": [
    "다시 한번 재현율과 정밀도의 공식을 살펴보면, 재현율 = TP / (TP + FN), 정밀도 = TP / (TP + FP)이다. 재현율과 정밀도 모두 TP를 높이는 데 동일하게 초점을 맞추지만, 재현율은 FN(실제 Positive, 예측 Negative)를 낮추는 데, 정밀도는 FP를 낮추는 데 초점을 맞춘다. 이 같은 특성 때문에 재현율과 정밀도는 서로 보완적인 지표로 분류의 성능을 평가하는 데 적용된다. 가장 좋은 성능 평가는 재현율과 정밀도 모두 높은 수치를 얻는 것이다. 반면에 둘 중 어느 한 평가 지표만 매우 높고, 다른 수치는 매우 낮은 결과를 나타내는 경우는 바람직하지 않다."
   ]
  },
  {
   "cell_type": "markdown",
   "id": "dac4e653",
   "metadata": {},
   "source": [
    "## 정밀도/재현율 트레이드오프"
   ]
  },
  {
   "cell_type": "markdown",
   "id": "0ac3cf00",
   "metadata": {},
   "source": [
    "SGDClassifier가 분류를 어떻게 결정하는지 살펴보며 이 트레이드오프를 이해해보겠다. 이 분류기는 <b>결정 함수</b><sup>decision function</sup>를 사용하여 각 샘플의 점수를 계산한다. 이 점수가 임곗값보다 크면 샘플을 양성 클래스에 할당하고 그렇지 않으면 음성 클래스에 할당한다. [그림 3]에 가장 낮은 점수부터 가장 높은 점수까지 몇 개의 숫자를 나열했다. <b>결정 임곗값</b><sup>decision threshold</sup>이 가운데 (두 개의 숫자 5 사이) 화살표라고 가정해보겠다. 임곗값 오른쪽에 4개의 진짜 양성(실제 숫자 5)과 하나의 거짓 양성(실제 숫자 6)이 있다. 그렇기 때문에 이 임곗값에서 정밀도는 80%(5개 중 4개)다. 하지만 실제 숫자 5는 6개고 분류기는 4개만 감지했으므로 재현율은 67%(6개 중 4개)다. 이번에 임곗값을 높이면(임곗값을 오른쪽 화살표로 옮기면) 거짓 양성(숫자 6)이 진짜 음성이 되어 정밀도가 높아진다(이 경우에 100%가 된다). 하지만 진짜 양성 하나가 거짓 음성이 되었으므로 재현율이 50%로 줄어든다. 반대로 임곗값을 내리면 재현율이 높아지고 정밀도가 줄어든다."
   ]
  },
  {
   "cell_type": "markdown",
   "id": "f63366d3",
   "metadata": {},
   "source": [
    "<b>그림 3</b> 정밀도/재현율 트레이드오프\n",
    "<div style=\"text-align:center;\">\n",
    "    <img src=\"./images/Evaluation Indicator/pr_trade_off.png\">\n",
    "</div>"
   ]
  },
  {
   "cell_type": "markdown",
   "id": "e4d148f9",
   "metadata": {},
   "source": [
    "사이킷런에서 임곗값을 직접 지정할 수는 없지만 예측에 사용한 점수는 확인할 수 있다. 분류기의 <code>predict()</code> 메서드 대신 <code>decision_function()</code> 메서드를 호출하면 각 샘플의 점수를 얻을 수 있다. 이 점수를 기반으로 원하는 임곗값을 정해 예측을 만들 수 있다."
   ]
  },
  {
   "cell_type": "code",
   "execution_count": 15,
   "id": "4fad65df",
   "metadata": {
    "ExecuteTime": {
     "end_time": "2023-01-11T10:49:40.980588Z",
     "start_time": "2023-01-11T10:49:40.967251Z"
    }
   },
   "outputs": [
    {
     "data": {
      "text/plain": [
       "array([2164.22030239])"
      ]
     },
     "execution_count": 15,
     "metadata": {},
     "output_type": "execute_result"
    }
   ],
   "source": [
    "y_scores = sgd_clf.decision_function([some_digit])\n",
    "y_scores"
   ]
  },
  {
   "cell_type": "code",
   "execution_count": 16,
   "id": "29565707",
   "metadata": {
    "ExecuteTime": {
     "end_time": "2023-01-11T10:49:40.995641Z",
     "start_time": "2023-01-11T10:49:40.983112Z"
    }
   },
   "outputs": [
    {
     "data": {
      "text/plain": [
       "array([ True])"
      ]
     },
     "execution_count": 16,
     "metadata": {},
     "output_type": "execute_result"
    }
   ],
   "source": [
    "threshold = 0\n",
    "y_some_digit_pred = (y_scores > threshold)\n",
    "y_some_digit_pred"
   ]
  },
  {
   "cell_type": "markdown",
   "id": "4a4949dd",
   "metadata": {},
   "source": [
    "SGDClassifier의 임곗값이 0이므로 위 코드는 <code>predict()</code> 메서드와 같은 결과(즉, True)를 반환한다.<sup><a id=\"a05\" href=\"#p05\">[5]</a></sup> 임곗값을 높여보겠다."
   ]
  },
  {
   "cell_type": "code",
   "execution_count": 17,
   "id": "51e1c205",
   "metadata": {
    "ExecuteTime": {
     "end_time": "2023-01-11T10:49:41.011175Z",
     "start_time": "2023-01-11T10:49:40.998160Z"
    }
   },
   "outputs": [
    {
     "data": {
      "text/plain": [
       "array([False])"
      ]
     },
     "execution_count": 17,
     "metadata": {},
     "output_type": "execute_result"
    }
   ],
   "source": [
    "threshold = 8000\n",
    "y_some_digit_pred = (y_scores > threshold)\n",
    "y_some_digit_pred"
   ]
  },
  {
   "cell_type": "markdown",
   "id": "4a58c1f4",
   "metadata": {},
   "source": [
    "이 결과는 임곗값을 높이면 재현율이 줄어든다는 것을 보여준다. 이미지가 실제로 숫자 5이고 임곗값이 0일 때는 분류기가 이를 감지했지만, 임곗값을 8,000으로 높이며 이를 놓치게 된다."
   ]
  },
  {
   "cell_type": "markdown",
   "id": "7b91417c",
   "metadata": {},
   "source": [
    "그렇다면 적절한 임곗값을 어떻게 정할 수 있을까? 이를 위해서는 먼저 <code>cross_val_predict()</code> 함수를 사용해 훈련 세트에 있는 모든 샘플의 점수를 구해야 한다. 하지만 이번에는 예측 결과가 아니라 결정 점수를 반환받도록 지정해야 한다."
   ]
  },
  {
   "cell_type": "code",
   "execution_count": 18,
   "id": "deec180a",
   "metadata": {
    "ExecuteTime": {
     "end_time": "2023-01-11T10:50:08.485714Z",
     "start_time": "2023-01-11T10:49:41.013170Z"
    }
   },
   "outputs": [],
   "source": [
    "y_scores = cross_val_predict(sgd_clf, X_train, y_train_5, cv=3,\n",
    "                             method=\"decision_function\")"
   ]
  },
  {
   "cell_type": "markdown",
   "id": "becfadb5",
   "metadata": {},
   "source": [
    "이 점수로 <code>precision_recall_curve()</code> 함수를 사용하여 가능한 모든 임곗값에 대해 정밀도와 재현율을 계산할 수 있다."
   ]
  },
  {
   "cell_type": "code",
   "execution_count": 19,
   "id": "8fae4a3e",
   "metadata": {
    "ExecuteTime": {
     "end_time": "2023-01-11T10:50:08.516960Z",
     "start_time": "2023-01-11T10:50:08.489239Z"
    }
   },
   "outputs": [],
   "source": [
    "from sklearn.metrics import precision_recall_curve\n",
    "\n",
    "precisions, recalls, thresholds = precision_recall_curve(y_train_5, y_scores)"
   ]
  },
  {
   "cell_type": "markdown",
   "id": "3a1da0b2",
   "metadata": {},
   "source": [
    "이제 맷플롯립을 이용해 임곗값의 함수로 정밀도와 재현율을 그릴 수 있다."
   ]
  },
  {
   "cell_type": "code",
   "execution_count": 20,
   "id": "37d08173",
   "metadata": {
    "ExecuteTime": {
     "end_time": "2023-01-11T10:50:08.734023Z",
     "start_time": "2023-01-11T10:50:08.518483Z"
    }
   },
   "outputs": [
    {
     "data": {
      "image/png": "[encoded data removed]",
      "text/plain": [
       "<Figure size 576x288 with 1 Axes>"
      ]
     },
     "metadata": {
      "needs_background": "light"
     },
     "output_type": "display_data"
    }
   ],
   "source": [
    "def plot_precision_recall_vs_threshold(precisions, recalls, thresholds):\n",
    "    plt.plot(thresholds, precisions[:-1], \"b--\", label=\"Precision\", linewidth=2)\n",
    "    plt.plot(thresholds, recalls[:-1], \"g-\", label=\"Recall\", linewidth=2)\n",
    "    plt.legend(loc=\"center right\", fontsize=16)\n",
    "    plt.xlabel(\"Threshold\", fontsize=16)\n",
    "    plt.grid(True)\n",
    "    plt.axis([-50000, 50000, 0, 1])\n",
    "    \n",
    "recall_90_precision = recalls[np.argmax(precisions >= 0.90)]\n",
    "threshold_90_precision = thresholds[np.argmax(precisions >= 0.90)]\n",
    "\n",
    "plt.figure(figsize=(8, 4))\n",
    "plot_precision_recall_vs_threshold(precisions, recalls, thresholds)\n",
    "plt.plot([threshold_90_precision, threshold_90_precision], [0., 0.9], \"r:\")\n",
    "plt.plot([-50000, threshold_90_precision], [0.9, 0.9], \"r:\")\n",
    "plt.plot([-50000, threshold_90_precision], [recall_90_precision, recall_90_precision], \"r:\")\n",
    "plt.plot([threshold_90_precision], [0.9], \"ro\")\n",
    "plt.plot([threshold_90_precision], [recall_90_precision], \"ro\")\n",
    "plt.show()"
   ]
  },
  {
   "cell_type": "markdown",
   "id": "579d8cc1",
   "metadata": {},
   "source": [
    "<div style=\"background-color:#D3D3D3; padding:10px;\">\n",
    "    <span style=\"color: #D0B134\"><strong>NOTEΞ</strong></span> 위 그림에서 정밀도 곡선이 재현율 곡선보다 왜 더 울퉁불퉁한지 의아할 수 있다. 이는 임곗값을 올리더라도 정밀도가 가끔 낮아질 때가 있기 때문이다(일반적으로는 높아져야 한다). 그 이유를 이해하기 위해 [그림 3]을 다시 살펴보겠다. 가운데 임곗값에서 오른쪽으로 숫자 하나만큼 이동하면 정밀도는 4/5(80%)에서 3/4(75%)로 줄어든다. 반면 재현율은 임곗값이 올라감에 따라 줄어들 수 밖에 없어 부드러운 곡선이 되는 것이다.\n",
    "    </div>"
   ]
  },
  {
   "cell_type": "markdown",
   "id": "dfa1a298",
   "metadata": {},
   "source": [
    "좋은 정밀도/재현율 트레이드오프를 선택하는 다른 방법은 다음 그림처럼 재현율에 대한 정밀도 곡선을 그리는 것이다(표시된 임곗값은 앞에서와 동일하다).<sup><a id=\"a06\" href=\"#p06\">[6]</a></sup>"
   ]
  },
  {
   "cell_type": "code",
   "execution_count": 21,
   "id": "94481f10",
   "metadata": {
    "ExecuteTime": {
     "end_time": "2023-01-11T10:50:08.919454Z",
     "start_time": "2023-01-11T10:50:08.736683Z"
    }
   },
   "outputs": [
    {
     "data": {
      "image/png": "[encoded data removed]",
      "text/plain": [
       "<Figure size 576x432 with 1 Axes>"
      ]
     },
     "metadata": {
      "needs_background": "light"
     },
     "output_type": "display_data"
    }
   ],
   "source": [
    "def plot_precision_vs_recall(precisions, recalls):\n",
    "    plt.plot(recalls, precisions, \"b-\", linewidth=2)\n",
    "    plt.xlabel(\"Recall\", fontsize=16)\n",
    "    plt.ylabel(\"Precision\", fontsize=16)\n",
    "    plt.axis([0, 1, 0, 1])\n",
    "    plt.grid(True)\n",
    "    \n",
    "plt.figure(figsize=(8, 6))\n",
    "plot_precision_vs_recall(precisions, recalls)\n",
    "plt.plot([recall_90_precision, recall_90_precision], [0., 0.9], \"r:\")\n",
    "plt.plot([0.0, recall_90_precision], [0.9, 0.9], \"r:\")\n",
    "plt.plot([recall_90_precision], [0.9], \"ro\")\n",
    "plt.show()"
   ]
  },
  {
   "cell_type": "markdown",
   "id": "f5829c1b",
   "metadata": {},
   "source": [
    "재현율 80% 근처에서 정밀도가 급격하게 줄어들기 시작한다. 이 하강점 직전을 정밀도/재현율 트레이드오프로 선택하는 것이 좋다. 예를 들면 재현율이 60% 정도인 지점이다. 물론 이런 선택은 프로젝트에 따라 달라진다."
   ]
  },
  {
   "cell_type": "markdown",
   "id": "3b560662",
   "metadata": {},
   "source": [
    "서로 다른 모델의 두 정밀도-재현율 곡선을 비교하면 많은 통찰을 얻을 수 있지만, 확실히 수작업이다. 모델을 자동으로 비교하려면 특정 임곗값이나 운영 포인트에 국한하지 않고 전체 곡선에 담긴 정보를 요약해야 한다. 이러한 요약 방법의 하나로 정밀도-재현율 곡선의 아랫부분 면적을 계산할 수 있으며, 이를 평균 정밀도<sup>average precision</sup>라고 한다. <code>average_precision_score()</code> 함수가 평균 정밀도를 계산해준다. 정밀도-재현율 곡선을 계산하고 여러 임곗값을 고려해야 하므로, <code>predict()</code> 함수가 아니라 <code>decision_function()</code>이나 <code>predict_proba()</code> 함수의 결괏값을 <code>average_precision_score()</code> 함수로 전달해야 한다."
   ]
  },
  {
   "cell_type": "code",
   "execution_count": 22,
   "id": "8c7e2ddc",
   "metadata": {
    "ExecuteTime": {
     "end_time": "2023-01-11T10:50:08.950208Z",
     "start_time": "2023-01-11T10:50:08.922454Z"
    }
   },
   "outputs": [
    {
     "name": "stdout",
     "output_type": "stream",
     "text": [
      "SGD의 평균 정밀도: 0.871\n"
     ]
    }
   ],
   "source": [
    "from sklearn.metrics import average_precision_score\n",
    "ap = average_precision_score(y_test_5, sgd_clf.decision_function(X_test))\n",
    "print(\"SGD의 평균 정밀도: {:.3f}\".format(ap))"
   ]
  },
  {
   "cell_type": "markdown",
   "id": "4f327473",
   "metadata": {},
   "source": [
    "평균 정밀도는 0에서 1 사이를 지나는 곡선의 아래 면적이므로 항상 0(가장 나쁨)과 1(가장 좋음) 사이의 값을 반환한다. 무작위로 예측하는 분류기의 decision_function의 평균 정밀도는 데이터셋에 있는 양성 클래스의 비율이 된다."
   ]
  },
  {
   "cell_type": "markdown",
   "id": "a1391137",
   "metadata": {},
   "source": [
    "정밀도 90%를 달성하는 것이 목표라고 가정해보자. 위의 임곗값에 따른 정밀도/재현율 그래프에서 임곗값이 약 8,000 정도라는 것을 알 수 있다. 조금 더 정확하게 최소한 90% 정밀도가 되는 가장 낮은 임곗값을 찾을 수 있다(<code>np.argmax()</code>는 최댓값의 첫 번째 인덱스를 반환하므로 여기서 첫 번째 True 값을 의미한다)."
   ]
  },
  {
   "cell_type": "code",
   "execution_count": 23,
   "id": "ba8ecfbc",
   "metadata": {
    "ExecuteTime": {
     "end_time": "2023-01-11T10:50:08.966765Z",
     "start_time": "2023-01-11T10:50:08.953436Z"
    }
   },
   "outputs": [
    {
     "data": {
      "text/plain": [
       "3370.0194991439594"
      ]
     },
     "execution_count": 23,
     "metadata": {},
     "output_type": "execute_result"
    }
   ],
   "source": [
    "threshold_90_precision = thresholds[np.argmax(precisions >= 0.90)]\n",
    "\n",
    "threshold_90_precision"
   ]
  },
  {
   "cell_type": "markdown",
   "id": "6c56421e",
   "metadata": {},
   "source": [
    "(훈련 세트에 대한) 예측을 만들려면 분류기의 <code>predict()</code> 메서드를 호출하는 대신 다음 코드를 실행한다."
   ]
  },
  {
   "cell_type": "code",
   "execution_count": 24,
   "id": "646e8a2c",
   "metadata": {
    "ExecuteTime": {
     "end_time": "2023-01-11T10:50:08.981791Z",
     "start_time": "2023-01-11T10:50:08.969885Z"
    }
   },
   "outputs": [],
   "source": [
    "y_train_pred_90 = (y_scores >= threshold_90_precision)"
   ]
  },
  {
   "cell_type": "markdown",
   "id": "6257b235",
   "metadata": {},
   "source": [
    "이 예측에 대한 정밀도와 재현율을 확인해보자."
   ]
  },
  {
   "cell_type": "code",
   "execution_count": 25,
   "id": "24612cc0",
   "metadata": {
    "ExecuteTime": {
     "end_time": "2023-01-11T10:50:09.044678Z",
     "start_time": "2023-01-11T10:50:08.984794Z"
    }
   },
   "outputs": [
    {
     "name": "stdout",
     "output_type": "stream",
     "text": [
      "정밀도: 0.900, 재현율: 0.480\n"
     ]
    }
   ],
   "source": [
    "print('정밀도: {0:.3f}, 재현율: {1:.3f}'.format(precision_score(y_train_5, y_train_pred_90), \n",
    "                                                recall_score(y_train_5, y_train_pred_90)))"
   ]
  },
  {
   "cell_type": "markdown",
   "id": "7ea2d4a0",
   "metadata": {},
   "source": [
    "정밀도 90%를 달성한 분류기를 만들었다. 여기서 볼 수 있듯이 어떤 가상의 정밀도에 대해서도 분류기를 손쉽게 만들 수 있다. 충분히 큰 임곗값을 지정하면 끝이다. 이처럼 분류기의 필요조건을 지정하는 것을 종종 운영 포인트<sup>operating point</sup>를 지정한다고 말한다. 운영 포인트를 고정하면 비지니스 목표를 설정할 때 고객이나 조직 내 다른 그룹에 성능을 보장하는 데 도움이 된다."
   ]
  },
  {
   "cell_type": "markdown",
   "id": "0d73e4ad",
   "metadata": {},
   "source": [
    "## 정밀도와 재현율의 맹점"
   ]
  },
  {
   "cell_type": "markdown",
   "id": "718ccb73",
   "metadata": {},
   "source": [
    "앞에서도 봤듯이 Positive 예측의 임곗값을 변경함에 따라 정밀도와 재현율의 수치가 변경된다. 임곗값의 이러한 변경은 업무 환경에 맞게 두 개의 수치를 상호 보완할 수 있는 수준에서 적용돼야 한다. 그렇지 않고 단순히 하나의 성능 지표 수치를 높이기 위한 수단으로 사용돼서는 안 된다. 다음은 정밀도 또는 재현율 평가 지표 수치 중 하나를 극단적으로 높이는 방법이지만 숫자 놀음에 불과한 방법이다."
   ]
  },
  {
   "cell_type": "markdown",
   "id": "15a51726",
   "metadata": {},
   "source": [
    "### 정밀도가 100% 되는 방법"
   ]
  },
  {
   "cell_type": "markdown",
   "id": "3e617ca3",
   "metadata": {},
   "source": [
    "확실한 기준이 되는 경우만 Positive로 예측하고 나머지는 모두 Negative로 예측한다. 예를 들어 환자가 80세 이상이고 비만이며 이전에 암 진단을 받았고 암 세포의 크기가 상위 0.1% 이상이면 무조건 Positive, 다른 경우는 Negative로 예측하는 것이다."
   ]
  },
  {
   "cell_type": "markdown",
   "id": "973736b1",
   "metadata": {},
   "source": [
    "정밀도 = TP / (TP + FP)이다. 전체 환자 1,000명 중 확실한 Positive 징후만 가진 환자는 단 1명이라고 하면 이 한 명만 Positive로 예측하고 나머지는 모두 Negative로 예측하더라도 FP는 0, TP는 1이 되므로 정밀도는 1 / (1 + 0)으로 100%가 된다."
   ]
  },
  {
   "cell_type": "markdown",
   "id": "f4bf00b3",
   "metadata": {},
   "source": [
    "### 재현율이 100% 되는 방법"
   ]
  },
  {
   "cell_type": "markdown",
   "id": "d0556a16",
   "metadata": {},
   "source": [
    "모든 환자를 Positive로 예측하면 된다. 재현율 = TP / (TP + FN)이므로 전체 환자 1,000명을 다 Positive로 예측하는 것이다. 이 중 실제 양성인 사람이 30명 정도라도 TN이 수치에 포함되지 않고 FN은 아예 0이므로 30 / (30 + 0)으로 100%가 된다."
   ]
  },
  {
   "cell_type": "markdown",
   "id": "2a8b5b6f",
   "metadata": {},
   "source": [
    "이처럼 정밀도와 재현율 성능 수치도 어느 한쪽만 참조하면 극단적인 수치 조작이 가능하다. 따라서 정밀도 또는 재현율 중 하나만 스코어가 좋고 다른 하나는 스코어가 나쁜 분류는 성능이 좋지 않은 분류로 간주할 수 있다. 물론 앞의 예제에서와 같이 분류가 정밀도 또는 재현율 중 하나에 상대적인 중요도를 부여해 각 예측 상황에 맞는 분류 알고리즘을 튜닝할 수 있지만, 그렇다고 정밀도/재현율 중 하나만 강조하는 상황이 돼서는 안 된다(예를 들어, 암 예측 모델에서 재현율을 높인다고 걸핏하면 양성으로 판단할 경우 환자의 부담과 불평이 커지게 된다)."
   ]
  },
  {
   "cell_type": "markdown",
   "id": "d11c0273",
   "metadata": {},
   "source": [
    "이에 정밀도와 재현율의 수치가 적절하게 조합돼 분류의 종합적인 성능 평가에 사용될 수 있는 평가 지표가 필요하다."
   ]
  },
  {
   "cell_type": "markdown",
   "id": "c850c86a",
   "metadata": {},
   "source": [
    "## F-score"
   ]
  },
  {
   "cell_type": "markdown",
   "id": "9327950b",
   "metadata": {},
   "source": [
    "f-점수<sup>f-score</sup>는 정밀도와 재현율의 조화 평균<sup>harmonic mean</sup>이다. f-점수는 정밀도와 재현율이 어느 한 쪽으로 치우치지 않는 수치를 나타낼 때 상대적으로 높은 값을 가진다. 즉, f-점수가 높다는 것은 재현율과 정밀도가 고르게 높다는 뜻이다. f-점수의 공식은 다음과 같다."
   ]
  },
  {
   "cell_type": "markdown",
   "id": "6f0d4d05",
   "metadata": {},
   "source": [
    "$$\n",
    "F1 = \\frac{2}{\\frac{1}{REC} + \\frac{1}{PRE}} = 2 \\times \\frac{PRE \\times REC}{PRE + REC}\n",
    "$$"
   ]
  },
  {
   "cell_type": "markdown",
   "id": "83b6895a",
   "metadata": {},
   "source": [
    "특별히 이 공식을 f<sub>1</sub>-점수라고도 한다.<sup><a id=\"a07\" href=\"#p07\">[7]</a></sup> 만일 A 예측 모델의 경우 정밀도가 0.9, 재현율이 0.1로 극단적인 차이가 나고, B 예측 모델은 정밀도가 0.5, 재현율이 0.5로 정밀도와 재현율의 큰 차이가 없다면 A 예측 모델의 F1 스코어는 0.18이고, B 예측 모델의 F1 스코어는 0.5로 B모델이 A 모델에 비해 매우 우수한 F1 스코어를 가지게 된다."
   ]
  },
  {
   "cell_type": "markdown",
   "id": "5c86e91f",
   "metadata": {},
   "source": [
    "사이킷런은 F1 스코어를 구하기 위해 <code>f1_score()</code>라는 API를 제공한다. 앞서 계산한 '5와 5 아님' 데이터셋의 예측에 적용해보겠다. 여기서 숫자 '5'가 양성 클래스('5'는 True, 나머지는 False 레이블을 가진다)이므로 양성 클래스가 소수<sup>minority</sup> 클래스다."
   ]
  },
  {
   "cell_type": "code",
   "execution_count": 26,
   "id": "82cb0743",
   "metadata": {
    "ExecuteTime": {
     "end_time": "2023-01-11T10:50:09.139134Z",
     "start_time": "2023-01-11T10:50:09.047408Z"
    }
   },
   "outputs": [
    {
     "name": "stdout",
     "output_type": "stream",
     "text": [
      "빈도 기반 더미 모델의 f1 score: 0.00\n",
      "무작위 더미 모델의 f1 score: 0.09\n",
      "트리 모델의 f1 score: 0.44\n",
      "SGD 모델의 f1 score: 0.73\n"
     ]
    }
   ],
   "source": [
    "from sklearn.metrics import f1_score\n",
    "print(\"빈도 기반 더미 모델의 f1 score: {:.2f}\".format(\n",
    "    f1_score(y_train_5, pred_most_frequent)))\n",
    "print(\"무작위 더미 모델의 f1 score: {:.2f}\".format(\n",
    "    f1_score(y_train_5, pred_dummy)))\n",
    "print(\"트리 모델의 f1 score: {:.2f}\".format(\n",
    "    f1_score(y_train_5, pred_tree)))\n",
    "print(\"SGD 모델의 f1 score: {:.2f}\".format(\n",
    "    f1_score(y_train_5, pred_sgd)))"
   ]
  },
  {
   "cell_type": "markdown",
   "id": "28f88bf8",
   "metadata": {},
   "source": [
    "여기서 두 가지를 주목해야 한다. 하나는 양성 클래스로 예측된 것이 하나도 없어서 빈도 기반 더미 모델이 에러 메시지를 내뱉는다(F1 스코어의 분모가 0이 된다). 또한 무작위 더미 분류기와 트리 분류기 사이에서도 정확도에는 없던 뚜렷한 차이를 볼 수 있다. F1 스코어를 사용해 평가하면 예측 성능이 다시 하나의 숫자로 요약된다. 하지만 어떤 모델이 좋은지 직관적으로 판단하는 데는 정확도보다 F1 스코어가 낫다. 그러나 F1 스코어는 정확도보다 이해하거나 설명하기 어렵다는 게 단점이다."
   ]
  },
  {
   "cell_type": "markdown",
   "id": "f909deea",
   "metadata": {},
   "source": [
    "<code>classification_report()</code> 함수는 정밀도, 재현율, F1 스코어 모두를 한 번에 계산해서 깔끔하게 출력해준다."
   ]
  },
  {
   "cell_type": "code",
   "execution_count": 27,
   "id": "ca2b3668",
   "metadata": {
    "ExecuteTime": {
     "end_time": "2023-01-11T10:50:09.233353Z",
     "start_time": "2023-01-11T10:50:09.141149Z"
    }
   },
   "outputs": [
    {
     "name": "stdout",
     "output_type": "stream",
     "text": [
      "              precision    recall  f1-score   support\n",
      "\n",
      "        5 아님       0.91      1.00      0.95     54579\n",
      "           5       0.00      0.00      0.00      5421\n",
      "\n",
      "    accuracy                           0.91     60000\n",
      "   macro avg       0.45      0.50      0.48     60000\n",
      "weighted avg       0.83      0.91      0.87     60000\n",
      "\n"
     ]
    },
    {
     "name": "stderr",
     "output_type": "stream",
     "text": [
      "C:\\ProgramData\\Anaconda3\\envs\\myenv\\lib\\site-packages\\sklearn\\metrics\\_classification.py:1334: UndefinedMetricWarning: Precision and F-score are ill-defined and being set to 0.0 in labels with no predicted samples. Use `zero_division` parameter to control this behavior.\n",
      "  _warn_prf(average, modifier, msg_start, len(result))\n",
      "C:\\ProgramData\\Anaconda3\\envs\\myenv\\lib\\site-packages\\sklearn\\metrics\\_classification.py:1334: UndefinedMetricWarning: Precision and F-score are ill-defined and being set to 0.0 in labels with no predicted samples. Use `zero_division` parameter to control this behavior.\n",
      "  _warn_prf(average, modifier, msg_start, len(result))\n",
      "C:\\ProgramData\\Anaconda3\\envs\\myenv\\lib\\site-packages\\sklearn\\metrics\\_classification.py:1334: UndefinedMetricWarning: Precision and F-score are ill-defined and being set to 0.0 in labels with no predicted samples. Use `zero_division` parameter to control this behavior.\n",
      "  _warn_prf(average, modifier, msg_start, len(result))\n"
     ]
    }
   ],
   "source": [
    "from sklearn.metrics import classification_report\n",
    "print(classification_report(y_train_5, pred_most_frequent,\n",
    "                            target_names=[\"5 아님\", \"5\"]))"
   ]
  },
  {
   "cell_type": "markdown",
   "id": "962419e9",
   "metadata": {},
   "source": [
    "<code>classification_report()</code> 함수는 클래스마다 (여기에서는 True와 False) 한 줄씩 출력을 만들고, 각 클래스가 양성일 때 정밀도, 재현율, F1 스코어를 리포트한다. 이전에 소수 클래스인 숫자 '5'를 양성 클래스로 간주했다. 만약 양성 클래스를 '5아님'으로 바꾼다면 <code>classification_report()</code> 출력에서 볼 수 있듯이 most_frequent 모델의 F1 스코어가 0.95다. 더 나아가 모든 샘플을 '5 아님'으로 분류하기 때문에 '5 아님' 클래스의 재현율이 1이다. F1 스코어 오른쪽의 마지막 열은 각 클래스에 대한 지지도<sup>support</sup>로, 단순히 이 클래스에 있는 진짜 샘플의 수다."
   ]
  },
  {
   "cell_type": "markdown",
   "id": "fd1c28d1",
   "metadata": {},
   "source": [
    "분류 리포트의 마지막 세 줄은 정밀도, 재현율, F1 스코어의 평균을 보여준다. macro avg는 단순히 클래스별 점수의 평균을 계산한 것이다. weighted avg는클래스의 샘플 수로 가중 평균한 것이다. 두 클래스를 평균한 것이므로 양성 클래스의 개념이 필요하지 않다. 양성 클래스의 정밀도나 재현율 점수만 보는 것에 비해 두 클래스를 평균하면 숫자 하나로 된 의미 있는 지표를 얻을 수 있다. 무작위 더미 분류기와 SGD의 리포트도 확인해보자."
   ]
  },
  {
   "cell_type": "code",
   "execution_count": 28,
   "id": "f2320450",
   "metadata": {
    "ExecuteTime": {
     "end_time": "2023-01-11T10:50:09.340711Z",
     "start_time": "2023-01-11T10:50:09.237888Z"
    }
   },
   "outputs": [
    {
     "name": "stdout",
     "output_type": "stream",
     "text": [
      "              precision    recall  f1-score   support\n",
      "\n",
      "        5 아님       0.91      0.91      0.91     54579\n",
      "           5       0.09      0.09      0.09      5421\n",
      "\n",
      "    accuracy                           0.84     60000\n",
      "   macro avg       0.50      0.50      0.50     60000\n",
      "weighted avg       0.84      0.84      0.84     60000\n",
      "\n"
     ]
    }
   ],
   "source": [
    "print(classification_report(y_train_5, pred_dummy,\n",
    "                            target_names=[\"5 아님\", \"5\"]))"
   ]
  },
  {
   "cell_type": "code",
   "execution_count": 29,
   "id": "952fcd5c",
   "metadata": {
    "ExecuteTime": {
     "end_time": "2023-01-11T10:50:09.434337Z",
     "start_time": "2023-01-11T10:50:09.342227Z"
    }
   },
   "outputs": [
    {
     "name": "stdout",
     "output_type": "stream",
     "text": [
      "              precision    recall  f1-score   support\n",
      "\n",
      "        5 아님       0.97      0.99      0.98     54579\n",
      "           5       0.84      0.65      0.73      5421\n",
      "\n",
      "    accuracy                           0.96     60000\n",
      "   macro avg       0.90      0.82      0.85     60000\n",
      "weighted avg       0.95      0.96      0.95     60000\n",
      "\n"
     ]
    }
   ],
   "source": [
    "print(classification_report(y_train_5, pred_sgd,\n",
    "                           target_names=[\"5 아님\", \"5\"]))"
   ]
  },
  {
   "cell_type": "markdown",
   "id": "c996f53e",
   "metadata": {},
   "source": [
    "보다시피, 무작위 더미 모델과 가장 좋은 성능의 SGD 모델은 그렇게 확연히 차이 나지 않는다. 어떤 클래스를 양성 클래스로 선택하느냐가 이 평가 지표에 큰 영향을 끼친다. 무작위 더미 모델에서 '5'클래스의 F1 스코어가 0.09이지만 (SGD는 0.73), '5 아님' 클래스는 각각 0.91과 0.98이라서 양쪽 모두 수긍할 만한 결과다. 하지만 모든 숫자를 함께 보면 정확한 판단을 내릴 수 있어 SGD 모델의 우수성을 알 수 있다."
   ]
  },
  {
   "cell_type": "markdown",
   "id": "513e0bcd",
   "metadata": {},
   "source": [
    "## ROC 곡선과 AUC"
   ]
  },
  {
   "cell_type": "markdown",
   "id": "7aef3274",
   "metadata": {},
   "source": [
    "ROC 곡선과 이에 기반한 AUC 스코어는 이진 분류의 예측 성능 측정에서 중요하게 사용되는 지표다. ROC 곡선<sup>Receiver Operation Characteristic Curve</sup>은 우리말로 수신자 판단 곡선으로 불린다. 이름이 약간 이상한 것은 원래 2차대전 때 통신 장비 성능 평가를 위해 고안된 수치이기 때문이다. 일반적으로 의학 분야에서 많이 사용되지만, 머신러닝의 이진 분류 모델의 예측 성능을 판단하는 중요한 평가 지표이기도 하다. ROC 곡선은 FPR<sup>False Positive Rate</sup>이 변할 때 TPR<sup>True Positive Rate</sup>이 어떻게 변하는지를 나타내는 곡선이다. FPR을 X축으로, TPR을 Y축으로 잡으면 FPR의 변화에 따른 TPR의 변화가 곡선 형태로 나타난다."
   ]
  },
  {
   "cell_type": "markdown",
   "id": "aaf2b4fd",
   "metadata": {},
   "source": [
    "위에서도 잠깐 언급했지만 TPR은 True Positive Rate의 약자이며, 이는 재현율을 나타낸다. 따라서 TPR은 TP / (FN + TP)이다. TPR, 즉 재현율은 민감도로도 불린다. 그리고 민감도에 대응하는 지표로 TNR<sup>True Negative Rate</sup>이라고 불리는 특이성<sup>Specificity</sup>이 있다."
   ]
  },
  {
   "cell_type": "markdown",
   "id": "66c927af",
   "metadata": {},
   "source": [
    "<ul>\n",
    "    <li>민감도(TPR)은 실제값 Positive(양성)가 정확히 예측돼야 하는 수준을 나타낸다(질병이 있는 사람은 질병이 있는 것으로 양성 판정).</li>\n",
    "    <li>특이성(TNR)은 실제값 Negative(음성)가 정확히 예측돼야 하는 수준을 나타낸다(질병이 없는 건강한 사람은 질병이 없는 것으로 음성 판정).</li>\n",
    "</ul>"
   ]
  },
  {
   "cell_type": "markdown",
   "id": "fe4d2c35",
   "metadata": {},
   "source": [
    "TNR인 특이성은 다음과 같이 구할 수 있다. TNR = TN / (FP + TN). 그리고 ROC 곡선의 X축 기준인 FPR은 FP / (FP + TN)이므로 1 - TNR 또는 1 - 특이성으로 표현된다."
   ]
  },
  {
   "cell_type": "markdown",
   "id": "632fceef",
   "metadata": {},
   "source": [
    "$$\n",
    "FPR = \\frac{FP}{FP + TN} = \\frac{FP + TN - TN}{FP + TN} = 1 - \\frac{TN}{FP + TN} = 1 - TNR\n",
    "$$"
   ]
  },
  {
   "cell_type": "markdown",
   "id": "f36aa5b4",
   "metadata": {},
   "source": [
    "<b>그림 4</b> ROC 곡선 예시\n",
    "<div style=\"text-align:center;\">\n",
    "    <img src=\"./images/Evaluation Indicator/ROC-Curve.png\">\n",
    "</div>"
   ]
  },
  {
   "cell_type": "markdown",
   "id": "91ce4d5d",
   "metadata": {},
   "source": [
    "다음은 ROC 곡선의 예시다. 가운데 직선은 ROC 곡선의 최저 값이다. 왼쪽 하단과 오른쪽 상단을 대각선으로 이은 직선은 동전을 무작위로 던져 앞/뒤를 맞추는 랜덤 수준의 이진 분류의 ROC 직선이다(AUC는 0.5임). ROC 곡선이 가운데 직선에 가까울수록 성능이 떨어지는 것이며, 멀어질수록 성능이 뛰어난 것이다."
   ]
  },
  {
   "cell_type": "markdown",
   "id": "f53114a1",
   "metadata": {},
   "source": [
    "ROC 곡선은 FPR을 0부터 1까지 변경하면서 TPR의 변화 값을 구한다. 그럼 어떻게 FPR을 0부터 1까지 변경할 수 있을까? 바로 앞에서 배운 분류 결정 임곗값을 변경하면 된다. 분류 결정 임곗값은 Positive 예측값을 결정하는 확률의 기준이기 때문에 FPR을 0으로 만들려면 임곗값을 1로 지정하면 된다. 임곗값을 1로 지정하면 Positive 예측 기준이 매우 높기 때문에 분류기(Classifier)가 임곗값보다 높은 확률을 가진 데이터를 Positive로 예측할 수 없기 때문이다. 즉, 아예 Positive로 예측하지 않기 때문에 FP 값이 0이 되므로 자연스럽게 FPR은 0이 된다."
   ]
  },
  {
   "cell_type": "markdown",
   "id": "93c5b365",
   "metadata": {},
   "source": [
    "반대로 FPR을 1로 만들려면 TN을 0으로 만들면 된다. TN을 0으로 만들려면 분류 결정 임곗값을 0으로 지정하면 된다. 그럼 분류기의 Positive 확률 기준이 너무 낮아서 모두 Positive로 예측한다. 그럼 아예 Negative 예측이 없기 때문에 TN이 0이 되고 FPR 값은 1이 된다. 이렇게 임곗값을 1부터 0까지 변화시키면서 FPR을 구하고 이 FPR 값의 변화에 따른 TPR 값을 구하는 것이 ROC 곡선이다(그래서 임곗값을 1부터 0까지 거꾸로 변화시키면서 구한 재현율 곡선의 형태와 비슷하다)."
   ]
  },
  {
   "cell_type": "markdown",
   "id": "e370c94f",
   "metadata": {},
   "source": [
    "사이킷런은 ROC 곡선을 구하기 위해 <code>roc_curve()</code> API를 제공한다. 사용법은 <code>precision_recall_curve()</code> API와 유사하다. 단지 반환값이 FPR, TPR, 임곗값으로 구성돼 있을 뿐이다."
   ]
  },
  {
   "cell_type": "code",
   "execution_count": 56,
   "id": "27519a1f",
   "metadata": {
    "ExecuteTime": {
     "end_time": "2023-01-11T12:32:03.531405Z",
     "start_time": "2023-01-11T12:32:03.292453Z"
    }
   },
   "outputs": [
    {
     "data": {
      "image/png": "[encoded data removed]",
      "text/plain": [
       "<Figure size 432x288 with 1 Axes>"
      ]
     },
     "metadata": {
      "needs_background": "light"
     },
     "output_type": "display_data"
    }
   ],
   "source": [
    "from sklearn.metrics import roc_curve\n",
    "fpr, tpr, thresholds = roc_curve(y_train_5, y_scores)\n",
    "\n",
    "plt.plot(fpr, tpr, label=\"ROC Curve\")\n",
    "plt.plot([0, 1], [0, 1], 'k--', label=\"Random\")\n",
    "\n",
    "# 0 근처의 임곗값을 찾는다.\n",
    "close_zero = np.argmin(np.abs(thresholds))\n",
    "plt.plot(fpr[close_zero], tpr[close_zero], 'o', markersize=10,\n",
    "         label=\"threshold 0\", fillstyle=\"none\", c=\"k\", mew=2)\n",
    "\n",
    "\n",
    "start, end = plt.xlim()\n",
    "plt.xticks(np.round(np.arange(start, end, 0.1), 2))\n",
    "plt.xlim(0, 1)\n",
    "plt.ylim(0, 1)\n",
    "plt.xlabel('FPR(1 - Specificity)')\n",
    "plt.ylabel('TPR(Recall)')\n",
    "plt.grid()\n",
    "plt.legend()\n",
    "plt.show()"
   ]
  },
  {
   "cell_type": "markdown",
   "id": "60858acc",
   "metadata": {},
   "source": [
    "ROC 곡선은 왼쪽 위에 가까울수록 이상적이다. 거짓 양성 비율(FPR)이 낮게 유지되면서 재현율이 높은 분류기가 좋은 것이다. 기본 임곗값 0의 지점과 비교했을 때, FPR을 조금 늘리면 재현율을 아주 크게 높일 수 있다. 왼쪽 위에 가장 가까운 지점이 기본값으로 찾은 것보다 더 좋은 운영 포인트다."
   ]
  },
  {
   "cell_type": "code",
   "execution_count": 62,
   "id": "8056d993",
   "metadata": {
    "ExecuteTime": {
     "end_time": "2023-01-11T12:38:20.058101Z",
     "start_time": "2023-01-11T12:37:54.107030Z"
    }
   },
   "outputs": [
    {
     "data": {
      "image/png": "[encoded data removed]",
      "text/plain": [
       "<Figure size 432x288 with 1 Axes>"
      ]
     },
     "metadata": {
      "needs_background": "light"
     },
     "output_type": "display_data"
    }
   ],
   "source": [
    "from sklearn.ensemble import RandomForestClassifier\n",
    "\n",
    "rf = RandomForestClassifier(n_estimators=100, random_state=0, max_features=2)\n",
    "rf.fit(X_train, y_train_5)\n",
    "y_probas_forest = cross_val_predict(rf, X_train, y_train_5, cv=3,\n",
    "                                    method=\"predict_proba\")\n",
    "y_scores_forest = y_probas_forest[:, 1]\n",
    "fpr_rf, tpr_rf, thresholds_rf = roc_curve(y_train_5, y_scores_forest)\n",
    "\n",
    "plt.plot(fpr, tpr, label='SGD ROC Curve')\n",
    "plt.plot(fpr_rf, tpr_rf, label='RF ROC Curve')\n",
    "\n",
    "plt.xlabel(\"FPR(1 - Specificity)\")\n",
    "plt.ylabel(\"TPR(Recall)\")\n",
    "plt.plot(fpr[close_zero], tpr[close_zero], 'o', markersize=10,\n",
    "     label=\"SGD threshold 0\", fillstyle=\"none\", c='k', mew=2)\n",
    "close_default_rf = np.argmin(np.abs(thresholds_rf- 0.5))\n",
    "plt.plot(fpr_rf[close_default_rf], tpr[close_default_rf], '^', markersize=10,\n",
    "         label=\"RF threshold 0\", fillstyle=\"none\", c='k', mew=2)\n",
    "plt.legend()\n",
    "plt.grid()\n",
    "plt.show()"
   ]
  },
  {
   "cell_type": "markdown",
   "id": "a3d2cd5c",
   "metadata": {},
   "source": [
    "일반적으로 ROC 곡선 자체는 FPR과 TPR의 변화 값을 보는 데 이용하며 분류의 성능 지표로 사용되는 것은 ROC 곡선 면적에 기반한 AUC 값으로 결정한다. AUC<sup>Area Under Curve</sup> 값은 ROC 곡선 밑의 면적을 구한 것으로서 일반적으로 1에 가까울수록 좋은 수치다. AUC 수치가 커지려면 FPR이 작은 상태에서 얼마나 큰 TPR을 얻을 수 있느냐가 관건이다. 가운데 직선이 멀어지고 왼쪽 상단 모서리 쪽으로 가파르게 곡선이 이동할수록 직사각형에 가까운 곡선이 되어 면적이 1에 가까워지는 좋은 ROC AUC 성능 수치를 얻게 된다. 가운데 대각선 직선은 랜덤 수준의(동전 던지기 수준) 이진 분류 AUC 값으로 0.5다. 따라서 보통의 분류는 0.5 이상의 AUC 값을 갖는다."
   ]
  },
  {
   "cell_type": "code",
   "execution_count": 65,
   "id": "928e74b7",
   "metadata": {
    "ExecuteTime": {
     "end_time": "2023-01-11T12:38:39.043302Z",
     "start_time": "2023-01-11T12:38:38.544329Z"
    }
   },
   "outputs": [
    {
     "name": "stdout",
     "output_type": "stream",
     "text": [
      "SGD의 ROC AUC 값: 0.9666\n",
      "랜덤 포레스트의 ROC AUC 값: 0.9982\n"
     ]
    }
   ],
   "source": [
    "from sklearn.metrics import roc_auc_score\n",
    "\n",
    "print('SGD의 ROC AUC 값: {0:.4f}'.format(roc_auc_score(y_test_5, sgd_clf.decision_function(X_test))))\n",
    "print('랜덤 포레스트의 ROC AUC 값: {0:.4f}'.format(roc_auc_score(y_test_5, rf.predict_proba(X_test)[:, 1])))"
   ]
  },
  {
   "cell_type": "markdown",
   "id": "3a25740a",
   "metadata": {},
   "source": [
    "AUC 점수로 랜덤 포레스트와 SGD를 비교해보니, 랜덤 포레스트의 성능이 SGD보다 조금 더 낫다. AUC가 0과 1 사이의 곡선 아래 면적이므로 항상 0(최악)과 1(최선) 사이의 값을 가진다. 데이터셋에 담긴 클래스가 아무리 불균형하더라도 무작위로 예측한 AUC 값은 0.5가 된다. 그래서 불균형한 데이터셋에서는 정확도보다 AUC가 훨씬 좋은 지표다. AUC는 양성 샘플의 순위를 평가하는 것으로 볼 수 있다. 이는 분류기에서 무작위로 선택한 양성 클래스 포인트의 점수가 무작위로 선택한 음성 클래스 포인트의 점수보다 높을 확률과 같다. 그래서 AUC가 1일 때는 모든 양성 포인트의 점수가 모든 음성 포인트의 점수보다 높다.<sup><a id=\"a08\" href=\"#p08\">[8]</a></sup> 불균형한 클래스를 분류하는 문제에서 모델을 선택할 때는 정확도보다 AUC가 훨씬 의미 있는 정보를 제공한다. 정확도를 ROC 곡선 하나의 구분점으로 해석할 수 있지만 브래들리<sup>A. P. Bradley</sup>는 ROC AUC와 정확도가 서로 비례한다는 것을 보였다.<sup><a id=\"a09\" href=\"#p09\">[9]</a></sup>"
   ]
  },
  {
   "cell_type": "markdown",
   "id": "98aff011",
   "metadata": {},
   "source": [
    "<b>TIP</b> ROC 곡선이 정밀도/재현율(PR) 곡선과 비슷해서 어떤 것을 사용해야 할지 궁금할 수 있다. 일반적인 법칙은 양성 클래스가 드물거나 거짓 음성보다 거짓 양성이 더 중요할 때(정밀도) PR 곡선을 사용하고 그렇지 않으면 ROC 곡선을 사용한다. 예를 들어 조금 전의 ROC 곡선(그리고 ROC의 AUC 점수)을 보면 매우 좋은 분류기라고 생각할 수 있다. 하지만 이는 음성(5 아님)에 비해 양성(5)이 크게 적기 때문이다. 이와는 다르게 PR 곡선은 분류기의 성능 개선 여지가 얼마나 되는지(오른쪽 위 모서리에 가까워질 수 있는지) 잘 보여준다."
   ]
  },
  {
   "cell_type": "markdown",
   "id": "01291f6f",
   "metadata": {},
   "source": [
    "# 미주"
   ]
  },
  {
   "cell_type": "markdown",
   "id": "12b20420",
   "metadata": {},
   "source": [
    "<b id=\"p01\">1</b> y는 mnist.target의 값이 5일 때는 True, 그외 숫자는 False로 만들어 이 예를 이진 분류의 문제로 바꾸었다. [↩](#a01)\n",
    "\n",
    "<b id=\"p02\">2</b> DummyClassifier는 실제 모델과 비교하기 위해 간단한 규칙을 지원하는 모델이다. strategy 옵션으로 지정할 수 있는 규칙은 클래스 레이블 비율에 맞게 예측하는 stratified, 가장 많은 레이블을 예측하는 most_frequent 등이 있다. 회귀에서 이에 상응하는 DummyRegressor가 있으며, 지원하는 규칙으로는 (기본값인) 평균값을 예측하는 mean과 중간값을 예측하는 median 등이 있다. [↩](#a02)\n",
    "\n",
    "<b id=\"p03\">3</b> DummyClassifier의 strategy로 지정한 stratified 방식은 클래스 레이블의 비율과 같은 비율로 예측 결과를 만들지만, 타깃 값 y_test와는 다르므로 정확도는 더 낮아진다. [↩](#a03)\n",
    "\n",
    "<b id=\"p04\">4</b> TPR과 FPR은 오차 행렬에서 행(실제 클래스)끼리 계산하기 때문에 클래스 비율에 영향을 받지 않는다. [↩](#a04)\n",
    "\n",
    "<b id=\"p05\">5</b> 사실 <code>predict()</code> 메서드도 <code>decision_function()</code>함수를 사용하여 0보다 큰 경우를 양성으로 예측한다. [↩](#a05)\n",
    "\n",
    "<b id=\"p06\">6</b> <code>average_precision_score()</code> 함수를 사용하면 정밀도/재현율 곡선의 아래 면적을 계산할 수 있어서 서로 다른 두 모델을 비교하는 데 도움이 된다. [↩](#a06)\n",
    "\n",
    "<b id=\"p07\">7</b> $f$-점수의 일반화된 가중치 조화 평균 공식은 정밀도를 P, 재현율을 R이라고 할 때, $F = \\frac{1}{\\alpha\\frac{1}{P} + (1 - \\alpha)\\frac{1}{R}} = \\frac{(\\beta^2 + 1)PR}{\\beta^2P + R}, \\beta^2 = \\frac{1-\\alpha}{\\alpha}$이다.<br>\n",
    "$f_1$은 $\\beta = 1$일 때, 즉 정밀도와 재현율의 가중치가 동일한 $\\alpha=0.5$일 때 점수를 말한다. $\\beta$가 1보다 크면 재현율이 강조되고 1보다 작으면 정밀도가 강조된다. 보통 $f$-점수라 하면 $f_1$-점수를 말한다. [↩](#a07)\n",
    "\n",
    "<b id=\"p08\">8</b> 양성 포인트가 음성 클래스로 분류될 가능성이 없기 때문에 FN이 0이 되고 TPR(재현율)은 항상 1이 된다. [↩](#a08)\n",
    "\n",
    "<b id=\"p09\">9</b> The use of the area under the roc curve in the evaluation of machine learning algorithms, A.P.Bradley, Pattern Recognition, 30(7): 1145-1159, 1997 [↩](#a09)"
   ]
  }
 ],
 "metadata": {
  "kernelspec": {
   "display_name": "myenv",
   "language": "python",
   "name": "myenv"
  },
  "language_info": {
   "codemirror_mode": {
    "name": "ipython",
    "version": 3
   },
   "file_extension": ".py",
   "mimetype": "text/x-python",
   "name": "python",
   "nbconvert_exporter": "python",
   "pygments_lexer": "ipython3",
   "version": "3.8.13"
  },
  "toc": {
   "base_numbering": 1,
   "nav_menu": {},
   "number_sections": true,
   "sideBar": true,
   "skip_h1_title": false,
   "title_cell": "Table of Contents",
   "title_sidebar": "Contents",
   "toc_cell": false,
   "toc_position": {},
   "toc_section_display": true,
   "toc_window_display": false
  }
 },
 "nbformat": 4,
 "nbformat_minor": 5
}
