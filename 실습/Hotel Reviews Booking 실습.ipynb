{
 "cells": [
  {
   "cell_type": "markdown",
   "id": "db69c79e",
   "metadata": {},
   "source": [
    "# About Dataset"
   ]
  },
  {
   "cell_type": "markdown",
   "id": "d5b720e8",
   "metadata": {},
   "source": [
    "<b>Acknowledgements</b>\n",
    "\n",
    "<a href='https://www.booking.com/hotel/cy/la-veranda.en-gb.html' target='blank'>Booking.com의 La Veranda Hotel</a>에서 스크랩한 이 데이터는 이미 모든 사람이 자유롭게 사용할 수 있으며, 데이터의 원래 소유권은 <a href='https://www.booking.com/hotel/cy/la-veranda.en-gb.html' target='blank'>Booking.com</a>에 있다."
   ]
  },
  {
   "cell_type": "markdown",
   "id": "a45124ac",
   "metadata": {},
   "source": [
    "<b>Data Context</b>\n",
    "\n",
    "해당 데이터는 Larnaca-Cyprus에 있는 호텔의 리뷰 15,000를 포함한다. 이 호텔은 데이터가 스크랩되기 정확히 1년 전에 설립됐으며, 데이터에 있는 리뷰는 처음 설립되고 1년 동안 호텔에 머물렀던 투숙객의 경험에 대한 귀중한 통찰력을 제공한다."
   ]
  },
  {
   "cell_type": "markdown",
   "id": "5773712d",
   "metadata": {},
   "source": [
    "<b>Data Content</b>\n",
    "\n",
    "데이터셋에 있는 칼럼:\n",
    "<ol>\n",
    "    <li><b>Title</b>: 작성한 리뷰의 간략한 요약</li>\n",
    "    <li><b>Positive Review</b>: 호텔 숙박에 관한 긍정적인 설명</li>\n",
    "    <li><b>Negative Review</b>: 호텔 숙박에 관한 부정적인 설명</li>\n",
    "    <li><b>Score</b>: 평가 점수(10점 만점)</li>\n",
    "    <li><b>Guest Name</b>: 리뷰를 작성한 게스트의 이름</li>\n",
    "    <li><b>Guest Country</b>: 리뷰를 작성한 게스트의 출신 국가</li>\n",
    "    <li><b>Room Type</b>: 방문한 방의 유형</li>\n",
    "    <li><b>Number of Nights</b>: 게스트가 숙박한 일수</li>\n",
    "    <li><b>Visit Date</b>: 방문 날짜</li>\n",
    "    <li><b>Group Type</b>: 방문 단위(커플, 가족 등)</li>\n",
    "    <li><b>Property Response</b>: 호텔이 남긴 리뷰에 대한 답글</li>\n",
    "</ol>"
   ]
  },
  {
   "cell_type": "markdown",
   "id": "5ba92d63",
   "metadata": {},
   "source": [
    "게스트의 이름은 익명일 수 있다."
   ]
  },
  {
   "cell_type": "markdown",
   "id": "9bd007ae",
   "metadata": {},
   "source": [
    "# Settings"
   ]
  },
  {
   "cell_type": "code",
   "execution_count": 2,
   "id": "f597648e",
   "metadata": {
    "ExecuteTime": {
     "end_time": "2023-02-15T11:22:51.661159Z",
     "start_time": "2023-02-15T11:22:50.257759Z"
    }
   },
   "outputs": [],
   "source": [
    "# 파이썬 ≥ 3.5 필수\n",
    "import sys\n",
    "assert sys.version_info >= (3, 5)\n",
    "\n",
    "# 사이킷런 ≥ 0.20 필수\n",
    "import sklearn\n",
    "assert sklearn.__version__ >= \"0.20\"\n",
    "\n",
    "# 공통 모듈 임포트\n",
    "import os\n",
    "import numpy as np\n",
    "import pandas as pd\n",
    "\n",
    "# 노트북 실행 결과를 같게 하기 위해\n",
    "np.random.seed(42)\n",
    "\n",
    "# 깔끔한 그래프 출력을 위해\n",
    "%matplotlib inline\n",
    "import matplotlib as mpl\n",
    "import matplotlib.pyplot as plt\n",
    "mpl.rc('axes', labelsize=14)\n",
    "mpl.rc('xtick', labelsize=12)\n",
    "mpl.rc('ytick', labelsize=12)\n",
    "\n",
    "# 그림을 저장할 위치\n",
    "PROJECT_ROOT_DIR = \"..\"\n",
    "CHAPTER_ID = \"Hotel Reviews Booking\"\n",
    "IMAGES_PATH = os.path.join(PROJECT_ROOT_DIR, \"images\", CHAPTER_ID)\n",
    "os.makedirs(IMAGES_PATH, exist_ok=True)\n",
    "\n",
    "def save_fig(fig_id, tight_layout=True, fig_extension=\"png\", resolution=300):\n",
    "    path = os.path.join(IMAGES_PATH, fig_id + \".\" + fig_extension)\n",
    "    if tight_layout:\n",
    "        plt.tight_layout()\n",
    "    print('그림 저장:', fig_id)\n",
    "    plt.savefig(path, format=fig_extension, dpi=resolution)"
   ]
  },
  {
   "cell_type": "markdown",
   "id": "20fd9021",
   "metadata": {},
   "source": [
    "# Load Data"
   ]
  },
  {
   "cell_type": "markdown",
   "id": "403a08b3",
   "metadata": {},
   "source": [
    "데이터를 <code>pd.read_csv()</code>로 로드한 후, <code>head()</code>로 첫 5행을 확인한다."
   ]
  },
  {
   "cell_type": "code",
   "execution_count": 69,
   "id": "94b054de",
   "metadata": {
    "ExecuteTime": {
     "end_time": "2023-02-15T11:52:30.888689Z",
     "start_time": "2023-02-15T11:52:30.854856Z"
    }
   },
   "outputs": [
    {
     "data": {
      "text/html": [
       "<div>\n",
       "<style scoped>\n",
       "    .dataframe tbody tr th:only-of-type {\n",
       "        vertical-align: middle;\n",
       "    }\n",
       "\n",
       "    .dataframe tbody tr th {\n",
       "        vertical-align: top;\n",
       "    }\n",
       "\n",
       "    .dataframe thead th {\n",
       "        text-align: right;\n",
       "    }\n",
       "</style>\n",
       "<table border=\"1\" class=\"dataframe\">\n",
       "  <thead>\n",
       "    <tr style=\"text-align: right;\">\n",
       "      <th></th>\n",
       "      <th>Title</th>\n",
       "      <th>PositiveReview</th>\n",
       "      <th>NegativeReview</th>\n",
       "      <th>Score</th>\n",
       "      <th>GuestName</th>\n",
       "      <th>GuestCountry</th>\n",
       "      <th>RoomType</th>\n",
       "      <th>NumberOfNights</th>\n",
       "      <th>VisitDate</th>\n",
       "      <th>GroupType</th>\n",
       "      <th>PropertyResponse</th>\n",
       "    </tr>\n",
       "  </thead>\n",
       "  <tbody>\n",
       "    <tr>\n",
       "      <th>0</th>\n",
       "      <td>Wonderful place to stay.</td>\n",
       "      <td>New, comfortable apartments, close to the airp...</td>\n",
       "      <td>Nothing at all.</td>\n",
       "      <td>10.0</td>\n",
       "      <td>Olga</td>\n",
       "      <td>Norway</td>\n",
       "      <td>Budget Twin Room</td>\n",
       "      <td>1 night</td>\n",
       "      <td>June 2022</td>\n",
       "      <td>Solo traveler</td>\n",
       "      <td>NaN</td>\n",
       "    </tr>\n",
       "    <tr>\n",
       "      <th>1</th>\n",
       "      <td>It was superb</td>\n",
       "      <td>We had a really pleasant stay! The staff was v...</td>\n",
       "      <td>NaN</td>\n",
       "      <td>10.0</td>\n",
       "      <td>Iwona</td>\n",
       "      <td>Poland</td>\n",
       "      <td>Double Room</td>\n",
       "      <td>3 nights</td>\n",
       "      <td>December 2022</td>\n",
       "      <td>Family</td>\n",
       "      <td>NaN</td>\n",
       "    </tr>\n",
       "    <tr>\n",
       "      <th>2</th>\n",
       "      <td>Very Good</td>\n",
       "      <td>the location is great and near the airport. bu...</td>\n",
       "      <td>NaN</td>\n",
       "      <td>8.0</td>\n",
       "      <td>Ruijia</td>\n",
       "      <td>Sweden</td>\n",
       "      <td>Double Room</td>\n",
       "      <td>1 night</td>\n",
       "      <td>December 2022</td>\n",
       "      <td>Solo traveler</td>\n",
       "      <td>NaN</td>\n",
       "    </tr>\n",
       "    <tr>\n",
       "      <th>3</th>\n",
       "      <td>Wonderful</td>\n",
       "      <td>Great stuff\\nGreat Quality/price\\nClean</td>\n",
       "      <td>NaN</td>\n",
       "      <td>9.0</td>\n",
       "      <td>Theprincem</td>\n",
       "      <td>United Kingdom</td>\n",
       "      <td>Double Room with Balcony</td>\n",
       "      <td>2 nights</td>\n",
       "      <td>September 2022</td>\n",
       "      <td>Solo traveler</td>\n",
       "      <td>NaN</td>\n",
       "    </tr>\n",
       "    <tr>\n",
       "      <th>4</th>\n",
       "      <td>Fantastic value for a new, modern and spotless...</td>\n",
       "      <td>Clean and modern with very comfortable beds, i...</td>\n",
       "      <td>NaN</td>\n",
       "      <td>10.0</td>\n",
       "      <td>M</td>\n",
       "      <td>Switzerland</td>\n",
       "      <td>Family Suite with Balcony</td>\n",
       "      <td>1 night</td>\n",
       "      <td>October 2022</td>\n",
       "      <td>Family</td>\n",
       "      <td>NaN</td>\n",
       "    </tr>\n",
       "  </tbody>\n",
       "</table>\n",
       "</div>"
      ],
      "text/plain": [
       "                                               Title  \\\n",
       "0                           Wonderful place to stay.   \n",
       "1                                      It was superb   \n",
       "2                                          Very Good   \n",
       "3                                          Wonderful   \n",
       "4  Fantastic value for a new, modern and spotless...   \n",
       "\n",
       "                                      PositiveReview   NegativeReview  Score  \\\n",
       "0  New, comfortable apartments, close to the airp...  Nothing at all.   10.0   \n",
       "1  We had a really pleasant stay! The staff was v...              NaN   10.0   \n",
       "2  the location is great and near the airport. bu...              NaN    8.0   \n",
       "3            Great stuff\\nGreat Quality/price\\nClean              NaN    9.0   \n",
       "4  Clean and modern with very comfortable beds, i...              NaN   10.0   \n",
       "\n",
       "    GuestName    GuestCountry                   RoomType NumberOfNights  \\\n",
       "0        Olga          Norway           Budget Twin Room        1 night   \n",
       "1       Iwona          Poland                Double Room       3 nights   \n",
       "2      Ruijia          Sweden                Double Room        1 night   \n",
       "3  Theprincem  United Kingdom   Double Room with Balcony       2 nights   \n",
       "4           M     Switzerland  Family Suite with Balcony        1 night   \n",
       "\n",
       "        VisitDate      GroupType PropertyResponse  \n",
       "0       June 2022  Solo traveler              NaN  \n",
       "1   December 2022         Family              NaN  \n",
       "2   December 2022  Solo traveler              NaN  \n",
       "3  September 2022  Solo traveler              NaN  \n",
       "4    October 2022         Family              NaN  "
      ]
     },
     "execution_count": 69,
     "metadata": {},
     "output_type": "execute_result"
    }
   ],
   "source": [
    "# Load data\n",
    "data = pd.read_csv('./La_Veranda_Reviews-2023-01-16.csv')\n",
    "\n",
    "data.head()"
   ]
  },
  {
   "cell_type": "markdown",
   "id": "600fe117",
   "metadata": {},
   "source": [
    "<code>info()</code> 메서드로 데이터의 요약통계량을 확인한다."
   ]
  },
  {
   "cell_type": "code",
   "execution_count": 59,
   "id": "9eb848e4",
   "metadata": {
    "ExecuteTime": {
     "end_time": "2023-02-15T11:51:34.276086Z",
     "start_time": "2023-02-15T11:51:34.254024Z"
    }
   },
   "outputs": [
    {
     "name": "stdout",
     "output_type": "stream",
     "text": [
      "<class 'pandas.core.frame.DataFrame'>\n",
      "RangeIndex: 1523 entries, 0 to 1522\n",
      "Data columns (total 11 columns):\n",
      " #   Column            Non-Null Count  Dtype  \n",
      "---  ------            --------------  -----  \n",
      " 0   Title             1521 non-null   object \n",
      " 1   PositiveReview    775 non-null    object \n",
      " 2   NegativeReview    435 non-null    object \n",
      " 3   Score             1523 non-null   float64\n",
      " 4   GuestName         1523 non-null   object \n",
      " 5   GuestCountry      1523 non-null   object \n",
      " 6   RoomType          1460 non-null   object \n",
      " 7   NumberOfNights    1523 non-null   object \n",
      " 8   VisitDate         1523 non-null   object \n",
      " 9   GroupType         1523 non-null   object \n",
      " 10  PropertyResponse  123 non-null    object \n",
      "dtypes: float64(1), object(10)\n",
      "memory usage: 131.0+ KB\n"
     ]
    }
   ],
   "source": [
    "data.info()"
   ]
  },
  {
   "cell_type": "markdown",
   "id": "71daccc9",
   "metadata": {},
   "source": [
    "<ol>\n",
    "    <li>총 1,523개의 row와 11개의 column이 있다.</li>\n",
    "    <li>데이터 타입이 실수형인 Score를 제외하곤 모두 object형이다.</li>\n",
    "    <li>결측치가 존재한다.</li>\n",
    "</ol>"
   ]
  },
  {
   "cell_type": "markdown",
   "id": "c02dc8b5",
   "metadata": {},
   "source": [
    "각 칼럼의 결측치를 확인해보겠다."
   ]
  },
  {
   "cell_type": "code",
   "execution_count": 60,
   "id": "3d9960a1",
   "metadata": {
    "ExecuteTime": {
     "end_time": "2023-02-15T11:51:35.844029Z",
     "start_time": "2023-02-15T11:51:35.827541Z"
    }
   },
   "outputs": [
    {
     "data": {
      "text/plain": [
       "Title                  2\n",
       "PositiveReview       748\n",
       "NegativeReview      1088\n",
       "Score                  0\n",
       "GuestName              0\n",
       "GuestCountry           0\n",
       "RoomType              63\n",
       "NumberOfNights         0\n",
       "VisitDate              0\n",
       "GroupType              0\n",
       "PropertyResponse    1400\n",
       "dtype: int64"
      ]
     },
     "execution_count": 60,
     "metadata": {},
     "output_type": "execute_result"
    }
   ],
   "source": [
    "data.isna().sum()"
   ]
  },
  {
   "cell_type": "markdown",
   "id": "02e3e8d0",
   "metadata": {},
   "source": [
    "PropertyResponse 칼럼은 약 91.2%가 결측치이며, NegativeReview 칼럼은 약 71.4%가 결측치다. 또한, PositiveReview 칼럼은 약 49.1%의 결측치가 존재한다."
   ]
  },
  {
   "cell_type": "markdown",
   "id": "1554c282",
   "metadata": {},
   "source": [
    "해당 데이터의 기술통계량을 확인하겠다. <code>describe(include='all')</code>를 이용하면 데이터 타입이 object형인 데이터까지도 포함해서 제공한다."
   ]
  },
  {
   "cell_type": "code",
   "execution_count": 61,
   "id": "a2bf33ff",
   "metadata": {
    "ExecuteTime": {
     "end_time": "2023-02-15T11:51:37.323672Z",
     "start_time": "2023-02-15T11:51:37.274992Z"
    }
   },
   "outputs": [
    {
     "data": {
      "text/html": [
       "<div>\n",
       "<style scoped>\n",
       "    .dataframe tbody tr th:only-of-type {\n",
       "        vertical-align: middle;\n",
       "    }\n",
       "\n",
       "    .dataframe tbody tr th {\n",
       "        vertical-align: top;\n",
       "    }\n",
       "\n",
       "    .dataframe thead th {\n",
       "        text-align: right;\n",
       "    }\n",
       "</style>\n",
       "<table border=\"1\" class=\"dataframe\">\n",
       "  <thead>\n",
       "    <tr style=\"text-align: right;\">\n",
       "      <th></th>\n",
       "      <th>Title</th>\n",
       "      <th>PositiveReview</th>\n",
       "      <th>NegativeReview</th>\n",
       "      <th>Score</th>\n",
       "      <th>GuestName</th>\n",
       "      <th>GuestCountry</th>\n",
       "      <th>RoomType</th>\n",
       "      <th>NumberOfNights</th>\n",
       "      <th>VisitDate</th>\n",
       "      <th>GroupType</th>\n",
       "      <th>PropertyResponse</th>\n",
       "    </tr>\n",
       "  </thead>\n",
       "  <tbody>\n",
       "    <tr>\n",
       "      <th>count</th>\n",
       "      <td>1521</td>\n",
       "      <td>775</td>\n",
       "      <td>435</td>\n",
       "      <td>1523.000000</td>\n",
       "      <td>1523</td>\n",
       "      <td>1523</td>\n",
       "      <td>1460</td>\n",
       "      <td>1523</td>\n",
       "      <td>1523</td>\n",
       "      <td>1523</td>\n",
       "      <td>123</td>\n",
       "    </tr>\n",
       "    <tr>\n",
       "      <th>unique</th>\n",
       "      <td>455</td>\n",
       "      <td>768</td>\n",
       "      <td>378</td>\n",
       "      <td>NaN</td>\n",
       "      <td>1055</td>\n",
       "      <td>68</td>\n",
       "      <td>7</td>\n",
       "      <td>15</td>\n",
       "      <td>20</td>\n",
       "      <td>4</td>\n",
       "      <td>117</td>\n",
       "    </tr>\n",
       "    <tr>\n",
       "      <th>top</th>\n",
       "      <td>Exceptional</td>\n",
       "      <td>friendly staff</td>\n",
       "      <td>Nothing</td>\n",
       "      <td>NaN</td>\n",
       "      <td>Anonymous</td>\n",
       "      <td>United Kingdom</td>\n",
       "      <td>Double Room with Balcony</td>\n",
       "      <td>1 night</td>\n",
       "      <td>October 2022</td>\n",
       "      <td>Couple</td>\n",
       "      <td>thank you very much for your kind review and g...</td>\n",
       "    </tr>\n",
       "    <tr>\n",
       "      <th>freq</th>\n",
       "      <td>403</td>\n",
       "      <td>3</td>\n",
       "      <td>30</td>\n",
       "      <td>NaN</td>\n",
       "      <td>63</td>\n",
       "      <td>239</td>\n",
       "      <td>702</td>\n",
       "      <td>1151</td>\n",
       "      <td>165</td>\n",
       "      <td>536</td>\n",
       "      <td>4</td>\n",
       "    </tr>\n",
       "    <tr>\n",
       "      <th>mean</th>\n",
       "      <td>NaN</td>\n",
       "      <td>NaN</td>\n",
       "      <td>NaN</td>\n",
       "      <td>8.973802</td>\n",
       "      <td>NaN</td>\n",
       "      <td>NaN</td>\n",
       "      <td>NaN</td>\n",
       "      <td>NaN</td>\n",
       "      <td>NaN</td>\n",
       "      <td>NaN</td>\n",
       "      <td>NaN</td>\n",
       "    </tr>\n",
       "    <tr>\n",
       "      <th>std</th>\n",
       "      <td>NaN</td>\n",
       "      <td>NaN</td>\n",
       "      <td>NaN</td>\n",
       "      <td>1.300178</td>\n",
       "      <td>NaN</td>\n",
       "      <td>NaN</td>\n",
       "      <td>NaN</td>\n",
       "      <td>NaN</td>\n",
       "      <td>NaN</td>\n",
       "      <td>NaN</td>\n",
       "      <td>NaN</td>\n",
       "    </tr>\n",
       "    <tr>\n",
       "      <th>min</th>\n",
       "      <td>NaN</td>\n",
       "      <td>NaN</td>\n",
       "      <td>NaN</td>\n",
       "      <td>1.000000</td>\n",
       "      <td>NaN</td>\n",
       "      <td>NaN</td>\n",
       "      <td>NaN</td>\n",
       "      <td>NaN</td>\n",
       "      <td>NaN</td>\n",
       "      <td>NaN</td>\n",
       "      <td>NaN</td>\n",
       "    </tr>\n",
       "    <tr>\n",
       "      <th>25%</th>\n",
       "      <td>NaN</td>\n",
       "      <td>NaN</td>\n",
       "      <td>NaN</td>\n",
       "      <td>8.000000</td>\n",
       "      <td>NaN</td>\n",
       "      <td>NaN</td>\n",
       "      <td>NaN</td>\n",
       "      <td>NaN</td>\n",
       "      <td>NaN</td>\n",
       "      <td>NaN</td>\n",
       "      <td>NaN</td>\n",
       "    </tr>\n",
       "    <tr>\n",
       "      <th>50%</th>\n",
       "      <td>NaN</td>\n",
       "      <td>NaN</td>\n",
       "      <td>NaN</td>\n",
       "      <td>9.000000</td>\n",
       "      <td>NaN</td>\n",
       "      <td>NaN</td>\n",
       "      <td>NaN</td>\n",
       "      <td>NaN</td>\n",
       "      <td>NaN</td>\n",
       "      <td>NaN</td>\n",
       "      <td>NaN</td>\n",
       "    </tr>\n",
       "    <tr>\n",
       "      <th>75%</th>\n",
       "      <td>NaN</td>\n",
       "      <td>NaN</td>\n",
       "      <td>NaN</td>\n",
       "      <td>10.000000</td>\n",
       "      <td>NaN</td>\n",
       "      <td>NaN</td>\n",
       "      <td>NaN</td>\n",
       "      <td>NaN</td>\n",
       "      <td>NaN</td>\n",
       "      <td>NaN</td>\n",
       "      <td>NaN</td>\n",
       "    </tr>\n",
       "    <tr>\n",
       "      <th>max</th>\n",
       "      <td>NaN</td>\n",
       "      <td>NaN</td>\n",
       "      <td>NaN</td>\n",
       "      <td>10.000000</td>\n",
       "      <td>NaN</td>\n",
       "      <td>NaN</td>\n",
       "      <td>NaN</td>\n",
       "      <td>NaN</td>\n",
       "      <td>NaN</td>\n",
       "      <td>NaN</td>\n",
       "      <td>NaN</td>\n",
       "    </tr>\n",
       "  </tbody>\n",
       "</table>\n",
       "</div>"
      ],
      "text/plain": [
       "              Title  PositiveReview NegativeReview        Score  GuestName  \\\n",
       "count          1521             775            435  1523.000000       1523   \n",
       "unique          455             768            378          NaN       1055   \n",
       "top     Exceptional  friendly staff        Nothing          NaN  Anonymous   \n",
       "freq            403               3             30          NaN         63   \n",
       "mean            NaN             NaN            NaN     8.973802        NaN   \n",
       "std             NaN             NaN            NaN     1.300178        NaN   \n",
       "min             NaN             NaN            NaN     1.000000        NaN   \n",
       "25%             NaN             NaN            NaN     8.000000        NaN   \n",
       "50%             NaN             NaN            NaN     9.000000        NaN   \n",
       "75%             NaN             NaN            NaN    10.000000        NaN   \n",
       "max             NaN             NaN            NaN    10.000000        NaN   \n",
       "\n",
       "          GuestCountry                  RoomType NumberOfNights     VisitDate  \\\n",
       "count             1523                      1460           1523          1523   \n",
       "unique              68                         7             15            20   \n",
       "top     United Kingdom  Double Room with Balcony        1 night  October 2022   \n",
       "freq               239                       702           1151           165   \n",
       "mean               NaN                       NaN            NaN           NaN   \n",
       "std                NaN                       NaN            NaN           NaN   \n",
       "min                NaN                       NaN            NaN           NaN   \n",
       "25%                NaN                       NaN            NaN           NaN   \n",
       "50%                NaN                       NaN            NaN           NaN   \n",
       "75%                NaN                       NaN            NaN           NaN   \n",
       "max                NaN                       NaN            NaN           NaN   \n",
       "\n",
       "       GroupType                                   PropertyResponse  \n",
       "count       1523                                                123  \n",
       "unique         4                                                117  \n",
       "top       Couple  thank you very much for your kind review and g...  \n",
       "freq         536                                                  4  \n",
       "mean         NaN                                                NaN  \n",
       "std          NaN                                                NaN  \n",
       "min          NaN                                                NaN  \n",
       "25%          NaN                                                NaN  \n",
       "50%          NaN                                                NaN  \n",
       "75%          NaN                                                NaN  \n",
       "max          NaN                                                NaN  "
      ]
     },
     "execution_count": 61,
     "metadata": {},
     "output_type": "execute_result"
    }
   ],
   "source": [
    "data.describe(include='all')"
   ]
  },
  {
   "cell_type": "markdown",
   "id": "21bdcd1e",
   "metadata": {},
   "source": [
    "<ol>\n",
    "    <li>Score 칼럼을 보면 평균과 중간값이 9에 가깝다. 이에 오른쪽으로 치우친<sup>skew</sup>(왼쪽으로 꼬리가 긴) 형태인 것을 짐작할 수 있다.</li>\n",
    "    <li>GuestName 칼럼에서는 익명 제공자가 63명으로 가장 많으며, 나머지는 실명을 남겼을 것으로 추측된다.</li>\n",
    "    <li>GuestCountry 칼럼에서는 239명의 투숙객의 출신 국가가 United Kingdom이다.</li>\n",
    "    <li>RoomType 칼럼을 보면 투숙객 중 절반이 Double Roomm with Balcony 를 이용한 것을 알 수 있다.</li>\n",
    "    <li>NumberOfNights 칼럼을 보면 약 75.6%의 사람이 하루 숙박을 하였다는 것을 알 수 있다.</li>\n",
    "    <li>8월에 가장 많이 방문을 했다.</li>\n",
    "    <li>투숙객 중 약 35.2%가 커플이다.</li>\n",
    "</ol>"
   ]
  },
  {
   "cell_type": "markdown",
   "id": "dc4972c3",
   "metadata": {},
   "source": [
    "위 1번에서 짐작한 내용을 확인해보자."
   ]
  },
  {
   "cell_type": "code",
   "execution_count": 62,
   "id": "e1dd6f2e",
   "metadata": {
    "ExecuteTime": {
     "end_time": "2023-02-15T11:51:38.595761Z",
     "start_time": "2023-02-15T11:51:38.390910Z"
    }
   },
   "outputs": [
    {
     "data": {
      "image/png": "[encoded data removed]",
      "text/plain": [
       "<Figure size 432x288 with 1 Axes>"
      ]
     },
     "metadata": {
      "needs_background": "light"
     },
     "output_type": "display_data"
    }
   ],
   "source": [
    "data['Score'].hist();"
   ]
  },
  {
   "cell_type": "markdown",
   "id": "8d88be2c",
   "metadata": {},
   "source": [
    "역시 짐작한 대로 왼쪽으로 꼬리가 긴 형태를 보인다."
   ]
  },
  {
   "cell_type": "markdown",
   "id": "d8a867b3",
   "metadata": {},
   "source": [
    "투숙객의 출신 국가를 살펴보면 영국이 239개, 호텔이 있는 국가인 Cyprus가 183개 등 다양하게 존재한다."
   ]
  },
  {
   "cell_type": "code",
   "execution_count": 63,
   "id": "8fd0e3da",
   "metadata": {
    "ExecuteTime": {
     "end_time": "2023-02-15T11:51:40.114014Z",
     "start_time": "2023-02-15T11:51:39.904495Z"
    }
   },
   "outputs": [
    {
     "data": {
      "image/png": "[encoded data removed]",
      "text/plain": [
       "<Figure size 432x288 with 1 Axes>"
      ]
     },
     "metadata": {
      "needs_background": "light"
     },
     "output_type": "display_data"
    }
   ],
   "source": [
    "data['GuestCountry'].value_counts().head(10)[::-1].plot(kind='barh');"
   ]
  },
  {
   "cell_type": "markdown",
   "id": "1a08b123",
   "metadata": {},
   "source": [
    "RoomType은 'Double Room with Balcony', 'Double Room', 'Two-Bedroom Suite', 'Standard Triple Room', 'Budget Twin Room', 'Family Suite with Balcony', 'Suite with Balcony' 이렇게 총 7개로 구성된다."
   ]
  },
  {
   "cell_type": "code",
   "execution_count": 64,
   "id": "94062d95",
   "metadata": {
    "ExecuteTime": {
     "end_time": "2023-02-15T11:51:41.126201Z",
     "start_time": "2023-02-15T11:51:40.925750Z"
    }
   },
   "outputs": [
    {
     "data": {
      "image/png": "[encoded data removed]",
      "text/plain": [
       "<Figure size 432x288 with 1 Axes>"
      ]
     },
     "metadata": {
      "needs_background": "light"
     },
     "output_type": "display_data"
    }
   ],
   "source": [
    "data['RoomType'].value_counts()[::-1].plot(kind='barh');"
   ]
  },
  {
   "cell_type": "markdown",
   "id": "28d62c03",
   "metadata": {},
   "source": [
    "다음 NumberOfNights 칼럼을 보면 숙박한 일수를 나타냈다."
   ]
  },
  {
   "cell_type": "code",
   "execution_count": 65,
   "id": "ca3947fe",
   "metadata": {
    "ExecuteTime": {
     "end_time": "2023-02-15T11:51:42.788691Z",
     "start_time": "2023-02-15T11:51:42.767824Z"
    }
   },
   "outputs": [
    {
     "data": {
      "text/plain": [
       "1 night      1151\n",
       "2 nights      142\n",
       "3 nights       92\n",
       "4 nights       57\n",
       "7 nights       35\n",
       "5 nights       15\n",
       "9 nights       10\n",
       "6 nights        5\n",
       "14 nights       4\n",
       "11 nights       3\n",
       "8 nights        3\n",
       "12 nights       2\n",
       "10 nights       2\n",
       "16 nights       1\n",
       "15 nights       1\n",
       "Name: NumberOfNights, dtype: int64"
      ]
     },
     "execution_count": 65,
     "metadata": {},
     "output_type": "execute_result"
    }
   ],
   "source": [
    "data['NumberOfNights'].value_counts()"
   ]
  },
  {
   "cell_type": "markdown",
   "id": "f6bf696d",
   "metadata": {},
   "source": [
    "이 칼럼의 데이터는 뒤 'nights' 문자를 빼고 정수형 데이터로 바꾸는 게 분석에 좀 더 유용할 것 같으므로 전처리를 해준다."
   ]
  },
  {
   "cell_type": "code",
   "execution_count": 70,
   "id": "b908117a",
   "metadata": {
    "ExecuteTime": {
     "end_time": "2023-02-15T11:52:33.395572Z",
     "start_time": "2023-02-15T11:52:33.370799Z"
    }
   },
   "outputs": [
    {
     "data": {
      "text/plain": [
       "1     1151\n",
       "2      142\n",
       "3       92\n",
       "4       57\n",
       "7       35\n",
       "5       15\n",
       "9       10\n",
       "6        5\n",
       "14       4\n",
       "11       3\n",
       "8        3\n",
       "12       2\n",
       "10       2\n",
       "16       1\n",
       "15       1\n",
       "Name: NumberOfNights, dtype: int64"
      ]
     },
     "execution_count": 70,
     "metadata": {},
     "output_type": "execute_result"
    }
   ],
   "source": [
    "# 각 데이터에서 앞 2자리만 추출하여 int로 타입변환(최대 자릿수가 십의 자리이므로)\n",
    "data['NumberOfNights'] = data['NumberOfNights'].str[:2].astype(int)\n",
    "\n",
    "data['NumberOfNights'].value_counts()"
   ]
  },
  {
   "cell_type": "markdown",
   "id": "471a0eb5",
   "metadata": {},
   "source": [
    "변환한 칼럼을 그래프로 나타내보면 1값이 극심하게 많은 것을 확인할 수 있다."
   ]
  },
  {
   "cell_type": "code",
   "execution_count": 75,
   "id": "ebeeb802",
   "metadata": {
    "ExecuteTime": {
     "end_time": "2023-02-15T11:54:24.331229Z",
     "start_time": "2023-02-15T11:54:24.127035Z"
    }
   },
   "outputs": [
    {
     "data": {
      "image/png": "[encoded data removed]",
      "text/plain": [
       "<Figure size 432x288 with 1 Axes>"
      ]
     },
     "metadata": {
      "needs_background": "light"
     },
     "output_type": "display_data"
    }
   ],
   "source": [
    "data['NumberOfNights'].hist();"
   ]
  },
  {
   "cell_type": "markdown",
   "id": "fdd1d6c2",
   "metadata": {},
   "source": [
    "VisitDate 칼럼의 데이터는 다음과 같이 월에 해당하는 영문자와 2021 또는 2022가 합쳐진 문자열이다."
   ]
  },
  {
   "cell_type": "code",
   "execution_count": 89,
   "id": "7c45a0a4",
   "metadata": {
    "ExecuteTime": {
     "end_time": "2023-02-15T12:01:00.459937Z",
     "start_time": "2023-02-15T12:01:00.447203Z"
    }
   },
   "outputs": [
    {
     "data": {
      "text/plain": [
       "0            June 2022\n",
       "1        December 2022\n",
       "2        December 2022\n",
       "3       September 2022\n",
       "4         October 2022\n",
       "             ...      \n",
       "1518    September 2021\n",
       "1519    September 2021\n",
       "1520       August 2021\n",
       "1521    September 2021\n",
       "1522      October 2022\n",
       "Name: VisitDate, Length: 1523, dtype: object"
      ]
     },
     "execution_count": 89,
     "metadata": {},
     "output_type": "execute_result"
    }
   ],
   "source": [
    "data['VisitDate']"
   ]
  },
  {
   "cell_type": "markdown",
   "id": "8da61144",
   "metadata": {},
   "source": [
    "2021년 데이터는 494개, 2022년 데이터는 1029개가 있다."
   ]
  },
  {
   "cell_type": "code",
   "execution_count": 92,
   "id": "e942fd4a",
   "metadata": {
    "ExecuteTime": {
     "end_time": "2023-02-15T12:02:13.504549Z",
     "start_time": "2023-02-15T12:02:13.483320Z"
    }
   },
   "outputs": [
    {
     "data": {
      "text/plain": [
       "2022    1029\n",
       "2021     494\n",
       "Name: VisitDate, dtype: int64"
      ]
     },
     "execution_count": 92,
     "metadata": {},
     "output_type": "execute_result"
    }
   ],
   "source": [
    "pd.to_datetime(data['VisitDate']).dt.year.value_counts()"
   ]
  },
  {
   "cell_type": "markdown",
   "id": "3f158af9",
   "metadata": {},
   "source": [
    "해당 데이터는 연도와 월을 따로 분리해 저장하는 것이 좋을 것 같으므로 전처리를 진행해준다."
   ]
  },
  {
   "cell_type": "code",
   "execution_count": 95,
   "id": "74121366",
   "metadata": {
    "ExecuteTime": {
     "end_time": "2023-02-15T12:06:15.680498Z",
     "start_time": "2023-02-15T12:06:15.636037Z"
    }
   },
   "outputs": [],
   "source": [
    "# VisitDate 칼럼에서 연도와 월을 분리하여 새 칼럼에 추가\n",
    "data['VisitYear'] = pd.to_datetime(data['VisitDate']).dt.year\n",
    "data['VisitMonth'] = pd.to_datetime(data['VisitDate']).dt.month\n",
    "\n",
    "# VisitDate 칼럼 삭제\n",
    "data.drop(['VisitDate'], axis=1, inplace=True)"
   ]
  },
  {
   "cell_type": "markdown",
   "id": "a1fb748d",
   "metadata": {},
   "source": [
    "다시 data의 요약통계량을 확인해보면 성공적으로 VisitDate 칼럼이 삭제되고 VisitYear와 VisitMonth 칼럼이 삭제된 것을 확인할 수 있다."
   ]
  },
  {
   "cell_type": "code",
   "execution_count": 97,
   "id": "44611d8d",
   "metadata": {
    "ExecuteTime": {
     "end_time": "2023-02-15T12:06:34.230230Z",
     "start_time": "2023-02-15T12:06:34.209362Z"
    }
   },
   "outputs": [
    {
     "name": "stdout",
     "output_type": "stream",
     "text": [
      "<class 'pandas.core.frame.DataFrame'>\n",
      "RangeIndex: 1523 entries, 0 to 1522\n",
      "Data columns (total 12 columns):\n",
      " #   Column            Non-Null Count  Dtype  \n",
      "---  ------            --------------  -----  \n",
      " 0   Title             1521 non-null   object \n",
      " 1   PositiveReview    775 non-null    object \n",
      " 2   NegativeReview    435 non-null    object \n",
      " 3   Score             1523 non-null   float64\n",
      " 4   GuestName         1523 non-null   object \n",
      " 5   GuestCountry      1523 non-null   object \n",
      " 6   RoomType          1460 non-null   object \n",
      " 7   NumberOfNights    1523 non-null   int32  \n",
      " 8   GroupType         1523 non-null   object \n",
      " 9   PropertyResponse  123 non-null    object \n",
      " 10  VisitYear         1523 non-null   int64  \n",
      " 11  VisitMonth        1523 non-null   int64  \n",
      "dtypes: float64(1), int32(1), int64(2), object(8)\n",
      "memory usage: 137.0+ KB\n"
     ]
    }
   ],
   "source": [
    "data.info()"
   ]
  },
  {
   "cell_type": "markdown",
   "id": "f52e3774",
   "metadata": {},
   "source": [
    "VisitDate 칼럼 전처리 후 VisitMonth로 가장 많이 방문한 달을 확인해보면, 여름과 가을에 투숙객이 많았으며 겨울에는 적었다는 점을 알 수 있다."
   ]
  },
  {
   "cell_type": "code",
   "execution_count": 110,
   "id": "b568d0c1",
   "metadata": {
    "ExecuteTime": {
     "end_time": "2023-02-15T12:09:53.891267Z",
     "start_time": "2023-02-15T12:09:53.727795Z"
    }
   },
   "outputs": [
    {
     "data": {
      "image/png": "[encoded data removed]",
      "text/plain": [
       "<Figure size 432x288 with 1 Axes>"
      ]
     },
     "metadata": {
      "needs_background": "light"
     },
     "output_type": "display_data"
    }
   ],
   "source": [
    "data['VisitMonth'].value_counts().sort_index().plot();"
   ]
  },
  {
   "cell_type": "markdown",
   "id": "f2ea2537",
   "metadata": {},
   "source": [
    "GroupType 칼럼의 그래프는 다음과 같으며, Couple 단위가 가장 많았다."
   ]
  },
  {
   "cell_type": "code",
   "execution_count": 114,
   "id": "964aed4b",
   "metadata": {
    "ExecuteTime": {
     "end_time": "2023-02-15T12:10:54.420497Z",
     "start_time": "2023-02-15T12:10:54.259858Z"
    }
   },
   "outputs": [
    {
     "data": {
      "image/png": "[encoded data removed]",
      "text/plain": [
       "<Figure size 432x288 with 1 Axes>"
      ]
     },
     "metadata": {
      "needs_background": "light"
     },
     "output_type": "display_data"
    }
   ],
   "source": [
    "data['GroupType'].value_counts()[::-1].plot(kind='barh');"
   ]
  },
  {
   "cell_type": "markdown",
   "id": "63be6cd3",
   "metadata": {},
   "source": [
    "# 심화 분석"
   ]
  },
  {
   "cell_type": "markdown",
   "id": "8521abee",
   "metadata": {},
   "source": [
    "Score 별로 갯수를 count하면 위 그래프에서 보았듯이, 대부분 8 ~ 10점에 몰려있다."
   ]
  },
  {
   "cell_type": "code",
   "execution_count": 141,
   "id": "1bfb42a6",
   "metadata": {
    "ExecuteTime": {
     "end_time": "2023-02-15T13:54:44.472191Z",
     "start_time": "2023-02-15T13:54:44.450698Z"
    }
   },
   "outputs": [
    {
     "data": {
      "text/html": [
       "<div>\n",
       "<style scoped>\n",
       "    .dataframe tbody tr th:only-of-type {\n",
       "        vertical-align: middle;\n",
       "    }\n",
       "\n",
       "    .dataframe tbody tr th {\n",
       "        vertical-align: top;\n",
       "    }\n",
       "\n",
       "    .dataframe thead th {\n",
       "        text-align: right;\n",
       "    }\n",
       "</style>\n",
       "<table border=\"1\" class=\"dataframe\">\n",
       "  <thead>\n",
       "    <tr style=\"text-align: right;\">\n",
       "      <th></th>\n",
       "      <th>Title</th>\n",
       "      <th>PositiveReview</th>\n",
       "      <th>NegativeReview</th>\n",
       "      <th>GuestName</th>\n",
       "      <th>GuestCountry</th>\n",
       "      <th>RoomType</th>\n",
       "      <th>NumberOfNights</th>\n",
       "      <th>GroupType</th>\n",
       "      <th>PropertyResponse</th>\n",
       "      <th>VisitYear</th>\n",
       "      <th>VisitMonth</th>\n",
       "    </tr>\n",
       "    <tr>\n",
       "      <th>Score</th>\n",
       "      <th></th>\n",
       "      <th></th>\n",
       "      <th></th>\n",
       "      <th></th>\n",
       "      <th></th>\n",
       "      <th></th>\n",
       "      <th></th>\n",
       "      <th></th>\n",
       "      <th></th>\n",
       "      <th></th>\n",
       "      <th></th>\n",
       "    </tr>\n",
       "  </thead>\n",
       "  <tbody>\n",
       "    <tr>\n",
       "      <th>1.0</th>\n",
       "      <td>5</td>\n",
       "      <td>2</td>\n",
       "      <td>2</td>\n",
       "      <td>5</td>\n",
       "      <td>5</td>\n",
       "      <td>4</td>\n",
       "      <td>5</td>\n",
       "      <td>5</td>\n",
       "      <td>2</td>\n",
       "      <td>5</td>\n",
       "      <td>5</td>\n",
       "    </tr>\n",
       "    <tr>\n",
       "      <th>2.0</th>\n",
       "      <td>2</td>\n",
       "      <td>0</td>\n",
       "      <td>0</td>\n",
       "      <td>2</td>\n",
       "      <td>2</td>\n",
       "      <td>2</td>\n",
       "      <td>2</td>\n",
       "      <td>2</td>\n",
       "      <td>0</td>\n",
       "      <td>2</td>\n",
       "      <td>2</td>\n",
       "    </tr>\n",
       "    <tr>\n",
       "      <th>3.0</th>\n",
       "      <td>4</td>\n",
       "      <td>4</td>\n",
       "      <td>4</td>\n",
       "      <td>4</td>\n",
       "      <td>4</td>\n",
       "      <td>4</td>\n",
       "      <td>4</td>\n",
       "      <td>4</td>\n",
       "      <td>0</td>\n",
       "      <td>4</td>\n",
       "      <td>4</td>\n",
       "    </tr>\n",
       "    <tr>\n",
       "      <th>4.0</th>\n",
       "      <td>6</td>\n",
       "      <td>3</td>\n",
       "      <td>3</td>\n",
       "      <td>6</td>\n",
       "      <td>6</td>\n",
       "      <td>5</td>\n",
       "      <td>6</td>\n",
       "      <td>6</td>\n",
       "      <td>1</td>\n",
       "      <td>6</td>\n",
       "      <td>6</td>\n",
       "    </tr>\n",
       "    <tr>\n",
       "      <th>5.0</th>\n",
       "      <td>13</td>\n",
       "      <td>5</td>\n",
       "      <td>6</td>\n",
       "      <td>13</td>\n",
       "      <td>13</td>\n",
       "      <td>13</td>\n",
       "      <td>13</td>\n",
       "      <td>13</td>\n",
       "      <td>3</td>\n",
       "      <td>13</td>\n",
       "      <td>13</td>\n",
       "    </tr>\n",
       "    <tr>\n",
       "      <th>6.0</th>\n",
       "      <td>32</td>\n",
       "      <td>16</td>\n",
       "      <td>16</td>\n",
       "      <td>32</td>\n",
       "      <td>32</td>\n",
       "      <td>29</td>\n",
       "      <td>32</td>\n",
       "      <td>32</td>\n",
       "      <td>4</td>\n",
       "      <td>32</td>\n",
       "      <td>32</td>\n",
       "    </tr>\n",
       "    <tr>\n",
       "      <th>7.0</th>\n",
       "      <td>89</td>\n",
       "      <td>39</td>\n",
       "      <td>36</td>\n",
       "      <td>89</td>\n",
       "      <td>89</td>\n",
       "      <td>89</td>\n",
       "      <td>89</td>\n",
       "      <td>89</td>\n",
       "      <td>6</td>\n",
       "      <td>89</td>\n",
       "      <td>89</td>\n",
       "    </tr>\n",
       "    <tr>\n",
       "      <th>7.9</th>\n",
       "      <td>1</td>\n",
       "      <td>1</td>\n",
       "      <td>1</td>\n",
       "      <td>1</td>\n",
       "      <td>1</td>\n",
       "      <td>1</td>\n",
       "      <td>1</td>\n",
       "      <td>1</td>\n",
       "      <td>0</td>\n",
       "      <td>1</td>\n",
       "      <td>1</td>\n",
       "    </tr>\n",
       "    <tr>\n",
       "      <th>8.0</th>\n",
       "      <td>307</td>\n",
       "      <td>141</td>\n",
       "      <td>103</td>\n",
       "      <td>307</td>\n",
       "      <td>307</td>\n",
       "      <td>293</td>\n",
       "      <td>307</td>\n",
       "      <td>307</td>\n",
       "      <td>25</td>\n",
       "      <td>307</td>\n",
       "      <td>307</td>\n",
       "    </tr>\n",
       "    <tr>\n",
       "      <th>9.0</th>\n",
       "      <td>361</td>\n",
       "      <td>179</td>\n",
       "      <td>99</td>\n",
       "      <td>361</td>\n",
       "      <td>361</td>\n",
       "      <td>348</td>\n",
       "      <td>361</td>\n",
       "      <td>361</td>\n",
       "      <td>19</td>\n",
       "      <td>361</td>\n",
       "      <td>361</td>\n",
       "    </tr>\n",
       "    <tr>\n",
       "      <th>9.6</th>\n",
       "      <td>2</td>\n",
       "      <td>2</td>\n",
       "      <td>1</td>\n",
       "      <td>2</td>\n",
       "      <td>2</td>\n",
       "      <td>2</td>\n",
       "      <td>2</td>\n",
       "      <td>2</td>\n",
       "      <td>1</td>\n",
       "      <td>2</td>\n",
       "      <td>2</td>\n",
       "    </tr>\n",
       "    <tr>\n",
       "      <th>10.0</th>\n",
       "      <td>699</td>\n",
       "      <td>383</td>\n",
       "      <td>164</td>\n",
       "      <td>701</td>\n",
       "      <td>701</td>\n",
       "      <td>670</td>\n",
       "      <td>701</td>\n",
       "      <td>701</td>\n",
       "      <td>62</td>\n",
       "      <td>701</td>\n",
       "      <td>701</td>\n",
       "    </tr>\n",
       "  </tbody>\n",
       "</table>\n",
       "</div>"
      ],
      "text/plain": [
       "       Title  PositiveReview  NegativeReview  GuestName  GuestCountry  \\\n",
       "Score                                                                   \n",
       "1.0        5               2               2          5             5   \n",
       "2.0        2               0               0          2             2   \n",
       "3.0        4               4               4          4             4   \n",
       "4.0        6               3               3          6             6   \n",
       "5.0       13               5               6         13            13   \n",
       "6.0       32              16              16         32            32   \n",
       "7.0       89              39              36         89            89   \n",
       "7.9        1               1               1          1             1   \n",
       "8.0      307             141             103        307           307   \n",
       "9.0      361             179              99        361           361   \n",
       "9.6        2               2               1          2             2   \n",
       "10.0     699             383             164        701           701   \n",
       "\n",
       "       RoomType  NumberOfNights  GroupType  PropertyResponse  VisitYear  \\\n",
       "Score                                                                     \n",
       "1.0           4               5          5                 2          5   \n",
       "2.0           2               2          2                 0          2   \n",
       "3.0           4               4          4                 0          4   \n",
       "4.0           5               6          6                 1          6   \n",
       "5.0          13              13         13                 3         13   \n",
       "6.0          29              32         32                 4         32   \n",
       "7.0          89              89         89                 6         89   \n",
       "7.9           1               1          1                 0          1   \n",
       "8.0         293             307        307                25        307   \n",
       "9.0         348             361        361                19        361   \n",
       "9.6           2               2          2                 1          2   \n",
       "10.0        670             701        701                62        701   \n",
       "\n",
       "       VisitMonth  \n",
       "Score              \n",
       "1.0             5  \n",
       "2.0             2  \n",
       "3.0             4  \n",
       "4.0             6  \n",
       "5.0            13  \n",
       "6.0            32  \n",
       "7.0            89  \n",
       "7.9             1  \n",
       "8.0           307  \n",
       "9.0           361  \n",
       "9.6             2  \n",
       "10.0          701  "
      ]
     },
     "execution_count": 141,
     "metadata": {},
     "output_type": "execute_result"
    }
   ],
   "source": [
    "data.groupby('Score').count()"
   ]
  },
  {
   "cell_type": "markdown",
   "id": "0f60415c",
   "metadata": {},
   "source": [
    "다음 함수는 최저점과 최고점의 범위를 지정하여 그에 해당하는 리뷰의 단어의 빈도수를 추출해주는 함수다. 만약 p가 True인 경우 'PositiveReview'를, False인 경우 'NegativeReview'를 추출하며, top개만큼의 최저, 최고 빈도를 보이는 특성 단어를 보여준다."
   ]
  },
  {
   "cell_type": "code",
   "execution_count": 321,
   "id": "79b0e736",
   "metadata": {
    "ExecuteTime": {
     "end_time": "2023-02-15T15:08:11.845872Z",
     "start_time": "2023-02-15T15:08:11.825306Z"
    }
   },
   "outputs": [],
   "source": [
    "def get_count_vect(min_score, max_score, p=True, top=20):\n",
    "    if max_score <= 2:\n",
    "        ngram_range_min, ngram_range_max = 3, 4\n",
    "    else:\n",
    "        ngram_range_min, ngram_range_max = 4, 5\n",
    "    # CountVectorizer 객체 생성(stop_words='english'로 불용어 제거)\n",
    "    cnt_vect = CountVectorizer(stop_words='english', ngram_range=(ngram_range_min, ngram_range_max))\n",
    "    # 입력받은 min_score <= score <= max_score에 해당하는 리뷰 추출\n",
    "    mask = (data['Score'] >= min_score) & (data['Score'] <= max_score)\n",
    "    # 훈련 데이터셋을 변환\n",
    "    mm_data = data.loc[mask, :]\n",
    "    # p=True이면 PositiveReview 추출, False이면 NegativeReview 추출\n",
    "    if p:\n",
    "        text = cnt_vect.fit_transform(mm_data['PositiveReview'].dropna())\n",
    "    else:\n",
    "        text = cnt_vect.fit_transform(mm_data['NegativeReview'].dropna())\n",
    "    # 특성별로 가장 큰 값을 찾음\n",
    "    max_value = text.max(axis=0).toarray().ravel()\n",
    "    sorted_by_cnt = max_value.argsort()\n",
    "    # 특성 이름을 구함\n",
    "    feature_names = np.array(cnt_vect.get_feature_names_out())\n",
    "    \n",
    "    # 출력\n",
    "    print(\"가장 낮은 count를 가진 특성:\\n\", feature_names[sorted_by_cnt[:20]])\n",
    "    print(\"가장 높은 count를 가진 특성:\\n\", feature_names[sorted_by_cnt[-20:]])"
   ]
  },
  {
   "cell_type": "code",
   "execution_count": 329,
   "id": "90439958",
   "metadata": {
    "ExecuteTime": {
     "end_time": "2023-02-15T15:10:26.876966Z",
     "start_time": "2023-02-15T15:10:26.828659Z"
    }
   },
   "outputs": [
    {
     "name": "stdout",
     "output_type": "stream",
     "text": [
      "가장 낮은 count를 가진 특성:\n",
      " ['10 10 desk absolutely' 'order close larnaca airport early'\n",
      " 'order close larnaca airport' 'options couple days arrival changed'\n",
      " 'options couple days arrival' 'options 10 eur friendly host'\n",
      " 'options 10 eur friendly' 'option paying 15 euros taxi'\n",
      " 'option paying 15 euros' 'option good breakfast hotel save'\n",
      " 'option good breakfast hotel' 'option arrive larnaca airport close'\n",
      " 'option arrive larnaca airport' 'order taxis help car'\n",
      " 'opinion available pleasant professional staff'\n",
      " 'opennes room extremely clean room' 'opennes room extremely clean'\n",
      " 'onsite small restaurant delish service' 'onsite small restaurant delish'\n",
      " 'ones comfortable beds furthermore restaurant']\n",
      "가장 높은 count를 가진 특성:\n",
      " ['extremely clean newly renovated' 'extremely clean good location near'\n",
      " 'extremely clean good location' 'extraordinary close airport min walk'\n",
      " 'extraordinary close airport min' 'extra mile satisfaction hotel great'\n",
      " 'extra mile satisfaction hotel' 'extra good hotel 100m 425'\n",
      " 'extra good hotel 100m' 'extended stay room half day'\n",
      " 'extended stay room half' 'extend vacation sure felt like'\n",
      " 'extend vacation sure felt' 'explain helpful richard chef guy'\n",
      " 'explain helpful richard chef' 'experience staying la veranda hotel'\n",
      " 'experience staying la veranda' 'experience la veranda hotel staff'\n",
      " 'extremely comfortable new bedding delight'\n",
      " 'years kind polite ready help']\n"
     ]
    }
   ],
   "source": [
    "get_count_vect(10, 10)"
   ]
  }
 ],
 "metadata": {
  "kernelspec": {
   "display_name": "myenv",
   "language": "python",
   "name": "myenv"
  },
  "language_info": {
   "codemirror_mode": {
    "name": "ipython",
    "version": 3
   },
   "file_extension": ".py",
   "mimetype": "text/x-python",
   "name": "python",
   "nbconvert_exporter": "python",
   "pygments_lexer": "ipython3",
   "version": "3.8.13"
  },
  "toc": {
   "base_numbering": 1,
   "nav_menu": {},
   "number_sections": true,
   "sideBar": true,
   "skip_h1_title": false,
   "title_cell": "Table of Contents",
   "title_sidebar": "Contents",
   "toc_cell": false,
   "toc_position": {},
   "toc_section_display": true,
   "toc_window_display": false
  }
 },
 "nbformat": 4,
 "nbformat_minor": 5
}
