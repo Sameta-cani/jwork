{
 "cells": [
  {
   "cell_type": "markdown",
   "id": "5a8dd2d6",
   "metadata": {},
   "source": [
    "# Titanic Data Science Solutions"
   ]
  },
  {
   "cell_type": "markdown",
   "id": "0c69d90b",
   "metadata": {},
   "source": [
    "이 노트북 파일은 <a href='https://www.amazon.com/Data-Science-Solutions-Startup-Workflow/dp/1520545312' target='blank'>Data Science Solutions</a>을 참고했다."
   ]
  },
  {
   "cell_type": "markdown",
   "id": "ec3dcf96",
   "metadata": {},
   "source": [
    "본 내용은 Kaggle의 Data science competitions에서 문제를 해결하는 일반적인 작업 흐름도를 제공한다."
   ]
  },
  {
   "cell_type": "markdown",
   "id": "11fd9816",
   "metadata": {},
   "source": [
    "Data science competitions의 출품작에는 공부하기 좋은 몇 가지 훌륭한 노트북 파일이 있다. 하지만, 대부분이 왜 이런 방법을 고안했는지에 대한 설명을 생략한 채 작성되었다. 이러한 노트북 파일은 전문가를 위해 전문가가 작성하였다. 이 노트북 파일의 목적은 단계별 작업 흐름도를 따른다. 즉, 해결 방안을 제시하는 각 단계에서 선택한 결정에 대한 합당한 이유를 다룰 것이다."
   ]
  },
  {
   "cell_type": "markdown",
   "id": "76bb0a14",
   "metadata": {},
   "source": [
    "## Workflow stages"
   ]
  },
  {
   "cell_type": "markdown",
   "id": "ba604ea7",
   "metadata": {},
   "source": [
    "책 Data Science Solutions에서는 competitions 해결을 위해 7단계의 작업 흐름도를 설명한다.\n",
    "<ol>\n",
    "    <li>문제 정의하기</li>\n",
    "    <li>학습 데이터와 테스트 데이터 구하기</li>\n",
    "    <li>데이터 전처리</li>\n",
    "    <li>데이터 분석, 패턴 확인, 탐색</li>\n",
    "    <li>모델링, 예측과 문제 해결</li>\n",
    "    <li>시각화, 문서화 그리고 문제 해결 단계와 최종 방안 정리</li>\n",
    "    <li>결과 제출</li>\n",
    "</ol>\n",
    "작업 흐름도는 각 단계가 어떻게 다른 단계를 따르는지에 대한 일반적인 순서를 나타낸다. 그러나 예외가 있는 사례도 있다.\n",
    "<ul>\n",
    "    <li>여러 개의 작업 흐름도 단계를 결합할 수 있고, 데이터를 시각화하여 분석할 수도 있다.</li>\n",
    "    <li>앞서 정의한 단계보다 일찍 다른 작업을 진행할 수 있다. 예를 들어 전처리를 하기 전에 데이터 분석을 우선으로 할 수 있다.</li>\n",
    "    <li>작업 흐름도가 여러 번 반복될 수도 있다. 예를 들어 시각화 단계는 여러번 진행될 수 있다.</li>\n",
    "    <li>특정 한 단계를 생략할 수 있다. 이는 경쟁을 위해 데이터 세트를 생산하거나 서비스하기 위해 공급 단계가 필요하지 않을 수도 있다는 걸 의미한다.</li>\n",
    "    </ul>"
   ]
  },
  {
   "cell_type": "markdown",
   "id": "2c52dac5",
   "metadata": {},
   "source": [
    "## 문제 정의하기"
   ]
  },
  {
   "cell_type": "markdown",
   "id": "32824db7",
   "metadata": {},
   "source": [
    "Kaggle과 같은 경쟁 사이트는 모델을 학습시키고 테스트하기 위한 데이터를 제공하면서 해결하길 원하는 문제를 정의한다. 타이타닉 생존 경쟁에 대한 자세한 내용은 <a href='https://www.kaggle.com/c/titanic' target='blank'>다음 페이지</a>를 참고하자.\n",
    "\n",
    "    타이타닉 참사에서 살아남았거나, 살아남지 못한 승객에 대한 훈련 데이터를 통해 모델을 학습한다. 그리고 이 모델을 기반으로, 생존 여부를 포함하지 않은 테스트 데이터가 주어졌을 때 해당 승객이 생존했는지, 그렇지 않은지 예측할 수 있다."
   ]
  },
  {
   "cell_type": "markdown",
   "id": "0345eff1",
   "metadata": {},
   "source": [
    "또한, 해당 문제의 배경에 대해 알고 싶을 수 있다. 이에 대한 내용은 <a href='https://www.kaggle.com/c/titanic' taget='blank'>Kaggle competition description page</a>에 자세히 나와있다. 다음은 해당 페이지에서의 주요 내용이다.\n",
    "<ul>\n",
    "    <li>1912년 4월 15일, 항해 중인 타이타닉호가 빙산과 충돌 후 침몰하여, 승객과 승무원 총 2,224명 중 1,502명이 사망하였다. 즉, 32%만이 생존하였다.</li>\n",
    "    <li>난파선이 이 정도의 인명 피해를 입게 된 이유 중하나는 승객과 승무원을 위한 구명보트가 충분하지 않았기 때문이다.</li>\n",
    "    <li>비록 침몰에서 살아남는 데 운이 좋았던 이유도 있겠지만, 여성, 어린이 그리고 상류층과 같은 특정 그룹의 사람이 다른 사람보다 생존할 가능성이 더 높았다.</li>\n",
    "    </ul>"
   ]
  },
  {
   "cell_type": "markdown",
   "id": "ef4e6426",
   "metadata": {},
   "source": [
    "### 작업 흐름도의 목표"
   ]
  },
  {
   "cell_type": "markdown",
   "id": "3dddb456",
   "metadata": {},
   "source": [
    "본 데이터 사이언스 작업 흐름도는 7개의 목표를 다룬다.<br><br>\n",
    "<b>Classifying.</b>샘플을 분류 또는 그룹화하여 그들간의 상관관계나 영향력을 이해한다.<br><br>\n",
    "<b>Correlating.</b>학습 데이터셋에서 사용할 수 있는 특성을 기반으로 문제에 접근할 수 있다. 데이터셋에서 어떤 특성이 생존 여부에 가장 크게 영향을 미치는가? 특성과 최종 값 사이에 통계적으로 <a href='https://en.wikiversity.org/wiki/Correlation' target='blank'>상관성</a>이 있는가? 특성 값이 바뀌면 생존 여부도 바뀌는가? 그 반대는 어떠한가? 이는 주어진 데이터셋의 수치 및 범주형 특성 모두에 대해 테스트할 수 있다. 또한, 후속 연구 및 작업 흐름도 단계를 위해 특성 간의 상관관계를 결정할 수 있다. 특정 특성을 조합하면 creating, completing 또는 correcting하는 데 도움이 될 수 있다.<br><br>\n",
    "<b>Converting.</b>모델링 단계를 위해, 데이터를 전처리할 필요가 있다. 어떤 모델 알고리즘을 선택할 지에 따라 모든 특성을 수치형 값으로 변환해야 할 수도 있다. 예를 들어, 텍스트 범주형 데이터를 수치형 값으로 변환한다.<br><br>\n",
    "<b>Completing.</b> 데이터 전처리는 특성에서 결측치를 채워야할 수 있다. 모델 알고리즘은 결측치가 없을 때 최고의 성능을 내기 때문이다.<br><br>\n",
    "<b>Correcting.</b>주어진 훈련 데이터셋을 분석하여 이상치 또는 특이치를 찾아 수정하거나 제외할 수 있다. 이러한 값들은 분석에 도움을 주지 않거나 결과를 크게 왜곡할 수 있으므로 완전히 삭제할 수도 있다.<br><br>\n",
    "<b>Creating.</b>새로운 특성이 상관 관계, 변환, 완전성의 목표를 따르도록 기존의 특성을 기반으로 새로운 특성을 만든다.<br><br>\n",
    "<b>Charting.</b>데이터셋과 생존 여부의 관계성을 자연스럽게 나타낼 수 있는 시각화를 선택한다."
   ]
  },
  {
   "cell_type": "code",
   "execution_count": 1,
   "id": "9a54d0e2",
   "metadata": {
    "ExecuteTime": {
     "end_time": "2022-12-06T14:39:09.223014Z",
     "start_time": "2022-12-06T14:39:02.913913Z"
    }
   },
   "outputs": [],
   "source": [
    "# data analysis and wrangling\n",
    "import pandas as pd\n",
    "import numpy as np\n",
    "import random as rnd\n",
    "\n",
    "# visualization\n",
    "import seaborn as sns\n",
    "import matplotlib.pyplot as plt\n",
    "%matplotlib inline\n",
    "\n",
    "# machine learning\n",
    "from sklearn.linear_model import LogisticRegression, Perceptron, SGDClassifier\n",
    "from sklearn.svm import SVC, LinearSVC\n",
    "from sklearn.ensemble import RandomForestClassifier\n",
    "from sklearn.neighbors import KNeighborsClassifier\n",
    "from sklearn.naive_bayes import GaussianNB\n",
    "from sklearn.tree import DecisionTreeClassifier"
   ]
  },
  {
   "cell_type": "markdown",
   "id": "ca2c83e6",
   "metadata": {},
   "source": [
    "## 학습 데이터와 테스트 데이터 구하기"
   ]
  },
  {
   "cell_type": "markdown",
   "id": "29cf8ad7",
   "metadata": {},
   "source": [
    "파이썬의 판다스 패키지는 데이터셋을 편리하게 다룰 수 있게 해준다. 우선 학습 데이터와 테스트 데이터셋을 구해 판다스의 데이터프레임으로 만든다. 또한, 이들을 병합해 두 데이터셋 전부에 특정한 처리를 할 수 있도록 한다."
   ]
  },
  {
   "cell_type": "code",
   "execution_count": 2,
   "id": "d91028c0",
   "metadata": {
    "ExecuteTime": {
     "end_time": "2022-12-06T14:39:09.284269Z",
     "start_time": "2022-12-06T14:39:09.227014Z"
    }
   },
   "outputs": [],
   "source": [
    "train_df = pd.read_csv('./datasets/titanic/train.csv')\n",
    "test_df = pd.read_csv('./datasets/titanic/test.csv')\n",
    "combine = [train_df, test_df]"
   ]
  },
  {
   "cell_type": "markdown",
   "id": "705fe351",
   "metadata": {},
   "source": [
    "### 데이터를 탐색하며 분석하기"
   ]
  },
  {
   "cell_type": "markdown",
   "id": "b399a9e9",
   "metadata": {},
   "source": [
    "판다스는 프로젝트 초기에 다음 질문에 대답하는데 도움이 된다."
   ]
  },
  {
   "cell_type": "markdown",
   "id": "c4cb791e",
   "metadata": {},
   "source": [
    "<b>데이터셋에서 사용할 수 있는 특성은 무엇인가?</b>"
   ]
  },
  {
   "cell_type": "markdown",
   "id": "108c159f",
   "metadata": {},
   "source": [
    "직접 조작하거나 분석하기 위해 특성 이름을 알아두는게 좋다. 이 특성들에 대한 자세한 설명은 <a href='https://www.kaggle.com/c/titanic/data' target='blank'>Kaggle data page</a>를 참고하도록 한다."
   ]
  },
  {
   "cell_type": "code",
   "execution_count": 3,
   "id": "f163026e",
   "metadata": {
    "ExecuteTime": {
     "end_time": "2022-12-06T14:39:11.838814Z",
     "start_time": "2022-12-06T14:39:11.804908Z"
    }
   },
   "outputs": [
    {
     "name": "stdout",
     "output_type": "stream",
     "text": [
      "['PassengerId' 'Survived' 'Pclass' 'Name' 'Sex' 'Age' 'SibSp' 'Parch'\n",
      " 'Ticket' 'Fare' 'Cabin' 'Embarked']\n"
     ]
    }
   ],
   "source": [
    "print(train_df.columns.values)"
   ]
  },
  {
   "cell_type": "markdown",
   "id": "b4c57b68",
   "metadata": {},
   "source": [
    "<b>범주형 특성은 무엇인가?</b>"
   ]
  },
  {
   "cell_type": "markdown",
   "id": "dc9e08d9",
   "metadata": {},
   "source": [
    "범주형 특성은 고유한 값이나 범주 수가 제한된 변수이다. 범주형 변수는 <b>명목</b><sup>Categorical</sup>이거나 <b>순서</b><sup>Ordinal</sup>로 구분된다.\n",
    "<ul>\n",
    "    <li>Categorical: Survived, Sex, and Embarked</li>\n",
    "<li>Ordinal: Pclass</li>\n",
    "    </ul>"
   ]
  },
  {
   "cell_type": "markdown",
   "id": "3470bf62",
   "metadata": {},
   "source": [
    "<b>수치형 특성은 무엇인가?</b>"
   ]
  },
  {
   "cell_type": "markdown",
   "id": "0463c567",
   "metadata": {},
   "source": [
    "수치형 특성은 관측된 값이 수치로 측정되는 변수이다. 수치형 변수는 <b>연속</b><sup>Continuous</sup>이거나 <b>이산</b><sup>Discrete</sup>으로 구분된다.\n",
    "<ul>\n",
    "    <li>Continous: Age, Fare</li>\n",
    "    <li>Discrete: SibSp, Parch</li>\n",
    "    </ul>"
   ]
  },
  {
   "cell_type": "code",
   "execution_count": 5,
   "id": "a3c1b0be",
   "metadata": {
    "ExecuteTime": {
     "end_time": "2022-12-06T15:25:34.047814Z",
     "start_time": "2022-12-06T15:25:33.987613Z"
    }
   },
   "outputs": [
    {
     "data": {
      "text/html": [
       "<div>\n",
       "<style scoped>\n",
       "    .dataframe tbody tr th:only-of-type {\n",
       "        vertical-align: middle;\n",
       "    }\n",
       "\n",
       "    .dataframe tbody tr th {\n",
       "        vertical-align: top;\n",
       "    }\n",
       "\n",
       "    .dataframe thead th {\n",
       "        text-align: right;\n",
       "    }\n",
       "</style>\n",
       "<table border=\"1\" class=\"dataframe\">\n",
       "  <thead>\n",
       "    <tr style=\"text-align: right;\">\n",
       "      <th></th>\n",
       "      <th>PassengerId</th>\n",
       "      <th>Survived</th>\n",
       "      <th>Pclass</th>\n",
       "      <th>Name</th>\n",
       "      <th>Sex</th>\n",
       "      <th>Age</th>\n",
       "      <th>SibSp</th>\n",
       "      <th>Parch</th>\n",
       "      <th>Ticket</th>\n",
       "      <th>Fare</th>\n",
       "      <th>Cabin</th>\n",
       "      <th>Embarked</th>\n",
       "    </tr>\n",
       "  </thead>\n",
       "  <tbody>\n",
       "    <tr>\n",
       "      <th>0</th>\n",
       "      <td>1</td>\n",
       "      <td>0</td>\n",
       "      <td>3</td>\n",
       "      <td>Braund, Mr. Owen Harris</td>\n",
       "      <td>male</td>\n",
       "      <td>22.0</td>\n",
       "      <td>1</td>\n",
       "      <td>0</td>\n",
       "      <td>A/5 21171</td>\n",
       "      <td>7.2500</td>\n",
       "      <td>NaN</td>\n",
       "      <td>S</td>\n",
       "    </tr>\n",
       "    <tr>\n",
       "      <th>1</th>\n",
       "      <td>2</td>\n",
       "      <td>1</td>\n",
       "      <td>1</td>\n",
       "      <td>Cumings, Mrs. John Bradley (Florence Briggs Th...</td>\n",
       "      <td>female</td>\n",
       "      <td>38.0</td>\n",
       "      <td>1</td>\n",
       "      <td>0</td>\n",
       "      <td>PC 17599</td>\n",
       "      <td>71.2833</td>\n",
       "      <td>C85</td>\n",
       "      <td>C</td>\n",
       "    </tr>\n",
       "    <tr>\n",
       "      <th>2</th>\n",
       "      <td>3</td>\n",
       "      <td>1</td>\n",
       "      <td>3</td>\n",
       "      <td>Heikkinen, Miss. Laina</td>\n",
       "      <td>female</td>\n",
       "      <td>26.0</td>\n",
       "      <td>0</td>\n",
       "      <td>0</td>\n",
       "      <td>STON/O2. 3101282</td>\n",
       "      <td>7.9250</td>\n",
       "      <td>NaN</td>\n",
       "      <td>S</td>\n",
       "    </tr>\n",
       "    <tr>\n",
       "      <th>3</th>\n",
       "      <td>4</td>\n",
       "      <td>1</td>\n",
       "      <td>1</td>\n",
       "      <td>Futrelle, Mrs. Jacques Heath (Lily May Peel)</td>\n",
       "      <td>female</td>\n",
       "      <td>35.0</td>\n",
       "      <td>1</td>\n",
       "      <td>0</td>\n",
       "      <td>113803</td>\n",
       "      <td>53.1000</td>\n",
       "      <td>C123</td>\n",
       "      <td>S</td>\n",
       "    </tr>\n",
       "    <tr>\n",
       "      <th>4</th>\n",
       "      <td>5</td>\n",
       "      <td>0</td>\n",
       "      <td>3</td>\n",
       "      <td>Allen, Mr. William Henry</td>\n",
       "      <td>male</td>\n",
       "      <td>35.0</td>\n",
       "      <td>0</td>\n",
       "      <td>0</td>\n",
       "      <td>373450</td>\n",
       "      <td>8.0500</td>\n",
       "      <td>NaN</td>\n",
       "      <td>S</td>\n",
       "    </tr>\n",
       "  </tbody>\n",
       "</table>\n",
       "</div>"
      ],
      "text/plain": [
       "   PassengerId  Survived  Pclass  \\\n",
       "0            1         0       3   \n",
       "1            2         1       1   \n",
       "2            3         1       3   \n",
       "3            4         1       1   \n",
       "4            5         0       3   \n",
       "\n",
       "                                                Name     Sex   Age  SibSp  \\\n",
       "0                            Braund, Mr. Owen Harris    male  22.0      1   \n",
       "1  Cumings, Mrs. John Bradley (Florence Briggs Th...  female  38.0      1   \n",
       "2                             Heikkinen, Miss. Laina  female  26.0      0   \n",
       "3       Futrelle, Mrs. Jacques Heath (Lily May Peel)  female  35.0      1   \n",
       "4                           Allen, Mr. William Henry    male  35.0      0   \n",
       "\n",
       "   Parch            Ticket     Fare Cabin Embarked  \n",
       "0      0         A/5 21171   7.2500   NaN        S  \n",
       "1      0          PC 17599  71.2833   C85        C  \n",
       "2      0  STON/O2. 3101282   7.9250   NaN        S  \n",
       "3      0            113803  53.1000  C123        S  \n",
       "4      0            373450   8.0500   NaN        S  "
      ]
     },
     "execution_count": 5,
     "metadata": {},
     "output_type": "execute_result"
    }
   ],
   "source": [
    "# preview the data\n",
    "train_df.head()"
   ]
  },
  {
   "cell_type": "markdown",
   "id": "64ceada9",
   "metadata": {},
   "source": [
    "<b>데이터 타입이 혼합된 특성은 무엇인가?</b>\n",
    " - Ticket 특성과 Cabin 특성이 수치와 알파벳이 혼합되어 있다."
   ]
  },
  {
   "cell_type": "markdown",
   "id": "58375023",
   "metadata": {},
   "source": [
    "<b>어떤 특성이 오류 또는 오타를 포함하는가?</b>"
   ]
  },
  {
   "cell_type": "markdown",
   "id": "0579d3ab",
   "metadata": {},
   "source": [
    "대규모 데이터셋에서 이것을 검토하는 것은 어려울 일이지만, 작은 데이터셋을 추출한 후 몇몇 샘플을 검토하다 보면 수정이 필요한 특성이 무엇인지 알 수 있다.\n",
    "- 가명이나 짧은 이름에 사용되는 괄호, 따옴포 등 Name 특성에는 이러한 오류나 오타가 포함될 수 있다."
   ]
  },
  {
   "cell_type": "code",
   "execution_count": 6,
   "id": "ec82dd52",
   "metadata": {
    "ExecuteTime": {
     "end_time": "2022-12-06T15:36:25.465826Z",
     "start_time": "2022-12-06T15:36:25.439347Z"
    }
   },
   "outputs": [
    {
     "data": {
      "text/html": [
       "<div>\n",
       "<style scoped>\n",
       "    .dataframe tbody tr th:only-of-type {\n",
       "        vertical-align: middle;\n",
       "    }\n",
       "\n",
       "    .dataframe tbody tr th {\n",
       "        vertical-align: top;\n",
       "    }\n",
       "\n",
       "    .dataframe thead th {\n",
       "        text-align: right;\n",
       "    }\n",
       "</style>\n",
       "<table border=\"1\" class=\"dataframe\">\n",
       "  <thead>\n",
       "    <tr style=\"text-align: right;\">\n",
       "      <th></th>\n",
       "      <th>PassengerId</th>\n",
       "      <th>Survived</th>\n",
       "      <th>Pclass</th>\n",
       "      <th>Name</th>\n",
       "      <th>Sex</th>\n",
       "      <th>Age</th>\n",
       "      <th>SibSp</th>\n",
       "      <th>Parch</th>\n",
       "      <th>Ticket</th>\n",
       "      <th>Fare</th>\n",
       "      <th>Cabin</th>\n",
       "      <th>Embarked</th>\n",
       "    </tr>\n",
       "  </thead>\n",
       "  <tbody>\n",
       "    <tr>\n",
       "      <th>886</th>\n",
       "      <td>887</td>\n",
       "      <td>0</td>\n",
       "      <td>2</td>\n",
       "      <td>Montvila, Rev. Juozas</td>\n",
       "      <td>male</td>\n",
       "      <td>27.0</td>\n",
       "      <td>0</td>\n",
       "      <td>0</td>\n",
       "      <td>211536</td>\n",
       "      <td>13.00</td>\n",
       "      <td>NaN</td>\n",
       "      <td>S</td>\n",
       "    </tr>\n",
       "    <tr>\n",
       "      <th>887</th>\n",
       "      <td>888</td>\n",
       "      <td>1</td>\n",
       "      <td>1</td>\n",
       "      <td>Graham, Miss. Margaret Edith</td>\n",
       "      <td>female</td>\n",
       "      <td>19.0</td>\n",
       "      <td>0</td>\n",
       "      <td>0</td>\n",
       "      <td>112053</td>\n",
       "      <td>30.00</td>\n",
       "      <td>B42</td>\n",
       "      <td>S</td>\n",
       "    </tr>\n",
       "    <tr>\n",
       "      <th>888</th>\n",
       "      <td>889</td>\n",
       "      <td>0</td>\n",
       "      <td>3</td>\n",
       "      <td>Johnston, Miss. Catherine Helen \"Carrie\"</td>\n",
       "      <td>female</td>\n",
       "      <td>NaN</td>\n",
       "      <td>1</td>\n",
       "      <td>2</td>\n",
       "      <td>W./C. 6607</td>\n",
       "      <td>23.45</td>\n",
       "      <td>NaN</td>\n",
       "      <td>S</td>\n",
       "    </tr>\n",
       "    <tr>\n",
       "      <th>889</th>\n",
       "      <td>890</td>\n",
       "      <td>1</td>\n",
       "      <td>1</td>\n",
       "      <td>Behr, Mr. Karl Howell</td>\n",
       "      <td>male</td>\n",
       "      <td>26.0</td>\n",
       "      <td>0</td>\n",
       "      <td>0</td>\n",
       "      <td>111369</td>\n",
       "      <td>30.00</td>\n",
       "      <td>C148</td>\n",
       "      <td>C</td>\n",
       "    </tr>\n",
       "    <tr>\n",
       "      <th>890</th>\n",
       "      <td>891</td>\n",
       "      <td>0</td>\n",
       "      <td>3</td>\n",
       "      <td>Dooley, Mr. Patrick</td>\n",
       "      <td>male</td>\n",
       "      <td>32.0</td>\n",
       "      <td>0</td>\n",
       "      <td>0</td>\n",
       "      <td>370376</td>\n",
       "      <td>7.75</td>\n",
       "      <td>NaN</td>\n",
       "      <td>Q</td>\n",
       "    </tr>\n",
       "  </tbody>\n",
       "</table>\n",
       "</div>"
      ],
      "text/plain": [
       "     PassengerId  Survived  Pclass                                      Name  \\\n",
       "886          887         0       2                     Montvila, Rev. Juozas   \n",
       "887          888         1       1              Graham, Miss. Margaret Edith   \n",
       "888          889         0       3  Johnston, Miss. Catherine Helen \"Carrie\"   \n",
       "889          890         1       1                     Behr, Mr. Karl Howell   \n",
       "890          891         0       3                       Dooley, Mr. Patrick   \n",
       "\n",
       "        Sex   Age  SibSp  Parch      Ticket   Fare Cabin Embarked  \n",
       "886    male  27.0      0      0      211536  13.00   NaN        S  \n",
       "887  female  19.0      0      0      112053  30.00   B42        S  \n",
       "888  female   NaN      1      2  W./C. 6607  23.45   NaN        S  \n",
       "889    male  26.0      0      0      111369  30.00  C148        C  \n",
       "890    male  32.0      0      0      370376   7.75   NaN        Q  "
      ]
     },
     "execution_count": 6,
     "metadata": {},
     "output_type": "execute_result"
    }
   ],
   "source": [
    "train_df.tail()"
   ]
  },
  {
   "cell_type": "markdown",
   "id": "708a4c5f",
   "metadata": {},
   "source": [
    "<b>결측치를 포함하는 특성은 무엇인가?</b>\n",
    "이에 해당하는 특성들은 수정이 필요하다.\n",
    "<ul>\n",
    "    <li>학습 데이터셋에서는 Cabin > Age > Embarked 순으로 결측치를 많이 포함하고 있다.</li>\n",
    "    <li>테스트 데이터셋에서는 Cabin > Age 순으로 결측치를 많이 포함하고 있다.</li>\n",
    "    </ul>"
   ]
  },
  {
   "cell_type": "markdown",
   "id": "d1278d2b",
   "metadata": {},
   "source": [
    "<b>데이터 타입에는 어떤 형식의 특성이 존재하는가?</b>\n",
    "<ul>\n",
    "    <li>학습 데이터셋에서는 7개의 특성이 정수형 또는 실수형이며, 테스트 데이터셋에서는 이와 같은 특성이 6개 존재한다(Survived 특성 제외).</li>\n",
    "    <li>strings(object) 특성은 5개가 존재한다.</li>\n",
    "    </ul>"
   ]
  },
  {
   "cell_type": "code",
   "execution_count": 7,
   "id": "1f507e85",
   "metadata": {
    "ExecuteTime": {
     "end_time": "2022-12-06T15:40:32.946730Z",
     "start_time": "2022-12-06T15:40:32.886227Z"
    }
   },
   "outputs": [
    {
     "name": "stdout",
     "output_type": "stream",
     "text": [
      "<class 'pandas.core.frame.DataFrame'>\n",
      "RangeIndex: 891 entries, 0 to 890\n",
      "Data columns (total 12 columns):\n",
      " #   Column       Non-Null Count  Dtype  \n",
      "---  ------       --------------  -----  \n",
      " 0   PassengerId  891 non-null    int64  \n",
      " 1   Survived     891 non-null    int64  \n",
      " 2   Pclass       891 non-null    int64  \n",
      " 3   Name         891 non-null    object \n",
      " 4   Sex          891 non-null    object \n",
      " 5   Age          714 non-null    float64\n",
      " 6   SibSp        891 non-null    int64  \n",
      " 7   Parch        891 non-null    int64  \n",
      " 8   Ticket       891 non-null    object \n",
      " 9   Fare         891 non-null    float64\n",
      " 10  Cabin        204 non-null    object \n",
      " 11  Embarked     889 non-null    object \n",
      "dtypes: float64(2), int64(5), object(5)\n",
      "memory usage: 83.7+ KB\n",
      "________________________________________\n",
      "<class 'pandas.core.frame.DataFrame'>\n",
      "RangeIndex: 418 entries, 0 to 417\n",
      "Data columns (total 11 columns):\n",
      " #   Column       Non-Null Count  Dtype  \n",
      "---  ------       --------------  -----  \n",
      " 0   PassengerId  418 non-null    int64  \n",
      " 1   Pclass       418 non-null    int64  \n",
      " 2   Name         418 non-null    object \n",
      " 3   Sex          418 non-null    object \n",
      " 4   Age          332 non-null    float64\n",
      " 5   SibSp        418 non-null    int64  \n",
      " 6   Parch        418 non-null    int64  \n",
      " 7   Ticket       418 non-null    object \n",
      " 8   Fare         417 non-null    float64\n",
      " 9   Cabin        91 non-null     object \n",
      " 10  Embarked     418 non-null    object \n",
      "dtypes: float64(2), int64(4), object(5)\n",
      "memory usage: 36.0+ KB\n"
     ]
    }
   ],
   "source": [
    "train_df.info()\n",
    "print('_' * 40)\n",
    "test_df.info()"
   ]
  },
  {
   "cell_type": "markdown",
   "id": "842767b4",
   "metadata": {},
   "source": [
    "<b>샘플 전체에서 수치형 특성 값의 분포는 어떤가?</b>"
   ]
  },
  {
   "cell_type": "markdown",
   "id": "73904e74",
   "metadata": {},
   "source": [
    "수치형 데이터의 분포를 아는 것은 인사이트 도출에 도움이 될 수 있고, 주어진 훈련 데이터셋의 대표성을 알 수 있다.\n",
    "<ul>\n",
    "    <li>전체 샘플은 Titanic 호에 탑승한 실제 승객 수(2,224명)의 40%인 891명이다.</li>\n",
    "    <li>생존 여부(Survived)는 범주형 특성으로 0과 1로 나타냈다.</li>\n",
    "    <li>약 38%의 샘플이 실제 생존율 32%를 나타낸다.</li>\n",
    "    <li>대부분의 승객(75% 이상)이 부모 또는 자녀를 동반하지 않았다.</li>\n",
    "    <li>대략 30%의 승객이 형제나 배우자와 함께 탑승했다.</li>\n",
    "    <li>요금은 512달러까지 지불하는 소수의 승객(1% 미만)으로 인해 상당히 다양하게 분포한다.</li>\n",
    "    <li>65-80세 미만의 고령 승객은 거의 없다(1% 미만).</li>\n",
    "    </ul>"
   ]
  },
  {
   "cell_type": "code",
   "execution_count": 8,
   "id": "6cc6ef66",
   "metadata": {
    "ExecuteTime": {
     "end_time": "2022-12-06T16:02:39.194937Z",
     "start_time": "2022-12-06T16:02:39.141744Z"
    }
   },
   "outputs": [
    {
     "data": {
      "text/html": [
       "<div>\n",
       "<style scoped>\n",
       "    .dataframe tbody tr th:only-of-type {\n",
       "        vertical-align: middle;\n",
       "    }\n",
       "\n",
       "    .dataframe tbody tr th {\n",
       "        vertical-align: top;\n",
       "    }\n",
       "\n",
       "    .dataframe thead th {\n",
       "        text-align: right;\n",
       "    }\n",
       "</style>\n",
       "<table border=\"1\" class=\"dataframe\">\n",
       "  <thead>\n",
       "    <tr style=\"text-align: right;\">\n",
       "      <th></th>\n",
       "      <th>PassengerId</th>\n",
       "      <th>Survived</th>\n",
       "      <th>Pclass</th>\n",
       "      <th>Age</th>\n",
       "      <th>SibSp</th>\n",
       "      <th>Parch</th>\n",
       "      <th>Fare</th>\n",
       "    </tr>\n",
       "  </thead>\n",
       "  <tbody>\n",
       "    <tr>\n",
       "      <th>count</th>\n",
       "      <td>891.000000</td>\n",
       "      <td>891.000000</td>\n",
       "      <td>891.000000</td>\n",
       "      <td>714.000000</td>\n",
       "      <td>891.000000</td>\n",
       "      <td>891.000000</td>\n",
       "      <td>891.000000</td>\n",
       "    </tr>\n",
       "    <tr>\n",
       "      <th>mean</th>\n",
       "      <td>446.000000</td>\n",
       "      <td>0.383838</td>\n",
       "      <td>2.308642</td>\n",
       "      <td>29.699118</td>\n",
       "      <td>0.523008</td>\n",
       "      <td>0.381594</td>\n",
       "      <td>32.204208</td>\n",
       "    </tr>\n",
       "    <tr>\n",
       "      <th>std</th>\n",
       "      <td>257.353842</td>\n",
       "      <td>0.486592</td>\n",
       "      <td>0.836071</td>\n",
       "      <td>14.526497</td>\n",
       "      <td>1.102743</td>\n",
       "      <td>0.806057</td>\n",
       "      <td>49.693429</td>\n",
       "    </tr>\n",
       "    <tr>\n",
       "      <th>min</th>\n",
       "      <td>1.000000</td>\n",
       "      <td>0.000000</td>\n",
       "      <td>1.000000</td>\n",
       "      <td>0.420000</td>\n",
       "      <td>0.000000</td>\n",
       "      <td>0.000000</td>\n",
       "      <td>0.000000</td>\n",
       "    </tr>\n",
       "    <tr>\n",
       "      <th>25%</th>\n",
       "      <td>223.500000</td>\n",
       "      <td>0.000000</td>\n",
       "      <td>2.000000</td>\n",
       "      <td>20.125000</td>\n",
       "      <td>0.000000</td>\n",
       "      <td>0.000000</td>\n",
       "      <td>7.910400</td>\n",
       "    </tr>\n",
       "    <tr>\n",
       "      <th>50%</th>\n",
       "      <td>446.000000</td>\n",
       "      <td>0.000000</td>\n",
       "      <td>3.000000</td>\n",
       "      <td>28.000000</td>\n",
       "      <td>0.000000</td>\n",
       "      <td>0.000000</td>\n",
       "      <td>14.454200</td>\n",
       "    </tr>\n",
       "    <tr>\n",
       "      <th>75%</th>\n",
       "      <td>668.500000</td>\n",
       "      <td>1.000000</td>\n",
       "      <td>3.000000</td>\n",
       "      <td>38.000000</td>\n",
       "      <td>1.000000</td>\n",
       "      <td>0.000000</td>\n",
       "      <td>31.000000</td>\n",
       "    </tr>\n",
       "    <tr>\n",
       "      <th>max</th>\n",
       "      <td>891.000000</td>\n",
       "      <td>1.000000</td>\n",
       "      <td>3.000000</td>\n",
       "      <td>80.000000</td>\n",
       "      <td>8.000000</td>\n",
       "      <td>6.000000</td>\n",
       "      <td>512.329200</td>\n",
       "    </tr>\n",
       "  </tbody>\n",
       "</table>\n",
       "</div>"
      ],
      "text/plain": [
       "       PassengerId    Survived      Pclass         Age       SibSp  \\\n",
       "count   891.000000  891.000000  891.000000  714.000000  891.000000   \n",
       "mean    446.000000    0.383838    2.308642   29.699118    0.523008   \n",
       "std     257.353842    0.486592    0.836071   14.526497    1.102743   \n",
       "min       1.000000    0.000000    1.000000    0.420000    0.000000   \n",
       "25%     223.500000    0.000000    2.000000   20.125000    0.000000   \n",
       "50%     446.000000    0.000000    3.000000   28.000000    0.000000   \n",
       "75%     668.500000    1.000000    3.000000   38.000000    1.000000   \n",
       "max     891.000000    1.000000    3.000000   80.000000    8.000000   \n",
       "\n",
       "            Parch        Fare  \n",
       "count  891.000000  891.000000  \n",
       "mean     0.381594   32.204208  \n",
       "std      0.806057   49.693429  \n",
       "min      0.000000    0.000000  \n",
       "25%      0.000000    7.910400  \n",
       "50%      0.000000   14.454200  \n",
       "75%      0.000000   31.000000  \n",
       "max      6.000000  512.329200  "
      ]
     },
     "execution_count": 8,
     "metadata": {},
     "output_type": "execute_result"
    }
   ],
   "source": [
    "train_df.describe()\n",
    "# Survived - percentiles=[.61, .62]\n",
    "# Parch - percentiles=[.75, .8]\n",
    "# SibSp - percentiles[.68, .69]\n",
    "# Age, Fare - percentiles[.1, .2, ..., .9, .99]"
   ]
  },
  {
   "cell_type": "markdown",
   "id": "edfccef6",
   "metadata": {},
   "source": [
    "<b>샘플 전체에서 범주형 특성 값의 분포는 어떤가?</b>"
   ]
  },
  {
   "cell_type": "markdown",
   "id": "c2ac941f",
   "metadata": {},
   "source": [
    "<ul>\n",
    "    <li>모든 샘플의 이름이 고유하다(count=unique=891).</li>\n",
    "    <li>성별은 2가지로, 65%가 여성이다(top=male, freq=577/count=891).</li>\n",
    "    <li>객실에는 표본에 몇몇 중복이 있거나 여러 명의 승객이 객실을 공유했다</li>\n",
    "    <li>승선은 3가지의 값이 있다. S 포트가 가장 많은 승객을 태웠다(top=S).</li>\n",
    "    <li>티켓 특성은 중복 값(unique=681)의 비율이 높다(22%).</li>\n",
    "    </ul>"
   ]
  },
  {
   "cell_type": "code",
   "execution_count": 17,
   "id": "b1f87e17",
   "metadata": {
    "ExecuteTime": {
     "end_time": "2022-12-06T16:20:36.489119Z",
     "start_time": "2022-12-06T16:20:36.456065Z"
    }
   },
   "outputs": [
    {
     "data": {
      "text/html": [
       "<div>\n",
       "<style scoped>\n",
       "    .dataframe tbody tr th:only-of-type {\n",
       "        vertical-align: middle;\n",
       "    }\n",
       "\n",
       "    .dataframe tbody tr th {\n",
       "        vertical-align: top;\n",
       "    }\n",
       "\n",
       "    .dataframe thead th {\n",
       "        text-align: right;\n",
       "    }\n",
       "</style>\n",
       "<table border=\"1\" class=\"dataframe\">\n",
       "  <thead>\n",
       "    <tr style=\"text-align: right;\">\n",
       "      <th></th>\n",
       "      <th>Name</th>\n",
       "      <th>Sex</th>\n",
       "      <th>Ticket</th>\n",
       "      <th>Cabin</th>\n",
       "      <th>Embarked</th>\n",
       "    </tr>\n",
       "  </thead>\n",
       "  <tbody>\n",
       "    <tr>\n",
       "      <th>count</th>\n",
       "      <td>891</td>\n",
       "      <td>891</td>\n",
       "      <td>891</td>\n",
       "      <td>204</td>\n",
       "      <td>889</td>\n",
       "    </tr>\n",
       "    <tr>\n",
       "      <th>unique</th>\n",
       "      <td>891</td>\n",
       "      <td>2</td>\n",
       "      <td>681</td>\n",
       "      <td>147</td>\n",
       "      <td>3</td>\n",
       "    </tr>\n",
       "    <tr>\n",
       "      <th>top</th>\n",
       "      <td>Braund, Mr. Owen Harris</td>\n",
       "      <td>male</td>\n",
       "      <td>347082</td>\n",
       "      <td>B96 B98</td>\n",
       "      <td>S</td>\n",
       "    </tr>\n",
       "    <tr>\n",
       "      <th>freq</th>\n",
       "      <td>1</td>\n",
       "      <td>577</td>\n",
       "      <td>7</td>\n",
       "      <td>4</td>\n",
       "      <td>644</td>\n",
       "    </tr>\n",
       "  </tbody>\n",
       "</table>\n",
       "</div>"
      ],
      "text/plain": [
       "                           Name   Sex  Ticket    Cabin Embarked\n",
       "count                       891   891     891      204      889\n",
       "unique                      891     2     681      147        3\n",
       "top     Braund, Mr. Owen Harris  male  347082  B96 B98        S\n",
       "freq                          1   577       7        4      644"
      ]
     },
     "execution_count": 17,
     "metadata": {},
     "output_type": "execute_result"
    }
   ],
   "source": [
    "train_df.describe(include=['O'])"
   ]
  },
  {
   "cell_type": "markdown",
   "id": "289a7c5a",
   "metadata": {},
   "source": [
    "### 데이터 분석을 기반으로 가정하기"
   ]
  },
  {
   "cell_type": "markdown",
   "id": "2177f741",
   "metadata": {},
   "source": [
    "지금까지 수행한 데이터 분석을 기반으로 다음과 같은 가정을 세울 수 있다. 또한, 적절한 조치를 취하기 전에 세운 가정을 추가로 검증할 수 있다."
   ]
  },
  {
   "cell_type": "markdown",
   "id": "e8e9bf37",
   "metadata": {},
   "source": [
    "<b>Correlating.</b><br><br>\n",
    "각 특성을 생존 여부와 어떻게 하면 효과적으로 연관시킬 수 있을지 알고 싶다. 따라서 프로젝트 초기에 상관관계를 빠르게 나타내고, 후반부에 모델링 결과로 얻은 상관 관계와 일치시키길 기대할 수 있다.\n"
   ]
  },
  {
   "cell_type": "markdown",
   "id": "c7c96afc",
   "metadata": {},
   "source": [
    "<b>Completing.</b><br>\n",
    "<ol>\n",
    "    <li>생존 여부와 확실히 연관있을 것으로 추측되는 나이 특성을 완성할 수 있다.</li>\n",
    "    <li>승선 특성 또한 생존 여부 또는 다른 중요한 특성과 관련 있을 수 있으므로 완성할 수 있다.</li>\n",
    "    </ol>"
   ]
  },
  {
   "cell_type": "markdown",
   "id": "3ef6c6b4",
   "metadata": {},
   "source": [
    "<b>Correcting.</b><br>\n",
    "<ol>\n",
    "    <li>티겟 특성은 중복 값의 비율이 높고(22%) 티켓과 생존 여부는 유의미한 관계가 없기에 우리의 분석에서 제외될 수 있다.</li>\n",
    "    <li>객실 특성은 훈련 데이터셋과 테스트 데이터셋 모두 결측치가 너무 많으므로 제외될 수 있다.</li>\n",
    "    <li>승객ID는 생존 여부에 기여할 수 없기에 제외될 수 있다</li>\n",
    "    <li>이름 특성은 비교적 표준적이지 않으며, 생존 여부에 집접적으로 기여할 수 없으므로, 제외될 수 있다.</li>\n",
    "    </ul>"
   ]
  },
  {
   "cell_type": "markdown",
   "id": "22bc3d52",
   "metadata": {},
   "source": [
    "<b>Creating.</b><br>\n",
    "<ol>\n",
    "    <li>Parch와 SibSp 특성을 합하여 승선한 가족 구성원의 수를 나타내는 Family 특성을 새로 생성할 수 있다.</li>\n",
    "    <li>이름 특성을 전처리하여 성을 추출하여 새 특성으로 생성할 수 있다.</li>\n",
    "    <li>연속적인 수치형 특성인 나이를 대신해 순서가 있는 범주형 특성인 연령대를 새로 생성할 수 있다.</li>\n",
    "    <li>또한, 나이와 비슷하게 요금을ㄹ 순서가 있는 범주형 특성으로 만들어 우리의 분석에 도움이 될 수 있다.</li>\n",
    "    </ol>"
   ]
  },
  {
   "cell_type": "markdown",
   "id": "1d469e88",
   "metadata": {},
   "source": [
    "<b>Classifying.</b><br><br>\n",
    "앞서 언급했던 문제 설명을 기반으로 가정을 추가할 수도 있다.\n",
    "<ol>\n",
    "    <li>여성(Sex=female)의 생존율이 더 높다.</li>\n",
    "    <li>아이(Age＜?)의 생존율이 더 높다.</li>\n",
    "    <li>상위 클래스의 승객(Pclass=1)의 생존율이 더 높다.</li>\n",
    "</ol>"
   ]
  },
  {
   "cell_type": "markdown",
   "id": "dc89c764",
   "metadata": {},
   "source": [
    "### 특성을 피벗하면서 분석"
   ]
  },
  {
   "cell_type": "markdown",
   "id": "169b26db",
   "metadata": {},
   "source": [
    "일부 관측치 및 가정을 확인하기 위해 특성을 서로 피벗하여 상관 관계를 빠르게 분석할 수 있다. 이 과정은 결측치가 없는 특성에 대해서만 적용할 수 있다. 또한, 범주형(Sex), 순서형(Pclass) 또는 이산형(SibSp, Parch)에 대해서만 적용하는 것이 합당하다.\n",
    "<ul>\n",
    "    <li><b>Pclass</b><br> Pclass=1과 Survived에서 상당한 상관 관계(>0.5)를 관측할 수 있다(classifying #3). 이에 모델링에 Pclass 특성을 포함하기로 한다.</li>\n",
    "    <li><b>Sex</b><br> 문제 정의에서 언급했듯이, 여성(Sex=female)의 생존율이 74%로 높은 편이다(classifying #1).</li>\n",
    "    <li><b>SibSp and Parch</b><br>특정 값에서 상관 관계가 0인 경우가 있다. 이러한 특성들의 조합으로 새로운 특성을 추출하는 것이 가장 좋을 수 있다(creating #1).</li>\n",
    "    </ul>"
   ]
  },
  {
   "cell_type": "code",
   "execution_count": 21,
   "id": "765bc530",
   "metadata": {
    "ExecuteTime": {
     "end_time": "2022-12-06T17:23:02.593876Z",
     "start_time": "2022-12-06T17:23:02.567769Z"
    }
   },
   "outputs": [
    {
     "data": {
      "text/html": [
       "<div>\n",
       "<style scoped>\n",
       "    .dataframe tbody tr th:only-of-type {\n",
       "        vertical-align: middle;\n",
       "    }\n",
       "\n",
       "    .dataframe tbody tr th {\n",
       "        vertical-align: top;\n",
       "    }\n",
       "\n",
       "    .dataframe thead th {\n",
       "        text-align: right;\n",
       "    }\n",
       "</style>\n",
       "<table border=\"1\" class=\"dataframe\">\n",
       "  <thead>\n",
       "    <tr style=\"text-align: right;\">\n",
       "      <th></th>\n",
       "      <th>Pclass</th>\n",
       "      <th>Survived</th>\n",
       "    </tr>\n",
       "  </thead>\n",
       "  <tbody>\n",
       "    <tr>\n",
       "      <th>0</th>\n",
       "      <td>1</td>\n",
       "      <td>0.629630</td>\n",
       "    </tr>\n",
       "    <tr>\n",
       "      <th>1</th>\n",
       "      <td>2</td>\n",
       "      <td>0.472826</td>\n",
       "    </tr>\n",
       "    <tr>\n",
       "      <th>2</th>\n",
       "      <td>3</td>\n",
       "      <td>0.242363</td>\n",
       "    </tr>\n",
       "  </tbody>\n",
       "</table>\n",
       "</div>"
      ],
      "text/plain": [
       "   Pclass  Survived\n",
       "0       1  0.629630\n",
       "1       2  0.472826\n",
       "2       3  0.242363"
      ]
     },
     "execution_count": 21,
     "metadata": {},
     "output_type": "execute_result"
    }
   ],
   "source": [
    "train_df[['Pclass', 'Survived']].groupby(['Pclass'], as_index=False).mean() \\\n",
    "                                .sort_values(by='Survived', ascending=False)"
   ]
  },
  {
   "cell_type": "code",
   "execution_count": 26,
   "id": "0f5c07b1",
   "metadata": {
    "ExecuteTime": {
     "end_time": "2022-12-06T17:24:25.946812Z",
     "start_time": "2022-12-06T17:24:25.922418Z"
    }
   },
   "outputs": [
    {
     "data": {
      "text/html": [
       "<div>\n",
       "<style scoped>\n",
       "    .dataframe tbody tr th:only-of-type {\n",
       "        vertical-align: middle;\n",
       "    }\n",
       "\n",
       "    .dataframe tbody tr th {\n",
       "        vertical-align: top;\n",
       "    }\n",
       "\n",
       "    .dataframe thead th {\n",
       "        text-align: right;\n",
       "    }\n",
       "</style>\n",
       "<table border=\"1\" class=\"dataframe\">\n",
       "  <thead>\n",
       "    <tr style=\"text-align: right;\">\n",
       "      <th></th>\n",
       "      <th>Sex</th>\n",
       "      <th>Survived</th>\n",
       "    </tr>\n",
       "  </thead>\n",
       "  <tbody>\n",
       "    <tr>\n",
       "      <th>0</th>\n",
       "      <td>female</td>\n",
       "      <td>0.742038</td>\n",
       "    </tr>\n",
       "    <tr>\n",
       "      <th>1</th>\n",
       "      <td>male</td>\n",
       "      <td>0.188908</td>\n",
       "    </tr>\n",
       "  </tbody>\n",
       "</table>\n",
       "</div>"
      ],
      "text/plain": [
       "      Sex  Survived\n",
       "0  female  0.742038\n",
       "1    male  0.188908"
      ]
     },
     "execution_count": 26,
     "metadata": {},
     "output_type": "execute_result"
    }
   ],
   "source": [
    "train_df[['Sex', 'Survived']].groupby(['Sex'], as_index=False).mean() \\\n",
    "                             .sort_values(by='Survived', ascending=False)"
   ]
  },
  {
   "cell_type": "code",
   "execution_count": 27,
   "id": "0cb1955a",
   "metadata": {
    "ExecuteTime": {
     "end_time": "2022-12-06T17:25:45.240412Z",
     "start_time": "2022-12-06T17:25:45.215980Z"
    }
   },
   "outputs": [
    {
     "data": {
      "text/html": [
       "<div>\n",
       "<style scoped>\n",
       "    .dataframe tbody tr th:only-of-type {\n",
       "        vertical-align: middle;\n",
       "    }\n",
       "\n",
       "    .dataframe tbody tr th {\n",
       "        vertical-align: top;\n",
       "    }\n",
       "\n",
       "    .dataframe thead th {\n",
       "        text-align: right;\n",
       "    }\n",
       "</style>\n",
       "<table border=\"1\" class=\"dataframe\">\n",
       "  <thead>\n",
       "    <tr style=\"text-align: right;\">\n",
       "      <th></th>\n",
       "      <th>SibSp</th>\n",
       "      <th>Survived</th>\n",
       "    </tr>\n",
       "  </thead>\n",
       "  <tbody>\n",
       "    <tr>\n",
       "      <th>1</th>\n",
       "      <td>1</td>\n",
       "      <td>0.535885</td>\n",
       "    </tr>\n",
       "    <tr>\n",
       "      <th>2</th>\n",
       "      <td>2</td>\n",
       "      <td>0.464286</td>\n",
       "    </tr>\n",
       "    <tr>\n",
       "      <th>0</th>\n",
       "      <td>0</td>\n",
       "      <td>0.345395</td>\n",
       "    </tr>\n",
       "    <tr>\n",
       "      <th>3</th>\n",
       "      <td>3</td>\n",
       "      <td>0.250000</td>\n",
       "    </tr>\n",
       "    <tr>\n",
       "      <th>4</th>\n",
       "      <td>4</td>\n",
       "      <td>0.166667</td>\n",
       "    </tr>\n",
       "    <tr>\n",
       "      <th>5</th>\n",
       "      <td>5</td>\n",
       "      <td>0.000000</td>\n",
       "    </tr>\n",
       "    <tr>\n",
       "      <th>6</th>\n",
       "      <td>8</td>\n",
       "      <td>0.000000</td>\n",
       "    </tr>\n",
       "  </tbody>\n",
       "</table>\n",
       "</div>"
      ],
      "text/plain": [
       "   SibSp  Survived\n",
       "1      1  0.535885\n",
       "2      2  0.464286\n",
       "0      0  0.345395\n",
       "3      3  0.250000\n",
       "4      4  0.166667\n",
       "5      5  0.000000\n",
       "6      8  0.000000"
      ]
     },
     "execution_count": 27,
     "metadata": {},
     "output_type": "execute_result"
    }
   ],
   "source": [
    "train_df[['SibSp', 'Survived']].groupby(['SibSp'], as_index=False).mean() \\\n",
    "                               .sort_values(by='Survived', ascending=False)"
   ]
  },
  {
   "cell_type": "code",
   "execution_count": 28,
   "id": "36fb7616",
   "metadata": {
    "ExecuteTime": {
     "end_time": "2022-12-06T17:26:38.312523Z",
     "start_time": "2022-12-06T17:26:38.296984Z"
    }
   },
   "outputs": [
    {
     "data": {
      "text/html": [
       "<div>\n",
       "<style scoped>\n",
       "    .dataframe tbody tr th:only-of-type {\n",
       "        vertical-align: middle;\n",
       "    }\n",
       "\n",
       "    .dataframe tbody tr th {\n",
       "        vertical-align: top;\n",
       "    }\n",
       "\n",
       "    .dataframe thead th {\n",
       "        text-align: right;\n",
       "    }\n",
       "</style>\n",
       "<table border=\"1\" class=\"dataframe\">\n",
       "  <thead>\n",
       "    <tr style=\"text-align: right;\">\n",
       "      <th></th>\n",
       "      <th>Parch</th>\n",
       "      <th>Survived</th>\n",
       "    </tr>\n",
       "  </thead>\n",
       "  <tbody>\n",
       "    <tr>\n",
       "      <th>3</th>\n",
       "      <td>3</td>\n",
       "      <td>0.600000</td>\n",
       "    </tr>\n",
       "    <tr>\n",
       "      <th>1</th>\n",
       "      <td>1</td>\n",
       "      <td>0.550847</td>\n",
       "    </tr>\n",
       "    <tr>\n",
       "      <th>2</th>\n",
       "      <td>2</td>\n",
       "      <td>0.500000</td>\n",
       "    </tr>\n",
       "    <tr>\n",
       "      <th>0</th>\n",
       "      <td>0</td>\n",
       "      <td>0.343658</td>\n",
       "    </tr>\n",
       "    <tr>\n",
       "      <th>5</th>\n",
       "      <td>5</td>\n",
       "      <td>0.200000</td>\n",
       "    </tr>\n",
       "    <tr>\n",
       "      <th>4</th>\n",
       "      <td>4</td>\n",
       "      <td>0.000000</td>\n",
       "    </tr>\n",
       "    <tr>\n",
       "      <th>6</th>\n",
       "      <td>6</td>\n",
       "      <td>0.000000</td>\n",
       "    </tr>\n",
       "  </tbody>\n",
       "</table>\n",
       "</div>"
      ],
      "text/plain": [
       "   Parch  Survived\n",
       "3      3  0.600000\n",
       "1      1  0.550847\n",
       "2      2  0.500000\n",
       "0      0  0.343658\n",
       "5      5  0.200000\n",
       "4      4  0.000000\n",
       "6      6  0.000000"
      ]
     },
     "execution_count": 28,
     "metadata": {},
     "output_type": "execute_result"
    }
   ],
   "source": [
    "train_df[['Parch', 'Survived']].groupby(['Parch'], as_index=False).mean() \\\n",
    "                               .sort_values(by='Survived', ascending=False)"
   ]
  },
  {
   "cell_type": "markdown",
   "id": "21f6b6d7",
   "metadata": {},
   "source": [
    "### 데이터를 시각화하여 분석하기"
   ]
  },
  {
   "cell_type": "markdown",
   "id": "7c4aa451",
   "metadata": {},
   "source": [
    "이제 시각화를 통해 데이터를 분석하고 앞서 세운 가정들을 확인할 것이다."
   ]
  },
  {
   "cell_type": "markdown",
   "id": "b3d8b70d",
   "metadata": {},
   "source": [
    "#### Correlating numerical features"
   ]
  },
  {
   "cell_type": "markdown",
   "id": "6c39f34b",
   "metadata": {},
   "source": [
    "수치형 특성들과 생존 여부 간의 상관 관계를 이해하는 것으로 시작해보자."
   ]
  },
  {
   "cell_type": "markdown",
   "id": "803c4b99",
   "metadata": {},
   "source": [
    "히스토그램 차트는 나이 같은 연속적인 수치형 변수를 분석하는 데 유용하며 그 안에서 패턴을 식별하는데 도움이 된다. 히스토그램은 자동으로 빈도 또는 범위의 구간을 설정하여 샘플 분포를 나타낼 수 있다. 이는 특정 구간에 관련된 질문에 답하는데 도움이 된다(유아의 생존율이 더 높은가?)."
   ]
  },
  {
   "cell_type": "markdown",
   "id": "ab49a1a2",
   "metadata": {},
   "source": [
    "히스토그램의 x축은 샘플 또는 승객의 수를 나타낸다."
   ]
  },
  {
   "cell_type": "markdown",
   "id": "560dcac6",
   "metadata": {},
   "source": [
    "<b>Observations.</b>\n",
    "<ul>\n",
    "    <li>유아(Age ≤ 4)의 생존율이 더 높다.</li>\n",
    "    <li>최고령 승객(Age = 80)이 생존했다.</li>\n",
    "    <li>15-25세의 많은 승객이 사망했다.</li>\n",
    "    <li>승객 대부분은 15-35세이다.</li>\n",
    "    </ul>"
   ]
  },
  {
   "cell_type": "markdown",
   "id": "65eac4be",
   "metadata": {},
   "source": [
    "<b>Decisions.</b>\n",
    "앞서 세운 가정을 후속 작업 흐름도 단계에서 결정을 내릴 때 참고한다.\n",
    "<ul>\n",
    "    <li>우리는 모델을 학습시킬 때 나이를 고려해야 한다(가정 classifying #2).</li>\n",
    "    <li>Age 특성의 결측치를 채운다(completing #1).</li>\n",
    "    <li>나이대 나타내는 특성을 생성한다(creating #3).</li>\n",
    "    </ul>"
   ]
  },
  {
   "cell_type": "code",
   "execution_count": 30,
   "id": "17d989f4",
   "metadata": {
    "ExecuteTime": {
     "end_time": "2022-12-06T18:26:32.012561Z",
     "start_time": "2022-12-06T18:26:31.583995Z"
    }
   },
   "outputs": [
    {
     "data": {
      "image/png": "[encoded data removed]",
      "text/plain": [
       "<Figure size 432x216 with 2 Axes>"
      ]
     },
     "metadata": {
      "needs_background": "light"
     },
     "output_type": "display_data"
    }
   ],
   "source": [
    "g = sns.FacetGrid(train_df, col='Survived')\n",
    "g.map(plt.hist, 'Age', bins=20);"
   ]
  },
  {
   "cell_type": "markdown",
   "id": "31b4335f",
   "metadata": {},
   "source": [
    "#### Correlating numerical and ordinal features"
   ]
  },
  {
   "cell_type": "markdown",
   "id": "c4de0513",
   "metadata": {},
   "source": [
    "단일 그래프를 사용하여 상관 관계를 확인하기 위해 여러 특성을 결합할 수 있다. 이는 수치형 특성과 숫자 값을 갖는 범주형 특성을 대상으로 진행할 수 있다. "
   ]
  },
  {
   "cell_type": "markdown",
   "id": "bf714b48",
   "metadata": {},
   "source": [
    "<b>Observations.</b>\n",
    "<ul>\n",
    "    <li>승객의 대부분이 Pclass=3이지만, 사망했다. 가정 classifying #2를 확인한다.</li>\n",
    "    <li>Pclass=2 와 Pclass=3의 유아 승객은 대부분 생존했다. 가정 classifying #2를 추가 검증한다.</li>\n",
    "    <li>Pclass=1인 대부분의 승객은 생존했다. 가정 classifying #3를 확인한다.</li>\n",
    "    <li>각 Pclass의 승객 연령 분포는 다르다.</li>\n",
    "    </ul>"
   ]
  },
  {
   "cell_type": "markdown",
   "id": "8b40fb6a",
   "metadata": {},
   "source": [
    "<b>Decisions.</b>"
   ]
  },
  {
   "cell_type": "markdown",
   "id": "7d83ebe8",
   "metadata": {},
   "source": [
    "- 모델 학습에 Pclass를 고려한다."
   ]
  },
  {
   "cell_type": "code",
   "execution_count": 33,
   "id": "ed8a5c36",
   "metadata": {
    "ExecuteTime": {
     "end_time": "2022-12-06T18:39:49.428660Z",
     "start_time": "2022-12-06T18:39:47.930583Z"
    }
   },
   "outputs": [
    {
     "data": {
      "image/png": "[encoded data removed]",
      "text/plain": [
       "<Figure size 514.88x475.2 with 6 Axes>"
      ]
     },
     "metadata": {
      "needs_background": "light"
     },
     "output_type": "display_data"
    }
   ],
   "source": [
    "grid = sns.FacetGrid(train_df, col='Survived', row='Pclass', height=2.2, aspect=1.6)\n",
    "grid.map(plt.hist, 'Age', alpha=.5, bins=20)\n",
    "grid.add_legend();"
   ]
  },
  {
   "cell_type": "markdown",
   "id": "772cf2b4",
   "metadata": {},
   "source": [
    "#### Correlating categorical features"
   ]
  },
  {
   "cell_type": "markdown",
   "id": "c739cda5",
   "metadata": {},
   "source": [
    "생존 여부와 범주형 특성을 연관시켜본다."
   ]
  },
  {
   "cell_type": "markdown",
   "id": "29098296",
   "metadata": {},
   "source": [
    "<b>Observations.</b>\n",
    "<ul>\n",
    "    <li>여성 승객이 남성 보다 더 많이 생존했다. classifying #1을 확인한다.</li>\n",
    "    <li>Embarked=C에서 남성이 더 높은 생존율을 보이는 예외가 있다. 이는 Pclass와 Embarked, Pclass와 Survived 사이의 상관관계일 수 있으며 Embarked와 Survived 사이의 직접적인 상관관계일 필요는 없다.</li>\n",
    "    <li>Embarked=Q일 때, Pclass=2보다 Pclass=3의 남성 생존율이 더 높다. completing #2를 확인한다.</li>\n",
    "    <li>Pclass=3의 남성 생존율이 Embarked마다 다양하다. Correlating #1을 확인한다.</li>\n",
    "    </ul>"
   ]
  },
  {
   "cell_type": "markdown",
   "id": "e3d129b4",
   "metadata": {},
   "source": [
    "<b>Decisions.</b>\n",
    "<ul>\n",
    "    <li>모델 학습에 Sex 특성을 추가한다.</li>\n",
    "    <li>Embarked 특성을 완성하여 모델 학습에 추가한다.</li>\n",
    "    </ul>"
   ]
  },
  {
   "cell_type": "code",
   "execution_count": 38,
   "id": "60128e29",
   "metadata": {
    "ExecuteTime": {
     "end_time": "2022-12-06T19:00:59.954838Z",
     "start_time": "2022-12-06T19:00:58.526605Z"
    }
   },
   "outputs": [
    {
     "name": "stderr",
     "output_type": "stream",
     "text": [
      "C:\\ProgramData\\Anaconda3\\envs\\myenv\\lib\\site-packages\\seaborn\\axisgrid.py:670: UserWarning: Using the pointplot function without specifying `order` is likely to produce an incorrect plot.\n",
      "  warnings.warn(warning)\n",
      "C:\\ProgramData\\Anaconda3\\envs\\myenv\\lib\\site-packages\\seaborn\\axisgrid.py:675: UserWarning: Using the pointplot function without specifying `hue_order` is likely to produce an incorrect plot.\n",
      "  warnings.warn(warning)\n"
     ]
    },
    {
     "data": {
      "image/png": "[encoded data removed]",
      "text/plain": [
       "<Figure size 323.94x475.2 with 3 Axes>"
      ]
     },
     "metadata": {
      "needs_background": "light"
     },
     "output_type": "display_data"
    }
   ],
   "source": [
    "grid = sns.FacetGrid(train_df, row='Embarked', height=2.2, aspect=1.6)\n",
    "grid.map(sns.pointplot, 'Pclass', 'Survived', 'Sex', palette='deep')\n",
    "grid.add_legend();"
   ]
  },
  {
   "cell_type": "markdown",
   "id": "108c495e",
   "metadata": {
    "ExecuteTime": {
     "end_time": "2022-12-06T18:43:54.331369Z",
     "start_time": "2022-12-06T18:43:54.314862Z"
    }
   },
   "source": [
    "#### Correlating categorical and numerical features"
   ]
  },
  {
   "cell_type": "markdown",
   "id": "7db5ba19",
   "metadata": {},
   "source": []
  },
  {
   "cell_type": "markdown",
   "id": "f04977fe",
   "metadata": {},
   "source": []
  }
 ],
 "metadata": {
  "kernelspec": {
   "display_name": "myenv",
   "language": "python",
   "name": "myenv"
  },
  "language_info": {
   "codemirror_mode": {
    "name": "ipython",
    "version": 3
   },
   "file_extension": ".py",
   "mimetype": "text/x-python",
   "name": "python",
   "nbconvert_exporter": "python",
   "pygments_lexer": "ipython3",
   "version": "3.8.13"
  },
  "toc": {
   "base_numbering": 1,
   "nav_menu": {},
   "number_sections": true,
   "sideBar": true,
   "skip_h1_title": false,
   "title_cell": "Table of Contents",
   "title_sidebar": "Contents",
   "toc_cell": false,
   "toc_position": {},
   "toc_section_display": true,
   "toc_window_display": false
  }
 },
 "nbformat": 4,
 "nbformat_minor": 5
}
