{
 "cells": [
  {
   "cell_type": "markdown",
   "id": "79b0d24c",
   "metadata": {},
   "source": [
    "# Titanic Data Science Solutions"
   ]
  },
  {
   "cell_type": "markdown",
   "id": "efaefcad",
   "metadata": {},
   "source": [
    "<h2> This notebook is a companion to the book <a href='https://www.amazon.com/Data-Science-Solutions-Startup-Workflow/dp/1520545312' target='blank'>Data Science Solutions.</a></h2>"
   ]
  },
  {
   "cell_type": "markdown",
   "id": "6f3de256",
   "metadata": {},
   "source": [
    "The notebook walks us through a typical workflow for solving data science competitions at sites like Kaggle."
   ]
  },
  {
   "cell_type": "markdown",
   "id": "0bc76d1c",
   "metadata": {},
   "source": [
    "There are several excellent notebooks to study data science competition entries. However many will skip some of the explanation on how the solution is developed as these notebooks are developed by experts for experts. The objective of this notebook is to follow a step-by-step workflow, explaining each step and rationale for every decision we take during solution development."
   ]
  },
  {
   "cell_type": "markdown",
   "id": "28667b4e",
   "metadata": {},
   "source": [
    "<h2>Workflow stages</h2>"
   ]
  },
  {
   "cell_type": "markdown",
   "id": "52928484",
   "metadata": {},
   "source": [
    "The competition solution workflow goes through seven stages described in the Data Science Solutions book."
   ]
  },
  {
   "cell_type": "markdown",
   "id": "ab1b7e3a",
   "metadata": {},
   "source": [
    "<ol>\n",
    "    <li>Question or problem definition.</li>\n",
    "    <li>Acquire training and testing data.</li>\n",
    "    <li>Wrangle, prepare, cleanse the data.</li>\n",
    "    <li>Analyze, identify patterns, and explore the data.</li>\n",
    "    <li>Model, predict and solve the problem.</li>\n",
    "    <li>Visualize, report, and present the problem solving steps and final solution.</li>\n",
    "    <li>Supply or submit the results.</li>\n",
    "</ol>"
   ]
  },
  {
   "cell_type": "markdown",
   "id": "6131162e",
   "metadata": {},
   "source": [
    "The workflow indicates general sequence of how each stage may foolow the other. However there are use cases with exceptions."
   ]
  },
  {
   "cell_type": "markdown",
   "id": "8d1cc7bf",
   "metadata": {},
   "source": [
    "<ul>\n",
    "    <li>We may combine multiple workflow stages. We may analyze by visualizing data.</li>\n",
    "    <li>Perform a stage earlier than indicated. We may analyze data before and after wrangling.</li>\n",
    "    <li>Perform a stage multiple times in our workflow. Visualize stage may be used multiple times.</li>\n",
    "    <li>Drop a stage altogether. We may not need supply stage to productize or service enable our dataset for a competition.</li>\n",
    "</ul>"
   ]
  },
  {
   "cell_type": "markdown",
   "id": "239bd104",
   "metadata": {},
   "source": [
    "<h2>Question and problem definition</h2>"
   ]
  },
  {
   "cell_type": "markdown",
   "id": "3cc66716",
   "metadata": {},
   "source": [
    "Competition sites like Kaggle define the problem to solve or questions to ask while providing the datasets for training your data science model and testing the model results against a test dataset. The question or problem definition for Titanic Survival competition is <a href='https://www.kaggle.com/c/titanic' target='blank'>described here at Kaggle.</a>"
   ]
  },
  {
   "cell_type": "markdown",
   "id": "94190492",
   "metadata": {},
   "source": [
    ">Knowing from a training set of samples listing passengers who survived or did not survivie the Titanic disaster, can our model determine based on a given test dataset not containing the survival information, if these passengers in the test dataset survived or not."
   ]
  },
  {
   "cell_type": "markdown",
   "id": "08f683ad",
   "metadata": {},
   "source": [
    "We may also want to develop some early understanding about the domain of our problem. This is described on the <a href='https://www.kaggle.com/c/titanic' target='blank'>Kaggle competition description page here.</a> Here are the highlights to note."
   ]
  },
  {
   "cell_type": "markdown",
   "id": "2e9e74b1",
   "metadata": {},
   "source": [
    "<ul>\n",
    "    <li>On April 15, 1912, during her maiden voyage, the Titanic sank after colliding with an iceberg, killing 1502 out of 2224 passengers and crew. Translated 32% survival rate.</li>\n",
    "    <li>One of the reasons that the shipwreck led to such loss of life was that there were not enough life boats for the passengers and crew.</li>\n",
    "    <li>Although there was some element of luck involved in surviving the sinking, some groups of people were more likely to survive than others, such as women, children, and the upper-class.</li>\n",
    "</ul>"
   ]
  },
  {
   "cell_type": "markdown",
   "id": "31cda8c6",
   "metadata": {},
   "source": [
    "<h3>Workflow goals</h3>"
   ]
  },
  {
   "cell_type": "markdown",
   "id": "b0111b1c",
   "metadata": {},
   "source": [
    "The data science solutions workflow solves for seven major goals."
   ]
  },
  {
   "cell_type": "markdown",
   "id": "d88ca8f0",
   "metadata": {},
   "source": [
    "<b>Classifying.</b> We may want to classify or categorize our samples. We may also want to understand the implications or correlation of different classes with our solution goal."
   ]
  },
  {
   "cell_type": "markdown",
   "id": "2fa5de38",
   "metadata": {},
   "source": [
    "<b>Correlating.</b> One can approach the problem based on available features within the training dataset. Which features within the dataset contribute significantly to our solution goal? Statisticaaly speaking is there a <a href='https://en.wikiversity.org/wiki/Correlation' target='blank'>correlation</a> among a feature and solution goal? As the feature values change does the solution state change as well, and vice-versa? This can be tested both for numerical and categorical features in the given dataset. We may also want to determine correlation among features other than survival for subsequent goals and workflow stages. Correlating certain features may help in creating, completing, or correcting features."
   ]
  }
 ],
 "metadata": {
  "kernelspec": {
   "display_name": "myenv",
   "language": "python",
   "name": "myenv"
  },
  "language_info": {
   "codemirror_mode": {
    "name": "ipython",
    "version": 3
   },
   "file_extension": ".py",
   "mimetype": "text/x-python",
   "name": "python",
   "nbconvert_exporter": "python",
   "pygments_lexer": "ipython3",
   "version": "3.8.13"
  },
  "toc": {
   "base_numbering": 1,
   "nav_menu": {},
   "number_sections": true,
   "sideBar": true,
   "skip_h1_title": false,
   "title_cell": "Table of Contents",
   "title_sidebar": "Contents",
   "toc_cell": false,
   "toc_position": {},
   "toc_section_display": true,
   "toc_window_display": false
  }
 },
 "nbformat": 4,
 "nbformat_minor": 5
}
