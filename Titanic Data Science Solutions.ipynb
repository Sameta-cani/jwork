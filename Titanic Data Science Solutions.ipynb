{
 "cells": [
  {
   "cell_type": "markdown",
   "id": "3a104ac7",
   "metadata": {},
   "source": [
    "# Titanic Data Science Solutions"
   ]
  },
  {
   "cell_type": "markdown",
   "id": "96a787b5",
   "metadata": {},
   "source": [
    "<h2> This notebook is a companion to the book <a href='https://www.amazon.com/Data-Science-Solutions-Startup-Workflow/dp/1520545312' target='blank'>Data Science Solutions.</a></h2>"
   ]
  },
  {
   "cell_type": "markdown",
   "id": "52e77544",
   "metadata": {},
   "source": [
    "The notebook walks us through a typical workflow for solving data science competitions at sites like Kaggle."
   ]
  },
  {
   "cell_type": "markdown",
   "id": "9705db01",
   "metadata": {},
   "source": [
    "There are several excellent notebooks to study data science competition entries. However many will skip some of the explanation on how the solution is developed as these notebooks are developed by experts for experts. The objective of this notebook is to follow a step-by-step workflow, explaining each step and rationale for every decision we take during solution development."
   ]
  },
  {
   "cell_type": "markdown",
   "id": "8e87871b",
   "metadata": {},
   "source": [
    "<h2>Workflow stages</h2>"
   ]
  },
  {
   "cell_type": "markdown",
   "id": "4754233f",
   "metadata": {},
   "source": [
    "The competition solution workflow goes through seven stages described in the Data Science Solutions book."
   ]
  },
  {
   "cell_type": "markdown",
   "id": "b9366584",
   "metadata": {},
   "source": []
  }
 ],
 "metadata": {
  "kernelspec": {
   "display_name": "myenv",
   "language": "python",
   "name": "myenv"
  },
  "language_info": {
   "codemirror_mode": {
    "name": "ipython",
    "version": 3
   },
   "file_extension": ".py",
   "mimetype": "text/x-python",
   "name": "python",
   "nbconvert_exporter": "python",
   "pygments_lexer": "ipython3",
   "version": "3.8.13"
  },
  "toc": {
   "base_numbering": 1,
   "nav_menu": {},
   "number_sections": true,
   "sideBar": true,
   "skip_h1_title": false,
   "title_cell": "Table of Contents",
   "title_sidebar": "Contents",
   "toc_cell": false,
   "toc_position": {},
   "toc_section_display": true,
   "toc_window_display": false
  }
 },
 "nbformat": 4,
 "nbformat_minor": 5
}
