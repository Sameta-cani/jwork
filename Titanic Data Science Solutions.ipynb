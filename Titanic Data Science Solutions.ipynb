{
 "cells": [
  {
   "cell_type": "markdown",
   "id": "79b0d24c",
   "metadata": {},
   "source": [
    "# Titanic Data Science Solutions"
   ]
  },
  {
   "cell_type": "markdown",
   "id": "efaefcad",
   "metadata": {},
   "source": [
    "<h2> This notebook is a companion to the book <a href='https://www.amazon.com/Data-Science-Solutions-Startup-Workflow/dp/1520545312' target='blank'>Data Science Solutions.</a></h2>"
   ]
  },
  {
   "cell_type": "markdown",
   "id": "6f3de256",
   "metadata": {},
   "source": [
    "The notebook walks us through a typical workflow for solving data science competitions at sites like Kaggle."
   ]
  },
  {
   "cell_type": "markdown",
   "id": "0bc76d1c",
   "metadata": {},
   "source": [
    "There are several excellent notebooks to study data science competition entries. However many will skip some of the explanation on how the solution is developed as these notebooks are developed by experts for experts. The objective of this notebook is to follow a step-by-step workflow, explaining each step and rationale for every decision we take during solution development."
   ]
  },
  {
   "cell_type": "markdown",
   "id": "28667b4e",
   "metadata": {},
   "source": [
    "<h2>Workflow stages</h2>"
   ]
  },
  {
   "cell_type": "markdown",
   "id": "52928484",
   "metadata": {},
   "source": [
    "The competition solution workflow goes through seven stages described in the Data Science Solutions book."
   ]
  },
  {
   "cell_type": "markdown",
   "id": "ab1b7e3a",
   "metadata": {},
   "source": [
    "<ol>\n",
    "    <li>Question or problem definition.</li>\n",
    "    <li>Acquire training and testing data.</li>\n",
    "    <li>Wrangle, prepare, cleanse the data.</li>\n",
    "    <li>Analyze, identify patterns, and explore the data.</li>\n",
    "    <li>Model, predict and solve the problem.</li>\n",
    "    <li>Visualize, report, and present the problem solving steps and final solution.</li>\n",
    "    <li>Supply or submit the results.</li>\n",
    "</ol>"
   ]
  },
  {
   "cell_type": "markdown",
   "id": "6131162e",
   "metadata": {},
   "source": [
    "The workflow indicates general sequence of how each stage may foolow the other. However there are use cases with exceptions."
   ]
  },
  {
   "cell_type": "markdown",
   "id": "8d1cc7bf",
   "metadata": {},
   "source": [
    "<ul>\n",
    "    <li>We may combine multiple workflow stages. We may analyze by visualizing data.</li>\n",
    "    <li>Perform a stage earlier than indicated. We may analyze data before and after wrangling.</li>\n",
    "    <li>Perform a stage multiple times in our workflow. Visualize stage may be used multiple times.</li>\n",
    "    <li>Drop a stage altogether. We may not need supply stage to productize or service enable our dataset for a competition.</li>\n",
    "</ul>"
   ]
  },
  {
   "cell_type": "markdown",
   "id": "239bd104",
   "metadata": {},
   "source": [
    "<h2>Question and problem definition</h2>"
   ]
  },
  {
   "cell_type": "markdown",
   "id": "3cc66716",
   "metadata": {},
   "source": [
    "Competition sites like Kaggle define the problem to solve or questions to ask while providing the datasets for training your data science model and testing the model results against a test dataset. The question or problem definition for Titanic Survival competition is <a href='https://www.kaggle.com/c/titanic' target='blank'>described here at Kaggle.</a>"
   ]
  },
  {
   "cell_type": "markdown",
   "id": "94190492",
   "metadata": {},
   "source": [
    ">Knowing from a training set of samples listing passengers who survived or did not survivie the Titanic disaster, can our model determine based on a given test dataset not containing the survival information, if these passengers in the test dataset survived or not."
   ]
  },
  {
   "cell_type": "markdown",
   "id": "08f683ad",
   "metadata": {},
   "source": [
    "We may also want to develop some early understanding about the domain of our problem. This is described on the <a href='https://www.kaggle.com/c/titanic' target='blank'>Kaggle competition description page here.</a> Here are the highlights to note."
   ]
  },
  {
   "cell_type": "markdown",
   "id": "2e9e74b1",
   "metadata": {},
   "source": [
    "<ul>\n",
    "    <li>On April 15, 1912, during her maiden voyage, the Titanic sank after colliding with an iceberg, killing 1502 out of 2224 passengers and crew. Translated 32% survival rate.</li>\n",
    "    <li>One of the reasons that the shipwreck led to such loss of life was that there were not enough life boats for the passengers and crew.</li>\n",
    "    <li>Although there was some element of luck involved in surviving the sinking, some groups of people were more likely to survive than others, such as women, children, and the upper-class.</li>\n",
    "</ul>"
   ]
  },
  {
   "cell_type": "markdown",
   "id": "31cda8c6",
   "metadata": {},
   "source": [
    "<h3>Workflow goals</h3>"
   ]
  },
  {
   "cell_type": "markdown",
   "id": "b0111b1c",
   "metadata": {},
   "source": [
    "The data science solutions workflow solves for seven major goals."
   ]
  },
  {
   "cell_type": "markdown",
   "id": "d88ca8f0",
   "metadata": {},
   "source": [
    "<b>Classifying.</b> We may want to classify or categorize our samples. We may also want to understand the implications or correlation of different classes with our solution goal."
   ]
  },
  {
   "cell_type": "markdown",
   "id": "2fa5de38",
   "metadata": {},
   "source": [
    "<b>Correlating.</b> One can approach the problem based on available features within the training dataset. Which features within the dataset contribute significantly to our solution goal? Statisticaaly speaking is there a <a href='https://en.wikiversity.org/wiki/Correlation' target='blank'>correlation</a> among a feature and solution goal? As the feature values change does the solution state change as well, and vice-versa? This can be tested both for numerical and categorical features in the given dataset. We may also want to determine correlation among features other than survival for subsequent goals and workflow stages. Correlating certain features may help in creating, completing, or correcting features."
   ]
  },
  {
   "cell_type": "markdown",
   "id": "d39991b1",
   "metadata": {},
   "source": [
    "<b>Converting.</b> For modeling stage, one needs to prepare the data. Depending on the choice of model algorithm one may require all features to be converted to numerical equivalent values. So for instance converting text categorical values to numeric values."
   ]
  },
  {
   "cell_type": "markdown",
   "id": "355ed273",
   "metadata": {},
   "source": [
    "<b>Completing.</b> Data preparation may also require us to estimate any missing values within a features. Model algorithms may work best when there are no missing values."
   ]
  },
  {
   "cell_type": "markdown",
   "id": "10c78385",
   "metadata": {},
   "source": [
    "<b>Correcting.</b> We may also analyze the given training dataset for errors or possibly innacurate values within features and try to corrent these values or exclude the samples containing the errors. One way to do this is to detect any outliers among our samples or features. We may also completely discard a feature if it is not contributing to the analysis or may significantly skew the results."
   ]
  },
  {
   "cell_type": "markdown",
   "id": "a23ae8be",
   "metadata": {},
   "source": [
    "<b>Creating.</b> Can we create new features based on an existing feature or a set of features, such that the new feature follows the correlation, conversion, completeness goals."
   ]
  },
  {
   "cell_type": "markdown",
   "id": "2abb45eb",
   "metadata": {},
   "source": [
    "<b>Charting.</b> How to select the right visualization plots and charts depending on nature of the data and the solution golas."
   ]
  },
  {
   "cell_type": "markdown",
   "id": "b4abf3ee",
   "metadata": {},
   "source": [
    "### Refactor Release 2017-Jan-29"
   ]
  },
  {
   "cell_type": "markdown",
   "id": "1e361171",
   "metadata": {},
   "source": [
    "We are significantly refactoring the notebook based on (a) comments received by readers, (b) issues in porting notebook from Jupyter kernel (2.7) to Kaggle kernel(3.5), and (c) review of few more best practie kernels."
   ]
  },
  {
   "cell_type": "markdown",
   "id": "811fad5d",
   "metadata": {},
   "source": [
    "<b>User comments</b>\n",
    "<ul>\n",
    "    <li>Combine training and test data for certain operations like converting titles across dataset to numerical values.</li>\n",
    "    <li>Correct observation - nearly 30% of the passengers had siblings and/or spouses aboard.</li>\n",
    "    <li>Correctly interpreting logistic regression coefficients.</li>\n",
    "</ul>"
   ]
  },
  {
   "cell_type": "markdown",
   "id": "23be7536",
   "metadata": {},
   "source": [
    "<b>Porting issues</b>\n",
    "<ul>\n",
    "    <li>Specify plot dimensions, bring legend into plot.</li>\n",
    "</ul>"
   ]
  },
  {
   "cell_type": "markdown",
   "id": "c63b570a",
   "metadata": {},
   "source": [
    "<b>Best practies</b>\n",
    "<ul>\n",
    "    <li>Performing feature correlation analysis early in the project.</li>\n",
    "    <li>Using multiple plots instead of overlays for readability.</li>\n",
    "</ul>"
   ]
  },
  {
   "cell_type": "code",
   "execution_count": 1,
   "id": "7760cd5a",
   "metadata": {
    "ExecuteTime": {
     "end_time": "2023-04-03T12:56:07.029817Z",
     "start_time": "2023-04-03T12:56:03.352520Z"
    }
   },
   "outputs": [],
   "source": [
    "# data analysis and wrangling\n",
    "import pandas as pd\n",
    "import numpy as np\n",
    "import random as rnd\n",
    "\n",
    "# visualization\n",
    "import seaborn as sns\n",
    "import matplotlib.pyplot as plt\n",
    "%matplotlib inline\n",
    "\n",
    "# machine learning\n",
    "from sklearn.linear_model import LogisticRegression\n",
    "from sklearn.svm import SVC, LinearSVC\n",
    "from sklearn.ensemble import RandomForestClassifier\n",
    "from sklearn.neighbors import KNeighborsClassifier\n",
    "from sklearn.naive_bayes import GaussianNB\n",
    "from sklearn.linear_model import Perceptron\n",
    "from sklearn.linear_model import SGDClassifier\n",
    "from sklearn.tree import DecisionTreeClassifier"
   ]
  },
  {
   "cell_type": "markdown",
   "id": "0136ffc0",
   "metadata": {},
   "source": [
    "### Acquire data"
   ]
  },
  {
   "cell_type": "markdown",
   "id": "9b873373",
   "metadata": {},
   "source": [
    "The Python Pandas packages helps us work with our datasets. We start by acquiring the training and testing datasets into Pandas DataFrames. We also combine these datasets to run certain operations on both datasets together."
   ]
  },
  {
   "cell_type": "code",
   "execution_count": 2,
   "id": "adf62dc4",
   "metadata": {
    "ExecuteTime": {
     "end_time": "2023-04-03T12:56:07.059275Z",
     "start_time": "2023-04-03T12:56:07.031818Z"
    }
   },
   "outputs": [],
   "source": [
    "train_df = pd.read_csv('./datasets/titanic/train.csv')\n",
    "test_df = pd.read_csv('./datasets/titanic/test.csv')\n",
    "combine = [train_df, test_df] # 2개의 DataFrame list"
   ]
  },
  {
   "cell_type": "markdown",
   "id": "2a2aa049",
   "metadata": {
    "ExecuteTime": {
     "end_time": "2023-04-02T14:03:21.240127Z",
     "start_time": "2023-04-02T14:03:21.204870Z"
    }
   },
   "source": [
    "### Analyze by describing data"
   ]
  },
  {
   "cell_type": "markdown",
   "id": "4f31b6fc",
   "metadata": {},
   "source": [
    "Pandas also helps describe the datasets answering following questions early in our project."
   ]
  },
  {
   "cell_type": "markdown",
   "id": "9dd94849",
   "metadata": {},
   "source": [
    "<b>Which features are available inthe dataset?</b>"
   ]
  },
  {
   "cell_type": "markdown",
   "id": "a7eb6748",
   "metadata": {},
   "source": [
    "Noting the feature names for directly manipulating or analyzing these. These feature names are described on the <a href='https://www.kaggle.com/c/titanic/data' target='blank'>Kaggle data page here.</a>"
   ]
  },
  {
   "cell_type": "code",
   "execution_count": 3,
   "id": "66fb647e",
   "metadata": {
    "ExecuteTime": {
     "end_time": "2023-04-03T12:56:07.074126Z",
     "start_time": "2023-04-03T12:56:07.060276Z"
    }
   },
   "outputs": [
    {
     "name": "stdout",
     "output_type": "stream",
     "text": [
      "['PassengerId' 'Survived' 'Pclass' 'Name' 'Sex' 'Age' 'SibSp' 'Parch'\n",
      " 'Ticket' 'Fare' 'Cabin' 'Embarked']\n"
     ]
    }
   ],
   "source": [
    "print(train_df.columns.values)"
   ]
  },
  {
   "cell_type": "markdown",
   "id": "06061fab",
   "metadata": {},
   "source": [
    "<b>Which features are categorical?</b>"
   ]
  },
  {
   "cell_type": "markdown",
   "id": "0590dcd3",
   "metadata": {},
   "source": [
    "These values classify the samples into sets of similar samples. Within categorical features are the values nominal, ordinal, ratio, or interval based? Among other things this helps us select the appropriate plots for visualiation."
   ]
  },
  {
   "cell_type": "markdown",
   "id": "56a90e2e",
   "metadata": {},
   "source": [
    "<li>Categorical: Survived, Sex, and Embarked. Ordinal: Pclass.</li>"
   ]
  },
  {
   "cell_type": "markdown",
   "id": "ef34018e",
   "metadata": {},
   "source": [
    "<b>Which features are numerical?</b>"
   ]
  },
  {
   "cell_type": "markdown",
   "id": "92a7782f",
   "metadata": {},
   "source": [
    "Which features are numerical? These values change from sample to sample. Within numerical features are the values discrete, continuous, or timeseries based? Among other things this helps us select the appropriate plots for visualization."
   ]
  },
  {
   "cell_type": "markdown",
   "id": "91e866eb",
   "metadata": {},
   "source": [
    "<li>Continous: Age, Fare. Discrete: SibSp, Parch.</li>"
   ]
  },
  {
   "cell_type": "code",
   "execution_count": 4,
   "id": "c2c3a9b3",
   "metadata": {
    "ExecuteTime": {
     "end_time": "2023-04-03T12:56:07.103659Z",
     "start_time": "2023-04-03T12:56:07.075940Z"
    }
   },
   "outputs": [
    {
     "data": {
      "text/html": [
       "<div>\n",
       "<style scoped>\n",
       "    .dataframe tbody tr th:only-of-type {\n",
       "        vertical-align: middle;\n",
       "    }\n",
       "\n",
       "    .dataframe tbody tr th {\n",
       "        vertical-align: top;\n",
       "    }\n",
       "\n",
       "    .dataframe thead th {\n",
       "        text-align: right;\n",
       "    }\n",
       "</style>\n",
       "<table border=\"1\" class=\"dataframe\">\n",
       "  <thead>\n",
       "    <tr style=\"text-align: right;\">\n",
       "      <th></th>\n",
       "      <th>PassengerId</th>\n",
       "      <th>Survived</th>\n",
       "      <th>Pclass</th>\n",
       "      <th>Name</th>\n",
       "      <th>Sex</th>\n",
       "      <th>Age</th>\n",
       "      <th>SibSp</th>\n",
       "      <th>Parch</th>\n",
       "      <th>Ticket</th>\n",
       "      <th>Fare</th>\n",
       "      <th>Cabin</th>\n",
       "      <th>Embarked</th>\n",
       "    </tr>\n",
       "  </thead>\n",
       "  <tbody>\n",
       "    <tr>\n",
       "      <th>0</th>\n",
       "      <td>1</td>\n",
       "      <td>0</td>\n",
       "      <td>3</td>\n",
       "      <td>Braund, Mr. Owen Harris</td>\n",
       "      <td>male</td>\n",
       "      <td>22.0</td>\n",
       "      <td>1</td>\n",
       "      <td>0</td>\n",
       "      <td>A/5 21171</td>\n",
       "      <td>7.2500</td>\n",
       "      <td>NaN</td>\n",
       "      <td>S</td>\n",
       "    </tr>\n",
       "    <tr>\n",
       "      <th>1</th>\n",
       "      <td>2</td>\n",
       "      <td>1</td>\n",
       "      <td>1</td>\n",
       "      <td>Cumings, Mrs. John Bradley (Florence Briggs Th...</td>\n",
       "      <td>female</td>\n",
       "      <td>38.0</td>\n",
       "      <td>1</td>\n",
       "      <td>0</td>\n",
       "      <td>PC 17599</td>\n",
       "      <td>71.2833</td>\n",
       "      <td>C85</td>\n",
       "      <td>C</td>\n",
       "    </tr>\n",
       "    <tr>\n",
       "      <th>2</th>\n",
       "      <td>3</td>\n",
       "      <td>1</td>\n",
       "      <td>3</td>\n",
       "      <td>Heikkinen, Miss. Laina</td>\n",
       "      <td>female</td>\n",
       "      <td>26.0</td>\n",
       "      <td>0</td>\n",
       "      <td>0</td>\n",
       "      <td>STON/O2. 3101282</td>\n",
       "      <td>7.9250</td>\n",
       "      <td>NaN</td>\n",
       "      <td>S</td>\n",
       "    </tr>\n",
       "    <tr>\n",
       "      <th>3</th>\n",
       "      <td>4</td>\n",
       "      <td>1</td>\n",
       "      <td>1</td>\n",
       "      <td>Futrelle, Mrs. Jacques Heath (Lily May Peel)</td>\n",
       "      <td>female</td>\n",
       "      <td>35.0</td>\n",
       "      <td>1</td>\n",
       "      <td>0</td>\n",
       "      <td>113803</td>\n",
       "      <td>53.1000</td>\n",
       "      <td>C123</td>\n",
       "      <td>S</td>\n",
       "    </tr>\n",
       "    <tr>\n",
       "      <th>4</th>\n",
       "      <td>5</td>\n",
       "      <td>0</td>\n",
       "      <td>3</td>\n",
       "      <td>Allen, Mr. William Henry</td>\n",
       "      <td>male</td>\n",
       "      <td>35.0</td>\n",
       "      <td>0</td>\n",
       "      <td>0</td>\n",
       "      <td>373450</td>\n",
       "      <td>8.0500</td>\n",
       "      <td>NaN</td>\n",
       "      <td>S</td>\n",
       "    </tr>\n",
       "  </tbody>\n",
       "</table>\n",
       "</div>"
      ],
      "text/plain": [
       "   PassengerId  Survived  Pclass  \\\n",
       "0            1         0       3   \n",
       "1            2         1       1   \n",
       "2            3         1       3   \n",
       "3            4         1       1   \n",
       "4            5         0       3   \n",
       "\n",
       "                                                Name     Sex   Age  SibSp  \\\n",
       "0                            Braund, Mr. Owen Harris    male  22.0      1   \n",
       "1  Cumings, Mrs. John Bradley (Florence Briggs Th...  female  38.0      1   \n",
       "2                             Heikkinen, Miss. Laina  female  26.0      0   \n",
       "3       Futrelle, Mrs. Jacques Heath (Lily May Peel)  female  35.0      1   \n",
       "4                           Allen, Mr. William Henry    male  35.0      0   \n",
       "\n",
       "   Parch            Ticket     Fare Cabin Embarked  \n",
       "0      0         A/5 21171   7.2500   NaN        S  \n",
       "1      0          PC 17599  71.2833   C85        C  \n",
       "2      0  STON/O2. 3101282   7.9250   NaN        S  \n",
       "3      0            113803  53.1000  C123        S  \n",
       "4      0            373450   8.0500   NaN        S  "
      ]
     },
     "execution_count": 4,
     "metadata": {},
     "output_type": "execute_result"
    }
   ],
   "source": [
    "# preview the data\n",
    "train_df.head()"
   ]
  },
  {
   "cell_type": "markdown",
   "id": "a38a6720",
   "metadata": {},
   "source": [
    "<b>Which features are mixed data types?</b>"
   ]
  },
  {
   "cell_type": "markdown",
   "id": "47aac50a",
   "metadata": {},
   "source": [
    "Numerical, alphanumeric data within same feature. These are candidates for correcting goal."
   ]
  },
  {
   "cell_type": "markdown",
   "id": "75082163",
   "metadata": {},
   "source": [
    "<li>Ticket is a mix of numeric and alphanumeric data typs. Cabin is alphanumeric.</li>"
   ]
  },
  {
   "cell_type": "markdown",
   "id": "94fb47e9",
   "metadata": {},
   "source": [
    "<b>Which features may contain errors or typos?</b>"
   ]
  },
  {
   "cell_type": "markdown",
   "id": "8a97605c",
   "metadata": {},
   "source": [
    "This is harder to review for a large dataset, however reviewing a few samples from a smaller dataset may just tell us outright, which features may require correcting."
   ]
  },
  {
   "cell_type": "markdown",
   "id": "de213ff8",
   "metadata": {},
   "source": [
    "<li>Name feature may contain errors or typos as thes are several ways used to describe a name including titles, round bracktes, and quotes used for alternative or short names.</li>"
   ]
  },
  {
   "cell_type": "code",
   "execution_count": 5,
   "id": "1204d8bf",
   "metadata": {
    "ExecuteTime": {
     "end_time": "2023-04-03T12:56:07.119155Z",
     "start_time": "2023-04-03T12:56:07.104660Z"
    }
   },
   "outputs": [
    {
     "data": {
      "text/html": [
       "<div>\n",
       "<style scoped>\n",
       "    .dataframe tbody tr th:only-of-type {\n",
       "        vertical-align: middle;\n",
       "    }\n",
       "\n",
       "    .dataframe tbody tr th {\n",
       "        vertical-align: top;\n",
       "    }\n",
       "\n",
       "    .dataframe thead th {\n",
       "        text-align: right;\n",
       "    }\n",
       "</style>\n",
       "<table border=\"1\" class=\"dataframe\">\n",
       "  <thead>\n",
       "    <tr style=\"text-align: right;\">\n",
       "      <th></th>\n",
       "      <th>PassengerId</th>\n",
       "      <th>Survived</th>\n",
       "      <th>Pclass</th>\n",
       "      <th>Name</th>\n",
       "      <th>Sex</th>\n",
       "      <th>Age</th>\n",
       "      <th>SibSp</th>\n",
       "      <th>Parch</th>\n",
       "      <th>Ticket</th>\n",
       "      <th>Fare</th>\n",
       "      <th>Cabin</th>\n",
       "      <th>Embarked</th>\n",
       "    </tr>\n",
       "  </thead>\n",
       "  <tbody>\n",
       "    <tr>\n",
       "      <th>886</th>\n",
       "      <td>887</td>\n",
       "      <td>0</td>\n",
       "      <td>2</td>\n",
       "      <td>Montvila, Rev. Juozas</td>\n",
       "      <td>male</td>\n",
       "      <td>27.0</td>\n",
       "      <td>0</td>\n",
       "      <td>0</td>\n",
       "      <td>211536</td>\n",
       "      <td>13.00</td>\n",
       "      <td>NaN</td>\n",
       "      <td>S</td>\n",
       "    </tr>\n",
       "    <tr>\n",
       "      <th>887</th>\n",
       "      <td>888</td>\n",
       "      <td>1</td>\n",
       "      <td>1</td>\n",
       "      <td>Graham, Miss. Margaret Edith</td>\n",
       "      <td>female</td>\n",
       "      <td>19.0</td>\n",
       "      <td>0</td>\n",
       "      <td>0</td>\n",
       "      <td>112053</td>\n",
       "      <td>30.00</td>\n",
       "      <td>B42</td>\n",
       "      <td>S</td>\n",
       "    </tr>\n",
       "    <tr>\n",
       "      <th>888</th>\n",
       "      <td>889</td>\n",
       "      <td>0</td>\n",
       "      <td>3</td>\n",
       "      <td>Johnston, Miss. Catherine Helen \"Carrie\"</td>\n",
       "      <td>female</td>\n",
       "      <td>NaN</td>\n",
       "      <td>1</td>\n",
       "      <td>2</td>\n",
       "      <td>W./C. 6607</td>\n",
       "      <td>23.45</td>\n",
       "      <td>NaN</td>\n",
       "      <td>S</td>\n",
       "    </tr>\n",
       "    <tr>\n",
       "      <th>889</th>\n",
       "      <td>890</td>\n",
       "      <td>1</td>\n",
       "      <td>1</td>\n",
       "      <td>Behr, Mr. Karl Howell</td>\n",
       "      <td>male</td>\n",
       "      <td>26.0</td>\n",
       "      <td>0</td>\n",
       "      <td>0</td>\n",
       "      <td>111369</td>\n",
       "      <td>30.00</td>\n",
       "      <td>C148</td>\n",
       "      <td>C</td>\n",
       "    </tr>\n",
       "    <tr>\n",
       "      <th>890</th>\n",
       "      <td>891</td>\n",
       "      <td>0</td>\n",
       "      <td>3</td>\n",
       "      <td>Dooley, Mr. Patrick</td>\n",
       "      <td>male</td>\n",
       "      <td>32.0</td>\n",
       "      <td>0</td>\n",
       "      <td>0</td>\n",
       "      <td>370376</td>\n",
       "      <td>7.75</td>\n",
       "      <td>NaN</td>\n",
       "      <td>Q</td>\n",
       "    </tr>\n",
       "  </tbody>\n",
       "</table>\n",
       "</div>"
      ],
      "text/plain": [
       "     PassengerId  Survived  Pclass                                      Name  \\\n",
       "886          887         0       2                     Montvila, Rev. Juozas   \n",
       "887          888         1       1              Graham, Miss. Margaret Edith   \n",
       "888          889         0       3  Johnston, Miss. Catherine Helen \"Carrie\"   \n",
       "889          890         1       1                     Behr, Mr. Karl Howell   \n",
       "890          891         0       3                       Dooley, Mr. Patrick   \n",
       "\n",
       "        Sex   Age  SibSp  Parch      Ticket   Fare Cabin Embarked  \n",
       "886    male  27.0      0      0      211536  13.00   NaN        S  \n",
       "887  female  19.0      0      0      112053  30.00   B42        S  \n",
       "888  female   NaN      1      2  W./C. 6607  23.45   NaN        S  \n",
       "889    male  26.0      0      0      111369  30.00  C148        C  \n",
       "890    male  32.0      0      0      370376   7.75   NaN        Q  "
      ]
     },
     "execution_count": 5,
     "metadata": {},
     "output_type": "execute_result"
    }
   ],
   "source": [
    "train_df.tail()"
   ]
  },
  {
   "cell_type": "markdown",
   "id": "b348f23f",
   "metadata": {},
   "source": [
    "<b>Which features contain blank, null or empty values?</b>"
   ]
  },
  {
   "cell_type": "markdown",
   "id": "b5394ce3",
   "metadata": {},
   "source": [
    "These will require correcting."
   ]
  },
  {
   "cell_type": "markdown",
   "id": "0dd87a08",
   "metadata": {},
   "source": [
    "<ul>\n",
    "    <li>Cabin > Age > Embarked features contain a number of null values in that order for the training dataset.</li>\n",
    "    <li>Cabin > Age are incomplete in case of test dataset.</li>\n",
    "</ul>"
   ]
  },
  {
   "cell_type": "markdown",
   "id": "b5fdc705",
   "metadata": {},
   "source": [
    "<b>What are the data typse for various features?</b>"
   ]
  },
  {
   "cell_type": "markdown",
   "id": "90220f12",
   "metadata": {},
   "source": [
    "Helping us during converting goal."
   ]
  },
  {
   "cell_type": "markdown",
   "id": "f27268e4",
   "metadata": {},
   "source": [
    "<ul>\n",
    "    <li>Seven features are integer or floats. Six in case of test dataset.</li>\n",
    "    <li>Five features are strings(object).</li>\n",
    "</ul>"
   ]
  },
  {
   "cell_type": "code",
   "execution_count": 6,
   "id": "b36f6338",
   "metadata": {
    "ExecuteTime": {
     "end_time": "2023-04-03T12:56:07.149328Z",
     "start_time": "2023-04-03T12:56:07.121156Z"
    }
   },
   "outputs": [
    {
     "name": "stdout",
     "output_type": "stream",
     "text": [
      "<class 'pandas.core.frame.DataFrame'>\n",
      "RangeIndex: 891 entries, 0 to 890\n",
      "Data columns (total 12 columns):\n",
      " #   Column       Non-Null Count  Dtype  \n",
      "---  ------       --------------  -----  \n",
      " 0   PassengerId  891 non-null    int64  \n",
      " 1   Survived     891 non-null    int64  \n",
      " 2   Pclass       891 non-null    int64  \n",
      " 3   Name         891 non-null    object \n",
      " 4   Sex          891 non-null    object \n",
      " 5   Age          714 non-null    float64\n",
      " 6   SibSp        891 non-null    int64  \n",
      " 7   Parch        891 non-null    int64  \n",
      " 8   Ticket       891 non-null    object \n",
      " 9   Fare         891 non-null    float64\n",
      " 10  Cabin        204 non-null    object \n",
      " 11  Embarked     889 non-null    object \n",
      "dtypes: float64(2), int64(5), object(5)\n",
      "memory usage: 83.7+ KB\n",
      "________________________________________\n",
      "<class 'pandas.core.frame.DataFrame'>\n",
      "RangeIndex: 418 entries, 0 to 417\n",
      "Data columns (total 11 columns):\n",
      " #   Column       Non-Null Count  Dtype  \n",
      "---  ------       --------------  -----  \n",
      " 0   PassengerId  418 non-null    int64  \n",
      " 1   Pclass       418 non-null    int64  \n",
      " 2   Name         418 non-null    object \n",
      " 3   Sex          418 non-null    object \n",
      " 4   Age          332 non-null    float64\n",
      " 5   SibSp        418 non-null    int64  \n",
      " 6   Parch        418 non-null    int64  \n",
      " 7   Ticket       418 non-null    object \n",
      " 8   Fare         417 non-null    float64\n",
      " 9   Cabin        91 non-null     object \n",
      " 10  Embarked     418 non-null    object \n",
      "dtypes: float64(2), int64(4), object(5)\n",
      "memory usage: 36.0+ KB\n"
     ]
    }
   ],
   "source": [
    "train_df.info()\n",
    "print('_' * 40)\n",
    "test_df.info()"
   ]
  },
  {
   "cell_type": "markdown",
   "id": "33d3add1",
   "metadata": {},
   "source": [
    "<b>What is the distribution of numerical feature values across the samples?</b>"
   ]
  },
  {
   "cell_type": "markdown",
   "id": "a62a822d",
   "metadata": {},
   "source": [
    "This helps us determine, among other early insights, how representative is the training dataset of the actual problem domain."
   ]
  },
  {
   "cell_type": "markdown",
   "id": "d605e702",
   "metadata": {},
   "source": [
    "<ul>\n",
    "    <li>Total samples are 891 or 40% of the actual number of passengers on board the Titanic(2,224).</li>\n",
    "    <li>Survived is a categorical feature with 0 or 1 values.</li>\n",
    "    <li>Around 38% samples survived representative of the actual survival rate at 32%.</li>\n",
    "    <li>Most passengers (>75%) did not travel with parents or children.</li>\n",
    "    <li>Nearly 30% of the passengers had siblings and/or spouse aboard.</li>\n",
    "    <li>Fares varied significantly with few passengers (<1%) paying as high as \\$512.</li>\n",
    "    <li>Few elderly passengers (<1%) within age range 65-80.</li>\n",
    "</ul>"
   ]
  },
  {
   "cell_type": "code",
   "execution_count": 7,
   "id": "c78cd979",
   "metadata": {
    "ExecuteTime": {
     "end_time": "2023-04-03T12:56:07.180090Z",
     "start_time": "2023-04-03T12:56:07.151328Z"
    }
   },
   "outputs": [
    {
     "data": {
      "text/html": [
       "<div>\n",
       "<style scoped>\n",
       "    .dataframe tbody tr th:only-of-type {\n",
       "        vertical-align: middle;\n",
       "    }\n",
       "\n",
       "    .dataframe tbody tr th {\n",
       "        vertical-align: top;\n",
       "    }\n",
       "\n",
       "    .dataframe thead th {\n",
       "        text-align: right;\n",
       "    }\n",
       "</style>\n",
       "<table border=\"1\" class=\"dataframe\">\n",
       "  <thead>\n",
       "    <tr style=\"text-align: right;\">\n",
       "      <th></th>\n",
       "      <th>PassengerId</th>\n",
       "      <th>Survived</th>\n",
       "      <th>Pclass</th>\n",
       "      <th>Age</th>\n",
       "      <th>SibSp</th>\n",
       "      <th>Parch</th>\n",
       "      <th>Fare</th>\n",
       "    </tr>\n",
       "  </thead>\n",
       "  <tbody>\n",
       "    <tr>\n",
       "      <th>count</th>\n",
       "      <td>891.000000</td>\n",
       "      <td>891.000000</td>\n",
       "      <td>891.000000</td>\n",
       "      <td>714.000000</td>\n",
       "      <td>891.000000</td>\n",
       "      <td>891.000000</td>\n",
       "      <td>891.000000</td>\n",
       "    </tr>\n",
       "    <tr>\n",
       "      <th>mean</th>\n",
       "      <td>446.000000</td>\n",
       "      <td>0.383838</td>\n",
       "      <td>2.308642</td>\n",
       "      <td>29.699118</td>\n",
       "      <td>0.523008</td>\n",
       "      <td>0.381594</td>\n",
       "      <td>32.204208</td>\n",
       "    </tr>\n",
       "    <tr>\n",
       "      <th>std</th>\n",
       "      <td>257.353842</td>\n",
       "      <td>0.486592</td>\n",
       "      <td>0.836071</td>\n",
       "      <td>14.526497</td>\n",
       "      <td>1.102743</td>\n",
       "      <td>0.806057</td>\n",
       "      <td>49.693429</td>\n",
       "    </tr>\n",
       "    <tr>\n",
       "      <th>min</th>\n",
       "      <td>1.000000</td>\n",
       "      <td>0.000000</td>\n",
       "      <td>1.000000</td>\n",
       "      <td>0.420000</td>\n",
       "      <td>0.000000</td>\n",
       "      <td>0.000000</td>\n",
       "      <td>0.000000</td>\n",
       "    </tr>\n",
       "    <tr>\n",
       "      <th>25%</th>\n",
       "      <td>223.500000</td>\n",
       "      <td>0.000000</td>\n",
       "      <td>2.000000</td>\n",
       "      <td>20.125000</td>\n",
       "      <td>0.000000</td>\n",
       "      <td>0.000000</td>\n",
       "      <td>7.910400</td>\n",
       "    </tr>\n",
       "    <tr>\n",
       "      <th>50%</th>\n",
       "      <td>446.000000</td>\n",
       "      <td>0.000000</td>\n",
       "      <td>3.000000</td>\n",
       "      <td>28.000000</td>\n",
       "      <td>0.000000</td>\n",
       "      <td>0.000000</td>\n",
       "      <td>14.454200</td>\n",
       "    </tr>\n",
       "    <tr>\n",
       "      <th>75%</th>\n",
       "      <td>668.500000</td>\n",
       "      <td>1.000000</td>\n",
       "      <td>3.000000</td>\n",
       "      <td>38.000000</td>\n",
       "      <td>1.000000</td>\n",
       "      <td>0.000000</td>\n",
       "      <td>31.000000</td>\n",
       "    </tr>\n",
       "    <tr>\n",
       "      <th>max</th>\n",
       "      <td>891.000000</td>\n",
       "      <td>1.000000</td>\n",
       "      <td>3.000000</td>\n",
       "      <td>80.000000</td>\n",
       "      <td>8.000000</td>\n",
       "      <td>6.000000</td>\n",
       "      <td>512.329200</td>\n",
       "    </tr>\n",
       "  </tbody>\n",
       "</table>\n",
       "</div>"
      ],
      "text/plain": [
       "       PassengerId    Survived      Pclass         Age       SibSp  \\\n",
       "count   891.000000  891.000000  891.000000  714.000000  891.000000   \n",
       "mean    446.000000    0.383838    2.308642   29.699118    0.523008   \n",
       "std     257.353842    0.486592    0.836071   14.526497    1.102743   \n",
       "min       1.000000    0.000000    1.000000    0.420000    0.000000   \n",
       "25%     223.500000    0.000000    2.000000   20.125000    0.000000   \n",
       "50%     446.000000    0.000000    3.000000   28.000000    0.000000   \n",
       "75%     668.500000    1.000000    3.000000   38.000000    1.000000   \n",
       "max     891.000000    1.000000    3.000000   80.000000    8.000000   \n",
       "\n",
       "            Parch        Fare  \n",
       "count  891.000000  891.000000  \n",
       "mean     0.381594   32.204208  \n",
       "std      0.806057   49.693429  \n",
       "min      0.000000    0.000000  \n",
       "25%      0.000000    7.910400  \n",
       "50%      0.000000   14.454200  \n",
       "75%      0.000000   31.000000  \n",
       "max      6.000000  512.329200  "
      ]
     },
     "execution_count": 7,
     "metadata": {},
     "output_type": "execute_result"
    }
   ],
   "source": [
    "train_df.describe()"
   ]
  },
  {
   "cell_type": "code",
   "execution_count": 8,
   "id": "7e7c675d",
   "metadata": {
    "ExecuteTime": {
     "end_time": "2023-04-03T12:56:07.210385Z",
     "start_time": "2023-04-03T12:56:07.182100Z"
    }
   },
   "outputs": [
    {
     "data": {
      "text/html": [
       "<div>\n",
       "<style scoped>\n",
       "    .dataframe tbody tr th:only-of-type {\n",
       "        vertical-align: middle;\n",
       "    }\n",
       "\n",
       "    .dataframe tbody tr th {\n",
       "        vertical-align: top;\n",
       "    }\n",
       "\n",
       "    .dataframe thead th {\n",
       "        text-align: right;\n",
       "    }\n",
       "</style>\n",
       "<table border=\"1\" class=\"dataframe\">\n",
       "  <thead>\n",
       "    <tr style=\"text-align: right;\">\n",
       "      <th></th>\n",
       "      <th>PassengerId</th>\n",
       "      <th>Survived</th>\n",
       "      <th>Pclass</th>\n",
       "      <th>Age</th>\n",
       "      <th>SibSp</th>\n",
       "      <th>Parch</th>\n",
       "      <th>Fare</th>\n",
       "    </tr>\n",
       "  </thead>\n",
       "  <tbody>\n",
       "    <tr>\n",
       "      <th>count</th>\n",
       "      <td>891.000000</td>\n",
       "      <td>891.000000</td>\n",
       "      <td>891.000000</td>\n",
       "      <td>714.000000</td>\n",
       "      <td>891.000000</td>\n",
       "      <td>891.000000</td>\n",
       "      <td>891.000000</td>\n",
       "    </tr>\n",
       "    <tr>\n",
       "      <th>mean</th>\n",
       "      <td>446.000000</td>\n",
       "      <td>0.383838</td>\n",
       "      <td>2.308642</td>\n",
       "      <td>29.699118</td>\n",
       "      <td>0.523008</td>\n",
       "      <td>0.381594</td>\n",
       "      <td>32.204208</td>\n",
       "    </tr>\n",
       "    <tr>\n",
       "      <th>std</th>\n",
       "      <td>257.353842</td>\n",
       "      <td>0.486592</td>\n",
       "      <td>0.836071</td>\n",
       "      <td>14.526497</td>\n",
       "      <td>1.102743</td>\n",
       "      <td>0.806057</td>\n",
       "      <td>49.693429</td>\n",
       "    </tr>\n",
       "    <tr>\n",
       "      <th>min</th>\n",
       "      <td>1.000000</td>\n",
       "      <td>0.000000</td>\n",
       "      <td>1.000000</td>\n",
       "      <td>0.420000</td>\n",
       "      <td>0.000000</td>\n",
       "      <td>0.000000</td>\n",
       "      <td>0.000000</td>\n",
       "    </tr>\n",
       "    <tr>\n",
       "      <th>50%</th>\n",
       "      <td>446.000000</td>\n",
       "      <td>0.000000</td>\n",
       "      <td>3.000000</td>\n",
       "      <td>28.000000</td>\n",
       "      <td>0.000000</td>\n",
       "      <td>0.000000</td>\n",
       "      <td>14.454200</td>\n",
       "    </tr>\n",
       "    <tr>\n",
       "      <th>61%</th>\n",
       "      <td>543.900000</td>\n",
       "      <td>0.000000</td>\n",
       "      <td>3.000000</td>\n",
       "      <td>32.000000</td>\n",
       "      <td>0.000000</td>\n",
       "      <td>0.000000</td>\n",
       "      <td>23.225000</td>\n",
       "    </tr>\n",
       "    <tr>\n",
       "      <th>62%</th>\n",
       "      <td>552.800000</td>\n",
       "      <td>1.000000</td>\n",
       "      <td>3.000000</td>\n",
       "      <td>32.000000</td>\n",
       "      <td>0.000000</td>\n",
       "      <td>0.000000</td>\n",
       "      <td>24.150000</td>\n",
       "    </tr>\n",
       "    <tr>\n",
       "      <th>max</th>\n",
       "      <td>891.000000</td>\n",
       "      <td>1.000000</td>\n",
       "      <td>3.000000</td>\n",
       "      <td>80.000000</td>\n",
       "      <td>8.000000</td>\n",
       "      <td>6.000000</td>\n",
       "      <td>512.329200</td>\n",
       "    </tr>\n",
       "  </tbody>\n",
       "</table>\n",
       "</div>"
      ],
      "text/plain": [
       "       PassengerId    Survived      Pclass         Age       SibSp  \\\n",
       "count   891.000000  891.000000  891.000000  714.000000  891.000000   \n",
       "mean    446.000000    0.383838    2.308642   29.699118    0.523008   \n",
       "std     257.353842    0.486592    0.836071   14.526497    1.102743   \n",
       "min       1.000000    0.000000    1.000000    0.420000    0.000000   \n",
       "50%     446.000000    0.000000    3.000000   28.000000    0.000000   \n",
       "61%     543.900000    0.000000    3.000000   32.000000    0.000000   \n",
       "62%     552.800000    1.000000    3.000000   32.000000    0.000000   \n",
       "max     891.000000    1.000000    3.000000   80.000000    8.000000   \n",
       "\n",
       "            Parch        Fare  \n",
       "count  891.000000  891.000000  \n",
       "mean     0.381594   32.204208  \n",
       "std      0.806057   49.693429  \n",
       "min      0.000000    0.000000  \n",
       "50%      0.000000   14.454200  \n",
       "61%      0.000000   23.225000  \n",
       "62%      0.000000   24.150000  \n",
       "max      6.000000  512.329200  "
      ]
     },
     "execution_count": 8,
     "metadata": {},
     "output_type": "execute_result"
    }
   ],
   "source": [
    "# Review survived rate using 'percentils=[.61, .62]' knowing our problem\n",
    "# description mentions 38$ survival rate.\n",
    "train_df.describe(percentiles=[.61, .62])"
   ]
  },
  {
   "cell_type": "code",
   "execution_count": 9,
   "id": "ff660e26",
   "metadata": {
    "ExecuteTime": {
     "end_time": "2023-04-03T12:56:07.240969Z",
     "start_time": "2023-04-03T12:56:07.212385Z"
    }
   },
   "outputs": [
    {
     "data": {
      "text/html": [
       "<div>\n",
       "<style scoped>\n",
       "    .dataframe tbody tr th:only-of-type {\n",
       "        vertical-align: middle;\n",
       "    }\n",
       "\n",
       "    .dataframe tbody tr th {\n",
       "        vertical-align: top;\n",
       "    }\n",
       "\n",
       "    .dataframe thead th {\n",
       "        text-align: right;\n",
       "    }\n",
       "</style>\n",
       "<table border=\"1\" class=\"dataframe\">\n",
       "  <thead>\n",
       "    <tr style=\"text-align: right;\">\n",
       "      <th></th>\n",
       "      <th>PassengerId</th>\n",
       "      <th>Survived</th>\n",
       "      <th>Pclass</th>\n",
       "      <th>Age</th>\n",
       "      <th>SibSp</th>\n",
       "      <th>Parch</th>\n",
       "      <th>Fare</th>\n",
       "    </tr>\n",
       "  </thead>\n",
       "  <tbody>\n",
       "    <tr>\n",
       "      <th>count</th>\n",
       "      <td>891.000000</td>\n",
       "      <td>891.000000</td>\n",
       "      <td>891.000000</td>\n",
       "      <td>714.000000</td>\n",
       "      <td>891.000000</td>\n",
       "      <td>891.000000</td>\n",
       "      <td>891.000000</td>\n",
       "    </tr>\n",
       "    <tr>\n",
       "      <th>mean</th>\n",
       "      <td>446.000000</td>\n",
       "      <td>0.383838</td>\n",
       "      <td>2.308642</td>\n",
       "      <td>29.699118</td>\n",
       "      <td>0.523008</td>\n",
       "      <td>0.381594</td>\n",
       "      <td>32.204208</td>\n",
       "    </tr>\n",
       "    <tr>\n",
       "      <th>std</th>\n",
       "      <td>257.353842</td>\n",
       "      <td>0.486592</td>\n",
       "      <td>0.836071</td>\n",
       "      <td>14.526497</td>\n",
       "      <td>1.102743</td>\n",
       "      <td>0.806057</td>\n",
       "      <td>49.693429</td>\n",
       "    </tr>\n",
       "    <tr>\n",
       "      <th>min</th>\n",
       "      <td>1.000000</td>\n",
       "      <td>0.000000</td>\n",
       "      <td>1.000000</td>\n",
       "      <td>0.420000</td>\n",
       "      <td>0.000000</td>\n",
       "      <td>0.000000</td>\n",
       "      <td>0.000000</td>\n",
       "    </tr>\n",
       "    <tr>\n",
       "      <th>50%</th>\n",
       "      <td>446.000000</td>\n",
       "      <td>0.000000</td>\n",
       "      <td>3.000000</td>\n",
       "      <td>28.000000</td>\n",
       "      <td>0.000000</td>\n",
       "      <td>0.000000</td>\n",
       "      <td>14.454200</td>\n",
       "    </tr>\n",
       "    <tr>\n",
       "      <th>75%</th>\n",
       "      <td>668.500000</td>\n",
       "      <td>1.000000</td>\n",
       "      <td>3.000000</td>\n",
       "      <td>38.000000</td>\n",
       "      <td>1.000000</td>\n",
       "      <td>0.000000</td>\n",
       "      <td>31.000000</td>\n",
       "    </tr>\n",
       "    <tr>\n",
       "      <th>80%</th>\n",
       "      <td>713.000000</td>\n",
       "      <td>1.000000</td>\n",
       "      <td>3.000000</td>\n",
       "      <td>41.000000</td>\n",
       "      <td>1.000000</td>\n",
       "      <td>1.000000</td>\n",
       "      <td>39.687500</td>\n",
       "    </tr>\n",
       "    <tr>\n",
       "      <th>max</th>\n",
       "      <td>891.000000</td>\n",
       "      <td>1.000000</td>\n",
       "      <td>3.000000</td>\n",
       "      <td>80.000000</td>\n",
       "      <td>8.000000</td>\n",
       "      <td>6.000000</td>\n",
       "      <td>512.329200</td>\n",
       "    </tr>\n",
       "  </tbody>\n",
       "</table>\n",
       "</div>"
      ],
      "text/plain": [
       "       PassengerId    Survived      Pclass         Age       SibSp  \\\n",
       "count   891.000000  891.000000  891.000000  714.000000  891.000000   \n",
       "mean    446.000000    0.383838    2.308642   29.699118    0.523008   \n",
       "std     257.353842    0.486592    0.836071   14.526497    1.102743   \n",
       "min       1.000000    0.000000    1.000000    0.420000    0.000000   \n",
       "50%     446.000000    0.000000    3.000000   28.000000    0.000000   \n",
       "75%     668.500000    1.000000    3.000000   38.000000    1.000000   \n",
       "80%     713.000000    1.000000    3.000000   41.000000    1.000000   \n",
       "max     891.000000    1.000000    3.000000   80.000000    8.000000   \n",
       "\n",
       "            Parch        Fare  \n",
       "count  891.000000  891.000000  \n",
       "mean     0.381594   32.204208  \n",
       "std      0.806057   49.693429  \n",
       "min      0.000000    0.000000  \n",
       "50%      0.000000   14.454200  \n",
       "75%      0.000000   31.000000  \n",
       "80%      1.000000   39.687500  \n",
       "max      6.000000  512.329200  "
      ]
     },
     "execution_count": 9,
     "metadata": {},
     "output_type": "execute_result"
    }
   ],
   "source": [
    "# Review Parch distribution using 'percentiles=[.75, .8]'\n",
    "train_df.describe(percentiles=[.75, .8])"
   ]
  },
  {
   "cell_type": "code",
   "execution_count": 10,
   "id": "7117b84d",
   "metadata": {
    "ExecuteTime": {
     "end_time": "2023-04-03T12:56:07.270837Z",
     "start_time": "2023-04-03T12:56:07.242970Z"
    }
   },
   "outputs": [
    {
     "data": {
      "text/html": [
       "<div>\n",
       "<style scoped>\n",
       "    .dataframe tbody tr th:only-of-type {\n",
       "        vertical-align: middle;\n",
       "    }\n",
       "\n",
       "    .dataframe tbody tr th {\n",
       "        vertical-align: top;\n",
       "    }\n",
       "\n",
       "    .dataframe thead th {\n",
       "        text-align: right;\n",
       "    }\n",
       "</style>\n",
       "<table border=\"1\" class=\"dataframe\">\n",
       "  <thead>\n",
       "    <tr style=\"text-align: right;\">\n",
       "      <th></th>\n",
       "      <th>PassengerId</th>\n",
       "      <th>Survived</th>\n",
       "      <th>Pclass</th>\n",
       "      <th>Age</th>\n",
       "      <th>SibSp</th>\n",
       "      <th>Parch</th>\n",
       "      <th>Fare</th>\n",
       "    </tr>\n",
       "  </thead>\n",
       "  <tbody>\n",
       "    <tr>\n",
       "      <th>count</th>\n",
       "      <td>891.000000</td>\n",
       "      <td>891.000000</td>\n",
       "      <td>891.000000</td>\n",
       "      <td>714.000000</td>\n",
       "      <td>891.000000</td>\n",
       "      <td>891.000000</td>\n",
       "      <td>891.000000</td>\n",
       "    </tr>\n",
       "    <tr>\n",
       "      <th>mean</th>\n",
       "      <td>446.000000</td>\n",
       "      <td>0.383838</td>\n",
       "      <td>2.308642</td>\n",
       "      <td>29.699118</td>\n",
       "      <td>0.523008</td>\n",
       "      <td>0.381594</td>\n",
       "      <td>32.204208</td>\n",
       "    </tr>\n",
       "    <tr>\n",
       "      <th>std</th>\n",
       "      <td>257.353842</td>\n",
       "      <td>0.486592</td>\n",
       "      <td>0.836071</td>\n",
       "      <td>14.526497</td>\n",
       "      <td>1.102743</td>\n",
       "      <td>0.806057</td>\n",
       "      <td>49.693429</td>\n",
       "    </tr>\n",
       "    <tr>\n",
       "      <th>min</th>\n",
       "      <td>1.000000</td>\n",
       "      <td>0.000000</td>\n",
       "      <td>1.000000</td>\n",
       "      <td>0.420000</td>\n",
       "      <td>0.000000</td>\n",
       "      <td>0.000000</td>\n",
       "      <td>0.000000</td>\n",
       "    </tr>\n",
       "    <tr>\n",
       "      <th>50%</th>\n",
       "      <td>446.000000</td>\n",
       "      <td>0.000000</td>\n",
       "      <td>3.000000</td>\n",
       "      <td>28.000000</td>\n",
       "      <td>0.000000</td>\n",
       "      <td>0.000000</td>\n",
       "      <td>14.454200</td>\n",
       "    </tr>\n",
       "    <tr>\n",
       "      <th>68%</th>\n",
       "      <td>606.200000</td>\n",
       "      <td>1.000000</td>\n",
       "      <td>3.000000</td>\n",
       "      <td>35.000000</td>\n",
       "      <td>0.000000</td>\n",
       "      <td>0.000000</td>\n",
       "      <td>26.307500</td>\n",
       "    </tr>\n",
       "    <tr>\n",
       "      <th>69%</th>\n",
       "      <td>615.100000</td>\n",
       "      <td>1.000000</td>\n",
       "      <td>3.000000</td>\n",
       "      <td>35.000000</td>\n",
       "      <td>1.000000</td>\n",
       "      <td>0.000000</td>\n",
       "      <td>26.550000</td>\n",
       "    </tr>\n",
       "    <tr>\n",
       "      <th>max</th>\n",
       "      <td>891.000000</td>\n",
       "      <td>1.000000</td>\n",
       "      <td>3.000000</td>\n",
       "      <td>80.000000</td>\n",
       "      <td>8.000000</td>\n",
       "      <td>6.000000</td>\n",
       "      <td>512.329200</td>\n",
       "    </tr>\n",
       "  </tbody>\n",
       "</table>\n",
       "</div>"
      ],
      "text/plain": [
       "       PassengerId    Survived      Pclass         Age       SibSp  \\\n",
       "count   891.000000  891.000000  891.000000  714.000000  891.000000   \n",
       "mean    446.000000    0.383838    2.308642   29.699118    0.523008   \n",
       "std     257.353842    0.486592    0.836071   14.526497    1.102743   \n",
       "min       1.000000    0.000000    1.000000    0.420000    0.000000   \n",
       "50%     446.000000    0.000000    3.000000   28.000000    0.000000   \n",
       "68%     606.200000    1.000000    3.000000   35.000000    0.000000   \n",
       "69%     615.100000    1.000000    3.000000   35.000000    1.000000   \n",
       "max     891.000000    1.000000    3.000000   80.000000    8.000000   \n",
       "\n",
       "            Parch        Fare  \n",
       "count  891.000000  891.000000  \n",
       "mean     0.381594   32.204208  \n",
       "std      0.806057   49.693429  \n",
       "min      0.000000    0.000000  \n",
       "50%      0.000000   14.454200  \n",
       "68%      0.000000   26.307500  \n",
       "69%      0.000000   26.550000  \n",
       "max      6.000000  512.329200  "
      ]
     },
     "execution_count": 10,
     "metadata": {},
     "output_type": "execute_result"
    }
   ],
   "source": [
    "# Sibsp distribution '[.68, .69]'\n",
    "train_df.describe(percentiles=[.68, .69])"
   ]
  },
  {
   "cell_type": "code",
   "execution_count": 11,
   "id": "3123283d",
   "metadata": {
    "ExecuteTime": {
     "end_time": "2023-04-03T12:56:07.300620Z",
     "start_time": "2023-04-03T12:56:07.272838Z"
    }
   },
   "outputs": [
    {
     "data": {
      "text/html": [
       "<div>\n",
       "<style scoped>\n",
       "    .dataframe tbody tr th:only-of-type {\n",
       "        vertical-align: middle;\n",
       "    }\n",
       "\n",
       "    .dataframe tbody tr th {\n",
       "        vertical-align: top;\n",
       "    }\n",
       "\n",
       "    .dataframe thead th {\n",
       "        text-align: right;\n",
       "    }\n",
       "</style>\n",
       "<table border=\"1\" class=\"dataframe\">\n",
       "  <thead>\n",
       "    <tr style=\"text-align: right;\">\n",
       "      <th></th>\n",
       "      <th>PassengerId</th>\n",
       "      <th>Survived</th>\n",
       "      <th>Pclass</th>\n",
       "      <th>Age</th>\n",
       "      <th>SibSp</th>\n",
       "      <th>Parch</th>\n",
       "      <th>Fare</th>\n",
       "    </tr>\n",
       "  </thead>\n",
       "  <tbody>\n",
       "    <tr>\n",
       "      <th>count</th>\n",
       "      <td>891.000000</td>\n",
       "      <td>891.000000</td>\n",
       "      <td>891.000000</td>\n",
       "      <td>714.000000</td>\n",
       "      <td>891.000000</td>\n",
       "      <td>891.000000</td>\n",
       "      <td>891.000000</td>\n",
       "    </tr>\n",
       "    <tr>\n",
       "      <th>mean</th>\n",
       "      <td>446.000000</td>\n",
       "      <td>0.383838</td>\n",
       "      <td>2.308642</td>\n",
       "      <td>29.699118</td>\n",
       "      <td>0.523008</td>\n",
       "      <td>0.381594</td>\n",
       "      <td>32.204208</td>\n",
       "    </tr>\n",
       "    <tr>\n",
       "      <th>std</th>\n",
       "      <td>257.353842</td>\n",
       "      <td>0.486592</td>\n",
       "      <td>0.836071</td>\n",
       "      <td>14.526497</td>\n",
       "      <td>1.102743</td>\n",
       "      <td>0.806057</td>\n",
       "      <td>49.693429</td>\n",
       "    </tr>\n",
       "    <tr>\n",
       "      <th>min</th>\n",
       "      <td>1.000000</td>\n",
       "      <td>0.000000</td>\n",
       "      <td>1.000000</td>\n",
       "      <td>0.420000</td>\n",
       "      <td>0.000000</td>\n",
       "      <td>0.000000</td>\n",
       "      <td>0.000000</td>\n",
       "    </tr>\n",
       "    <tr>\n",
       "      <th>10%</th>\n",
       "      <td>90.000000</td>\n",
       "      <td>0.000000</td>\n",
       "      <td>1.000000</td>\n",
       "      <td>14.000000</td>\n",
       "      <td>0.000000</td>\n",
       "      <td>0.000000</td>\n",
       "      <td>7.550000</td>\n",
       "    </tr>\n",
       "    <tr>\n",
       "      <th>20%</th>\n",
       "      <td>179.000000</td>\n",
       "      <td>0.000000</td>\n",
       "      <td>1.000000</td>\n",
       "      <td>19.000000</td>\n",
       "      <td>0.000000</td>\n",
       "      <td>0.000000</td>\n",
       "      <td>7.854200</td>\n",
       "    </tr>\n",
       "    <tr>\n",
       "      <th>30%</th>\n",
       "      <td>268.000000</td>\n",
       "      <td>0.000000</td>\n",
       "      <td>2.000000</td>\n",
       "      <td>22.000000</td>\n",
       "      <td>0.000000</td>\n",
       "      <td>0.000000</td>\n",
       "      <td>8.050000</td>\n",
       "    </tr>\n",
       "    <tr>\n",
       "      <th>40%</th>\n",
       "      <td>357.000000</td>\n",
       "      <td>0.000000</td>\n",
       "      <td>2.000000</td>\n",
       "      <td>25.000000</td>\n",
       "      <td>0.000000</td>\n",
       "      <td>0.000000</td>\n",
       "      <td>10.500000</td>\n",
       "    </tr>\n",
       "    <tr>\n",
       "      <th>50%</th>\n",
       "      <td>446.000000</td>\n",
       "      <td>0.000000</td>\n",
       "      <td>3.000000</td>\n",
       "      <td>28.000000</td>\n",
       "      <td>0.000000</td>\n",
       "      <td>0.000000</td>\n",
       "      <td>14.454200</td>\n",
       "    </tr>\n",
       "    <tr>\n",
       "      <th>60%</th>\n",
       "      <td>535.000000</td>\n",
       "      <td>0.000000</td>\n",
       "      <td>3.000000</td>\n",
       "      <td>31.800000</td>\n",
       "      <td>0.000000</td>\n",
       "      <td>0.000000</td>\n",
       "      <td>21.679200</td>\n",
       "    </tr>\n",
       "    <tr>\n",
       "      <th>70%</th>\n",
       "      <td>624.000000</td>\n",
       "      <td>1.000000</td>\n",
       "      <td>3.000000</td>\n",
       "      <td>36.000000</td>\n",
       "      <td>1.000000</td>\n",
       "      <td>0.000000</td>\n",
       "      <td>27.000000</td>\n",
       "    </tr>\n",
       "    <tr>\n",
       "      <th>80%</th>\n",
       "      <td>713.000000</td>\n",
       "      <td>1.000000</td>\n",
       "      <td>3.000000</td>\n",
       "      <td>41.000000</td>\n",
       "      <td>1.000000</td>\n",
       "      <td>1.000000</td>\n",
       "      <td>39.687500</td>\n",
       "    </tr>\n",
       "    <tr>\n",
       "      <th>90%</th>\n",
       "      <td>802.000000</td>\n",
       "      <td>1.000000</td>\n",
       "      <td>3.000000</td>\n",
       "      <td>50.000000</td>\n",
       "      <td>1.000000</td>\n",
       "      <td>2.000000</td>\n",
       "      <td>77.958300</td>\n",
       "    </tr>\n",
       "    <tr>\n",
       "      <th>99%</th>\n",
       "      <td>882.100000</td>\n",
       "      <td>1.000000</td>\n",
       "      <td>3.000000</td>\n",
       "      <td>65.870000</td>\n",
       "      <td>5.000000</td>\n",
       "      <td>4.000000</td>\n",
       "      <td>249.006220</td>\n",
       "    </tr>\n",
       "    <tr>\n",
       "      <th>max</th>\n",
       "      <td>891.000000</td>\n",
       "      <td>1.000000</td>\n",
       "      <td>3.000000</td>\n",
       "      <td>80.000000</td>\n",
       "      <td>8.000000</td>\n",
       "      <td>6.000000</td>\n",
       "      <td>512.329200</td>\n",
       "    </tr>\n",
       "  </tbody>\n",
       "</table>\n",
       "</div>"
      ],
      "text/plain": [
       "       PassengerId    Survived      Pclass         Age       SibSp  \\\n",
       "count   891.000000  891.000000  891.000000  714.000000  891.000000   \n",
       "mean    446.000000    0.383838    2.308642   29.699118    0.523008   \n",
       "std     257.353842    0.486592    0.836071   14.526497    1.102743   \n",
       "min       1.000000    0.000000    1.000000    0.420000    0.000000   \n",
       "10%      90.000000    0.000000    1.000000   14.000000    0.000000   \n",
       "20%     179.000000    0.000000    1.000000   19.000000    0.000000   \n",
       "30%     268.000000    0.000000    2.000000   22.000000    0.000000   \n",
       "40%     357.000000    0.000000    2.000000   25.000000    0.000000   \n",
       "50%     446.000000    0.000000    3.000000   28.000000    0.000000   \n",
       "60%     535.000000    0.000000    3.000000   31.800000    0.000000   \n",
       "70%     624.000000    1.000000    3.000000   36.000000    1.000000   \n",
       "80%     713.000000    1.000000    3.000000   41.000000    1.000000   \n",
       "90%     802.000000    1.000000    3.000000   50.000000    1.000000   \n",
       "99%     882.100000    1.000000    3.000000   65.870000    5.000000   \n",
       "max     891.000000    1.000000    3.000000   80.000000    8.000000   \n",
       "\n",
       "            Parch        Fare  \n",
       "count  891.000000  891.000000  \n",
       "mean     0.381594   32.204208  \n",
       "std      0.806057   49.693429  \n",
       "min      0.000000    0.000000  \n",
       "10%      0.000000    7.550000  \n",
       "20%      0.000000    7.854200  \n",
       "30%      0.000000    8.050000  \n",
       "40%      0.000000   10.500000  \n",
       "50%      0.000000   14.454200  \n",
       "60%      0.000000   21.679200  \n",
       "70%      0.000000   27.000000  \n",
       "80%      1.000000   39.687500  \n",
       "90%      2.000000   77.958300  \n",
       "99%      4.000000  249.006220  \n",
       "max      6.000000  512.329200  "
      ]
     },
     "execution_count": 11,
     "metadata": {},
     "output_type": "execute_result"
    }
   ],
   "source": [
    "# Age and Fare '[.1, .2, .3, .4, .5, .6, .7, .8, .9, .99]'\n",
    "train_df.describe(percentiles=[.1, .2, .3, .4, .5, .6, .7, .8, .9, .99])"
   ]
  },
  {
   "cell_type": "markdown",
   "id": "b6907eb1",
   "metadata": {},
   "source": [
    "<b>What is the distribution of categorical features?</b>"
   ]
  },
  {
   "cell_type": "markdown",
   "id": "e463dc53",
   "metadata": {},
   "source": [
    "<ul>\n",
    "    <li>Names are unique across the dataset (count=unique=891)</li>\n",
    "    <li>Sex variable as two possible values with 65% male (top=male, freq=877/count=891).</li>\n",
    "    <li>Cabin values have several duplicates across samples. Alternatively several passengers shared a cabin.</li>\n",
    "    <li>Embarked takes these possible values. S port used by most passengers (top=S)</li>\n",
    "    <li>Ticket feature has high ratio (22%) of duplicate values (unique=681).</li>\n",
    "</ul>"
   ]
  },
  {
   "cell_type": "code",
   "execution_count": 12,
   "id": "dcecd713",
   "metadata": {
    "ExecuteTime": {
     "end_time": "2023-04-03T12:56:07.316013Z",
     "start_time": "2023-04-03T12:56:07.302908Z"
    }
   },
   "outputs": [
    {
     "data": {
      "text/html": [
       "<div>\n",
       "<style scoped>\n",
       "    .dataframe tbody tr th:only-of-type {\n",
       "        vertical-align: middle;\n",
       "    }\n",
       "\n",
       "    .dataframe tbody tr th {\n",
       "        vertical-align: top;\n",
       "    }\n",
       "\n",
       "    .dataframe thead th {\n",
       "        text-align: right;\n",
       "    }\n",
       "</style>\n",
       "<table border=\"1\" class=\"dataframe\">\n",
       "  <thead>\n",
       "    <tr style=\"text-align: right;\">\n",
       "      <th></th>\n",
       "      <th>Name</th>\n",
       "      <th>Sex</th>\n",
       "      <th>Ticket</th>\n",
       "      <th>Cabin</th>\n",
       "      <th>Embarked</th>\n",
       "    </tr>\n",
       "  </thead>\n",
       "  <tbody>\n",
       "    <tr>\n",
       "      <th>count</th>\n",
       "      <td>891</td>\n",
       "      <td>891</td>\n",
       "      <td>891</td>\n",
       "      <td>204</td>\n",
       "      <td>889</td>\n",
       "    </tr>\n",
       "    <tr>\n",
       "      <th>unique</th>\n",
       "      <td>891</td>\n",
       "      <td>2</td>\n",
       "      <td>681</td>\n",
       "      <td>147</td>\n",
       "      <td>3</td>\n",
       "    </tr>\n",
       "    <tr>\n",
       "      <th>top</th>\n",
       "      <td>Braund, Mr. Owen Harris</td>\n",
       "      <td>male</td>\n",
       "      <td>347082</td>\n",
       "      <td>B96 B98</td>\n",
       "      <td>S</td>\n",
       "    </tr>\n",
       "    <tr>\n",
       "      <th>freq</th>\n",
       "      <td>1</td>\n",
       "      <td>577</td>\n",
       "      <td>7</td>\n",
       "      <td>4</td>\n",
       "      <td>644</td>\n",
       "    </tr>\n",
       "  </tbody>\n",
       "</table>\n",
       "</div>"
      ],
      "text/plain": [
       "                           Name   Sex  Ticket    Cabin Embarked\n",
       "count                       891   891     891      204      889\n",
       "unique                      891     2     681      147        3\n",
       "top     Braund, Mr. Owen Harris  male  347082  B96 B98        S\n",
       "freq                          1   577       7        4      644"
      ]
     },
     "execution_count": 12,
     "metadata": {},
     "output_type": "execute_result"
    }
   ],
   "source": [
    "train_df.describe(include='O')"
   ]
  },
  {
   "cell_type": "markdown",
   "id": "071d6eb1",
   "metadata": {},
   "source": [
    "### Assumtions based on data analysis"
   ]
  },
  {
   "cell_type": "markdown",
   "id": "fef5d280",
   "metadata": {},
   "source": [
    "We arrive at following assumptions based on data analysis done so far. We may validate these assuptions further before taking appropriate actions."
   ]
  },
  {
   "cell_type": "markdown",
   "id": "068ad505",
   "metadata": {},
   "source": [
    "<b>Correlating.</b>"
   ]
  },
  {
   "cell_type": "markdown",
   "id": "9f69deda",
   "metadata": {},
   "source": [
    "We want to know how well does each feature correlate with Survival. We want to do this early in our project and match these quick correlations with modelled correlations later in the project."
   ]
  },
  {
   "cell_type": "markdown",
   "id": "d4026ac2",
   "metadata": {},
   "source": [
    "<b>Completing.</b>"
   ]
  },
  {
   "cell_type": "markdown",
   "id": "7783ea37",
   "metadata": {},
   "source": [
    "<ol>\n",
    "    <li>We may want to complete Age feature as it is definitely correlated to survival.</li>\n",
    "    <li>We may want to complete the Embarked feature as it may also correlate with survival or another important feature.</li>\n",
    "</ol>"
   ]
  },
  {
   "cell_type": "markdown",
   "id": "85d62892",
   "metadata": {},
   "source": [
    "<b>Correcting.</b>"
   ]
  },
  {
   "cell_type": "markdown",
   "id": "e48d89ac",
   "metadata": {},
   "source": [
    "<ol>\n",
    "    <li>Ticket feature may be dropped from our analysis as it contains high ratio of duplicates (22%) and there may not be a correlation between Ticket and survival.</li>\n",
    "    <li>Cabin feature may be dropped as it is highly incomplete or contains many null values both in training and test dataset.</li>\n",
    "    <li>PassengerId may be dropped from training dataset as it does not contribute to survival.</li>\n",
    "    <li>Name feature is relatively non-standard, may not contribute directly to survival, so maybe dropped.</li>\n",
    "</ol>"
   ]
  },
  {
   "cell_type": "markdown",
   "id": "ba851d54",
   "metadata": {},
   "source": [
    "<b>Creating.</b>"
   ]
  },
  {
   "cell_type": "markdown",
   "id": "0fd68847",
   "metadata": {},
   "source": [
    "<ol>\n",
    "    <li>We may want to create a new feature called Family based on Parch and SibSp to get total count of family members on board.</li>\n",
    "    <li>We may want to engineer the Name feature to extract Title as a new feature.</li>\n",
    "    <li>We may want to create new feature for Age bands. This turns a continous numerical feature into an ordinal categorical feature.</li>\n",
    "    <li>We may also want to create a Fare range feature if it helps our analysis.</li>\n",
    "</ol>"
   ]
  },
  {
   "cell_type": "markdown",
   "id": "4a0fea77",
   "metadata": {},
   "source": [
    "<b>Classifying.</b>"
   ]
  },
  {
   "cell_type": "markdown",
   "id": "d1838eb3",
   "metadata": {},
   "source": [
    "We may also add to our assumptions based on the problem description noted earlier."
   ]
  },
  {
   "cell_type": "markdown",
   "id": "ee00bcb6",
   "metadata": {},
   "source": [
    "<ol>\n",
    "    <li>Women (Sex=female) were more likely to have survived.</li>\n",
    "    <li>Children (Age < ?) were more likely to have survived.</li>\n",
    "    <li>The upper-class passengers (Pclass=1) were more likely to have survived.</li>\n",
    "</ol>"
   ]
  },
  {
   "cell_type": "markdown",
   "id": "f745d50a",
   "metadata": {},
   "source": [
    "## Analyze by pivoting features"
   ]
  },
  {
   "cell_type": "markdown",
   "id": "6479d93d",
   "metadata": {},
   "source": [
    "To confirm some of our observations and assuptions, we can quickly analyze our feature orrelations by pivoting features against each other. We can only do so at this stage for features which do not have any empty values. It also makes sense doing so only for features which categorical (Sex), ordinal (Pcalss) or discrete (SibSp, Parck) type."
   ]
  },
  {
   "cell_type": "markdown",
   "id": "d984579f",
   "metadata": {},
   "source": [
    "<ul>\n",
    "    <li><b>Pclass</b> We observe significant correlation (>0.5) among Pclass=1 and Survived (classifying #3). We decide to include this feature in our model.</li>\n",
    "    <li><b>Sex</b> We confirm the observation during problem definition that Sex=female had very high survival rate at 74% (classifying #1).</li>\n",
    "    <li><b>SibSp and Parch</b> These features have zero correlation for certain values. It may be best to derive a feature or a set of features from these indicidual features (creating #1).</li>\n",
    "</ul>"
   ]
  },
  {
   "cell_type": "code",
   "execution_count": 18,
   "id": "3b1da018",
   "metadata": {
    "ExecuteTime": {
     "end_time": "2023-04-03T13:54:45.203838Z",
     "start_time": "2023-04-03T13:54:45.185598Z"
    }
   },
   "outputs": [
    {
     "data": {
      "text/html": [
       "<div>\n",
       "<style scoped>\n",
       "    .dataframe tbody tr th:only-of-type {\n",
       "        vertical-align: middle;\n",
       "    }\n",
       "\n",
       "    .dataframe tbody tr th {\n",
       "        vertical-align: top;\n",
       "    }\n",
       "\n",
       "    .dataframe thead th {\n",
       "        text-align: right;\n",
       "    }\n",
       "</style>\n",
       "<table border=\"1\" class=\"dataframe\">\n",
       "  <thead>\n",
       "    <tr style=\"text-align: right;\">\n",
       "      <th></th>\n",
       "      <th>Pclass</th>\n",
       "      <th>Survived</th>\n",
       "    </tr>\n",
       "  </thead>\n",
       "  <tbody>\n",
       "    <tr>\n",
       "      <th>0</th>\n",
       "      <td>1</td>\n",
       "      <td>0.629630</td>\n",
       "    </tr>\n",
       "    <tr>\n",
       "      <th>1</th>\n",
       "      <td>2</td>\n",
       "      <td>0.472826</td>\n",
       "    </tr>\n",
       "    <tr>\n",
       "      <th>2</th>\n",
       "      <td>3</td>\n",
       "      <td>0.242363</td>\n",
       "    </tr>\n",
       "  </tbody>\n",
       "</table>\n",
       "</div>"
      ],
      "text/plain": [
       "   Pclass  Survived\n",
       "0       1  0.629630\n",
       "1       2  0.472826\n",
       "2       3  0.242363"
      ]
     },
     "execution_count": 18,
     "metadata": {},
     "output_type": "execute_result"
    }
   ],
   "source": [
    "train_df[['Pclass', 'Survived']].groupby(['Pclass'], as_index=False)\\\n",
    "                                 .mean()\\\n",
    "                                 .sort_values(by='Survived', ascending=False)"
   ]
  },
  {
   "cell_type": "code",
   "execution_count": 26,
   "id": "d42549ac",
   "metadata": {
    "ExecuteTime": {
     "end_time": "2023-04-03T13:57:04.770921Z",
     "start_time": "2023-04-03T13:57:04.761191Z"
    }
   },
   "outputs": [
    {
     "data": {
      "text/html": [
       "<div>\n",
       "<style scoped>\n",
       "    .dataframe tbody tr th:only-of-type {\n",
       "        vertical-align: middle;\n",
       "    }\n",
       "\n",
       "    .dataframe tbody tr th {\n",
       "        vertical-align: top;\n",
       "    }\n",
       "\n",
       "    .dataframe thead th {\n",
       "        text-align: right;\n",
       "    }\n",
       "</style>\n",
       "<table border=\"1\" class=\"dataframe\">\n",
       "  <thead>\n",
       "    <tr style=\"text-align: right;\">\n",
       "      <th></th>\n",
       "      <th>Sex</th>\n",
       "      <th>Survived</th>\n",
       "    </tr>\n",
       "  </thead>\n",
       "  <tbody>\n",
       "    <tr>\n",
       "      <th>0</th>\n",
       "      <td>female</td>\n",
       "      <td>0.742038</td>\n",
       "    </tr>\n",
       "    <tr>\n",
       "      <th>1</th>\n",
       "      <td>male</td>\n",
       "      <td>0.188908</td>\n",
       "    </tr>\n",
       "  </tbody>\n",
       "</table>\n",
       "</div>"
      ],
      "text/plain": [
       "      Sex  Survived\n",
       "0  female  0.742038\n",
       "1    male  0.188908"
      ]
     },
     "execution_count": 26,
     "metadata": {},
     "output_type": "execute_result"
    }
   ],
   "source": [
    "train_df[[\"Sex\", \"Survived\"]].groupby(['Sex'], as_index=False)\\\n",
    "                             .mean()\\\n",
    "                             .sort_values(by='Survived', ascending=False)"
   ]
  },
  {
   "cell_type": "code",
   "execution_count": 27,
   "id": "7e3c9b3b",
   "metadata": {
    "ExecuteTime": {
     "end_time": "2023-04-03T13:57:33.197032Z",
     "start_time": "2023-04-03T13:57:33.179108Z"
    }
   },
   "outputs": [
    {
     "data": {
      "text/html": [
       "<div>\n",
       "<style scoped>\n",
       "    .dataframe tbody tr th:only-of-type {\n",
       "        vertical-align: middle;\n",
       "    }\n",
       "\n",
       "    .dataframe tbody tr th {\n",
       "        vertical-align: top;\n",
       "    }\n",
       "\n",
       "    .dataframe thead th {\n",
       "        text-align: right;\n",
       "    }\n",
       "</style>\n",
       "<table border=\"1\" class=\"dataframe\">\n",
       "  <thead>\n",
       "    <tr style=\"text-align: right;\">\n",
       "      <th></th>\n",
       "      <th>SibSp</th>\n",
       "      <th>Survived</th>\n",
       "    </tr>\n",
       "  </thead>\n",
       "  <tbody>\n",
       "    <tr>\n",
       "      <th>1</th>\n",
       "      <td>1</td>\n",
       "      <td>0.535885</td>\n",
       "    </tr>\n",
       "    <tr>\n",
       "      <th>2</th>\n",
       "      <td>2</td>\n",
       "      <td>0.464286</td>\n",
       "    </tr>\n",
       "    <tr>\n",
       "      <th>0</th>\n",
       "      <td>0</td>\n",
       "      <td>0.345395</td>\n",
       "    </tr>\n",
       "    <tr>\n",
       "      <th>3</th>\n",
       "      <td>3</td>\n",
       "      <td>0.250000</td>\n",
       "    </tr>\n",
       "    <tr>\n",
       "      <th>4</th>\n",
       "      <td>4</td>\n",
       "      <td>0.166667</td>\n",
       "    </tr>\n",
       "    <tr>\n",
       "      <th>5</th>\n",
       "      <td>5</td>\n",
       "      <td>0.000000</td>\n",
       "    </tr>\n",
       "    <tr>\n",
       "      <th>6</th>\n",
       "      <td>8</td>\n",
       "      <td>0.000000</td>\n",
       "    </tr>\n",
       "  </tbody>\n",
       "</table>\n",
       "</div>"
      ],
      "text/plain": [
       "   SibSp  Survived\n",
       "1      1  0.535885\n",
       "2      2  0.464286\n",
       "0      0  0.345395\n",
       "3      3  0.250000\n",
       "4      4  0.166667\n",
       "5      5  0.000000\n",
       "6      8  0.000000"
      ]
     },
     "execution_count": 27,
     "metadata": {},
     "output_type": "execute_result"
    }
   ],
   "source": [
    "train_df[[\"SibSp\", \"Survived\"]].groupby(['SibSp'], as_index=False)\\\n",
    "                               .mean()\\\n",
    "                               .sort_values(by='Survived', ascending=False)"
   ]
  },
  {
   "cell_type": "code",
   "execution_count": 29,
   "id": "19bdd7b8",
   "metadata": {
    "ExecuteTime": {
     "end_time": "2023-04-03T13:58:28.135850Z",
     "start_time": "2023-04-03T13:58:28.125421Z"
    }
   },
   "outputs": [
    {
     "data": {
      "text/html": [
       "<div>\n",
       "<style scoped>\n",
       "    .dataframe tbody tr th:only-of-type {\n",
       "        vertical-align: middle;\n",
       "    }\n",
       "\n",
       "    .dataframe tbody tr th {\n",
       "        vertical-align: top;\n",
       "    }\n",
       "\n",
       "    .dataframe thead th {\n",
       "        text-align: right;\n",
       "    }\n",
       "</style>\n",
       "<table border=\"1\" class=\"dataframe\">\n",
       "  <thead>\n",
       "    <tr style=\"text-align: right;\">\n",
       "      <th></th>\n",
       "      <th>Parch</th>\n",
       "      <th>Survived</th>\n",
       "    </tr>\n",
       "  </thead>\n",
       "  <tbody>\n",
       "    <tr>\n",
       "      <th>3</th>\n",
       "      <td>3</td>\n",
       "      <td>0.600000</td>\n",
       "    </tr>\n",
       "    <tr>\n",
       "      <th>1</th>\n",
       "      <td>1</td>\n",
       "      <td>0.550847</td>\n",
       "    </tr>\n",
       "    <tr>\n",
       "      <th>2</th>\n",
       "      <td>2</td>\n",
       "      <td>0.500000</td>\n",
       "    </tr>\n",
       "    <tr>\n",
       "      <th>0</th>\n",
       "      <td>0</td>\n",
       "      <td>0.343658</td>\n",
       "    </tr>\n",
       "    <tr>\n",
       "      <th>5</th>\n",
       "      <td>5</td>\n",
       "      <td>0.200000</td>\n",
       "    </tr>\n",
       "    <tr>\n",
       "      <th>4</th>\n",
       "      <td>4</td>\n",
       "      <td>0.000000</td>\n",
       "    </tr>\n",
       "    <tr>\n",
       "      <th>6</th>\n",
       "      <td>6</td>\n",
       "      <td>0.000000</td>\n",
       "    </tr>\n",
       "  </tbody>\n",
       "</table>\n",
       "</div>"
      ],
      "text/plain": [
       "   Parch  Survived\n",
       "3      3  0.600000\n",
       "1      1  0.550847\n",
       "2      2  0.500000\n",
       "0      0  0.343658\n",
       "5      5  0.200000\n",
       "4      4  0.000000\n",
       "6      6  0.000000"
      ]
     },
     "execution_count": 29,
     "metadata": {},
     "output_type": "execute_result"
    }
   ],
   "source": [
    "train_df[[\"Parch\", \"Survived\"]].groupby([\"Parch\"], as_index=False)\\\n",
    "                               .mean()\\\n",
    "                               .sort_values(by='Survived', ascending=False)"
   ]
  },
  {
   "cell_type": "markdown",
   "id": "e400185a",
   "metadata": {},
   "source": [
    "## Analyze by visualizing data"
   ]
  },
  {
   "cell_type": "markdown",
   "id": "fd9463e3",
   "metadata": {},
   "source": [
    "Now we can continue confirming some of our assumptions using visualizations for analyzing the data."
   ]
  },
  {
   "cell_type": "markdown",
   "id": "d18cb228",
   "metadata": {},
   "source": [
    "### Correlating numerical features"
   ]
  },
  {
   "cell_type": "markdown",
   "id": "5063ce6d",
   "metadata": {},
   "source": [
    "Let us start by understanding correlations between numerical features and our solution goal (Survived)."
   ]
  },
  {
   "cell_type": "markdown",
   "id": "60f50dd2",
   "metadata": {},
   "source": [
    "A histogram chart is useful for analyzing continous numerical variables like Age where like Age where banding or ranges will help identify usefull patterns. The histogram can indicate distribution of samples using automatically defined bins or equally ranged bands. This helps us answer questions relating to specific bands (Did infants have better survival rate?)"
   ]
  },
  {
   "cell_type": "markdown",
   "id": "2e7f0c91",
   "metadata": {},
   "source": [
    "Note that x-axis in histogram visualizations represents the count of samples or passengers."
   ]
  },
  {
   "cell_type": "markdown",
   "id": "44c1db4f",
   "metadata": {},
   "source": [
    "<b>Observations</b>"
   ]
  },
  {
   "cell_type": "markdown",
   "id": "d7f9dd02",
   "metadata": {},
   "source": [
    "<ul>\n",
    "    <li>Infants (Age <= 4) had high survival rate.</li>\n",
    "    <li>Oldest passengers (Age=80) survived.</li>\n",
    "    <li>Large number of 15-25 year olds did not survive.</li>\n",
    "    <li>Most passengers are in 15-35 age range.</li>\n",
    "</ul>"
   ]
  },
  {
   "cell_type": "markdown",
   "id": "36d215a7",
   "metadata": {},
   "source": [
    "<b>Decisions</b>"
   ]
  },
  {
   "cell_type": "markdown",
   "id": "e149281a",
   "metadata": {},
   "source": [
    "This simple analysis confirms our assumptions as decisions for subsequent workflow stages."
   ]
  },
  {
   "cell_type": "markdown",
   "id": "b9ffcaa4",
   "metadata": {},
   "source": [
    "<ul>\n",
    "    <li>We should consider Age (our assumption classifying #2) in our model training.</li>\n",
    "    <li>Complete the Age feature for null values (completing #1).</li>\n",
    "    <li>We should band age groups (creating #3).</li>\n",
    "</ul>"
   ]
  },
  {
   "cell_type": "code",
   "execution_count": 31,
   "id": "02a15455",
   "metadata": {
    "ExecuteTime": {
     "end_time": "2023-04-03T14:46:08.450624Z",
     "start_time": "2023-04-03T14:46:08.247659Z"
    }
   },
   "outputs": [
    {
     "data": {
      "image/png": "[encoded data removed]",
      "text/plain": [
       "<Figure size 432x216 with 2 Axes>"
      ]
     },
     "metadata": {
      "needs_background": "light"
     },
     "output_type": "display_data"
    }
   ],
   "source": [
    "g = sns.FacetGrid(train_df, col='Survived')\n",
    "g.map(plt.hist, 'Age', bins=20);"
   ]
  },
  {
   "cell_type": "markdown",
   "id": "0c7bd622",
   "metadata": {},
   "source": []
  },
  {
   "cell_type": "markdown",
   "id": "af93ba29",
   "metadata": {},
   "source": []
  },
  {
   "cell_type": "markdown",
   "id": "39f4d34c",
   "metadata": {},
   "source": []
  },
  {
   "cell_type": "markdown",
   "id": "fbbb5f70",
   "metadata": {},
   "source": []
  },
  {
   "cell_type": "markdown",
   "id": "45f842ec",
   "metadata": {},
   "source": []
  },
  {
   "cell_type": "markdown",
   "id": "b0c222a4",
   "metadata": {},
   "source": []
  }
 ],
 "metadata": {
  "kernelspec": {
   "display_name": "myenv",
   "language": "python",
   "name": "myenv"
  },
  "language_info": {
   "codemirror_mode": {
    "name": "ipython",
    "version": 3
   },
   "file_extension": ".py",
   "mimetype": "text/x-python",
   "name": "python",
   "nbconvert_exporter": "python",
   "pygments_lexer": "ipython3",
   "version": "3.8.13"
  },
  "toc": {
   "base_numbering": 1,
   "nav_menu": {},
   "number_sections": true,
   "sideBar": true,
   "skip_h1_title": false,
   "title_cell": "Table of Contents",
   "title_sidebar": "Contents",
   "toc_cell": false,
   "toc_position": {},
   "toc_section_display": true,
   "toc_window_display": false
  }
 },
 "nbformat": 4,
 "nbformat_minor": 5
}
