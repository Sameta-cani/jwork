{
 "cells": [
  {
   "cell_type": "markdown",
   "id": "5a8dd2d6",
   "metadata": {},
   "source": [
    "# Titanic Data Science Solutions"
   ]
  },
  {
   "cell_type": "markdown",
   "id": "0c69d90b",
   "metadata": {},
   "source": [
    "이 노트북 파일은 <a href='https://www.amazon.com/Data-Science-Solutions-Startup-Workflow/dp/1520545312' target='blank'>Data Science Solutions</a>을 참고했다."
   ]
  },
  {
   "cell_type": "markdown",
   "id": "ec3dcf96",
   "metadata": {},
   "source": [
    "본 내용은 Kaggle의 Data science competitions에서 문제를 해결하는 일반적인 작업 흐름도를 제공한다."
   ]
  },
  {
   "cell_type": "markdown",
   "id": "11fd9816",
   "metadata": {},
   "source": [
    "Data science competitions의 출품작에는 공부하기 좋은 몇 가지 훌륭한 노트북 파일이 있다. 하지만, 대부분이 왜 이런 방법을 고안했는지에 대한 설명을 생략한 채 작성되었다. 이러한 노트북 파일은 전문가를 위해 전문가가 작성하였다. 이 노트북 파일의 목적은 단계별 작업 흐름도를 따른다. 즉, 해결 방안을 제시하는 각 단계에서 선택한 결정에 대한 합당한 이유를 다룰 것이다."
   ]
  },
  {
   "cell_type": "markdown",
   "id": "76bb0a14",
   "metadata": {},
   "source": [
    "## Workflow stages"
   ]
  },
  {
   "cell_type": "markdown",
   "id": "ba604ea7",
   "metadata": {},
   "source": [
    "책 Data Science Solutions에서는 competitions 해결을 위해 7단계의 작업 흐름도를 설명한다.\n",
    "<ol>\n",
    "    <li>문제 정의하기</li>\n",
    "    <li>학습 데이터와 테스트 데이터 구하기</li>\n",
    "    <li>데이터 전처리</li>\n",
    "    <li>데이터 분석, 패턴 확인, 탐색</li>\n",
    "    <li>모델링, 예측과 문제 해결</li>\n",
    "    <li>시각화, 문서화 그리고 문제 해결 단계와 최종 방안 정리</li>\n",
    "    <li>결과 제출</li>\n",
    "</ol>\n",
    "작업 흐름도는 각 단계가 어떻게 다른 단계를 따르는지에 대한 일반적인 순서를 나타낸다. 그러나 예외가 있는 사례도 있다.\n",
    "<ul>\n",
    "    <li>여러 개의 작업 흐름도 단계를 결합할 수 있고, 데이터를 시각화하여 분석할 수도 있다.</li>\n",
    "    <li>앞서 정의한 단계보다 일찍 다른 작업을 진행할 수 있다. 예를 들어 전처리를 하기 전에 데이터 분석을 우선으로 할 수 있다.</li>\n",
    "    <li>작업 흐름도가 여러 번 반복될 수도 있다. 예를 들어 시각화 단계는 여러번 진행될 수 있다.</li>\n",
    "    <li>특정 한 단계를 생략할 수 있다. 이는 경쟁을 위해 데이터 세트를 생산하거나 서비스하기 위해 공급 단계가 필요하지 않을 수도 있다는 걸 의미한다.</li>\n",
    "    </ul>"
   ]
  },
  {
   "cell_type": "markdown",
   "id": "2c52dac5",
   "metadata": {},
   "source": [
    "## 문제 정의하기"
   ]
  },
  {
   "cell_type": "markdown",
   "id": "32824db7",
   "metadata": {},
   "source": [
    "Kaggle과 같은 경쟁 사이트는 모델을 학습시키고 테스트하기 위한 데이터를 제공하면서 해결하길 원하는 문제를 정의한다. 타이타닉 생존 경쟁에 대한 자세한 내용은 <a href='https://www.kaggle.com/c/titanic' target='blank'>다음 페이지</a>를 참고하자.\n",
    "\n",
    "    타이타닉 참사에서 살아남았거나, 살아남지 못한 승객에 대한 훈련 데이터를 통해 모델을 학습한다. 그리고 이 모델을 기반으로, 생존 여부를 포함하지 않은 테스트 데이터가 주어졌을 때 해당 승객이 생존했는지, 그렇지 않은지 예측할 수 있다."
   ]
  },
  {
   "cell_type": "markdown",
   "id": "0345eff1",
   "metadata": {},
   "source": [
    "또한, 해당 문제의 배경에 대해 알고 싶을 수 있다. 이에 대한 내용은 <a href='https://www.kaggle.com/c/titanic' taget='blank'>Kaggle competition description page</a>에 자세히 나와있다. 다음은 해당 페이지에서의 주요 내용이다.\n",
    "<ul>\n",
    "    <li>1912년 4월 15일, 항해 중인 타이타닉호가 빙산과 충돌 후 침몰하여, 승객과 승무원 총 2,224명 중 1,502명이 사망하였다. 즉, 32%만이 생존하였다.</li>\n",
    "    <li>난파선이 이 정도의 인명 피해를 입게 된 이유 중하나는 승객과 승무원을 위한 구명보트가 충분하지 않았기 때문이다.</li>\n",
    "    <li>비록 침몰에서 살아남는 데 운이 좋았던 이유도 있겠지만, 여성, 어린이 그리고 상류층과 같은 특정 그룹의 사람이 다른 사람보다 생존할 가능성이 더 높았다.</li>\n",
    "    </ul>"
   ]
  },
  {
   "cell_type": "markdown",
   "id": "ef4e6426",
   "metadata": {},
   "source": [
    "### 작업 흐름도의 목표"
   ]
  },
  {
   "cell_type": "markdown",
   "id": "3dddb456",
   "metadata": {},
   "source": [
    "본 데이터 사이언스 작업 흐름도는 7개의 목표를 다룬다.<br><br>\n",
    "<b>Classifying.</b>샘플을 분류 또는 그룹화하여 그들간의 상관관계나 영향력을 이해한다.<br><br>\n",
    "<b>Correlating.</b>학습 데이터셋에서 사용할 수 있는 특성을 기반으로 문제에 접근할 수 있다. 데이터셋에서 어떤 특성이 생존 여부에 가장 크게 영향을 미치는가? 특성과 최종 값 사이에 통계적으로 <a href='https://en.wikiversity.org/wiki/Correlation' target='blank'>상관성</a>이 있는가? 특성 값이 바뀌면 생존 여부도 바뀌는가? 그 반대는 어떠한가? 이는 주어진 데이터셋의 수치 및 범주형 특성 모두에 대해 테스트할 수 있다. 또한, 후속 연구 및 작업 흐름도 단계를 위해 특성 간의 상관관계를 결정할 수 있다. 특정 특성을 조합하면 creating, completing 또는 correcting하는 데 도움이 될 수 있다.<br><br>\n",
    "<b>Converting.</b>모델링 단계를 위해, 데이터를 전처리할 필요가 있다. 어떤 모델 알고리즘을 선택할 지에 따라 모든 특성을 수치형 값으로 변환해야 할 수도 있다. 예를 들어, 텍스트 범주형 데이터를 수치형 값으로 변환한다.<br><br>\n",
    "<b>Completing.</b> 데이터 전처리는 특성에서 결측치를 채워야할 수 있다. 모델 알고리즘은 결측치가 없을 때 최고의 성능을 내기 때문이다.<br><br>\n",
    "<b>Correcting.</b>주어진 훈련 데이터셋을 분석하여 이상치 또는 특이치를 찾아 수정하거나 제외할 수 있다. 이러한 값들은 분석에 도움을 주지 않거나 결과를 크게 왜곡할 수 있으므로 완전히 삭제할 수도 있다.<br><br>\n",
    "<b>Creating.</b>새로운 특성이 상관 관계, 변환, 완전성의 목표를 따르도록 기존의 특성을 기반으로 새로운 특성을 만든다.<br><br>\n",
    "<b>Charting.</b>데이터셋과 생존 여부의 관계성을 자연스럽게 나타낼 수 있는 시각화를 선택한다."
   ]
  },
  {
   "cell_type": "code",
   "execution_count": 17,
   "id": "9a54d0e2",
   "metadata": {
    "ExecuteTime": {
     "end_time": "2022-12-05T18:56:00.963338Z",
     "start_time": "2022-12-05T18:56:00.942224Z"
    }
   },
   "outputs": [],
   "source": [
    "# data analysis and wrangling\n",
    "import pandas as pd\n",
    "import numpy as np\n",
    "import random as rnd\n",
    "\n",
    "# visualization\n",
    "import seaborn as sns\n",
    "import matplotlib.pyplot as plt\n",
    "%matplotlib inline\n",
    "\n",
    "# machine learning\n",
    "from sklearn.linear_model import LogisticRegression, Perceptron, SGDClassifier\n",
    "from sklearn.svm import SVC, LinearSVC\n",
    "from sklearn.ensemble import RandomForestClassifier\n",
    "from sklearn.neighbors import KNeighborsClassifier\n",
    "from sklearn.naive_bayes import GaussianNB\n",
    "from sklearn.tree import DecisionTreeClassifier"
   ]
  },
  {
   "cell_type": "markdown",
   "id": "ca2c83e6",
   "metadata": {},
   "source": [
    "## 학습 데이터와 테스트 데이터 구하기"
   ]
  },
  {
   "cell_type": "markdown",
   "id": "29cf8ad7",
   "metadata": {},
   "source": [
    "파이썬의 판다스 패키지는 데이터셋을 편리하게 다룰 수 있게 해준다. 우선 학습 데이터와 테스트 데이터셋을 구해 판다스의 데이터프레임으로 만든다. 또한, 이들을 병합해 두 데이터셋 전부에 특정한 처리를 할 수 있도록 한다."
   ]
  },
  {
   "cell_type": "code",
   "execution_count": 20,
   "id": "d91028c0",
   "metadata": {
    "ExecuteTime": {
     "end_time": "2022-12-05T19:00:52.179399Z",
     "start_time": "2022-12-05T19:00:52.153512Z"
    }
   },
   "outputs": [],
   "source": [
    "train_df = pd.read_csv('./datasets/titanic/train.csv')\n",
    "test_df = pd.read_csv('./datasets/titanic/test.csv')\n",
    "combine = [train_df, test_df]"
   ]
  },
  {
   "cell_type": "markdown",
   "id": "705fe351",
   "metadata": {},
   "source": [
    "### 데이터를 탐색하며 분석하기"
   ]
  },
  {
   "cell_type": "markdown",
   "id": "b399a9e9",
   "metadata": {},
   "source": [
    "판다스는 프로젝트 초기에 다음 질문에 대답하는데 도움이 된다."
   ]
  },
  {
   "cell_type": "markdown",
   "id": "c4cb791e",
   "metadata": {},
   "source": [
    "<b>데이터셋에서 사용할 수 있는 특성은 무엇인가?</b>"
   ]
  },
  {
   "cell_type": "markdown",
   "id": "108c159f",
   "metadata": {},
   "source": [
    "직접 조작하거나 분석하기 위해 특성 이름을 알아두는게 좋다. 이 특성들에 대한 자세한 설명은 <a href='https://www.kaggle.com/c/titanic/data' target='blank'>Kaggle data page</a>를 참고하도록 한다."
   ]
  },
  {
   "cell_type": "code",
   "execution_count": 21,
   "id": "f163026e",
   "metadata": {
    "ExecuteTime": {
     "end_time": "2022-12-05T19:05:31.309128Z",
     "start_time": "2022-12-05T19:05:31.292202Z"
    }
   },
   "outputs": [
    {
     "name": "stdout",
     "output_type": "stream",
     "text": [
      "['PassengerId' 'Survived' 'Pclass' 'Name' 'Sex' 'Age' 'SibSp' 'Parch'\n",
      " 'Ticket' 'Fare' 'Cabin' 'Embarked']\n"
     ]
    }
   ],
   "source": [
    "print(train_df.columns.values)"
   ]
  },
  {
   "cell_type": "markdown",
   "id": "b4c57b68",
   "metadata": {},
   "source": [
    "<b>어떤 특성이 범주형인가?</b>"
   ]
  },
  {
   "cell_type": "markdown",
   "id": "dc9e08d9",
   "metadata": {},
   "source": []
  }
 ],
 "metadata": {
  "kernelspec": {
   "display_name": "myenv",
   "language": "python",
   "name": "myenv"
  },
  "language_info": {
   "codemirror_mode": {
    "name": "ipython",
    "version": 3
   },
   "file_extension": ".py",
   "mimetype": "text/x-python",
   "name": "python",
   "nbconvert_exporter": "python",
   "pygments_lexer": "ipython3",
   "version": "3.8.13"
  },
  "toc": {
   "base_numbering": 1,
   "nav_menu": {},
   "number_sections": true,
   "sideBar": true,
   "skip_h1_title": false,
   "title_cell": "Table of Contents",
   "title_sidebar": "Contents",
   "toc_cell": false,
   "toc_position": {},
   "toc_section_display": true,
   "toc_window_display": false
  }
 },
 "nbformat": 4,
 "nbformat_minor": 5
}
