{
 "cells": [
  {
   "cell_type": "markdown",
   "id": "6ce41dbe",
   "metadata": {},
   "source": [
    "# 설정"
   ]
  },
  {
   "cell_type": "code",
   "execution_count": 4,
   "id": "c590f36f",
   "metadata": {
    "ExecuteTime": {
     "end_time": "2023-01-07T13:11:26.453892Z",
     "start_time": "2023-01-07T13:11:25.336528Z"
    }
   },
   "outputs": [],
   "source": [
    "# 파이썬 ≥3.5 필수\n",
    "import sys\n",
    "assert sys.version_info >= (3, 5)\n",
    "\n",
    "# 사이킷런 ≥0.20 필수\n",
    "import sklearn\n",
    "assert sklearn.__version__ >= \"0.20\"\n",
    "\n",
    "# 공통 모듈 임포트\n",
    "import numpy as np\n",
    "import os\n",
    "\n",
    "# 노트북 실행 결과를 동일하게 유지하기 위해\n",
    "np.random.seed(42)\n",
    "\n",
    "# 깔끔한 그래프 출력을 위해\n",
    "%matplotlib inline\n",
    "import matplotlib as mpl\n",
    "import matplotlib.pyplot as plt\n",
    "mpl.rc('axes', labelsize=14)\n",
    "mpl.rc('xtick', labelsize=12)\n",
    "mpl.rc('ytick', labelsize=12)\n",
    "\n",
    "# 그림을 저장할 위치\n",
    "PROJECT_ROOT_DIR = \".\"\n",
    "CHAPTER_ID = \"model_selection\"\n",
    "IMAGES_PATH = os.path.join(PROJECT_ROOT_DIR, \"images\", CHAPTER_ID)\n",
    "os.makedirs(IMAGES_PATH, exist_ok=True)\n",
    "\n",
    "def save_fig(fig_id, tight_layout=True, fig_extension=\"png\", resolution=300):\n",
    "    path = os.path.join(IMAGES_PATH, fig_id + \".\" + fig_extension)\n",
    "    if tight_layout:\n",
    "        plt.tight_layout()\n",
    "    plt.savefig(path, format=fig_extension, dpi=resolution)"
   ]
  },
  {
   "cell_type": "markdown",
   "id": "cfed3710",
   "metadata": {},
   "source": [
    "# k-겹 교차 검증을 사용한 모델 성능 평가"
   ]
  },
  {
   "cell_type": "markdown",
   "id": "59381a9d",
   "metadata": {},
   "source": [
    "머신 러닝 모델을 구축하는 핵심 단계 중 하나는 처음 본 데이터에 대한 모델 성능을 추정하는 것이다. 훈련 세트에서 모델을 학습하고 같은 데이터로 새로운 데이터에 얼마나 잘 동작하는지 추정한다고 가정해 보자. 이는 모델이 너무 간단하면 과소적합(높은 편향)이 문제가 되고 너무 복잡하면 훈련 데이터에 과대적합(높은 분산)될 수 있다. 또한 고정된 학습 데이터와 테스트 데이터로 평가를 하다 보면 테스트 데이터에만 최적의 성능을 발휘할 수 있도록 편향되게 모델을 유도하는 경향이 생기게 된다. 결국은 해당 테스트 데이터에만 과적합되는 학습 모델이 만들어져 다른 테스트 데이터가 들어올 경우에는 성능이 저하된다."
   ]
  },
  {
   "cell_type": "markdown",
   "id": "bbd9a8de",
   "metadata": {},
   "source": [
    "적절한 편향-분산 트레이드오프를 찾으려면 모델을 주의 깊게 평가해야 한다. 여기서는 보편적인 교차 검증 기법인 <b>홀드아웃 교차 검증</b><sup>holdout cross-validation</sup>과 <b>k-겹 교차 검증</b><sup>k-fold cross-validation</sup>을 배우겠다. 이런 방법들은 모델의 일반화 성능, 즉 처음 본 데이터에 모델이 얼마나 잘 동작하는지 신뢰할 만한 추정을 하도록 도와준다."
   ]
  },
  {
   "cell_type": "markdown",
   "id": "a5e6ba19",
   "metadata": {},
   "source": [
    "## 홀드아웃 방법"
   ]
  },
  {
   "cell_type": "markdown",
   "id": "02e1f289",
   "metadata": {},
   "source": [
    "전통적이고 널리 사용되는 머신 러닝 모델의 일반화 성능 추정 방법은 홀드아웃 교차 검증이다. 홀드 아웃 방법은 초기 데이터셋을 별도의 훈련 세트와 테스트 세트로 나눈다. 전자는 모델 훈련에 사용하고 후자는 일반화 성능을 추정하는 데 사용한다. 일반적인 머신 러닝 애플리케이션에서는 처음 본 데이터에서 예측 성능을 높이기 위해 하이퍼파라미터를 튜닝하고 비교해야 한다. 이 과정을 모델 선택이라고 한다. 모델 선택이란 용어는 주어진 분류 문제에서 튜닝할 파라미터(또는 하이퍼파라미터)의 최적 값을 선택해야 하는 것을 의미한다. 모델 선택에 같은 테스트 세트를 반복해서 재사용하면 훈련 세트의 일부가 되는 셈이고 결국 모델은 과대적합될 것이다. 아직도 많은 사람이 모델 선택을 위해 테스트 세트를 사용한다. 이는 좋은 머신 러닝 작업 방식이 아니다."
   ]
  },
  {
   "cell_type": "markdown",
   "id": "1a0a34ca",
   "metadata": {},
   "source": [
    "모델 선택에 홀드아웃 방법을 사용하는 가장 좋은 방법은 데이터를 훈련 세트, 검증 세트, 테스트 세트 세 개의 부분으로 나누는 것이다. 훈련 세트는 여러 가지 모델을 훈련하는 데 사용한다. 검증 세트에 대한 성능은 모델 선택에 사용한다. 훈련과 모델 선택 단게에서 모델이 만나지 못한 테스트 세트를 분리했기 때문에 새로운 데이터에 대한 일반화 능력을 덜 편향되게 추정할 수 있는 장점이 있다. [그림 1]는 홀드아웃 교차 검증의 개념을 보여 준다. 검증 세트를 사용하여 반복적으로 다른 파라미터 값에서 모델을 훈련한 후 성능을 평가한다. 만족할 만한 하이퍼파라미터 값을 얻었다면 테스트 세트에서 모델의 일반화 성능을 추정한다."
   ]
  },
  {
   "cell_type": "markdown",
   "id": "dc5b7a9a",
   "metadata": {},
   "source": [
    "<b>그림 1</b> 홀드아웃 교차 검증\n",
    "<div style=\"text-align:center;\">\n",
    "    <img src=\"./images/model_selection/홀드아웃 교차 검증.jpg\">\n",
    "</div>"
   ]
  },
  {
   "cell_type": "markdown",
   "id": "a26a04bd",
   "metadata": {},
   "source": [
    "홀드아웃 방법은 훈련 데이터를 훈련 세트와 검증 세트로 나누는 방법에 따라 성능 추정이 민감할 수 있다는 것이 단점이다. 검증 세트의 성능 추정이 어떤 샘플을 사용하느냐에 따라 달라질 것이다."
   ]
  },
  {
   "cell_type": "markdown",
   "id": "691319d3",
   "metadata": {},
   "source": [
    "## k-겹 교차 검증"
   ]
  },
  {
   "cell_type": "markdown",
   "id": "90f571d6",
   "metadata": {},
   "source": [
    "k-겹 교차 검증에서는 중복을 허락하지 않고 훈련 데이터셋을 k개의 폴드로 랜덤하게 나눈다. k-1개의 폴드로 모델을 훈련하고 나머지 하나의 폴드로 성능을 평가한다. 이 과정을 k번 반복하여 k개의 모델과 성능 추정을 얻는다."
   ]
  },
  {
   "cell_type": "markdown",
   "id": "3e590d80",
   "metadata": {},
   "source": [
    "그다음 서로 다른 독립적인 폴드에서 얻은 성능 추정을 기반으로 모델의 평균 성능을 계산한다. 홀드아웃 방법에 비해 훈련 세트의 분할에 덜 민감한 성능 추정을 얻을 수 있다. 일반적으로 모델 튜닝에 k-겹 교차 검증을 사용한다. 즉, 만족할 만한 일반화 성능을 내는 최적의 하이퍼파라미터 값을 찾기 위해 사용한다."
   ]
  },
  {
   "cell_type": "markdown",
   "id": "08240974",
   "metadata": {},
   "source": [
    "만족스러운 하이퍼파라미터 값을 찾은 후에는 전체 훈련 세트를 사용하여 모델을 다시 훈련한다. 그다음 독립적인 테스트 세트를 사용하여 최종 성능 추정을 한다. k-겹 교차 검증 후에 전체 훈련 세트로 모델을 학습하는 이유는 훈련 샘플이 많을수록 학습 알고리즘이 더 정확하고 안정적인 모델을 만들기 때문이다."
   ]
  },
  {
   "cell_type": "markdown",
   "id": "123ef961",
   "metadata": {},
   "source": [
    "k-겹 교차 검증이 중복을 허락하지 않는 리샘플링 기법이기 때문에 모든 샘플 포인트가 훈련하는 동안 (테스트 폴드로) 검증에 딱 한 번 사용되는 장점이 있다.<sup><a id=\"a01\" href=\"p01\">[1]</a></sup> 이로 인해 홀드아웃 방법보다 모델 성능의 추정에 분산이 낮다. [그림 2]는 k=10일 때 k-겹 교차 검증의 개념을 요약한 것이다. 훈련 데이터는 열 개의 폴드로 나누어지고 열 번의 반복 동안 아홉 개의 폴드는 훈련에, 한 개의 폴드는 모델 평가를 위해 사용된다. 각 폴드의 추정 성능 $E_i$(예를 들어 분류 정확도 또는 오차)를 사용하여 모델의 평균 성능 $E$를 계산한다."
   ]
  },
  {
   "cell_type": "markdown",
   "id": "4a82684d",
   "metadata": {},
   "source": [
    "<b>그림 2</b> k-겹 교차 검증\n",
    "<div style=\"text-align:center;\">\n",
    "    <img src=\"./images/model_selection/홀드아웃 교차 검증.jpg\">\n",
    "</div>"
   ]
  },
  {
   "cell_type": "markdown",
   "id": "a72e2b20",
   "metadata": {},
   "source": [
    "경험적으로 보았을 때 k-겹 교차 검증에서 좋은 기본값은 k=10이다. 예를 들어 론 코하비<sup>Ron Kohavi</sup>는 여러 종류의 실제 데이터셋에서 수행한 실험을 통해 10-겹 교차 검증이 가장 뛰어난 편향-분산 트레이드오프를 가진다고 제안했다.<sup><a id=\"a02\" href=\"#p02\">[2]</a></sup>"
   ]
  },
  {
   "cell_type": "markdown",
   "id": "3c503a5c",
   "metadata": {},
   "source": [
    "비교적 작은 훈련 세트로 작업한다면 폴드 개수를 늘리는 것이 좋다. k 값이 증가하면 더 많은 훈련 데이터가 각 반복에 사용되고 모델 성능을 평균하여 일반화 성능을 추정할 때 더 낮은 편향을 만든다. k 값이 아주 크면 교차 검증 알고리즘의 실행 시간이 늘어나고 분산이 높은 추정을 만든다. 이는 훈련 폴드가 서로 많이 비슷해지기 때문이다. 다른 말로 하면 대규모 데이터셋으로 작업할 때는 k=5와 같은 작은 k 값을 선택해도 모델의 평균 성능을 정확하게 추정할 수 있다. 또 폴드마다 모델을 학습하고 평가하는 계산 비용을 줄일 수 있다."
   ]
  },
  {
   "cell_type": "markdown",
   "id": "d5241c04",
   "metadata": {},
   "source": [
    "<div style=\"background-color:#D3D3D3; padding:10px;\">\n",
    "    <span style=\"color: #D0B134\"><strong>NOTEΞ</strong></span> k-겹 교차 검증의 특별한 경우는 LOOCV(Leave-One-Out Cross-Validation) 방법이다. LOOCV에서는 폴드 개수가 훈련 샘플 개수와 같다(k = n). 즉, 하나의 훈련 샘플이 각 반복에서 테스트로 사용된다. 이 방법은 자주 작은 데이터셋을 사용할 때 권장된다.<sup><a id=\"a03\" href=\"#p03\">[3]</a></sup>"
   ]
  },
  {
   "cell_type": "markdown",
   "id": "8491b79a",
   "metadata": {},
   "source": [
    "사이킷런에서는 k-겹 교차 검증 프로세스를 구현하기 위해 KFold 클래스를 제공한다. KFold 클래스를 이용해 붓꽃 데이터셋을 교차 검증하고 예측 정확도를 알아보겠다. 붓꽃 데이터 세트와 DecisionTreeClassifier를 생성하고 5개의 폴드 세트로 분리하는 KFold 객체를 생성한다."
   ]
  },
  {
   "cell_type": "code",
   "execution_count": 6,
   "id": "df055e97",
   "metadata": {
    "ExecuteTime": {
     "end_time": "2023-01-07T13:12:34.961617Z",
     "start_time": "2023-01-07T13:12:34.656242Z"
    }
   },
   "outputs": [
    {
     "name": "stdout",
     "output_type": "stream",
     "text": [
      "붓꽃 데이터 세트 크기: 150\n"
     ]
    }
   ],
   "source": [
    "from sklearn.datasets import load_iris\n",
    "from sklearn.tree import DecisionTreeClassifier\n",
    "from sklearn.metrics import accuracy_score\n",
    "from sklearn.model_selection import KFold\n",
    "import numpy as np\n",
    "\n",
    "iris = load_iris()\n",
    "features = iris.data\n",
    "label = iris.target\n",
    "df_clf = DecisionTreeClassifier(random_state=156)\n",
    "\n",
    "# 5개의 폴드 세트로 분리하는 KFold 객체와 폴드 세트별 정확도를 담을 리스트 객체 생성.\n",
    "kfold = KFold(n_splits=5)\n",
    "cv_accuracy = []\n",
    "print('붓꽃 데이터 세트 크기:', features.shape[0])"
   ]
  },
  {
   "cell_type": "markdown",
   "id": "bb1577e9",
   "metadata": {},
   "source": [
    "<code>KFold(n_splits=10)</code>로 KFold 객체를 생성했으니 이제 생성된 KFold 객체의 <code>split()</code>을 호출해 전체 붓꽃 데이터를 5개의 폴드 데이터 세트로 분리한다. 전체 데이터는 모두 150개다. 따라서 학습용 데이터 세트는 이 중 4/5인 120개, 검증 테스트 데이터 세트는 1/5인 30개로 분할된다. KFold 객체는 <code>split()</code>을 호출하면 학습용/검증용 데이터로 분할할 수 있는 인덱스를 반환한다. 실제로 학습용/검증용 데이터 추출은 반환된 인덱스를 기반으로 개발 코드에서 직접 수행해야 한다. 다음 예제는 5개의 폴드 세트를 생성하는 KFold 객체의 <code>split()</code>을 호출해 교차 검증 수행 시마다 학습과 검증을 반복해 예측 정확도를 측정한다. 그리고 <code>split()</code>이 어떤 값을 실제로 반환하는지도 확인해 보기 위해 검증 데이터 세트의 인덱스도 추출해 보겠다."
   ]
  },
  {
   "cell_type": "code",
   "execution_count": 7,
   "id": "bcd00e2f",
   "metadata": {
    "ExecuteTime": {
     "end_time": "2023-01-07T13:12:36.022701Z",
     "start_time": "2023-01-07T13:12:36.001635Z"
    }
   },
   "outputs": [
    {
     "name": "stdout",
     "output_type": "stream",
     "text": [
      "\n",
      "1Fold 교차 검증 정확도: 1.0, 학습 데이터 크기: 120, 검증 데이터 크기: 30\n",
      "1Fold 검증 세트 인덱스:[ 0  1  2  3  4  5  6  7  8  9 10 11 12 13 14 15 16 17 18 19 20 21 22 23\n",
      " 24 25 26 27 28 29]\n",
      "\n",
      "2Fold 교차 검증 정확도: 0.9667, 학습 데이터 크기: 120, 검증 데이터 크기: 30\n",
      "2Fold 검증 세트 인덱스:[30 31 32 33 34 35 36 37 38 39 40 41 42 43 44 45 46 47 48 49 50 51 52 53\n",
      " 54 55 56 57 58 59]\n",
      "\n",
      "3Fold 교차 검증 정확도: 0.8667, 학습 데이터 크기: 120, 검증 데이터 크기: 30\n",
      "3Fold 검증 세트 인덱스:[60 61 62 63 64 65 66 67 68 69 70 71 72 73 74 75 76 77 78 79 80 81 82 83\n",
      " 84 85 86 87 88 89]\n",
      "\n",
      "4Fold 교차 검증 정확도: 0.9333, 학습 데이터 크기: 120, 검증 데이터 크기: 30\n",
      "4Fold 검증 세트 인덱스:[ 90  91  92  93  94  95  96  97  98  99 100 101 102 103 104 105 106 107\n",
      " 108 109 110 111 112 113 114 115 116 117 118 119]\n",
      "\n",
      "5Fold 교차 검증 정확도: 0.7333, 학습 데이터 크기: 120, 검증 데이터 크기: 30\n",
      "5Fold 검증 세트 인덱스:[120 121 122 123 124 125 126 127 128 129 130 131 132 133 134 135 136 137\n",
      " 138 139 140 141 142 143 144 145 146 147 148 149]\n",
      "\n",
      "CV 정확도: 0.900 +/- 0.094\n"
     ]
    }
   ],
   "source": [
    "# KFold 객체의 split()를 호출하면 폴드 별 학습용, 검증용 테스트의 로우 인덱스를 array로 반환\n",
    "for k, (train_index, val_index) in enumerate(kfold.split(features)):\n",
    "    # kfold.split()으로 반환된 인덱스를 이용해 학습용, 검증용 테스트 데이터 추출\n",
    "    X_train, X_test = features[train_index], features[val_index]\n",
    "    y_train, y_test = label[train_index], label[val_index]\n",
    "    # 학습 및 예측\n",
    "    df_clf.fit(X_train, y_train)\n",
    "    pred = df_clf.predict(X_test)\n",
    "    # 반복 시마다 정확도 측정\n",
    "    accuracy = np.round(accuracy_score(y_test, pred), 4)\n",
    "    train_size = X_train.shape[0]\n",
    "    test_size = X_test.shape[0]\n",
    "    print('\\n{0}Fold 교차 검증 정확도: {1}, 학습 데이터 크기: {2}, 검증 데이터 크기: {3}'\n",
    "          .format(k+1, accuracy, train_size, test_size))\n",
    "    print('{0}Fold 검증 세트 인덱스:{1}'.format(k+1, val_index))\n",
    "    cv_accuracy.append(accuracy)\n",
    "    \n",
    "# 개별 iteration별 정확도를 합하여 평균 정확도 계산\n",
    "print('\\nCV 정확도: %.3f +/- %.3f' %\n",
    "      (np.mean(cv_accuracy), np.std(cv_accuracy)))"
   ]
  },
  {
   "cell_type": "markdown",
   "id": "e9adfc84",
   "metadata": {},
   "source": [
    "5겹 교차 검증 결과 평균 검증 정확도는 0.9다. 그리고 교차 검증 시마다 검증 세트의 인덱스가 달라짐을 알 수 있다. 검증 세트의 인덱스를 보면 교차 검증 시마다 <code>split()</code> 함수가 어떻게 인덱스를 할당하는지 알 수 있다. 첫 번째 교차 검증에서는 0번 ~ 29번, 두 번째는 30번 ~ 59번, 세 번째는 60번 ~ 89번, 네 번째는 90번 ~ 119번, 다섯 번째는 120 ~ 149번으로 각각 30개의 검증 세트 인덱스를 생성했고, 이를 기반으로 검증 세트를 추출하게 된다."
   ]
  },
  {
   "cell_type": "markdown",
   "id": "2704eca1",
   "metadata": {},
   "source": [
    "## Stratified K 폴드"
   ]
  },
  {
   "cell_type": "markdown",
   "id": "eba8639b",
   "metadata": {},
   "source": [
    "Stratified K 폴드는 불균형한<sup>imbalanced</sup> 분포도를 가진 레이블(결정 클래스) 데이터 집합을 위한 K 폴드 방식이다. 불균형한 분포도를 가진 레이블 데이터 집합은 특정 레이블 값이 특이하게 만헉나 매우 적어서 값의 분포가 한쪽으로 치우치는 것을 말한다."
   ]
  },
  {
   "cell_type": "markdown",
   "id": "8135248e",
   "metadata": {},
   "source": [
    "특정 레이블 값이 특이하게 많거나 매우 적어서 값의 분포가 한쪽으로 치우쳐진 불균형한 분포도를 가진 데이터 집합에는 Stratified K 폴드가 더 적절하다. 이는 좀 더 나은 편향과 분산 추정을 만든다. 특히 론 코하비가 보인 것처럼 클래스 비율이 동등하지 않을 때다.<sup><a id=\"a04\" href=\"#p04\">[4]</a></sup> 계층적 교차 검증은 각 폴드에서 클래스 비율이 전체 훈련 세트에 있는 클래스 비율을 대표하도록 유지한다."
   ]
  },
  {
   "cell_type": "markdown",
   "id": "15129534",
   "metadata": {},
   "source": [
    "가령 대출 사기 데이터를 예측한다고 가정해 보겠다. 이 데이터 세트는 1억 건이고, 수십 개의 피처와 대출 사기 여부를 뜻하는 레이블(대출 사기: 1, 정상 대출: 0)로 구성돼 있다. 그런데 대부분의 데이터는 정상 대출일 것이다. 그리고 대출 사기가 약 1,000건이 있다고 한다면 전체의 0.0001%ㅇ의 아주 작은 확률로 대출 사기 레이블이 존재한다. 이렇게 작은 비율로 1 레이블 값이 있다면 K 폴드로 랜덤하게 학습 및 테스트 세트의 인덱스를 고르더라도 레이블 값인 0과 1의 비율로 제대로 반영하지 못하는 경우가 쉽게 발생한다. 즉, 레이블 값으로 1이 특정 개별 반복별 학습/테스트 데이터 세트에는 상대적으로 많이 들어 있고, 다른 반복 학습/테스트 데이터 세트에는 그렇지 못한 결과가 발생한다. 대출 사기 레이블이 1인 레코드는 비록 건수는 작지만 알고리즘이 대출 사기를 예측하기 위한 중요한 피처 값을 가지고 있기 때문에 매우 중요한 데이터 세트다. 따라서 원본 데이터와 유사한 대출 사기 레이블 값의 분포를 학습/테스트 세트에도 유지하는 게 매우 중요하다."
   ]
  },
  {
   "cell_type": "markdown",
   "id": "b0711f24",
   "metadata": {},
   "source": [
    "Stratified K 폴드는 이처럼 K 폴드가 레이블 데이터 집합이 원본 데이터 집합의 레이블 분포를 학습 및 테스트 세트에 제대로 분배하지 못하는 경우의 문제를 해결해 준다. 이를 위해 Stratified K 폴드는 원본 데이터의 레이블 분포를 먼저 고려한 뒤 이 분포와 동일하게 학습과 검증 데이터 세트를 분배한다. 먼저 K 폴드가 어떤 문제를 가지고 있는지 확인해 보고 이를 사이킷런의 StratifiedKFold 클래스를 이용해 개선해 보겠다. 이를 위해 붓꽃 데이터 세트를 간단하게 DataFrame으로 생성하고 레이블 값의 분포도를 확인한다."
   ]
  },
  {
   "cell_type": "code",
   "execution_count": 8,
   "id": "8320b538",
   "metadata": {
    "ExecuteTime": {
     "end_time": "2023-01-07T13:12:38.229792Z",
     "start_time": "2023-01-07T13:12:38.203059Z"
    }
   },
   "outputs": [
    {
     "data": {
      "text/plain": [
       "0    50\n",
       "1    50\n",
       "2    50\n",
       "Name: label, dtype: int64"
      ]
     },
     "execution_count": 8,
     "metadata": {},
     "output_type": "execute_result"
    }
   ],
   "source": [
    "import pandas as pd\n",
    "\n",
    "iris = load_iris()\n",
    "iris_df = pd.DataFrame(data=iris.data, columns=iris.feature_names)\n",
    "iris_df['label'] = iris.target\n",
    "iris_df['label'].value_counts()"
   ]
  },
  {
   "cell_type": "markdown",
   "id": "fbcd5484",
   "metadata": {},
   "source": [
    "레이블 값은 0, 1, 2 값 모두 50개로 동일하다. 즉 Setosa 품종, Versicolor 품종, Virginica 품종 모두가 50개다. 이슈가 발생하는 현상을 도출하기 위해 3개의 폴드 세트를 KFold로 생성하고, 각 교차 검증 시마다 생성되는 학습/검증 레이블 데이터 값의 분포도를 확인해 보겠다."
   ]
  },
  {
   "cell_type": "code",
   "execution_count": 9,
   "id": "350df1d7",
   "metadata": {
    "ExecuteTime": {
     "end_time": "2023-01-07T13:12:40.466107Z",
     "start_time": "2023-01-07T13:12:40.438950Z"
    }
   },
   "outputs": [
    {
     "name": "stdout",
     "output_type": "stream",
     "text": [
      "## 교차 검증: 1\n",
      "학습 레이블 데이터 분포:\n",
      " 1    50\n",
      "2    50\n",
      "Name: label, dtype: int64\n",
      "검증 레이블 데이터 분포:\n",
      " 0    50\n",
      "Name: label, dtype: int64\n",
      "## 교차 검증: 2\n",
      "학습 레이블 데이터 분포:\n",
      " 0    50\n",
      "2    50\n",
      "Name: label, dtype: int64\n",
      "검증 레이블 데이터 분포:\n",
      " 1    50\n",
      "Name: label, dtype: int64\n",
      "## 교차 검증: 3\n",
      "학습 레이블 데이터 분포:\n",
      " 0    50\n",
      "1    50\n",
      "Name: label, dtype: int64\n",
      "검증 레이블 데이터 분포:\n",
      " 2    50\n",
      "Name: label, dtype: int64\n"
     ]
    }
   ],
   "source": [
    "kfold = KFold(n_splits=3)\n",
    "\n",
    "for k, (train_index, val_index) in enumerate(kfold.split(iris_df)):\n",
    "    label_train = iris_df['label'].iloc[train_index]\n",
    "    label_test = iris_df['label'].iloc[val_index]\n",
    "    print('## 교차 검증: {0}'.format(k+1))\n",
    "    print('학습 레이블 데이터 분포:\\n', label_train.value_counts())\n",
    "    print('검증 레이블 데이터 분포:\\n', label_test.value_counts())"
   ]
  },
  {
   "cell_type": "markdown",
   "id": "1628c888",
   "metadata": {},
   "source": [
    "교차 검증 시마다 3개의 폴드 세트로 만들어지는 학습 레이블과 검증 레이블이 완전히 다른 값으로 추출되었다. 예를 들어 첫 번째 교차 검증에서는 학습 레이블의 1, 2 값이 각각 50개가 추출되었고, 검증 레이블의 0값이 50개 추출되었다. 학습 레이블은 1, 2밖에 없으므로 0의 경우는 전혀 학습하지 못한다. 반대로 검증 레이블은 0밖에 없으므로 학습 모델은 절대 0을 예측하지 못한다. 이런 유형으로 교차 검증 데이터 세트를 분할하면 검증 예측 정확도는 0이 될 수밖에 없다."
   ]
  },
  {
   "cell_type": "markdown",
   "id": "aca69d42",
   "metadata": {},
   "source": [
    "StratifiedKFold는 이렇게 KFold로 분할된 레이블 데이터 세트가 전체 레이블 값의 분포도를 반영하지 못하는 문제를 해결해 준다. 이번에는 동일한 데이터 분할을 StratifiedKFold로 수행하고 학습/검증 레이블 데이터의 분포도를 확인해 보겠다. StratifiedKFold를 사용하는 방법은 KFold를 사용하는 방법과 거의 비슷하다. 단 하나 큰 차이는 StratifiedKFold는 레이블 데이터 분포도에 따라 학습/검증 데이터를 나누기 때문에 <code>split()</code> 메서드에 인자로 피처 데이터 세트뿐만 아니라 레이블 데이터 세트도 반드시 필요하다는 사실이다(K 폴드의 경우 레이블 데이터 세트는 <code>split()</code> 메서드의 인자로 입력하지 않아도 무방하다). 폴드 세트는 3개로 설정하겠다."
   ]
  },
  {
   "cell_type": "code",
   "execution_count": 10,
   "id": "e10c9290",
   "metadata": {
    "ExecuteTime": {
     "end_time": "2023-01-07T13:12:42.594921Z",
     "start_time": "2023-01-07T13:12:42.573879Z"
    }
   },
   "outputs": [
    {
     "name": "stdout",
     "output_type": "stream",
     "text": [
      "## 교차 검증: 1\n",
      "학습 레이블 데이터 분포:\n",
      " 2    34\n",
      "0    33\n",
      "1    33\n",
      "Name: label, dtype: int64\n",
      "검증 레이블 데이터 분포:\n",
      " 0    17\n",
      "1    17\n",
      "2    16\n",
      "Name: label, dtype: int64\n",
      "## 교차 검증: 2\n",
      "학습 레이블 데이터 분포:\n",
      " 1    34\n",
      "0    33\n",
      "2    33\n",
      "Name: label, dtype: int64\n",
      "검증 레이블 데이터 분포:\n",
      " 0    17\n",
      "2    17\n",
      "1    16\n",
      "Name: label, dtype: int64\n",
      "## 교차 검증: 3\n",
      "학습 레이블 데이터 분포:\n",
      " 0    34\n",
      "1    33\n",
      "2    33\n",
      "Name: label, dtype: int64\n",
      "검증 레이블 데이터 분포:\n",
      " 1    17\n",
      "2    17\n",
      "0    16\n",
      "Name: label, dtype: int64\n"
     ]
    }
   ],
   "source": [
    "from sklearn.model_selection import StratifiedKFold\n",
    "\n",
    "skf = StratifiedKFold(n_splits=3)\n",
    "\n",
    "for k, (train_index, val_index) in enumerate(skf.split(iris_df, iris_df['label'])):\n",
    "    label_train = iris_df['label'].iloc[train_index]\n",
    "    label_test = iris_df['label'].iloc[val_index]\n",
    "    print('## 교차 검증: {0}'.format(k+1))\n",
    "    print('학습 레이블 데이터 분포:\\n', label_train.value_counts())\n",
    "    print('검증 레이블 데이터 분포:\\n', label_test.value_counts())"
   ]
  },
  {
   "cell_type": "markdown",
   "id": "fd497e82",
   "metadata": {},
   "source": [
    "출력 결과를 보면 학습 레이블과 검증 레이블 데이터 값의 분포도가 동일하게 할당됐음을 알 수 있다. 교차 검증에서 학습 레이블과 검증 레이블이 레이블별로 동일하게 할당됐다. 이렇게 분할이 되어야 레이블 값 0, 1, 2를 모두 학습할 수 있고, 이에 기반해 검증을 수행할 수 있다. StratifiedKFold를 이용해 붓꽃 데이터를 교차 검증해 보겠다."
   ]
  },
  {
   "cell_type": "markdown",
   "id": "63dbeadc",
   "metadata": {},
   "source": [
    "다음 코드는 StratifiedKFold를 이용해 데이터를 분리한 것이다. 피처 데이터와 레이블 데이터는 앞의 붓꽃 StratifiedKFold 예제에서 추출한 데이터를 그대로 이용하겠다."
   ]
  },
  {
   "cell_type": "code",
   "execution_count": 11,
   "id": "62b6b26e",
   "metadata": {
    "ExecuteTime": {
     "end_time": "2023-01-07T13:12:44.048155Z",
     "start_time": "2023-01-07T13:12:44.034295Z"
    }
   },
   "outputs": [
    {
     "name": "stdout",
     "output_type": "stream",
     "text": [
      "\n",
      "1Fold 교차 검증 정확도: 0.98, 학습 데이터 크기: 100, 검증 데이터 크기: 50\n",
      "1Fold 검증 세트 인덱스:[ 34  35  36  37  38  39  40  41  42  43  44  45  46  47  48  49  83  84\n",
      "  85  86  87  88  89  90  91  92  93  94  95  96  97  98  99 133 134 135\n",
      " 136 137 138 139 140 141 142 143 144 145 146 147 148 149]\n",
      "\n",
      "2Fold 교차 검증 정확도: 0.94, 학습 데이터 크기: 100, 검증 데이터 크기: 50\n",
      "2Fold 검증 세트 인덱스:[ 34  35  36  37  38  39  40  41  42  43  44  45  46  47  48  49  83  84\n",
      "  85  86  87  88  89  90  91  92  93  94  95  96  97  98  99 133 134 135\n",
      " 136 137 138 139 140 141 142 143 144 145 146 147 148 149]\n",
      "\n",
      "3Fold 교차 검증 정확도: 0.98, 학습 데이터 크기: 100, 검증 데이터 크기: 50\n",
      "3Fold 검증 세트 인덱스:[ 34  35  36  37  38  39  40  41  42  43  44  45  46  47  48  49  83  84\n",
      "  85  86  87  88  89  90  91  92  93  94  95  96  97  98  99 133 134 135\n",
      " 136 137 138 139 140 141 142 143 144 145 146 147 148 149]\n",
      "\n",
      "## 교차 검증별 정확도: [0.98 0.94 0.98]\n",
      "## CV 정확도: 0.967 +/- 0.019\n"
     ]
    }
   ],
   "source": [
    "dt_clf = DecisionTreeClassifier(random_state=156)\n",
    "\n",
    "skfold = StratifiedKFold(n_splits=3)\n",
    "cv_accuracy = []\n",
    "\n",
    "# StratifiedKFold의 split() 호출 시 반드시 레이블 데이터 세트도 추가 입력 필요\n",
    "for k, (train_index, test_index) in enumerate(skfold.split(features, label)):\n",
    "    # split()으로 반환된 인덱스를 이용해 학습용, 검증용 테스트 데이터 추출\n",
    "    X_train, X_test = features[train_index], features[test_index]\n",
    "    y_train, y_test = label[train_index], label[test_index]\n",
    "    # 학습 및 예측\n",
    "    df_clf.fit(X_train, y_train)\n",
    "    pred = df_clf.predict(X_test)\n",
    "    \n",
    "    # 반복 시마다 정확도 측정\n",
    "    accuracy = np.round(accuracy_score(y_test, pred), 4)\n",
    "    train_size = X_train.shape[0]\n",
    "    test_size = X_test.shape[0]\n",
    "    print('\\n{0}Fold 교차 검증 정확도: {1}, 학습 데이터 크기: {2}, 검증 데이터 크기: {3}'\n",
    "          .format(k+1, accuracy, train_size, test_size))\n",
    "    print('{0}Fold 검증 세트 인덱스:{1}'.format(k+1, val_index))\n",
    "    cv_accuracy.append(accuracy)\n",
    "    \n",
    "# 교차 검증별 정확도 및 평균 정확도 계산\n",
    "print('\\n## 교차 검증별 정확도:', np.round(cv_accuracy, 4))\n",
    "print('## CV 정확도: %.3f +/- %.3f' %\n",
    "      (np.mean(cv_accuracy), np.std(cv_accuracy)))"
   ]
  },
  {
   "cell_type": "markdown",
   "id": "5d2c2006",
   "metadata": {},
   "source": [
    "3개의 Stratified K 폴드로 교차 검증한 결과 평균 정확도가 약 96.7%로 측정됐다. Stratified K 폴드의 경우 원본 데이터의 레이블 분포도 특성을 반영한 팍습 및 검증 데이터 세트를 만들 수 있으므로 왜곡된 레이블 데이터 세트에서는 반드시 Stratified K 폴드를 이용해 교차 검증해야 한다. 사실, 일반적으로 분류에서의 교차 검증은 K 폴드가 아니라 Stratified K 폴드로 분할돼야 한다. 회귀에서는 Stratified K 폴드가 지원되지 않는다. 회귀의 결정값은 이산값 형태의 레이블이 아니라 연속된 숫자값이기 때문에 결정값별로 분포를 정하는 의미가 없기 때문이다. 다음으로 이러한 교차 검증을 보다 간편하게 제공해주는 사이킷런의 API를 살펴보겠다."
   ]
  },
  {
   "cell_type": "markdown",
   "id": "6f62760e",
   "metadata": {},
   "source": [
    "# 교차 검증을 보다 간편하게 - cross_val_score"
   ]
  },
  {
   "cell_type": "markdown",
   "id": "77c6b54c",
   "metadata": {},
   "source": [
    "사이킷런은 교차 검증을 좀 더 편리하게 수행할 수 있게 해주는 API를 제공한다. 대표적인 것이 <code>cross_val_score()</code>다. KFold로 데이터를 학습하고 예측하는 코드를 보면 먼저 ① 폴드 세트를 설정하고 ② for 루프에서 반복으로 학습 및 테스트 데이터의 인덱스를 추출한 뒤 ③ 반복적으로 학습과 예측을 수행하고 예측 성능을 반환했다."
   ]
  },
  {
   "cell_type": "markdown",
   "id": "f0e4001e",
   "metadata": {},
   "source": [
    "<code>cross_val_score()</code>는 이런 일련의 과정을 한꺼번에 수행해주는 API다. 다음은 <code>cross_val_score()</code> API의 선언 형태다."
   ]
  },
  {
   "cell_type": "markdown",
   "id": "9271bfb3",
   "metadata": {},
   "source": [
    "<code>cross_val_score(estimator, X, y=None, scoring=None, cv=None, n_jobs=1, verbose=0, fit_params=None, pre_dispatch='2*n_jobs')</code>. 이 중 estimator, X, y, cv가 주요 파라미터다."
   ]
  },
  {
   "cell_type": "markdown",
   "id": "95351bd9",
   "metadata": {},
   "source": [
    "estimator는 사이킷런의 분류 알고리즘 클래스인 Classifier 또는 회귀 알고리즘 클래스인 Regressor를 의미하고, X는 피처 데이터 세트, y는 레이블 데이터 세트, scoring은 예측 성능 평가 지표를 기술하며, cv는 교차 검증 폴드 수를 의미한다. <code>cross_val_score()</code> 수행 후 반환 값은 scoring 파라미터로 지정된 성능 지표 측정값을 배열 형태로 반환한다. <code>cross_val_score()</code>는 classifier가 입력되면 Stratified K 폴드 방식으로 레이블값의 분포에 따라 학습/테스트 세트를 분할한다(회귀의 경우는 Stratified K 폴드 방식으로 분할할 수 없으므로 K 폴드 방식으로 분할한다)."
   ]
  },
  {
   "cell_type": "markdown",
   "id": "e7eb194e",
   "metadata": {},
   "source": [
    "다음 코드에서 <code>cross_val_score()</code>의 자세한 사용법을 살펴보겠다. 교차 검증 폴드 수는 3, 성능 평가 지표는 정확도인 accuracy로 하겠다."
   ]
  },
  {
   "cell_type": "code",
   "execution_count": 12,
   "id": "f733e769",
   "metadata": {
    "ExecuteTime": {
     "end_time": "2023-01-07T13:12:47.102706Z",
     "start_time": "2023-01-07T13:12:47.076134Z"
    }
   },
   "outputs": [
    {
     "name": "stdout",
     "output_type": "stream",
     "text": [
      "교차 검증별 정확도:  [0.98 0.94 0.98]\n",
      "CV 평균 정확도: 0.967 +/- 0.019\n"
     ]
    }
   ],
   "source": [
    "from sklearn.tree import DecisionTreeClassifier\n",
    "from sklearn.model_selection import cross_val_score\n",
    "from sklearn.datasets import load_iris\n",
    "\n",
    "iris_data = load_iris()\n",
    "dt_clf = DecisionTreeClassifier(random_state=156)\n",
    "\n",
    "data = iris_data.data\n",
    "label = iris_data.target\n",
    "\n",
    "# 성능 지표는 정확도(accuracy_score), 교차 검증 세트는 3개\n",
    "scores = cross_val_score(dt_clf, data, label, scoring='accuracy', cv=3, n_jobs=1)\n",
    "print('교차 검증별 정확도: ', np.round(scores, 4))\n",
    "print('CV 평균 정확도: %.3f +/- %.3f' % (np.mean(scores), np.std(scores)))"
   ]
  },
  {
   "cell_type": "markdown",
   "id": "1601d75b",
   "metadata": {},
   "source": [
    "<code>cross_val_score()</code>는 cv로 지정된 횟수만큼 scoring 파라미터로 지정된 평가 지표로 평가 결괏값을 배열로 반환한다. 그리고 일반적으로 이를 평균해 평가 수치로 사용한다. <code>cross_val_score()</code> API는 내부적으로 Estimator를 학습(fit), 예측(predict), 평가(evaluation)시켜주므로 간단하게 교차 검증을 수행하 수 있다. 붓꽃 데이터의 <code>cross_val_score()</code> 수행 결과와 앞 예제의 붓꽃 데이터 StratifiedKFold의 수행 결과를 비교해 보면 각 교차 검증별 정확도와 평균 정확도가 모두 동일함을 알 수 잇다. 이는 <code>cross_val_score()</code>가 내부적으로 StratifiedKFold를 이용하기 때문이다."
   ]
  },
  {
   "cell_type": "markdown",
   "id": "a4f167e0",
   "metadata": {},
   "source": [
    "<code>cross_val_score()</code> 함수가 검증에 사용하는 기본 측정 지표는 회귀일 때는 $R^2$, 분류일 때는 정확도다. scoring 매개변수를 사용하여 다른 지표로 바꿀 수 있다. 사이킷런 0.19 버전에서는 교차 검증에 여러 측정 지표를 사용할 수 있는 <code>cross_validate()</code> 함수가 추가되었다. 이 함수는 각 폴드에서 훈련과 테스트에 걸린 시간을 반환하고 scoring 매개변수에 지정한 평가 지표마다 훈련 점수와 테스트 점수를 반환한다. 반환된 딕셔너리에서 훈련 점수와 테스트 점수를 추출하려면 'train_XXXX', 'test_XXXX' 형식의 키를 사용하면 된다. 앞 코드는 다음과 같이 바꾸어 쓸 수 있다."
   ]
  },
  {
   "cell_type": "code",
   "execution_count": 13,
   "id": "5df18047",
   "metadata": {
    "ExecuteTime": {
     "end_time": "2023-01-07T13:12:54.037610Z",
     "start_time": "2023-01-07T13:12:49.814921Z"
    }
   },
   "outputs": [
    {
     "name": "stdout",
     "output_type": "stream",
     "text": [
      "CV 정확도 점수: [0.98 0.94 0.98]\n",
      "CV 평균 정확도: 0.967 +/- 0.019\n"
     ]
    }
   ],
   "source": [
    "from sklearn.model_selection import cross_validate\n",
    "\n",
    "scores = cross_validate(dt_clf, data, label, scoring=['accuracy'], cv=3, \n",
    "                        return_train_score=False, n_jobs=-1)\n",
    "print('CV 정확도 점수: %s' % scores['test_accuracy'])\n",
    "print('CV 평균 정확도: %.3f +/- %.3f' % (np.mean(scores['test_accuracy']), np.std(scores['test_accuracy'])))"
   ]
  },
  {
   "cell_type": "markdown",
   "id": "0d63fa4a",
   "metadata": {},
   "source": [
    "<code>cross_val_score()</code> 함수의 아주 유용한 기능은 각 폴드의 평가를 컴퓨터에 있는 복수 개의 CPU 코어에 분산할 수 있다는 점이다. n_jobs 매개변수를 1로 설정하면 하나의 CPU 코어만 성능 평가에 사용한다. n_jobs=2로 설정하면 두 개의 CPU 코어에 교차 검증을 10회씩 분산할 수 있다. n_jobs=-1로 설정하면 컴퓨터에 설치된 모든 CPU 코어를 사용하여 병렬 처리한다."
   ]
  },
  {
   "cell_type": "markdown",
   "id": "cec8bff4",
   "metadata": {},
   "source": [
    "# 학습 곡선과 검증 곡선을 사용한 알고리즘 디버깅"
   ]
  },
  {
   "cell_type": "markdown",
   "id": "23303bc1",
   "metadata": {},
   "source": [
    "학습 알고리즘의 성능 향상에 도움이 되는 간단하지만 아주 강력한 두 개의 분석 도구를 살펴보겠다. 학습 곡선과 검증 곡선이다. 다음 절에서 학습 곡선을 사용하여 학습 알고리즘이 문제에 과대적합(높은 분산)되는지 또는 과소적합(높은 편향)되는지 분석하는 방법을 설명한다. 또 학습 알고리즘의 보편적인 문제를 다루는 데 도움이 되는 검증 곡선에 대해 알아보겠다."
   ]
  },
  {
   "cell_type": "markdown",
   "id": "a1007be0",
   "metadata": {},
   "source": [
    "## 학습 곡선으로 편향과 분산 문제 분석"
   ]
  },
  {
   "cell_type": "markdown",
   "id": "f08d4e5b",
   "metadata": {},
   "source": [
    "주어진 훈련 데이터셋에 비해 모델이 너무 복잡하면, 즉 모델의 자유도나 모델 파라미터가 너무 많으면 모델이 훈련 데이터에 과대적합되고 처음 본 데이터에 잘 일반화되지 못하는 경향이 있다. 보통 훈련 샘플을 더 모으면 과대적합을 줄이는 데 도움이 된다. 실전에서는 데이터를 더 모으는 것이 매우 비싸거나 그냥 불가능할 때도 많다. 모델의 훈련 정확도와 검증 정확도를 훈련 세트의 크기 함수로 그래프를 그려 보면 모델에 높은 분산의 문제가 있는지 높은 편향의 문제가 있는지 쉽게 감지할 수 있다. 더 많은 데이터를 모으는 것이 문제를 해결할 수 있을지 판단이 가능하다. 사이킷런으로 학습 곡선을 그리는 방법을 보기 전에 [그림 3]에서 두 종류의 문제에 대해 논의해 보자."
   ]
  },
  {
   "cell_type": "markdown",
   "id": "e53c2476",
   "metadata": {},
   "source": [
    "<b>그림 3</b> 편향-분산 트레이드오프\n",
    "<div style=\"text-align:center;\">\n",
    "    <img src=\"./images/model_selection/편향-분산 트레이드오프.png\">\n",
    "</div>"
   ]
  },
  {
   "cell_type": "markdown",
   "id": "fabab34d",
   "metadata": {},
   "source": [
    "왼쪽 위 그래프는 편향이 높은 모델을 보여 준다. 이 모델은 훈련 정확도와 교차 검증 정확도가 모두 낮다. 즉 두 곡선이 수평한 구간을 만들고 꽤 낮은 정확도에서 매우 가까이 근접해 있다. 이는 훈련 데이터에 과소적합되었다는 것을 나타낸다. 이 문제를 해결하는 일반적인 방법은 모델의 파라미터 개수를 늘리는 것이다. 예를 들어 추가적인 특성을 수집하거나 만든다. 또는 SVM이나 로지스틱 회귀 분류기에서 규제 강도를 줄인다."
   ]
  },
  {
   "cell_type": "markdown",
   "id": "585435af",
   "metadata": {},
   "source": [
    "오른쪽 위 그래프는 분산이 높은 모델을 보여 준다. 훈련 정확도와 교차 검증 정확도 사이에 큰 차이가 있다는 것을 나타낸다. 과대적합 문데를 해결하려면 더 많은 훈련 데이터를 모으거나 모델 복잡도를 낮추거나 규제를 증가시킬 수 있다. 규제가 없는 모델에서는 특성 선택이나 특성 추출을 통해 특성 개수를 줄여 과대적합을 감소할 수 있다. 더 많은 훈련 데이터를 수집하는 것이 보통 과대적합의 가능성을 줄이지만 항상 도움이 되는 것은 아니다. 예를 들어 훈련 데이터에 잡음이 아주 많거나 모델이 이미 거의 최적화가 된 경우다."
   ]
  },
  {
   "cell_type": "markdown",
   "id": "366490b9",
   "metadata": {},
   "source": [
    "다음 절에서 검증 곡선을 사용하여 이런 문제들을 다루는 법을 알아보겠다. 먼저 사이킷런의 학습 곡선 함수를 사용하여 모델을 평가해 보자."
   ]
  },
  {
   "cell_type": "code",
   "execution_count": 22,
   "id": "ec1bef2e",
   "metadata": {
    "ExecuteTime": {
     "end_time": "2023-01-07T13:19:33.802125Z",
     "start_time": "2023-01-07T13:19:33.410371Z"
    }
   },
   "outputs": [
    {
     "data": {
      "image/png": "[encoded data removed]",
      "text/plain": [
       "<Figure size 432x288 with 1 Axes>"
      ]
     },
     "metadata": {
      "needs_background": "light"
     },
     "output_type": "display_data"
    }
   ],
   "source": [
    "from sklearn.model_selection import learning_curve\n",
    "\n",
    "pipe_lr = make_pipeline(StandardScaler(),\n",
    "                        LogisticRegression(solver='liblinear', \n",
    "                                           penalty='l2',\n",
    "                                           random_state=1))\n",
    "\n",
    "train_sizes, train_scores, test_scores =\\\n",
    "                learning_curve(estimator=pipe_lr,\n",
    "                               X=X_train,\n",
    "                               y=y_train,\n",
    "                               train_sizes=np.linspace(0.1, 1.0, 10),\n",
    "                               cv=10,\n",
    "                               n_jobs=1)\n",
    "\n",
    "train_mean = np.mean(train_scores, axis=1)\n",
    "train_std = np.std(train_scores, axis=1)\n",
    "test_mean = np.mean(test_scores, axis=1)\n",
    "test_std = np.std(test_scores, axis=1)\n",
    "\n",
    "plt.plot(train_sizes, train_mean,\n",
    "         color='blue', marker='o',\n",
    "         markersize=5, label='training accuracy')\n",
    "\n",
    "plt.fill_between(train_sizes,\n",
    "                 train_mean + train_std,\n",
    "                 train_mean - train_std,\n",
    "                 alpha=0.15, color='blue')\n",
    "\n",
    "plt.plot(train_sizes, test_mean,\n",
    "         color='green', linestyle='--',\n",
    "         marker='s', markersize=5,\n",
    "         label='validation accuracy')\n",
    "\n",
    "plt.fill_between(train_sizes,\n",
    "                 test_mean + test_std,\n",
    "                 test_mean - test_std,\n",
    "                 alpha=0.15, color='green')\n",
    "\n",
    "plt.grid()\n",
    "plt.xlabel('Number of training samples')\n",
    "plt.ylabel('Accuracy')\n",
    "plt.legend(loc='lower right')\n",
    "plt.ylim([0.8, 1.03])\n",
    "plt.tight_layout()\n",
    "plt.show()"
   ]
  },
  {
   "cell_type": "markdown",
   "id": "f86a6bac",
   "metadata": {},
   "source": [
    "<code>learning_curve()</code> 함수의 train_sizes 매개변수를 통해 학습 곡선을 생성하는 데 사용할 훈련 샘플의 개수나 비율을 지정할 수 있다. 여기서는 <code>train_sizes=np.linspace(0.1, 1.0, 10)</code>으로 지정해서 일정한 간격으로 훈련 세트의 비율 열 개를 설정했다. 기본적으로 <code>learning_curve()</code> 함수는 계층별 k-겹 교차 검증을 사용하여 분류기의 교차 검증 정확도를 계산한다. cv 매개변수를 통해 k 값을 10으로 지정했기 때문에 계층별 10-겹 교차 검증을 사용한다. 반환된 훈련과 테스트 교차 검증 점수로부터 훈련 세트 크기별로 평균 정확도를 계산하여 맷플롯립의 <code>plot()</code> 함수를 사용해서 그래프를 그린다. <code>fill_between()</code> 함수를 사용하여 그래프에 평균 정확도의 표준 편차를 그려서 추정 분산을 나타냈다."
   ]
  },
  {
   "cell_type": "markdown",
   "id": "5f7d7587",
   "metadata": {},
   "source": [
    "앞의 학습 곡선 그래프에서 볼 수 있듯이 모델 훈련에 250개 샘플 이상을 사용할 때 훈련과 검증 세트에서 잘 작동한다. 훈련 세트가 250개의 샘플보다 줄어들면 훈련 정확도가 증가하면서 훈련 정확도와 검증 정확도 사이의 차이는 넓어진다. 이는 과대적합이 증가한다는 증거다."
   ]
  },
  {
   "cell_type": "markdown",
   "id": "f37b3bc1",
   "metadata": {},
   "source": [
    "참고로, 모델이 훈련 데이터에 과소적합되어 있다면 훈련 샘플을 더 추가해도 효과가 없다. 더 복잡한 모델을 사용하거나 더 나은 특성을 선택해야 한다. 추가로 과대적합 모델을 개선하는 한 가지 방법은 검증 오차가 훈련 오차에 근접할 때까지 더 많은 훈련 데이터를 추가하는 것이다."
   ]
  },
  {
   "cell_type": "markdown",
   "id": "c68ee075",
   "metadata": {},
   "source": [
    "<div style=\"border:1px solid; padding:10px;\">\n",
    "    <div style=\"text-align: center\"><strong>편향/분산 트레이드오프</strong></div><br>\n",
    "    통계학과 머신러닝에서 나온 중요한 이론 하나는 모델의 일반화 오차는 세 가지 다른 종류의 오차의 합으로 표현할 수 있다는 사실이다. 즉 다음과 같은 식을 따른다.\n",
    "    $$\n",
    "    \\mathrm{E}[(y - \\hat{f}(x))^2] = \\mathrm{Bias}[\\hat{f}(x)]^2 + \\mathrm{Var}[\\hat{f}(x)] + \\sigma^2\n",
    "    $$\n",
    "    여기서 $y$는 실제 관계함수, $\\hat{f}(x)$는 학습을 통해 실제 관계함수를 최대한 잘 근사한 근사함수, $\\sigma$는 줄일 수 없는 오차를 뜻한다.\n",
    "    <ul>\n",
    "        <li><b>편향</b><br>\n",
    "            일반화 오차 중에서 편향은 잘못된 가정으로 인한 것이다. 예를 들어 데이터가 실제로는 2차인데 선형으로 가정하는 경우다. 편향이 큰 모델은 훈련 데이터에 과소적합되기 쉽다.\n",
    "        $$\n",
    "        \\mathrm{Bias}[\\hat{f}(x)] = \\mathrm{E}[\\hat{f}(x) - f(x)]\n",
    "        $$</li>\n",
    "        <li><b>분산</b><br>\n",
    "            분산<sup>variance</sup>은 훈련 데이터에 있는 작은 변동에 모델이 과도하게 민감하기 때문에 나타난다. 자유도가 높은 모델(예를 들면 고차 다항 회귀 모델)이 높은 분산을 가지기 쉬워 훈련 데이터에 과대적합되는 경향이 있다. $\\hat{f}(x)$가 그 평균 근처에서 얼마만큼의 폭으로 변동하느냐를 나타낸다.\n",
    "        $$\n",
    "        \\mathrm{Var}[\\hat{f}(x)] = \\mathrm{E}[(\\hat{f}(x) - \\mathrm{E}[\\hat{f}(x)])^2]\n",
    "        $$</li>\n",
    "        <li><b>줄일 수 없는 오차</b><br>\n",
    "            줄일 수 없는 오차<sup>irreducible error</sup>는 데이터 자체에 있는 잡음 때문에 발생한다. 이 오차를 줄일 수 있는 유일한 방법은 데이터에서 잡음을 제거하는 것이다(예를 들어 고장 난 센서 같은 데이터 소스를 고치거나 이상치를 감지해 제거한다).</li>\n",
    "<br>\n",
    "        모델의 복잡도가 커지면 통상적으로 분산이 늘어나고 편향은 줄어든다. 반대로 모델의 복잡도가 줄어들면 편향이 커지고 분산이 작아진다. 그래서 트레이드오프라고 부른다.\n",
    "</div>"
   ]
  },
  {
   "cell_type": "markdown",
   "id": "c4b617a9",
   "metadata": {},
   "source": [
    "## 검증 곡선으로 과대적합과 과소적합 조사"
   ]
  },
  {
   "cell_type": "markdown",
   "id": "fe7b3d03",
   "metadata": {},
   "source": [
    "검증 곡선은 과대적합과 과소적합 문제를 해결하여 모델 성능을 높일 수 있는 유용한 도구다. 검증 곡선은 학습 곡선과 관련이 있지만 샘플 크기의 함수로 훈련 정확도와 테스트 정확도를 그리는 대신 모델 파라미터 값의 함수로 그린다. 예를 들어 로지스틱 회귀에 있는 규제 매개변수 C다. 사이킷런으로 검증 곡선을 만드는 방법을 알아보자."
   ]
  },
  {
   "cell_type": "code",
   "execution_count": 29,
   "id": "d38a723c",
   "metadata": {
    "ExecuteTime": {
     "end_time": "2023-01-07T13:32:14.395648Z",
     "start_time": "2023-01-07T13:32:13.585431Z"
    }
   },
   "outputs": [
    {
     "data": {
      "image/png": "[encoded data removed]",
      "text/plain": [
       "<Figure size 432x288 with 1 Axes>"
      ]
     },
     "metadata": {
      "needs_background": "light"
     },
     "output_type": "display_data"
    }
   ],
   "source": [
    "from sklearn.model_selection import validation_curve\n",
    "\n",
    "param_range = [0.001, 0.01, 0.1, 1.0, 10.0, 100.0]\n",
    "train_scores, test_scores = validation_curve(\n",
    "                estimator=pipe_lr,\n",
    "                X=X_train,\n",
    "                y=y_train,\n",
    "                param_name='logisticregression__C',\n",
    "                param_range=param_range,\n",
    "                cv=10)\n",
    "\n",
    "train_mean = np.mean(train_scores, axis=1)\n",
    "train_std = np.std(train_scores, axis=1)\n",
    "test_mean = np.mean(test_scores, axis=1)\n",
    "test_std = np.std(test_scores, axis=1)\n",
    "\n",
    "plt.plot(param_range, train_mean,\n",
    "         color='blue', marker='o',\n",
    "         markersize=5, label='training accuracy')\n",
    "\n",
    "plt.fill_between(param_range, train_mean + train_std,\n",
    "                 train_mean - train_std, alpha=0.15,\n",
    "                 color='blue')\n",
    "\n",
    "plt.plot(param_range, test_mean,\n",
    "         color='green', linestyle='--',\n",
    "         marker='s', markersize=5,\n",
    "         label='validation accuracy')\n",
    "\n",
    "plt.fill_between(param_range,\n",
    "                 test_mean + test_std,\n",
    "                 test_mean - test_std,\n",
    "                 alpha=0.15, color='green')\n",
    "\n",
    "plt.grid()\n",
    "plt.xscale('log')\n",
    "plt.legend(loc='lower right')\n",
    "plt.xlabel('Parameter C')\n",
    "plt.ylabel('Accuracy')\n",
    "plt.ylim([0.8, 1.00])\n",
    "plt.tight_layout()\n",
    "plt.show()"
   ]
  },
  {
   "cell_type": "markdown",
   "id": "71cf343b",
   "metadata": {},
   "source": [
    "위 그래프는 매개변수 C에 대한 검증 곡선 그래프다."
   ]
  },
  {
   "cell_type": "markdown",
   "id": "a5e0318c",
   "metadata": {},
   "source": [
    "<code>learning_curve()</code> 함수와 비슷하게 <code>validation_curve()</code> 함수는 기본적으로 계층별 k-겹 교차 검증을 사용하여 모델의 성능을 추정한다. <code>validation_curve()</code> 함수 안에서 평가하기 원하는 매개변수를 지정한다. 이 경우에는 LogisticRegression 분류기의 규제 매개변수인 C다. 사이킷런의 파이프라인 안에 있는 LogisticRegression 객체의 매개변수를 지정하려면 'logisticregression__C'처럼 쓴다. param_range 매개변수에는 값 범위를 지정한다. 이전 절의 학습 곡선 예와 비슷하게 평균 훈련 정확도와 교차 검증 정확도를 그리고 이에 상응하는 표준 편차를 나타냈다."
   ]
  },
  {
   "cell_type": "markdown",
   "id": "539a6595",
   "metadata": {},
   "source": [
    "C 값이 바뀜에 따라 정확도 차이가 미묘하지만 규제 강도를 높이면(C값을 줄이면) 모델이 데이터에 조금 과소적합되는 것을 볼 수 있다. 규제 강도가 낮아지는 큰 C 값에서는 모델이 데이터에 조금 과대적합되는 경향을 보인다. 이 경우에 적절한 C 값은 0.01과 0.1 사이다."
   ]
  },
  {
   "cell_type": "markdown",
   "id": "d07eacd2",
   "metadata": {},
   "source": [
    "# 그림을 위한 코드"
   ]
  },
  {
   "cell_type": "code",
   "execution_count": 16,
   "id": "43787d29",
   "metadata": {
    "ExecuteTime": {
     "end_time": "2023-01-07T13:14:57.872674Z",
     "start_time": "2023-01-07T13:14:56.789912Z"
    }
   },
   "outputs": [
    {
     "data": {
      "text/html": [
       "<div>\n",
       "<style scoped>\n",
       "    .dataframe tbody tr th:only-of-type {\n",
       "        vertical-align: middle;\n",
       "    }\n",
       "\n",
       "    .dataframe tbody tr th {\n",
       "        vertical-align: top;\n",
       "    }\n",
       "\n",
       "    .dataframe thead th {\n",
       "        text-align: right;\n",
       "    }\n",
       "</style>\n",
       "<table border=\"1\" class=\"dataframe\">\n",
       "  <thead>\n",
       "    <tr style=\"text-align: right;\">\n",
       "      <th></th>\n",
       "      <th>0</th>\n",
       "      <th>1</th>\n",
       "      <th>2</th>\n",
       "      <th>3</th>\n",
       "      <th>4</th>\n",
       "      <th>5</th>\n",
       "      <th>6</th>\n",
       "      <th>7</th>\n",
       "      <th>8</th>\n",
       "      <th>9</th>\n",
       "      <th>...</th>\n",
       "      <th>22</th>\n",
       "      <th>23</th>\n",
       "      <th>24</th>\n",
       "      <th>25</th>\n",
       "      <th>26</th>\n",
       "      <th>27</th>\n",
       "      <th>28</th>\n",
       "      <th>29</th>\n",
       "      <th>30</th>\n",
       "      <th>31</th>\n",
       "    </tr>\n",
       "  </thead>\n",
       "  <tbody>\n",
       "    <tr>\n",
       "      <th>0</th>\n",
       "      <td>842302</td>\n",
       "      <td>M</td>\n",
       "      <td>17.99</td>\n",
       "      <td>10.38</td>\n",
       "      <td>122.80</td>\n",
       "      <td>1001.0</td>\n",
       "      <td>0.11840</td>\n",
       "      <td>0.27760</td>\n",
       "      <td>0.3001</td>\n",
       "      <td>0.14710</td>\n",
       "      <td>...</td>\n",
       "      <td>25.38</td>\n",
       "      <td>17.33</td>\n",
       "      <td>184.60</td>\n",
       "      <td>2019.0</td>\n",
       "      <td>0.1622</td>\n",
       "      <td>0.6656</td>\n",
       "      <td>0.7119</td>\n",
       "      <td>0.2654</td>\n",
       "      <td>0.4601</td>\n",
       "      <td>0.11890</td>\n",
       "    </tr>\n",
       "    <tr>\n",
       "      <th>1</th>\n",
       "      <td>842517</td>\n",
       "      <td>M</td>\n",
       "      <td>20.57</td>\n",
       "      <td>17.77</td>\n",
       "      <td>132.90</td>\n",
       "      <td>1326.0</td>\n",
       "      <td>0.08474</td>\n",
       "      <td>0.07864</td>\n",
       "      <td>0.0869</td>\n",
       "      <td>0.07017</td>\n",
       "      <td>...</td>\n",
       "      <td>24.99</td>\n",
       "      <td>23.41</td>\n",
       "      <td>158.80</td>\n",
       "      <td>1956.0</td>\n",
       "      <td>0.1238</td>\n",
       "      <td>0.1866</td>\n",
       "      <td>0.2416</td>\n",
       "      <td>0.1860</td>\n",
       "      <td>0.2750</td>\n",
       "      <td>0.08902</td>\n",
       "    </tr>\n",
       "    <tr>\n",
       "      <th>2</th>\n",
       "      <td>84300903</td>\n",
       "      <td>M</td>\n",
       "      <td>19.69</td>\n",
       "      <td>21.25</td>\n",
       "      <td>130.00</td>\n",
       "      <td>1203.0</td>\n",
       "      <td>0.10960</td>\n",
       "      <td>0.15990</td>\n",
       "      <td>0.1974</td>\n",
       "      <td>0.12790</td>\n",
       "      <td>...</td>\n",
       "      <td>23.57</td>\n",
       "      <td>25.53</td>\n",
       "      <td>152.50</td>\n",
       "      <td>1709.0</td>\n",
       "      <td>0.1444</td>\n",
       "      <td>0.4245</td>\n",
       "      <td>0.4504</td>\n",
       "      <td>0.2430</td>\n",
       "      <td>0.3613</td>\n",
       "      <td>0.08758</td>\n",
       "    </tr>\n",
       "    <tr>\n",
       "      <th>3</th>\n",
       "      <td>84348301</td>\n",
       "      <td>M</td>\n",
       "      <td>11.42</td>\n",
       "      <td>20.38</td>\n",
       "      <td>77.58</td>\n",
       "      <td>386.1</td>\n",
       "      <td>0.14250</td>\n",
       "      <td>0.28390</td>\n",
       "      <td>0.2414</td>\n",
       "      <td>0.10520</td>\n",
       "      <td>...</td>\n",
       "      <td>14.91</td>\n",
       "      <td>26.50</td>\n",
       "      <td>98.87</td>\n",
       "      <td>567.7</td>\n",
       "      <td>0.2098</td>\n",
       "      <td>0.8663</td>\n",
       "      <td>0.6869</td>\n",
       "      <td>0.2575</td>\n",
       "      <td>0.6638</td>\n",
       "      <td>0.17300</td>\n",
       "    </tr>\n",
       "    <tr>\n",
       "      <th>4</th>\n",
       "      <td>84358402</td>\n",
       "      <td>M</td>\n",
       "      <td>20.29</td>\n",
       "      <td>14.34</td>\n",
       "      <td>135.10</td>\n",
       "      <td>1297.0</td>\n",
       "      <td>0.10030</td>\n",
       "      <td>0.13280</td>\n",
       "      <td>0.1980</td>\n",
       "      <td>0.10430</td>\n",
       "      <td>...</td>\n",
       "      <td>22.54</td>\n",
       "      <td>16.67</td>\n",
       "      <td>152.20</td>\n",
       "      <td>1575.0</td>\n",
       "      <td>0.1374</td>\n",
       "      <td>0.2050</td>\n",
       "      <td>0.4000</td>\n",
       "      <td>0.1625</td>\n",
       "      <td>0.2364</td>\n",
       "      <td>0.07678</td>\n",
       "    </tr>\n",
       "  </tbody>\n",
       "</table>\n",
       "<p>5 rows × 32 columns</p>\n",
       "</div>"
      ],
      "text/plain": [
       "         0  1      2      3       4       5        6        7       8   \\\n",
       "0    842302  M  17.99  10.38  122.80  1001.0  0.11840  0.27760  0.3001   \n",
       "1    842517  M  20.57  17.77  132.90  1326.0  0.08474  0.07864  0.0869   \n",
       "2  84300903  M  19.69  21.25  130.00  1203.0  0.10960  0.15990  0.1974   \n",
       "3  84348301  M  11.42  20.38   77.58   386.1  0.14250  0.28390  0.2414   \n",
       "4  84358402  M  20.29  14.34  135.10  1297.0  0.10030  0.13280  0.1980   \n",
       "\n",
       "        9   ...     22     23      24      25      26      27      28      29  \\\n",
       "0  0.14710  ...  25.38  17.33  184.60  2019.0  0.1622  0.6656  0.7119  0.2654   \n",
       "1  0.07017  ...  24.99  23.41  158.80  1956.0  0.1238  0.1866  0.2416  0.1860   \n",
       "2  0.12790  ...  23.57  25.53  152.50  1709.0  0.1444  0.4245  0.4504  0.2430   \n",
       "3  0.10520  ...  14.91  26.50   98.87   567.7  0.2098  0.8663  0.6869  0.2575   \n",
       "4  0.10430  ...  22.54  16.67  152.20  1575.0  0.1374  0.2050  0.4000  0.1625   \n",
       "\n",
       "       30       31  \n",
       "0  0.4601  0.11890  \n",
       "1  0.2750  0.08902  \n",
       "2  0.3613  0.08758  \n",
       "3  0.6638  0.17300  \n",
       "4  0.2364  0.07678  \n",
       "\n",
       "[5 rows x 32 columns]"
      ]
     },
     "execution_count": 16,
     "metadata": {},
     "output_type": "execute_result"
    }
   ],
   "source": [
    "import pandas as pd\n",
    "\n",
    "df = pd.read_csv('https://archive.ics.uci.edu/ml/'\n",
    "                 'machine-learning-databases'\n",
    "                 '/breast-cancer-wisconsin/wdbc.data', header=None)\n",
    "\n",
    "# UCI 머신 러닝 저장소에서 유방암 데이터셋을 다운로드할 수 없을 때\n",
    "# 다음 주석을 해제하고 로컬 경로에서 데이터셋을 적재하세요.\n",
    "\n",
    "# df = pd.read_csv('wdbc.data', header=None)\n",
    "\n",
    "df.head()"
   ]
  },
  {
   "cell_type": "code",
   "execution_count": 17,
   "id": "ffe12a20",
   "metadata": {
    "ExecuteTime": {
     "end_time": "2023-01-07T13:14:58.480110Z",
     "start_time": "2023-01-07T13:14:58.463019Z"
    }
   },
   "outputs": [
    {
     "data": {
      "text/plain": [
       "array(['B', 'M'], dtype=object)"
      ]
     },
     "execution_count": 17,
     "metadata": {},
     "output_type": "execute_result"
    }
   ],
   "source": [
    "from sklearn.preprocessing import LabelEncoder\n",
    "\n",
    "X = df.loc[:, 2:].values\n",
    "y = df.loc[:, 1].values\n",
    "le = LabelEncoder()\n",
    "y = le.fit_transform(y)\n",
    "le.classes_"
   ]
  },
  {
   "cell_type": "code",
   "execution_count": 18,
   "id": "96adab2d",
   "metadata": {
    "ExecuteTime": {
     "end_time": "2023-01-07T13:14:59.339993Z",
     "start_time": "2023-01-07T13:14:59.327891Z"
    }
   },
   "outputs": [],
   "source": [
    "from sklearn.model_selection import train_test_split\n",
    "\n",
    "X_train, X_test, y_train, y_test = \\\n",
    "    train_test_split(X, y,\n",
    "                     test_size=0.20,\n",
    "                     stratify=y,\n",
    "                     random_state=1)"
   ]
  },
  {
   "cell_type": "code",
   "execution_count": 19,
   "id": "56ff8290",
   "metadata": {
    "ExecuteTime": {
     "end_time": "2023-01-07T13:14:59.996348Z",
     "start_time": "2023-01-07T13:14:59.968278Z"
    }
   },
   "outputs": [
    {
     "name": "stdout",
     "output_type": "stream",
     "text": [
      "테스트 정확도: 0.956\n"
     ]
    }
   ],
   "source": [
    "from sklearn.preprocessing import StandardScaler\n",
    "from sklearn.decomposition import PCA\n",
    "from sklearn.linear_model import LogisticRegression\n",
    "from sklearn.pipeline import make_pipeline\n",
    "\n",
    "pipe_lr = make_pipeline(StandardScaler(),\n",
    "                        PCA(n_components=2),\n",
    "                        LogisticRegression(solver='liblinear', random_state=1))\n",
    "\n",
    "pipe_lr.fit(X_train, y_train)\n",
    "y_pred = pipe_lr.predict(X_test)\n",
    "print('테스트 정확도: %.3f' % pipe_lr.score(X_test, y_test))"
   ]
  },
  {
   "cell_type": "markdown",
   "id": "5f424b67",
   "metadata": {},
   "source": [
    "# 미주"
   ]
  },
  {
   "cell_type": "markdown",
   "id": "19da31e2",
   "metadata": {},
   "source": [
    "<b id=\"p01\">1</b> 교차 검증 반복에서 테스트에 사용되는 폴드를 종종 검증 폴드라고도 한다. [↩](#a01)\n",
    "\n",
    "<b id=\"p02\">2</b> A Study of Cross-Validation and Bootstrap for Accuracy Estimation and Model Selection, Kohavi, Ron, International Joint Conference on Artificial Intelligence (IJCAI), 14(12):1137-43, 1995 [↩](#a02)\n",
    "\n",
    "<b id=\"p03\">3</b> 사이킷런의 sklearn.model_selection 패키지 밑에 LOOCV 방법을 구현한 LeaveOneOut 클래스가 있다. [↩](#a03)\n",
    "\n",
    "<b id=\"p04\">4</b> A Study of Corss-Validation and Bootstrap for Accuracy Estimation and Model Selection, International Joint Conference on Artificial Intelligence (IJCAI), 14 (12): 1137-43, 1995 [↩](#a04)"
   ]
  }
 ],
 "metadata": {
  "kernelspec": {
   "display_name": "myenv",
   "language": "python",
   "name": "myenv"
  },
  "language_info": {
   "codemirror_mode": {
    "name": "ipython",
    "version": 3
   },
   "file_extension": ".py",
   "mimetype": "text/x-python",
   "name": "python",
   "nbconvert_exporter": "python",
   "pygments_lexer": "ipython3",
   "version": "3.8.13"
  },
  "toc": {
   "base_numbering": 1,
   "nav_menu": {},
   "number_sections": true,
   "sideBar": true,
   "skip_h1_title": false,
   "title_cell": "Table of Contents",
   "title_sidebar": "Contents",
   "toc_cell": false,
   "toc_position": {},
   "toc_section_display": true,
   "toc_window_display": false
  }
 },
 "nbformat": 4,
 "nbformat_minor": 5
}
