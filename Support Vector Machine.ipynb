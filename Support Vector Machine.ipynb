{
 "cells": [
  {
   "cell_type": "markdown",
   "id": "594a870e",
   "metadata": {},
   "source": [
    "# 설정"
   ]
  },
  {
   "cell_type": "code",
   "execution_count": 1,
   "id": "f3851290",
   "metadata": {
    "ExecuteTime": {
     "end_time": "2022-12-22T13:34:31.839745Z",
     "start_time": "2022-12-22T13:34:30.230026Z"
    }
   },
   "outputs": [],
   "source": [
    "# 파이썬 ≥ 3.5 필수\n",
    "import sys\n",
    "assert sys.version_info >= (3, 5)\n",
    "\n",
    "# 사이킷런 ≥ 0.20 필수\n",
    "import sklearn\n",
    "assert sklearn.__version__ >= \"0.20\"\n",
    "\n",
    "# 공통 모듈 임포트\n",
    "import numpy as np\n",
    "import os\n",
    "\n",
    "# 깔끔한 그래프 출력을 위해\n",
    "%matplotlib inline\n",
    "import matplotlib as mpl\n",
    "import matplotlib.pyplot as plt\n",
    "mpl.rc('axes', labelsize=14)\n",
    "mpl.rc('xtick', labelsize=12)\n",
    "mpl.rc('ytick', labelsize=12)\n",
    "\n",
    "# 그림을 저장할 위치\n",
    "PROJECT_ROOT_DIR = \".\"\n",
    "CHAPTER_ID = \"Support Vector Machine\"\n",
    "IMAGES_PATH = os.path.join(PROJECT_ROOT_DIR, \"images\", CHAPTER_ID)\n",
    "os.makedirs(IMAGES_PATH, exist_ok=True)\n",
    "\n",
    "def save_fig(fig_id, tight_layout=True, fig_extension=\"png\", resolution=300):\n",
    "    path = os.path.join(IMAGES_PATH, fig_id + \".\" + fig_extension)\n",
    "    print(\"그림 저장:\", fig_id)\n",
    "    if tight_layout:\n",
    "        plt.tight_layout()\n",
    "    plt.savefig(path, format=fig_extension, dpi=resolution)"
   ]
  },
  {
   "cell_type": "markdown",
   "id": "154163a8",
   "metadata": {},
   "source": [
    "결정 경계를 그려주는 함수"
   ]
  },
  {
   "cell_type": "code",
   "execution_count": 2,
   "id": "c984be79",
   "metadata": {
    "ExecuteTime": {
     "end_time": "2022-12-22T13:41:07.473752Z",
     "start_time": "2022-12-22T13:41:07.461376Z"
    }
   },
   "outputs": [],
   "source": [
    "from matplotlib.colors import ListedColormap\n",
    "import matplotlib.pyplot as plt\n",
    "\n",
    "def plot_decision_regions(X, y, classifier, text_idx=None, resolution=0.02):\n",
    "    \n",
    "    # 마커와 컬러맵을 설정한다\n",
    "    markers = ('s', 'x', 'o', '^', 'v')\n",
    "    colors = ('red', 'blue', 'lightgreen', 'gray', 'cyan')\n",
    "    cmap = ListedColormap(colors[:len(np.unique(y))])\n",
    "    \n",
    "    # 결정 경계를 그린다\n",
    "    x1_min, x1_max = X[:, 0].min() - 1, X[:, 0].max() + 1\n",
    "    x2_min, x2_max = X[:, 1].min() - 1, X[:, 1].max() + 1\n",
    "    xx1, xx2 = np.meshgrid(np.arange(x1_min, x1_max, resolution),\n",
    "                           np.arange(x2_min, x2_max, resolution))\n",
    "    Z = classifier.predict(np.array([xx1.ravel(), xx2.ravel()]).T)\n",
    "    Z = Z.reshape(xx1.shape)\n",
    "    plt.contourf(xx1, xx2, Z, alpha=0.3, cmap=cmap)\n",
    "    plt.xlim(xx1.min(), xx1.max())\n",
    "    plt.ylim(xx2.min(), xx2.max())\n",
    "    \n",
    "    for idx, cl in enumerate(np.unique(y)):\n",
    "        plt.scatter(x=X[y == cl, 0],\n",
    "                    y=X[y == cl, 1],\n",
    "                    alpha=0.8,\n",
    "                    c=colors[idx],\n",
    "                    marker=markers[idx],\n",
    "                    label=cl,\n",
    "                    edgecolor='black')\n",
    "        \n",
    "    # 테스트 샘플을 부각하여 그린다\n",
    "    if test_idx:\n",
    "        X_test, y_test = X[test_idx, :], y[test_idx]\n",
    "        \n",
    "        plt.scatter(X_test[:, 0],\n",
    "                    X_test[:, 1],\n",
    "                    facecolors='none',\n",
    "                    edgecolor='black',\n",
    "                    alpha=1.0,\n",
    "                    linewidth=1,\n",
    "                    marker='o',\n",
    "                    s=100,\n",
    "                    label='test set')"
   ]
  },
  {
   "cell_type": "markdown",
   "id": "9019af54",
   "metadata": {},
   "source": [
    "다음 코드는 iris 데이터를 불러들이고 학습셋과 테스트셋으로 나눈 후 표준화를 하는 과정이다."
   ]
  },
  {
   "cell_type": "code",
   "execution_count": 3,
   "id": "72033bb8",
   "metadata": {
    "ExecuteTime": {
     "end_time": "2022-12-22T13:41:57.932813Z",
     "start_time": "2022-12-22T13:41:57.827527Z"
    }
   },
   "outputs": [
    {
     "name": "stdout",
     "output_type": "stream",
     "text": [
      "클래스 레이블: [0 1 2]\n"
     ]
    }
   ],
   "source": [
    "from sklearn import datasets\n",
    "import numpy as np\n",
    "\n",
    "iris = datasets.load_iris()\n",
    "X = iris.data[:, [2, 3]]\n",
    "y = iris.target\n",
    "print('클래스 레이블:', np.unique(y))"
   ]
  },
  {
   "cell_type": "code",
   "execution_count": 4,
   "id": "c494ed07",
   "metadata": {
    "ExecuteTime": {
     "end_time": "2022-12-22T13:42:38.581439Z",
     "start_time": "2022-12-22T13:42:38.571441Z"
    }
   },
   "outputs": [],
   "source": [
    "from sklearn.model_selection import train_test_split\n",
    "X_train, X_test, y_train, y_test = train_test_split(\n",
    "    X, y, test_size=0.3, random_state=1, stratify=y)"
   ]
  },
  {
   "cell_type": "code",
   "execution_count": 5,
   "id": "70682b99",
   "metadata": {
    "ExecuteTime": {
     "end_time": "2022-12-22T13:43:35.973071Z",
     "start_time": "2022-12-22T13:43:35.959449Z"
    }
   },
   "outputs": [],
   "source": [
    "from sklearn.preprocessing import StandardScaler\n",
    "sc = StandardScaler()\n",
    "sc.fit(X_train)\n",
    "\n",
    "X_train_std = sc.transform(X_train)\n",
    "X_test_std = sc.transform(X_test)\n",
    "\n",
    "X_combined_std = np.vstack((X_train_std, X_test_std))\n",
    "y_combined = np.hstack((y_train, y_test))"
   ]
  },
  {
   "cell_type": "markdown",
   "id": "63958f25",
   "metadata": {},
   "source": [
    "# 서포트 벡터 머신을 사용한 최대 마진 분류"
   ]
  },
  {
   "cell_type": "markdown",
   "id": "b049da77",
   "metadata": {},
   "source": [
    "<b>서포트 벡터 머신</b><sup>Support Vector Machine, SVM</sup>은 강력하고 널리 사용되는 학습 알고리즘이다. SVM은 퍼셉트론의 확장으로 생각할 수 있다. 앞서 퍼셉트론 알고리즘을 사용하여 분류 오차를 최소화했다. SVM의 최적화 대상은 마진을 최대화하는 것이다. 마진은 클래스를 구분하는 초평면(결정 경계)과 이 초평면에 가장 가까운 훈련 샘플 사이의 거리로 정의한다. 이런 샘플을 <b>서포터 벡터</b><sup>support vector</sup>라고 한다. [그림 1]에 나타나 있다."
   ]
  },
  {
   "cell_type": "markdown",
   "id": "c262f096",
   "metadata": {},
   "source": [
    "<b>그림 1</b> 서포트 벡터 머신\n",
    "<div style=\"text-align:center;\">\n",
    "    <img src=\"./images/Support Vector Machine/서포트 벡터 머신.png\">\n",
    "</div>"
   ]
  },
  {
   "cell_type": "markdown",
   "id": "dda7c1b3",
   "metadata": {},
   "source": [
    "## 최대 마진"
   ]
  },
  {
   "cell_type": "markdown",
   "id": "51b53ac8",
   "metadata": {},
   "source": [
    "큰 마진<sup>large margin</sup>의 결정 경계를 원하는 이유는 일반화 오차가 낮아지는 경향이 있기 때문이다. 반면에 작은 마진의 모델은 과대적합되기 쉽다. 마진 최대화를 이해하기 위해 결정 경계와 나란히 놓인 양성 샘플 쪽의 초평면과 음성 샘플 쪽의 초평면을 자세히 살펴보겠다. 이 두 초평면은 다음과 같이 쓸 수 있다.<sup><a id=\"a01\" href=\"#p01\">[1]</a></sup>"
   ]
  },
  {
   "cell_type": "markdown",
   "id": "ee5df34d",
   "metadata": {},
   "source": [
    "<div style=\"text-align:center;\">\n",
    "    <img src=\"./images/formula/Support Vector Machine/양쪽 초평면 식.png\">\n",
    "</div>"
   ]
  },
  {
   "cell_type": "markdown",
   "id": "9e376747",
   "metadata": {},
   "source": [
    "두 선형식 (1)과 (2)를 빼면 다음 결과를 얻는다."
   ]
  },
  {
   "cell_type": "markdown",
   "id": "05aed5ee",
   "metadata": {},
   "source": [
    "<div style=\"text-align:center;\">\n",
    "    <img src=\"./images/formula/Support Vector Machine/양쪽 초평면 식2.png\">\n",
    "</div>"
   ]
  },
  {
   "cell_type": "markdown",
   "id": "2c361b12",
   "metadata": {},
   "source": [
    "이 식을 다음과 같은 벡터 w의 길이로 정규화할 수 있다."
   ]
  },
  {
   "cell_type": "markdown",
   "id": "891e67f0",
   "metadata": {},
   "source": [
    "<div style=\"text-align:center;\">\n",
    "    <img src=\"./images/formula/Support Vector Machine/w의 길이.png\">\n",
    "</div>"
   ]
  },
  {
   "cell_type": "markdown",
   "id": "470c622c",
   "metadata": {},
   "source": [
    "결과 식은 다음과 같다."
   ]
  },
  {
   "cell_type": "markdown",
   "id": "1ad8afb3",
   "metadata": {},
   "source": [
    "<div style=\"text-align:center;\">\n",
    "    <img src=\"./images/formula/Support Vector Machine/초평면 사이의 거리.png\">\n",
    "</div>"
   ]
  },
  {
   "cell_type": "markdown",
   "id": "9fd4cf7e",
   "metadata": {},
   "source": [
    "이 식의 좌변은 양성 쪽 초평면과 음성 쪽 초평면 사이의 거리로 해석할 수 있다.<sup><a id=\"a02\" href=\"#p02\">[2]</a></sup> 이것이 최대화하려고 하는 <b>마진</b><sup>margin</sup>이다."
   ]
  },
  {
   "cell_type": "markdown",
   "id": "98e67771",
   "metadata": {},
   "source": [
    "# 미주"
   ]
  },
  {
   "cell_type": "markdown",
   "id": "092faf8f",
   "metadata": {},
   "source": [
    "<b id=\"p01\">1</b> 여기서는 편의상 <i>w</i><sub>0</sub>를 따로 표기했다. 이 식은 <i>w</i><sub>2</sub>축과 만나는 절편을 1 / <i>w</i><sub>2</sub> 만큼 위아래로 결정 경계와 나란하게 이동한 직선이 된다. [↩](#a01)\n",
    "\n",
    "<b id=\"p02\">2</b> 직선 Ax+By+c=0과 점(x<sub>0</sub>, y<sub>0</sub>) 사이의 거리 <i>d</i>=(Ax<sub>0</sub>+By<sub>0</sub>+c)/(√(A<sup>2</sup>+B<sup>2</sup>) 이므로 왼쪽 식은 두 서포트 벡터 x<sub>pos</sub>와 x<sub>neg</sub> 사이의 거리가 된다. [↩](#a02)"
   ]
  }
 ],
 "metadata": {
  "kernelspec": {
   "display_name": "myenv",
   "language": "python",
   "name": "myenv"
  },
  "language_info": {
   "codemirror_mode": {
    "name": "ipython",
    "version": 3
   },
   "file_extension": ".py",
   "mimetype": "text/x-python",
   "name": "python",
   "nbconvert_exporter": "python",
   "pygments_lexer": "ipython3",
   "version": "3.8.13"
  },
  "toc": {
   "base_numbering": 1,
   "nav_menu": {},
   "number_sections": true,
   "sideBar": true,
   "skip_h1_title": false,
   "title_cell": "Table of Contents",
   "title_sidebar": "Contents",
   "toc_cell": false,
   "toc_position": {},
   "toc_section_display": true,
   "toc_window_display": false
  }
 },
 "nbformat": 4,
 "nbformat_minor": 5
}
