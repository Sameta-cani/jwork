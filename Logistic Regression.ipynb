{
 "cells": [
  {
   "cell_type": "markdown",
   "id": "b3bfba7d",
   "metadata": {},
   "source": [
    "# 설정"
   ]
  },
  {
   "cell_type": "code",
   "execution_count": 8,
   "id": "ff7d2514",
   "metadata": {
    "ExecuteTime": {
     "end_time": "2022-12-14T13:58:08.582889Z",
     "start_time": "2022-12-14T13:58:07.143352Z"
    }
   },
   "outputs": [],
   "source": [
    "# 파이썬 ≥ 3.5 필수\n",
    "import sys\n",
    "assert sys.version_info >= (3, 5)\n",
    "\n",
    "# 사이킷런 ≥ 0.20 필수\n",
    "import sklearn\n",
    "assert sklearn.__version__ >= \"0.20\"\n",
    "\n",
    "# 공통 모듈 임포트\n",
    "import numpy as np\n",
    "import os\n",
    "\n",
    "# 깔끔한 그래프 출력을 위해\n",
    "%matplotlib inline\n",
    "import matplotlib as mpl\n",
    "import matplotlib.pyplot as plt\n",
    "mpl.rc('axes', labelsize=14)\n",
    "mpl.rc('xtick', labelsize=12)\n",
    "mpl.rc('ytick', labelsize=12)\n",
    "\n",
    "# 그림을 저장할 위치\n",
    "PROJECT_ROOT_DIR = \".\"\n",
    "CHAPTER_ID = \"Logistic Regression\"\n",
    "IMAGES_PATH = os.path.join(PROJECT_ROOT_DIR, \"images\", CHAPTER_ID)\n",
    "os.makedirs(IMAGES_PATH, exist_ok=True)\n",
    "\n",
    "def save_fig(fig_id, tight_layout=True, fig_extension=\"png\", resolution=300):\n",
    "    path = os.path.join(IMAGES_PATH, fig_id + \".\" + fig_extension)\n",
    "    print(\"그림 저장:\", fig_id)\n",
    "    if tight_layout:\n",
    "        plt.tight_layout()\n",
    "    plt.savefig(path, format=fig_extension, dpi=resolution)"
   ]
  },
  {
   "cell_type": "markdown",
   "id": "09fc9739",
   "metadata": {},
   "source": [
    "# 로지스틱 회귀를 사용한 클래스 확률 모델링"
   ]
  },
  {
   "cell_type": "markdown",
   "id": "01f03f39",
   "metadata": {},
   "source": [
    "<b>로지스틱 회귀</b><sup>logistic regression</sup>(또는 <b>로짓 회귀</b><sup>logit regression</sup>)는 샘플이 특정 클래스에 속할 확률을 추정하는 데 널리 사용된다(예를 들면 이 이메일이 스팸일 확률은 얼마인가?). 추정 확률이 50%가 넘으면 모델은 그 샘플이 해당 클래스에 속한다고 예측한다(즉, 레이블이 '1'인 <b>양성 클래스</b><sup>positive class</sup>). 아니면 클래스에 속하지 않는다고 예측한다(즉, 레이블이 '0'인 <b>음성 클래스</b><sup>negative class</sup>). 이를 이진 분류기라고 한다."
   ]
  },
  {
   "cell_type": "markdown",
   "id": "5787e47d",
   "metadata": {},
   "source": [
    "로지스틱 회귀와 퍼셉트론의 차이로는 활성화 함수가 <b>시그모이드 함수</b><sup>sigmoid function</sup>(혹은 <b>로지스틱 시그모이드 함수</b><sup>logistic sigmoid function</sup>)라는 점, 손실 함수가 <b>교차 엔트로피 오차 함수</b><sup>cross-entropy error function</sup>인 점, <b>규제항</b><sup>regularization term</sup>이 추가되어서 과적합을 방지할 수 있다는 점, 온라인 학습과 배치 학습에 모두 적용할 수 있다는 점 등을 볼 수 있다."
   ]
  },
  {
   "cell_type": "markdown",
   "id": "14e751e2",
   "metadata": {},
   "source": [
    "### 로지스틱 회귀의 이해와 조건부 확률"
   ]
  },
  {
   "cell_type": "markdown",
   "id": "1aa831af",
   "metadata": {},
   "source": [
    "로지스틱 회귀는 구현하기 매우 쉽고 선형적으로 구분되는 클래스에 뛰어난 성능을 내는 분류 모델이다. 산업계에서 가장 널리 사용되는 분류 알고리즘 중 하나다. 퍼셉트론이나 아달린과 마찬가지로 로지스틱 회귀 모델도 이진 분류를 위한 선형 모델이지만 다중 분류로 확장할 수 있다. 예를 들어 OvR 방식을 사용한다."
   ]
  },
  {
   "cell_type": "markdown",
   "id": "3e228ec8",
   "metadata": {},
   "source": [
    "확률 모델로서 로지스틱 회귀 모델 이면에 있는 아이디어를 설명하기 위해 먼저 <b>오즈비</b><sup>odds ratio</sup>를 소개한다. 오즈(승산이라고도 한다)는 특정 이벤트가 발생할 확률이다. 오즈비는 성공 확률이 실패 확률에 비해 몇 배 더 높은가를 나타낸다. 여기서 <i>P</i>는 양성 샘플일 확률이다. 양성 샘플은 좋은 것을 의미하지 않고 예측하려는 대상을 말한다. 예를 들어 환자가 어떤 질병을 가지고 있을 확률이다. 양성 샘플이 클래스 레이블 y=1인 샘플이다."
   ]
  },
  {
   "cell_type": "markdown",
   "id": "a7a5d361",
   "metadata": {},
   "source": [
    "<div style=\"text-align:center;\">\n",
    "    <img src=\"./images/formula/Logistic Regression/odds ratio.png\">\n",
    "</div>"
   ]
  },
  {
   "cell_type": "markdown",
   "id": "1f8aba4c",
   "metadata": {},
   "source": [
    "오즈비를 그래프로 그리면 다음과 같다. <i>p</i>가 0부터 1까지 증가할 때 오즈비의 값은 처음에는 천천히 증가하지만 <i>p</i>가 1에 가까워지면 급격히 증가한다."
   ]
  },
  {
   "cell_type": "markdown",
   "id": "8c4d63ba",
   "metadata": {},
   "source": [
    "<b>그림 1</b> 오즈비 그래프\n",
    "<div style=\"text-align:center;\">\n",
    "    <img src=\"./images/Logistic Regression/오즈비 그래프.png\">\n",
    "</div>"
   ]
  },
  {
   "cell_type": "markdown",
   "id": "f9a67ca3",
   "metadata": {},
   "source": [
    "오즈비에 로그 함수를 취해 로짓<sup>logit</sup> 함수를 정의한다. 여기서 <i>log</i>는 컴퓨터 과학에서 널리 사용되는 자연 로그다. <i>logit</i> 함수는 [0, 1] 범위의 입력(확률이므로)을 받아 (－∞, ＋∞)의 범위 값으로 변환한다. "
   ]
  },
  {
   "cell_type": "markdown",
   "id": "c84dcc3d",
   "metadata": {},
   "source": [
    "<div style=\"text-align:center;\">\n",
    "    <img src=\"./images/formula/Logistic Regression/logit 함수.png\">\n",
    "</div>"
   ]
  },
  {
   "cell_type": "markdown",
   "id": "79d23cfd",
   "metadata": {},
   "source": [
    "로짓 함수는 <i>p</i>가 0.5일 때 0이 되고 <i>p</i>가 0과 1일 때 각각 무한대로 음수와 양수가 되는 특징을 갖는다. 다음은 로짓 함수의 그래프다."
   ]
  },
  {
   "cell_type": "markdown",
   "id": "49ea1829",
   "metadata": {},
   "source": [
    "<b>그림 2</b> 로짓 함수 그래프\n",
    "<div style=\"text-align:center;\">\n",
    "    <img src=\"./images/Logistic Regression/로짓함수 그래프.png\">\n",
    "</div>"
   ]
  },
  {
   "cell_type": "markdown",
   "id": "fc1e0087",
   "metadata": {},
   "source": [
    "특성의 가중치 합과 로그 오즈 사이의 선형 관계를 다음과 같이 쓸 수 있다."
   ]
  },
  {
   "cell_type": "markdown",
   "id": "7a91992c",
   "metadata": {},
   "source": [
    "<div style=\"text-align:center;\">\n",
    "    <img src=\"./images/formula/Logistic Regression/가중합과 로그 오즈 사이의 관계.png\">\n",
    "</div>"
   ]
  },
  {
   "cell_type": "markdown",
   "id": "a757695a",
   "metadata": {},
   "source": [
    "여기서 <i>p</i>(<i>y</i>=1|<b>x</b>)는 특성 <b>x</b>가 주어졌을 때 이 샘플이 클래스 1에 속할 조건부 확률이다."
   ]
  },
  {
   "cell_type": "markdown",
   "id": "ed4bbcae",
   "metadata": {},
   "source": [
    "어떤 샘플이 특정 클래스에 속할 확률을 예측하는 것이 관심 대상이므로 <i>logit</i> 함수를 거꾸로 뒤집는다. 이 함수를 로지스틱 시그모이드 함수라고 한다. 함수 모양이 S자 형태를 띠기 때문에 간단하게 줄여서 시그모이드 함수라고도 한다."
   ]
  },
  {
   "cell_type": "markdown",
   "id": "c5a7bffe",
   "metadata": {},
   "source": [
    "<div style=\"text-align:center;\">\n",
    "    <img src=\"./images/formula/Logistic Regression/sigmoid.png\">\n",
    "</div>"
   ]
  },
  {
   "cell_type": "markdown",
   "id": "7cdaff2d",
   "metadata": {},
   "source": [
    "여기서 z는 가중치와 샘플 특성의 선형 조합으로 이루어진 최종 입력이다. 즉, z = <b>w</b><sup>T</sup><b>x</b> = <i>w</i><sub>0</sub><i>x</i><sub>0</sub> + <i>w</i><sub>1</sub><i>x</i><sub>1</sub> + ... + <i>w</i><sub>m</sub><i>x</i><sub>m</sub> 이다."
   ]
  },
  {
   "cell_type": "markdown",
   "id": "44060a2b",
   "metadata": {},
   "source": [
    "<div style=\"background-color:#D3D3D3; padding:10px;\">\n",
    "    <span style=\"color: #D0B134\"><strong>NOTEΞ</strong></span> Perceptron에서 사용했던 방식처럼 <i>w</i><sub>0</sub>은 절편을 의미한다. 이를 위해 값이 1인 입력 <i>x</i><sub>0</sub>를 추가한다.\n",
    "</div>"
   ]
  },
  {
   "cell_type": "markdown",
   "id": "203098b0",
   "metadata": {},
   "source": [
    "<div style=\"background-color:#D3D3D3; padding:10px;\">\n",
    "    <span style=\"color: #D0B134\"><strong>NOTEΞ</strong></span> 로짓과 로지스틱 함수는 서로 역함수 관계이다. 그래서 로지스틱 함수의 입력을 로짓이라고 부른다.<br><br>\n",
    "    <div style=\"text-align:center;\">\n",
    "        <img src=\"./images/formula/Logistic Regression/유도과정.png\">\n",
    "    </div><br>\n",
    "    로짓을 <b>로그 오즈</b><sup>log-odds</sup>라고도 부른다. 로그 오즈는 양성 클래스 추정 확률과 음성 클래스 추정 확률 사이의 로그 비율이기 때문이다.\n",
    "</div>"
   ]
  },
  {
   "cell_type": "markdown",
   "id": "54fed0fa",
   "metadata": {},
   "source": [
    "### 시그모이드 함수"
   ]
  },
  {
   "cell_type": "markdown",
   "id": "3b5546ce",
   "metadata": {},
   "source": [
    "시그모이드는 다음과 같은 S자 형태의 함수이다. 계단 함수와 같이 함숫값의 범위도 [0, 1] 사이이다. 시그모이드 함수는 모든 구간에서 미분할 수 있고 증가 함수이므로 미분값이 항상 양수이다."
   ]
  },
  {
   "cell_type": "markdown",
   "id": "efc77fc3",
   "metadata": {},
   "source": [
    "시그모이드 함수<sup><a id=\"a01\" href=\"#p01\">1</a></sup>가 어떤 모습인지 -7에서 7까지 그려 보겠다."
   ]
  },
  {
   "cell_type": "code",
   "execution_count": 9,
   "id": "8c3c2104",
   "metadata": {
    "ExecuteTime": {
     "end_time": "2022-12-14T13:58:11.274699Z",
     "start_time": "2022-12-14T13:58:10.741117Z"
    }
   },
   "outputs": [
    {
     "name": "stdout",
     "output_type": "stream",
     "text": [
      "그림 저장: 시그모이드 곡선\n"
     ]
    },
    {
     "data": {
      "image/png": "[encoded data removed]",
      "text/plain": [
       "<Figure size 432x288 with 1 Axes>"
      ]
     },
     "metadata": {
      "needs_background": "light"
     },
     "output_type": "display_data"
    }
   ],
   "source": [
    "import matplotlib.pyplot as plt\n",
    "import numpy as np\n",
    "\n",
    "def sigmoid(z):\n",
    "    return 1.0 / (1.0 + np.exp(-z))\n",
    "\n",
    "z = np.arange(-7, 7, 0.1)\n",
    "phi_z = sigmoid(z)\n",
    "plt.plot(z, phi_z)\n",
    "plt.axvline(0.0, color='k')\n",
    "plt.ylim(-0.1, 1.1)\n",
    "plt.xlabel('z')\n",
    "plt.ylabel('$\\phi (z)$')\n",
    "# y축의 눈금과 격자선\n",
    "plt.yticks([0.0, 0.5, 1.0])\n",
    "ax = plt.gca()\n",
    "ax.yaxis.grid(True)\n",
    "plt.tight_layout()\n",
    "save_fig('시그모이드 곡선')\n",
    "plt.show()"
   ]
  },
  {
   "cell_type": "markdown",
   "id": "c50c204e",
   "metadata": {},
   "source": [
    "z가 무한대로 가면(z→∞) <i>e<sup>-z</sup></i>가 매우 작아지기 때문에 <i>Φ(z)</i>는 1에 가까워진다. 비슷하게 z→－∞이면 점점 분모가 커지기 때문에 <i>Φ(z)</i>는 0에 수렴한다. 이 시그모이드 함수는 실수 입력 값을 [0, 1] 사이의 값으로 변환한다. 중간은 <i>Φ(0)</i> = 0.5다."
   ]
  },
  {
   "cell_type": "markdown",
   "id": "96217521",
   "metadata": {},
   "source": [
    "시그모이드는 오랫동안 활성 함수로 사용되었지만 다음과 같은 몇 가지 문제점이 있다.\n",
    "<ul>\n",
    "    <li>함수 정의에 지수 함수가 포함되어 있어서 연산 비용이 많이 든다.</li>\n",
    "    <li>그레디언트 포화가 발생해서 학습이 중단될 수 있다.</li>\n",
    "    <li>양수만 출력하므로 학습 경로가 진동하면서 학습 속도가 느려진다.</li>\n",
    "</ul>"
   ]
  },
  {
   "cell_type": "markdown",
   "id": "09d073b1",
   "metadata": {},
   "source": [
    "<b>그레디언트 포화</b><sup>gradient "
   ]
  },
  {
   "cell_type": "markdown",
   "id": "f5933165",
   "metadata": {},
   "source": [
    "#### 시그모이드 함수와 계단 함수 비교"
   ]
  },
  {
   "cell_type": "markdown",
   "id": "87034453",
   "metadata": {},
   "source": [
    "시그모이드 함수와 Perceptron의 활성화 함수인 계단 함수를 비교해보자. 이 두 함수를 [그림 3]에 함께 그려봤다."
   ]
  },
  {
   "cell_type": "markdown",
   "id": "b9bda6e0",
   "metadata": {},
   "source": [
    "<b>그림 3</b> 계단 함수(점선)와 시그모이드 함수(실선)\n",
    "<div style=\"text-align:center;\">\n",
    "    <img src=\"./images/Logistic Regression/계단 함수와 시그모이드 함수.png\">\n",
    "</div>"
   ]
  },
  {
   "cell_type": "markdown",
   "id": "6e4c9801",
   "metadata": {},
   "source": [
    "[그림 3]을 보고 가장 먼저 느껴지는 점은 '매끄러움'의 차이일 것이다. 시그모이드 함수는 부드러운 곡선이며 입력에 따라 출력이 연속적으로 변화한다. 한편, 계단 함수는 0을 경계로 출력이 갑자기 바뀌어버린다. 시그모이드 함수의 이 매끈함이 신경망 학습에서 아주 중요한 역할을 하게 된다(미분이 가능하기 때문에)."
   ]
  },
  {
   "cell_type": "markdown",
   "id": "d1f27174",
   "metadata": {},
   "source": [
    "계단 함수가 0과 1 중 하나의 값만 돌려주는 반면 시그모이드 함수는 실수를 돌려준다는 점도 다르다. 다시 말해 퍼셉트론에서는 뉴런 사이에 0 혹은 1이 흘렀다면, 신경망에서는 연속적인 실수가 흐른다."
   ]
  },
  {
   "cell_type": "markdown",
   "id": "125d09e2",
   "metadata": {},
   "source": [
    "두 함수는 매끄러움이라는 점에서는 다르지만, [그림 3]을 큰 관점에서 보면 둘은 같은 모양을 하고 있다. 둘 다 입력이 작을 때의 출력은 0에 가깝고(혹은 0이고), 입력이 커지면 출력이 1에 가까워지는(혹은 1이 되는) 구조인 것이다. 즉, 계단 함수와 시그모이드 함수는 입력이 중요하면 큰 값을 출력하고 입력이 중요하지 않으면 작은 값을 출력한다. 그리고 입력이 아무리 작거나 커도 출력은 0에서 1 사이라는 것도 둘의 공통점이다."
   ]
  },
  {
   "cell_type": "markdown",
   "id": "2fab6ae4",
   "metadata": {},
   "source": [
    "#### 비선형 함수"
   ]
  },
  {
   "cell_type": "markdown",
   "id": "bd03bc39",
   "metadata": {},
   "source": [
    "계단 함수와 시그모이드 함수의 공통점은 그 밖에도 있다. 중요한 공통점으로, 둘 모두는 <b>비선형 함수</b>다. 시그모이드 함수는 곡선, 계단 함수는 계단처럼 구부러진 직선으로 나타나며, 동시에 비선형 함수로 분류된다."
   ]
  },
  {
   "cell_type": "markdown",
   "id": "81c48e14",
   "metadata": {},
   "source": [
    "<div style=\"background-color:#D3D3D3; padding:10px;\">\n",
    "    <span style=\"color: #D0B134\"><strong>NOTEΞ</strong></span> 활성화 함수를 설명할 때 비선형 함수와 선형 함수라는 용어가 자주 등장한다. 함수란 어떤 값을 입력하면 그에 따른 값을 돌려주는 '변환기'다. 이 변환기에 무언가 입력했을 때 출력이 입력의 상수배만큼 변하는 함수를 <b>선형 함수</b>라고 한다. 수식으로는 <i>f(x) = ax + b</i>이고, 이때 <i>a</i>와 <i>b</i>는 상수다. 그래서 선형 함수는 곧은 1개의 직선이 된다. 한편, <b>비선형 함수</b>는 문자 그대로 '선형이 아닌'함수다. 즉, 직선 1개로는 그릴 수 없는 함루를 말한다.\n",
    "</div>"
   ]
  },
  {
   "cell_type": "markdown",
   "id": "bce7f2a6",
   "metadata": {},
   "source": [
    "신경망에서는 활성화 함수로 비선형 함수를 사용해야 한다. 달리 말하면 선형 함수를 사용해서는 안 된다. 그 이유는 바로 선형 함수를 이용하면 신경망의 층을 깊게 하는 읨가 없어지기 때문이다."
   ]
  },
  {
   "cell_type": "markdown",
   "id": "bf58dbe1",
   "metadata": {},
   "source": [
    "선형 함수의 문제는 층을 아무리 깊게 해도 '은닉층이 없는 네트워크'로도 똑같은 기능을 할 수 있다는 데 있다. 구체적으로 (약간 직감적으로) 설명해주는 간단한 예를 생각해보자. 선형 함수인 <i>h(x) = cx</i>를 활성하 함수로 사용한 3층 내트워크를 떠올려보자. 이를 식으로 나타내면 <i>y(x) = h(h(h(x)))</i>가 된다. 이 계산은 <i>y(x) = c * c * c * x</i>처럼 곱셈을 세 번 수행하지만, 실은 <i>y(x) = ax</i>와 똑같은 식이다. <i>a = c<sup>3</sup></i>이라고만 하면 끝이다. 즉, 은닉층이 없는 네트워크로 표현할 수 있다. 이 예처럼 선형 함수를 이용해서는 여러 층으로 구성하는 이점을 살릴 수 없다. 그래서 층을 쌓는 혜택을 얻고 싶다면 활성화 함수로는 반드시 비선형 함수를 사용해야 한다."
   ]
  },
  {
   "cell_type": "markdown",
   "id": "a4e9ed0a",
   "metadata": {},
   "source": [
    "# 미주"
   ]
  },
  {
   "cell_type": "markdown",
   "id": "c3afd295",
   "metadata": {},
   "source": [
    "<b id=\"p01\">1</b> 시그모이드<sup>sigmoid</sup>란 'S자 모양'이라는 뜻이다. 계단 함수처럼 그 모양을 따 이름을 지은 것이다. [↩](#a01)"
   ]
  }
 ],
 "metadata": {
  "kernelspec": {
   "display_name": "myenv",
   "language": "python",
   "name": "myenv"
  },
  "language_info": {
   "codemirror_mode": {
    "name": "ipython",
    "version": 3
   },
   "file_extension": ".py",
   "mimetype": "text/x-python",
   "name": "python",
   "nbconvert_exporter": "python",
   "pygments_lexer": "ipython3",
   "version": "3.8.13"
  },
  "toc": {
   "base_numbering": 1,
   "nav_menu": {},
   "number_sections": true,
   "sideBar": true,
   "skip_h1_title": false,
   "title_cell": "Table of Contents",
   "title_sidebar": "Contents",
   "toc_cell": false,
   "toc_position": {},
   "toc_section_display": true,
   "toc_window_display": false
  }
 },
 "nbformat": 4,
 "nbformat_minor": 5
}
