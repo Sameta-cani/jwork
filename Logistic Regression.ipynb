{
 "cells": [
  {
   "cell_type": "markdown",
   "id": "b3bfba7d",
   "metadata": {},
   "source": [
    "# 설정"
   ]
  },
  {
   "cell_type": "code",
   "execution_count": 24,
   "id": "ff7d2514",
   "metadata": {
    "ExecuteTime": {
     "end_time": "2022-12-19T10:36:42.592205Z",
     "start_time": "2022-12-19T10:36:42.569561Z"
    }
   },
   "outputs": [],
   "source": [
    "# 파이썬 ≥ 3.5 필수\n",
    "import sys\n",
    "assert sys.version_info >= (3, 5)\n",
    "\n",
    "# 사이킷런 ≥ 0.20 필수\n",
    "import sklearn\n",
    "assert sklearn.__version__ >= \"0.20\"\n",
    "\n",
    "# 공통 모듈 임포트\n",
    "import numpy as np\n",
    "import os\n",
    "\n",
    "# 깔끔한 그래프 출력을 위해\n",
    "%matplotlib inline\n",
    "import matplotlib as mpl\n",
    "import matplotlib.pyplot as plt\n",
    "mpl.rc('axes', labelsize=14)\n",
    "mpl.rc('xtick', labelsize=12)\n",
    "mpl.rc('ytick', labelsize=12)\n",
    "\n",
    "# 그림을 저장할 위치\n",
    "PROJECT_ROOT_DIR = \".\"\n",
    "CHAPTER_ID = \"Logistic Regression\"\n",
    "IMAGES_PATH = os.path.join(PROJECT_ROOT_DIR, \"images\", CHAPTER_ID)\n",
    "os.makedirs(IMAGES_PATH, exist_ok=True)\n",
    "\n",
    "def save_fig(fig_id, tight_layout=True, fig_extension=\"png\", resolution=300):\n",
    "    path = os.path.join(IMAGES_PATH, fig_id + \".\" + fig_extension)\n",
    "    print(\"그림 저장:\", fig_id)\n",
    "    if tight_layout:\n",
    "        plt.tight_layout()\n",
    "    plt.savefig(path, format=fig_extension, dpi=resolution)"
   ]
  },
  {
   "cell_type": "markdown",
   "id": "995daa45",
   "metadata": {},
   "source": [
    "결정 경계를 그려주는 함수"
   ]
  },
  {
   "cell_type": "code",
   "execution_count": 25,
   "id": "a11b6b8c",
   "metadata": {
    "ExecuteTime": {
     "end_time": "2022-12-19T10:36:42.608260Z",
     "start_time": "2022-12-19T10:36:42.594207Z"
    }
   },
   "outputs": [],
   "source": [
    "from matplotlib.colors import ListedColormap\n",
    "import matplotlib.pyplot as plt\n",
    "\n",
    "def plot_decision_regions(X, y, classifier, test_idx=None, resolution=0.02):\n",
    "    \n",
    "    # 마커와 컬러맵을 설정한다\n",
    "    markers = ('s', 'x', 'o', '^', 'v')\n",
    "    colors = ('red', 'blue', 'lightgreen', 'gray', 'cyan')\n",
    "    cmap = ListedColormap(colors[:len(np.unique(y))])\n",
    "    \n",
    "    # 결정 경계를 그린다\n",
    "    x1_min, x1_max = X[:, 0].min() - 1, X[:, 0].max() + 1\n",
    "    x2_min, x2_max = X[:, 1].min() - 1, X[:, 1].max() + 1\n",
    "    xx1, xx2 = np.meshgrid(np.arange(x1_min, x1_max, resolution),\n",
    "                           np.arange(x2_min, x2_max, resolution))\n",
    "    Z = classifier.predict(np.array([xx1.ravel(), xx2.ravel()]).T)\n",
    "    Z = Z.reshape(xx1.shape)\n",
    "    plt.contourf(xx1, xx2, Z, alpha=0.3, cmap=cmap)\n",
    "    plt.xlim(xx1.min(), xx1.max())\n",
    "    plt.ylim(xx2.min(), xx2.max())\n",
    "    \n",
    "    for idx, cl in enumerate(np.unique(y)):\n",
    "        plt.scatter(x=X[y == cl, 0],\n",
    "                    y=X[y == cl, 1],\n",
    "                    alpha=0.8,\n",
    "                    c=colors[idx],\n",
    "                    marker=markers[idx],\n",
    "                    label=cl,\n",
    "                    edgecolor='black')\n",
    "        \n",
    "    # 테스트 샘플을 부각하여 그린다\n",
    "    if test_idx:\n",
    "        X_test, y_test = X[test_idx, :], y[test_idx]\n",
    "        \n",
    "        plt.scatter(X_test[:, 0],\n",
    "                    X_test[:, 1],\n",
    "                    facecolors='none',\n",
    "                    edgecolor='black',\n",
    "                    alpha=1.0,\n",
    "                    linewidth=1,\n",
    "                    marker='o',\n",
    "                    s=100,\n",
    "                    label='test set')"
   ]
  },
  {
   "cell_type": "markdown",
   "id": "3b11fefb",
   "metadata": {},
   "source": [
    "다음 코드는 iris 데이터셋을 불러들이고 학습셋과 테스트셋으로 나눈 후 표준화를 하는 과정이다."
   ]
  },
  {
   "cell_type": "code",
   "execution_count": 26,
   "id": "2de1f162",
   "metadata": {
    "ExecuteTime": {
     "end_time": "2022-12-19T10:36:42.623787Z",
     "start_time": "2022-12-19T10:36:42.610260Z"
    }
   },
   "outputs": [
    {
     "name": "stdout",
     "output_type": "stream",
     "text": [
      "클래스 레이블: [0 1 2]\n"
     ]
    }
   ],
   "source": [
    "from sklearn import datasets\n",
    "import numpy as np\n",
    "\n",
    "iris = datasets.load_iris()\n",
    "X = iris.data[:, [2, 3]]\n",
    "y = iris.target\n",
    "print('클래스 레이블:', np.unique(y))"
   ]
  },
  {
   "cell_type": "code",
   "execution_count": 27,
   "id": "194b14c6",
   "metadata": {
    "ExecuteTime": {
     "end_time": "2022-12-19T10:36:42.639841Z",
     "start_time": "2022-12-19T10:36:42.625296Z"
    }
   },
   "outputs": [],
   "source": [
    "from sklearn.model_selection import train_test_split\n",
    "X_train, X_test, y_train, y_test = train_test_split(\n",
    "    X, y, test_size=0.3, random_state=1, stratify=y)"
   ]
  },
  {
   "cell_type": "code",
   "execution_count": 28,
   "id": "a0638568",
   "metadata": {
    "ExecuteTime": {
     "end_time": "2022-12-19T10:36:42.655375Z",
     "start_time": "2022-12-19T10:36:42.641842Z"
    }
   },
   "outputs": [],
   "source": [
    "from sklearn.preprocessing import StandardScaler\n",
    "sc = StandardScaler()\n",
    "sc.fit(X_train)\n",
    "\n",
    "X_train_std = sc.transform(X_train)\n",
    "X_test_std = sc.transform(X_test)\n",
    "\n",
    "X_combined_std = np.vstack((X_train_std, X_test_std))\n",
    "y_combined = np.hstack((y_train, y_test))"
   ]
  },
  {
   "cell_type": "markdown",
   "id": "09fc9739",
   "metadata": {},
   "source": [
    "# 로지스틱 회귀를 사용한 클래스 확률 모델링"
   ]
  },
  {
   "cell_type": "markdown",
   "id": "01f03f39",
   "metadata": {},
   "source": [
    "<b>로지스틱 회귀</b><sup>logistic regression</sup>(또는 <b>로짓 회귀</b><sup>logit regression</sup>)는 샘플이 특정 클래스에 속할 확률을 추정하는 데 널리 사용된다(예를 들면 이 이메일이 스팸일 확률은 얼마인가?). 추정 확률이 50%가 넘으면 모델은 그 샘플이 해당 클래스에 속한다고 예측한다(즉, 레이블이 '1'인 <b>양성 클래스</b><sup>positive class</sup>). 아니면 클래스에 속하지 않는다고 예측한다(즉, 레이블이 '0'인 <b>음성 클래스</b><sup>negative class</sup>). 이를 이진 분류기라고 한다."
   ]
  },
  {
   "cell_type": "markdown",
   "id": "5787e47d",
   "metadata": {},
   "source": [
    "로지스틱 회귀와 퍼셉트론의 차이로는 활성화 함수가 <b>시그모이드 함수</b><sup>sigmoid function</sup>(혹은 <b>로지스틱 시그모이드 함수</b><sup>logistic sigmoid function</sup>)라는 점, 손실 함수가 <b>교차 엔트로피 오차 함수</b><sup>cross-entropy error function</sup>인 점, <b>규제항</b><sup>regularization term</sup>이 추가되어서 과적합을 방지할 수 있다는 점, 온라인 학습과 배치 학습에 모두 적용할 수 있다는 점 등을 볼 수 있다."
   ]
  },
  {
   "cell_type": "markdown",
   "id": "5e457ef3",
   "metadata": {},
   "source": [
    "로지스틱 회귀는 가볍고 빠르지만, 이진 분류 예측 성능도 뛰어나다. 이 때문에 로지스틱 회귀를 이진 분류의 기본 모델로 사용하는 경우가 많다. 또한 로지스틱 회귀는 희소한 데이터 세트 분류에도 뛰어난 성능을 보여서 텍스트 분류에서도 자주 사용된다."
   ]
  },
  {
   "cell_type": "markdown",
   "id": "ada0a0f5",
   "metadata": {},
   "source": [
    "정리하자면 로지스틱 회귀는 시그모이드 함수 최적선을 찾고 이 시그모이드 함수의 반환 값을 확률로 간주해 확률에 따라 분류를 결정한다는 것이다."
   ]
  },
  {
   "cell_type": "markdown",
   "id": "14e751e2",
   "metadata": {},
   "source": [
    "## 로지스틱 회귀의 이해와 조건부 확률"
   ]
  },
  {
   "cell_type": "markdown",
   "id": "1aa831af",
   "metadata": {},
   "source": [
    "로지스틱 회귀는 구현하기 매우 쉽고 선형적으로 구분되는 클래스에 뛰어난 성능을 내는 분류 모델이다. 산업계에서 가장 널리 사용되는 분류 알고리즘 중 하나다. 퍼셉트론이나 아달린과 마찬가지로 로지스틱 회귀 모델도 이진 분류를 위한 선형 모델이지만 다중 분류로 확장할 수 있다. 예를 들어 OvR 방식을 사용한다."
   ]
  },
  {
   "cell_type": "markdown",
   "id": "3e228ec8",
   "metadata": {},
   "source": [
    "확률 모델로서 로지스틱 회귀 모델 이면에 있는 아이디어를 설명하기 위해 먼저 <b>오즈비</b><sup>odds ratio</sup>를 소개한다. 오즈(승산이라고도 한다)는 특정 이벤트가 발생할 확률이다. 오즈비는 성공 확률이 실패 확률에 비해 몇 배 더 높은가를 나타낸다. 여기서 <i>P</i>는 양성 샘플일 확률이다. 양성 샘플은 좋은 것을 의미하지 않고 예측하려는 대상을 말한다. 예를 들어 환자가 어떤 질병을 가지고 있을 확률이다. 양성 샘플이 클래스 레이블 y=1인 샘플이다."
   ]
  },
  {
   "cell_type": "markdown",
   "id": "a7a5d361",
   "metadata": {},
   "source": [
    "<div style=\"text-align:center;\">\n",
    "    <img src=\"./images/formula/Logistic Regression/odds ratio.png\">\n",
    "</div>"
   ]
  },
  {
   "cell_type": "markdown",
   "id": "1f8aba4c",
   "metadata": {},
   "source": [
    "오즈비를 그래프로 그리면 다음과 같다. <i>P</i>가 0부터 1까지 증가할 때 오즈비의 값은 처음에는 천천히 증가하지만 <i>P</i>가 1에 가까워지면 급격히 증가한다."
   ]
  },
  {
   "cell_type": "markdown",
   "id": "8c4d63ba",
   "metadata": {},
   "source": [
    "<b>그림 1</b> 오즈비 그래프\n",
    "<div style=\"text-align:center;\">\n",
    "    <img src=\"./images/Logistic Regression/오즈비 그래프.png\">\n",
    "</div>"
   ]
  },
  {
   "cell_type": "markdown",
   "id": "f9a67ca3",
   "metadata": {},
   "source": [
    "오즈비에 로그 함수를 취해 로짓<sup>logit</sup> 함수를 정의한다. 여기서 <i>log</i>는 컴퓨터 과학에서 널리 사용되는 자연 로그다. <i>logit</i> 함수는 [0, 1] 범위의 입력(확률이므로)을 받아 (－∞, ＋∞)의 범위 값으로 변환한다. "
   ]
  },
  {
   "cell_type": "markdown",
   "id": "c84dcc3d",
   "metadata": {},
   "source": [
    "<div style=\"text-align:center;\">\n",
    "    <img src=\"./images/formula/Logistic Regression/logit 함수.png\">\n",
    "</div>"
   ]
  },
  {
   "cell_type": "markdown",
   "id": "79d23cfd",
   "metadata": {},
   "source": [
    "로짓 함수는 <i>P</i>가 0.5일 때 0이 되고 <i>P</i>가 0과 1일 때 각각 무한대로 음수와 양수가 되는 특징을 갖는다. 다음은 로짓 함수의 그래프다."
   ]
  },
  {
   "cell_type": "markdown",
   "id": "49ea1829",
   "metadata": {},
   "source": [
    "<b>그림 2</b> 로짓 함수 그래프\n",
    "<div style=\"text-align:center;\">\n",
    "    <img src=\"./images/Logistic Regression/로짓함수 그래프.png\">\n",
    "</div>"
   ]
  },
  {
   "cell_type": "markdown",
   "id": "fc1e0087",
   "metadata": {},
   "source": [
    "특성의 가중치 합과 로그 오즈 사이의 선형 관계를 다음과 같이 쓸 수 있다."
   ]
  },
  {
   "cell_type": "markdown",
   "id": "7a91992c",
   "metadata": {},
   "source": [
    "<div style=\"text-align:center;\">\n",
    "    <img src=\"./images/formula/Logistic Regression/가중합과 로그 오즈 사이의 관계.png\">\n",
    "</div>"
   ]
  },
  {
   "cell_type": "markdown",
   "id": "a757695a",
   "metadata": {},
   "source": [
    "여기서 <i>p</i>(<i>y</i>=1|<b>x</b>)는 특성 <b>x</b>가 주어졌을 때 이 샘플이 클래스 1에 속할 조건부 확률이다."
   ]
  },
  {
   "cell_type": "markdown",
   "id": "ed4bbcae",
   "metadata": {},
   "source": [
    "어떤 샘플이 특정 클래스에 속할 <b>확률</b>을 예측하는 것이 관심 대상이므로 <i>logit</i> 함수를 거꾸로 뒤집는다. 이 함수를 로지스틱 시그모이드 함수라고 한다. 함수 모양이 S자 형태를 띠기 때문에 간단하게 줄여서 시그모이드 함수라고도 한다."
   ]
  },
  {
   "cell_type": "markdown",
   "id": "c5a7bffe",
   "metadata": {},
   "source": [
    "<div style=\"text-align:center;\">\n",
    "    <img src=\"./images/formula/Logistic Regression/sigmoid.png\">\n",
    "</div>"
   ]
  },
  {
   "cell_type": "markdown",
   "id": "203098b0",
   "metadata": {},
   "source": [
    "<div style=\"background-color:#D3D3D3; padding:10px;\">\n",
    "    <span style=\"color: #D0B134\"><strong>NOTEΞ</strong></span> 로짓과 로지스틱 함수는 서로 역함수 관계이다. 그래서 로지스틱 함수의 입력을 로짓이라고 부른다.<br><br>\n",
    "    <div style=\"text-align:center;\">\n",
    "        <img src=\"./images/formula/Logistic Regression/유도과정.png\">\n",
    "    </div><br>\n",
    "    로짓을 <b>로그 오즈</b><sup>log-odds</sup>라고도 부른다. 로그 오즈는 양성 클래스 추정 확률과 음성 클래스 추정 확률 사이의 로그 비율이기 때문이다.\n",
    "</div>"
   ]
  },
  {
   "cell_type": "markdown",
   "id": "7cdaff2d",
   "metadata": {},
   "source": [
    "여기서 z는 가중치와 샘플 특성의 선형 조합으로 이루어진 최종 입력이다. 즉, z = <b>w</b><sup>T</sup><b>x</b> = <i>w</i><sub>0</sub><i>x</i><sub>0</sub> + <i>w</i><sub>1</sub><i>x</i><sub>1</sub> + ... + <i>w</i><sub>m</sub><i>x</i><sub>m</sub> 이다."
   ]
  },
  {
   "cell_type": "markdown",
   "id": "44060a2b",
   "metadata": {},
   "source": [
    "<div style=\"background-color:#D3D3D3; padding:10px;\">\n",
    "    <span style=\"color: #D0B134\"><strong>NOTEΞ</strong></span> Perceptron에서 사용했던 방식처럼 <i>w</i><sub>0</sub>은 절편을 의미한다. 이를 위해 값이 1인 입력 <i>x</i><sub>0</sub>를 추가한다.\n",
    "</div>"
   ]
  },
  {
   "cell_type": "markdown",
   "id": "54fed0fa",
   "metadata": {},
   "source": [
    "## 시그모이드 함수"
   ]
  },
  {
   "cell_type": "markdown",
   "id": "3b5546ce",
   "metadata": {},
   "source": [
    "시그모이드는 다음과 같은 S자 형태의 함수이다. 계단 함수와 같이 함숫값의 범위도 [0, 1] 사이이다. 시그모이드 함수는 모든 구간에서 미분할 수 있고 증가 함수이므로 미분값이 항상 양수이다(이를 단조 증가라고 한다)."
   ]
  },
  {
   "cell_type": "markdown",
   "id": "efc77fc3",
   "metadata": {},
   "source": [
    "시그모이드 함수<sup><a id=\"a01\" href=\"#p01\">[1]</a></sup>가 어떤 모습인지 -7에서 7까지 그려 보겠다."
   ]
  },
  {
   "cell_type": "code",
   "execution_count": 29,
   "id": "8c3c2104",
   "metadata": {
    "ExecuteTime": {
     "end_time": "2022-12-19T10:36:42.873967Z",
     "start_time": "2022-12-19T10:36:42.656896Z"
    }
   },
   "outputs": [
    {
     "name": "stdout",
     "output_type": "stream",
     "text": [
      "그림 저장: 시그모이드 곡선\n"
     ]
    },
    {
     "data": {
      "image/png": "[encoded data removed]",
      "text/plain": [
       "<Figure size 432x288 with 1 Axes>"
      ]
     },
     "metadata": {
      "needs_background": "light"
     },
     "output_type": "display_data"
    }
   ],
   "source": [
    "import matplotlib.pyplot as plt\n",
    "import numpy as np\n",
    "\n",
    "def sigmoid(z):\n",
    "    return 1.0 / (1.0 + np.exp(-z))\n",
    "\n",
    "z = np.arange(-7, 7, 0.1)\n",
    "phi_z = sigmoid(z)\n",
    "plt.plot(z, phi_z)\n",
    "plt.axvline(0.0, color='k')\n",
    "plt.ylim(-0.1, 1.1)\n",
    "plt.xlabel('z')\n",
    "plt.ylabel('$\\phi (z)$')\n",
    "# y축의 눈금과 격자선\n",
    "plt.yticks([0.0, 0.5, 1.0])\n",
    "ax = plt.gca()\n",
    "ax.yaxis.grid(True)\n",
    "plt.tight_layout()\n",
    "save_fig('시그모이드 곡선')\n",
    "plt.show()"
   ]
  },
  {
   "cell_type": "markdown",
   "id": "c50c204e",
   "metadata": {},
   "source": [
    "z가 무한대로 가면(z→∞) <i>e<sup>-z</sup></i>가 매우 작아지기 때문에 <i>Φ(z)</i>는 1에 가까워진다. 비슷하게 z→－∞이면 점점 분모가 커지기 때문에 <i>Φ(z)</i>는 0에 수렴한다. 이 시그모이드 함수는 실수 입력 값을 [0, 1] 사이의 값으로 변환한다. 중간은 <i>Φ(0)</i> = 0.5다."
   ]
  },
  {
   "cell_type": "markdown",
   "id": "96217521",
   "metadata": {},
   "source": [
    "시그모이드는 오랫동안 활성 함수로 사용되었지만 다음과 같은 몇 가지 문제점이 있다.\n",
    "<ul>\n",
    "    <li>함수 정의에 지수 함수가 포함되어 있어서 연산 비용이 많이 든다.</li>\n",
    "    <li>그레디언트 포화가 발생해서 학습이 중단될 수 있다.</li>\n",
    "    <li>양수만 출력하므로 학습 경로가 진동하면서 학습 속도가 느려진다.</li>\n",
    "</ul>"
   ]
  },
  {
   "cell_type": "markdown",
   "id": "09d073b1",
   "metadata": {},
   "source": [
    "<b>그레디언트 포화</b><sup>gradient saturation</sup>란 시그모이드 함수 끝부분에서 미분값이 0으로 포화되는 상태를 말한다. 함수에서 <b>포화</b><sup>saturation</sup>란 입력값이 변화해도 함수값이 변화하지 않는 상태를 말한다. 다음 그림에서 시그모이드 함수는 주황색 곡선으로 그려저 있고 도함수는 파란색 곡선으로 그려져 있다. 시그모이드 함수는 양쪽 끝에서 함수값이 0과 1로 포화하기 때문에 <b>미분값</b>도 0으로 포화한다. 그레디언트가 0으로 포화하면 그레디언트 소실로 학습이 진행되지 않는다."
   ]
  },
  {
   "cell_type": "markdown",
   "id": "55be139c",
   "metadata": {},
   "source": [
    "<div style=\"text-align:center;\">\n",
    "    <img src=\"./images/Logistic Regression/시그모이드 함수의 그레디언트 포화.png\">\n",
    "</div>"
   ]
  },
  {
   "cell_type": "markdown",
   "id": "ce815f4b",
   "metadata": {},
   "source": [
    "한편 시그모이드의 출력은 항상 양수이기 때문에 학습 시 최적화 경로가 최적해를 향해 곧바로 가지 못하고 좌우로 진동하면서 비효율적으로 가게 된다."
   ]
  },
  {
   "cell_type": "markdown",
   "id": "f5933165",
   "metadata": {},
   "source": [
    "### 시그모이드 함수와 계단 함수 비교"
   ]
  },
  {
   "cell_type": "markdown",
   "id": "87034453",
   "metadata": {},
   "source": [
    "시그모이드 함수와 Perceptron의 활성화 함수인 계단 함수를 비교해보자. 이 두 함수를 [그림 3]에 함께 그려봤다."
   ]
  },
  {
   "cell_type": "markdown",
   "id": "b9bda6e0",
   "metadata": {},
   "source": [
    "<b>그림 3</b> 계단 함수(점선)와 시그모이드 함수(실선)\n",
    "<div style=\"text-align:center;\">\n",
    "    <img src=\"./images/Logistic Regression/계단 함수와 시그모이드 함수.png\">\n",
    "</div>"
   ]
  },
  {
   "cell_type": "markdown",
   "id": "6e4c9801",
   "metadata": {},
   "source": [
    "[그림 3]을 보고 가장 먼저 느껴지는 점은 '매끄러움'의 차이일 것이다. 시그모이드 함수는 부드러운 곡선이며 입력에 따라 출력이 연속적으로 변화한다. 한편, 계단 함수는 0을 경계로 출력이 갑자기 바뀌어버린다. 시그모이드 함수의 이 매끈함이 신경망 학습에서 아주 중요한 역할을 하게 된다(미분이 가능하기 때문에)."
   ]
  },
  {
   "cell_type": "markdown",
   "id": "d1f27174",
   "metadata": {},
   "source": [
    "계단 함수가 0과 1 중 하나의 값만 돌려주는 반면 시그모이드 함수는 실수를 돌려준다는 점도 다르다. 다시 말해 퍼셉트론에서는 뉴런 사이에 0 혹은 1이 흘렀다면, 신경망에서는 연속적인 실수가 흐른다."
   ]
  },
  {
   "cell_type": "markdown",
   "id": "125d09e2",
   "metadata": {},
   "source": [
    "두 함수는 매끄러움이라는 점에서는 다르지만, [그림 3]을 큰 관점에서 보면 둘은 같은 모양을 하고 있다. 둘 다 입력이 작을 때의 출력은 0에 가깝고(혹은 0이고), 입력이 커지면 출력이 1에 가까워지는(혹은 1이 되는) 구조인 것이다. 즉, 계단 함수와 시그모이드 함수는 입력이 중요하면 큰 값을 출력하고 입력이 중요하지 않으면 작은 값을 출력한다. 그리고 입력이 아무리 작거나 커도 출력은 0에서 1 사이라는 것도 둘의 공통점이다."
   ]
  },
  {
   "cell_type": "markdown",
   "id": "2fab6ae4",
   "metadata": {},
   "source": [
    "### 비선형 함수"
   ]
  },
  {
   "cell_type": "markdown",
   "id": "bd03bc39",
   "metadata": {},
   "source": [
    "계단 함수와 시그모이드 함수의 공통점은 그 밖에도 있다. 중요한 공통점으로, 둘 모두 <b>비선형 함수</b>다. 시그모이드 함수는 곡선, 계단 함수는 계단처럼 구부러진 직선으로 나타나며, 동시에 비선형 함수로 분류된다."
   ]
  },
  {
   "cell_type": "markdown",
   "id": "81c48e14",
   "metadata": {},
   "source": [
    "<div style=\"background-color:#D3D3D3; padding:10px;\">\n",
    "    <span style=\"color: #D0B134\"><strong>NOTEΞ</strong></span> 활성화 함수를 설명할 때 비선형 함수와 선형 함수라는 용어가 자주 등장한다. 함수란 어떤 값을 입력하면 그에 따른 값을 돌려주는 '변환기'다. 이 변환기에 무언가 입력했을 때 출력이 입력의 상수배만큼 변하는 함수를 <b>선형 함수</b>라고 한다. 수식으로는 <i>f(x) = ax + b</i>이고, 이때 <i>a</i>와 <i>b</i>는 상수다. 그래서 선형 함수는 곧은 1개의 직선이 된다. 한편, <b>비선형 함수</b>는 문자 그대로 '선형이 아닌' 함수다. 즉, 직선 1개로는 그릴 수 없는 함수를 말한다.\n",
    "</div>"
   ]
  },
  {
   "cell_type": "markdown",
   "id": "bce7f2a6",
   "metadata": {},
   "source": [
    "신경망에서는 활성화 함수로 비선형 함수를 사용해야 한다. 달리 말하면 선형 함수를 사용해서는 안 된다. 그 이유는 바로 선형 함수를 이용하면 신경망의 층을 깊게 하는 의미가 없어지기 때문이다."
   ]
  },
  {
   "cell_type": "markdown",
   "id": "bf58dbe1",
   "metadata": {},
   "source": [
    "선형 함수의 문제는 층을 아무리 깊게 해도 '은닉층이 없는 네트워크'로도 똑같은 기능을 할 수 있다는 데 있다. 구체적으로 (약간 직감적으로) 설명해주는 간단한 예를 생각해보자. 선형 함수인 <i>h(x) = cx</i>를 활성화 함수로 사용한 3층 네트워크를 떠올려보자. 이를 식으로 나타내면 <i>y(x) = h(h(h(x)))</i>가 된다. 이 계산은 <i>y(x) = c * c * c * x</i>처럼 곱셈을 세 번 수행하지만, 실은 <i>y(x) = ax</i>와 똑같은 식이다. <i>a = c<sup>3</sup></i>이라고만 하면 끝이다. 즉, 은닉층이 없는 네트워크로도 표현할 수 있다. 이 예처럼 선형 함수를 이용해서는 여러 층으로 구성하는 이점을 살릴 수 없다. 그래서 층을 쌓는 혜택을 얻고 싶다면 활성화 함수로는 반드시 비선형 함수를 사용해야 한다."
   ]
  },
  {
   "cell_type": "markdown",
   "id": "def21337",
   "metadata": {},
   "source": [
    "## 아달린과 로지스틱 회귀의 차이점"
   ]
  },
  {
   "cell_type": "markdown",
   "id": "92a5739c",
   "metadata": {},
   "source": [
    "로지스틱 회귀 모델을 직관적으로 이해하기 위해 아달린과 연관 지어 생각해보자. 아달린에서는 활성화 함수로 항등 함수 <i>Φ(z) = z</i>를 사용했다. 로지스틱 회귀에서는 앞서 정의한 시그모이드 함수가 활성화 함수가 된다. 아달린과 로지스틱 회귀의 차이점을 [그림 4]에 나타냈다."
   ]
  },
  {
   "cell_type": "markdown",
   "id": "684a7b7e",
   "metadata": {},
   "source": [
    "<b>그림 4</b> 아달린과 로지스틱 회귀의 차이점\n",
    "<div style=\"text-align:center;\">\n",
    "    <img src=\"./images/Logistic Regression/아달린과 로지스틱 회귀의 차이점.jpg\">\n",
    "</div>"
   ]
  },
  {
   "cell_type": "markdown",
   "id": "48710d6b",
   "metadata": {},
   "source": [
    "가중치 <b>w</b>와 곱해지는 특성 <b>x</b>에 대한 시그모이드 함수의 출력을 특정 샘플이 클래스 1에 속할 확률 <i>Φ(z) = P(y=1</i> |<b>x;w</b>)로 해석한다. 예를 들어 어떤 붓꽃 샘플이 <i>Φ(z)</i> = 0.8이라면 이 샘플은 Iris-versicolor일 확률이 80%란 뜻이다. 이 샘플이 Iris-setosa일 확률은 <i>P(y=0</i> |<b>x;w</b>) = 1 - P(y=1</i> |<b>x;w</b>) = 0.2처럼 계산되어 20%가 된다. 예측 확률은 임계 함수를 사용하여 간단하게 이진 출력으로 바꿀 수 있다. 그리고 이 문턱값(0.5)을 하이퍼파라미터로 간주하여 원하는 성능에 따라 조절하는 경우도 있다."
   ]
  },
  {
   "cell_type": "markdown",
   "id": "9cf78e61",
   "metadata": {},
   "source": [
    "<div style=\"text-align:center;\">\n",
    "    <img src=\"./images/formula/Logistic Regression/로지스틱 회귀 임계 함수.png\">\n",
    "</div>"
   ]
  },
  {
   "cell_type": "markdown",
   "id": "ecde6eb9",
   "metadata": {},
   "source": [
    "앞의 시그모이드 함수 그래프를 보면 다음과 동일하다는 것을 알 수 있다."
   ]
  },
  {
   "cell_type": "markdown",
   "id": "78348554",
   "metadata": {},
   "source": [
    "<div style=\"text-align:center;\">\n",
    "    <img src=\"./images/formula/Logistic Regression/로지스틱 회귀 임계 함수2.png\">\n",
    "</div>"
   ]
  },
  {
   "cell_type": "markdown",
   "id": "70dbfd3f",
   "metadata": {},
   "source": [
    "실제로 클래스 레이블을 예측하는 것 외에 클래스에 소속될 확률(임계 함수를 적용하기 전 시그모이드 함수 출력)을 추정하는 것이 유용한 애플리케이션도 많다. 예를 들어 어떤 날에 비가 오는지 예측하는 것뿐만 아니라 비 올 확률을 예측해야 하는 날씨 예보에 로지스틱 회귀를 사용할 수 있다. 비슷하게 어떤 증상이 있는 환자가 특정 질병을 가질 확률을 예측하는 데 로지스틱 회귀를 사용할 수 있다. 이것이 로지스틱 회귀가 의학 분야에 널리 사용되는 이유다."
   ]
  },
  {
   "cell_type": "markdown",
   "id": "3c0eb7a5",
   "metadata": {},
   "source": [
    "## 로지스틱 회귀 중간 정리하기"
   ]
  },
  {
   "cell_type": "markdown",
   "id": "f2a86e2a",
   "metadata": {},
   "source": [
    "로지스틱 회귀는 이진 분류가 목표이므로 －∞부터 ＋∞의 범위를 갖는 <i>z</i>(가중합)의 값을 조절할 방법이 필요했다. 그래서 시그모이드 함수를 활성화 함수로 사용한 것이다. 이는 시그모이드 함수를 통과하면 <i>z</i>를 확률처럼 해석할 수 있기 때문이다. 그리고 시그모이드 함수의 확률인 <i>Φ(z)</i>를 0과 1로 구분하기 위하여 마지막에 임계 함수를 사용했다. 그 결과 입력 데이터(<i>x</i>)는 0 또는 1의 값으로 나누어졌다. 즉, 이진 분류가 되었다."
   ]
  },
  {
   "cell_type": "markdown",
   "id": "ce923747",
   "metadata": {},
   "source": [
    "드디어 로지스틱 회귀가 '이진 분류를 하기 위한 알고리즘'인 진짜 이유를 알았다. 그런데 아직 우리는 가중치와 절편을 적절하게 업데이트할 수 있는 방법을 배우지 않았다. 그렇다면 로지스틱 회귀에는 어떤 손실 함수를 사용해야 할까? 아달린에서 손실 함수로 제곱 오차합을 사용했듯이 분류 문제에서도 제곱 오차합을 사용할 수 있을까? 이제 로지스틱 회귀를 위한 손실 함수인 로지스틱 손실 함수에 대해 알아보자."
   ]
  },
  {
   "cell_type": "markdown",
   "id": "5e103f42",
   "metadata": {},
   "source": [
    "## 로지스틱 비용 함수의 가중치 학습"
   ]
  },
  {
   "cell_type": "markdown",
   "id": "568f2a13",
   "metadata": {},
   "source": [
    "로지스틱 회귀 모델이 확률과 클레스 레이블을 어떻게 예측했는지 배웠다. 이제 모델 파라미터 <b>w</b>를 어떻게 학습하는지 간단하게 살펴보겠다. 아달린에서 다음과 같은 제곱 오차합 비용 함수를 정의했다."
   ]
  },
  {
   "cell_type": "markdown",
   "id": "45cf302d",
   "metadata": {},
   "source": [
    "<div style=\"text-align:center;\">\n",
    "    <img src=\"./images/formula/Logistic Regression/Adaline_cost_func.png\">\n",
    "</div>"
   ]
  },
  {
   "cell_type": "markdown",
   "id": "c8b72445",
   "metadata": {},
   "source": [
    "아달린 분류 모델에서 이 함수를 최소화하는 가중치 <i>w</i>를 학습한다. 그러면 로지스틱 회귀 모델은 어떻게 훈련을 시킬까? <u>훈련의 목적은 양성 샘플(y=1)에 대해서는 높은 확률로 추정하고 음성 샘플(y=0)에 대해서는 낮은 확률을 추정하는 모델의 가중치를 찾는 것이다.</u>"
   ]
  },
  {
   "cell_type": "markdown",
   "id": "2534d5ad",
   "metadata": {},
   "source": [
    "로지스틱 회귀의 비용 함수를 유도하는 방법을 설명하기 위해 먼저 로지스틱 회귀 모델을 만들 때 최대화하려는 가능도<sup>likelihood</sup> <i>L</i>을 정의하겠다. 데이터셋에 있는 각 샘플이 서로 독립적이라고 가정한다. 공식은 다음과 같다.<sup><a id=\"a02\" href=\"#p02\">[2]</a></sup>"
   ]
  },
  {
   "cell_type": "markdown",
   "id": "179b0acf",
   "metadata": {},
   "source": [
    "<div style=\"text-align:center;\">\n",
    "    <img src=\"./images/formula/Logistic Regression/가능도.png\">\n",
    "</div>"
   ]
  },
  {
   "cell_type": "markdown",
   "id": "678f3cc3",
   "metadata": {},
   "source": [
    "실전에서는 이 공식의 (자연) 로그를 최대화하는 것이 더 쉽다. 이 함수를 로그 가능도 함수라고 한다."
   ]
  },
  {
   "cell_type": "markdown",
   "id": "ec15cb58",
   "metadata": {},
   "source": [
    "<div style=\"text-align:center;\">\n",
    "    <img src=\"./images/formula/Logistic Regression/로그 가능도 함수.png\">\n",
    "</div>"
   ]
  },
  {
   "cell_type": "markdown",
   "id": "1e56dd53",
   "metadata": {},
   "source": [
    "첫째, 로그 함수를 적용하면 가능도가 매우 작을 때 일어나는 수치상의 언더플로<sup>underflow</sup>를 미연에 방지한다. 둘째, 계수의 곱을 계수의 합으로 바꿀 수 있다. 이렇게 하면 도함수를 구하기 쉽다."
   ]
  },
  {
   "cell_type": "markdown",
   "id": "25ee16d8",
   "metadata": {},
   "source": [
    "경사 상승법 같은 최적화 알고리즘을 사용하여 이 로그 가능도 함수를 최대화할 수 있다. 또는 로그 가능도 함수를 다시 비용 함수 <i>J</i>로 표현하여 아달린에서처럼 경사 하강법을 사용하여 최소화할 수 있다. 이를 <b>교차 엔트로피 오차</b><sup>cross entropy error, CEE</sup>라고도 한다."
   ]
  },
  {
   "cell_type": "markdown",
   "id": "76d1ca9c",
   "metadata": {},
   "source": [
    "<div style=\"text-align:center;\">\n",
    "    <img src='./images/formula/Logistic Regression/비용함수 J.png'>\n",
    "</div>"
   ]
  },
  {
   "cell_type": "markdown",
   "id": "e347d539",
   "metadata": {},
   "source": [
    "안타깝게도 이 비용 함수의 최솟값을 계산하는 알려진 해가 없다(정규방정식 같은 것이 없다). 하지만 이 비용 함수는 볼록 함수이므로 경사 하강법(또는 어떤 다른 최적화 알고리즘)이 전역 최솟값을 찾는 것을 보장한다(학습률이 너무 크지 않고 충분히 기다릴 시간이 있다면)."
   ]
  },
  {
   "cell_type": "markdown",
   "id": "400d1fc6",
   "metadata": {},
   "source": [
    "이 비용 함수를 더 잘 이해하기 위해 샘플이 하나일 때 비용을 계산해 보자."
   ]
  },
  {
   "cell_type": "markdown",
   "id": "92b0298e",
   "metadata": {},
   "source": [
    "<div style=\"text-align:center;\">\n",
    "    <img src='./images/formula/Logistic Regression/비용함수 예시.png'>\n",
    "</div>"
   ]
  },
  {
   "cell_type": "markdown",
   "id": "0974cdbb",
   "metadata": {},
   "source": [
    "식을 보면 y=0일 때 첫 번째 항이 0이 된다. y=1일 때는 두 번째 항이 0이 된다."
   ]
  },
  {
   "cell_type": "markdown",
   "id": "1099f4c8",
   "metadata": {},
   "source": [
    "<div style=\"text-align:center;\">\n",
    "    <img src='./images/formula/Logistic Regression/비용함수 예시 2.png'>\n",
    "</div>"
   ]
  },
  {
   "cell_type": "markdown",
   "id": "ac6b197e",
   "metadata": {},
   "source": [
    "간단한 코드로 샘플이 하나인 경우 <i>Φ(z)</i> 값에 대한 분류 비용을 그려 보겠다."
   ]
  },
  {
   "cell_type": "code",
   "execution_count": 30,
   "id": "fa6b8529",
   "metadata": {
    "ExecuteTime": {
     "end_time": "2022-12-19T10:36:43.139120Z",
     "start_time": "2022-12-19T10:36:42.875470Z"
    }
   },
   "outputs": [
    {
     "name": "stdout",
     "output_type": "stream",
     "text": [
      "그림 저장: 시그모이드 활성화 대비 로지스틱 비용 그래프\n"
     ]
    },
    {
     "data": {
      "image/png": "[encoded data removed]",
      "text/plain": [
       "<Figure size 432x288 with 1 Axes>"
      ]
     },
     "metadata": {
      "needs_background": "light"
     },
     "output_type": "display_data"
    }
   ],
   "source": [
    "def cost_1(z):\n",
    "    return -np.log(sigmoid(z))\n",
    "def cost_0(z):\n",
    "    return -np.log(1 - sigmoid(z))\n",
    "z = np.arange(-10, 10, 0.1)\n",
    "phi_z = sigmoid(z)\n",
    "c1 = [cost_1(x) for x in z]\n",
    "plt.plot(phi_z, c1, label='J(w) if y=1')\n",
    "c0 = [cost_0(x) for x in z]\n",
    "plt.plot(phi_z, c0, linestyle='--', label='J(w) if y=0')\n",
    "plt.ylim(0.0, 5.1)\n",
    "plt.xlim([0, 1])\n",
    "plt.xlabel('$\\phi$(z)')\n",
    "plt.ylabel('J(w)')\n",
    "plt.legend(loc='best')\n",
    "plt.tight_layout()\n",
    "save_fig('시그모이드 활성화 대비 로지스틱 비용 그래프')\n",
    "plt.show()"
   ]
  },
  {
   "cell_type": "markdown",
   "id": "24a8d775",
   "metadata": {},
   "source": [
    "결과 그래프의 x축은 0에서 1까지 범위의 시그모이드 활성화 값이다(시그모이드 함수의 입력인 <i>z</i>는 -10에서 10까지 범위다). y축은 해당하는 로지스틱 비용이다."
   ]
  },
  {
   "cell_type": "markdown",
   "id": "77649cb7",
   "metadata": {},
   "source": [
    "클래스 1에 속한 샘플을 정확히 예측하면 비용이 0에 가까워지는 것을 볼 수 있다(실선). 비슷하게 클래스 0에 속한 샘플을 y=0으로 정확히 예측하면 y축의 비용이 0에 가까워진다(점선). 예측이 잘못되면 비용이 무한대가 된다. 잘못된 예측에 점점 더 큰 비용을 부여한다는 점이 중요하다."
   ]
  },
  {
   "cell_type": "markdown",
   "id": "d5d0c8b7",
   "metadata": {},
   "source": [
    "## 아달린 구현을 로지스틱 회귀 알고리즘으로 변경"
   ]
  },
  {
   "cell_type": "markdown",
   "id": "0df1e4c7",
   "metadata": {},
   "source": [
    "로지스틱 회귀를 구현하려면 아달린 구현에서 비용 함수 J를 새로운 비용 함수로 바꾸기만 하면 된다."
   ]
  },
  {
   "cell_type": "markdown",
   "id": "3878012b",
   "metadata": {},
   "source": [
    "<div style=\"text-align:center;\">\n",
    "    <img src=\"./images/formula/Logistic Regression/비용함수.png\">\n",
    "</div>"
   ]
  },
  {
   "cell_type": "markdown",
   "id": "00cc80a2",
   "metadata": {},
   "source": [
    "이 함수로 에포크마다 모든 훈련 샘플을 분류하는 비용을 계산한다. 선형 활성화 함수를 시그모이드 활성화로 바꾸고 임계 함수가 클래스 레이블 -1과 1이 아니고 0과 1을 반환하도록 변경한다. 아달린 코드에 이 세 가지를 반영하면 로지스틱 회귀 모델을 얻을 수 있다. 결과 코드는 다음과 같다."
   ]
  },
  {
   "cell_type": "code",
   "execution_count": 48,
   "id": "c5c3a1e9",
   "metadata": {
    "ExecuteTime": {
     "end_time": "2022-12-19T10:40:05.785176Z",
     "start_time": "2022-12-19T10:40:05.764271Z"
    }
   },
   "outputs": [],
   "source": [
    "class LogisticRegressionGD(object):\n",
    "    \"\"\"경사 하강법을 사용한 로지스틱 회귀 분류기\n",
    "\n",
    "    매개변수\n",
    "    ------------\n",
    "    eta : float\n",
    "      학습률 (0.0과 1.0 사이)\n",
    "    n_iter : int\n",
    "      훈련 데이터셋 반복 횟수\n",
    "    random_state : int\n",
    "      가중치 무작위 초기화를 위한 난수 생성기 시드\n",
    "\n",
    "    속성\n",
    "    -----------\n",
    "    w_ : 1d-array\n",
    "      학습된 가중치\n",
    "    cost_ : list\n",
    "      에포크마다 누적된 로지스틱 비용 함수 값\n",
    "\n",
    "    \"\"\"\n",
    "    def __init__(self, eta=0.05, n_iter=100, random_state=1):\n",
    "        self.eta = eta\n",
    "        self.n_iter = n_iter\n",
    "        self.random_state = random_state\n",
    "\n",
    "    def fit(self, X, y):\n",
    "        \"\"\"훈련 데이터 학습\n",
    "\n",
    "        매개변수\n",
    "        ----------\n",
    "        X : {array-like}, shape = [n_samples, n_features]\n",
    "          n_samples 개의 샘플과 n_features 개의 특성으로 이루어진 훈련 데이터\n",
    "        y : array-like, shape = [n_samples]\n",
    "          타깃값\n",
    "\n",
    "        반환값\n",
    "        -------\n",
    "        self : object\n",
    "\n",
    "        \"\"\"\n",
    "        rgen = np.random.RandomState(self.random_state)\n",
    "        self.w_ = rgen.normal(loc=0.0, scale=0.01, size=1 + X.shape[1])\n",
    "        self.cost_ = []\n",
    "\n",
    "        for i in range(self.n_iter):\n",
    "            net_input = self.net_input(X)\n",
    "            output = self.activation(net_input)\n",
    "            errors = (y - output)\n",
    "            self.w_[1:] += self.eta * X.T.dot(errors)\n",
    "            self.w_[0] += self.eta * errors.sum()\n",
    "            \n",
    "            # 오차 제곱합 대신 로지스틱 비용을 계산합니다.\n",
    "            cost = -y.dot(np.log(output)) - ((1 - y).dot(np.log(1 - output)))\n",
    "            self.cost_.append(cost)\n",
    "        return self\n",
    "    \n",
    "    def net_input(self, X):\n",
    "        \"\"\"최종 입력 계산\"\"\"\n",
    "        return np.dot(X, self.w_[1:]) + self.w_[0]\n",
    "\n",
    "    def activation(self, z):\n",
    "        \"\"\"로지스틱 시그모이드 활성화 계산\"\"\"\n",
    "        return 1. / (1. + np.exp(-np.clip(z, -250, 250)))\n",
    "\n",
    "    def predict(self, X):\n",
    "        \"\"\"단위 계단 함수를 사용하여 클래스 레이블을 반환합니다\"\"\"\n",
    "        return np.where(self.net_input(X) >= 0.0, 1, 0)\n",
    "        # 다음과 동일합니다.\n",
    "        # return np.where(self.activation(self.net_input(X)) >= 0.5, 1, 0)"
   ]
  },
  {
   "cell_type": "markdown",
   "id": "8cdde87d",
   "metadata": {},
   "source": [
    "여기서 직접 구현한 로지스틱 모델은 이진 분류 문제에만 적용할 수 있다. Iris-setosa와 Iris-versicolor 붓꽃만 가지고 (클래스 0과 클래스 1) 로지스틱 회귀 구현이 작동하는지 확인해보자."
   ]
  },
  {
   "cell_type": "code",
   "execution_count": 49,
   "id": "ca4ac9a1",
   "metadata": {
    "ExecuteTime": {
     "end_time": "2022-12-19T10:40:12.898747Z",
     "start_time": "2022-12-19T10:40:12.736518Z"
    }
   },
   "outputs": [
    {
     "name": "stderr",
     "output_type": "stream",
     "text": [
      "C:\\Users\\Sangjin\\AppData\\Local\\Temp\\ipykernel_46168\\187253513.py:23: UserWarning: You passed a edgecolor/edgecolors ('black') for an unfilled marker ('x').  Matplotlib is ignoring the edgecolor in favor of the facecolor.  This behavior may change in the future.\n",
      "  plt.scatter(x=X[y == cl, 0],\n"
     ]
    },
    {
     "data": {
      "image/png": "[encoded data removed]",
      "text/plain": [
       "<Figure size 432x288 with 1 Axes>"
      ]
     },
     "metadata": {
      "needs_background": "light"
     },
     "output_type": "display_data"
    }
   ],
   "source": [
    "X_train_01_subset = X_train[(y_train == 0) | (y_train == 1)]\n",
    "y_train_01_subset = y_train[(y_train == 0) | (y_train == 1)]\n",
    "\n",
    "lrgd = LogisticRegressionGD(eta=0.05, n_iter=1000, random_state=1)\n",
    "lrgd.fit(X_train_01_subset,\n",
    "         y_train_01_subset)\n",
    "\n",
    "plot_decision_regions(X=X_train_01_subset, \n",
    "                      y=y_train_01_subset,\n",
    "                      classifier=lrgd)\n",
    "\n",
    "plt.xlabel('petal length [standardized]')\n",
    "plt.ylabel('petal width [standardized]')\n",
    "plt.legend(loc='upper left')\n",
    "\n",
    "plt.tight_layout()\n",
    "plt.show()"
   ]
  },
  {
   "cell_type": "markdown",
   "id": "0097d2ba",
   "metadata": {},
   "source": [
    "<div style=\"background-color:#D3D3D3; padding:10px;\">\n",
    "    <span style=\"color: #D0B134\"><strong>NOTEΞ</strong></span> <b>로지스틱 회귀를 위한 경사 하강법 알고리즘</b><br><br>\n",
    "    미적분을 사용하면 경사 하강법을 사용한 로지스틱 회귀의 가중치 업데이트가 아달린에서 사용한 식과 같다는 것을 보일 수 있다.<br><br>\n",
    "    먼저 <i>j</i> 번째 가중치에 대한 로그 가능도 함수의 편도 함수를 계산해 보자.<br><br>\n",
    "    <div style=\"text-align:center;\">\n",
    "        <img src=\"./images/formula/Logistic Regression/로그 가능도 함수의 편도 함수.png\">\n",
    "    </div><br>\n",
    "    계속하기 전에 시그모이드 함수의 편도 함수를 계산해 보겠다.<br><br>\n",
    "    <div style=\"text-align:center;\">\n",
    "        <img src=\"./images/formula/Logistic Regression/시그모이드 함수의 편도 함수.png\">\n",
    "    </div><br>\n",
    "    이제 첫 번째 식에 시그모이드 함수의 편도 함수를 계산한 값을 넣으면 다음 식을 얻는다.<br><br>\n",
    "    <div style=\"text-align:center;\">\n",
    "        <img src=\"./images/formula/Logistic Regression/로그 가능도 함수의 편도 함수 계산 적용.png\">\n",
    "    </div><br>\n",
    "    로그 가능도를 최대화하는 가중치를 찾는 것이 목적이므로 각 가중치를 다음과 같이 업데이트한다.<br><br>\n",
    "    <div style=\"text-align:center;\">\n",
    "        <img src=\"./images/formula/Logistic Regression/로지스틱 회귀의 가중치 업데이트.png\">\n",
    "    </div><br>\n",
    "    모든 가중치가 동시에 업데이트되기 때문에 업데이트 규칙을 다음과 같이 일반적인 형태로 쓸 수 있다.<br><br>\n",
    "    <div style=\"text-align:center;\">\n",
    "        <img src=\"./images/formula/Logistic Regression/업데이트 규칙.png\">\n",
    "    </div><br>\n",
    "    <b>Δw</b>는 다음과 같이 정의한다.<br><br>\n",
    "    <div style=\"text-align:center;\">\n",
    "        <img src=\"./images/formula/Logistic Regression/델타 w.png\">\n",
    "    </div><br>\n",
    "     로그 가능도를 최대화하는 것이 앞서 정의한 비용 함수 J를 최소화하는 것과 동일하기 때문에 경사 하강법 업데이트 규칙을 다음과 같이 쓸 수 있다.<br><br>\n",
    "    <div style=\"text-align:center;\">\n",
    "        <img src=\"./images/formula/Logistic Regression/경사 하강법 업데이트 규칙.png\">\n",
    "        <img src=\"./images/formula/Logistic Regression/경사 하강법 업데이트 규칙 w.png\">\n",
    "    </div><br>\n",
    "      이 식은 아달린의 경사 하강법 규칙과 동일하다.\n",
    "</div>"
   ]
  },
  {
   "cell_type": "markdown",
   "id": "237d61c1",
   "metadata": {},
   "source": [
    "## 사이킷런을 사용하여 로지스틱 회귀 모델 훈련"
   ]
  },
  {
   "cell_type": "markdown",
   "id": "9518e531",
   "metadata": {},
   "source": [
    "앞 절에서 아달린과 로지스틱 회귀의 개념적 차이를 설명하기 위해 코드 예제와 수학 공식을 살펴보았다. 이제 사이킷런에서 로지스틱 회귀를 사용하는 법을 배워 보자. 이 구현은 매우 최적화되어 있고 다중 분류도 지원한다(OvR이 기본값이다). 다음 코드에서 sklearn.linear_model.LogisticRegression의 <code>fit()</code> 메서드를 사용하여 표준화 처리된 붓꽃 데이터셋의 클래스 세개를 대상으로 모델을 훈련한다."
   ]
  },
  {
   "cell_type": "code",
   "execution_count": 33,
   "id": "4ffc9278",
   "metadata": {
    "ExecuteTime": {
     "end_time": "2022-12-19T10:36:43.666567Z",
     "start_time": "2022-12-19T10:36:43.312376Z"
    },
    "scrolled": false
   },
   "outputs": [
    {
     "name": "stderr",
     "output_type": "stream",
     "text": [
      "C:\\Users\\Sangjin\\AppData\\Local\\Temp\\ipykernel_46168\\187253513.py:23: UserWarning: You passed a edgecolor/edgecolors ('black') for an unfilled marker ('x').  Matplotlib is ignoring the edgecolor in favor of the facecolor.  This behavior may change in the future.\n",
      "  plt.scatter(x=X[y == cl, 0],\n"
     ]
    },
    {
     "name": "stdout",
     "output_type": "stream",
     "text": [
      "그림 저장: 사이킷런의 로지스틱 회귀 모델이 만든 결정 경계\n"
     ]
    },
    {
     "data": {
      "image/png": "[encoded data removed]",
      "text/plain": [
       "<Figure size 432x288 with 1 Axes>"
      ]
     },
     "metadata": {
      "needs_background": "light"
     },
     "output_type": "display_data"
    }
   ],
   "source": [
    "from sklearn.linear_model import LogisticRegression\n",
    "\n",
    "lr = LogisticRegression(solver='liblinear', multi_class='auto',\n",
    "                        C=100.0, random_state=1)\n",
    "lr.fit(X_train_std, y_train)\n",
    "plot_decision_regions(X_combined_std,\n",
    "                      y_combined,\n",
    "                      classifier=lr,\n",
    "                      test_idx=range(105, 150))\n",
    "plt.xlabel('petal legnth [standardized]')\n",
    "plt.ylabel('petal width [standardized]')\n",
    "plt.legend(loc='upper left')\n",
    "plt.tight_layout()\n",
    "save_fig('사이킷런의 로지스틱 회귀 모델이 만든 결정 경계')\n",
    "plt.show()"
   ]
  },
  {
   "cell_type": "markdown",
   "id": "f9a824af",
   "metadata": {},
   "source": [
    "훈련 샘플이 어떤 클래스에 속할 확률은 <code>predict_proba()</code> 메서드를 사용하여 계산한다. 예를 들어 테스트 세트에 있는 처음 세 개의 샘플 확률을 다음과 같이 예측할 수 있다."
   ]
  },
  {
   "cell_type": "code",
   "execution_count": 34,
   "id": "1e2b01bb",
   "metadata": {
    "ExecuteTime": {
     "end_time": "2022-12-19T10:36:43.682363Z",
     "start_time": "2022-12-19T10:36:43.667641Z"
    }
   },
   "outputs": [
    {
     "data": {
      "text/plain": [
       "array([[3.17983737e-08, 1.44886616e-01, 8.55113353e-01],\n",
       "       [8.33962295e-01, 1.66037705e-01, 4.55557009e-12],\n",
       "       [8.48762934e-01, 1.51237066e-01, 4.63166788e-13],\n",
       "       [4.99047943e-05, 6.42479627e-01, 3.57470468e-01]])"
      ]
     },
     "execution_count": 34,
     "metadata": {},
     "output_type": "execute_result"
    }
   ],
   "source": [
    "lr.predict_proba(X_test_std[:4, :])"
   ]
  },
  {
   "cell_type": "markdown",
   "id": "dec06b56",
   "metadata": {
    "ExecuteTime": {
     "end_time": "2022-12-18T07:43:37.561686Z",
     "start_time": "2022-12-18T07:43:37.557165Z"
    }
   },
   "source": [
    "첫 번째 행은 첫 번째 붓꽃 샘플의 클래스 소속 확률이다. 두 번째 행은 두 번째 붓꽃 샘플의 클래스 소속 확률에 해당한다. 당연하지만 열을 모두 더하면 1이 된다."
   ]
  },
  {
   "cell_type": "code",
   "execution_count": 35,
   "id": "d69ea1f2",
   "metadata": {
    "ExecuteTime": {
     "end_time": "2022-12-19T10:36:43.697545Z",
     "start_time": "2022-12-19T10:36:43.684653Z"
    }
   },
   "outputs": [
    {
     "data": {
      "text/plain": [
       "array([1., 1., 1., 1.])"
      ]
     },
     "execution_count": 35,
     "metadata": {},
     "output_type": "execute_result"
    }
   ],
   "source": [
    "(lr.predict_proba(X_test_std[:4, :])).sum(axis=1)"
   ]
  },
  {
   "cell_type": "markdown",
   "id": "45692557",
   "metadata": {},
   "source": [
    "첫 번째 행에서 가장 큰 값은 대략 0.855 정도이다. 첫 번째 샘플이 클래스 3(Iris-verginica)에 속할 확률이 85.5%라는 뜻이다. 행에서 가장 큰 값이 열의 예측 클래스 레이블이 된다. 예를 들어 넘파이 <code>argmax()</code> 함수를 사용하면 다음과 같이 쓴다. 출력된 클래스 인덱스는 다음과 같다(각각 Iris-verginica, Iris-setosa, Iris-setosa, Iris-versicolor에 해당한다)."
   ]
  },
  {
   "cell_type": "code",
   "execution_count": 36,
   "id": "af1fb957",
   "metadata": {
    "ExecuteTime": {
     "end_time": "2022-12-19T10:36:43.712651Z",
     "start_time": "2022-12-19T10:36:43.699561Z"
    }
   },
   "outputs": [
    {
     "data": {
      "text/plain": [
       "array([2, 0, 0, 1], dtype=int64)"
      ]
     },
     "execution_count": 36,
     "metadata": {},
     "output_type": "execute_result"
    }
   ],
   "source": [
    "lr.predict_proba(X_test_std[:4, :]).argmax(axis=1)"
   ]
  },
  {
   "cell_type": "markdown",
   "id": "03f2f981",
   "metadata": {},
   "source": [
    "조건부 확률로부터 얻은 클래스 레이블은 수동적인 방법이다. 직접 <code>predict()</code> 메서드를 호출하여 빠르게 확인할 수 있다."
   ]
  },
  {
   "cell_type": "code",
   "execution_count": 37,
   "id": "fb110232",
   "metadata": {
    "ExecuteTime": {
     "end_time": "2022-12-19T10:36:43.728704Z",
     "start_time": "2022-12-19T10:36:43.715158Z"
    }
   },
   "outputs": [
    {
     "data": {
      "text/plain": [
       "array([2, 0, 0, 1])"
      ]
     },
     "execution_count": 37,
     "metadata": {},
     "output_type": "execute_result"
    }
   ],
   "source": [
    "lr.predict(X_test_std[:4, :])"
   ]
  },
  {
   "cell_type": "markdown",
   "id": "3b37a240",
   "metadata": {},
   "source": [
    "마지막으로 샘플 하나의 클래스 레이블을 예측할 때 주의할 점이 있다. 사이킷런은 입력 데이터로 2차원 배열을 기대하므로 하나의 행을 2차원 포맷으로 먼저 변경해야 한다. 하나의 행을 2차원 배열로 변환하는 한 가지 방법은 넘파이 <code>reshape()</code> 메서드를 사용하여 새로운 차원을 추가하는 것이다.<sup><a id=\"a03\" href=\"#p03\">[3]</a></sup> 예를 들어 다음과 같다."
   ]
  },
  {
   "cell_type": "code",
   "execution_count": 38,
   "id": "b82fa082",
   "metadata": {
    "ExecuteTime": {
     "end_time": "2022-12-19T10:36:43.744210Z",
     "start_time": "2022-12-19T10:36:43.730706Z"
    }
   },
   "outputs": [
    {
     "data": {
      "text/plain": [
       "array([2])"
      ]
     },
     "execution_count": 38,
     "metadata": {},
     "output_type": "execute_result"
    }
   ],
   "source": [
    "lr.predict(X_test_std[0, :].reshape(1, -1))"
   ]
  },
  {
   "cell_type": "markdown",
   "id": "404e54a8",
   "metadata": {},
   "source": [
    "### 결정 경계"
   ]
  },
  {
   "cell_type": "code",
   "execution_count": 39,
   "id": "f48c69f8",
   "metadata": {
    "ExecuteTime": {
     "end_time": "2022-12-19T10:36:43.759962Z",
     "start_time": "2022-12-19T10:36:43.746345Z"
    }
   },
   "outputs": [],
   "source": [
    "from sklearn import datasets\n",
    "iris = datasets.load_iris()\n",
    "X = iris[\"data\"][:, 3:] # 꽃잎의 너비\n",
    "y = (iris[\"target\"] == 2).astype(int) # Iris-Virginica면 1, 그렇지 않으면 0"
   ]
  },
  {
   "cell_type": "code",
   "execution_count": 40,
   "id": "bf7e6ec8",
   "metadata": {
    "ExecuteTime": {
     "end_time": "2022-12-19T10:36:43.775245Z",
     "start_time": "2022-12-19T10:36:43.761967Z"
    }
   },
   "outputs": [
    {
     "data": {
      "text/html": [
       "<style>#sk-container-id-2 {color: black;background-color: white;}#sk-container-id-2 pre{padding: 0;}#sk-container-id-2 div.sk-toggleable {background-color: white;}#sk-container-id-2 label.sk-toggleable__label {cursor: pointer;display: block;width: 100%;margin-bottom: 0;padding: 0.3em;box-sizing: border-box;text-align: center;}#sk-container-id-2 label.sk-toggleable__label-arrow:before {content: \"▸\";float: left;margin-right: 0.25em;color: #696969;}#sk-container-id-2 label.sk-toggleable__label-arrow:hover:before {color: black;}#sk-container-id-2 div.sk-estimator:hover label.sk-toggleable__label-arrow:before {color: black;}#sk-container-id-2 div.sk-toggleable__content {max-height: 0;max-width: 0;overflow: hidden;text-align: left;background-color: #f0f8ff;}#sk-container-id-2 div.sk-toggleable__content pre {margin: 0.2em;color: black;border-radius: 0.25em;background-color: #f0f8ff;}#sk-container-id-2 input.sk-toggleable__control:checked~div.sk-toggleable__content {max-height: 200px;max-width: 100%;overflow: auto;}#sk-container-id-2 input.sk-toggleable__control:checked~label.sk-toggleable__label-arrow:before {content: \"▾\";}#sk-container-id-2 div.sk-estimator input.sk-toggleable__control:checked~label.sk-toggleable__label {background-color: #d4ebff;}#sk-container-id-2 div.sk-label input.sk-toggleable__control:checked~label.sk-toggleable__label {background-color: #d4ebff;}#sk-container-id-2 input.sk-hidden--visually {border: 0;clip: rect(1px 1px 1px 1px);clip: rect(1px, 1px, 1px, 1px);height: 1px;margin: -1px;overflow: hidden;padding: 0;position: absolute;width: 1px;}#sk-container-id-2 div.sk-estimator {font-family: monospace;background-color: #f0f8ff;border: 1px dotted black;border-radius: 0.25em;box-sizing: border-box;margin-bottom: 0.5em;}#sk-container-id-2 div.sk-estimator:hover {background-color: #d4ebff;}#sk-container-id-2 div.sk-parallel-item::after {content: \"\";width: 100%;border-bottom: 1px solid gray;flex-grow: 1;}#sk-container-id-2 div.sk-label:hover label.sk-toggleable__label {background-color: #d4ebff;}#sk-container-id-2 div.sk-serial::before {content: \"\";position: absolute;border-left: 1px solid gray;box-sizing: border-box;top: 0;bottom: 0;left: 50%;z-index: 0;}#sk-container-id-2 div.sk-serial {display: flex;flex-direction: column;align-items: center;background-color: white;padding-right: 0.2em;padding-left: 0.2em;position: relative;}#sk-container-id-2 div.sk-item {position: relative;z-index: 1;}#sk-container-id-2 div.sk-parallel {display: flex;align-items: stretch;justify-content: center;background-color: white;position: relative;}#sk-container-id-2 div.sk-item::before, #sk-container-id-2 div.sk-parallel-item::before {content: \"\";position: absolute;border-left: 1px solid gray;box-sizing: border-box;top: 0;bottom: 0;left: 50%;z-index: -1;}#sk-container-id-2 div.sk-parallel-item {display: flex;flex-direction: column;z-index: 1;position: relative;background-color: white;}#sk-container-id-2 div.sk-parallel-item:first-child::after {align-self: flex-end;width: 50%;}#sk-container-id-2 div.sk-parallel-item:last-child::after {align-self: flex-start;width: 50%;}#sk-container-id-2 div.sk-parallel-item:only-child::after {width: 0;}#sk-container-id-2 div.sk-dashed-wrapped {border: 1px dashed gray;margin: 0 0.4em 0.5em 0.4em;box-sizing: border-box;padding-bottom: 0.4em;background-color: white;}#sk-container-id-2 div.sk-label label {font-family: monospace;font-weight: bold;display: inline-block;line-height: 1.2em;}#sk-container-id-2 div.sk-label-container {text-align: center;}#sk-container-id-2 div.sk-container {/* jupyter's `normalize.less` sets `[hidden] { display: none; }` but bootstrap.min.css set `[hidden] { display: none !important; }` so we also need the `!important` here to be able to override the default hidden behavior on the sphinx rendered scikit-learn.org. See: https://github.com/scikit-learn/scikit-learn/issues/21755 */display: inline-block !important;position: relative;}#sk-container-id-2 div.sk-text-repr-fallback {display: none;}</style><div id=\"sk-container-id-2\" class=\"sk-top-container\"><div class=\"sk-text-repr-fallback\"><pre>LogisticRegression()</pre><b>In a Jupyter environment, please rerun this cell to show the HTML representation or trust the notebook. <br />On GitHub, the HTML representation is unable to render, please try loading this page with nbviewer.org.</b></div><div class=\"sk-container\" hidden><div class=\"sk-item\"><div class=\"sk-estimator sk-toggleable\"><input class=\"sk-toggleable__control sk-hidden--visually\" id=\"sk-estimator-id-2\" type=\"checkbox\" checked><label for=\"sk-estimator-id-2\" class=\"sk-toggleable__label sk-toggleable__label-arrow\">LogisticRegression</label><div class=\"sk-toggleable__content\"><pre>LogisticRegression()</pre></div></div></div></div></div>"
      ],
      "text/plain": [
       "LogisticRegression()"
      ]
     },
     "execution_count": 40,
     "metadata": {},
     "output_type": "execute_result"
    }
   ],
   "source": [
    "from sklearn.linear_model import LogisticRegression\n",
    "\n",
    "log_reg = LogisticRegression()\n",
    "log_reg.fit(X, y)"
   ]
  },
  {
   "cell_type": "markdown",
   "id": "78efd557",
   "metadata": {},
   "source": [
    "꽃잎의 너비가 0~3cm인 꽃에 대해 모델의 추정 확률을 계산해보겠다."
   ]
  },
  {
   "cell_type": "code",
   "execution_count": 41,
   "id": "0bf46b08",
   "metadata": {
    "ExecuteTime": {
     "end_time": "2022-12-19T10:36:44.057271Z",
     "start_time": "2022-12-19T10:36:43.777168Z"
    }
   },
   "outputs": [
    {
     "name": "stdout",
     "output_type": "stream",
     "text": [
      "그림 저장: logistic_regression_plot\n"
     ]
    },
    {
     "data": {
      "image/png": "[encoded data removed]",
      "text/plain": [
       "<Figure size 576x216 with 1 Axes>"
      ]
     },
     "metadata": {
      "needs_background": "light"
     },
     "output_type": "display_data"
    }
   ],
   "source": [
    "X_new = np.linspace(0, 3, 1000).reshape(-1, 1)\n",
    "y_proba = log_reg.predict_proba(X_new)\n",
    "decision_boundary = X_new[y_proba[:, 1] >= 0.5][0]\n",
    "\n",
    "plt.figure(figsize=(8, 3))\n",
    "plt.plot(X[y==0], y[y==0], \"bs\")\n",
    "plt.plot(X[y==1], y[y==1], \"g^\")\n",
    "plt.plot([decision_boundary, decision_boundary], [-1, 2], \"k:\", linewidth=2)\n",
    "plt.plot(X_new, y_proba[:, 1], \"g-\", linewidth=2, label=\"Iris virginica\")\n",
    "plt.plot(X_new, y_proba[:, 0], \"b--\", linewidth=2, label=\"Not Iris virginica\")\n",
    "plt.text(decision_boundary+0.02, 0.15, \"Decision boundary\", fontsize=14, color=\"k\", ha=\"center\")\n",
    "plt.arrow(decision_boundary[0], 0.08, -0.3, 0, head_width=0.05, head_length=0.1, fc='b', ec='b')\n",
    "plt.arrow(decision_boundary[0], 0.92, 0.3, 0, head_width=0.05, head_length=0.1, fc='g', ec='g')\n",
    "plt.xlabel(\"Petal width (cm)\", fontsize=14)\n",
    "plt.ylabel(\"Probability\", fontsize=14)\n",
    "plt.legend(loc=\"center left\", fontsize=14)\n",
    "plt.axis([0, 3, -0.02, 1.02])\n",
    "save_fig(\"logistic_regression_plot\")\n",
    "plt.show()"
   ]
  },
  {
   "cell_type": "markdown",
   "id": "67f31fbe",
   "metadata": {},
   "source": [
    "Iris-Verginica (삼각형으로 표시)의 꽃잎 너비는 1.4 ~ 2.5cm에 분포한다. 반면 다른 붓꽃(사각형으로 표시)은 일반적으로 꽃잎 너비가 더 작아 0.1 ~ 1.8cm에 분포한다. 그래서 약간 중첩되는 부분이 있다. 꽃잎 너비가 2cm 이상인 꽃은 분류기가 Iris-Verginica라고 강하게 확신한다(이 클래스에 대해 높은 확률을 출력한다). 반면 1cm 아래면 Iris-Verginica가 아니라고 강하게 확신한다('Not Iris verginica'클래스에 대한 확률이 높다). 이 두 극단 사이에서는 분류가 확실하지 않다. 하지만 어쨌든 클래스를 예측하려고 하면(<code>predict_proba()</code> 메서드 대신 <code>predict()</code> 메서드를 사용해서) 가장 가능성 높은 클래스를 반환할 것이다. 그렇기 때문에 양쪽의 확률이 똑같이 50%가 되는 1.6cm 근방에서 결정 경계<sup>decision boundary</sup>가 만들어진다. 꽃잎 너비가 1.6cm보다 크면 분류기는 Iris-Verginica로 분류하고, 그보다 작으면 아니라고 에측할 것이다(아주 확실하지 않더라도)."
   ]
  },
  {
   "cell_type": "code",
   "execution_count": 42,
   "id": "ced174fd",
   "metadata": {
    "ExecuteTime": {
     "end_time": "2022-12-19T10:36:44.072854Z",
     "start_time": "2022-12-19T10:36:44.059273Z"
    }
   },
   "outputs": [
    {
     "data": {
      "text/plain": [
       "array([1.66066066])"
      ]
     },
     "execution_count": 42,
     "metadata": {},
     "output_type": "execute_result"
    }
   ],
   "source": [
    "decision_boundary"
   ]
  },
  {
   "cell_type": "code",
   "execution_count": 43,
   "id": "c2844709",
   "metadata": {
    "ExecuteTime": {
     "end_time": "2022-12-19T10:36:44.088410Z",
     "start_time": "2022-12-19T10:36:44.073853Z"
    }
   },
   "outputs": [
    {
     "data": {
      "text/plain": [
       "array([1, 0])"
      ]
     },
     "execution_count": 43,
     "metadata": {},
     "output_type": "execute_result"
    }
   ],
   "source": [
    "log_reg.predict([[1.7], [1.5]])"
   ]
  },
  {
   "cell_type": "code",
   "execution_count": 51,
   "id": "021a37fa",
   "metadata": {
    "ExecuteTime": {
     "end_time": "2022-12-19T11:23:49.405542Z",
     "start_time": "2022-12-19T11:23:49.016057Z"
    }
   },
   "outputs": [
    {
     "name": "stdout",
     "output_type": "stream",
     "text": [
      "그림 저장: logistic_regression_contour_plot\n"
     ]
    },
    {
     "data": {
      "image/png": "[encoded data removed]",
      "text/plain": [
       "<Figure size 720x288 with 1 Axes>"
      ]
     },
     "metadata": {
      "needs_background": "light"
     },
     "output_type": "display_data"
    }
   ],
   "source": [
    "from sklearn.linear_model import LogisticRegression\n",
    "\n",
    "X = iris[\"data\"][:, (2, 3)]  # petal length, petal width\n",
    "y = (iris[\"target\"] == 2).astype(int)\n",
    "\n",
    "log_reg = LogisticRegression(solver=\"lbfgs\", C=10**10, random_state=42)\n",
    "log_reg.fit(X, y)\n",
    "\n",
    "x0, x1 = np.meshgrid(\n",
    "        np.linspace(2.9, 7, 500).reshape(-1, 1),\n",
    "        np.linspace(0.8, 2.7, 200).reshape(-1, 1),\n",
    "    )\n",
    "X_new = np.c_[x0.ravel(), x1.ravel()]\n",
    "\n",
    "y_proba = log_reg.predict_proba(X_new)\n",
    "\n",
    "plt.figure(figsize=(10, 4))\n",
    "plt.plot(X[y==0, 0], X[y==0, 1], \"bs\")\n",
    "plt.plot(X[y==1, 0], X[y==1, 1], \"g^\")\n",
    "\n",
    "zz = y_proba[:, 1].reshape(x0.shape)\n",
    "contour = plt.contour(x0, x1, zz, cmap=plt.cm.brg)\n",
    "\n",
    "\n",
    "left_right = np.array([2.9, 7])\n",
    "boundary = -(log_reg.coef_[0][0] * left_right + log_reg.intercept_[0]) / log_reg.coef_[0][1]\n",
    "\n",
    "plt.clabel(contour, inline=1, fontsize=12)\n",
    "plt.plot(left_right, boundary, \"k--\", linewidth=3)\n",
    "plt.text(3.5, 1.5, \"Not Iris virginica\", fontsize=14, color=\"b\", ha=\"center\")\n",
    "plt.text(6.5, 2.3, \"Iris virginica\", fontsize=14, color=\"g\", ha=\"center\")\n",
    "plt.xlabel(\"Petal length\", fontsize=14)\n",
    "plt.ylabel(\"Petal width\", fontsize=14)\n",
    "plt.axis([2.9, 7, 0.8, 2.7])\n",
    "save_fig(\"logistic_regression_contour_plot\")\n",
    "plt.show()"
   ]
  },
  {
   "cell_type": "markdown",
   "id": "9b4c13f4",
   "metadata": {},
   "source": [
    "위 그림은 같은 데이터셋을 이번에는 꽃잎 너비와 꽃잎 길이 두 개의 특성으로 보여준다. 훈련이 끝나면 로지스틱 회귀 분류기가 이 두 특성을 기반으로 하여 새로운 꽃이 Iris-Verginica인지 확률을 추정할 수 있다. 점선은 모델이 50% 확률을 추정하는 지점으로, 이 모델의 결정 경계다. 이 경계는 선형임을 주목하자.<sup><a id=\"a04\" href=\"#p04\">[4]</a></sup> 15%(왼쪽 아래)부터 90%(오른쪽 위)까지 나란한 직선들은 모델이 특정 확률을 출력하는 포인트를 나타낸다. 모델은 맨 오른쪽 위의 직선을 넘어서 있는 꽃들을 90% 이상의 확률로 Iris-Virginica라고 판단할 것이다."
   ]
  },
  {
   "cell_type": "markdown",
   "id": "99c6977b",
   "metadata": {},
   "source": [
    "## 규제를 사용하여 과대적합 피하기"
   ]
  },
  {
   "cell_type": "markdown",
   "id": "ec549253",
   "metadata": {},
   "source": [
    "<b>규제화</b><sup>regularization</sup>는 공선성<sup>collinearity</sup>(특성 간의 높은 상관관계)을 다루거나 데이터에서 잡음을 제거하여 과대적합을 방지할 수 있는 매우 유용한 방법이다. 규제는 과도한 파라미터(가중치) 값을 제한하기 위해 추가적인 정보(편향)을 주입하는 개념이다.\n",
    "\n",
    "이는 학습을 수행할 때 페널티를 부여하여 결정 경계를 매끄럽게 하는 작용을 한다. 입력 데이터에 대한 최적화를 할 때 규제항을 추가해주면 이미 노출된 학습 데이터의 영향을 과도하게 받지 않는다. 즉, 간단한 모델을 유지하도록 보정하는 역할이라고 보면 된다. 이런 방법으로 과적합을 억제하고 일반화 성능을 확보할 수 있다."
   ]
  },
  {
   "cell_type": "markdown",
   "id": "76da1f11",
   "metadata": {},
   "source": [
    "가장 널리 사용하는 규제 형태는 다음과 같은 L2 규제다(이따금 L2 축소 또는 가중치 감쇠라고 부른다).<sup><a id=\"05\" href=\"#p05\">[5]</a></sup> 이는 가중치 파라미터의 제곱을 손실 함수에 페널티로 더해준다."
   ]
  },
  {
   "cell_type": "markdown",
   "id": "91f7ae3f",
   "metadata": {},
   "source": [
    "<div style=\"text-align:center;\">\n",
    "    <img src=\"./images/formula/Logistic Regression/L2 규제항.png\">\n",
    "</div>"
   ]
  },
  {
   "cell_type": "markdown",
   "id": "6d8029d3",
   "metadata": {},
   "source": [
    "이 식에서 λ는 규제 하이퍼파라미터다. 여기서 손실 함수를 최소화할 때 값이 너무 큰 가중치 파라미터에 페널티가 부여된다. λ의 값은 교차검증을 통해 결정한다."
   ]
  },
  {
   "cell_type": "markdown",
   "id": "27f860d3",
   "metadata": {},
   "source": [
    "<div style=\"background-color:#D3D3D3; padding:10px;\">\n",
    "    <span style=\"color: #D0B134\"><strong>NOTEΞ</strong></span> 규제는 표준화 같은 특성 스케일 조정이 중요한 또 다른 이유다. 규제가 잘 동작하려면 모든 특성이 비슷한 스케일을 가져야 한다.\n",
    "</div>"
   ]
  },
  {
   "cell_type": "markdown",
   "id": "fdc9c734",
   "metadata": {},
   "source": [
    "로지스틱 회귀의 비용 함수는 규제 항을 추가해서 규제를 적용한다. 규제 항은 모델 훈련 과정에서 가중치를 줄이는 역할을 한다."
   ]
  },
  {
   "cell_type": "markdown",
   "id": "61b3d910",
   "metadata": {},
   "source": [
    "<div style=\"text-align:center;\">\n",
    "    <img src=\"./images/formula/Logistic Regression/L2 규제.png\">\n",
    "</div>"
   ]
  },
  {
   "cell_type": "markdown",
   "id": "966288d1",
   "metadata": {},
   "source": [
    "규제 하이퍼파라미터 λ를 사용하여 가중치를 작게 유지하면서 훈련 데이터에 얼마나 잘 맞출지를 조정할 수 있다. λ 값을 증가하면 규제 강도가 높아진다."
   ]
  },
  {
   "cell_type": "markdown",
   "id": "388e2351",
   "metadata": {},
   "source": [
    "사이킷런의 LogisticRegression 클래스의 매개변수 C는 후에 소개할 서포트 벡터 머신 형식에서 따왔다. 매개변수 C는 규제 하이퍼파라미터 λ의 역수다. 결과적으로 역 규제 파라미터 C의 값을 감소시키면 규제 강도가 증가한다. 두 개의 가중치에 대해서 L2 규제 효과를 그래프로 나타내 보겠다.<sup><a id=\"a06\" href=\"#p06\">[6]</a></sup>"
   ]
  },
  {
   "cell_type": "code",
   "execution_count": 56,
   "id": "e4f3a03a",
   "metadata": {
    "ExecuteTime": {
     "end_time": "2022-12-19T11:25:01.620071Z",
     "start_time": "2022-12-19T11:25:01.260335Z"
    },
    "scrolled": false
   },
   "outputs": [
    {
     "name": "stdout",
     "output_type": "stream",
     "text": [
      "그림 저장: 규제 매개변수에 따른 가중치 크기의 변화\n"
     ]
    },
    {
     "data": {
      "image/png": "[encoded data removed]",
      "text/plain": [
       "<Figure size 432x288 with 1 Axes>"
      ]
     },
     "metadata": {
      "needs_background": "light"
     },
     "output_type": "display_data"
    }
   ],
   "source": [
    "weights, params = [], []\n",
    "for c in np.arange(-5, 5):\n",
    "    lr = LogisticRegression(solver='liblinear', multi_class='auto', C=10.**c,\n",
    "                            random_state=1)\n",
    "    lr.fit(X_train_std, y_train)\n",
    "    weights.append(lr.coef_[1])\n",
    "    params.append(10.**c)\n",
    "weights = np.array(weights)\n",
    "plt.plot(params, weights[:, 0],\n",
    "         label='petal length')\n",
    "plt.plot(params, weights[:, 1], linestyle='--',\n",
    "         label='petal width')\n",
    "plt.ylabel('weight coefficient')\n",
    "plt.xlabel('C')\n",
    "plt.legend(loc='upper left')\n",
    "plt.xscale('log')\n",
    "save_fig('규제 매개변수에 따른 가중치 크기의 변화')\n",
    "plt.show()"
   ]
  },
  {
   "cell_type": "markdown",
   "id": "5c7dee9a",
   "metadata": {},
   "source": [
    "이 코드를 실행하면 역 규제 매개변수 C의 값을 바꾸면서 열 개의 로지스틱 회귀 모델을 훈련한다. 시연을 위해 모든 분류기에서 클래스 1의 가중치 값만 사용한다(여기서는 데이터셋에 있는 두 번째 클래스인 Iris-versicolor). 다중 분류에는 OvR 기법을 사용한다."
   ]
  },
  {
   "cell_type": "markdown",
   "id": "e5cc426f",
   "metadata": {},
   "source": [
    "결과 그래프에서 볼 수 있듯이 매개변수 C가 감소하면 가중치 절댓값이 줄어든다. 즉, 규제 강도가 증가한다."
   ]
  },
  {
   "cell_type": "markdown",
   "id": "a1ebf544",
   "metadata": {},
   "source": [
    "## 소프트맥스 회귀"
   ]
  },
  {
   "cell_type": "markdown",
   "id": "6c982635",
   "metadata": {},
   "source": [
    "로지스틱 회귀 모델은 여러 개의 이진 분류기를 훈련시켜 연결하지 않고 직접 다중 클래스를 지원하도록 일반화될 수 있다. 이를 <b>소프트맥스 회귀</b><sup>softmax regression</sup> 또는 <b>다항 로지스틱 회귀</b><sup>multinomial logistic regression</sup>라고 한다."
   ]
  },
  {
   "cell_type": "markdown",
   "id": "7edc7a2c",
   "metadata": {},
   "source": [
    "개념은 매우 간단하다. 샘플 <b>x</b>가 주어지면 먼저 소프트맥스 회귀 모델이 각 클래스 <i>k</i>에 대한 점수 s<sub>k</sub>(<b>x</b>)를 계산하고, 그 점수에 <b>소프트맥스 함수</b><sup>softmax function</sup>(또는 <b>정규화된 지수 함수</b><sup>normalized exponential function</sup>라고 부른다)를 적용하여 각 클래스의 확률을 추정한다. s<sub>k</sub>(<b>x</b>)를 계산하는 식은 다음과 같다."
   ]
  },
  {
   "cell_type": "markdown",
   "id": "3f11efee",
   "metadata": {},
   "source": [
    "<div style=\"text-align:center;\">\n",
    "    <img src=\"./images/formula/Logistic Regression/소프트맥스 점수.png\">\n",
    "</div>"
   ]
  },
  {
   "cell_type": "markdown",
   "id": "ef7a046b",
   "metadata": {},
   "source": [
    "각 클래스는 자신만의 파라미터 벡터 <b>θ</b><sup>(k)</sup>가 있다. 이 벡터들은 <b>파라미터 행렬</b><sup>parameter matrix</sup> <b>Θ</b>에 행으로 저장된다.<sup><a id=\"a07\" href=\"#p07\">[7]</a></sup>"
   ]
  },
  {
   "cell_type": "markdown",
   "id": "10d7b78a",
   "metadata": {},
   "source": [
    "샘플 <b>x</b>에 대해 각 클래스의 점수가 계산되면 소프트맥스 함수를 통과시켜 클래스 <i>k</i>에 속할 확률 ^<i>p<sub>k</sub></i>을 추정할 수 있다. 이 함수는 각 점수에 지수 함수를 적용한 후 정규화한다(모든 지수 함수 결과의 합으로 나눈다). (사실 정규화되지 않은 로그-오즈이지만) 일반적으로 이 점수를 로짓 또는 로그-오즈라고 부른다."
   ]
  },
  {
   "cell_type": "markdown",
   "id": "e7b356c1",
   "metadata": {},
   "source": [
    "<div style=\"text-align:center;\">\n",
    "    <img src=\"./images/formula/Logistic Regression/소프트맥스 함수.png\">\n",
    "</div>"
   ]
  },
  {
   "cell_type": "markdown",
   "id": "b02a5911",
   "metadata": {},
   "source": [
    "<ul>\n",
    "    <li>K는 클래스 수다</li>\n",
    "    <li><b>s(x)</b>는 샘플 <b>x</b>에 대한 각 클래스의 점수를 담은 벡터다</li>\n",
    "    <li><b>σ(s(x))</b><sub>k</sub>는 샘플 <b>x</b>에 대한 각 클래스의 점수가 주어졌을 때 이 샘플이 클래스 <i>k</i>에 속할 추정 확률이다</li>\n",
    "</ul>"
   ]
  },
  {
   "cell_type": "markdown",
   "id": "31e81b76",
   "metadata": {},
   "source": [
    "로지스틱 회귀 분류기와 마탄가지로 소프트맥스 회귀 분류기는 다음 식처럼 추정 확률이 가장 높은 클래스(그냥 가장 높은 점수를 가진 클래스)를 선택한다."
   ]
  },
  {
   "cell_type": "markdown",
   "id": "586ee15b",
   "metadata": {},
   "source": [
    "<div style=\"text-align:center;\">\n",
    "    <img src=\"./images/formula/Logistic Regression/소프트맥스 회귀 분류기의 예측.png\">\n",
    "</div>"
   ]
  },
  {
   "cell_type": "markdown",
   "id": "364d4b9e",
   "metadata": {},
   "source": [
    "<b>argmax</b> 연산은 함수를 최대화하는 변수의 값을 반환한다. 이 식에서는 추정 확률 <b>σ(s(x))</b><sub>k</sub>가 최대인 <i>k</i> 값을 반환한다."
   ]
  },
  {
   "cell_type": "markdown",
   "id": "ec9b5677",
   "metadata": {},
   "source": [
    "<b>TIP</b> 소프트맥스 회귀 분류기는 한 번에 하나의 클래스만 예측한다(즉, 다중 클래스<sup>multiclass</sup>지 다중 출력<sup>multioutput</sup>은 아니다). 그래서 종류가 다른 붓꽃 같이 상호 배타적인 클래스에서만 사용해야 한다. 하나의 사진에서 여러 사람의 얼굴을 인식하는 데는 사용할 수 없다."
   ]
  },
  {
   "cell_type": "markdown",
   "id": "c57240c6",
   "metadata": {},
   "source": [
    "모델이 어떻게 확률을 추정하고 예측을 만드는지 알았으므로 훈련 방법에 대해 살펴보겠다. 모델이 타깃 클래스에 대해서는 높은 확률을(그리고 다른 클래스에 대해서는 낮은 확률을) 추정하도록 만드는 것이 목적이다. 다음 식의 <b>크로스 엔트로피</b><sup>cross entropy</sup> 비용 함수를 최소화하는 것은 타깃 클래스에 대해 낮은 확률을 예측하는 모델을 억제하므로 이 목적에 부합하다. 크로스 엔트로피는 추정된 클래스의 확률이 타깃 클래스에 얼마나 잘 맞는지 추정하는 용도로 종종 사용된다."
   ]
  },
  {
   "cell_type": "markdown",
   "id": "e23872fc",
   "metadata": {},
   "source": [
    "<div style=\"text-align:center;\">\n",
    "    <img src=\"./images/formula/Logistic Regression/크로스 엔트로피 비용 함수.png\">\n",
    "</div>"
   ]
  },
  {
   "cell_type": "markdown",
   "id": "46430286",
   "metadata": {},
   "source": [
    "<ul>\n",
    "    <li>이 식에서 <i>y</i><sup>(i)</sup><sub>k</sub>는 <i>i</i>번째 샘플이 클래스 <i>k</i>에 속할 타깃 확률이다. 일반적으로 샘플이 클래스에 속하는지 아닌지에 따라 1 또는 0이 된다.</li>\n",
    "</ul>"
   ]
  },
  {
   "cell_type": "markdown",
   "id": "ae4db40a",
   "metadata": {},
   "source": [
    "딱 두 개의 클래스가 있을 때(K = 2) 이 비용 함수는 로지스틱 회귀의 비용 함수와 같다."
   ]
  },
  {
   "cell_type": "markdown",
   "id": "840d63a2",
   "metadata": {},
   "source": [
    "<div style=\"border:1px solid; padding:10px;\">\n",
    "    <div style=\"text-align: center\"><strong>크로스 엔트로피</strong></div><br>\n",
    "    크로스 엔트로피는 원래 정보 이론에서 유래했다. 매일 날씨 정보를 효율적으로 전달하려 한다고 가정하자. 8가지 정보(맑음, 비 등)가 있다면 2<sup>3</sup> = 8이므로 이 선택 사항을 3비트를 사용하여 인코딩할 수 있다. 그러나 거의 대부분의 날이 맑음이라면 '맑음'을 하나의 비트(0)로 인코딩하고 다른 일곱 개의 선택 사항을 (1로 시작하는) 4비트로 표현하는 것이 효율적이다. 크로스 엔트로피는 선택 사항마다 전송한 평균 비트 수를 측정한다. 날씨에 대한 가정이 완벽하면 크로스 엔트로피는 날씨 자체의 엔트로피와 동일할 것이다.(즉, 예측 불가능한 고유 성질이다). 하지만 이런 가정이 틀렸다면(즉, 비가 자주 온다면) 크로스 엔트로피는 <b>쿨백-라이블러 발산</b><sup>Kullback-Leibler divergence</sup>이라 불리는 양만큼 커질 것이다.<sup><a id=\"a08\" href=\"#p08\">[8]</a></sup><br><br>\n",
    "    두 확률 분포 <i>p</i>와 <i>q</i> 사이의 크로스 엔트로피는 H(<i>p, q</i>) = - Σ<sub>x</sub><i>p(x)</i>log<i>q(x)</i>)로 정의한다(분포가 이산적일 때). 조금 더 자세한 내용은 다음 동영상을 참고하자(<a href='https://www.youtube.com/watch?v=ErfnhcEV1O8' target='blank'>https://www.youtube.com/watch?v=ErfnhcEV1O8</a>).\n",
    "</div>"
   ]
  },
  {
   "cell_type": "markdown",
   "id": "db6d6f45",
   "metadata": {},
   "source": [
    "좀 더 자세한 내용은 <a href=\"https://datascienceschool.net/03%20machine%20learning/10.01%20%EB%A1%9C%EC%A7%80%EC%8A%A4%ED%8B%B1%20%ED%9A%8C%EA%B7%80%EB%B6%84%EC%84%9D.html\" target=\"blank\">데이터 사이언스 스쿨</a> 또는 <a href=\"https://ko.wikipedia.org/wiki/%EB%A1%9C%EC%A7%80%EC%8A%A4%ED%8B%B1_%ED%9A%8C%EA%B7%80\" target=\"blank\">위키피디아: 로지스틱 회귀</a>를 참고하자."
   ]
  },
  {
   "cell_type": "markdown",
   "id": "a4e9ed0a",
   "metadata": {},
   "source": [
    "# 미주"
   ]
  },
  {
   "cell_type": "markdown",
   "id": "c3afd295",
   "metadata": {},
   "source": [
    "<b id=\"p01\">1</b> 시그모이드<sup>sigmoid</sup>란 'S자 모양'이라는 뜻이다. 계단 함수처럼 그 모양을 따 이름을 지은 것이다. [↩](#a01)\n",
    "\n",
    "<b id=\"p02\">2</b> Π 기호는 수열의 곱을 나타낸다. 여기서는 n개의 샘플이 해당 클래스에 속할 확률을 곱한 것이다. 양성 샘플일 경우 1-<i>y<sup>(i)</sup></i>가 0이 되어 두 번째 항이 1이 되고 양성 샘플일 확률 <i>Φ(z<sup>(i)</sup>)</i>만 남는다. 반대로 음성 샘플일 경우 <i>y<sup>(i)</sup></i>가 0이 되어 첫 번째 항이 1이 되고 음성 샘플일 확률 1 - <i>Φ(z<sup>(i)</sup>)</i>만 남는다. 따라서 가능도가 최대가 되려면 양성 샘플의 <i>Φ(z<sup>(i)</sup>)</i>는 가능한 크고 음성 샘플의 <i>Φ(z<sup>(i)</sup>)</i>는 가능한 작아야 한다. [↩](#a02)\n",
    "\n",
    "<b id=\"p03\">3</b> 다른 방법으로는 <code>np.expand_dims(X_test_std[0, :], axis=0)</code>처럼 사용할 수 있다. 또는, <code>X_test_std[0, np.newaxis]</code>처럼 사용할 수도 있다. 가장 간단한 방법은 <code>X_test_std[0:1, :]</code>처럼 인덱스 슬라이싱을 사용하는 것이다. [↩](#a03)\n",
    "\n",
    "<b id=\"p04\">4</b> 이 경계는 직선 방정식 <i>Θ<sub>0</sub> + Θ<sub>1</sub>x<sub>1</sub> + Θ<sub>2</sub>x<sub>2</sub></i> = 0을 만족하는 포인트 <b>x</b>의 집합이다. [↩](#a04)\n",
    "\n",
    "<b id=\"p05\">5</b> L2 규제에 사용하는 식은 L2 노름의 제곱이지만 보통 L2 규제라고 한다. [↩](#a05)\n",
    "\n",
    "<b id=\"p06\">6</b> LogisticRegression의 penalty 매개변수의 기본값이 L2 규제를 의미하는 'l2'이며 'l1'으로 바꾸어 L1 규제를 사용할 수도 있다. 매개변수 C의 기본값은 1.0이다. [↩](#a06)\n",
    "\n",
    "<b id=\"p07\">7</b> LogisticRegression 모델의 coef_ 속성은 (클래스 수, 특성 수) 크기의 2차원 배열이다. intercept_ 속성은 클래스 수와 크기가 같은 1차원 배열이다. [↩](#a07)\n",
    "\n",
    "<b id=\"p08\">8</b> 맑음은 1비트, 다른 날씨는 4비트로 전송된다고 하고 맑은 날의 비율이 80%라면 평균 전송 비트 수는 1.6이 된다. 하지만 맑은 날의 비율이 50%라면 평균 전송 비트 수는 2.5로 늘어난다. 이 두 엔트로피의 차이가 이상적인 확률 분포와 이에 근사하는 확률 분포 사이의 차이를 나타내는 쿨백-라이블러 발산이다. 이와 비슷한 예가 구글 브레인 팀의 머신러닝 연구원인 크리스토퍼 올라(Christopher Olah)의 블로그에 자세하게 나와 있다(<a href='https://colah.github.io/posts/2015-09-Visual-Information/' target='blank'>https://colah.github.io/posts/2015-09-Visual-Information/</a>). [↩](#a08)"
   ]
  }
 ],
 "metadata": {
  "kernelspec": {
   "display_name": "myenv",
   "language": "python",
   "name": "myenv"
  },
  "language_info": {
   "codemirror_mode": {
    "name": "ipython",
    "version": 3
   },
   "file_extension": ".py",
   "mimetype": "text/x-python",
   "name": "python",
   "nbconvert_exporter": "python",
   "pygments_lexer": "ipython3",
   "version": "3.8.13"
  },
  "toc": {
   "base_numbering": 1,
   "nav_menu": {},
   "number_sections": true,
   "sideBar": true,
   "skip_h1_title": false,
   "title_cell": "Table of Contents",
   "title_sidebar": "Contents",
   "toc_cell": false,
   "toc_position": {},
   "toc_section_display": true,
   "toc_window_display": true
  }
 },
 "nbformat": 4,
 "nbformat_minor": 5
}
