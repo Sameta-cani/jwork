{
 "cells": [
  {
   "cell_type": "markdown",
   "id": "0b5a39a3",
   "metadata": {},
   "source": [
    "대부분 사람들은 '머신러닝<sup>machine learning</sup>'이란 말을 들으면 로봇을 떠올린다. 누구에게 묻는지에 따라 믿음직한 집사 로봇이나 살인 병기 터미네이터를 생각할 것이다. 하지만 머신러닝은 초현실 판타지가 아니고 이미 우리 주위에 있다. 사실 <strong>광학 문자 판독기</strong><sup>optical character recognition</sup>(OCR) 같은 특별한 몇 가지 애플리케이션이 수십 년 동안 사용되어왔다. 수억 명의 생활을 편리하게 만들어 주류가 된 첫 번째 머신러닝 애플리케이션은 1990년대에 시작되었다. 바로 <strong>스팸 필터</strong><sup>spam filter</sup>이다. 스스로 생각하는 스카이넷<sup>Skynet</sup> 정도는 아니지만 기술적으로 머신러닝이라 할 수 있다(실제로 잘 학습되어 있어서 더는 이메일에 스팸이라고 표시할 일이 거의 없다). 이후 추천과 음성 검색으로 발전했으며, 매일 사용하는 많은 제품과 기능을 소리 없이 향상시킨 수백 개의 머신러닝 애플리케이션이 나왔다."
   ]
  },
  {
   "cell_type": "markdown",
   "id": "6f0809cc",
   "metadata": {},
   "source": [
    "이러한 상업적인 애플리케이션 이외에도 머신러닝은 오늘날 데이터에 기반한 연구에 커다란 영향을 끼쳐 왔다. 예를 들어 별을 탐구하고 새로운 행성을 찾거나 새로운 미립자를 발견하고 DNA 서열을 분석하며 또 맞춤형 암 치료법을 만드는 일과 같은 다양한 과학 분야에 적용되어 왔다."
   ]
  },
  {
   "cell_type": "markdown",
   "id": "f25c1847",
   "metadata": {},
   "source": [
    "머신러닝은 어디서 시작하고 어디서 끝나는 걸까? 기계가 <strong>배운다</strong>는 것이 정확히 무엇을 의미하는 걸까? 내가 위키백과 문서를 내려받으면 내 컴퓨터가 실제로 무언가를 배울 수 있을까? 컴퓨터가 갑자기 똑똑해질 수 있을까? 머신러닝이 무엇인지, 왜 머신러닝이 필요한지 살펴보면서 이 장을 시작하겠다."
   ]
  },
  {
   "cell_type": "markdown",
   "id": "b54c8965",
   "metadata": {},
   "source": [
    "머신러닝의 세상을 탐험하기 전에 전체 머신러닝의 그림을 조망하고 주요 영역과 가장 중요한 랜드마크인 지도 학습과 비지도 학습, 온라인 학습과 배치 학습, 사례 기반 학습과 모델 기반 학습을 알아보겠다. 또한 전형적인 머신러닝 프로젝트의 작업 흐름을 살펴보고 만날 수 있는 주요 문제점과 머신러닝 시스템을 평가하고 세밀하게 튜닝하는 방법을 다루겠다."
   ]
  },
  {
   "cell_type": "markdown",
   "id": "54be8205",
   "metadata": {},
   "source": [
    "# 머신러닝이란?"
   ]
  },
  {
   "cell_type": "markdown",
   "id": "6a82c315",
   "metadata": {},
   "source": [
    "인공지능(AI)의 한 분야로, 일반적으로 좁게 정의된 과제에서 성능을 향상시키기 위해 명시적 프로그래밍[^1]을 작성하지 않고 수많은 데이터를 학습시켜 거기에 있는 패턴을 찾아내는 것이다. 그 후 추출한 패턴을 새로운 데이터에 적용해서 새로운 결과를 예측 및 추론한다. 이러한 과학(또는 예술)을 머신러닝이라고 한다.\n",
    "\n",
    "[^1]: 명시적 프로그래밍은 규칙 기반 프로그램(rule based program)과 같이 입력조건과 상태조건에 따라 동작하는 것을 모두 구현하는 프로그래밍 방식이다."
   ]
  },
  {
   "cell_type": "markdown",
   "id": "e6d4c0df",
   "metadata": {},
   "source": [
    "조금 더 일반적인 정의는 다음과 같다."
   ]
  },
  {
   "cell_type": "markdown",
   "id": "f557dba5",
   "metadata": {},
   "source": [
    "<strong>아서 새뮤얼<sup>Arthur Samual</sup>, 1959</strong>: 명시적인 프로그래밍 없이 컴퓨터가 학습하는 능력을 갖추게 하는 연구 분야다."
   ]
  },
  {
   "cell_type": "markdown",
   "id": "2c40ee50",
   "metadata": {},
   "source": [
    "조금 더 통계학적으로는 접근하자면 다음과 같다."
   ]
  },
  {
   "cell_type": "markdown",
   "id": "3e7d62e1",
   "metadata": {},
   "source": [
    "통계학, 인공지능 그리고 컴퓨터 과학이 얽혀 있는 연구 분야이며 통계학의 확률이론에 근거한 모델 생성을 수행하기에 예측 분석<sup>predictive analytics</sup>이나 통계적 머신러닝<sup>statistical learning</sup>으로도 불린다."
   ]
  },
  {
   "cell_type": "markdown",
   "id": "e99b70af",
   "metadata": {},
   "source": [
    "조금 더 공학적인 정의는 다음과 같다."
   ]
  },
  {
   "cell_type": "markdown",
   "id": "a5250bbc",
   "metadata": {},
   "source": [
    "<strong>톰 미첼<sup>Tom Mitchell</sup>, 1997</strong>: 어떤 작업 T에 대한 컴퓨터 프로그래밍의 성능을 P로 측정했을 때 경험 E로 인해 성능이 향상됐다면, 이 컴퓨터 프로그램은 작업 T와 성능 측정 P에 대해 경험 E로 학습한 것이다."
   ]
  },
  {
   "cell_type": "markdown",
   "id": "726666aa",
   "metadata": {},
   "source": [
    "스팸 필터는 (사용자가 스팸이라고 지정한) 스팸 메일과 일반 메일의 샘플을 이용해 스팸 메일 구분법을 배울 수 있는 머신러닝 프로그램이다. 시스템이 학습하는 데 사용하는 샘플을 <strong>훈련 세트</strong><sup>training set</sup>라고 하고 각 훈련 데이터를 <strong>훈련 사례</strong><sup>training instance</sup>(혹은 <strong>샘플</strong>)라고 한다. 이 경우 작업 T는 새로운 메일이 스팸인지 구분하는 것이고, 경험 E는 <strong>훈련 데이터</strong><sup>training data</sup>이며, 성능 측정 P는 직접 정의해야 한다. 예를 들면 정확히 분류된 메일의 비율을 P로 사용할 수 있다. 이 성능 측정을 <strong>정확도</strong><sup>accuracy</sup>라고 부르며 분류 작업에 자주 사용된다."
   ]
  },
  {
   "cell_type": "markdown",
   "id": "de8f58ac",
   "metadata": {},
   "source": [
    "위키백과 문서를 모두 내려받으면 여러분 컴퓨터는 아주 많은 데이터를 갖게 된다. 하지만 그렇다고 해서 어떤 작업 성능이 갑자기 좋아지는 것은 아니다. 그러므로 위키백과 문서를 다운로드하는 것은 머신러닝이 아니다."
   ]
  },
  {
   "cell_type": "markdown",
   "id": "1274111d",
   "metadata": {},
   "source": [
    "# 왜 머신러닝을 사용하는가?"
   ]
  },
  {
   "cell_type": "markdown",
   "id": "7a0ce67c",
   "metadata": {},
   "source": [
    "전통적인 프로그래밍 기법을 사용해 스팸 필터를 어떻게 만들 수 있을지 생각해보자.\n",
    "1. 먼저 스팸에 어떤 단어들이 주로 나타나는지 살펴본다. 그러면 '4U', '신용카드', '무료', '굉장한' 같은 단어나 구절이 제목에 많이 나타나는 경향이 있다는 것을 알 수 있다. 어쩌면 보낸이의 이름이나 메일 주소, 본문이나 이메일의 다른 요소에서 다른 패턴을 감지할 수도 있다.\n",
    "2. 발견한 각 패턴을 감지하는 알고리즘을 작성하여 프로그래밍이 이런 패턴을 발견했을 때 그 메일을 스팸으로 분류하게 한다.\n",
    "3. 프로그램을 테스트하고 론칭할 만큼 충분한 성능이 나올 때까지 1단계와 2단계를 반복한다."
   ]
  },
  {
   "cell_type": "markdown",
   "id": "656bd4a8",
   "metadata": {},
   "source": [
    "문제가 어렵기 때문에 규칙이 점점 길고 복잡해져서 유지 보수하기 매우 힘들어진다(그림 1-1)."
   ]
  },
  {
   "cell_type": "markdown",
   "id": "827dd69c",
   "metadata": {},
   "source": [
    "그림 1-1: 전통적인 접근 방법"
   ]
  },
  {
   "cell_type": "markdown",
   "id": "32eef67d",
   "metadata": {},
   "source": [
    "반면 머신러닝 기법에 기반을 둔 스팸 필터는 일반 메일에 비해 스팸에 자주 나타나는 패턴을 감지하여 어떤 단어와 구절이 스팸 메일을 판단하는 데 좋은 기준인지 자동으로 학습한다(그림 1-2). 그러므로 프로그램이 훨씬 짧아지고 유지 보수하기 쉬우며 대부분 정확도가 더 높다."
   ]
  },
  {
   "cell_type": "markdown",
   "id": "ac1c75fa",
   "metadata": {},
   "source": [
    "그림 1-2: 머신러닝 접근 방법"
   ]
  },
  {
   "cell_type": "markdown",
   "id": "88c992c1",
   "metadata": {},
   "source": [
    "스팸 메일 발송자가 '4U'를 포함한 모든 메일이 차단된다는 것을 안다면 어떻게 될까? 아마도 '4U' 대신 'For U'를 쓰기 시작할지도 모른다. 전통적인 프로그래밍 방식의 스팸 필터는 'For U' 메일을 구분하기 위해 코드상 수정이 필요하다. 스팸 메일 발송자가 스팸 필터에 대항해 계속 단어를 바꾸면 영원히 새로운 규칙을 추가해야 한다."
   ]
  },
  {
   "cell_type": "markdown",
   "id": "726089bb",
   "metadata": {},
   "source": [
    "하지만, 머신러닝 기반의 스팸 필터는 사용자가 스팸으로 지정한 메일에 유독 'For U'가 자주 나타나는 것을 자동으로 인식하고 별도의 작업을 하지 않아도 자동으로 이 단어를 스팸으로 분류한다(그림 1-3)."
   ]
  },
  {
   "cell_type": "markdown",
   "id": "2085092f",
   "metadata": {},
   "source": [
    "그림 1-3: 자동으로 변화에 적응함"
   ]
  },
  {
   "cell_type": "markdown",
   "id": "30d27acf",
   "metadata": {},
   "source": [
    "위와 같은 전통적인 접근 방법은 규칙 기반 전문가 시스템<sup>rule-based expert system</sup>이라고도 한다. 모델링할 처리 과정을 사람이 잘 알고 있는 경우 결정 규칙을 수동으로 만드는 것이 적합할 때도 있다. 하지만 직접 규칙을 만드는 것은 두 가지 커다란 단점이 있다.\n",
    "- 결정에 필요한 로직은 한 분야나 작업에 국한된다. 따라서 작업이 조금만 변경되더라도 전체 시스템을 다시 개발해야 할 수 있다.\n",
    "- 규칙을 설계하려면 그 분야 전문가들이 내리는 결정 방식에 대해 잘 알아야 한다."
   ]
  },
  {
   "cell_type": "markdown",
   "id": "48a1b255",
   "metadata": {},
   "source": [
    "머신러닝이 유용한 또 다른 분야는 전통적인 방식으로는 너무 복잡하거나 알려진 알고리즘이 없는 문제다. 음성 인식<sup>speech recognition</sup>을 예로 들 수 있다. 'one'과 'two' 두 단어를 구분하는 프로그램을 작성한다고 하자. 단어 'two'는 높은 피치<sup>pitch</sup>의 사운드('T')로 시작하므로 높은 피치의 사운드 강도를 측정하는 알고리즘을 하드코딩해서 'one'과 'two'를 구분할 수도 있다. 당연히 이 방법은 소음이 있는 환경에서 수백만 명이 말하는 여러 언어로 된 수천 개의 단어를 구분하는 것으로 확장하기 어렵다. 각 단어를 녹음한 샘플을 사용해 스스로 학습하는 알고리즘을 작성하는 것이 현재 가장 좋은 솔루션이다."
   ]
  },
  {
   "cell_type": "markdown",
   "id": "c1a20a97",
   "metadata": {},
   "source": [
    "우리는 머신러닝을 통해 배울 수도 있다(그림 1-4). 즉, 머신러닝 알고리즘이 학습한 것을 조사할 수 있다(어떤 알고리즘은 이렇게 하기 어렵다). 예를 들어, 스팸 메일로 충분히 훈련된 스팸 필터에서 스팸을 예측하는 데 가장 좋은 단어 및 단어의 조합이 무엇인지 확인할 수 있다. 가끔 예상치 못한 연관 관계나 새로운 추세가 발견되기도 해서 해당 문제를 더 잘 이해하도록 도와준다. 머신러닝 기술을 적용해서 대용량의 데이터를 분석하면 겉으로는 보이지 않던 패턴을 발견할 수 있다. 이를 <strong>데이터 마이닝</strong><sup>data mining</sup>이라고 한다."
   ]
  },
  {
   "cell_type": "markdown",
   "id": "b172e497",
   "metadata": {},
   "source": [
    "그림 1-4: 머신러닝을 통해 배운다."
   ]
  },
  {
   "cell_type": "markdown",
   "id": "b5ab24b8",
   "metadata": {},
   "source": [
    "요약하면 머신러닝은 다음 분야에 뛰어나다.\n",
    "- 기존 솔루션으로는 많은 수동 조정과 규칙이 필요한 문제: 하나의 머신러닝 모델이 코드를 간단하게 만들고 전통적인 방법보다 더 잘 수행되도록 할 수 있다.\n",
    "- 전통적인 방식으로는 해결 방법이 없는 복잡한 문제: 가장 뛰어난 머신러닝 기법으로 해결 방법을 찾을 수 있다.\n",
    "- 유동적인 환경: 머신러닝 시스템은 새로운 데이터에 적응할 수 있다.\n",
    "- 복잡한 문제와 대량의 데이터에서 통찰 얻기"
   ]
  },
  {
   "cell_type": "markdown",
   "id": "b0dc39fe",
   "metadata": {},
   "source": [
    "# 어떻게 특징과 규칙을 찾을까?"
   ]
  },
  {
   "cell_type": "markdown",
   "id": "41f24a29",
   "metadata": {},
   "source": [
    "일반인은 머신러닝과 딥러닝을 \"데이터를 넣기만 하면 알아서 분석되는 것이구나!\"처럼 생각하는 경향이 있다. 하지만 당연하게도 이런 마법은 존재하지 않는다. 머신러닝과 딥러닝은 분석을 위해 내부적으로 일반적인 프로그램과 같은 계산을 사용한다."
   ]
  },
  {
   "cell_type": "markdown",
   "id": "eb1d7b11",
   "metadata": {},
   "source": [
    "앞서 머신러닝을 정의할 때 패턴(특징, 규칙이라고도 한다)을 추출한다고 언급했었는데 이는 어떻게 분석되는 것일까? 간단하게 살펴보자."
   ]
  },
  {
   "cell_type": "markdown",
   "id": "8dab8fef",
   "metadata": {},
   "source": [
    "머신러닝에서는 벡터라는 것이 굉장히 중요하다. 벡터<sup>vector</sup>란 공간에서 방향과 크기를 가진 것을 의미한다."
   ]
  },
  {
   "cell_type": "markdown",
   "id": "1dda4045",
   "metadata": {},
   "source": [
    "일단 간단한 문제를 풀어보자. 다음 그래프에는 o와 x가 많이 그려져 있다. 그런데 내부에 빈 공간이 하나 있는데 과연 이 공간에 o와 x 중 어떤걸 넣는 게 더 적합할까?"
   ]
  },
  {
   "cell_type": "markdown",
   "id": "81e3ddd4",
   "metadata": {},
   "source": [
    "그림 1-5: 빈 공간에는 o와 x 중에 무엇을 넣어야 할까?"
   ]
  },
  {
   "cell_type": "markdown",
   "id": "5e074044",
   "metadata": {},
   "source": [
    "빈 공간에는 직감적으로 x가 들어가야 한다고 생각했을 것이다. 왜 그렇게 생각했을까? 무의식적으로 o와 x가 모여있는 위치 관계를 파악했을 것이다. 이처럼 어떤 요소가 모여있는 것을 \"특징량\"이라고 부른다."
   ]
  },
  {
   "cell_type": "markdown",
   "id": "72ffde9f",
   "metadata": {},
   "source": [
    "이러한 특징량을 기반으로 구분선을 그으면 컴퓨터도 쉽게 판단할 수 있을 것이다. 머신러닝은 이처럼 계산을 통해 구분선을 찾아내는 것이다. 구분선을 찾을 때는 점과 점 사이의 거리를 구하고 이러한 거리가 가까우면 비슷한 데이터라고 판정한다."
   ]
  },
  {
   "cell_type": "markdown",
   "id": "3c90080d",
   "metadata": {},
   "source": [
    "# 애플리케이션 사례"
   ]
  },
  {
   "cell_type": "markdown",
   "id": "5180fd9a",
   "metadata": {},
   "source": [
    "구체적인 머신러닝 작업의 사례와 이를 위한 기술을 함께 살펴보자."
   ]
  },
  {
   "cell_type": "markdown",
   "id": "2421b06d",
   "metadata": {},
   "source": [
    "- 생산 라인에서 제품 이미지를 분석해 자동으로 분류하기: 이미지 분류 작업이다. 일반적으로 합성곱 신경망<sup>convolutional neural network</sup>(CNN)을 사용하여 수행한다.\n",
    "- 뇌를 스캔하여 종양 진단하기: 시맨틱 분할 작업이다. 일반적으로 CNN을 사용해 이미지의 각 픽셀을 분류한다(종양의 정확한 위치와 모양을 결정해야 한다).\n",
    "- 자동으로 뉴스 기사를 분류하기: 자연어 처리<sup>natural language processing</sup>(NLP)작업이다. 더 구체적으로 말하면 텍스트 분류다. 순환 신경망<sup>recurrent neural network</sup>(RNN), CNN, 트랜스포머<sup>Transformer</sup>를 사용해 해결할 수 있다.\n",
    "- 토론 포럼에서 부정적인 코멘트를 자동으로 구분하기: 역시 텍스트 분류 작업이다. NLP 도구를 사용한다.\n",
    "- 긴 문서를 자동으로 요약하기: 텍스트 요약이라 불리는 NLP의 한 분야다. NLP 도구를 사용한다.\n",
    "- 챗봇<sup>chatbot</sup> 또는 개인 비서 만들기: 자연어 이해<sup>natural language understanding</sup>(NLU)와 질문-대답<sup>question-answering</sup> 모듈을 포함해 여러 가지 NLP 컴포넌트가 필요하다.\n",
    "- 다양한 성능 지표를 기반으로 회사의 내년도 수익을 예측하기: 회귀<sup>regression</sup> 작업이다(즉 숫자로 값을 예측한다). 선형 회귀<sup>linear regression</sup>나 다항 회귀<sup>polynomial regression</sup>모델, 회귀 SVM, 회귀 랜덤 포레스트<sup>random forest</sup>, 인공 신경망<sup>artificial neural network</sup>과 같은 회귀 모델을 사용해서 해결할 수 있다. 지난 성능 지표의 시퀀스를 고려한다면 RNN, CNN 또는 트랜스포머를 사용할 수 있다.\n",
    "- 음성 명령에 반응하는 앱을 만들기: 음성 인식 작업이다. 오디오 샘플을 처리해야 한다. 이는 길고 복잡한 시퀀스이므로 일반적으로 RNN, CNN 또는 트랜스포머를 사용한다.\n",
    "- 신용 카드 부정 거래 감지하기: 이상치 탐지 작업이다.\n",
    "- 구매 이력을 기반으로 고객을 나누고 각 집합마다 다른 마케팅 전략을 계획하기: 군집<sup>clustering</sup> 작업이다.\n",
    "- 고차원의 복잡한 데이터셋을 명확하고 의미 있는 그래프로 표현하기: 데이터 시각화 작업이다. 차원 축소<sup>dimensionality reduction</sup> 기법을 많이 사용한다.\n",
    "- 과거 구매 이력을 기반으로 고객이 관심을 가질 수 있는 상품 추천하기: 추천 시스템이다. 과거 구매 이력을 (그리고 고객에 관한 다른 정보를) 인공 신경망에 주입하고 다음에 구매할 가능성이 가장 높은 상품을 출력하는 것이 한 가지 방법이다. 일반적으로 모든 고객의 구매 이력을 기반으로 훈련한다.\n",
    "- 지능형 게임 봇<sup>bot</sup> 만들기: 보통 강화 학습<sup>reinforcement learning</sup>(RL)으로 해결한다. 시간이 지나면 (게임 같은) 주어진 환경에서 보상이 최대가 되는 행동을 (봇과 같은) 에이전트를 훈련하는 머신러닝의 한 분야이다(예를 들어 상대 플레이어가 점수를 잃을 때마다 봇이 보상을 받을 수 있다). 바둑 세계 챔피언을 이긴 유명한 알파고<sup>AlphaGo</sup>가 강화 학습을 사용해 구축되었다."
   ]
  },
  {
   "cell_type": "markdown",
   "id": "2ed14399",
   "metadata": {},
   "source": [
    "이 목록이 전부는 아니지만 머신러닝이 다룰 수 있는 작업의 복잡도와 다양성은 물론 이런 작업에 사용할 수 있는 기술에 대해 감을 얻었기를 바란다."
   ]
  },
  {
   "cell_type": "markdown",
   "id": "296d9b6a",
   "metadata": {},
   "source": [
    "# 머신러닝 시스템의 종류"
   ]
  },
  {
   "cell_type": "markdown",
   "id": "3143bcf2",
   "metadata": {},
   "source": [
    "머신러닝 시스템의 종류는 굉장히 많으므로 넓은 범주에서 분류하면 도움이 된다."
   ]
  },
  {
   "cell_type": "markdown",
   "id": "8a207326",
   "metadata": {},
   "source": [
    "- 사람의 감독하에 훈련하는 것인지 그렇지 않은 것인지(지도, 비지도, 준지도, 강화 학습)\n",
    "- 실시간으로 점진적인 학습을 하는지 아닌지(온라인 학습과 배치 학습)\n",
    "- 단순하게 알고 있는 데이터 포인트와 새 데이터 포인트를 비교하는 것인지 아니면 과학자들이 하는 것처럼 훈련 데이터셋에서 패턴을 발견하여 예측 모델을 만드는지(사례 기반 학습과 모델 기반 학습)"
   ]
  },
  {
   "cell_type": "markdown",
   "id": "9ec9d746",
   "metadata": {},
   "source": [
    "이 범주들은 독립적이며 원하는 대로 연결할 수 있다. 예를 들어 최첨단 스팸 필터가 심층 신경망 모델을 사용해 스팸과 스팸이 아닌 메일에서부터 실시간으로 학습할지도 모른다. 그렇다면 이 시스템은 온라인이고 모델 기반이며 지도 학습 시스템이다."
   ]
  },
  {
   "cell_type": "markdown",
   "id": "8f62e5b9",
   "metadata": {},
   "source": [
    "이 범주들은 조금 더 자세히 들여다보겠다."
   ]
  },
  {
   "cell_type": "markdown",
   "id": "140f6bd0",
   "metadata": {},
   "source": [
    "## 지도 학습과 비지도 학습"
   ]
  },
  {
   "cell_type": "markdown",
   "id": "dab7a4db",
   "metadata": {},
   "source": [
    "머신러닝 시스템을 '학습하는 동안의 감독 형태나 정보량'에 따라 분류할 수 있다. 지도 학습, 비지도 학습, 준지도 학습, 강화 학습 등 네 가지 주요 범주가 있다.\n",
    "\n",
    "<strong>지도 학습</strong>\n",
    "- 레이블된 데이터\n",
    "- 직접 피드백\n",
    "- 출력 및 미래 예측\n",
    "\n",
    "<strong>비지도 학습</strong>\n",
    "- 레이블 및 타깃 없음\n",
    "- 피드백 없음\n",
    "- 데이터에서 숨겨진 구조 찾기\n",
    "\n",
    "<strong>준지도 학습</strong>\n",
    "- 레이블된 데이터와 레이블되지 않은 데이터\n",
    "- 지도 학습과 비지도 학습 알고리즘의 조합\n",
    "\n",
    "<strong>강화 학습</strong>\n",
    "- 결정 과정\n",
    "- 보상 시스템\n",
    "- 연속된 행동에서 학습"
   ]
  },
  {
   "cell_type": "markdown",
   "id": "5183d789",
   "metadata": {},
   "source": [
    "### 지도 학습"
   ]
  },
  {
   "cell_type": "markdown",
   "id": "c980a173",
   "metadata": {},
   "source": [
    "가장 많이 사용되는 머신러닝 알고리즘들은 이미 알려진 사례를 바탕으로 일반화된 모델을 만들어 의사 결정 프로세스를 자동화하는 것들이다. 이 방식을 <strong>지도 학습</strong><sup>supervised learning</sup>이라고 하며 사용자는 알고리즘에 입력과 기대되는 출력을 제공하고 알고리즘은 주어진 입력에서 원하는 출력을 만드는 방법을 찾는다. 이때 주입하는 훈련 데이터에는 <strong>레이블</strong><sup>label</sup>이라는 원하는 답이 포함된다(그림 1-6). 이렇게 학습된 알고리즘은 사람의 도움 없이도 새로운 입력이 주어지면 적절한 출력을 만들 수 있다."
   ]
  },
  {
   "cell_type": "markdown",
   "id": "5cd6a944",
   "metadata": {},
   "source": [
    "입력 데이터로부터 기대한 출력이 나오도록 알고리즘을 가르치는 것이기 때문에 입력과 출력으로부터 학습하는 머신러닝 알고리즘들을 지도 학습 알고리즘이라고 한다. 입력과 출력 데이터를 만드는 것은 종종 수작업을 거쳐야 해서 힘든 일이지만, 지도 학습 알고리즘은 분석하기에 좋고 성능을 측정하기도 쉽다. 만약 여러분의 애플리케이션을 지도 학습 문제로 구성할 수 있고 원하는 출력을 포함한 데이터셋<sup>dataset</sup>을 만들 수 있다면 아마도 머신러닝이 그 문제를 해결할 수 있을 것이다."
   ]
  },
  {
   "cell_type": "markdown",
   "id": "55295ec2",
   "metadata": {},
   "source": [
    "그림 1-6: 스팸 분류를 위한 레이블된 훈련 세트(지도 학습의 예)"
   ]
  },
  {
   "cell_type": "markdown",
   "id": "9ef4bcd1",
   "metadata": {},
   "source": [
    "지도 학습의 종류로는 개별 클래스 레이블이 있는 분류와 연속적인 값을 출력하는 회귀가 있다. 하나씩 살펴보자."
   ]
  },
  {
   "cell_type": "markdown",
   "id": "3d3807c6",
   "metadata": {},
   "source": [
    "#### 분류: 클래스 레이블 예측"
   ]
  },
  {
   "cell_type": "markdown",
   "id": "32e4bb44",
   "metadata": {},
   "source": [
    "<strong>분류</strong><sup>classification</sup>는 지도 학습의 하위 카테고리이다. 과거의 관측을 기반으로 새로운 샘플의 범주형 클래스 레이블을 예측하는 것이 목적이다. 클래스 레이블은 이산적(discrete)이고 순서가 없어 샘플이 속한 그룹으로 이해할 수 있다. 앞서 언급한 스팸 메일 필터는 전형적인 <strong>이진 분류</strong><sup>binary classification</sup> 작업의 예이다. 스팸과 스팸이 아닌 이메일 두 개의 클래스 사이를 구분하려고 머신러닝 알고리즘이 일련의 규칙을 학습한다."
   ]
  },
  {
   "cell_type": "markdown",
   "id": "4757f6fd",
   "metadata": {},
   "source": [
    "또한, 분류하고자 하는 것이 두 개 이상의 클래스 레이블을 가진 경우가 많다. 지도 학습 알고리즘으로 학습한 예측 모델은 훈련 데이터셋에 있는 모든 클래스 레이블을 새로운 샘플에 할당할 수 있다. 이런 <strong>다중 분류</strong><sup>multiclass classification</sup>의 전형적인 예는 손으로 쓴 글자 인식이다. 알파벳 각 글자를 손으로 쓴 이미지 샘플을 모아서 훈련 데이터셋을 구성한다. 새로운 글자를 입력으로 제공하면 예측 모델이 일정한 정확도로 알파벳 글자를 예측할 것이다. 0에서 9까지 숫자가 훈련 데이터셋에 없다면 이 머신러닝 시스템은 숫자를 인식하지 못할 것이다."
   ]
  },
  {
   "cell_type": "markdown",
   "id": "a55c08d1",
   "metadata": {},
   "source": [
    "그림 1-7은 30개의 훈련 샘플이 있는 이진 분류 작업의 개념을 나타낸다. 15개의 샘플은 <strong>음성 클래스</strong><sup>negative class</sup>로 레이블(뺄셈 기호)되어 있고, 다른 15개의 샘플은 <strong>양성 클래스</strong><sup>positive class</sup>로 레이블(덧셈 기호)되어 있다. 각 샘플이 두 개의 x<sub>1</sub>, x<sub>2</sub> 값에 연관되어 있으므로 2차원 데이터셋이다. 지도 학습 알고리즘을 사용하여 두 클래스를 구분할 수 있는 규칙을 학습한다. 이 규칙은 점선으로 나타난 <strong>결정 경계</strong><sup>decision boundary</sup>이다. 새로운 데이터의 x<sub>1</sub>, x<sub>2</sub> 값이 주어지면 이 결정 경계에 기반해서 두 개의 범주 중 하나로 분류한다."
   ]
  },
  {
   "cell_type": "markdown",
   "id": "a953a980",
   "metadata": {},
   "source": [
    "그림 1-7: 두 개의 클래스를 구분하는 결정 경계(p33)"
   ]
  },
  {
   "cell_type": "markdown",
   "id": "24846706",
   "metadata": {},
   "source": [
    "#### 회귀: 연속적인 출력 값 예측"
   ]
  },
  {
   "cell_type": "markdown",
   "id": "0ce787ec",
   "metadata": {},
   "source": [
    "이전 절에서 분류 작업은 범주형 순서가 없는 레이블을 샘플에 할당하는 것이라고 배웠다. 두 번째 지도 학습의 종류는 연속적인 출력 값을 예측하는 <strong>회귀</strong><sup>regression</sup> 분석이다. 회귀는 <strong>예측 변수</strong><sup>predictor variable</sup>(또는 <strong>설명 변수</strong><sup>explanatory variable</sup>, <strong>입력</strong><sup>input</sup>)와 연속적인 <strong>반응 변수</strong><sup>response variable</sup>(또는 <strong>출력</strong><sup>outcome</sup>, <strong>타깃</strong><sup>target</sup>)가 주어졌을 때 출력 값을 예측하는 두 변수 사이의 관계를 찾는다."
   ]
  },
  {
   "cell_type": "markdown",
   "id": "4ac003de",
   "metadata": {},
   "source": [
    "예를 들어 학생들의 수학 SAT 점수를 예측한다고 가정해 보자. 시험 공부에 투자한 시간과 최종 점수 사이에 관계가 있다면 두 값으로 훈련 데이터를 만들고 모델을 학습할 수 있다. 이 모델은 시험에 응시하려는 학생들이 공부한 시간을 이용하여 시험 점수를 예측한다."
   ]
  },
  {
   "cell_type": "markdown",
   "id": "ce4898bf",
   "metadata": {},
   "source": [
    "그림 1-8은 <strong>선형 회귀</strong><sup>linear regression</sup>의 개념을 나타낸다. 입력 x와 타깃 y가 주어지면 샘플과 직선 사이 거리가 최소가 되는 직선을 그을 수 있다. 일반적으로 평균 제곱 거리를 사용한다. 이렇게 데이터에서 학습한 직선의 기울기와 절편<sup>intercept</sup>을 사용하여 새로운 데이터의 출력값을 예측한다."
   ]
  },
  {
   "cell_type": "markdown",
   "id": "02f18359",
   "metadata": {},
   "source": [
    "그림 1-8: 선형 회귀의 예(p34)"
   ]
  },
  {
   "cell_type": "markdown",
   "id": "7de9b4c0",
   "metadata": {},
   "source": [
    "<strong>NOTE_</strong> 머신러닝에서 <strong>속성</strong><sup>attribute</sup>은 데이터 타입(예를 들면 주행거리)을 말한다. <strong>특성</strong>은 문맥에 따라 여러 의미를 갖지만 일반적으로 속성과 값이 합쳐진 것을 의미한다(예를 들면 주행거리=15,000). 하지만 많은 사람이 <strong>속성</strong>과 <strong>특성</strong>을 구분하지 않고 사용한다."
   ]
  },
  {
   "cell_type": "markdown",
   "id": "803cc569",
   "metadata": {},
   "source": [
    "한편 일부 회귀 알고리즘은 분류에 사용할 수도 있고, 반대로 일부 분류 알고리즘을 회귀에 사용할 수도 있다. 예를 들어 분류에 널리 쓰이는 <strong>로지스틱 회귀</strong>는 클래스에 속할 확률을 출력한다(예를 들면 스팸일 가능성 20%)."
   ]
  },
  {
   "cell_type": "markdown",
   "id": "2f224a20",
   "metadata": {},
   "source": [
    "다음은 가장 중요한 지도 학습 알고리즘들이다.\n",
    "- k-최근접 이웃<sup>k-nearest neighbors</sup>\n",
    "- 선형 회귀<sup>linear regression</sup>\n",
    "- 로지스틱 회귀<sup>logistic regression</sup>\n",
    "- 서포트 벡터 머신<sup>support vector machine</sup>(SVM)\n",
    "- 결정 트리<sup>decision tree</sup>와 랜덤 포레스트<sup>random forest</sup>\n",
    "- 신경망<sup>neural networks</sup>"
   ]
  },
  {
   "cell_type": "markdown",
   "id": "86a40479",
   "metadata": {},
   "source": [
    "지도 학습의 예는 다음과 같다."
   ]
  },
  {
   "cell_type": "markdown",
   "id": "51454503",
   "metadata": {},
   "source": [
    "<strong>1. 편지 봉투에 손으로 쓴 우편번호 숫자 판별</strong><br>\n",
    "여기서 입력은 손글씨를 스캔한 이미지이고 기대하는 출력은 우편번호 숫자다. 머신러닝 모델 구축에 쓸 데이터셋을 만들려면 많은 편지 봉투를 모아야 한다. 그리고 우편번호를 눈으로 확인해서 원하는 출력 값을 기록해놓아야 한다.<br><br>\n",
    "\n",
    "<strong>2. 의료 영상 이미지에 기반한 종양 판단</strong><br>\n",
    "이 경우 입력은 이미지이고 출력은 종양이 양성인지의 여부다. 모델 구축에 사용할 데이터셋을 만들려면 의료 영상 데이터베이스와 전문가의 의견이 필요하다. 다시 말해 의사가 이미지를 모두 확인해서 종양이 양성인지, 아니면 악성인지 판단을 내려야 한다. 경우에 따라서는 종양이 암인지를 확인하기 위해 이미지 확인 외의 추가 분석을 해야 할 수도 있다.<br><br>\n",
    "\n",
    "<strong>3. 의심되는 신용카드 거래 감지</strong><br>\n",
    "여기서는 신용카드 거래 내역이 입력이 되고 부정 거래인지의 여부가 출력이 된다. 신용카드 회사라면 모든 거래 내역을 저장하고 고객이 잘못된 거래라고 신고한 내역을 기록해서 데이터셋을 만들 수 있다."
   ]
  },
  {
   "cell_type": "markdown",
   "id": "b7a26593",
   "metadata": {},
   "source": [
    "이런 사례들에서 주목할 점은 입력과 출력이 상당히 직관적으로 보이지만, 데이터를 모으는 과정은 세 경우가 많이 다르다는 것이다. 편지 봉투를 읽는 것은 손이 많이 가는 일이지만, 쉽고 비용이 적게 든다. 반면에 의료 영상 이미지를 얻거나 분석하려면 도덕적 이슈나 개인정보 보호를 차치하더라도 고가의 장비가 필요하고 보수가 높고 흔치 않은 전문가의 의견을 구해야 한다. 신용카드 사기 탐지의 예에서는 데이터 수집이 매우 간단하다. 고객이 사기 거래라고 보고할 것이니 필요한 출력 데이터를 고객이 제공하는 셈이다. 즉, 사기 거래와 일반 거래의 입력과 출력을 얻기 위해서는 기다리기만 하면 된다."
   ]
  },
  {
   "cell_type": "markdown",
   "id": "07131636",
   "metadata": {},
   "source": [
    "### 비지도 학습"
   ]
  },
  {
   "cell_type": "markdown",
   "id": "11a790e3",
   "metadata": {},
   "source": [
    "<strong>비지도 학습</strong><sup>unsupervised learning</sup>에서는 말 그대로 레이블되지 않거나 구조를 알 수 없는 데이터를 다룬다. 비지도 학습 기법을 사용하면 알려진 출력 값의 도움을 받지 않고 의미 있는 정보를 추출하기 위해 데이터 구조를 탐색할 수 있다.(그림 1-9). 즉, 시스템이 아무런 도움 없이 학습해야 한다. 이 알고리즘의 성공 사례는 많지만 비지도 학습을 이해하거나 평가하는 일은 쉽지 않다."
   ]
  },
  {
   "cell_type": "markdown",
   "id": "b0f33519",
   "metadata": {},
   "source": [
    "그림 1-9: 비지도 학습에서 레이블 없는 훈련 세트"
   ]
  },
  {
   "cell_type": "markdown",
   "id": "9f368330",
   "metadata": {},
   "source": [
    "#### 군집: 서브그룹 찾기"
   ]
  },
  {
   "cell_type": "markdown",
   "id": "9d0bb147",
   "metadata": {},
   "source": [
    "<strong>군집</strong><sup>clustering</sup>은 사전 정보 없이 쌓여 있는 그룹 정보를 의미 있는 서브그룹<sup>subgroup</sup> 또는 <strong>클러스터</strong><sup>cluster</sup>로 조직하는 탐색적 데이터 분석 기법이다. 분석 과정에서 만든 각 클러스터 내에서는 어느정도 유사성을 공유하고 다른 클러스터와는 비슷하지 않은 샘플 그룹을 형성한다. 이따금 군집을 <strong>비지도 분류</strong><sup>unsupervised classification</sup>라고 하는 이유가 여기 있다. 클러스터링은 정보를 조직화하고 데이터에서 의미 있는 관계를 유도하는 훌륭한 도구다."
   ]
  },
  {
   "cell_type": "markdown",
   "id": "a2b94c7e",
   "metadata": {},
   "source": [
    "예를 들어 블로그 방문자에 대한 데이터가 많이 있다고 하자. 비슷한 방문자들을 그룹으로 묶기 위해 군집 알고리즘을 적용하려 한다(그림 1-10). 하지만 방문자가 어떤 그룹에 속하는지 알고리즘에 알려줄 수 있는 데이터 포인트가 없다. 그래서 알고리즘이 스스로 방문자 사이의 연결고리를 찾는다. 예를 들어 40%의 방문자가 만화책을 좋아하며 저녁 때 블로그 글을 읽는 남성이고, 20%는 주말에 방문하는 SF를 좋아하는 젊은 사람임을 알게 될지도 모른다. <strong>계층 군집</strong><sup>hierarchical clustering</sup> 알고리즘을 사용하면 각 그룹을 더 작은 그룹으로 세분화할 수 있다. 그러면 각 그룹에 맞춰 블로그에 글을 쓰는 데 도움이 될 것이다."
   ]
  },
  {
   "cell_type": "markdown",
   "id": "ea92680d",
   "metadata": {},
   "source": [
    "그림 1-10: 군집"
   ]
  },
  {
   "cell_type": "markdown",
   "id": "275bc32e",
   "metadata": {},
   "source": [
    "#### 차원 축소: 데이터 압축"
   ]
  },
  {
   "cell_type": "markdown",
   "id": "39b3c0a7",
   "metadata": {},
   "source": [
    "비슷한 작업으로는 너무 많은 정보를 잃지 않으면서 데이터를 간소화하려는 <strong>차원 축소</strong><sup>dimensionality reduction</sup>가 있다. 고차원의 데이터를 다루어야 하는 경우는 흔하다. 즉, 하나의 관측 샘플에 많은 측정 지표가 있다. 이로 인해 머신러닝 알고리즘의 계산 성능과 저장 공간의 한계에 맞닥뜨릴 수 있다. 비지도 차원 축소는 잡음<sup>noise</sup> 데이터를 제거하기 위해 특성 전처리 단계에서 종종 적용하는 방법이다. 이런 잡음 데이터는 특정 알고리즘의 예측 성능을 감소시킬 수 있다. 차원 축소는 관련 있는 정보를 대부분 유지하면서 더 작은 차원의 부분 공간<sup>subspace</sup>[^2]으로 데이터를 압축한다. \n",
    "\n",
    "[^2]: 머신러닝에서는 입력 데이터의 특성을 하나의 축으로 생각하여 벡터 공간이란 표현이 자주 등장한다. 특성을 줄여 차원이 낮아진 데이터는 부분 공간이라고 표현한다."
   ]
  },
  {
   "cell_type": "markdown",
   "id": "51267b06",
   "metadata": {},
   "source": [
    "이렇게 하는 한 가지 방법은 상관관계가 있는 여러 특성을 하나로 합치는 것이다. 예를 들어 차의 주행거리는 연식과 강하게 연관되어 있으므로 차원 축소 알고리즘으로 두 특성을 차의 마모 정도를 나타내는 하나의 특성으로 합칠 수 있다. 이를 <strong>특성 추출</strong><sup>feature extraction</sup>이라고 한다."
   ]
  },
  {
   "cell_type": "markdown",
   "id": "b66b957a",
   "metadata": {},
   "source": [
    "<strong>시각화</strong><sup>visualization</sup> 알고리즘도 비지도 학습 알고리즘의 좋은 예이다. 레이블이 없는 대규모의 고차원 특성을 1차원, 2차원 또는 3차원 특성 공간으로 투영하여 도식화가 가능한 3D나 2D 산점도<sup>scatterplot</sup>나 히스토그램<sup>histogram</sup>으로 시각화한다(그림 1-11). 이런 알고리즘은 가능한 한 구조를 그대로 유지하려 하므로(예를 들어 입력 공간에서 떨어져 있던 클러스터는 시각화된 그래프에서 겹쳐지지 않게 유지된다) 데이터가 어떻게 조직되어 있는지 이해할 수 있고 예상하지 못한 패턴을 발견할 수도 있다."
   ]
  },
  {
   "cell_type": "markdown",
   "id": "4a2fc238",
   "metadata": {},
   "source": [
    "그림 1-11: 의미 있는 군집을 강조한 t-SNE 시각화의 예"
   ]
  },
  {
   "cell_type": "markdown",
   "id": "c0ad39b7",
   "metadata": {},
   "source": [
    "<strong>TIP</strong> (지도 학습 알고리즘 같은) 머신러닝 알고리즘에 데이터를 주입하기 전에 차원 축소 알고리즘을 사용하여 훈련 데이터의 차원을 줄이는 것이 유용할 때가 많다. 실행 속도가 훨씬 빨라지고 디스크와 메모리를 차지하는 공간도 줄고 경우에 따라 성능이 좋아지기도 한다."
   ]
  },
  {
   "cell_type": "markdown",
   "id": "8ae5fb6a",
   "metadata": {},
   "source": [
    "#### 이상치와 특이치 탐지"
   ]
  },
  {
   "cell_type": "markdown",
   "id": "17bcbbaf",
   "metadata": {},
   "source": [
    "또 하나의 중요한 비지도 학습은 <strong>이상치 탐지</strong><sup>outlier detection</sup>이다. 예를 들어 부정 거래를 막기 위해 이상한 신용카드 거래를 감지하고, 제조 결함을 잡아내고, 학습 알고리즘에 주입하기 전에 데이터셋에서 이상한 값을 자동으로 제거하는 것 등이다. 시스템은 훈련하는 동안 대부분 정상 샘플을 만나 이를 인식하도록 훈련된다. 그다음 새로운 샘플을 보고 정상 데이터인지 혹은 이상치인지 판단한다(그림 1-12). 매우 비슷한 작업으로 <strong>특이치 탐지</strong><sup>novelty detection</sup>가 있다. 훈련 세트에 있는 모든 샘플과 달라 보이는 새로운 샘플을 탐지하는 것이 목적이다. 알고리즘으로 감지하고 싶은 모든 샘플을 제거한 매우 '깨끗한' 훈련 세트가 필요하다. 예를 들어 강아지 사진 수천 장이 있고 그중에 1%가 치와와 사진이라면 특이치 탐지 알고리즘이 치와와 사진을 새로운 특이한 것으로 처리하지 못한다. 반면 이상치 탐지 알고리즘은 이 강아지 사진을 매우 드물고 다른 강아지와 다르다고 인식하여 이상치로 분류할 것이다."
   ]
  },
  {
   "cell_type": "markdown",
   "id": "a8504877",
   "metadata": {},
   "source": [
    "그림 1-12: 이상치 탐지"
   ]
  },
  {
   "cell_type": "markdown",
   "id": "d41f9a46",
   "metadata": {},
   "source": [
    "#### 연관 규칙 학습"
   ]
  },
  {
   "cell_type": "markdown",
   "id": "a1c6e5c2",
   "metadata": {},
   "source": [
    "널리 사용되는 또 다른 비지도 학습은 대량의 데이터에서 특성 간의 흥미로운 관계를 찾는 <strong>연관 규칙 학습</strong><sup>association rule learning</sup>이다. 예를 들어 여러분이 슈퍼마켓을 운영한다고 가정했을 때 판매 기록에 연관 규칙을 적용하면 바비큐 소스와 감자를 구매한 사람이 스테이크도 구매하는 경향이 있다는 것을 찾을지도 모른다. 그렇다면 아마 이 상품들을 서로 가까이 진열하고 싶을 것이다."
   ]
  },
  {
   "cell_type": "markdown",
   "id": "b4795fea",
   "metadata": {},
   "source": [
    "다음은 가장 중요한 비지도 학습 알고리즘이다."
   ]
  },
  {
   "cell_type": "markdown",
   "id": "71c4ab8f",
   "metadata": {},
   "source": [
    "<ul>\n",
    "    <li>군집<sup>clustering</sup></li>\n",
    "        <ul>\n",
    "            <li>k-평균<sup>k-means</sup></li>\n",
    "            <li>DBSCAN</li>\n",
    "            <li>계층 군집 분석<sup>hierarchical cluster analysis</sup>(HCA)</li>\n",
    "            <li>이상치 탐지<sup>outlier detection</sup>와 특이치 탐지<sup>novelty detection</sup></li>\n",
    "            <li>원-클래스<sup>one-class SVM</sup></li>\n",
    "            <li>아이솔레이션 포레스트<sup>isolation forest</sup></li>\n",
    "        </ul>\n",
    "    <li>시각화<sup>visualization</sup>와 차원 축소<sup>dimensionality reduction</sup></li>\n",
    "        <ul>\n",
    "            <li>주성분 분석<sup>principal component analysis</sup>(PCA)</li>\n",
    "            <li>커널<sup>kernel</sup>PCA</li>\n",
    "            <li>지역적 선형 임베딩<sup>locally-linear embedding</sup>(LLE)</li>\n",
    "            <li>t-SNE<sup>t-distributed stochastic neighbor embedding</sup></li>\n",
    "        </ul>\n",
    "    <li>연관 규칙 학습<sup>association rule learning</sup></li>\n",
    "        <ul>\n",
    "            <li>어프라이어리<sup>Apriori</sup></li>\n",
    "            <li>이클렛<sup>Eclat</sup></li>\n",
    "        </ul>\n",
    "</ul>"
   ]
  },
  {
   "cell_type": "markdown",
   "id": "4d2cf697",
   "metadata": {},
   "source": [
    "비지도 학습의 예는 다음과 같다."
   ]
  },
  {
   "cell_type": "markdown",
   "id": "4f1dfeb4",
   "metadata": {},
   "source": [
    "<strong>1. 블로그 글의 주제 구분</strong><br>\n",
    "많은 양의 텍스트 데이터를 요약하고 그 안에 담긴 핵심 주제를 찾고자 할 수 있다. 사전에 어떤 주제인지 알지 못하고 얼마나 많은 주제가 있는지도 모른다. 그러므로 출력 값을 준비할 수 없다.<br><br>\n",
    "\n",
    "<strong>2. 고객들을 취향이 비슷한 그룹으로 묶기</strong><br>\n",
    "고객 데이터를 이용해서 어떤 고객들의 취향이 비슷한지 알고 싶거나 비슷한 취향의 고객을 그룹으로 묶고 싶을 것이다. 쇼핑 사이트라면 부모, 독서광, 게이머 같은 그룹이 있을 수 있다. 어떤 그룹이 있는지 미리 알 수 없고 얼마나 많은 그룹이 있는지도 모르니 출력을 가지고 있지 않은 셈이다.<br><br>\n",
    "\n",
    "<strong>3. 비정상적인 웹사이트 접근 탐지</strong><br>\n",
    "일상적이지 않은 접근 패턴을 찾으면 부정행위나 버그를 구별하는 데 도움이 된다. 각각의 비정상 패턴은 서로 많이 다를 수 있고 이미 가지고 있는 비정상 데이터도 없을 수 있다. 이 경우 단지 웹 트래픽만 관찰할 수 있고 어떤 것이 정상이고 비정상인지 알지 못하므로 비지도 학습 문제다."
   ]
  },
  {
   "cell_type": "markdown",
   "id": "d78436de",
   "metadata": {},
   "source": [
    "## 준지도 학습"
   ]
  },
  {
   "cell_type": "markdown",
   "id": "bf5fc0f5",
   "metadata": {},
   "source": [
    "데이터에 레이블을 다는 것은 일반적으로 시간과 비용이 많이 들기 때문에 레이블이 없는 샘플이 많고 레이블된 샘플은 적은 경우가 많다. 어떤 알고리즘은 레이블이 일부만 있는 데이터를 다룰 수 있다. 이를 <strong>준지도 학습</strong><sup>semisupervised learning</sup>이라고 한다(그림 1-13)."
   ]
  },
  {
   "cell_type": "markdown",
   "id": "ee89368c",
   "metadata": {},
   "source": [
    "구글 포토 호스팅 서비스가 좋은 예다. 이 서비스에 가족사진을 모두 올리면 사람 A는 사진 1, 5, 11에 있고, 사람 B는 사진 2, 5, 7에 있다고 자동으로 인식한다. 이는 비지도 학습(군집)이다. 이제 시스템에 필요한 것은 이 사람들이 누구인가 하는 정보이다. 사람마다 레이블을 하나만 추가하면[^3] 사진에 있는 모든 사람의 이름을 알 수 있고, 편리하게 사진을 찾을 수 있다.\n",
    "\n",
    "[^3]: 이는 시스템이 완벽했을 때이다. 실제로는 사람마다 여러 개의 군집이 만들어지고 때로는 비슷한 외모의 두 사람이 섞이기도 한다. 그래서 사람마다 여러 번 레이블을 부여하고 어떤 군집은 수동으로 정리해야 한다."
   ]
  },
  {
   "cell_type": "markdown",
   "id": "cfbcdf9f",
   "metadata": {},
   "source": [
    "대부분의 준지도 학습 알고리즘은 지도 학습과 비지도 학습의 조합으로 이루어져 있다. 예를 들어 <strong>심층 신뢰 신경망</strong><sup>deep belief network</sup>(DBN)은 여러 겹으로 쌓은 <strong>제한된 볼츠만 머신</strong><sup>restricted Boltzmann machine</sup>(RBM)이라 불리는 비지도 학습에 기초한다. RBM이 비지도 학습 방식으로 순차적으로 훈련된 다음 전체 시스템이 지도 학습 방식으로 세밀하게 조정된다."
   ]
  },
  {
   "cell_type": "markdown",
   "id": "f8082055",
   "metadata": {},
   "source": [
    "그림 1-13: 두 개의 클래스(삼각형과 사각형)를 사용한 준지도 학습: 새로운 샘플(곱셈 기호)이 레이블이 있는 사각형 클래스에 더 가깝지만 레이블이 없는 샘플(원)이 이 샘플을 삼각형 클래스로 분류하는 데 도움을 준다."
   ]
  },
  {
   "cell_type": "markdown",
   "id": "20c337d0",
   "metadata": {},
   "source": [
    "## 강화 학습"
   ]
  },
  {
   "cell_type": "markdown",
   "id": "50c1e0e4",
   "metadata": {},
   "source": [
    "<strong>강화 학습</strong><sup>reinforcement learning</sup>은 매우 다른 종류의 알고리즘이다. 여기서는 학습하는 시스템을 <strong>에이전트</strong>라고 부르며 환경<sup>environment</sup>을 관찰해서 행동<sup>action</sup>을 실행하고 그 결과로 <strong>보상</strong><sup>reward</sup>(또는 [그림 1-14]처럼 부정적인 보상에 해당하는 <strong>벌점</strong><sup>penalty</sup>)을 받는다. 강화 학습의 이런 피드백은 정답 레이블이나 값이 아니다. 보상 함수로 얼마나 행동이 좋은지를 측정한 값이다. 시간이 지나면서 에이전트는 환경과 상호 작용하여 가장 큰 보상을 얻기 위해 <strong>정책</strong><sup>policy</sup>이라고 부르는 최상의 전략을 스스로 학습한다. 탐험적인 시행착오<sup>trial and error</sup> 방식이나 신중하게 새운 계획을 사용한다. 이렇게 학습한 정책은 주어진 상황에서 에이전트가 어떤 행동을 선택해야 할지 정의한다."
   ]
  },
  {
   "cell_type": "markdown",
   "id": "f128c29c",
   "metadata": {},
   "source": [
    "그림 1-14: 강화 학습"
   ]
  },
  {
   "cell_type": "markdown",
   "id": "e6b311b6",
   "metadata": {},
   "source": [
    "에이전트를 \"고양이\", 환경을 \"자동으로 먹이 주는 기계\"로 예를 들어보자. \"고양이\"는 \"자동으로 사료 주는 기계\"에서 사료 냄새가 난다는 것을 발견한다. 따라서 내부에 사료가 있다는 것은 알지만 어떻게 해야 사료를 먹을 수 있는지는 모른다. 그래서 고양이는 기계 주변을 배회하고, 몸으로 비비고, 손으로 쳐보기도 한다. 그렇게 여러 가지 행동을 하다 보니 스위치가 눌려 사료가 조금 나온다. 고양이는 행동에 의해 사료라는 보상을 얻게 된 것이다. 고양이는 어떤 상황에 사료가 나오는지 계속 반복해서 테스트해보고, 최종적으로 붉은색 버튼을 눌렀을 때 사료가 나온다는 것을 깨닫게 된다. 붉은색 버튼을 누르면 먹이가 나오는 것을 학습한 것이다. 이후에는 배가 고플 때마다 버튼을 눌러 먹이를 먹을 수 있을 것이다. 고양이가 최선의 행동을 스스로 학습한 것이다. 이러한 것을 컴퓨터로 구현하는 것이 강화 학습이다."
   ]
  },
  {
   "cell_type": "markdown",
   "id": "33d60a34",
   "metadata": {},
   "source": [
    "강화 학습에는 여러 하위 분류가 있다. 일반적인 구조는 강화 학습 에이전트가 환경과 상호 작용하여 보상을 최대화하는 것이다. 각 상태는 양의 보상이나 음의 보상과 연관된다. 보상은 체스 게임의 승리나 패배처럼 전체 목표를 달성하는 것으로 정의할 수 있다. 예를 들어 체스에서 기물의 이동으로 나타난 결과는 각기 다른 환경 상태로 생각할 수 있다. 체스판의 특정 위치에 도달하는 것이 긍정적인 이벤트와 연관될 수 있다. 예를 들어 상대 체스 기물을 잡거나 퀸을 위협하는 것이다. 반면 어떤 위치는 부정적인 이벤트와 연관된다. 예를 들어 다음 차례에 상대에게 기물을 잃게 되는 경우다. 매번 차례가 돌아올 때마다 체스 기물을 잃지는 않는다. 강화 학습은 즉시 또는 지연된 피드백을 기초로 하여 보상을 최대화하는 일련의 단계를 학습한다."
   ]
  }
 ],
 "metadata": {
  "kernelspec": {
   "display_name": "myenv",
   "language": "python",
   "name": "myenv"
  },
  "language_info": {
   "codemirror_mode": {
    "name": "ipython",
    "version": 3
   },
   "file_extension": ".py",
   "mimetype": "text/x-python",
   "name": "python",
   "nbconvert_exporter": "python",
   "pygments_lexer": "ipython3",
   "version": "3.8.13"
  },
  "toc": {
   "base_numbering": 1,
   "nav_menu": {},
   "number_sections": true,
   "sideBar": true,
   "skip_h1_title": false,
   "title_cell": "Table of Contents",
   "title_sidebar": "Contents",
   "toc_cell": false,
   "toc_position": {},
   "toc_section_display": true,
   "toc_window_display": false
  }
 },
 "nbformat": 4,
 "nbformat_minor": 5
}
