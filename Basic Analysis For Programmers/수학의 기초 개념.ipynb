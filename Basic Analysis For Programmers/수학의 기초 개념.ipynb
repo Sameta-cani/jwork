{
 "cells": [
  {
   "cell_type": "markdown",
   "metadata": {},
   "source": [
    "# 1 수학의 기초 개념"
   ]
  },
  {
   "cell_type": "markdown",
   "metadata": {},
   "source": [
    "## 1.1 집합과 사상"
   ]
  },
  {
   "cell_type": "markdown",
   "metadata": {},
   "source": [
    "### 1.1.1 집합이란?"
   ]
  },
  {
   "cell_type": "markdown",
   "metadata": {},
   "source": [
    "수학에서는 '사물의 모임'을 고려하는 것이 모든 것의 출발점이다. 예를 들면, 모든 사람들이 잘 아는 자연수는 다음과 같이 양(+)의 정수를 모아 놓은 것이다."
   ]
  },
  {
   "cell_type": "markdown",
   "metadata": {},
   "source": [
    "$$\n",
    "\\textbf{N} = \\{1,\\ 2,\\ 3,\\ \\cdots\\}\n",
    "$$"
   ]
  },
  {
   "cell_type": "markdown",
   "metadata": {},
   "source": [
    "이와 같이 사물을 모아 놓은 것을 **집합**이라고 부른다. 집합에 포함되는 각각의 사물을 **원소**라고 한다. 집합을 나타낼 때는 일반적으로 각각의 원소를 { }로 묶어서 나열한다. 위에 나온 $\\textbf{N}$은 자연수의 집합을 나타낼 때 사용하는 기호다. 물론 숫자를 모아 놓은 것만 집합이라고 부르는 것은 아니다. '사과 열 개를 모아 놓은 집합'도 수학에서 다룰 수 있는 훌륭한 집합이다. 수학적으로 표현하면 다음과 같다. $A$는 이 집합에 붙여진 이름이다."
   ]
  },
  {
   "cell_type": "markdown",
   "metadata": {},
   "source": [
    "$$\n",
    "A = \\{사과1,\\ 사과2,\\ \\cdots,\\ 사과10 \\}\n",
    "$$"
   ]
  },
  {
   "cell_type": "markdown",
   "metadata": {},
   "source": [
    "그러면 자연수의 집합 $\\textbf{N}$과 사과의 집합 $A$에는 어떤 차이가 있을까? 집합에 포함되는 원소의 개수도 물론 다르지만, 그것보다 더 큰 차이는 자연수는 대소 관계에 의해 각각의 원소의 순서가 매겨져 있다는 점이다. 이와 같이 대소 관계로 일렬로 배열할 수 있는 집합을 **순서집합**이라고 부른다. 물론 사과에도 무언가 대소 관계를 정의해 일렬로 늘어놓을 수 있지만, 크기로 판단할지 무게로 판단할지 대소 관계의 판단 기준에 임의성이 있다."
   ]
  },
  {
   "cell_type": "markdown",
   "metadata": {},
   "source": [
    "일반적으로 수학에서 집합이라고 하면 대소 관계와 순서 매기기가 특별히 정해지지 않았다고 생각하면 된다. 자연수와 같이 순서 관계가 잘 알려져 있는 것은 당연히 순서집합으로 다루지만, 순수한 사물을 모아 놓은 집합을 다루는 경우에는 순서집합과 같이 추가 구조를 포함해 고려하는 경우와 명확하게 구별하는 것이 중요하다."
   ]
  },
  {
   "cell_type": "markdown",
   "metadata": {},
   "source": [
    "일반적으로 집합을 표현할 때는 알파벳 대문자 $A,\\ B,\\ C$ 등을 사용한다. 또한, 자연수와 정수 등 대표적인 숫자의 집합은 다음 기호들을 사용한다."
   ]
  },
  {
   "cell_type": "markdown",
   "metadata": {},
   "source": [
    "- 자연수: $\\textbf{N} = \\{1,\\ 2,\\ 3,\\ \\cdots\\}$\n",
    "- 정수: $\\textbf{Z} = \\{0,\\ \\pm1,\\ \\pm2,\\ \\cdots\\}$\n",
    "- 유리수: $\\textbf{Q}$\n",
    "- 실수: $\\textbf{R}$"
   ]
  },
  {
   "cell_type": "markdown",
   "metadata": {},
   "source": [
    "이 기호들은 위에서부터 순서대로 Natural Number, Zahlen(독일어로 '수'를 의미한다), Quotient(영어로 나눗셈의 몫을 의미한다), Real Number의 첫머리에 오는 문자를 취한 것이다. 이때 자연수 $\\textbf{N}$은 정수 $\\textbf{Z}$에 포함되며, 더 나아가 정수 $\\textbf{Z}$는 유리수 $\\textbf{Q}$에 포함되는 등 포함 관계가 성립되는 것을 알 수 있다. 이와 같은 포함 관계는 다음 기호로 표시한다."
   ]
  },
  {
   "cell_type": "markdown",
   "metadata": {},
   "source": [
    "$$\n",
    "\\textbf{N} \\subset \\textbf{Z} \\subset \\textbf{Q} \\subset \\textbf{R}\n",
    "$$"
   ]
  },
  {
   "cell_type": "markdown",
   "metadata": {},
   "source": [
    "또 어떤 원소 $x$가 집합 $A$에 포함되는 것을 다음과 같이 표시한다."
   ]
  },
  {
   "cell_type": "markdown",
   "metadata": {},
   "source": [
    "$$\n",
    "x \\in A\n",
    "$$"
   ]
  },
  {
   "cell_type": "markdown",
   "metadata": {},
   "source": [
    "$\\in$은 Element(원소)의 'E'에서 만들어진 기호다. 이와 반대로 원소 $x$가 집합 $A$에 포함되지 않는 경우는 다음과 같이 표시한다."
   ]
  },
  {
   "cell_type": "markdown",
   "metadata": {},
   "source": [
    "$$\n",
    "x \\notin A\n",
    "$$"
   ]
  },
  {
   "cell_type": "markdown",
   "metadata": {},
   "source": [
    "또한, 집합을 표시할 때 단순히 집합의 원소를 늘어놓지 않고도 원소가 만족하는 모든 조건을 표시할 수 있다('내포 표현을 읽는 방법' Note 참조). 예를 들어 다음은 자연수 $\\textbf{N}$의 원소 중에서 2로 나눈 나머지가 0인 수를 모아 놓은 집합, 즉 짝수의 집합을 표시한다."
   ]
  },
  {
   "cell_type": "markdown",
   "metadata": {},
   "source": [
    "\\begin{equation}\n",
    "    \\textbf{N}_0 = \\{n\\ |\\ n \\in \\textbf{N},\\ n\\%2 = 0\\} \\tag{1-1}\n",
    "\\end{equation}"
   ]
  },
  {
   "cell_type": "markdown",
   "metadata": {},
   "source": [
    "여기서 $n\\ \\%\\ 2$는 자연수 $n$을 2로 나눈 나머지를 표현하는 기호다. 마찬가지로 홀수의 집합은 다음과 같이 표현할 수 있다."
   ]
  },
  {
   "cell_type": "markdown",
   "metadata": {},
   "source": [
    "$$\n",
    "\\textbf{N}_1 = \\{n\\ |\\ n \\in \\textbf{N},\\ n\\%2 = 1\\}\n",
    "$$"
   ]
  },
  {
   "cell_type": "markdown",
   "metadata": {},
   "source": [
    "또는 짝수, 홀수의 집합을 다음과 같이 표현할 수도 있다."
   ]
  },
  {
   "cell_type": "markdown",
   "metadata": {},
   "source": [
    "\\begin{align}\n",
    "  \\begin{split}\n",
    "\t  \\textbf{N}_0 &= \\{2n\\ |\\ n \\in \\textbf{N}\\}\\\\\n",
    "    \\textbf{N}_1 &= \\{2n - 1\\ |\\ n \\in \\textbf{N}\\}\n",
    "  \\end{split}\\tag{1-2}\n",
    "\\end{align}"
   ]
  },
  {
   "cell_type": "markdown",
   "metadata": {},
   "source": [
    "이와 같이 집합 요소가 만족시켜야 하는 성질을 표시하는 것으로 집합을 정의하는 방법을 **내포적 정의**라고 하며, 처음에 나온 사과의 예와 같이 집합에 포함된 원소를 그냥 나열해 정의하는 방법을 **외연적 정의**라고 한다. 여기서 나중에 사용할 0 이상인 실수의 집합을 $\\textbf{R}_+$를 다음과 같이 정의하겠다. 이것도 내포적 정의의 예다."
   ]
  },
  {
   "cell_type": "markdown",
   "metadata": {},
   "source": [
    "$$\n",
    "\\textbf{R}_+ = \\{x\\ |\\ x \\in \\textbf{R},\\ x \\geq 0\\}\n",
    "$$"
   ]
  }
 ],
 "metadata": {
  "language_info": {
   "name": "python"
  },
  "orig_nbformat": 4
 },
 "nbformat": 4,
 "nbformat_minor": 2
}
