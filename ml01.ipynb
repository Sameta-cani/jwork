{
 "cells": [
  {
   "cell_type": "markdown",
   "id": "0b5a39a3",
   "metadata": {},
   "source": [
    "대부분 사람들은 '머신러닝<sup>machine learning</sup>'이란 말을 들으면 로봇을 떠올린다. 누구에게 묻는지에 따라 믿음직한 집사 로봇이나 살인 병기 터미네이터를 생각할 것이다. 하지만 머신러닝은 초현실 판타지가 아니고 이미 우리 주위에 있다. 사실 <strong>광학 문자 판독기</strong><sup>optical character recognition</sup>(OCR) 같은 특별한 몇 가지 애플리케이션이 수십 년 동안 사용되어왔다. 수억 명의 생활을 편리하게 만들어 주류가 된 첫 번째 머신러닝 애플리케이션은 1990년대에 시작되었다. 바로 <strong>스팸 필터</strong><sup>spam filter</sup>이다. 스스로 생각하는 스카이넷<sup>Skynet</sup> 정도는 아니지만 기술적으로 머신러닝이라 할 수 있다(실제로 잘 학습되어 있어서 더는 이메일에 스팸이라고 표시할 일이 거의 없다). 이후 추천과 음성 검색으로 발전했으며, 매일 사용하는 많은 제품과 기능을 소리 없이 향상시킨 수백 개의 머신러닝 애플리케이션이 나왔다."
   ]
  },
  {
   "cell_type": "markdown",
   "id": "6f0809cc",
   "metadata": {},
   "source": [
    "이러한 상업적인 애플리케이션 이외에도 머신러닝은 오늘날 데이터에 기반한 연구에 커다란 영향을 끼쳐 왔다. 예를 들어 별을 탐구하고 새로운 행성을 찾거나 새로운 미립자를 발견하고 DNA 서열을 분석하며 또 맞춤형 암 치료법을 만드는 일과 같은 다양한 과학 분야에 적용되어 왔다."
   ]
  },
  {
   "cell_type": "markdown",
   "id": "f25c1847",
   "metadata": {},
   "source": [
    "머신러닝은 어디서 시작하고 어디서 끝나는 걸까? 기계가 <strong>배운다</strong>는 것이 정확히 무엇을 의미하는 걸까? 내가 위키백과 문서를 내려받으면 내 컴퓨터가 실제로 무언가를 배울 수 있을까? 컴퓨터가 갑자기 똑똑해질 수 있을까? 머신러닝이 무엇인지, 왜 머신러닝이 필요한지 살펴보면서 이 장을 시작하겠다."
   ]
  },
  {
   "cell_type": "markdown",
   "id": "b54c8965",
   "metadata": {},
   "source": [
    "머신러닝의 세상을 탐험하기 전에 전체 머신러닝의 그림을 조망하고 주요 영역과 가장 중요한 랜드마크인 지도 학습과 비지도 학습, 온라인 학습과 배치 학습, 사례 기반 학습과 모델 기반 학습을 알아보겠다. 또한 전형적인 머신러닝 프로젝트의 작업 흐름을 살펴보고 만날 수 있는 주요 문제점과 머신러닝 시스템을 평가하고 세밀하게 튜닝하는 방법을 다루겠다."
   ]
  },
  {
   "cell_type": "markdown",
   "id": "54be8205",
   "metadata": {},
   "source": [
    "# 머신러닝이란?"
   ]
  },
  {
   "cell_type": "markdown",
   "id": "6a82c315",
   "metadata": {},
   "source": [
    "인공지능(AI)의 한 분야로, 일반적으로 좁게 정의된 과제에서 성능을 향상시키기 위해 명시적 프로그래밍[^1]을 작성하지 않고 수많은 데이터를 학습시켜 거기에 있는 패턴을 찾아내는 것이다. 그 후 추출한 패턴을 새로운 데이터에 적용해서 새로운 결과를 예측 및 추론한다. 이러한 과학(또는 예술)을 머신러닝이라고 한다.\n",
    "\n",
    "[^1]: 명시적 프로그래밍은 규칙 기반 프로그램(rule based program)과 같이 입력조건과 상태조건에 따라 동작하는 것을 모두 구현하는 프로그래밍 방식이다."
   ]
  },
  {
   "cell_type": "markdown",
   "id": "e6d4c0df",
   "metadata": {},
   "source": [
    "조금 더 일반적인 정의는 다음과 같다."
   ]
  },
  {
   "cell_type": "markdown",
   "id": "f557dba5",
   "metadata": {},
   "source": [
    "<strong>아서 새뮤얼<sup>Arthur Samual</sup>, 1959</strong>: 명시적인 프로그래밍 없이 컴퓨터가 학습하는 능력을 갖추게 하는 연구 분야다."
   ]
  },
  {
   "cell_type": "markdown",
   "id": "2c40ee50",
   "metadata": {},
   "source": [
    "조금 더 통계학적으로는 접근하자면 다음과 같다."
   ]
  },
  {
   "cell_type": "markdown",
   "id": "3e7d62e1",
   "metadata": {},
   "source": [
    "통계학, 인공지능 그리고 컴퓨터 과학이 얽혀 있는 연구 분야이며 통계학의 확률이론에 근거한 모델 생성을 수행하기에 예측 분석<sup>predictive analytics</sup>이나 통계적 머신러닝<sup>statistical learning</sup>으로도 불린다."
   ]
  },
  {
   "cell_type": "markdown",
   "id": "e99b70af",
   "metadata": {},
   "source": [
    "조금 더 공학적인 정의는 다음과 같다."
   ]
  },
  {
   "cell_type": "markdown",
   "id": "a5250bbc",
   "metadata": {},
   "source": [
    "<strong>톰 미첼<sup>Tom Mitchell</sup>, 1997</strong>: 어떤 작업 T에 대한 컴퓨터 프로그래밍의 성능을 P로 측정했을 때 경험 E로 인해 성능이 향상됐다면, 이 컴퓨터 프로그램은 작업 T와 성능 측정 P에 대해 경험 E로 학습한 것이다."
   ]
  },
  {
   "cell_type": "markdown",
   "id": "726666aa",
   "metadata": {},
   "source": [
    "스팸 필터는 (사용자가 스팸이라고 지정한) 스팸 메일과 일반 메일의 샘플을 이용해 스팸 메일 구분법을 배울 수 있는 머신러닝 프로그램이다. 시스템이 학습하는 데 사용하는 샘플을 <strong>훈련 세트</strong><sup>training set</sup>라고 하고 각 훈련 데이터를 <strong>훈련 사례</strong><sup>training instance</sup>(혹은 <strong>샘플</strong>)라고 한다. 이 경우 작업 T는 새로운 메일이 스팸인지 구분하는 것이고, 경험 E는 <strong>훈련 데이터</strong><sup>training data</sup>이며, 성능 측정 P는 직접 정의해야 한다. 예를 들면 정확히 분류된 메일의 비율을 P로 사용할 수 있다. 이 성능 측정을 <strong>정확도</strong><sup>accuracy</sup>라고 부르며 분류 작업에 자주 사용된다."
   ]
  },
  {
   "cell_type": "markdown",
   "id": "de8f58ac",
   "metadata": {},
   "source": [
    "위키백과 문서를 모두 내려받으면 여러분 컴퓨터는 아주 많은 데이터를 갖게 된다. 하지만 그렇다고 해서 어떤 작업 성능이 갑자기 좋아지는 것은 아니다. 그러므로 위키백과 문서를 다운로드하는 것은 머신러닝이 아니다."
   ]
  },
  {
   "cell_type": "markdown",
   "id": "1274111d",
   "metadata": {},
   "source": [
    "# 왜 머신러닝을 사용하는가?"
   ]
  },
  {
   "cell_type": "markdown",
   "id": "7a0ce67c",
   "metadata": {},
   "source": [
    "전통적인 프로그래밍 기법을 사용해 스팸 필터를 어떻게 만들 수 있을지 생각해보자.\n",
    "1. 먼저 스팸에 어떤 단어들이 주로 나타나는지 살펴본다. 그러면 '4U', '신용카드', '무료', '굉장한' 같은 단어나 구절이 제목에 많이 나타나는 경향이 있다는 것을 알 수 있다. 어쩌면 보낸이의 이름이나 메일 주소, 본문이나 이메일의 다른 요소에서 다른 패턴을 감지할 수도 있다.\n",
    "2. 발견한 각 패턴을 감지하는 알고리즘을 작성하여 프로그래밍이 이런 패턴을 발견했을 때 그 메일을 스팸으로 분류하게 한다.\n",
    "3. 프로그램을 테스트하고 론칭할 만큼 충분한 성능이 나올 때까지 1단계와 2단계를 반복한다."
   ]
  },
  {
   "cell_type": "markdown",
   "id": "656bd4a8",
   "metadata": {},
   "source": [
    "문제가 어렵기 때문에 규칙이 점점 길고 복잡해지므로 유지 보수하기 매우 힘들어진다(그림 1-1)."
   ]
  },
  {
   "cell_type": "markdown",
   "id": "827dd69c",
   "metadata": {},
   "source": [
    "그림 1-1: 전통적인 접근 방법"
   ]
  },
  {
   "cell_type": "markdown",
   "id": "32eef67d",
   "metadata": {},
   "source": [
    "반면 머신러닝 기법에 기반을 둔 스팸 필터는 일반 메일에 비해 스팸에 자주 나타나는 패턴을 감지하여 어떤 단어와 구절이 스팸 메일을 판단하는 데 좋은 기준인지 자동으로 학습한다(그림 1-2). 그러므로 프로그램이 훨씬 짧아지고 유지 보수하기 쉬우며 대부분 정확도가 더 높다."
   ]
  },
  {
   "cell_type": "markdown",
   "id": "ac1c75fa",
   "metadata": {},
   "source": [
    "그림 1-2: 머신러닝 접근 방법"
   ]
  },
  {
   "cell_type": "markdown",
   "id": "88c992c1",
   "metadata": {},
   "source": [
    "스팸 메일 발송자가 '4U'를 포함한 모든 메일이 차단된다는 것을 안다면 어떻게 될까? 아마도 '4U' 대신 'For U'를 쓰기 시작할지도 모른다. 전통적인 프로그래밍 방식의 스팸 필터는 'For U' 메일을 구분하기 위해 코드상 수정이 필요하다. 스팸 메일 발송자가 스팸 필터에 대항해 계속 단어를 바꾸면 영원히 새로운 규칙을 추가해야 한다."
   ]
  },
  {
   "cell_type": "markdown",
   "id": "726089bb",
   "metadata": {},
   "source": [
    "하지만, 머신러닝 기반의 스팸 필터는 사용자가 스팸으로 지정한 메일에 유독 'For U'가 자주 나타나는 것을 자동으로 인식하고 별도의 작업을 하지 않아도 자동으로 이 단어를 스팸으로 분류한다(그림 1-3)."
   ]
  },
  {
   "cell_type": "markdown",
   "id": "2085092f",
   "metadata": {},
   "source": [
    "그림 1-3: 자동으로 변화에 적응함"
   ]
  },
  {
   "cell_type": "markdown",
   "id": "48a1b255",
   "metadata": {},
   "source": [
    "머신러닝이 유용한 또 다른 분야는 전통적인 방식으로는 너무 복잡하거나 알려진 알고리즘이 없는 문제다. 음성 인식<sup>speech recognition</sup>을 예로 들 수 있다. 'one'과 'two' 두 단어를 구분하는 프로그램을 작성한다고 하자. 단어 'two'는 높은 피치<sup>pitch</sup>의 사운드('T')로 시작하므로 높은 피치의 사운드 강도를 측정하는 알고리즘을 하드코딩해서 'one'과 'two'를 구분할 수도 있다. 당연히 이 방법은 소음이 있는 환경에서 수백만 명이 말하는 여러 언어로 된 수천 개의 단어를 구분하는 것으로 확장하기 어렵다. 각 단어를 녹음한 샘플을 사용해 스스로 학습하는 알고리즘을 작성하는 것이 현재 가장 좋은 솔루션이다."
   ]
  },
  {
   "cell_type": "markdown",
   "id": "c1a20a97",
   "metadata": {},
   "source": [
    "우리는 머신러닝을 통해 배울 수도 있다(그림 1-4). 즉, 머신러닝 알고리즘이 학습한 것을 조사할 수 있다(어떤 알고리즘은 이렇게 하기 어렵다). 예를 들어, 스팸 메일로 충분히 훈련된 스팸 필터에서 스팸을 예측하는 데 가장 좋은 단어 및 단어의 조합이 무엇인지 확인할 수 있다. 가끔 예상치 못한 연관 관계나 새로운 추세가 발견되기도 해서 해당 문제를 더 잘 이해하도록 도와준다. 머신러닝 기술을 적용해서 대용량의 데이터를 분석하면 겉으로는 보이지 않던 패턴을 발견할 수 있다. 이를 <strong>데이터 마이닝</strong><sup>data mining</sup>이라고 한다."
   ]
  },
  {
   "cell_type": "markdown",
   "id": "b172e497",
   "metadata": {},
   "source": [
    "그림 1-4: 머신러닝을 통해 배운다."
   ]
  },
  {
   "cell_type": "markdown",
   "id": "b5ab24b8",
   "metadata": {},
   "source": [
    "요약하면 머신러닝은 다음 분야에 뛰어나다.\n",
    "- 기존 솔루션으로는 많은 수동 조정과 규칙이 필요한 문제: 하나의 머신러닝 모델이 코드를 간단하게 만들고 전통적인 방법보다 더 잘 수행되도록 할 수 있다.\n",
    "- 전통적인 방식으로는 해결 방법이 없는 복잡한 문제: 가장 뛰어난 머신러닝 기법으로 해결 방법을 찾을 수 있다.\n",
    "- 유동적인 환경: 머신러닝 시스템은 새로운 데이터에 적응할 수 있다.\n",
    "- 복잡한 문제와 대량의 데이터에서 통찰 얻기"
   ]
  },
  {
   "cell_type": "code",
   "execution_count": 1,
   "id": "b803cf82",
   "metadata": {
    "ExecuteTime": {
     "end_time": "2022-11-02T13:55:26.144972Z",
     "start_time": "2022-11-02T13:55:25.249023Z"
    }
   },
   "outputs": [],
   "source": [
    "import pandas as pd"
   ]
  }
 ],
 "metadata": {
  "kernelspec": {
   "display_name": "myenv",
   "language": "python",
   "name": "myenv"
  },
  "language_info": {
   "codemirror_mode": {
    "name": "ipython",
    "version": 3
   },
   "file_extension": ".py",
   "mimetype": "text/x-python",
   "name": "python",
   "nbconvert_exporter": "python",
   "pygments_lexer": "ipython3",
   "version": "3.8.13"
  },
  "toc": {
   "base_numbering": 1,
   "nav_menu": {},
   "number_sections": true,
   "sideBar": true,
   "skip_h1_title": false,
   "title_cell": "Table of Contents",
   "title_sidebar": "Contents",
   "toc_cell": false,
   "toc_position": {},
   "toc_section_display": true,
   "toc_window_display": false
  }
 },
 "nbformat": 4,
 "nbformat_minor": 5
}
