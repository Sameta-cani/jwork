{
 "cells": [
  {
   "cell_type": "code",
   "execution_count": 1,
   "id": "d3787e88",
   "metadata": {
    "ExecuteTime": {
     "end_time": "2023-04-02T06:29:55.988475Z",
     "start_time": "2023-04-02T06:29:55.979423Z"
    }
   },
   "outputs": [],
   "source": [
    "def AND(x1, x2):\n",
    "    w1, w2, theta = 0.5, 0.5, 0.7\n",
    "    tmp = x1*w1 + x2*w2    \n",
    "    if tmp <= theta:\n",
    "        return 0\n",
    "    elif tmp > theta:\n",
    "        return 1"
   ]
  },
  {
   "cell_type": "code",
   "execution_count": 2,
   "id": "eee8c233",
   "metadata": {
    "ExecuteTime": {
     "end_time": "2023-04-02T06:29:56.004120Z",
     "start_time": "2023-04-02T06:29:55.990518Z"
    }
   },
   "outputs": [
    {
     "name": "stdout",
     "output_type": "stream",
     "text": [
      "AND(0, 0): 0\n",
      "AND(0, 1): 0\n",
      "AND(1, 0): 0\n",
      "AND(1, 1): 1\n"
     ]
    }
   ],
   "source": [
    "xs = [0, 1]\n",
    "\n",
    "for x1 in xs:\n",
    "    for x2 in xs:\n",
    "        print(\"AND({}, {}): {}\".format(x1, x2, AND(x1, x2)))"
   ]
  },
  {
   "cell_type": "code",
   "execution_count": 3,
   "id": "07e4c3db",
   "metadata": {
    "ExecuteTime": {
     "end_time": "2023-04-02T06:29:56.290566Z",
     "start_time": "2023-04-02T06:29:56.005634Z"
    }
   },
   "outputs": [
    {
     "name": "stdout",
     "output_type": "stream",
     "text": [
      "[0.  0.5]\n"
     ]
    }
   ],
   "source": [
    "import numpy as np\n",
    "x = np.array([0, 1]) # 입력\n",
    "w = np.array([0.5, 0.5]) # 가중치\n",
    "b = -0.7\n",
    "\n",
    "print(w * x)"
   ]
  },
  {
   "cell_type": "code",
   "execution_count": 4,
   "id": "32d92adc",
   "metadata": {
    "ExecuteTime": {
     "end_time": "2023-04-02T06:29:56.305290Z",
     "start_time": "2023-04-02T06:29:56.292826Z"
    }
   },
   "outputs": [
    {
     "data": {
      "text/plain": [
       "0.5"
      ]
     },
     "execution_count": 4,
     "metadata": {},
     "output_type": "execute_result"
    }
   ],
   "source": [
    "np.sum(w*x)"
   ]
  },
  {
   "cell_type": "code",
   "execution_count": 5,
   "id": "be621a46",
   "metadata": {
    "ExecuteTime": {
     "end_time": "2023-04-02T06:29:56.320079Z",
     "start_time": "2023-04-02T06:29:56.306292Z"
    }
   },
   "outputs": [
    {
     "data": {
      "text/plain": [
       "-0.19999999999999996"
      ]
     },
     "execution_count": 5,
     "metadata": {},
     "output_type": "execute_result"
    }
   ],
   "source": [
    "np.sum(w*x) + b"
   ]
  },
  {
   "cell_type": "code",
   "execution_count": 6,
   "id": "64a2b7c4",
   "metadata": {
    "ExecuteTime": {
     "end_time": "2023-04-02T06:29:56.335852Z",
     "start_time": "2023-04-02T06:29:56.322080Z"
    }
   },
   "outputs": [
    {
     "data": {
      "text/plain": [
       "0.5"
      ]
     },
     "execution_count": 6,
     "metadata": {},
     "output_type": "execute_result"
    }
   ],
   "source": [
    "np.dot(w, x)"
   ]
  },
  {
   "cell_type": "code",
   "execution_count": 7,
   "id": "1968fd6c",
   "metadata": {
    "ExecuteTime": {
     "end_time": "2023-04-02T06:29:56.351235Z",
     "start_time": "2023-04-02T06:29:56.337415Z"
    }
   },
   "outputs": [],
   "source": [
    "def AND(x1, x2):\n",
    "    x = np.array([x1, x2])\n",
    "    w = np.array([0.5, 0.5])\n",
    "    b = -0.7\n",
    "    tmp = np.sum(w*x) + b\n",
    "    if tmp <= 0:\n",
    "        return 0\n",
    "    else:\n",
    "        return 1"
   ]
  },
  {
   "cell_type": "code",
   "execution_count": 8,
   "id": "455a31d1",
   "metadata": {
    "ExecuteTime": {
     "end_time": "2023-04-02T06:29:56.366437Z",
     "start_time": "2023-04-02T06:29:56.352312Z"
    }
   },
   "outputs": [],
   "source": [
    "def NAND(x1, x2):\n",
    "    x = np.array([x1, x2])\n",
    "    w = np.array([-0.5, -0.5]) # AND와는 가중치(w와 b)만 다르다!\n",
    "    b = 0.7\n",
    "    tmp = np.dot(w, x) + b\n",
    "    if tmp <= 0:\n",
    "        return 0\n",
    "    else:\n",
    "        return 1\n",
    "\n",
    "def OR(x1, x2):\n",
    "    x = np.array([x1, x2])\n",
    "    w = np.array([0.5, 0.5]) # AND와는 가중치(w와 b)만 다르다!\n",
    "    b = -0.2\n",
    "    tmp = np.dot(w, x) + b\n",
    "    if tmp <= 0:\n",
    "        return 0\n",
    "    else:\n",
    "        return 1"
   ]
  },
  {
   "cell_type": "code",
   "execution_count": 9,
   "id": "94f2ab96",
   "metadata": {
    "ExecuteTime": {
     "end_time": "2023-04-02T06:29:56.381549Z",
     "start_time": "2023-04-02T06:29:56.368438Z"
    }
   },
   "outputs": [],
   "source": [
    "def XOR(x1, x2):\n",
    "    s1 = NAND(x1, x2)\n",
    "    s2 = OR(x1, x2)\n",
    "    y = AND(s1, s2)\n",
    "    return y"
   ]
  },
  {
   "cell_type": "code",
   "execution_count": 10,
   "id": "7fe7ad8a",
   "metadata": {
    "ExecuteTime": {
     "end_time": "2023-04-02T06:29:56.396675Z",
     "start_time": "2023-04-02T06:29:56.383571Z"
    }
   },
   "outputs": [
    {
     "name": "stdout",
     "output_type": "stream",
     "text": [
      "XOR(0, 0): 0\n",
      "XOR(0, 1): 1\n",
      "XOR(1, 0): 1\n",
      "XOR(1, 1): 0\n"
     ]
    }
   ],
   "source": [
    "for x1 in xs:\n",
    "    for x2 in xs:\n",
    "        print('XOR({}, {}): {}'.format(x1, x2, XOR(x1, x2)))"
   ]
  },
  {
   "cell_type": "code",
   "execution_count": 11,
   "id": "d39cd215",
   "metadata": {
    "ExecuteTime": {
     "end_time": "2023-04-02T06:29:56.411382Z",
     "start_time": "2023-04-02T06:29:56.398677Z"
    }
   },
   "outputs": [],
   "source": [
    "def step_function(x):\n",
    "    if x > 0:\n",
    "        return 1\n",
    "    else:\n",
    "        return 0"
   ]
  },
  {
   "cell_type": "code",
   "execution_count": 12,
   "id": "73c512c5",
   "metadata": {
    "ExecuteTime": {
     "end_time": "2023-04-02T06:29:56.426189Z",
     "start_time": "2023-04-02T06:29:56.413510Z"
    }
   },
   "outputs": [],
   "source": [
    "def step_function(x):\n",
    "    y = x > 0\n",
    "    return y.astype(int)"
   ]
  },
  {
   "cell_type": "code",
   "execution_count": 13,
   "id": "8186d746",
   "metadata": {
    "ExecuteTime": {
     "end_time": "2023-04-02T06:29:56.441782Z",
     "start_time": "2023-04-02T06:29:56.427185Z"
    }
   },
   "outputs": [
    {
     "data": {
      "text/plain": [
       "array([-1.,  1.,  2.])"
      ]
     },
     "execution_count": 13,
     "metadata": {},
     "output_type": "execute_result"
    }
   ],
   "source": [
    "import numpy as np\n",
    "x = np.array([-1.0, 1.0, 2.0])\n",
    "x"
   ]
  },
  {
   "cell_type": "code",
   "execution_count": 14,
   "id": "1bc4e603",
   "metadata": {
    "ExecuteTime": {
     "end_time": "2023-04-02T06:29:56.457415Z",
     "start_time": "2023-04-02T06:29:56.443404Z"
    }
   },
   "outputs": [
    {
     "data": {
      "text/plain": [
       "array([False,  True,  True])"
      ]
     },
     "execution_count": 14,
     "metadata": {},
     "output_type": "execute_result"
    }
   ],
   "source": [
    "y = x > 0\n",
    "y"
   ]
  },
  {
   "cell_type": "code",
   "execution_count": 15,
   "id": "0f21a8a2",
   "metadata": {
    "ExecuteTime": {
     "end_time": "2023-04-02T06:29:56.472412Z",
     "start_time": "2023-04-02T06:29:56.459416Z"
    }
   },
   "outputs": [
    {
     "data": {
      "text/plain": [
       "array([0, 1, 1])"
      ]
     },
     "execution_count": 15,
     "metadata": {},
     "output_type": "execute_result"
    }
   ],
   "source": [
    "y = y.astype(int)\n",
    "y"
   ]
  },
  {
   "cell_type": "code",
   "execution_count": 16,
   "id": "12981368",
   "metadata": {
    "ExecuteTime": {
     "end_time": "2023-04-02T06:29:58.180366Z",
     "start_time": "2023-04-02T06:29:56.474413Z"
    }
   },
   "outputs": [
    {
     "data": {
      "image/png": "[encoded data removed]",
      "text/plain": [
       "<Figure size 432x288 with 1 Axes>"
      ]
     },
     "metadata": {
      "needs_background": "light"
     },
     "output_type": "display_data"
    }
   ],
   "source": [
    "import numpy as np\n",
    "import matplotlib.pyplot as plt\n",
    "\n",
    "def step_function(x):\n",
    "    # return np.array(x > 0, dtype=int)\n",
    "    return np.where(x > 0, 1, 0)\n",
    "\n",
    "x = np.arange(-5.0, 5.0, 0.1)\n",
    "y = step_function(x)\n",
    "plt.plot(x, y)\n",
    "plt.ylim(-0.1, 1.1)\n",
    "plt.show()"
   ]
  },
  {
   "cell_type": "code",
   "execution_count": 17,
   "id": "6fc4a083",
   "metadata": {
    "ExecuteTime": {
     "end_time": "2023-04-02T06:29:58.195801Z",
     "start_time": "2023-04-02T06:29:58.182816Z"
    }
   },
   "outputs": [],
   "source": [
    "def sigmoid(x):\n",
    "    return 1 / (1 + np.exp(-x))"
   ]
  },
  {
   "cell_type": "code",
   "execution_count": 18,
   "id": "2bbcbe3c",
   "metadata": {
    "ExecuteTime": {
     "end_time": "2023-04-02T06:29:58.210641Z",
     "start_time": "2023-04-02T06:29:58.197802Z"
    }
   },
   "outputs": [
    {
     "data": {
      "text/plain": [
       "array([0.26894142, 0.73105858, 0.88079708])"
      ]
     },
     "execution_count": 18,
     "metadata": {},
     "output_type": "execute_result"
    }
   ],
   "source": [
    "x = np.array([-1.0, 1.0, 2.0])\n",
    "sigmoid(x)"
   ]
  },
  {
   "cell_type": "code",
   "execution_count": 19,
   "id": "3f19eb9c",
   "metadata": {
    "ExecuteTime": {
     "end_time": "2023-04-02T06:29:58.225407Z",
     "start_time": "2023-04-02T06:29:58.213158Z"
    }
   },
   "outputs": [
    {
     "data": {
      "text/plain": [
       "array([2., 3., 4.])"
      ]
     },
     "execution_count": 19,
     "metadata": {},
     "output_type": "execute_result"
    }
   ],
   "source": [
    "t = np.array([1.0, 2.0, 3.0])\n",
    "1.0 + t"
   ]
  },
  {
   "cell_type": "code",
   "execution_count": 20,
   "id": "b742c2fd",
   "metadata": {
    "ExecuteTime": {
     "end_time": "2023-04-02T06:29:58.241007Z",
     "start_time": "2023-04-02T06:29:58.227407Z"
    }
   },
   "outputs": [
    {
     "data": {
      "text/plain": [
       "array([1.        , 0.5       , 0.33333333])"
      ]
     },
     "execution_count": 20,
     "metadata": {},
     "output_type": "execute_result"
    }
   ],
   "source": [
    "1.0 / t"
   ]
  },
  {
   "cell_type": "code",
   "execution_count": 21,
   "id": "7be907c9",
   "metadata": {
    "ExecuteTime": {
     "end_time": "2023-04-02T06:29:58.391049Z",
     "start_time": "2023-04-02T06:29:58.243011Z"
    }
   },
   "outputs": [
    {
     "data": {
      "image/png": "[encoded data removed]",
      "text/plain": [
       "<Figure size 432x288 with 1 Axes>"
      ]
     },
     "metadata": {
      "needs_background": "light"
     },
     "output_type": "display_data"
    }
   ],
   "source": [
    "x = np.arange(-5.0, 5.0, 0.1)\n",
    "y = sigmoid(x)\n",
    "plt.plot(x, y)\n",
    "plt.ylim(-0.1, 1.1)\n",
    "plt.show()"
   ]
  },
  {
   "cell_type": "code",
   "execution_count": 22,
   "id": "8942f071",
   "metadata": {
    "ExecuteTime": {
     "end_time": "2023-04-02T06:29:58.541881Z",
     "start_time": "2023-04-02T06:29:58.393563Z"
    }
   },
   "outputs": [
    {
     "data": {
      "image/png": "[encoded data removed]",
      "text/plain": [
       "<Figure size 432x288 with 1 Axes>"
      ]
     },
     "metadata": {
      "needs_background": "light"
     },
     "output_type": "display_data"
    }
   ],
   "source": [
    "plt.plot(x, step_function(x), 'k--')\n",
    "plt.plot(x, sigmoid(x), 'k-')\n",
    "plt.plot([-5.0, 5.0], [0.5, 0.5], 'k-')\n",
    "plt.ylim(-0.1, 1.1)\n",
    "plt.show()"
   ]
  },
  {
   "cell_type": "code",
   "execution_count": 23,
   "id": "bdeab7d1",
   "metadata": {
    "ExecuteTime": {
     "end_time": "2023-04-02T06:29:58.557060Z",
     "start_time": "2023-04-02T06:29:58.543882Z"
    }
   },
   "outputs": [],
   "source": [
    "def relu(x):\n",
    "    return np.maximum(0, x)"
   ]
  },
  {
   "cell_type": "code",
   "execution_count": 24,
   "id": "74ba3a29",
   "metadata": {
    "ExecuteTime": {
     "end_time": "2023-04-02T06:29:58.571908Z",
     "start_time": "2023-04-02T06:29:58.559177Z"
    }
   },
   "outputs": [
    {
     "name": "stdout",
     "output_type": "stream",
     "text": [
      "[1 2 3 4]\n"
     ]
    }
   ],
   "source": [
    "import numpy as np\n",
    "A = np.array([1, 2, 3, 4])\n",
    "print(A)"
   ]
  },
  {
   "cell_type": "code",
   "execution_count": 25,
   "id": "84ba2497",
   "metadata": {
    "ExecuteTime": {
     "end_time": "2023-04-02T06:29:58.586634Z",
     "start_time": "2023-04-02T06:29:58.574975Z"
    }
   },
   "outputs": [
    {
     "data": {
      "text/plain": [
       "1"
      ]
     },
     "execution_count": 25,
     "metadata": {},
     "output_type": "execute_result"
    }
   ],
   "source": [
    "np.ndim(A)"
   ]
  },
  {
   "cell_type": "code",
   "execution_count": 26,
   "id": "c31e1304",
   "metadata": {
    "ExecuteTime": {
     "end_time": "2023-04-02T06:29:58.601554Z",
     "start_time": "2023-04-02T06:29:58.588642Z"
    }
   },
   "outputs": [
    {
     "data": {
      "text/plain": [
       "(4,)"
      ]
     },
     "execution_count": 26,
     "metadata": {},
     "output_type": "execute_result"
    }
   ],
   "source": [
    "A.shape"
   ]
  },
  {
   "cell_type": "code",
   "execution_count": 27,
   "id": "4dd9c906",
   "metadata": {
    "ExecuteTime": {
     "end_time": "2023-04-02T06:29:58.616743Z",
     "start_time": "2023-04-02T06:29:58.603556Z"
    }
   },
   "outputs": [
    {
     "data": {
      "text/plain": [
       "4"
      ]
     },
     "execution_count": 27,
     "metadata": {},
     "output_type": "execute_result"
    }
   ],
   "source": [
    "A.shape[0]"
   ]
  },
  {
   "cell_type": "code",
   "execution_count": 28,
   "id": "6dc60497",
   "metadata": {
    "ExecuteTime": {
     "end_time": "2023-04-02T06:29:58.646447Z",
     "start_time": "2023-04-02T06:29:58.626688Z"
    }
   },
   "outputs": [
    {
     "name": "stdout",
     "output_type": "stream",
     "text": [
      "[[1 2]\n",
      " [3 4]\n",
      " [5 6]]\n"
     ]
    }
   ],
   "source": [
    "B = np.array([[1, 2], [3, 4], [5, 6]])\n",
    "print(B)"
   ]
  },
  {
   "cell_type": "code",
   "execution_count": 29,
   "id": "be43be8e",
   "metadata": {
    "ExecuteTime": {
     "end_time": "2023-04-02T06:29:58.661878Z",
     "start_time": "2023-04-02T06:29:58.648452Z"
    }
   },
   "outputs": [
    {
     "data": {
      "text/plain": [
       "2"
      ]
     },
     "execution_count": 29,
     "metadata": {},
     "output_type": "execute_result"
    }
   ],
   "source": [
    "np.ndim(B)"
   ]
  },
  {
   "cell_type": "code",
   "execution_count": 30,
   "id": "b5318e18",
   "metadata": {
    "ExecuteTime": {
     "end_time": "2023-04-02T06:29:58.677224Z",
     "start_time": "2023-04-02T06:29:58.664889Z"
    }
   },
   "outputs": [
    {
     "data": {
      "text/plain": [
       "(3, 2)"
      ]
     },
     "execution_count": 30,
     "metadata": {},
     "output_type": "execute_result"
    }
   ],
   "source": [
    "B.shape"
   ]
  },
  {
   "cell_type": "code",
   "execution_count": 31,
   "id": "ae92675d",
   "metadata": {
    "ExecuteTime": {
     "end_time": "2023-04-02T06:29:58.691895Z",
     "start_time": "2023-04-02T06:29:58.680239Z"
    }
   },
   "outputs": [
    {
     "data": {
      "text/plain": [
       "(2, 2)"
      ]
     },
     "execution_count": 31,
     "metadata": {},
     "output_type": "execute_result"
    }
   ],
   "source": [
    "A = np.array([[1, 2], [3, 4]])\n",
    "A.shape"
   ]
  },
  {
   "cell_type": "code",
   "execution_count": 32,
   "id": "7c77ed69",
   "metadata": {
    "ExecuteTime": {
     "end_time": "2023-04-02T06:29:58.706705Z",
     "start_time": "2023-04-02T06:29:58.694030Z"
    }
   },
   "outputs": [
    {
     "data": {
      "text/plain": [
       "(2, 2)"
      ]
     },
     "execution_count": 32,
     "metadata": {},
     "output_type": "execute_result"
    }
   ],
   "source": [
    "B = np.array([[5, 6], [7, 8]])\n",
    "B.shape"
   ]
  },
  {
   "cell_type": "code",
   "execution_count": 33,
   "id": "56929c34",
   "metadata": {
    "ExecuteTime": {
     "end_time": "2023-04-02T06:29:58.721368Z",
     "start_time": "2023-04-02T06:29:58.708904Z"
    }
   },
   "outputs": [
    {
     "data": {
      "text/plain": [
       "array([[19, 22],\n",
       "       [43, 50]])"
      ]
     },
     "execution_count": 33,
     "metadata": {},
     "output_type": "execute_result"
    }
   ],
   "source": [
    "np.dot(A, B)"
   ]
  },
  {
   "cell_type": "code",
   "execution_count": 34,
   "id": "e0be058f",
   "metadata": {
    "ExecuteTime": {
     "end_time": "2023-04-02T06:29:58.736368Z",
     "start_time": "2023-04-02T06:29:58.724372Z"
    }
   },
   "outputs": [
    {
     "data": {
      "text/plain": [
       "(2, 3)"
      ]
     },
     "execution_count": 34,
     "metadata": {},
     "output_type": "execute_result"
    }
   ],
   "source": [
    "A = np.array([[1, 2, 3], [4, 5, 6]])\n",
    "A.shape"
   ]
  },
  {
   "cell_type": "code",
   "execution_count": 35,
   "id": "f1af310b",
   "metadata": {
    "ExecuteTime": {
     "end_time": "2023-04-02T06:29:58.751360Z",
     "start_time": "2023-04-02T06:29:58.738369Z"
    }
   },
   "outputs": [
    {
     "data": {
      "text/plain": [
       "(3, 2)"
      ]
     },
     "execution_count": 35,
     "metadata": {},
     "output_type": "execute_result"
    }
   ],
   "source": [
    "B = np.array([[1, 2], [3, 4], [5, 6]])\n",
    "B.shape"
   ]
  },
  {
   "cell_type": "code",
   "execution_count": 36,
   "id": "a48ed275",
   "metadata": {
    "ExecuteTime": {
     "end_time": "2023-04-02T06:29:58.766361Z",
     "start_time": "2023-04-02T06:29:58.753362Z"
    }
   },
   "outputs": [
    {
     "data": {
      "text/plain": [
       "array([[22, 28],\n",
       "       [49, 64]])"
      ]
     },
     "execution_count": 36,
     "metadata": {},
     "output_type": "execute_result"
    }
   ],
   "source": [
    "np.dot(A, B)"
   ]
  },
  {
   "cell_type": "code",
   "execution_count": 37,
   "id": "7524f991",
   "metadata": {
    "ExecuteTime": {
     "end_time": "2023-04-02T06:29:58.781897Z",
     "start_time": "2023-04-02T06:29:58.768886Z"
    }
   },
   "outputs": [
    {
     "data": {
      "text/plain": [
       "(3, 2)"
      ]
     },
     "execution_count": 37,
     "metadata": {},
     "output_type": "execute_result"
    }
   ],
   "source": [
    "A = np.array([[1, 2], [3, 4], [5, 6]])\n",
    "A.shape"
   ]
  },
  {
   "cell_type": "code",
   "execution_count": 38,
   "id": "0ae0c0ad",
   "metadata": {
    "ExecuteTime": {
     "end_time": "2023-04-02T06:29:58.797417Z",
     "start_time": "2023-04-02T06:29:58.783894Z"
    }
   },
   "outputs": [
    {
     "data": {
      "text/plain": [
       "(2,)"
      ]
     },
     "execution_count": 38,
     "metadata": {},
     "output_type": "execute_result"
    }
   ],
   "source": [
    "B = np.array([7, 8])\n",
    "B.shape"
   ]
  },
  {
   "cell_type": "code",
   "execution_count": 39,
   "id": "b837f6ac",
   "metadata": {
    "ExecuteTime": {
     "end_time": "2023-04-02T06:29:58.812420Z",
     "start_time": "2023-04-02T06:29:58.800417Z"
    }
   },
   "outputs": [
    {
     "data": {
      "text/plain": [
       "array([23, 53, 83])"
      ]
     },
     "execution_count": 39,
     "metadata": {},
     "output_type": "execute_result"
    }
   ],
   "source": [
    "np.dot(A, B)"
   ]
  },
  {
   "cell_type": "code",
   "execution_count": 40,
   "id": "9af013e0",
   "metadata": {
    "ExecuteTime": {
     "end_time": "2023-04-02T06:29:58.827416Z",
     "start_time": "2023-04-02T06:29:58.814416Z"
    }
   },
   "outputs": [
    {
     "data": {
      "text/plain": [
       "(2,)"
      ]
     },
     "execution_count": 40,
     "metadata": {},
     "output_type": "execute_result"
    }
   ],
   "source": [
    "X = np.array([1, 2])\n",
    "X.shape"
   ]
  },
  {
   "cell_type": "code",
   "execution_count": 41,
   "id": "4655df22",
   "metadata": {
    "ExecuteTime": {
     "end_time": "2023-04-02T06:29:58.842415Z",
     "start_time": "2023-04-02T06:29:58.829416Z"
    }
   },
   "outputs": [
    {
     "name": "stdout",
     "output_type": "stream",
     "text": [
      "[[1 3 5]\n",
      " [2 4 6]]\n"
     ]
    }
   ],
   "source": [
    "W = np.array([[1, 3, 5], [2, 4, 6]])\n",
    "print(W)"
   ]
  },
  {
   "cell_type": "code",
   "execution_count": 42,
   "id": "9a5207b7",
   "metadata": {
    "ExecuteTime": {
     "end_time": "2023-04-02T06:29:58.857929Z",
     "start_time": "2023-04-02T06:29:58.844422Z"
    }
   },
   "outputs": [
    {
     "data": {
      "text/plain": [
       "(2, 3)"
      ]
     },
     "execution_count": 42,
     "metadata": {},
     "output_type": "execute_result"
    }
   ],
   "source": [
    "W.shape"
   ]
  },
  {
   "cell_type": "code",
   "execution_count": 43,
   "id": "a1fe412a",
   "metadata": {
    "ExecuteTime": {
     "end_time": "2023-04-02T06:29:58.872931Z",
     "start_time": "2023-04-02T06:29:58.859930Z"
    }
   },
   "outputs": [
    {
     "name": "stdout",
     "output_type": "stream",
     "text": [
      "[ 5 11 17]\n"
     ]
    }
   ],
   "source": [
    "Y = np.dot(X, W)\n",
    "print(Y)"
   ]
  },
  {
   "cell_type": "code",
   "execution_count": 44,
   "id": "61ddf1ed",
   "metadata": {
    "ExecuteTime": {
     "end_time": "2023-04-02T06:29:58.888508Z",
     "start_time": "2023-04-02T06:29:58.875930Z"
    }
   },
   "outputs": [
    {
     "name": "stdout",
     "output_type": "stream",
     "text": [
      "(2, 3)\n",
      "(2,)\n",
      "(3,)\n"
     ]
    }
   ],
   "source": [
    "X = np.array([1.0, 0.5])\n",
    "W1 = np.array([[0.1, 0.3, 0.5], [0.2, 0.4, 0.6]])\n",
    "B1 = np.array([0.1, 0.2, 0.3])\n",
    "\n",
    "print(W1.shape)\n",
    "print(X.shape)\n",
    "print(B1.shape)\n",
    "\n",
    "A1 = np.dot(X, W1) + B1"
   ]
  },
  {
   "cell_type": "code",
   "execution_count": 45,
   "id": "709c25f4",
   "metadata": {
    "ExecuteTime": {
     "end_time": "2023-04-02T06:29:58.903718Z",
     "start_time": "2023-04-02T06:29:58.890961Z"
    }
   },
   "outputs": [
    {
     "name": "stdout",
     "output_type": "stream",
     "text": [
      "[0.3 0.7 1.1]\n",
      "[0.57444252 0.66818777 0.75026011]\n"
     ]
    }
   ],
   "source": [
    "Z1 = sigmoid(A1)\n",
    "\n",
    "print(A1)\n",
    "print(Z1)"
   ]
  },
  {
   "cell_type": "code",
   "execution_count": 46,
   "id": "24bb8101",
   "metadata": {
    "ExecuteTime": {
     "end_time": "2023-04-02T06:29:58.918767Z",
     "start_time": "2023-04-02T06:29:58.905721Z"
    }
   },
   "outputs": [
    {
     "name": "stdout",
     "output_type": "stream",
     "text": [
      "(3,)\n",
      "(3, 2)\n",
      "(2,)\n"
     ]
    }
   ],
   "source": [
    "W2 = np.array([[0.1, 0.4], [0.2, 0.5], [0.3, 0.6]])\n",
    "B2 = np.array([0.1, 0.2])\n",
    "\n",
    "print(Z1.shape)\n",
    "print(W2.shape)\n",
    "print(B2.shape)\n",
    "\n",
    "A2 = np.dot(Z1, W2) + B2\n",
    "Z2 = sigmoid(A2)"
   ]
  },
  {
   "cell_type": "code",
   "execution_count": 47,
   "id": "3db93269",
   "metadata": {
    "ExecuteTime": {
     "end_time": "2023-04-02T06:29:58.933588Z",
     "start_time": "2023-04-02T06:29:58.920917Z"
    }
   },
   "outputs": [
    {
     "name": "stdout",
     "output_type": "stream",
     "text": [
      "[0.51615984 1.21402696]\n",
      "[0.62624937 0.7710107 ]\n"
     ]
    }
   ],
   "source": [
    "print(A2)\n",
    "print(Z2)"
   ]
  },
  {
   "cell_type": "code",
   "execution_count": 48,
   "id": "7bfb8cda",
   "metadata": {
    "ExecuteTime": {
     "end_time": "2023-04-02T06:29:58.948847Z",
     "start_time": "2023-04-02T06:29:58.935799Z"
    }
   },
   "outputs": [],
   "source": [
    "def identity_function(x):\n",
    "    return x\n",
    "\n",
    "W3 = np.array([[0.1, 0.3], [0.2, 0.4]])\n",
    "B3 = np.array([0.1, 0.2])\n",
    "\n",
    "A3 = np.dot(Z2, W3) + B3\n",
    "Y = identity_function(A3)"
   ]
  },
  {
   "cell_type": "code",
   "execution_count": 49,
   "id": "c915c2ea",
   "metadata": {
    "ExecuteTime": {
     "end_time": "2023-04-02T06:29:58.963681Z",
     "start_time": "2023-04-02T06:29:58.950851Z"
    }
   },
   "outputs": [
    {
     "name": "stdout",
     "output_type": "stream",
     "text": [
      "[0.31682708 0.69627909]\n"
     ]
    }
   ],
   "source": [
    "def init_network():\n",
    "    network = {}\n",
    "    network['W1'] = np.array([[0.1, 0.3, 0.5], [0.2, 0.4, 0.6]])\n",
    "    network['b1'] = np.array([0.1, 0.2, 0.3])\n",
    "    network['W2'] = np.array([[0.1, 0.4], [0.2, 0.5], [0.3, 0.6]])\n",
    "    network['b2'] = np.array([0.1, 0.2])\n",
    "    network['W3'] = np.array([[0.1, 0.3], [0.2, 0.4]])\n",
    "    network['b3'] = np.array([0.1, 0.2])\n",
    "    \n",
    "    return network\n",
    "\n",
    "def forward(network, x):\n",
    "    W1, W2, W3 = network['W1'], network['W2'], network['W3']\n",
    "    b1, b2, b3 = network['b1'], network['b2'], network['b3']\n",
    "    \n",
    "    a1 = np.dot(x, W1) + b1\n",
    "    z1 = sigmoid(a1)\n",
    "    a2 = np.dot(z1, W2) + b2\n",
    "    z2 = sigmoid(a2)\n",
    "    a3 = np.dot(z2, W3) + b3\n",
    "    y = identity_function(a3)\n",
    "    \n",
    "    return y\n",
    "\n",
    "network = init_network()\n",
    "x = np.array([1.0, 0.5])\n",
    "y = forward(network, x)\n",
    "print(y)"
   ]
  },
  {
   "cell_type": "code",
   "execution_count": 50,
   "id": "0c13d985",
   "metadata": {
    "ExecuteTime": {
     "end_time": "2023-04-02T06:29:58.979076Z",
     "start_time": "2023-04-02T06:29:58.966286Z"
    }
   },
   "outputs": [],
   "source": [
    "class multi_perceptron():\n",
    "    \n",
    "    def __init__(self):\n",
    "        self.network = {}\n",
    "        self.network['W1'] = np.array([[0.1, 0.3, 0.5], [0.2, 0.4, 0.6]])\n",
    "        self.network['b1'] = np.array([0.1, 0.2, 0.3])\n",
    "        self.network['W2'] = np.array([[0.1, 0.4], [0.2, 0.5], [0.3, 0.6]])\n",
    "        self.network['b2'] = np.array([0.1, 0.2])\n",
    "        self.network['W3'] = np.array([[0.1, 0.3], [0.2, 0.4]])\n",
    "        self.network['b3'] = np.array([0.1, 0.2])\n",
    "    \n",
    "    def sigmoid(self, x):\n",
    "        return 1 / (1 + np.exp(-x))\n",
    "    \n",
    "    def identity_function(self, x):\n",
    "        return x\n",
    "    \n",
    "    def forward(self, x):\n",
    "        a1 = np.dot(x, self.network['W1']) + self.network['b1']\n",
    "        z1 = self.sigmoid(a1)\n",
    "        a2 = np.dot(z1, self.network['W2']) + self.network['b2']\n",
    "        z2 = self.sigmoid(a2)\n",
    "        a3 = np.dot(z2, self.network['W3']) + self.network['b3']\n",
    "        y = self.identity_function(a3)\n",
    "        \n",
    "        return y"
   ]
  },
  {
   "cell_type": "code",
   "execution_count": 51,
   "id": "6508806d",
   "metadata": {
    "ExecuteTime": {
     "end_time": "2023-04-02T06:29:58.994448Z",
     "start_time": "2023-04-02T06:29:58.981530Z"
    }
   },
   "outputs": [
    {
     "data": {
      "text/plain": [
       "array([0.31682708, 0.69627909])"
      ]
     },
     "execution_count": 51,
     "metadata": {},
     "output_type": "execute_result"
    }
   ],
   "source": [
    "p = multi_perceptron()\n",
    "\n",
    "p.forward(x)"
   ]
  },
  {
   "cell_type": "code",
   "execution_count": 52,
   "id": "72d432a8",
   "metadata": {
    "ExecuteTime": {
     "end_time": "2023-04-02T06:29:59.009144Z",
     "start_time": "2023-04-02T06:29:58.996970Z"
    }
   },
   "outputs": [
    {
     "name": "stdout",
     "output_type": "stream",
     "text": [
      "[ 1.34985881 18.17414537 54.59815003]\n"
     ]
    }
   ],
   "source": [
    "a = np.array([0.3, 2.9, 4.0])\n",
    "\n",
    "exp_a = np.exp(a)\n",
    "print(exp_a)"
   ]
  },
  {
   "cell_type": "code",
   "execution_count": 53,
   "id": "93608f43",
   "metadata": {
    "ExecuteTime": {
     "end_time": "2023-04-02T06:29:59.024413Z",
     "start_time": "2023-04-02T06:29:59.011244Z"
    }
   },
   "outputs": [
    {
     "name": "stdout",
     "output_type": "stream",
     "text": [
      "74.1221542101633\n"
     ]
    }
   ],
   "source": [
    "sum_exp_a = np.sum(exp_a)\n",
    "print(sum_exp_a)"
   ]
  },
  {
   "cell_type": "code",
   "execution_count": 54,
   "id": "b5f0c38b",
   "metadata": {
    "ExecuteTime": {
     "end_time": "2023-04-02T06:29:59.039459Z",
     "start_time": "2023-04-02T06:29:59.026412Z"
    }
   },
   "outputs": [
    {
     "name": "stdout",
     "output_type": "stream",
     "text": [
      "[0.01821127 0.24519181 0.73659691]\n"
     ]
    }
   ],
   "source": [
    "y = exp_a / sum_exp_a\n",
    "print(y)"
   ]
  },
  {
   "cell_type": "code",
   "execution_count": 55,
   "id": "75b43802",
   "metadata": {
    "ExecuteTime": {
     "end_time": "2023-04-02T06:29:59.054461Z",
     "start_time": "2023-04-02T06:29:59.041460Z"
    }
   },
   "outputs": [],
   "source": [
    "def softmax(a):\n",
    "    exp_a = np.exp(a)\n",
    "    sum_exp_a = np.sum(exp_a)\n",
    "    y = exp_a / sum_exp_a\n",
    "    \n",
    "    return y"
   ]
  },
  {
   "cell_type": "code",
   "execution_count": 56,
   "id": "aadc2918",
   "metadata": {
    "ExecuteTime": {
     "end_time": "2023-04-02T06:29:59.069461Z",
     "start_time": "2023-04-02T06:29:59.057468Z"
    }
   },
   "outputs": [
    {
     "name": "stderr",
     "output_type": "stream",
     "text": [
      "C:\\Users\\Sangjin\\AppData\\Local\\Temp\\ipykernel_43104\\832863605.py:2: RuntimeWarning: overflow encountered in exp\n",
      "  np.exp(a) / np.sum(np.exp(a))\n",
      "C:\\Users\\Sangjin\\AppData\\Local\\Temp\\ipykernel_43104\\832863605.py:2: RuntimeWarning: invalid value encountered in true_divide\n",
      "  np.exp(a) / np.sum(np.exp(a))\n"
     ]
    },
    {
     "data": {
      "text/plain": [
       "array([nan, nan, nan])"
      ]
     },
     "execution_count": 56,
     "metadata": {},
     "output_type": "execute_result"
    }
   ],
   "source": [
    "a = np.array([1010, 1000, 990])\n",
    "np.exp(a) / np.sum(np.exp(a))"
   ]
  },
  {
   "cell_type": "code",
   "execution_count": 57,
   "id": "cc31cb9f",
   "metadata": {
    "ExecuteTime": {
     "end_time": "2023-04-02T06:29:59.084364Z",
     "start_time": "2023-04-02T06:29:59.072465Z"
    }
   },
   "outputs": [
    {
     "data": {
      "text/plain": [
       "array([  0, -10, -20])"
      ]
     },
     "execution_count": 57,
     "metadata": {},
     "output_type": "execute_result"
    }
   ],
   "source": [
    "c = np.max(a)\n",
    "a - c"
   ]
  },
  {
   "cell_type": "code",
   "execution_count": 58,
   "id": "da336115",
   "metadata": {
    "ExecuteTime": {
     "end_time": "2023-04-02T06:29:59.099405Z",
     "start_time": "2023-04-02T06:29:59.086361Z"
    }
   },
   "outputs": [
    {
     "data": {
      "text/plain": [
       "array([9.99954600e-01, 4.53978686e-05, 2.06106005e-09])"
      ]
     },
     "execution_count": 58,
     "metadata": {},
     "output_type": "execute_result"
    }
   ],
   "source": [
    "np.exp(a - c) / np.sum(np.exp(a - c))"
   ]
  },
  {
   "cell_type": "code",
   "execution_count": 59,
   "id": "f9bd4be4",
   "metadata": {
    "ExecuteTime": {
     "end_time": "2023-04-02T06:29:59.114407Z",
     "start_time": "2023-04-02T06:29:59.101401Z"
    }
   },
   "outputs": [],
   "source": [
    "def softmax(a):\n",
    "    c = np.max(a)\n",
    "    exp_a = np.exp(a - c)\n",
    "    sum_exp_a = np.sum(exp_a)\n",
    "    y = exp_a / sum_exp_a\n",
    "    \n",
    "    return y"
   ]
  },
  {
   "cell_type": "code",
   "execution_count": 60,
   "id": "99c44a1a",
   "metadata": {
    "ExecuteTime": {
     "end_time": "2023-04-02T06:29:59.129929Z",
     "start_time": "2023-04-02T06:29:59.117410Z"
    }
   },
   "outputs": [
    {
     "name": "stdout",
     "output_type": "stream",
     "text": [
      "[0.01821127 0.24519181 0.73659691]\n"
     ]
    }
   ],
   "source": [
    "a = np.array([0.3, 2.9, 4.0])\n",
    "y = softmax(a)\n",
    "print(y)"
   ]
  },
  {
   "cell_type": "code",
   "execution_count": 61,
   "id": "c6a5e98c",
   "metadata": {
    "ExecuteTime": {
     "end_time": "2023-04-02T06:29:59.145398Z",
     "start_time": "2023-04-02T06:29:59.131930Z"
    }
   },
   "outputs": [
    {
     "data": {
      "text/plain": [
       "1.0"
      ]
     },
     "execution_count": 61,
     "metadata": {},
     "output_type": "execute_result"
    }
   ],
   "source": [
    "np.sum(y)"
   ]
  },
  {
   "cell_type": "code",
   "execution_count": 62,
   "id": "96500094",
   "metadata": {
    "ExecuteTime": {
     "end_time": "2023-04-02T06:30:01.066150Z",
     "start_time": "2023-04-02T06:29:59.147401Z"
    }
   },
   "outputs": [
    {
     "data": {
      "text/plain": [
       "array([[ 0.,  0.,  5., ...,  0.,  0.,  0.],\n",
       "       [ 0.,  0.,  0., ..., 10.,  0.,  0.],\n",
       "       [ 0.,  0.,  0., ..., 16.,  9.,  0.],\n",
       "       ...,\n",
       "       [ 0.,  0.,  1., ...,  6.,  0.,  0.],\n",
       "       [ 0.,  0.,  2., ..., 12.,  0.,  0.],\n",
       "       [ 0.,  0., 10., ..., 12.,  1.,  0.]])"
      ]
     },
     "execution_count": 62,
     "metadata": {},
     "output_type": "execute_result"
    }
   ],
   "source": [
    "from sklearn.datasets import load_digits\n",
    "\n",
    "data = load_digits().data\n",
    "data"
   ]
  },
  {
   "cell_type": "code",
   "execution_count": 63,
   "id": "18719d60",
   "metadata": {
    "ExecuteTime": {
     "end_time": "2023-04-02T06:30:01.141802Z",
     "start_time": "2023-04-02T06:30:01.068734Z"
    }
   },
   "outputs": [
    {
     "name": "stdout",
     "output_type": "stream",
     "text": [
      "(60000, 784)\n",
      "(60000,)\n",
      "(10000, 784)\n",
      "(10000,)\n"
     ]
    }
   ],
   "source": [
    "from mnist import load_mnist\n",
    "\n",
    "(x_train, t_train), (x_test, t_test) = \\\n",
    "    load_mnist(flatten=True, normalize=False)\n",
    "\n",
    "# 각 데이터의 형상 출력\n",
    "print(x_train.shape)\n",
    "print(t_train.shape)\n",
    "print(x_test.shape)\n",
    "print(t_test.shape)"
   ]
  },
  {
   "cell_type": "code",
   "execution_count": 64,
   "id": "67edcb1a",
   "metadata": {
    "ExecuteTime": {
     "end_time": "2023-04-02T06:30:02.937694Z",
     "start_time": "2023-04-02T06:30:01.144039Z"
    }
   },
   "outputs": [
    {
     "name": "stdout",
     "output_type": "stream",
     "text": [
      "5\n",
      "(784,)\n",
      "(28, 28)\n"
     ]
    }
   ],
   "source": [
    "import numpy as np\n",
    "from mnist import load_mnist\n",
    "from PIL import Image\n",
    "%matplotlib inline\n",
    "\n",
    "def img_show(img):\n",
    "    pil_img = Image.fromarray(np.uint8(img))\n",
    "    pil_img.show()\n",
    "    \n",
    "(x_train, t_train), (x_test, t_test) = \\\n",
    "    load_mnist(flatten=True, normalize=False)\n",
    "\n",
    "img = x_train[0]\n",
    "label = t_train[0]\n",
    "print(label)\n",
    "\n",
    "print(img.shape)\n",
    "img = img.reshape(28, 28)\n",
    "print(img.shape)\n",
    "\n",
    "img_show(img)"
   ]
  },
  {
   "cell_type": "code",
   "execution_count": 65,
   "id": "b88d6975",
   "metadata": {
    "ExecuteTime": {
     "end_time": "2023-04-02T06:30:02.952694Z",
     "start_time": "2023-04-02T06:30:02.939694Z"
    }
   },
   "outputs": [],
   "source": [
    "def get_data():\n",
    "    (x_train, t_train), (x_test, t_test) = \\\n",
    "        load_mnist(normalize=True, flatten=True, one_hot_label=False)\n",
    "    return x_test, t_test\n",
    "\n",
    "def init_network():\n",
    "    import pickle\n",
    "    with open(\"sample_weight.pkl\", 'rb') as f:\n",
    "        network = pickle.load(f)\n",
    "        \n",
    "    return network\n",
    "\n",
    "def predict(network, x):\n",
    "    W1, W2, W3 = network['W1'], network['W2'], network['W3']\n",
    "    b1, b2, b3 = network['b1'], network['b2'], network['b3']\n",
    "    \n",
    "    a1 = np.dot(x, W1) + b1\n",
    "    z1 = sigmoid(a1)\n",
    "    a2 = np.dot(z1, W2) + b2\n",
    "    z2 = sigmoid(a2)\n",
    "    a3 = np.dot(z2, W3) + b3\n",
    "    y = softmax(a3)\n",
    "    \n",
    "    return y"
   ]
  },
  {
   "cell_type": "code",
   "execution_count": 66,
   "id": "d8312198",
   "metadata": {
    "ExecuteTime": {
     "end_time": "2023-04-02T06:30:03.631812Z",
     "start_time": "2023-04-02T06:30:02.954693Z"
    }
   },
   "outputs": [
    {
     "name": "stdout",
     "output_type": "stream",
     "text": [
      "Accuracy:0.9352\n"
     ]
    }
   ],
   "source": [
    "x, t = get_data()\n",
    "network = init_network()\n",
    "\n",
    "accuracy_cnt = 0\n",
    "for i in range(len(x)):\n",
    "    y = predict(network, x[i])\n",
    "    p = np.argmax(y)\n",
    "    if p == t[i]:\n",
    "        accuracy_cnt += 1\n",
    "        \n",
    "print(\"Accuracy:\" + str(float(accuracy_cnt) / len(x)))"
   ]
  },
  {
   "cell_type": "code",
   "execution_count": 67,
   "id": "9ff016ac",
   "metadata": {
    "ExecuteTime": {
     "end_time": "2023-04-02T06:30:03.799233Z",
     "start_time": "2023-04-02T06:30:03.633813Z"
    }
   },
   "outputs": [],
   "source": [
    "x, _ = get_data()\n",
    "network = init_network()\n",
    "W1, W2, W3 = network['W1'], network['W2'], network['W3']"
   ]
  },
  {
   "cell_type": "code",
   "execution_count": 68,
   "id": "24dea980",
   "metadata": {
    "ExecuteTime": {
     "end_time": "2023-04-02T06:30:03.814225Z",
     "start_time": "2023-04-02T06:30:03.801225Z"
    }
   },
   "outputs": [
    {
     "data": {
      "text/plain": [
       "(10000, 784)"
      ]
     },
     "execution_count": 68,
     "metadata": {},
     "output_type": "execute_result"
    }
   ],
   "source": [
    "x.shape"
   ]
  },
  {
   "cell_type": "code",
   "execution_count": 69,
   "id": "6c4203bb",
   "metadata": {
    "ExecuteTime": {
     "end_time": "2023-04-02T06:30:03.829811Z",
     "start_time": "2023-04-02T06:30:03.816225Z"
    }
   },
   "outputs": [
    {
     "data": {
      "text/plain": [
       "(784,)"
      ]
     },
     "execution_count": 69,
     "metadata": {},
     "output_type": "execute_result"
    }
   ],
   "source": [
    "x[0].shape"
   ]
  },
  {
   "cell_type": "code",
   "execution_count": 70,
   "id": "a1e47757",
   "metadata": {
    "ExecuteTime": {
     "end_time": "2023-04-02T06:30:03.844992Z",
     "start_time": "2023-04-02T06:30:03.831812Z"
    }
   },
   "outputs": [
    {
     "data": {
      "text/plain": [
       "(784, 50)"
      ]
     },
     "execution_count": 70,
     "metadata": {},
     "output_type": "execute_result"
    }
   ],
   "source": [
    "W1.shape"
   ]
  },
  {
   "cell_type": "code",
   "execution_count": 71,
   "id": "4078c869",
   "metadata": {
    "ExecuteTime": {
     "end_time": "2023-04-02T06:30:03.859741Z",
     "start_time": "2023-04-02T06:30:03.846993Z"
    }
   },
   "outputs": [
    {
     "data": {
      "text/plain": [
       "(50, 100)"
      ]
     },
     "execution_count": 71,
     "metadata": {},
     "output_type": "execute_result"
    }
   ],
   "source": [
    "W2.shape"
   ]
  },
  {
   "cell_type": "code",
   "execution_count": 72,
   "id": "0aaf6758",
   "metadata": {
    "ExecuteTime": {
     "end_time": "2023-04-02T06:30:03.874742Z",
     "start_time": "2023-04-02T06:30:03.861746Z"
    }
   },
   "outputs": [
    {
     "data": {
      "text/plain": [
       "(100, 10)"
      ]
     },
     "execution_count": 72,
     "metadata": {},
     "output_type": "execute_result"
    }
   ],
   "source": [
    "W3.shape"
   ]
  },
  {
   "cell_type": "code",
   "execution_count": 73,
   "id": "0865e196",
   "metadata": {
    "ExecuteTime": {
     "end_time": "2023-04-02T06:30:04.147156Z",
     "start_time": "2023-04-02T06:30:03.877742Z"
    }
   },
   "outputs": [
    {
     "name": "stdout",
     "output_type": "stream",
     "text": [
      "Accuracy:0.9352\n"
     ]
    }
   ],
   "source": [
    "x, t = get_data()\n",
    "network = init_network()\n",
    "\n",
    "batch_size = 100\n",
    "accuracy_cnt = 0\n",
    "\n",
    "for i in range(0, len(x), batch_size):\n",
    "    x_batch = x[i:i+batch_size]\n",
    "    y_batch = predict(network, x_batch)\n",
    "    p = np.argmax(y_batch, axis=1)\n",
    "    accuracy_cnt += np.sum(p == t[i:i+batch_size])\n",
    "    \n",
    "print(\"Accuracy:\" + str(float(accuracy_cnt) / len(x)))"
   ]
  },
  {
   "cell_type": "code",
   "execution_count": 74,
   "id": "7183b194",
   "metadata": {
    "ExecuteTime": {
     "end_time": "2023-04-02T06:30:04.162285Z",
     "start_time": "2023-04-02T06:30:04.148668Z"
    }
   },
   "outputs": [
    {
     "data": {
      "text/plain": [
       "[0, 1, 2, 3, 4, 5, 6, 7, 8, 9]"
      ]
     },
     "execution_count": 74,
     "metadata": {},
     "output_type": "execute_result"
    }
   ],
   "source": [
    "list(range(0, 10))"
   ]
  },
  {
   "cell_type": "code",
   "execution_count": 75,
   "id": "e2a5d2b7",
   "metadata": {
    "ExecuteTime": {
     "end_time": "2023-04-02T06:30:04.177266Z",
     "start_time": "2023-04-02T06:30:04.163797Z"
    }
   },
   "outputs": [
    {
     "data": {
      "text/plain": [
       "[0, 3, 6, 9]"
      ]
     },
     "execution_count": 75,
     "metadata": {},
     "output_type": "execute_result"
    }
   ],
   "source": [
    "list(range(0, 10, 3))"
   ]
  },
  {
   "cell_type": "code",
   "execution_count": 76,
   "id": "92da3fe8",
   "metadata": {
    "ExecuteTime": {
     "end_time": "2023-04-02T06:30:04.268545Z",
     "start_time": "2023-04-02T06:30:04.179269Z"
    }
   },
   "outputs": [
    {
     "name": "stdout",
     "output_type": "stream",
     "text": [
      "[[0.1 0.8 0.1]\n",
      " [0.3 0.1 0.6]\n",
      " [0.2 0.5 0.3]\n",
      " [0.8 0.1 0.1]]\n",
      "[1 2 1 0]\n"
     ]
    }
   ],
   "source": [
    "x = np.array([[0.1, 0.8, 0.1], [0.3, 0.1, 0.6], \n",
    "              [0.2, 0.5, 0.3], [0.8, 0.1, 0.1]])\n",
    "y = np.argmax(x, axis=1)\n",
    "print(x)\n",
    "print(y)"
   ]
  },
  {
   "cell_type": "code",
   "execution_count": 77,
   "id": "424a2bf1",
   "metadata": {
    "ExecuteTime": {
     "end_time": "2023-04-02T06:30:04.283560Z",
     "start_time": "2023-04-02T06:30:04.270548Z"
    },
    "scrolled": true
   },
   "outputs": [
    {
     "name": "stdout",
     "output_type": "stream",
     "text": [
      "[ True  True False  True]\n",
      "3\n"
     ]
    }
   ],
   "source": [
    "y = np.array([1, 2, 1, 0])\n",
    "t = np.array([1, 2, 0, 0])\n",
    "print(y == t)\n",
    "print(np.sum(y == t))"
   ]
  },
  {
   "cell_type": "code",
   "execution_count": 78,
   "id": "139be6af",
   "metadata": {
    "ExecuteTime": {
     "end_time": "2023-04-02T06:30:04.299075Z",
     "start_time": "2023-04-02T06:30:04.285563Z"
    }
   },
   "outputs": [],
   "source": [
    "def sum_squares_error(y, t):\n",
    "    return 0.5 * np.sum((y-t)**2)"
   ]
  },
  {
   "cell_type": "code",
   "execution_count": 79,
   "id": "690a4acb",
   "metadata": {
    "ExecuteTime": {
     "end_time": "2023-04-02T06:30:04.313885Z",
     "start_time": "2023-04-02T06:30:04.301083Z"
    }
   },
   "outputs": [
    {
     "data": {
      "text/plain": [
       "0.09750000000000003"
      ]
     },
     "execution_count": 79,
     "metadata": {},
     "output_type": "execute_result"
    }
   ],
   "source": [
    "# 정답은 '2'\n",
    "t = [0, 0, 1, 0, 0, 0, 0, 0, 0, 0]\n",
    "\n",
    "# 예1: '2'인 확률이 가장 높다고 추정함 (0.6)\n",
    "y = [0.1, 0.05, 0.6, 0.0, 0.05, 0.1, 0.0, 0.1, 0.0, 0.0]\n",
    "sum_squares_error(np.array(y), np.array(t))"
   ]
  },
  {
   "cell_type": "code",
   "execution_count": 80,
   "id": "bed1336a",
   "metadata": {
    "ExecuteTime": {
     "end_time": "2023-04-02T06:30:04.329419Z",
     "start_time": "2023-04-02T06:30:04.315887Z"
    }
   },
   "outputs": [
    {
     "data": {
      "text/plain": [
       "0.5975"
      ]
     },
     "execution_count": 80,
     "metadata": {},
     "output_type": "execute_result"
    }
   ],
   "source": [
    "# 예2: '7'일 확률이 가장 높다고 추정함 (0.6)\n",
    "y = [0.1, 0.05, 0.1, 0.0, 0.05, 0.1, 0.0, 0.6, 0.0, 0.0]\n",
    "sum_squares_error(np.array(y), np.array(t))"
   ]
  },
  {
   "cell_type": "code",
   "execution_count": 81,
   "id": "ec41f96f",
   "metadata": {
    "ExecuteTime": {
     "end_time": "2023-04-02T06:30:04.344543Z",
     "start_time": "2023-04-02T06:30:04.331419Z"
    }
   },
   "outputs": [],
   "source": [
    "def cross_entropy_error(y, t):\n",
    "    delta = 1e-7\n",
    "    return -np.sum(t * np.log(y + delta))"
   ]
  },
  {
   "cell_type": "code",
   "execution_count": 82,
   "id": "5c576aac",
   "metadata": {
    "ExecuteTime": {
     "end_time": "2023-04-02T06:30:04.374958Z",
     "start_time": "2023-04-02T06:30:04.354947Z"
    }
   },
   "outputs": [
    {
     "data": {
      "text/plain": [
       "0.510825457099338"
      ]
     },
     "execution_count": 82,
     "metadata": {},
     "output_type": "execute_result"
    }
   ],
   "source": [
    "t = [0, 0, 1, 0, 0, 0, 0, 0, 0, 0]\n",
    "y = [0.1, 0.05, 0.6, 0.0, 0.05, 0.1, 0.0, 0.1, 0.0, 0.0]\n",
    "cross_entropy_error(np.array(y), np.array(t))"
   ]
  },
  {
   "cell_type": "code",
   "execution_count": 83,
   "id": "9fc20330",
   "metadata": {
    "ExecuteTime": {
     "end_time": "2023-04-02T06:30:04.390425Z",
     "start_time": "2023-04-02T06:30:04.376956Z"
    }
   },
   "outputs": [
    {
     "data": {
      "text/plain": [
       "2.302584092994546"
      ]
     },
     "execution_count": 83,
     "metadata": {},
     "output_type": "execute_result"
    }
   ],
   "source": [
    "y = [0.1, 0.05, 0.1, 0.0, 0.05, 0.1, 0.0, 0.6, 0.0, 0.0]\n",
    "cross_entropy_error(np.array(y), np.array(t))"
   ]
  },
  {
   "cell_type": "code",
   "execution_count": 85,
   "id": "c4c8e7d6",
   "metadata": {
    "ExecuteTime": {
     "end_time": "2023-04-02T06:34:22.611142Z",
     "start_time": "2023-04-02T06:34:22.396974Z"
    }
   },
   "outputs": [
    {
     "name": "stdout",
     "output_type": "stream",
     "text": [
      "(60000, 784)\n",
      "(60000, 10)\n"
     ]
    }
   ],
   "source": [
    "import numpy as np\n",
    "from mnist import load_mnist\n",
    "\n",
    "(x_train, t_train), (x_test, t_test) = \\\n",
    "    load_mnist(normalize=True, one_hot_label=True)\n",
    "\n",
    "print(x_train.shape)\n",
    "print(t_train.shape)"
   ]
  },
  {
   "cell_type": "code",
   "execution_count": 86,
   "id": "4eb0f505",
   "metadata": {
    "ExecuteTime": {
     "end_time": "2023-04-02T06:35:41.509286Z",
     "start_time": "2023-04-02T06:35:41.481397Z"
    }
   },
   "outputs": [],
   "source": [
    "train_size = x_train.shape[0]\n",
    "batch_size = 10\n",
    "batch_mask = np.random.choice(train_size, batch_size)\n",
    "x_batch = x_train[batch_mask]\n",
    "t_batch = t_train[batch_mask]"
   ]
  },
  {
   "cell_type": "code",
   "execution_count": 88,
   "id": "4d5deebd",
   "metadata": {
    "ExecuteTime": {
     "end_time": "2023-04-02T06:36:21.514774Z",
     "start_time": "2023-04-02T06:36:21.499862Z"
    }
   },
   "outputs": [
    {
     "data": {
      "text/plain": [
       "array([19032, 11788, 37102, 47717, 19680,  3207, 23680, 24056,   241,\n",
       "       37704])"
      ]
     },
     "execution_count": 88,
     "metadata": {},
     "output_type": "execute_result"
    }
   ],
   "source": [
    "np.random.choice(60000, 10)"
   ]
  },
  {
   "cell_type": "code",
   "execution_count": 89,
   "id": "7c680c6a",
   "metadata": {
    "ExecuteTime": {
     "end_time": "2023-04-02T06:39:19.533245Z",
     "start_time": "2023-04-02T06:39:19.517886Z"
    }
   },
   "outputs": [],
   "source": [
    "def cross_entropy_error(y, t):\n",
    "    if y.ndim == 1:\n",
    "        t = t.reshape(1, t.size)\n",
    "        y = y.reshape(1, y.size)\n",
    "        \n",
    "    batch_size = y.shape[0]\n",
    "    return -np.sum(t * np.log(y + 1e-7)) / batch_size"
   ]
  },
  {
   "cell_type": "code",
   "execution_count": 102,
   "id": "6182c01e",
   "metadata": {
    "ExecuteTime": {
     "end_time": "2023-04-02T06:42:45.507928Z",
     "start_time": "2023-04-02T06:42:45.491268Z"
    }
   },
   "outputs": [],
   "source": [
    "def cross_entropy_error(y, t):\n",
    "    if y.ndim == 1:\n",
    "        t = t.reshape(1, t.size)\n",
    "        y = y.reshape(1, y.size)\n",
    "        \n",
    "    batch_size = y.shape[0]\n",
    "    return -np.sum(np.log(y[np.arange(batch_size), t] + 1e-7)) / batch_size"
   ]
  },
  {
   "cell_type": "code",
   "execution_count": 129,
   "id": "6a8d9edb",
   "metadata": {
    "ExecuteTime": {
     "end_time": "2023-04-02T07:56:24.660865Z",
     "start_time": "2023-04-02T07:56:24.655357Z"
    }
   },
   "outputs": [],
   "source": [
    "# 나쁜 구현 예\n",
    "def numerical_diff(f, x):\n",
    "    h = 10e-50\n",
    "    return (f(x+h) - f(x)) / h"
   ]
  },
  {
   "cell_type": "code",
   "execution_count": 127,
   "id": "70747d7b",
   "metadata": {
    "ExecuteTime": {
     "end_time": "2023-04-02T07:53:29.460111Z",
     "start_time": "2023-04-02T07:53:29.438624Z"
    }
   },
   "outputs": [
    {
     "data": {
      "text/plain": [
       "0.0"
      ]
     },
     "execution_count": 127,
     "metadata": {},
     "output_type": "execute_result"
    }
   ],
   "source": [
    "np.float32(1e-50)"
   ]
  },
  {
   "cell_type": "code",
   "execution_count": 130,
   "id": "c4ff5e5c",
   "metadata": {
    "ExecuteTime": {
     "end_time": "2023-04-02T07:56:30.786020Z",
     "start_time": "2023-04-02T07:56:30.771042Z"
    }
   },
   "outputs": [],
   "source": [
    "def numerical_diff(f, x):\n",
    "    h = 1e-4\n",
    "    return (f(x+h) - f(x-h)) / (2*h)"
   ]
  },
  {
   "cell_type": "code",
   "execution_count": 131,
   "id": "54505e8f",
   "metadata": {
    "ExecuteTime": {
     "end_time": "2023-04-02T08:22:23.652408Z",
     "start_time": "2023-04-02T08:22:23.645877Z"
    }
   },
   "outputs": [],
   "source": [
    "def function_1(x):\n",
    "    return 0.01*x**2 + 0.1*x"
   ]
  },
  {
   "cell_type": "code",
   "execution_count": 136,
   "id": "43c5e9ea",
   "metadata": {
    "ExecuteTime": {
     "end_time": "2023-04-02T08:23:29.787488Z",
     "start_time": "2023-04-02T08:23:29.609130Z"
    }
   },
   "outputs": [
    {
     "data": {
      "image/png": "[encoded data removed]",
      "text/plain": [
       "<Figure size 432x288 with 1 Axes>"
      ]
     },
     "metadata": {
      "needs_background": "light"
     },
     "output_type": "display_data"
    }
   ],
   "source": [
    "import numpy as np\n",
    "import matplotlib.pyplot as plt\n",
    "\n",
    "x = np.arange(0.0, 20.0, 0.1)\n",
    "y = function_1(x)\n",
    "plt.xlabel(\"x\")\n",
    "plt.ylabel(\"f(x)\")\n",
    "plt.plot(x, y)\n",
    "plt.show()"
   ]
  },
  {
   "cell_type": "code",
   "execution_count": 137,
   "id": "d7a5e875",
   "metadata": {
    "ExecuteTime": {
     "end_time": "2023-04-02T08:23:45.943086Z",
     "start_time": "2023-04-02T08:23:45.922409Z"
    }
   },
   "outputs": [
    {
     "data": {
      "text/plain": [
       "0.1999999999990898"
      ]
     },
     "execution_count": 137,
     "metadata": {},
     "output_type": "execute_result"
    }
   ],
   "source": [
    "numerical_diff(function_1, 5)"
   ]
  },
  {
   "cell_type": "code",
   "execution_count": 138,
   "id": "1a7f78dd",
   "metadata": {
    "ExecuteTime": {
     "end_time": "2023-04-02T08:23:51.942767Z",
     "start_time": "2023-04-02T08:23:51.931619Z"
    }
   },
   "outputs": [
    {
     "data": {
      "text/plain": [
       "0.2999999999986347"
      ]
     },
     "execution_count": 138,
     "metadata": {},
     "output_type": "execute_result"
    }
   ],
   "source": [
    "numerical_diff(function_1, 10)"
   ]
  },
  {
   "cell_type": "code",
   "execution_count": 143,
   "id": "a04a57be",
   "metadata": {
    "ExecuteTime": {
     "end_time": "2023-04-02T08:27:53.909564Z",
     "start_time": "2023-04-02T08:27:53.800262Z"
    }
   },
   "outputs": [
    {
     "name": "stdout",
     "output_type": "stream",
     "text": [
      "0.1999999999990898\n",
      "0.2999999999986347\n"
     ]
    },
    {
     "data": {
      "image/png": "[encoded data removed]",
      "text/plain": [
       "<Figure size 432x288 with 1 Axes>"
      ]
     },
     "metadata": {
      "needs_background": "light"
     },
     "output_type": "display_data"
    }
   ],
   "source": [
    "import numpy as np\n",
    "import matplotlib.pyplot as plt\n",
    "\n",
    "def numerical_diff(f, x):\n",
    "    h = 1e-4\n",
    "    return (f(x+h) - f(x-h)) / (2*h)\n",
    "\n",
    "def function_1(x):\n",
    "    return 0.01*x**2 + 0.1*x\n",
    "\n",
    "def tangent_line(f, x):\n",
    "    d = numerical_diff(f, x)\n",
    "    print(d)\n",
    "    y = f(x) - d*x\n",
    "    return lambda t: d*t + y\n",
    "\n",
    "x = np.arange(0.0, 20.0, 0.1)\n",
    "y = function_1(x)\n",
    "plt.xlabel(\"x\")\n",
    "plt.ylabel(\"f(x)\")\n",
    "\n",
    "tf2 = tangent_line(function_1, 5)\n",
    "tf3 = tangent_line(function_1, 10)\n",
    "y2 = tf2(x)\n",
    "y3 = tf3(x)\n",
    "\n",
    "plt.plot(x, y)\n",
    "plt.plot(x, y2)\n",
    "plt.plot(x, y3)\n",
    "plt.show()"
   ]
  },
  {
   "cell_type": "code",
   "execution_count": 144,
   "id": "e290e5ee",
   "metadata": {
    "ExecuteTime": {
     "end_time": "2023-04-02T08:30:15.221672Z",
     "start_time": "2023-04-02T08:30:15.213641Z"
    }
   },
   "outputs": [],
   "source": [
    "def function_2(x):\n",
    "    return x[0]**2 + x[1]**2\n",
    "    # 또는 return np.sum(x**2)"
   ]
  },
  {
   "cell_type": "code",
   "execution_count": 145,
   "id": "7f001c0f",
   "metadata": {
    "ExecuteTime": {
     "end_time": "2023-04-02T08:31:53.567060Z",
     "start_time": "2023-04-02T08:31:53.559521Z"
    }
   },
   "outputs": [
    {
     "data": {
      "text/plain": [
       "6.00000000000378"
      ]
     },
     "execution_count": 145,
     "metadata": {},
     "output_type": "execute_result"
    }
   ],
   "source": [
    "def function_tmp1(x0):\n",
    "    return x0*x0 + 4.0**2.0\n",
    "\n",
    "numerical_diff(function_tmp1, 3.0)"
   ]
  },
  {
   "cell_type": "code",
   "execution_count": 146,
   "id": "d4ff647b",
   "metadata": {
    "ExecuteTime": {
     "end_time": "2023-04-02T08:33:27.656178Z",
     "start_time": "2023-04-02T08:33:27.643636Z"
    }
   },
   "outputs": [
    {
     "data": {
      "text/plain": [
       "7.999999999999119"
      ]
     },
     "execution_count": 146,
     "metadata": {},
     "output_type": "execute_result"
    }
   ],
   "source": [
    "def function_tmp2(x1):\n",
    "    return 3.0**2.0 + x1*x1\n",
    "\n",
    "numerical_diff(function_tmp2, 4.0)"
   ]
  },
  {
   "cell_type": "code",
   "execution_count": 164,
   "id": "4357b62e",
   "metadata": {
    "ExecuteTime": {
     "end_time": "2023-04-02T10:18:28.624559Z",
     "start_time": "2023-04-02T10:18:28.618516Z"
    }
   },
   "outputs": [],
   "source": [
    "def numerical_gradient(f, x):\n",
    "    h = 1e-4\n",
    "    grad = np.zeros_like(x) # x와 형상이 같은 배열을 생성\n",
    "    \n",
    "    for idx in range(x.size):\n",
    "        tmp_val = x[idx]\n",
    "        # f(x+h) 계산\n",
    "        x[idx] = tmp_val + h\n",
    "        fxh1 = f(x)\n",
    "        \n",
    "        # f(x-h) 계산\n",
    "        x[idx] = tmp_val - h\n",
    "        fxh2 = f(x)\n",
    "        \n",
    "        grad[idx] = (fxh1 - fxh2) / (2*h)\n",
    "        x[idx] = tmp_val # 값 복원\n",
    "        \n",
    "    return grad"
   ]
  },
  {
   "cell_type": "code",
   "execution_count": 165,
   "id": "1c80c92c",
   "metadata": {
    "ExecuteTime": {
     "end_time": "2023-04-02T10:19:02.492473Z",
     "start_time": "2023-04-02T10:19:02.475413Z"
    }
   },
   "outputs": [
    {
     "data": {
      "text/plain": [
       "array([6., 8.])"
      ]
     },
     "execution_count": 165,
     "metadata": {},
     "output_type": "execute_result"
    }
   ],
   "source": [
    "numerical_gradient(function_2, np.array([3.0, 4.0]))"
   ]
  },
  {
   "cell_type": "code",
   "execution_count": 166,
   "id": "5ba34b83",
   "metadata": {
    "ExecuteTime": {
     "end_time": "2023-04-02T10:19:15.853138Z",
     "start_time": "2023-04-02T10:19:15.832129Z"
    }
   },
   "outputs": [
    {
     "data": {
      "text/plain": [
       "array([0., 4.])"
      ]
     },
     "execution_count": 166,
     "metadata": {},
     "output_type": "execute_result"
    }
   ],
   "source": [
    "numerical_gradient(function_2, np.array([0.0, 2.0]))"
   ]
  },
  {
   "cell_type": "code",
   "execution_count": 167,
   "id": "31c01eea",
   "metadata": {
    "ExecuteTime": {
     "end_time": "2023-04-02T10:19:25.677975Z",
     "start_time": "2023-04-02T10:19:25.661677Z"
    }
   },
   "outputs": [
    {
     "data": {
      "text/plain": [
       "array([6., 0.])"
      ]
     },
     "execution_count": 167,
     "metadata": {},
     "output_type": "execute_result"
    }
   ],
   "source": [
    "numerical_gradient(function_2, np.array([3.0, 0.0]))"
   ]
  },
  {
   "cell_type": "code",
   "execution_count": 181,
   "id": "f568aac3",
   "metadata": {
    "ExecuteTime": {
     "end_time": "2023-04-02T10:29:18.531305Z",
     "start_time": "2023-04-02T10:29:18.377850Z"
    }
   },
   "outputs": [
    {
     "data": {
      "image/png": "[encoded data removed]",
      "text/plain": [
       "<Figure size 432x288 with 1 Axes>"
      ]
     },
     "metadata": {
      "needs_background": "light"
     },
     "output_type": "display_data"
    }
   ],
   "source": [
    "import numpy as np\n",
    "import matplotlib.pyplot as plt\n",
    "from mpl_toolkits.mplot3d import Axes3D\n",
    "\n",
    "def _numerical_gradient_no_batch(f, x):\n",
    "    h = 1e-4\n",
    "    grad = np.zeros_like(x) # x와 형상이 같은 배열을 생성\n",
    "    \n",
    "    for idx in range(x.size):\n",
    "        tmp_val = x[idx]\n",
    "        \n",
    "        # f(x+h) 계산\n",
    "        x[idx] = float(tmp_val) + h\n",
    "        fxh1 = f(x)\n",
    "        \n",
    "        # f(x-h) 계산\n",
    "        x[idx] = float(tmp_val) - h\n",
    "        fxh2 = f(x)\n",
    "        \n",
    "        grad[idx] = (fxh1 - fxh2) / (2*h)\n",
    "        x[idx] = tmp_val # 값 복원\n",
    "        \n",
    "    return grad\n",
    "\n",
    "def numerical_gradient(f, X):\n",
    "    if X.ndim == 1:\n",
    "        return _numerical_gradient_no_batch(f, X)\n",
    "    else:\n",
    "        grad = np.zeros_like(X)\n",
    "        \n",
    "        for idx, x in enumerate(X):\n",
    "            grad[idx] = _numerical_gradient_no_batch(f, x)\n",
    "            \n",
    "        return grad\n",
    "    \n",
    "def function_2(x):\n",
    "    if x.ndim == 1:\n",
    "        return np.sum(x**2)\n",
    "    else:\n",
    "        return np.sum(x**2, axis=1)\n",
    "    \n",
    "def tangent_line(f, x):\n",
    "    d = numerical_gradient(f, x)\n",
    "    print(d)\n",
    "    y = f(x) - d*x\n",
    "    return lambda t: d*t + y\n",
    "\n",
    "if __name__ == '__main__':\n",
    "    x0 = np.arange(-2, 2.5, 0.25)\n",
    "    x1 = np.arange(-2, 2.5, 0.25)\n",
    "    X, Y = np.meshgrid(x0, x1)\n",
    "    \n",
    "    X = X.flatten()\n",
    "    Y = Y.flatten()\n",
    "    \n",
    "    grad = numerical_gradient(function_2, np.array([X, Y]))\n",
    "    \n",
    "    plt.figure()\n",
    "    plt.quiver(X, Y, -grad[0], -grad[1], angles=\"xy\", color=\"#666666\")\n",
    "    plt.xlim([-2, 2])\n",
    "    plt.ylim([-2, 2])\n",
    "    plt.xlabel('x0')\n",
    "    plt.ylabel('x1')\n",
    "    plt.grid()\n",
    "    plt.draw()\n",
    "    plt.show()"
   ]
  },
  {
   "cell_type": "code",
   "execution_count": 192,
   "id": "358fbbfe",
   "metadata": {
    "ExecuteTime": {
     "end_time": "2023-04-02T10:42:06.575913Z",
     "start_time": "2023-04-02T10:42:06.558300Z"
    }
   },
   "outputs": [],
   "source": [
    "def gradient_descent(f, init_x, lr=0.01, step_num=100):\n",
    "    x = init_x\n",
    "    \n",
    "    for i in range(step_num):\n",
    "        if i % 10 == 0:\n",
    "            print('step {}: {}'.format(i, x))\n",
    "        grad = numerical_gradient(f, x)\n",
    "        x -= lr * grad\n",
    "    return x"
   ]
  },
  {
   "cell_type": "code",
   "execution_count": 193,
   "id": "ee185488",
   "metadata": {
    "ExecuteTime": {
     "end_time": "2023-04-02T10:42:08.560700Z",
     "start_time": "2023-04-02T10:42:08.536060Z"
    }
   },
   "outputs": [
    {
     "name": "stdout",
     "output_type": "stream",
     "text": [
      "step 0: [-3.  4.]\n",
      "step 10: [-0.32212255  0.42949673]\n",
      "step 20: [-0.03458765  0.04611686]\n",
      "step 30: [-0.00371382  0.00495176]\n",
      "step 40: [-0.00039877  0.00053169]\n",
      "step 50: [-4.28174308e-05  5.70899077e-05]\n",
      "step 60: [-4.59748662e-06  6.12998216e-06]\n",
      "step 70: [-4.93651367e-07  6.58201823e-07]\n",
      "step 80: [-5.30054119e-08  7.06738826e-08]\n",
      "step 90: [-5.69141277e-09  7.58855036e-09]\n"
     ]
    },
    {
     "data": {
      "text/plain": [
       "array([-6.11110793e-10,  8.14814391e-10])"
      ]
     },
     "execution_count": 193,
     "metadata": {},
     "output_type": "execute_result"
    }
   ],
   "source": [
    "def function_2(x):\n",
    "    return x[0]**2 + x[1]**2\n",
    "\n",
    "init_x = np.array([-3.0, 4.0])\n",
    "gradient_descent(function_2, init_x=init_x, lr=0.1, step_num=100)"
   ]
  },
  {
   "cell_type": "code",
   "execution_count": 203,
   "id": "35412837",
   "metadata": {
    "ExecuteTime": {
     "end_time": "2023-04-02T10:46:17.012867Z",
     "start_time": "2023-04-02T10:46:16.898035Z"
    }
   },
   "outputs": [
    {
     "data": {
      "image/png": "[encoded data removed]",
      "text/plain": [
       "<Figure size 432x288 with 1 Axes>"
      ]
     },
     "metadata": {
      "needs_background": "light"
     },
     "output_type": "display_data"
    }
   ],
   "source": [
    "def gradient_descent(f, init_x, lr=0.01, step_num=100):\n",
    "    x = init_x\n",
    "    x_history = []\n",
    "    \n",
    "    for i in range(step_num):\n",
    "        x_history.append(x.copy())\n",
    "        \n",
    "        grad = numerical_gradient(f, x)\n",
    "        x -= lr * grad\n",
    "        \n",
    "    return x, np.array(x_history)\n",
    "\n",
    "def function_2(x):\n",
    "    return x[0]**2 + x[1]**2\n",
    "\n",
    "init_x = np.array([-3.0, 4.0])\n",
    "\n",
    "lr = 0.1\n",
    "step_num = 20\n",
    "x, x_history = gradient_descent(function_2, init_x, lr=lr, step_num=step_num)\n",
    "\n",
    "plt.plot([-5, 5], [0, 0], '--b')\n",
    "plt.plot([0, 0], [-5, 5], '--b')\n",
    "plt.plot(x_history[:, 0], x_history[:, 1], 'o')\n",
    "\n",
    "plt.xlim(-3.5, 3.5)\n",
    "plt.ylim(-4.5, 4.5)\n",
    "plt.xlabel(\"X0\")\n",
    "plt.ylabel(\"X1\")\n",
    "plt.show()"
   ]
  },
  {
   "cell_type": "code",
   "execution_count": 204,
   "id": "94040e1b",
   "metadata": {
    "ExecuteTime": {
     "end_time": "2023-04-02T11:01:09.849515Z",
     "start_time": "2023-04-02T11:01:09.826554Z"
    }
   },
   "outputs": [
    {
     "data": {
      "text/plain": [
       "(array([-2.58983747e+13, -1.29524862e+12]),\n",
       " array([[-3.00000000e+00,  4.00000000e+00],\n",
       "        [ 5.70000000e+01, -7.60000000e+01],\n",
       "        [-1.08300000e+03,  1.44400000e+03],\n",
       "        [ 2.05770000e+04, -2.74360000e+04],\n",
       "        [-3.90963008e+05,  5.21284002e+05],\n",
       "        [ 7.42829664e+06, -9.90439654e+06],\n",
       "        [-1.41137328e+08,  1.88183103e+08],\n",
       "        [ 2.68126267e+09, -3.57501690e+09],\n",
       "        [-5.09763373e+10,  6.79001831e+10],\n",
       "        [ 9.45170863e+11, -1.29524862e+12],\n",
       "        [-2.58983747e+13, -1.29524862e+12],\n",
       "        [-2.58983747e+13, -1.29524862e+12],\n",
       "        [-2.58983747e+13, -1.29524862e+12],\n",
       "        [-2.58983747e+13, -1.29524862e+12],\n",
       "        [-2.58983747e+13, -1.29524862e+12],\n",
       "        [-2.58983747e+13, -1.29524862e+12],\n",
       "        [-2.58983747e+13, -1.29524862e+12],\n",
       "        [-2.58983747e+13, -1.29524862e+12],\n",
       "        [-2.58983747e+13, -1.29524862e+12],\n",
       "        [-2.58983747e+13, -1.29524862e+12],\n",
       "        [-2.58983747e+13, -1.29524862e+12],\n",
       "        [-2.58983747e+13, -1.29524862e+12],\n",
       "        [-2.58983747e+13, -1.29524862e+12],\n",
       "        [-2.58983747e+13, -1.29524862e+12],\n",
       "        [-2.58983747e+13, -1.29524862e+12],\n",
       "        [-2.58983747e+13, -1.29524862e+12],\n",
       "        [-2.58983747e+13, -1.29524862e+12],\n",
       "        [-2.58983747e+13, -1.29524862e+12],\n",
       "        [-2.58983747e+13, -1.29524862e+12],\n",
       "        [-2.58983747e+13, -1.29524862e+12],\n",
       "        [-2.58983747e+13, -1.29524862e+12],\n",
       "        [-2.58983747e+13, -1.29524862e+12],\n",
       "        [-2.58983747e+13, -1.29524862e+12],\n",
       "        [-2.58983747e+13, -1.29524862e+12],\n",
       "        [-2.58983747e+13, -1.29524862e+12],\n",
       "        [-2.58983747e+13, -1.29524862e+12],\n",
       "        [-2.58983747e+13, -1.29524862e+12],\n",
       "        [-2.58983747e+13, -1.29524862e+12],\n",
       "        [-2.58983747e+13, -1.29524862e+12],\n",
       "        [-2.58983747e+13, -1.29524862e+12],\n",
       "        [-2.58983747e+13, -1.29524862e+12],\n",
       "        [-2.58983747e+13, -1.29524862e+12],\n",
       "        [-2.58983747e+13, -1.29524862e+12],\n",
       "        [-2.58983747e+13, -1.29524862e+12],\n",
       "        [-2.58983747e+13, -1.29524862e+12],\n",
       "        [-2.58983747e+13, -1.29524862e+12],\n",
       "        [-2.58983747e+13, -1.29524862e+12],\n",
       "        [-2.58983747e+13, -1.29524862e+12],\n",
       "        [-2.58983747e+13, -1.29524862e+12],\n",
       "        [-2.58983747e+13, -1.29524862e+12],\n",
       "        [-2.58983747e+13, -1.29524862e+12],\n",
       "        [-2.58983747e+13, -1.29524862e+12],\n",
       "        [-2.58983747e+13, -1.29524862e+12],\n",
       "        [-2.58983747e+13, -1.29524862e+12],\n",
       "        [-2.58983747e+13, -1.29524862e+12],\n",
       "        [-2.58983747e+13, -1.29524862e+12],\n",
       "        [-2.58983747e+13, -1.29524862e+12],\n",
       "        [-2.58983747e+13, -1.29524862e+12],\n",
       "        [-2.58983747e+13, -1.29524862e+12],\n",
       "        [-2.58983747e+13, -1.29524862e+12],\n",
       "        [-2.58983747e+13, -1.29524862e+12],\n",
       "        [-2.58983747e+13, -1.29524862e+12],\n",
       "        [-2.58983747e+13, -1.29524862e+12],\n",
       "        [-2.58983747e+13, -1.29524862e+12],\n",
       "        [-2.58983747e+13, -1.29524862e+12],\n",
       "        [-2.58983747e+13, -1.29524862e+12],\n",
       "        [-2.58983747e+13, -1.29524862e+12],\n",
       "        [-2.58983747e+13, -1.29524862e+12],\n",
       "        [-2.58983747e+13, -1.29524862e+12],\n",
       "        [-2.58983747e+13, -1.29524862e+12],\n",
       "        [-2.58983747e+13, -1.29524862e+12],\n",
       "        [-2.58983747e+13, -1.29524862e+12],\n",
       "        [-2.58983747e+13, -1.29524862e+12],\n",
       "        [-2.58983747e+13, -1.29524862e+12],\n",
       "        [-2.58983747e+13, -1.29524862e+12],\n",
       "        [-2.58983747e+13, -1.29524862e+12],\n",
       "        [-2.58983747e+13, -1.29524862e+12],\n",
       "        [-2.58983747e+13, -1.29524862e+12],\n",
       "        [-2.58983747e+13, -1.29524862e+12],\n",
       "        [-2.58983747e+13, -1.29524862e+12],\n",
       "        [-2.58983747e+13, -1.29524862e+12],\n",
       "        [-2.58983747e+13, -1.29524862e+12],\n",
       "        [-2.58983747e+13, -1.29524862e+12],\n",
       "        [-2.58983747e+13, -1.29524862e+12],\n",
       "        [-2.58983747e+13, -1.29524862e+12],\n",
       "        [-2.58983747e+13, -1.29524862e+12],\n",
       "        [-2.58983747e+13, -1.29524862e+12],\n",
       "        [-2.58983747e+13, -1.29524862e+12],\n",
       "        [-2.58983747e+13, -1.29524862e+12],\n",
       "        [-2.58983747e+13, -1.29524862e+12],\n",
       "        [-2.58983747e+13, -1.29524862e+12],\n",
       "        [-2.58983747e+13, -1.29524862e+12],\n",
       "        [-2.58983747e+13, -1.29524862e+12],\n",
       "        [-2.58983747e+13, -1.29524862e+12],\n",
       "        [-2.58983747e+13, -1.29524862e+12],\n",
       "        [-2.58983747e+13, -1.29524862e+12],\n",
       "        [-2.58983747e+13, -1.29524862e+12],\n",
       "        [-2.58983747e+13, -1.29524862e+12],\n",
       "        [-2.58983747e+13, -1.29524862e+12],\n",
       "        [-2.58983747e+13, -1.29524862e+12]]))"
      ]
     },
     "execution_count": 204,
     "metadata": {},
     "output_type": "execute_result"
    }
   ],
   "source": [
    "# 학습률이 너무 큰 예: lr=10.0\n",
    "init_x = np.array([-3.0, 4.0])\n",
    "gradient_descent(function_2, init_x=init_x, lr=10.0, step_num=100)"
   ]
  },
  {
   "cell_type": "code",
   "execution_count": 205,
   "id": "a2af0a06",
   "metadata": {
    "ExecuteTime": {
     "end_time": "2023-04-02T11:01:48.170072Z",
     "start_time": "2023-04-02T11:01:48.150027Z"
    }
   },
   "outputs": [
    {
     "data": {
      "text/plain": [
       "(array([-2.99999994,  3.99999992]),\n",
       " array([[-3.        ,  4.        ],\n",
       "        [-3.        ,  4.        ],\n",
       "        [-3.        ,  4.        ],\n",
       "        [-3.        ,  4.        ],\n",
       "        [-3.        ,  4.        ],\n",
       "        [-3.        ,  4.        ],\n",
       "        [-3.        ,  4.        ],\n",
       "        [-3.        ,  3.99999999],\n",
       "        [-3.        ,  3.99999999],\n",
       "        [-2.99999999,  3.99999999],\n",
       "        [-2.99999999,  3.99999999],\n",
       "        [-2.99999999,  3.99999999],\n",
       "        [-2.99999999,  3.99999999],\n",
       "        [-2.99999999,  3.99999999],\n",
       "        [-2.99999999,  3.99999999],\n",
       "        [-2.99999999,  3.99999999],\n",
       "        [-2.99999999,  3.99999999],\n",
       "        [-2.99999999,  3.99999999],\n",
       "        [-2.99999999,  3.99999999],\n",
       "        [-2.99999999,  3.99999998],\n",
       "        [-2.99999999,  3.99999998],\n",
       "        [-2.99999999,  3.99999998],\n",
       "        [-2.99999999,  3.99999998],\n",
       "        [-2.99999999,  3.99999998],\n",
       "        [-2.99999999,  3.99999998],\n",
       "        [-2.99999998,  3.99999998],\n",
       "        [-2.99999998,  3.99999998],\n",
       "        [-2.99999998,  3.99999998],\n",
       "        [-2.99999998,  3.99999998],\n",
       "        [-2.99999998,  3.99999998],\n",
       "        [-2.99999998,  3.99999998],\n",
       "        [-2.99999998,  3.99999998],\n",
       "        [-2.99999998,  3.99999997],\n",
       "        [-2.99999998,  3.99999997],\n",
       "        [-2.99999998,  3.99999997],\n",
       "        [-2.99999998,  3.99999997],\n",
       "        [-2.99999998,  3.99999997],\n",
       "        [-2.99999998,  3.99999997],\n",
       "        [-2.99999998,  3.99999997],\n",
       "        [-2.99999998,  3.99999997],\n",
       "        [-2.99999998,  3.99999997],\n",
       "        [-2.99999998,  3.99999997],\n",
       "        [-2.99999997,  3.99999997],\n",
       "        [-2.99999997,  3.99999997],\n",
       "        [-2.99999997,  3.99999996],\n",
       "        [-2.99999997,  3.99999996],\n",
       "        [-2.99999997,  3.99999996],\n",
       "        [-2.99999997,  3.99999996],\n",
       "        [-2.99999997,  3.99999996],\n",
       "        [-2.99999997,  3.99999996],\n",
       "        [-2.99999997,  3.99999996],\n",
       "        [-2.99999997,  3.99999996],\n",
       "        [-2.99999997,  3.99999996],\n",
       "        [-2.99999997,  3.99999996],\n",
       "        [-2.99999997,  3.99999996],\n",
       "        [-2.99999997,  3.99999996],\n",
       "        [-2.99999997,  3.99999996],\n",
       "        [-2.99999997,  3.99999995],\n",
       "        [-2.99999997,  3.99999995],\n",
       "        [-2.99999996,  3.99999995],\n",
       "        [-2.99999996,  3.99999995],\n",
       "        [-2.99999996,  3.99999995],\n",
       "        [-2.99999996,  3.99999995],\n",
       "        [-2.99999996,  3.99999995],\n",
       "        [-2.99999996,  3.99999995],\n",
       "        [-2.99999996,  3.99999995],\n",
       "        [-2.99999996,  3.99999995],\n",
       "        [-2.99999996,  3.99999995],\n",
       "        [-2.99999996,  3.99999995],\n",
       "        [-2.99999996,  3.99999994],\n",
       "        [-2.99999996,  3.99999994],\n",
       "        [-2.99999996,  3.99999994],\n",
       "        [-2.99999996,  3.99999994],\n",
       "        [-2.99999996,  3.99999994],\n",
       "        [-2.99999996,  3.99999994],\n",
       "        [-2.99999995,  3.99999994],\n",
       "        [-2.99999995,  3.99999994],\n",
       "        [-2.99999995,  3.99999994],\n",
       "        [-2.99999995,  3.99999994],\n",
       "        [-2.99999995,  3.99999994],\n",
       "        [-2.99999995,  3.99999994],\n",
       "        [-2.99999995,  3.99999994],\n",
       "        [-2.99999995,  3.99999993],\n",
       "        [-2.99999995,  3.99999993],\n",
       "        [-2.99999995,  3.99999993],\n",
       "        [-2.99999995,  3.99999993],\n",
       "        [-2.99999995,  3.99999993],\n",
       "        [-2.99999995,  3.99999993],\n",
       "        [-2.99999995,  3.99999993],\n",
       "        [-2.99999995,  3.99999993],\n",
       "        [-2.99999995,  3.99999993],\n",
       "        [-2.99999995,  3.99999993],\n",
       "        [-2.99999994,  3.99999993],\n",
       "        [-2.99999994,  3.99999993],\n",
       "        [-2.99999994,  3.99999992],\n",
       "        [-2.99999994,  3.99999992],\n",
       "        [-2.99999994,  3.99999992],\n",
       "        [-2.99999994,  3.99999992],\n",
       "        [-2.99999994,  3.99999992],\n",
       "        [-2.99999994,  3.99999992]]))"
      ]
     },
     "execution_count": 205,
     "metadata": {},
     "output_type": "execute_result"
    }
   ],
   "source": [
    "# 학습률이 너쿠 작은 예: lr=1e-10\n",
    "init_x = np.array([-3.0, 4.0])\n",
    "gradient_descent(function_2, init_x=init_x, lr=1e-10, step_num=100)"
   ]
  },
  {
   "cell_type": "code",
   "execution_count": 212,
   "id": "ee152c93",
   "metadata": {
    "ExecuteTime": {
     "end_time": "2023-04-02T13:03:16.880902Z",
     "start_time": "2023-04-02T13:03:16.856931Z"
    }
   },
   "outputs": [],
   "source": [
    "import numpy as np\n",
    "\n",
    "def _numerical_gradient_1d(f, x):\n",
    "    h = 1e-4\n",
    "    grad = np.zeros_like(x)\n",
    "    \n",
    "    for idx in range(x.size):\n",
    "        tmp_val = x[idx]\n",
    "        x[idx] = float(tmp_val) + h\n",
    "        fxh1 = f(x) # f(x+h)\n",
    "        \n",
    "        x[idx] = float(tmp_val) - h\n",
    "        fxh2 = f(x) # f(x-h)\n",
    "        grad[idx] = (fxh1 - fxh2) / (2*h)\n",
    "        \n",
    "        x[idx] = tmp_val # 값 복원\n",
    "        \n",
    "    return grad\n",
    "\n",
    "def numerical_gradient_2d(f, X):\n",
    "    if X.ndim == 1:\n",
    "        return _numerical_gradient_1d(f, X)\n",
    "    else:\n",
    "        grad = np.zeros_like(X)\n",
    "        \n",
    "        for idx, x in enumerate(X):\n",
    "            grad[idx] = _numerical_gradient_1d(f, x)\n",
    "            \n",
    "        return grad\n",
    "    \n",
    "def numerical_gradient(f, x):\n",
    "    h = 1e-4\n",
    "    grad = np.zeros_like(x)\n",
    "    \n",
    "    it = np.nditer(x, flags=['multi_index'], op_flags=['readwrite'])\n",
    "    while not it.finished:\n",
    "        idx = it.multi_index\n",
    "        tmp_val = x[idx]\n",
    "        x[idx] = float(tmp_val) + h\n",
    "        fxh1 = f(x) # f(x_h)\n",
    "        \n",
    "        x[idx] = float(tmp_val) - h\n",
    "        fxh2 = f(x) # f(x-h)\n",
    "        grad[idx] = (fxh1 - fxh2) / (2*h)\n",
    "        \n",
    "        x[idx] = tmp_val # 값 복원\n",
    "        it.iternext()\n",
    "        \n",
    "    return grad"
   ]
  },
  {
   "cell_type": "code",
   "execution_count": 226,
   "id": "3af01f45",
   "metadata": {
    "ExecuteTime": {
     "end_time": "2023-04-02T13:30:44.072456Z",
     "start_time": "2023-04-02T13:30:44.053889Z"
    }
   },
   "outputs": [],
   "source": [
    "def softmax(x):\n",
    "    if x.ndim == 2:\n",
    "        x = x.T\n",
    "        x = x - np.max(x, axis=0)\n",
    "        y = np.exp(x) / np.sum(np.exp(x), axis=0)\n",
    "        return y.T\n",
    "    \n",
    "    x = x - np.max(x)\n",
    "    return np.exp(x) / np.sum(np.exp(x))\n",
    "    \n",
    "def cross_entropy_error(y, t):\n",
    "    if y.ndim == 1:\n",
    "        t = t.reshape(1, t.size)\n",
    "        y = y.reshape(1, y.size)\n",
    "        \n",
    "    # 훈련 데이터가 원-핫 벡터라면 정답 레이블의 인덱스로 반환\n",
    "    if t.size == y.size:\n",
    "        t = t.argmax(axis=1)\n",
    "        \n",
    "    batch_size = y.shape[0]\n",
    "    return -np.sum(np.log(y[np.arange(batch_size), t] + 1e-7)) / batch_size\n",
    "\n",
    "def sigmoid_grad(x):\n",
    "    return (1.0 - sigmoid(x)) * sigmoid(x)"
   ]
  },
  {
   "cell_type": "code",
   "execution_count": 214,
   "id": "47d77173",
   "metadata": {
    "ExecuteTime": {
     "end_time": "2023-04-02T13:03:20.229735Z",
     "start_time": "2023-04-02T13:03:20.216559Z"
    }
   },
   "outputs": [],
   "source": [
    "import numpy as np\n",
    "\n",
    "class simpleNet:\n",
    "    def __init__(self):\n",
    "        self.W = np.random.randn(2, 3) # 정규분포로 초기화\n",
    "        \n",
    "    def predict(self, x):\n",
    "        return np.dot(x, self.W)\n",
    "    \n",
    "    def loss(self, x, t):\n",
    "        z = self.predict(x)\n",
    "        y = softmax(z)\n",
    "        loss = cross_entropy_error(y, t)\n",
    "        \n",
    "        return loss"
   ]
  },
  {
   "cell_type": "code",
   "execution_count": 215,
   "id": "f08ca5d7",
   "metadata": {
    "ExecuteTime": {
     "end_time": "2023-04-02T13:04:09.398221Z",
     "start_time": "2023-04-02T13:04:09.393711Z"
    }
   },
   "outputs": [
    {
     "name": "stdout",
     "output_type": "stream",
     "text": [
      "[[-0.17887699 -0.00494308 -1.62872091]\n",
      " [ 0.2834537  -1.41932615 -0.42362394]]\n"
     ]
    }
   ],
   "source": [
    "net = simpleNet()\n",
    "print(net.W) # 가중치 매개변수"
   ]
  },
  {
   "cell_type": "code",
   "execution_count": 216,
   "id": "9420feaa",
   "metadata": {
    "ExecuteTime": {
     "end_time": "2023-04-02T13:12:06.482438Z",
     "start_time": "2023-04-02T13:12:06.473370Z"
    }
   },
   "outputs": [
    {
     "name": "stdout",
     "output_type": "stream",
     "text": [
      "[ 0.14778214 -1.28035938 -1.35849409]\n"
     ]
    }
   ],
   "source": [
    "x = np.array([0.6, 0.9])\n",
    "p = net.predict(x)\n",
    "print(p)"
   ]
  },
  {
   "cell_type": "code",
   "execution_count": 219,
   "id": "bec73c13",
   "metadata": {
    "ExecuteTime": {
     "end_time": "2023-04-02T13:12:47.557914Z",
     "start_time": "2023-04-02T13:12:47.545677Z"
    }
   },
   "outputs": [
    {
     "data": {
      "text/plain": [
       "0"
      ]
     },
     "execution_count": 219,
     "metadata": {},
     "output_type": "execute_result"
    }
   ],
   "source": [
    "np.argmax(p) # 최댓값의 인덱스"
   ]
  },
  {
   "cell_type": "code",
   "execution_count": 220,
   "id": "c0cbd339",
   "metadata": {
    "ExecuteTime": {
     "end_time": "2023-04-02T13:13:14.858201Z",
     "start_time": "2023-04-02T13:13:14.851010Z"
    }
   },
   "outputs": [
    {
     "data": {
      "text/plain": [
       "1.8857308093424705"
      ]
     },
     "execution_count": 220,
     "metadata": {},
     "output_type": "execute_result"
    }
   ],
   "source": [
    "t  = np.array([0, 0, 1]) # 정답 레이블\n",
    "net.loss(x, t)"
   ]
  },
  {
   "cell_type": "code",
   "execution_count": 223,
   "id": "de768f05",
   "metadata": {
    "ExecuteTime": {
     "end_time": "2023-04-02T13:15:10.661971Z",
     "start_time": "2023-04-02T13:15:10.632736Z"
    }
   },
   "outputs": [
    {
     "name": "stdout",
     "output_type": "stream",
     "text": [
      "[[ 0.41054016  0.09842868 -0.50896884]\n",
      " [ 0.61581024  0.14764302 -0.76345326]]\n"
     ]
    }
   ],
   "source": [
    "def f(W):\n",
    "    return net.loss(x, t)\n",
    "\n",
    "dW = numerical_gradient(f, net.W)\n",
    "print(dW)"
   ]
  },
  {
   "cell_type": "code",
   "execution_count": 224,
   "id": "100f40aa",
   "metadata": {
    "ExecuteTime": {
     "end_time": "2023-04-02T13:17:01.038201Z",
     "start_time": "2023-04-02T13:17:01.029070Z"
    }
   },
   "outputs": [],
   "source": [
    "f = lambda w: net.loss(x, t)\n",
    "dW = numerical_gradient(f, net.W)"
   ]
  },
  {
   "cell_type": "code",
   "execution_count": 225,
   "id": "ec654c1c",
   "metadata": {
    "ExecuteTime": {
     "end_time": "2023-04-02T13:17:05.073806Z",
     "start_time": "2023-04-02T13:17:05.055777Z"
    }
   },
   "outputs": [
    {
     "name": "stdout",
     "output_type": "stream",
     "text": [
      "[[ 0.41054016  0.09842868 -0.50896884]\n",
      " [ 0.61581024  0.14764302 -0.76345326]]\n"
     ]
    }
   ],
   "source": [
    "print(dW)"
   ]
  },
  {
   "cell_type": "code",
   "execution_count": 227,
   "id": "2b7de87a",
   "metadata": {
    "ExecuteTime": {
     "end_time": "2023-04-02T13:31:29.771821Z",
     "start_time": "2023-04-02T13:31:29.759937Z"
    }
   },
   "outputs": [],
   "source": [
    "class TwoLayerNet:\n",
    "    \n",
    "    def __init__(self, input_size, hidden_size, output_size, weight_init_std=0.01):\n",
    "        # 가중치 초기화\n",
    "        self.params = {}\n",
    "        self.params['W1'] = weight_init_std * np.random.randn(input_size, hidden_size)\n",
    "        self.params['b1'] = np.zeros(hidden_size)\n",
    "        self.params['W2'] = weight_init_std * np.random.randn(hidden_size, output_size)\n",
    "        self.params['b2'] = np.zeros(output_size)\n",
    "        \n",
    "    def predict(self, x):\n",
    "        W1, W2 = self.params['W1'], self.params['W2']\n",
    "        b1, b2 = self.params['b1'], self.params['b2']\n",
    "        \n",
    "        a1 = np.dot(x, W1) + b1\n",
    "        z1 = sigmoid(a1)\n",
    "        a2 = np.dot(z1, W2) + b2\n",
    "        y = softmax(a2)\n",
    "        \n",
    "        return y\n",
    "    \n",
    "    # x: 입력 데이터, t: 정답 레이블\n",
    "    def loss(self, x, t):\n",
    "        y = self.predict(x)\n",
    "        \n",
    "        return cross_entropy_error(y, t)\n",
    "    \n",
    "    def accuracy(self, x, t):\n",
    "        y = self.predict(x)\n",
    "        y = np.argmax(y, axis=1)\n",
    "        t = np.argmax(t, axis=1)\n",
    "        \n",
    "        accuracy = np.sum(y == t) / float(x.shape[0])\n",
    "        return accuracy\n",
    "    \n",
    "    # x: 입력 데이터, t: 정답 레이블\n",
    "    def numerical_gradient(self, x, t):\n",
    "        loss_W = lambda W: self.loss(x, t)\n",
    "        \n",
    "        grads = {}\n",
    "        grads['W1'] = numerical_gradient(loss_W, self.params['W1'])\n",
    "        grads['b1'] = numerical_gradient(loss_W, self.params['b1'])\n",
    "        grads['W2'] = numerical_gradient(loss_W, self.params['W2'])\n",
    "        grads['b2'] = numerical_gradient(loss_W, self.params['b2'])\n",
    "        \n",
    "        return grads\n",
    "    \n",
    "    def gradient(self, x, t):\n",
    "        W1, W2 = self.params['W1'], self.params['W2']\n",
    "        b1, b2 = self.params['b1'], self.params['b2']\n",
    "        grads = {}\n",
    "        \n",
    "        batch_num = x.shape[0]\n",
    "        \n",
    "        # forward\n",
    "        a1 = np.dot(x, W1) + b1\n",
    "        z1 = sigmoid(a1)\n",
    "        a2 = np.dot(z1, W2) + b2\n",
    "        y = softmax(a2)\n",
    "        \n",
    "        # backward\n",
    "        dy = (y - t) / batch_num\n",
    "        grads['W2'] = np.dot(z1.T, dy)\n",
    "        grads['b2'] = np.sum(dy, axis=0)\n",
    "        \n",
    "        da1 = np.dot(dy, W2.T)\n",
    "        dz1 = sigmoid_grad(a1) * da1\n",
    "        grads['W1'] = np.dot(x.T, dz1)\n",
    "        grads['b1'] = np.sum(dz1, axis=0)\n",
    "        \n",
    "        return grads"
   ]
  }
 ],
 "metadata": {
  "kernelspec": {
   "display_name": "myenv",
   "language": "python",
   "name": "myenv"
  },
  "language_info": {
   "codemirror_mode": {
    "name": "ipython",
    "version": 3
   },
   "file_extension": ".py",
   "mimetype": "text/x-python",
   "name": "python",
   "nbconvert_exporter": "python",
   "pygments_lexer": "ipython3",
   "version": "3.8.13"
  },
  "toc": {
   "base_numbering": 1,
   "nav_menu": {},
   "number_sections": true,
   "sideBar": true,
   "skip_h1_title": false,
   "title_cell": "Table of Contents",
   "title_sidebar": "Contents",
   "toc_cell": false,
   "toc_position": {},
   "toc_section_display": true,
   "toc_window_display": false
  }
 },
 "nbformat": 4,
 "nbformat_minor": 5
}
