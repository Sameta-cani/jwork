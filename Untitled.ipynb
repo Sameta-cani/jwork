{
 "cells": [
  {
   "cell_type": "code",
   "execution_count": 1,
   "id": "d3787e88",
   "metadata": {
    "ExecuteTime": {
     "end_time": "2023-03-29T14:29:39.836985Z",
     "start_time": "2023-03-29T14:29:39.825161Z"
    }
   },
   "outputs": [],
   "source": [
    "def AND(x1, x2):\n",
    "    w1, w2, theta = 0.5, 0.5, 0.7\n",
    "    tmp = x1*w1 + x2*w2    \n",
    "    if tmp <= theta:\n",
    "        return 0\n",
    "    elif tmp > theta:\n",
    "        return 1"
   ]
  },
  {
   "cell_type": "code",
   "execution_count": 2,
   "id": "eee8c233",
   "metadata": {
    "ExecuteTime": {
     "end_time": "2023-03-29T14:29:39.867607Z",
     "start_time": "2023-03-29T14:29:39.839517Z"
    }
   },
   "outputs": [
    {
     "name": "stdout",
     "output_type": "stream",
     "text": [
      "AND(0, 0): 0\n",
      "AND(0, 1): 0\n",
      "AND(1, 0): 0\n",
      "AND(1, 1): 1\n"
     ]
    }
   ],
   "source": [
    "xs = [0, 1]\n",
    "\n",
    "for x1 in xs:\n",
    "    for x2 in xs:\n",
    "        print(\"AND({}, {}): {}\".format(x1, x2, AND(x1, x2)))"
   ]
  },
  {
   "cell_type": "code",
   "execution_count": 3,
   "id": "07e4c3db",
   "metadata": {
    "ExecuteTime": {
     "end_time": "2023-03-29T14:29:40.231653Z",
     "start_time": "2023-03-29T14:29:39.869604Z"
    }
   },
   "outputs": [
    {
     "name": "stdout",
     "output_type": "stream",
     "text": [
      "[0.  0.5]\n"
     ]
    }
   ],
   "source": [
    "import numpy as np\n",
    "x = np.array([0, 1]) # 입력\n",
    "w = np.array([0.5, 0.5]) # 가중치\n",
    "b = -0.7\n",
    "\n",
    "print(w * x)"
   ]
  },
  {
   "cell_type": "code",
   "execution_count": 4,
   "id": "32d92adc",
   "metadata": {
    "ExecuteTime": {
     "end_time": "2023-03-29T14:29:40.262072Z",
     "start_time": "2023-03-29T14:29:40.234653Z"
    }
   },
   "outputs": [
    {
     "data": {
      "text/plain": [
       "0.5"
      ]
     },
     "execution_count": 4,
     "metadata": {},
     "output_type": "execute_result"
    }
   ],
   "source": [
    "np.sum(w*x)"
   ]
  },
  {
   "cell_type": "code",
   "execution_count": 5,
   "id": "be621a46",
   "metadata": {
    "ExecuteTime": {
     "end_time": "2023-03-29T14:29:40.277083Z",
     "start_time": "2023-03-29T14:29:40.264081Z"
    }
   },
   "outputs": [
    {
     "data": {
      "text/plain": [
       "-0.19999999999999996"
      ]
     },
     "execution_count": 5,
     "metadata": {},
     "output_type": "execute_result"
    }
   ],
   "source": [
    "np.sum(w*x) + b"
   ]
  },
  {
   "cell_type": "code",
   "execution_count": 6,
   "id": "64a2b7c4",
   "metadata": {
    "ExecuteTime": {
     "end_time": "2023-03-29T14:29:40.307593Z",
     "start_time": "2023-03-29T14:29:40.280079Z"
    }
   },
   "outputs": [
    {
     "data": {
      "text/plain": [
       "0.5"
      ]
     },
     "execution_count": 6,
     "metadata": {},
     "output_type": "execute_result"
    }
   ],
   "source": [
    "np.dot(w, x)"
   ]
  },
  {
   "cell_type": "code",
   "execution_count": 7,
   "id": "1968fd6c",
   "metadata": {
    "ExecuteTime": {
     "end_time": "2023-03-29T14:29:40.322593Z",
     "start_time": "2023-03-29T14:29:40.309596Z"
    }
   },
   "outputs": [],
   "source": [
    "def AND(x1, x2):\n",
    "    x = np.array([x1, x2])\n",
    "    w = np.array([0.5, 0.5])\n",
    "    b = -0.7\n",
    "    tmp = np.sum(w*x) + b\n",
    "    if tmp <= 0:\n",
    "        return 0\n",
    "    else:\n",
    "        return 1"
   ]
  },
  {
   "cell_type": "code",
   "execution_count": 8,
   "id": "455a31d1",
   "metadata": {
    "ExecuteTime": {
     "end_time": "2023-03-29T14:29:40.337604Z",
     "start_time": "2023-03-29T14:29:40.324595Z"
    }
   },
   "outputs": [],
   "source": [
    "def NAND(x1, x2):\n",
    "    x = np.array([x1, x2])\n",
    "    w = np.array([-0.5, -0.5]) # AND와는 가중치(w와 b)만 다르다!\n",
    "    b = 0.7\n",
    "    tmp = np.dot(w, x) + b\n",
    "    if tmp <= 0:\n",
    "        return 0\n",
    "    else:\n",
    "        return 1\n",
    "\n",
    "def OR(x1, x2):\n",
    "    x = np.array([x1, x2])\n",
    "    w = np.array([0.5, 0.5]) # AND와는 가중치(w와 b)만 다르다!\n",
    "    b = -0.2\n",
    "    tmp = np.dot(w, x) + b\n",
    "    if tmp <= 0:\n",
    "        return 0\n",
    "    else:\n",
    "        return 1"
   ]
  },
  {
   "cell_type": "code",
   "execution_count": 9,
   "id": "94f2ab96",
   "metadata": {
    "ExecuteTime": {
     "end_time": "2023-03-29T14:29:40.353125Z",
     "start_time": "2023-03-29T14:29:40.339601Z"
    }
   },
   "outputs": [],
   "source": [
    "def XOR(x1, x2):\n",
    "    s1 = NAND(x1, x2)\n",
    "    s2 = OR(x1, x2)\n",
    "    y = AND(s1, s2)\n",
    "    return y"
   ]
  },
  {
   "cell_type": "code",
   "execution_count": 10,
   "id": "7fe7ad8a",
   "metadata": {
    "ExecuteTime": {
     "end_time": "2023-03-29T14:29:40.367924Z",
     "start_time": "2023-03-29T14:29:40.357547Z"
    }
   },
   "outputs": [
    {
     "name": "stdout",
     "output_type": "stream",
     "text": [
      "XOR(0, 0): 0\n",
      "XOR(0, 1): 1\n",
      "XOR(1, 0): 1\n",
      "XOR(1, 1): 0\n"
     ]
    }
   ],
   "source": [
    "for x1 in xs:\n",
    "    for x2 in xs:\n",
    "        print('XOR({}, {}): {}'.format(x1, x2, XOR(x1, x2)))"
   ]
  },
  {
   "cell_type": "code",
   "execution_count": 11,
   "id": "d39cd215",
   "metadata": {
    "ExecuteTime": {
     "end_time": "2023-03-29T14:29:40.383009Z",
     "start_time": "2023-03-29T14:29:40.370440Z"
    }
   },
   "outputs": [],
   "source": [
    "def step_function(x):\n",
    "    if x > 0:\n",
    "        return 1\n",
    "    else:\n",
    "        return 0"
   ]
  },
  {
   "cell_type": "code",
   "execution_count": 12,
   "id": "73c512c5",
   "metadata": {
    "ExecuteTime": {
     "end_time": "2023-03-29T14:29:40.398488Z",
     "start_time": "2023-03-29T14:29:40.385010Z"
    }
   },
   "outputs": [],
   "source": [
    "def step_function(x):\n",
    "    y = x > 0\n",
    "    return y.astype(int)"
   ]
  },
  {
   "cell_type": "code",
   "execution_count": 13,
   "id": "8186d746",
   "metadata": {
    "ExecuteTime": {
     "end_time": "2023-03-29T14:29:40.414026Z",
     "start_time": "2023-03-29T14:29:40.401009Z"
    }
   },
   "outputs": [
    {
     "data": {
      "text/plain": [
       "array([-1.,  1.,  2.])"
      ]
     },
     "execution_count": 13,
     "metadata": {},
     "output_type": "execute_result"
    }
   ],
   "source": [
    "import numpy as np\n",
    "x = np.array([-1.0, 1.0, 2.0])\n",
    "x"
   ]
  },
  {
   "cell_type": "code",
   "execution_count": 14,
   "id": "1bc4e603",
   "metadata": {
    "ExecuteTime": {
     "end_time": "2023-03-29T14:29:40.428873Z",
     "start_time": "2023-03-29T14:29:40.417010Z"
    }
   },
   "outputs": [
    {
     "data": {
      "text/plain": [
       "array([False,  True,  True])"
      ]
     },
     "execution_count": 14,
     "metadata": {},
     "output_type": "execute_result"
    }
   ],
   "source": [
    "y = x > 0\n",
    "y"
   ]
  },
  {
   "cell_type": "code",
   "execution_count": 15,
   "id": "0f21a8a2",
   "metadata": {
    "ExecuteTime": {
     "end_time": "2023-03-29T14:29:40.443887Z",
     "start_time": "2023-03-29T14:29:40.430890Z"
    }
   },
   "outputs": [
    {
     "data": {
      "text/plain": [
       "array([0, 1, 1])"
      ]
     },
     "execution_count": 15,
     "metadata": {},
     "output_type": "execute_result"
    }
   ],
   "source": [
    "y = y.astype(int)\n",
    "y"
   ]
  },
  {
   "cell_type": "code",
   "execution_count": 16,
   "id": "12981368",
   "metadata": {
    "ExecuteTime": {
     "end_time": "2023-03-29T14:29:42.411994Z",
     "start_time": "2023-03-29T14:29:40.446393Z"
    }
   },
   "outputs": [
    {
     "data": {
      "image/png": "[encoded data removed]",
      "text/plain": [
       "<Figure size 432x288 with 1 Axes>"
      ]
     },
     "metadata": {
      "needs_background": "light"
     },
     "output_type": "display_data"
    }
   ],
   "source": [
    "import numpy as np\n",
    "import matplotlib.pyplot as plt\n",
    "\n",
    "def step_function(x):\n",
    "    # return np.array(x > 0, dtype=int)\n",
    "    return np.where(x > 0, 1, 0)\n",
    "\n",
    "x = np.arange(-5.0, 5.0, 0.1)\n",
    "y = step_function(x)\n",
    "plt.plot(x, y)\n",
    "plt.ylim(-0.1, 1.1)\n",
    "plt.show()"
   ]
  },
  {
   "cell_type": "code",
   "execution_count": 17,
   "id": "6fc4a083",
   "metadata": {
    "ExecuteTime": {
     "end_time": "2023-03-29T14:29:42.427584Z",
     "start_time": "2023-03-29T14:29:42.414996Z"
    }
   },
   "outputs": [],
   "source": [
    "def sigmoid(x):\n",
    "    return 1 / (1 + np.exp(-x))"
   ]
  },
  {
   "cell_type": "code",
   "execution_count": 18,
   "id": "2bbcbe3c",
   "metadata": {
    "ExecuteTime": {
     "end_time": "2023-03-29T14:29:42.442465Z",
     "start_time": "2023-03-29T14:29:42.430573Z"
    }
   },
   "outputs": [
    {
     "data": {
      "text/plain": [
       "array([0.26894142, 0.73105858, 0.88079708])"
      ]
     },
     "execution_count": 18,
     "metadata": {},
     "output_type": "execute_result"
    }
   ],
   "source": [
    "x = np.array([-1.0, 1.0, 2.0])\n",
    "sigmoid(x)"
   ]
  },
  {
   "cell_type": "code",
   "execution_count": 19,
   "id": "3f19eb9c",
   "metadata": {
    "ExecuteTime": {
     "end_time": "2023-03-29T14:29:42.457181Z",
     "start_time": "2023-03-29T14:29:42.444471Z"
    }
   },
   "outputs": [
    {
     "data": {
      "text/plain": [
       "array([2., 3., 4.])"
      ]
     },
     "execution_count": 19,
     "metadata": {},
     "output_type": "execute_result"
    }
   ],
   "source": [
    "t = np.array([1.0, 2.0, 3.0])\n",
    "1.0 + t"
   ]
  },
  {
   "cell_type": "code",
   "execution_count": 20,
   "id": "b742c2fd",
   "metadata": {
    "ExecuteTime": {
     "end_time": "2023-03-29T14:29:42.472687Z",
     "start_time": "2023-03-29T14:29:42.459181Z"
    }
   },
   "outputs": [
    {
     "data": {
      "text/plain": [
       "array([1.        , 0.5       , 0.33333333])"
      ]
     },
     "execution_count": 20,
     "metadata": {},
     "output_type": "execute_result"
    }
   ],
   "source": [
    "1.0 / t"
   ]
  },
  {
   "cell_type": "code",
   "execution_count": 21,
   "id": "7be907c9",
   "metadata": {
    "ExecuteTime": {
     "end_time": "2023-03-29T14:29:42.608710Z",
     "start_time": "2023-03-29T14:29:42.475693Z"
    }
   },
   "outputs": [
    {
     "data": {
      "image/png": "[encoded data removed]",
      "text/plain": [
       "<Figure size 432x288 with 1 Axes>"
      ]
     },
     "metadata": {
      "needs_background": "light"
     },
     "output_type": "display_data"
    }
   ],
   "source": [
    "x = np.arange(-5.0, 5.0, 0.1)\n",
    "y = sigmoid(x)\n",
    "plt.plot(x, y)\n",
    "plt.ylim(-0.1, 1.1)\n",
    "plt.show()"
   ]
  },
  {
   "cell_type": "code",
   "execution_count": 22,
   "id": "8942f071",
   "metadata": {
    "ExecuteTime": {
     "end_time": "2023-03-29T14:29:42.760329Z",
     "start_time": "2023-03-29T14:29:42.610711Z"
    }
   },
   "outputs": [
    {
     "data": {
      "image/png": "[encoded data removed]",
      "text/plain": [
       "<Figure size 432x288 with 1 Axes>"
      ]
     },
     "metadata": {
      "needs_background": "light"
     },
     "output_type": "display_data"
    }
   ],
   "source": [
    "plt.plot(x, step_function(x), 'k--')\n",
    "plt.plot(x, sigmoid(x), 'k-')\n",
    "plt.plot([-5.0, 5.0], [0.5, 0.5], 'k-')\n",
    "plt.ylim(-0.1, 1.1)\n",
    "plt.show()"
   ]
  },
  {
   "cell_type": "code",
   "execution_count": 23,
   "id": "bdeab7d1",
   "metadata": {
    "ExecuteTime": {
     "end_time": "2023-03-29T14:29:42.775895Z",
     "start_time": "2023-03-29T14:29:42.763371Z"
    }
   },
   "outputs": [],
   "source": [
    "def relu(x):\n",
    "    return np.maximum(0, x)"
   ]
  },
  {
   "cell_type": "code",
   "execution_count": 24,
   "id": "74ba3a29",
   "metadata": {
    "ExecuteTime": {
     "end_time": "2023-03-29T14:29:42.791089Z",
     "start_time": "2023-03-29T14:29:42.778078Z"
    }
   },
   "outputs": [
    {
     "name": "stdout",
     "output_type": "stream",
     "text": [
      "[1 2 3 4]\n"
     ]
    }
   ],
   "source": [
    "import numpy as np\n",
    "A = np.array([1, 2, 3, 4])\n",
    "print(A)"
   ]
  },
  {
   "cell_type": "code",
   "execution_count": 25,
   "id": "84ba2497",
   "metadata": {
    "ExecuteTime": {
     "end_time": "2023-03-29T14:29:42.806092Z",
     "start_time": "2023-03-29T14:29:42.793091Z"
    }
   },
   "outputs": [
    {
     "data": {
      "text/plain": [
       "1"
      ]
     },
     "execution_count": 25,
     "metadata": {},
     "output_type": "execute_result"
    }
   ],
   "source": [
    "np.ndim(A)"
   ]
  },
  {
   "cell_type": "code",
   "execution_count": 26,
   "id": "c31e1304",
   "metadata": {
    "ExecuteTime": {
     "end_time": "2023-03-29T14:29:42.821606Z",
     "start_time": "2023-03-29T14:29:42.809092Z"
    }
   },
   "outputs": [
    {
     "data": {
      "text/plain": [
       "(4,)"
      ]
     },
     "execution_count": 26,
     "metadata": {},
     "output_type": "execute_result"
    }
   ],
   "source": [
    "A.shape"
   ]
  },
  {
   "cell_type": "code",
   "execution_count": 27,
   "id": "4dd9c906",
   "metadata": {
    "ExecuteTime": {
     "end_time": "2023-03-29T14:29:42.836618Z",
     "start_time": "2023-03-29T14:29:42.823606Z"
    }
   },
   "outputs": [
    {
     "data": {
      "text/plain": [
       "4"
      ]
     },
     "execution_count": 27,
     "metadata": {},
     "output_type": "execute_result"
    }
   ],
   "source": [
    "A.shape[0]"
   ]
  },
  {
   "cell_type": "code",
   "execution_count": 28,
   "id": "6dc60497",
   "metadata": {
    "ExecuteTime": {
     "end_time": "2023-03-29T14:29:42.851331Z",
     "start_time": "2023-03-29T14:29:42.843811Z"
    }
   },
   "outputs": [
    {
     "name": "stdout",
     "output_type": "stream",
     "text": [
      "[[1 2]\n",
      " [3 4]\n",
      " [5 6]]\n"
     ]
    }
   ],
   "source": [
    "B = np.array([[1, 2], [3, 4], [5, 6]])\n",
    "print(B)"
   ]
  },
  {
   "cell_type": "code",
   "execution_count": 29,
   "id": "be43be8e",
   "metadata": {
    "ExecuteTime": {
     "end_time": "2023-03-29T14:29:42.866331Z",
     "start_time": "2023-03-29T14:29:42.853328Z"
    }
   },
   "outputs": [
    {
     "data": {
      "text/plain": [
       "2"
      ]
     },
     "execution_count": 29,
     "metadata": {},
     "output_type": "execute_result"
    }
   ],
   "source": [
    "np.ndim(B)"
   ]
  },
  {
   "cell_type": "code",
   "execution_count": 30,
   "id": "b5318e18",
   "metadata": {
    "ExecuteTime": {
     "end_time": "2023-03-29T14:29:42.881476Z",
     "start_time": "2023-03-29T14:29:42.868329Z"
    }
   },
   "outputs": [
    {
     "data": {
      "text/plain": [
       "(3, 2)"
      ]
     },
     "execution_count": 30,
     "metadata": {},
     "output_type": "execute_result"
    }
   ],
   "source": [
    "B.shape"
   ]
  },
  {
   "cell_type": "code",
   "execution_count": 31,
   "id": "ae92675d",
   "metadata": {
    "ExecuteTime": {
     "end_time": "2023-03-29T14:29:42.896712Z",
     "start_time": "2023-03-29T14:29:42.883481Z"
    }
   },
   "outputs": [
    {
     "data": {
      "text/plain": [
       "(2, 2)"
      ]
     },
     "execution_count": 31,
     "metadata": {},
     "output_type": "execute_result"
    }
   ],
   "source": [
    "A = np.array([[1, 2], [3, 4]])\n",
    "A.shape"
   ]
  },
  {
   "cell_type": "code",
   "execution_count": 32,
   "id": "7c77ed69",
   "metadata": {
    "ExecuteTime": {
     "end_time": "2023-03-29T14:29:42.911539Z",
     "start_time": "2023-03-29T14:29:42.898712Z"
    }
   },
   "outputs": [
    {
     "data": {
      "text/plain": [
       "(2, 2)"
      ]
     },
     "execution_count": 32,
     "metadata": {},
     "output_type": "execute_result"
    }
   ],
   "source": [
    "B = np.array([[5, 6], [7, 8]])\n",
    "B.shape"
   ]
  },
  {
   "cell_type": "code",
   "execution_count": 33,
   "id": "56929c34",
   "metadata": {
    "ExecuteTime": {
     "end_time": "2023-03-29T14:29:42.926540Z",
     "start_time": "2023-03-29T14:29:42.914545Z"
    }
   },
   "outputs": [
    {
     "data": {
      "text/plain": [
       "array([[19, 22],\n",
       "       [43, 50]])"
      ]
     },
     "execution_count": 33,
     "metadata": {},
     "output_type": "execute_result"
    }
   ],
   "source": [
    "np.dot(A, B)"
   ]
  },
  {
   "cell_type": "code",
   "execution_count": 34,
   "id": "e0be058f",
   "metadata": {
    "ExecuteTime": {
     "end_time": "2023-03-29T14:29:42.942068Z",
     "start_time": "2023-03-29T14:29:42.929545Z"
    }
   },
   "outputs": [
    {
     "data": {
      "text/plain": [
       "(2, 3)"
      ]
     },
     "execution_count": 34,
     "metadata": {},
     "output_type": "execute_result"
    }
   ],
   "source": [
    "A = np.array([[1, 2, 3], [4, 5, 6]])\n",
    "A.shape"
   ]
  },
  {
   "cell_type": "code",
   "execution_count": 35,
   "id": "f1af310b",
   "metadata": {
    "ExecuteTime": {
     "end_time": "2023-03-29T14:29:42.957097Z",
     "start_time": "2023-03-29T14:29:42.945070Z"
    }
   },
   "outputs": [
    {
     "data": {
      "text/plain": [
       "(3, 2)"
      ]
     },
     "execution_count": 35,
     "metadata": {},
     "output_type": "execute_result"
    }
   ],
   "source": [
    "B = np.array([[1, 2], [3, 4], [5, 6]])\n",
    "B.shape"
   ]
  },
  {
   "cell_type": "code",
   "execution_count": 36,
   "id": "a48ed275",
   "metadata": {
    "ExecuteTime": {
     "end_time": "2023-03-29T14:29:42.972145Z",
     "start_time": "2023-03-29T14:29:42.959745Z"
    }
   },
   "outputs": [
    {
     "data": {
      "text/plain": [
       "array([[22, 28],\n",
       "       [49, 64]])"
      ]
     },
     "execution_count": 36,
     "metadata": {},
     "output_type": "execute_result"
    }
   ],
   "source": [
    "np.dot(A, B)"
   ]
  },
  {
   "cell_type": "code",
   "execution_count": 37,
   "id": "7524f991",
   "metadata": {
    "ExecuteTime": {
     "end_time": "2023-03-29T14:29:42.987144Z",
     "start_time": "2023-03-29T14:29:42.974143Z"
    }
   },
   "outputs": [
    {
     "data": {
      "text/plain": [
       "(3, 2)"
      ]
     },
     "execution_count": 37,
     "metadata": {},
     "output_type": "execute_result"
    }
   ],
   "source": [
    "A = np.array([[1, 2], [3, 4], [5, 6]])\n",
    "A.shape"
   ]
  },
  {
   "cell_type": "code",
   "execution_count": 38,
   "id": "0ae0c0ad",
   "metadata": {
    "ExecuteTime": {
     "end_time": "2023-03-29T14:29:43.001842Z",
     "start_time": "2023-03-29T14:29:42.989144Z"
    }
   },
   "outputs": [
    {
     "data": {
      "text/plain": [
       "(2,)"
      ]
     },
     "execution_count": 38,
     "metadata": {},
     "output_type": "execute_result"
    }
   ],
   "source": [
    "B = np.array([7, 8])\n",
    "B.shape"
   ]
  },
  {
   "cell_type": "code",
   "execution_count": 39,
   "id": "b837f6ac",
   "metadata": {
    "ExecuteTime": {
     "end_time": "2023-03-29T14:29:43.017061Z",
     "start_time": "2023-03-29T14:29:43.004055Z"
    }
   },
   "outputs": [
    {
     "data": {
      "text/plain": [
       "array([23, 53, 83])"
      ]
     },
     "execution_count": 39,
     "metadata": {},
     "output_type": "execute_result"
    }
   ],
   "source": [
    "np.dot(A, B)"
   ]
  },
  {
   "cell_type": "code",
   "execution_count": 40,
   "id": "9af013e0",
   "metadata": {
    "ExecuteTime": {
     "end_time": "2023-03-29T14:29:43.032542Z",
     "start_time": "2023-03-29T14:29:43.019073Z"
    }
   },
   "outputs": [
    {
     "data": {
      "text/plain": [
       "(2,)"
      ]
     },
     "execution_count": 40,
     "metadata": {},
     "output_type": "execute_result"
    }
   ],
   "source": [
    "X = np.array([1, 2])\n",
    "X.shape"
   ]
  },
  {
   "cell_type": "code",
   "execution_count": 41,
   "id": "4655df22",
   "metadata": {
    "ExecuteTime": {
     "end_time": "2023-03-29T14:29:43.047551Z",
     "start_time": "2023-03-29T14:29:43.034551Z"
    }
   },
   "outputs": [
    {
     "name": "stdout",
     "output_type": "stream",
     "text": [
      "[[1 3 5]\n",
      " [2 4 6]]\n"
     ]
    }
   ],
   "source": [
    "W = np.array([[1, 3, 5], [2, 4, 6]])\n",
    "print(W)"
   ]
  },
  {
   "cell_type": "code",
   "execution_count": 42,
   "id": "9a5207b7",
   "metadata": {
    "ExecuteTime": {
     "end_time": "2023-03-29T14:29:43.063105Z",
     "start_time": "2023-03-29T14:29:43.050078Z"
    }
   },
   "outputs": [
    {
     "data": {
      "text/plain": [
       "(2, 3)"
      ]
     },
     "execution_count": 42,
     "metadata": {},
     "output_type": "execute_result"
    }
   ],
   "source": [
    "W.shape"
   ]
  },
  {
   "cell_type": "code",
   "execution_count": 43,
   "id": "a1fe412a",
   "metadata": {
    "ExecuteTime": {
     "end_time": "2023-03-29T14:29:43.078625Z",
     "start_time": "2023-03-29T14:29:43.065106Z"
    }
   },
   "outputs": [
    {
     "name": "stdout",
     "output_type": "stream",
     "text": [
      "[ 5 11 17]\n"
     ]
    }
   ],
   "source": [
    "Y = np.dot(X, W)\n",
    "print(Y)"
   ]
  },
  {
   "cell_type": "code",
   "execution_count": 44,
   "id": "61ddf1ed",
   "metadata": {
    "ExecuteTime": {
     "end_time": "2023-03-29T14:29:43.093751Z",
     "start_time": "2023-03-29T14:29:43.080624Z"
    }
   },
   "outputs": [
    {
     "name": "stdout",
     "output_type": "stream",
     "text": [
      "(2, 3)\n",
      "(2,)\n",
      "(3,)\n"
     ]
    }
   ],
   "source": [
    "X = np.array([1.0, 0.5])\n",
    "W1 = np.array([[0.1, 0.3, 0.5], [0.2, 0.4, 0.6]])\n",
    "B1 = np.array([0.1, 0.2, 0.3])\n",
    "\n",
    "print(W1.shape)\n",
    "print(X.shape)\n",
    "print(B1.shape)\n",
    "\n",
    "A1 = np.dot(X, W1) + B1"
   ]
  },
  {
   "cell_type": "code",
   "execution_count": 45,
   "id": "709c25f4",
   "metadata": {
    "ExecuteTime": {
     "end_time": "2023-03-29T14:29:43.108776Z",
     "start_time": "2023-03-29T14:29:43.095750Z"
    }
   },
   "outputs": [
    {
     "name": "stdout",
     "output_type": "stream",
     "text": [
      "[0.3 0.7 1.1]\n",
      "[0.57444252 0.66818777 0.75026011]\n"
     ]
    }
   ],
   "source": [
    "Z1 = sigmoid(A1)\n",
    "\n",
    "print(A1)\n",
    "print(Z1)"
   ]
  },
  {
   "cell_type": "code",
   "execution_count": 46,
   "id": "24bb8101",
   "metadata": {
    "ExecuteTime": {
     "end_time": "2023-03-29T14:29:43.123700Z",
     "start_time": "2023-03-29T14:29:43.110779Z"
    }
   },
   "outputs": [
    {
     "name": "stdout",
     "output_type": "stream",
     "text": [
      "(3,)\n",
      "(3, 2)\n",
      "(2,)\n"
     ]
    }
   ],
   "source": [
    "W2 = np.array([[0.1, 0.4], [0.2, 0.5], [0.3, 0.6]])\n",
    "B2 = np.array([0.1, 0.2])\n",
    "\n",
    "print(Z1.shape)\n",
    "print(W2.shape)\n",
    "print(B2.shape)\n",
    "\n",
    "A2 = np.dot(Z1, W2) + B2\n",
    "Z2 = sigmoid(A2)"
   ]
  },
  {
   "cell_type": "code",
   "execution_count": 47,
   "id": "3db93269",
   "metadata": {
    "ExecuteTime": {
     "end_time": "2023-03-29T14:29:43.138706Z",
     "start_time": "2023-03-29T14:29:43.125700Z"
    }
   },
   "outputs": [
    {
     "name": "stdout",
     "output_type": "stream",
     "text": [
      "[0.51615984 1.21402696]\n",
      "[0.62624937 0.7710107 ]\n"
     ]
    }
   ],
   "source": [
    "print(A2)\n",
    "print(Z2)"
   ]
  },
  {
   "cell_type": "code",
   "execution_count": 48,
   "id": "7bfb8cda",
   "metadata": {
    "ExecuteTime": {
     "end_time": "2023-03-29T14:29:43.154238Z",
     "start_time": "2023-03-29T14:29:43.140712Z"
    }
   },
   "outputs": [],
   "source": [
    "def identity_function(x):\n",
    "    return x\n",
    "\n",
    "W3 = np.array([[0.1, 0.3], [0.2, 0.4]])\n",
    "B3 = np.array([0.1, 0.2])\n",
    "\n",
    "A3 = np.dot(Z2, W3) + B3\n",
    "Y = identity_function(A3)"
   ]
  },
  {
   "cell_type": "code",
   "execution_count": 49,
   "id": "c915c2ea",
   "metadata": {
    "ExecuteTime": {
     "end_time": "2023-03-29T14:29:43.169771Z",
     "start_time": "2023-03-29T14:29:43.156241Z"
    }
   },
   "outputs": [
    {
     "name": "stdout",
     "output_type": "stream",
     "text": [
      "[0.31682708 0.69627909]\n"
     ]
    }
   ],
   "source": [
    "def init_network():\n",
    "    network = {}\n",
    "    network['W1'] = np.array([[0.1, 0.3, 0.5], [0.2, 0.4, 0.6]])\n",
    "    network['b1'] = np.array([0.1, 0.2, 0.3])\n",
    "    network['W2'] = np.array([[0.1, 0.4], [0.2, 0.5], [0.3, 0.6]])\n",
    "    network['b2'] = np.array([0.1, 0.2])\n",
    "    network['W3'] = np.array([[0.1, 0.3], [0.2, 0.4]])\n",
    "    network['b3'] = np.array([0.1, 0.2])\n",
    "    \n",
    "    return network\n",
    "\n",
    "def forward(network, x):\n",
    "    W1, W2, W3 = network['W1'], network['W2'], network['W3']\n",
    "    b1, b2, b3 = network['b1'], network['b2'], network['b3']\n",
    "    \n",
    "    a1 = np.dot(x, W1) + b1\n",
    "    z1 = sigmoid(a1)\n",
    "    a2 = np.dot(z1, W2) + b2\n",
    "    z2 = sigmoid(a2)\n",
    "    a3 = np.dot(z2, W3) + b3\n",
    "    y = identity_function(a3)\n",
    "    \n",
    "    return y\n",
    "\n",
    "network = init_network()\n",
    "x = np.array([1.0, 0.5])\n",
    "y = forward(network, x)\n",
    "print(y)"
   ]
  },
  {
   "cell_type": "code",
   "execution_count": 50,
   "id": "0c13d985",
   "metadata": {
    "ExecuteTime": {
     "end_time": "2023-03-29T14:29:43.185304Z",
     "start_time": "2023-03-29T14:29:43.172778Z"
    }
   },
   "outputs": [],
   "source": [
    "class multi_perceptron():\n",
    "    \n",
    "    def __init__(self):\n",
    "        self.network = {}\n",
    "        self.network['W1'] = np.array([[0.1, 0.3, 0.5], [0.2, 0.4, 0.6]])\n",
    "        self.network['b1'] = np.array([0.1, 0.2, 0.3])\n",
    "        self.network['W2'] = np.array([[0.1, 0.4], [0.2, 0.5], [0.3, 0.6]])\n",
    "        self.network['b2'] = np.array([0.1, 0.2])\n",
    "        self.network['W3'] = np.array([[0.1, 0.3], [0.2, 0.4]])\n",
    "        self.network['b3'] = np.array([0.1, 0.2])\n",
    "    \n",
    "    def sigmoid(self, x):\n",
    "        return 1 / (1 + np.exp(-x))\n",
    "    \n",
    "    def identity_function(self, x):\n",
    "        return x\n",
    "    \n",
    "    def forward(self, x):\n",
    "        a1 = np.dot(x, self.network['W1']) + self.network['b1']\n",
    "        z1 = self.sigmoid(a1)\n",
    "        a2 = np.dot(z1, self.network['W2']) + self.network['b2']\n",
    "        z2 = self.sigmoid(a2)\n",
    "        a3 = np.dot(z2, self.network['W3']) + self.network['b3']\n",
    "        y = self.identity_function(a3)\n",
    "        \n",
    "        return y"
   ]
  },
  {
   "cell_type": "code",
   "execution_count": 51,
   "id": "6508806d",
   "metadata": {
    "ExecuteTime": {
     "end_time": "2023-03-29T14:29:43.200724Z",
     "start_time": "2023-03-29T14:29:43.186538Z"
    }
   },
   "outputs": [
    {
     "data": {
      "text/plain": [
       "array([0.31682708, 0.69627909])"
      ]
     },
     "execution_count": 51,
     "metadata": {},
     "output_type": "execute_result"
    }
   ],
   "source": [
    "p = multi_perceptron()\n",
    "\n",
    "p.forward(x)"
   ]
  },
  {
   "cell_type": "code",
   "execution_count": 52,
   "id": "72d432a8",
   "metadata": {
    "ExecuteTime": {
     "end_time": "2023-03-29T14:29:43.216242Z",
     "start_time": "2023-03-29T14:29:43.203240Z"
    }
   },
   "outputs": [
    {
     "name": "stdout",
     "output_type": "stream",
     "text": [
      "[ 1.34985881 18.17414537 54.59815003]\n"
     ]
    }
   ],
   "source": [
    "a = np.array([0.3, 2.9, 4.0])\n",
    "\n",
    "exp_a = np.exp(a)\n",
    "print(exp_a)"
   ]
  },
  {
   "cell_type": "code",
   "execution_count": 53,
   "id": "93608f43",
   "metadata": {
    "ExecuteTime": {
     "end_time": "2023-03-29T14:29:43.231245Z",
     "start_time": "2023-03-29T14:29:43.218242Z"
    }
   },
   "outputs": [
    {
     "name": "stdout",
     "output_type": "stream",
     "text": [
      "74.1221542101633\n"
     ]
    }
   ],
   "source": [
    "sum_exp_a = np.sum(exp_a)\n",
    "print(sum_exp_a)"
   ]
  },
  {
   "cell_type": "code",
   "execution_count": 54,
   "id": "b5f0c38b",
   "metadata": {
    "ExecuteTime": {
     "end_time": "2023-03-29T14:29:43.246910Z",
     "start_time": "2023-03-29T14:29:43.233257Z"
    }
   },
   "outputs": [
    {
     "name": "stdout",
     "output_type": "stream",
     "text": [
      "[0.01821127 0.24519181 0.73659691]\n"
     ]
    }
   ],
   "source": [
    "y = exp_a / sum_exp_a\n",
    "print(y)"
   ]
  },
  {
   "cell_type": "code",
   "execution_count": 55,
   "id": "75b43802",
   "metadata": {
    "ExecuteTime": {
     "end_time": "2023-03-29T14:29:43.262421Z",
     "start_time": "2023-03-29T14:29:43.249417Z"
    }
   },
   "outputs": [],
   "source": [
    "def softmax(a):\n",
    "    exp_a = np.exp(a)\n",
    "    sum_exp_a = np.sum(exp_a)\n",
    "    y = exp_a / sum_exp_a\n",
    "    \n",
    "    return y"
   ]
  },
  {
   "cell_type": "code",
   "execution_count": 56,
   "id": "aadc2918",
   "metadata": {
    "ExecuteTime": {
     "end_time": "2023-03-29T14:29:43.277418Z",
     "start_time": "2023-03-29T14:29:43.265422Z"
    }
   },
   "outputs": [
    {
     "name": "stderr",
     "output_type": "stream",
     "text": [
      "C:\\Users\\Sangjin\\AppData\\Local\\Temp\\ipykernel_44700\\832863605.py:2: RuntimeWarning: overflow encountered in exp\n",
      "  np.exp(a) / np.sum(np.exp(a))\n",
      "C:\\Users\\Sangjin\\AppData\\Local\\Temp\\ipykernel_44700\\832863605.py:2: RuntimeWarning: invalid value encountered in true_divide\n",
      "  np.exp(a) / np.sum(np.exp(a))\n"
     ]
    },
    {
     "data": {
      "text/plain": [
       "array([nan, nan, nan])"
      ]
     },
     "execution_count": 56,
     "metadata": {},
     "output_type": "execute_result"
    }
   ],
   "source": [
    "a = np.array([1010, 1000, 990])\n",
    "np.exp(a) / np.sum(np.exp(a))"
   ]
  },
  {
   "cell_type": "code",
   "execution_count": 57,
   "id": "cc31cb9f",
   "metadata": {
    "ExecuteTime": {
     "end_time": "2023-03-29T14:29:43.292505Z",
     "start_time": "2023-03-29T14:29:43.279428Z"
    }
   },
   "outputs": [
    {
     "data": {
      "text/plain": [
       "array([  0, -10, -20])"
      ]
     },
     "execution_count": 57,
     "metadata": {},
     "output_type": "execute_result"
    }
   ],
   "source": [
    "c = np.max(a)\n",
    "a - c"
   ]
  },
  {
   "cell_type": "code",
   "execution_count": 58,
   "id": "da336115",
   "metadata": {
    "ExecuteTime": {
     "end_time": "2023-03-29T14:29:43.307899Z",
     "start_time": "2023-03-29T14:29:43.294514Z"
    }
   },
   "outputs": [
    {
     "data": {
      "text/plain": [
       "array([9.99954600e-01, 4.53978686e-05, 2.06106005e-09])"
      ]
     },
     "execution_count": 58,
     "metadata": {},
     "output_type": "execute_result"
    }
   ],
   "source": [
    "np.exp(a - c) / np.sum(np.exp(a - c))"
   ]
  },
  {
   "cell_type": "code",
   "execution_count": 59,
   "id": "f9bd4be4",
   "metadata": {
    "ExecuteTime": {
     "end_time": "2023-03-29T14:29:43.322899Z",
     "start_time": "2023-03-29T14:29:43.309903Z"
    }
   },
   "outputs": [],
   "source": [
    "def softmax(a):\n",
    "    c = np.max(a)\n",
    "    exp_a = np.exp(a - c)\n",
    "    sum_exp_a = np.sum(exp_a)\n",
    "    y = exp_a / sum_exp_a\n",
    "    \n",
    "    return y"
   ]
  },
  {
   "cell_type": "code",
   "execution_count": 60,
   "id": "99c44a1a",
   "metadata": {
    "ExecuteTime": {
     "end_time": "2023-03-29T14:29:43.337914Z",
     "start_time": "2023-03-29T14:29:43.325905Z"
    }
   },
   "outputs": [
    {
     "name": "stdout",
     "output_type": "stream",
     "text": [
      "[0.01821127 0.24519181 0.73659691]\n"
     ]
    }
   ],
   "source": [
    "a = np.array([0.3, 2.9, 4.0])\n",
    "y = softmax(a)\n",
    "print(y)"
   ]
  },
  {
   "cell_type": "code",
   "execution_count": 61,
   "id": "c6a5e98c",
   "metadata": {
    "ExecuteTime": {
     "end_time": "2023-03-29T14:29:43.353428Z",
     "start_time": "2023-03-29T14:29:43.339917Z"
    }
   },
   "outputs": [
    {
     "data": {
      "text/plain": [
       "1.0"
      ]
     },
     "execution_count": 61,
     "metadata": {},
     "output_type": "execute_result"
    }
   ],
   "source": [
    "np.sum(y)"
   ]
  },
  {
   "cell_type": "code",
   "execution_count": 62,
   "id": "96500094",
   "metadata": {
    "ExecuteTime": {
     "end_time": "2023-03-29T14:29:45.121743Z",
     "start_time": "2023-03-29T14:29:43.355431Z"
    }
   },
   "outputs": [
    {
     "data": {
      "text/plain": [
       "array([[ 0.,  0.,  5., ...,  0.,  0.,  0.],\n",
       "       [ 0.,  0.,  0., ..., 10.,  0.,  0.],\n",
       "       [ 0.,  0.,  0., ..., 16.,  9.,  0.],\n",
       "       ...,\n",
       "       [ 0.,  0.,  1., ...,  6.,  0.,  0.],\n",
       "       [ 0.,  0.,  2., ..., 12.,  0.,  0.],\n",
       "       [ 0.,  0., 10., ..., 12.,  1.,  0.]])"
      ]
     },
     "execution_count": 62,
     "metadata": {},
     "output_type": "execute_result"
    }
   ],
   "source": [
    "from sklearn.datasets import load_digits\n",
    "\n",
    "data = load_digits().data\n",
    "data"
   ]
  },
  {
   "cell_type": "code",
   "execution_count": 63,
   "id": "18719d60",
   "metadata": {
    "ExecuteTime": {
     "end_time": "2023-03-29T14:29:45.197303Z",
     "start_time": "2023-03-29T14:29:45.123746Z"
    }
   },
   "outputs": [
    {
     "name": "stdout",
     "output_type": "stream",
     "text": [
      "(60000, 784)\n",
      "(60000,)\n",
      "(10000, 784)\n",
      "(10000,)\n"
     ]
    }
   ],
   "source": [
    "from mnist import load_mnist\n",
    "\n",
    "(x_train, t_train), (x_test, t_test) = \\\n",
    "    load_mnist(flatten=True, normalize=False)\n",
    "\n",
    "# 각 데이터의 형상 출력\n",
    "print(x_train.shape)\n",
    "print(t_train.shape)\n",
    "print(x_test.shape)\n",
    "print(t_test.shape)"
   ]
  },
  {
   "cell_type": "code",
   "execution_count": 64,
   "id": "67edcb1a",
   "metadata": {
    "ExecuteTime": {
     "end_time": "2023-03-29T14:29:46.916421Z",
     "start_time": "2023-03-29T14:29:45.199302Z"
    }
   },
   "outputs": [
    {
     "name": "stdout",
     "output_type": "stream",
     "text": [
      "5\n",
      "(784,)\n",
      "(28, 28)\n"
     ]
    }
   ],
   "source": [
    "import numpy as np\n",
    "from mnist import load_mnist\n",
    "from PIL import Image\n",
    "%matplotlib inline\n",
    "\n",
    "def img_show(img):\n",
    "    pil_img = Image.fromarray(np.uint8(img))\n",
    "    pil_img.show()\n",
    "    \n",
    "(x_train, t_train), (x_test, t_test) = \\\n",
    "    load_mnist(flatten=True, normalize=False)\n",
    "\n",
    "img = x_train[0]\n",
    "label = t_train[0]\n",
    "print(label)\n",
    "\n",
    "print(img.shape)\n",
    "img = img.reshape(28, 28)\n",
    "print(img.shape)\n",
    "\n",
    "img_show(img)"
   ]
  },
  {
   "cell_type": "code",
   "execution_count": 68,
   "id": "b88d6975",
   "metadata": {
    "ExecuteTime": {
     "end_time": "2023-03-29T14:34:59.375399Z",
     "start_time": "2023-03-29T14:34:59.358084Z"
    }
   },
   "outputs": [],
   "source": [
    "def get_data():\n",
    "    (x_train, t_train), (x_test, t_test) = \\\n",
    "        load_mnist(normalize=True, flatten=True, one_hot_label=False)\n",
    "    return x_test, t_test\n",
    "\n",
    "def init_network():\n",
    "    import pickle\n",
    "    with open(\"sample_weight.pkl\", 'rb') as f:\n",
    "        network = pickle.load(f)\n",
    "        \n",
    "    return network\n",
    "\n",
    "def predict(network, x):\n",
    "    W1, W2, W3 = network['W1'], network['W2'], network['W3']\n",
    "    b1, b2, b3 = network['b1'], network['b2'], network['b3']\n",
    "    \n",
    "    a1 = np.dot(x, W1) + b1\n",
    "    z1 = sigmoid(a1)\n",
    "    a2 = np.dot(z1, W2) + b2\n",
    "    z2 = sigmoid(a2)\n",
    "    a3 = np.dot(z2, W3) + b3\n",
    "    y = softmax(a3)\n",
    "    \n",
    "    return y"
   ]
  },
  {
   "cell_type": "code",
   "execution_count": 69,
   "id": "d8312198",
   "metadata": {
    "ExecuteTime": {
     "end_time": "2023-03-29T14:36:41.142864Z",
     "start_time": "2023-03-29T14:36:40.267181Z"
    }
   },
   "outputs": [
    {
     "name": "stdout",
     "output_type": "stream",
     "text": [
      "Accuracy:0.9352\n"
     ]
    }
   ],
   "source": [
    "x, t = get_data()\n",
    "network = init_network()\n",
    "\n",
    "accuracy_cnt = 0\n",
    "for i in range(len(x)):\n",
    "    y = predict(network, x[i])\n",
    "    p = np.argmax(y)\n",
    "    if p == t[i]:\n",
    "        accuracy_cnt += 1\n",
    "        \n",
    "print(\"Accuracy:\" + str(float(accuracy_cnt) / len(x)))"
   ]
  },
  {
   "cell_type": "code",
   "execution_count": 70,
   "id": "9ff016ac",
   "metadata": {
    "ExecuteTime": {
     "end_time": "2023-03-29T14:39:43.480994Z",
     "start_time": "2023-03-29T14:39:43.273918Z"
    }
   },
   "outputs": [],
   "source": [
    "x, _ = get_data()\n",
    "network = init_network()\n",
    "W1, W2, W3 = network['W1'], network['W2'], network['W3']"
   ]
  },
  {
   "cell_type": "code",
   "execution_count": 71,
   "id": "24dea980",
   "metadata": {
    "ExecuteTime": {
     "end_time": "2023-03-29T14:39:45.505991Z",
     "start_time": "2023-03-29T14:39:45.498114Z"
    }
   },
   "outputs": [
    {
     "data": {
      "text/plain": [
       "(10000, 784)"
      ]
     },
     "execution_count": 71,
     "metadata": {},
     "output_type": "execute_result"
    }
   ],
   "source": [
    "x.shape"
   ]
  },
  {
   "cell_type": "code",
   "execution_count": 72,
   "id": "6c4203bb",
   "metadata": {
    "ExecuteTime": {
     "end_time": "2023-03-29T14:39:58.961823Z",
     "start_time": "2023-03-29T14:39:58.956233Z"
    }
   },
   "outputs": [
    {
     "data": {
      "text/plain": [
       "(784,)"
      ]
     },
     "execution_count": 72,
     "metadata": {},
     "output_type": "execute_result"
    }
   ],
   "source": [
    "x[0].shape"
   ]
  },
  {
   "cell_type": "code",
   "execution_count": 73,
   "id": "a1e47757",
   "metadata": {
    "ExecuteTime": {
     "end_time": "2023-03-29T14:40:04.003925Z",
     "start_time": "2023-03-29T14:40:03.984926Z"
    }
   },
   "outputs": [
    {
     "data": {
      "text/plain": [
       "(784, 50)"
      ]
     },
     "execution_count": 73,
     "metadata": {},
     "output_type": "execute_result"
    }
   ],
   "source": [
    "W1.shape"
   ]
  },
  {
   "cell_type": "code",
   "execution_count": 74,
   "id": "4078c869",
   "metadata": {
    "ExecuteTime": {
     "end_time": "2023-03-29T14:40:08.718620Z",
     "start_time": "2023-03-29T14:40:08.704459Z"
    }
   },
   "outputs": [
    {
     "data": {
      "text/plain": [
       "(50, 100)"
      ]
     },
     "execution_count": 74,
     "metadata": {},
     "output_type": "execute_result"
    }
   ],
   "source": [
    "W2.shape"
   ]
  },
  {
   "cell_type": "code",
   "execution_count": 75,
   "id": "0aaf6758",
   "metadata": {
    "ExecuteTime": {
     "end_time": "2023-03-29T14:40:11.347454Z",
     "start_time": "2023-03-29T14:40:11.339751Z"
    }
   },
   "outputs": [
    {
     "data": {
      "text/plain": [
       "(100, 10)"
      ]
     },
     "execution_count": 75,
     "metadata": {},
     "output_type": "execute_result"
    }
   ],
   "source": [
    "W3.shape"
   ]
  },
  {
   "cell_type": "code",
   "execution_count": 77,
   "id": "0865e196",
   "metadata": {
    "ExecuteTime": {
     "end_time": "2023-03-29T14:44:54.614366Z",
     "start_time": "2023-03-29T14:44:54.322212Z"
    }
   },
   "outputs": [
    {
     "name": "stdout",
     "output_type": "stream",
     "text": [
      "Accuracy:0.9352\n"
     ]
    }
   ],
   "source": [
    "x, t = get_data()\n",
    "network = init_network()\n",
    "\n",
    "batch_size = 100\n",
    "accuracy_cnt = 0\n",
    "\n",
    "for i in range(0, len(x), batch_size):\n",
    "    x_batch = x[i:i+batch_size]\n",
    "    y_batch = predict(network, x_batch)\n",
    "    p = np.argmax(y_batch, axis=1)\n",
    "    accuracy_cnt += np.sum(p == t[i:i+batch_size])\n",
    "    \n",
    "print(\"Accuracy:\" + str(float(accuracy_cnt) / len(x)))"
   ]
  },
  {
   "cell_type": "code",
   "execution_count": 78,
   "id": "7183b194",
   "metadata": {
    "ExecuteTime": {
     "end_time": "2023-03-29T14:45:19.465935Z",
     "start_time": "2023-03-29T14:45:19.457927Z"
    }
   },
   "outputs": [
    {
     "data": {
      "text/plain": [
       "[0, 1, 2, 3, 4, 5, 6, 7, 8, 9]"
      ]
     },
     "execution_count": 78,
     "metadata": {},
     "output_type": "execute_result"
    }
   ],
   "source": [
    "list(range(0, 10))"
   ]
  },
  {
   "cell_type": "code",
   "execution_count": 79,
   "id": "e2a5d2b7",
   "metadata": {
    "ExecuteTime": {
     "end_time": "2023-03-29T14:45:24.076905Z",
     "start_time": "2023-03-29T14:45:24.056918Z"
    }
   },
   "outputs": [
    {
     "data": {
      "text/plain": [
       "[0, 3, 6, 9]"
      ]
     },
     "execution_count": 79,
     "metadata": {},
     "output_type": "execute_result"
    }
   ],
   "source": [
    "list(range(0, 10, 3))"
   ]
  },
  {
   "cell_type": "code",
   "execution_count": 83,
   "id": "92da3fe8",
   "metadata": {
    "ExecuteTime": {
     "end_time": "2023-03-29T14:46:43.027651Z",
     "start_time": "2023-03-29T14:46:43.009637Z"
    }
   },
   "outputs": [
    {
     "name": "stdout",
     "output_type": "stream",
     "text": [
      "[[0.1 0.8 0.1]\n",
      " [0.3 0.1 0.6]\n",
      " [0.2 0.5 0.3]\n",
      " [0.8 0.1 0.1]]\n",
      "[1 2 1 0]\n"
     ]
    }
   ],
   "source": [
    "x = np.array([[0.1, 0.8, 0.1], [0.3, 0.1, 0.6], \n",
    "              [0.2, 0.5, 0.3], [0.8, 0.1, 0.1]])\n",
    "y = np.argmax(x, axis=1)\n",
    "print(x)\n",
    "print(y)"
   ]
  },
  {
   "cell_type": "code",
   "execution_count": 84,
   "id": "424a2bf1",
   "metadata": {
    "ExecuteTime": {
     "end_time": "2023-03-29T14:47:09.164911Z",
     "start_time": "2023-03-29T14:47:09.153198Z"
    }
   },
   "outputs": [
    {
     "name": "stdout",
     "output_type": "stream",
     "text": [
      "[ True  True False  True]\n",
      "3\n"
     ]
    }
   ],
   "source": [
    "y = np.array([1, 2, 1, 0])\n",
    "t = np.array([1, 2, 0, 0])\n",
    "print(y == t)\n",
    "print(np.sum(y == t))"
   ]
  }
 ],
 "metadata": {
  "kernelspec": {
   "display_name": "myenv",
   "language": "python",
   "name": "myenv"
  },
  "language_info": {
   "codemirror_mode": {
    "name": "ipython",
    "version": 3
   },
   "file_extension": ".py",
   "mimetype": "text/x-python",
   "name": "python",
   "nbconvert_exporter": "python",
   "pygments_lexer": "ipython3",
   "version": "3.8.13"
  },
  "toc": {
   "base_numbering": 1,
   "nav_menu": {},
   "number_sections": true,
   "sideBar": true,
   "skip_h1_title": false,
   "title_cell": "Table of Contents",
   "title_sidebar": "Contents",
   "toc_cell": false,
   "toc_position": {},
   "toc_section_display": true,
   "toc_window_display": false
  }
 },
 "nbformat": 4,
 "nbformat_minor": 5
}
