{
 "cells": [
  {
   "cell_type": "markdown",
   "id": "a0ba5d2a",
   "metadata": {},
   "source": [
    "이 장에는 인기 있고 강력한 머신 러닝 알고리즘을 둘러보겠다. 이런 알고리즘들은 산업계는 물론 학계에서도 널리 사용된다. 분류에 사용할 수 있는 지도 학습 알고리즘의 차이점을 배우는 한편, 각 알고리즘의 강점과 약점도 직관적으로 이해해 보자. 이 장에서는 사이킷런 라이브러리를 사용한다. 사이킷런은 사용하기 쉬운 인터페이스를 제공함로 이런 알고리즘을 효율적이고 생상적으로 적용할 수 있다."
   ]
  },
  {
   "cell_type": "markdown",
   "id": "0e0f6b51",
   "metadata": {},
   "source": [
    "이 장에서는 다음 주제를 다룬다."
   ]
  },
  {
   "cell_type": "markdown",
   "id": "2077da11",
   "metadata": {},
   "source": [
    "<ul>\n",
    "    <li>강력하고 인기 있는 분류 알고리즘인 로지스틱 회귀, 서포트 벡터 머신, 결정 트리 소개하기</li>\n",
    "    <li>예제와 설명을 위해 사이킷런 머신 러닝 라이브러리 사용하기(사이킷런은 광범위한 머신 러닝 알고리즘을 사용하기 쉬운 파이썬 API로 제공</li>"
   ]
  }
 ],
 "metadata": {
  "kernelspec": {
   "display_name": "myenv",
   "language": "python",
   "name": "myenv"
  },
  "language_info": {
   "codemirror_mode": {
    "name": "ipython",
    "version": 3
   },
   "file_extension": ".py",
   "mimetype": "text/x-python",
   "name": "python",
   "nbconvert_exporter": "python",
   "pygments_lexer": "ipython3",
   "version": "3.8.13"
  },
  "toc": {
   "base_numbering": 1,
   "nav_menu": {},
   "number_sections": true,
   "sideBar": true,
   "skip_h1_title": false,
   "title_cell": "Table of Contents",
   "title_sidebar": "Contents",
   "toc_cell": false,
   "toc_position": {},
   "toc_section_display": true,
   "toc_window_display": false
  }
 },
 "nbformat": 4,
 "nbformat_minor": 5
}
