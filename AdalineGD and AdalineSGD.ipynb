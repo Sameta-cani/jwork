{
 "cells": [
  {
   "cell_type": "markdown",
   "id": "0d77059d",
   "metadata": {},
   "source": [
    "# 설정"
   ]
  },
  {
   "cell_type": "code",
   "execution_count": 1,
   "id": "3539e2be",
   "metadata": {
    "ExecuteTime": {
     "end_time": "2022-12-13T10:47:12.703926Z",
     "start_time": "2022-12-13T10:47:08.368645Z"
    }
   },
   "outputs": [],
   "source": [
    "# 파이썬 ≥ 3.5 필수\n",
    "import sys\n",
    "assert sys.version_info >= (3, 5)\n",
    "\n",
    "# 사이킷런 ≥ 0.20 필수\n",
    "import sklearn\n",
    "assert sklearn.__version__ >= \"0.20\"\n",
    "\n",
    "# 공통 모듈 임포트\n",
    "import numpy as np\n",
    "import os\n",
    "\n",
    "# 깔끔한 그래프 출력을 위해\n",
    "%matplotlib inline\n",
    "import matplotlib as mpl\n",
    "import matplotlib.pyplot as plt\n",
    "mpl.rc('axes', labelsize=14)\n",
    "mpl.rc('xtick', labelsize=12)\n",
    "mpl.rc('ytick', labelsize=12)\n",
    "\n",
    "# 그림을 저장할 위치\n",
    "PROJECT_ROOT_DIR = \".\"\n",
    "CHAPTER_ID = \"AdalineGD and AdalineSGD\"\n",
    "IMAGES_PATH = os.path.join(PROJECT_ROOT_DIR, \"images\", CHAPTER_ID)\n",
    "os.makedirs(IMAGES_PATH, exist_ok=True)\n",
    "\n",
    "def save_fig(fig_id, tight_layout=True, fig_extension=\"png\", resolution=300):\n",
    "    path = os.path.join(IMAGES_PATH, fig_id + \".\" + fig_extension)\n",
    "    print(\"그림 저장:\", fig_id)\n",
    "    if tight_layout:\n",
    "        plt.tight_layout()\n",
    "    plt.savefig(path, format=fig_extension, dpi=resolution)"
   ]
  },
  {
   "cell_type": "markdown",
   "id": "7b858c64",
   "metadata": {},
   "source": [
    "이 장에서는 분류를 위한 적응형 선형 뉴런 두 개를 사용한다. 적응형 선형 뉴런으로는 기본적인 최적화를 설명한다. 이는 후에 사이킷런의 강력한 분류 모델을 사용하는 기초를 다질 수 있을 것이다."
   ]
  },
  {
   "cell_type": "markdown",
   "id": "02747a2e",
   "metadata": {},
   "source": [
    "다음은 Perceptron 에서 다뤘던 <code>plot_decision_regions()</code> 함수다. "
   ]
  },
  {
   "cell_type": "code",
   "execution_count": 11,
   "id": "c151501b",
   "metadata": {
    "ExecuteTime": {
     "end_time": "2022-12-13T11:48:47.598688Z",
     "start_time": "2022-12-13T11:48:47.573607Z"
    }
   },
   "outputs": [],
   "source": [
    "from matplotlib.colors import ListedColormap\n",
    "\n",
    "\n",
    "def plot_decision_regions(X, y, classifier, resolution=0.02):\n",
    "\n",
    "    # 마커와 컬러맵을 설정합니다\n",
    "    markers = ('s', 'x', 'o', '^', 'v')\n",
    "    colors = ('red', 'blue', 'lightgreen', 'gray', 'cyan')\n",
    "    cmap = ListedColormap(colors[:len(np.unique(y))])\n",
    "\n",
    "    # 결정 경계를 그립니다\n",
    "    x1_min, x1_max = X[:, 0].min() - 1, X[:, 0].max() + 1\n",
    "    x2_min, x2_max = X[:, 1].min() - 1, X[:, 1].max() + 1\n",
    "    xx1, xx2 = np.meshgrid(np.arange(x1_min, x1_max, resolution),\n",
    "                           np.arange(x2_min, x2_max, resolution))\n",
    "    Z = classifier.predict(np.array([xx1.ravel(), xx2.ravel()]).T)\n",
    "    Z = Z.reshape(xx1.shape)\n",
    "    plt.contourf(xx1, xx2, Z, alpha=0.3, cmap=cmap)\n",
    "    plt.xlim(xx1.min(), xx1.max())\n",
    "    plt.ylim(xx2.min(), xx2.max())\n",
    "\n",
    "    # 샘플의 산점도를 그립니다\n",
    "    for idx, cl in enumerate(np.unique(y)):\n",
    "        plt.scatter(x=X[y == cl, 0], \n",
    "                    y=X[y == cl, 1],\n",
    "                    alpha=0.8, \n",
    "                    c=colors[idx],\n",
    "                    marker=markers[idx], \n",
    "                    label=cl, \n",
    "                    edgecolor='black')"
   ]
  },
  {
   "cell_type": "markdown",
   "id": "cede4ea6",
   "metadata": {},
   "source": [
    "익숙한 Iris 데이터를 가져와 X와 y에 데이터를 할당했다."
   ]
  },
  {
   "cell_type": "code",
   "execution_count": 4,
   "id": "0ba0a8f3",
   "metadata": {
    "ExecuteTime": {
     "end_time": "2022-12-13T11:35:48.031148Z",
     "start_time": "2022-12-13T11:35:46.701873Z"
    },
    "scrolled": true
   },
   "outputs": [
    {
     "data": {
      "text/html": [
       "<div>\n",
       "<style scoped>\n",
       "    .dataframe tbody tr th:only-of-type {\n",
       "        vertical-align: middle;\n",
       "    }\n",
       "\n",
       "    .dataframe tbody tr th {\n",
       "        vertical-align: top;\n",
       "    }\n",
       "\n",
       "    .dataframe thead th {\n",
       "        text-align: right;\n",
       "    }\n",
       "</style>\n",
       "<table border=\"1\" class=\"dataframe\">\n",
       "  <thead>\n",
       "    <tr style=\"text-align: right;\">\n",
       "      <th></th>\n",
       "      <th>0</th>\n",
       "      <th>1</th>\n",
       "      <th>2</th>\n",
       "      <th>3</th>\n",
       "      <th>4</th>\n",
       "    </tr>\n",
       "  </thead>\n",
       "  <tbody>\n",
       "    <tr>\n",
       "      <th>145</th>\n",
       "      <td>6.7</td>\n",
       "      <td>3.0</td>\n",
       "      <td>5.2</td>\n",
       "      <td>2.3</td>\n",
       "      <td>Iris-virginica</td>\n",
       "    </tr>\n",
       "    <tr>\n",
       "      <th>146</th>\n",
       "      <td>6.3</td>\n",
       "      <td>2.5</td>\n",
       "      <td>5.0</td>\n",
       "      <td>1.9</td>\n",
       "      <td>Iris-virginica</td>\n",
       "    </tr>\n",
       "    <tr>\n",
       "      <th>147</th>\n",
       "      <td>6.5</td>\n",
       "      <td>3.0</td>\n",
       "      <td>5.2</td>\n",
       "      <td>2.0</td>\n",
       "      <td>Iris-virginica</td>\n",
       "    </tr>\n",
       "    <tr>\n",
       "      <th>148</th>\n",
       "      <td>6.2</td>\n",
       "      <td>3.4</td>\n",
       "      <td>5.4</td>\n",
       "      <td>2.3</td>\n",
       "      <td>Iris-virginica</td>\n",
       "    </tr>\n",
       "    <tr>\n",
       "      <th>149</th>\n",
       "      <td>5.9</td>\n",
       "      <td>3.0</td>\n",
       "      <td>5.1</td>\n",
       "      <td>1.8</td>\n",
       "      <td>Iris-virginica</td>\n",
       "    </tr>\n",
       "  </tbody>\n",
       "</table>\n",
       "</div>"
      ],
      "text/plain": [
       "       0    1    2    3               4\n",
       "145  6.7  3.0  5.2  2.3  Iris-virginica\n",
       "146  6.3  2.5  5.0  1.9  Iris-virginica\n",
       "147  6.5  3.0  5.2  2.0  Iris-virginica\n",
       "148  6.2  3.4  5.4  2.3  Iris-virginica\n",
       "149  5.9  3.0  5.1  1.8  Iris-virginica"
      ]
     },
     "execution_count": 4,
     "metadata": {},
     "output_type": "execute_result"
    }
   ],
   "source": [
    "import pandas as pd\n",
    "\n",
    "df = pd.read_csv('https://archive.ics.uci.edu/ml/'\n",
    "                 'machine-learning-databases/iris/iris.data',\n",
    "                 header=None)\n",
    "df.tail()"
   ]
  },
  {
   "cell_type": "code",
   "execution_count": 7,
   "id": "568682e7",
   "metadata": {
    "ExecuteTime": {
     "end_time": "2022-12-13T11:36:19.621597Z",
     "start_time": "2022-12-13T11:36:19.613273Z"
    }
   },
   "outputs": [],
   "source": [
    "import matplotlib.pyplot as plt\n",
    "import numpy as np\n",
    "\n",
    "# setosa와 versicolor를 선택\n",
    "y = df.iloc[0:100, 4].values\n",
    "y = np.where(y == 'Iris-setosa', -1, 1)\n",
    "\n",
    "# 꽃받침 길이와 꽃잎 길이를 추출\n",
    "X = df.iloc[0:100, [0, 2]].values"
   ]
  },
  {
   "cell_type": "markdown",
   "id": "5e95e25a",
   "metadata": {},
   "source": [
    "# 적응형 선형 뉴런과 학습의 수렴"
   ]
  },
  {
   "cell_type": "markdown",
   "id": "dd2772ae",
   "metadata": {},
   "source": [
    "이 절에서 단일층 신경망의 또 다른 종류인 <b>적응형 선형 뉴런</b><sup>ADAptive LInear NEuron, ADALINE</sup>을 살펴보겠다. 버나드 위드로우<sup>Bernard Widrow</sup>와 그의 박사 과정 학생인 테드 호프<sup>Tedd Hoff</sup>가 프랑크 로젠블라트의 퍼셉트론 알고리즘 이후 채 몇 년이 지나지 않아 <b>아달린</b><sup>Adaline</sup>을 발표했다.<sup id=\"a01\">[1](#p01)</sup> 아달린은 퍼셉트론의 향상된 버전으로 볼 수 있다."
   ]
  },
  {
   "cell_type": "markdown",
   "id": "a7f6d0b2",
   "metadata": {},
   "source": [
    "아달린은 연속 함수<sup>continuous function</sup>로 비용 함수를 정의하고 최소화하는 핵심 개념을 보여 주기 때문에 아주 흥미롭다. 후에 설명할 로지스틱 회귀<sup>logistic regression</sup>, 서포트 벡터 머신<sup>support vector machine</sup> 같은 분류를 위한 고급 머신 러닝 모델과 회귀 모델을 이해하는 데 도움이 될 것이다."
   ]
  },
  {
   "cell_type": "markdown",
   "id": "7ab06988",
   "metadata": {},
   "source": [
    "아달린 규칙(위드로우-호프 규칙이라고도 함)과 로젠블라트 퍼셉트론의 가장 큰 차이점은 가중치를 업데이트하는 데 퍼셉트론처럼 단위 계단 함수 대신 선형 활성화 함수를 사용하는 것이다."
   ]
  },
  {
   "cell_type": "markdown",
   "id": "0b9634c5",
   "metadata": {},
   "source": [
    "아달린에서 선형 활성화 함수 <i>Φ(z)</i>는 최종 입력과 동일한 함수이다. 즉, 다음과 같다."
   ]
  },
  {
   "cell_type": "markdown",
   "id": "7cb61d8e",
   "metadata": {},
   "source": [
    "<div style=\"text-align : center;\">\n",
    "     <img src=\"./images/formula/ml04/Adaline_act.png\">\n",
    "</div>"
   ]
  },
  {
   "cell_type": "markdown",
   "id": "ea3cb134",
   "metadata": {},
   "source": [
    "선형 활성화 함수가 가중치 학습에 사용되지만 최종 예측을 만드는 데 여전히 임계 함수를 사용한다. 앞서 보았던 단위 계단 함수와 비슷하다. 퍼셉트론과 아달린 알고리즘의 주요 차이점을 [그림 1]에 타나냈다."
   ]
  },
  {
   "attachments": {},
   "cell_type": "markdown",
   "id": "53d8964a",
   "metadata": {},
   "source": [
    "<b>그림 1</b> 퍼셉트론과 아달린 알고리즘의 비교\n",
    "<div style=\"text-align:center;\">\n",
    "    <img src=\"./images/AdalineGD and AdalineSGD/퍼셉트론과 아달린 알고리즘의 비교.png\">\n",
    "</div>"
   ]
  },
  {
   "cell_type": "markdown",
   "id": "248184ac",
   "metadata": {},
   "source": [
    "아달린 알고리즘은 진짜 클래스 레이블과 선형 활성화 함수의 실수 출력 값을 비교하여 모델의 오차를 계산하고 가중치를 업데이트한다. 반대로 퍼셉트론은 진짜 클래스 레이블과 예측 클래스 레이블을 비교한다."
   ]
  },
  {
   "cell_type": "markdown",
   "id": "d03a88b9",
   "metadata": {},
   "source": [
    "## 경사 하강법으로 비용 함수 최소화"
   ]
  },
  {
   "cell_type": "markdown",
   "id": "3a0f1975",
   "metadata": {},
   "source": [
    "지도 학습 알고리즘의 핵심 구성 요소는 학습 과정 동안 최적화하기 위해 정의한 <b>목적 함수</b><sup>object function</sup>이다. 종종 최소화하려는 비용 함수는 목적 함수가 된다. 아달린은 계산된 출력과 진짜 클래스 레이블 사이의 <b>제곱 오차합</b><sup>Sum of Squared Errors, SSE</sup>으로 가중치를 학습할 비용 함수 <i>J</i>를 정의한다."
   ]
  },
  {
   "cell_type": "markdown",
   "id": "e581f356",
   "metadata": {},
   "source": [
    "<div style=\"text-align : center;\">\n",
    "     <img src=\"./images/formula/ml04/Adaline_cost_func.png\">\n",
    "</div>"
   ]
  },
  {
   "cell_type": "markdown",
   "id": "ddcf1410",
   "metadata": {},
   "source": [
    "1/2 항은 다음 문단에서 설명할 그래디언트<sup>gradient</sup>를 간소하게 만들려고 편의상 추가한 것이다. 단위 계단 함수 대신 연속적인 선형 활성화 함수를 사용하는 장점은 비용 함수가 미분 가능해진다는 것이다. 이 비용 함수의 또 다른 장점은 볼록 함수라는 것이다. 간단하지만 강력한 최적화 알고리즘인 <b>경사 하강법</b><sup>gradient descent</sup>을 적용하여 붓꽃 데이터셋의 샘플을 분류하도록 비용 함수를 최소화하는 가중치를 찾을 수 있다."
   ]
  },
  {
   "cell_type": "markdown",
   "id": "4e35ba16",
   "metadata": {},
   "source": [
    "[그림 2]에서는 경사 하강법 이면에 있는 핵심 아이디어를 지역 또는 전역 최솟값에 도달할 때까지 언덕을 내려오는 것으로 묘사하고 있다. 각 반복에서 경사의 반대 방향으로 진행한다. 진행 크기는 경사의 기울기와 학습률로 결정한다."
   ]
  },
  {
   "attachments": {},
   "cell_type": "markdown",
   "id": "93ec46b5",
   "metadata": {},
   "source": [
    "<b>그림 2</b> 경사 하강법 알고리즘\n",
    "<div style=\"text-align:center;\">\n",
    "    <img src=\"./images/AdalineGD and AdalineSGD/경사 하강법 알고리즘.png\">\n",
    "</div>"
   ]
  },
  {
   "cell_type": "markdown",
   "id": "4f51b15c",
   "metadata": {},
   "source": [
    "경사 하강법을 사용하면 비용 함수 <i>J(w)</i>의 그래디언트 ∇<i>J(w)</i> 반대 방향으로 조금씩 가중치를 업데이트한다."
   ]
  },
  {
   "cell_type": "markdown",
   "id": "c8ef29a7",
   "metadata": {},
   "source": [
    "<div style=\"text-align : center;\">\n",
    "     <img src=\"./images/formula/ml04/Ada_w.png\">\n",
    "</div>"
   ]
  },
  {
   "cell_type": "markdown",
   "id": "3b4778e1",
   "metadata": {},
   "source": [
    "가중치 변화량 Δ<i>w</i>는 음수의 그래디언트 학습률 <i>η</i>를 곱한 것으로 정의한다."
   ]
  },
  {
   "cell_type": "markdown",
   "id": "d7441816",
   "metadata": {},
   "source": [
    "<div style=\"text-align : center;\">\n",
    "     <img src=\"./images/formula/ml04/Ada_w_01.png\">\n",
    "</div>"
   ]
  },
  {
   "cell_type": "markdown",
   "id": "ea32dce1",
   "metadata": {},
   "source": [
    "비용 함수의 그래디언트를 계산하려면 각 가중치 <i>w<sub>j</sub></i> 에 대한 편도 함수를 계산해야 한다."
   ]
  },
  {
   "cell_type": "markdown",
   "id": "9fcc7407",
   "metadata": {},
   "source": [
    "<div style=\"text-align : center;\">\n",
    "     <img src=\"./images/formula/ml04/Ada_w_02.png\">\n",
    "</div>"
   ]
  },
  {
   "cell_type": "markdown",
   "id": "7a64dc41",
   "metadata": {},
   "source": [
    "따라서 가중치 <i>w<sub>j</sub></i>의 업데이트 공식을 다음과 같이 쓸 수 있다."
   ]
  },
  {
   "cell_type": "markdown",
   "id": "d6d085f0",
   "metadata": {},
   "source": [
    "<div style=\"text-align : center;\">\n",
    "     <img src=\"./images/formula/ml04/Ada_w_03.png\">\n",
    "</div>"
   ]
  },
  {
   "cell_type": "markdown",
   "id": "997cfa06",
   "metadata": {},
   "source": [
    "모든 가중치가 동시에 업데이트되기 때문에 아달린 학습 규칙은 다음과 같다."
   ]
  },
  {
   "cell_type": "markdown",
   "id": "40cfd268",
   "metadata": {},
   "source": [
    "<div style=\"text-align : center;\">\n",
    "     <img src=\"./images/formula/ml04/Ada_w.png\">\n",
    "</div>"
   ]
  },
  {
   "cell_type": "markdown",
   "id": "597ed386",
   "metadata": {},
   "source": [
    "아달린 학습 규칙이 퍼셉트론과 동일하게 보이지만 <i>z<sup>(i)</sup></i> = <b>w</b><sup>T</sup><b>x</b><sup>(i)</sup>인 <i>Φ(z<sup>(i)</sup>)</i>는 정수 클래스 레이블이 아니고 실수이다. 또 훈련 세트에 있는 모든 샘플을 기반으로 가중치 업데이트를 계산한다(각 샘플마다 업데이트하지는 않는다). 이 방식을 <b>배치 경사 하강법</b><sup>batch gradient descent</sup>이라고도 한다."
   ]
  },
  {
   "cell_type": "markdown",
   "id": "2a9f3ee0",
   "metadata": {},
   "source": [
    "## 파이썬으로 아달린 구현"
   ]
  },
  {
   "cell_type": "markdown",
   "id": "3a97d368",
   "metadata": {},
   "source": [
    "퍼셉트론 규칙과 아달린이 매우 비슷하기 때문에 앞서 정의한 퍼셉트론 구현에서 <code>fit()</code>메서드를 바꾸어 경사 하강법으로 비용 함수가 최소화되도록 가중치를 업데이트한다."
   ]
  },
  {
   "cell_type": "code",
   "execution_count": 2,
   "id": "a6530c2a",
   "metadata": {
    "ExecuteTime": {
     "end_time": "2022-12-13T11:25:27.733555Z",
     "start_time": "2022-12-13T11:25:27.702611Z"
    }
   },
   "outputs": [],
   "source": [
    "class AdalineGD(object):\n",
    "    \"\"\"적응형 선형 뉴런 분류기\n",
    "    \n",
    "    매개변수\n",
    "    ------------\n",
    "    eta : float\n",
    "        학습률 (0.0과 1.0 사이)\n",
    "    n_iter : int\n",
    "        훈련 데이터셋 반복 횟수\n",
    "    random_state : int\n",
    "        가중치 무작위 초기화를 위한 난수 생성기 시드\n",
    "        \n",
    "    속성\n",
    "    --------------\n",
    "    w_ : 1d-array\n",
    "        학습된 가중치\n",
    "    cost_ : list\n",
    "        에포크마다 누적된 비용 함수의 제곱합\n",
    "    \n",
    "    \"\"\"\n",
    "    def __init__(self, eta=0.01, n_iter=50, random_state=1):\n",
    "        self.eta = eta\n",
    "        self.n_iter = n_iter\n",
    "        self.random_state = random_state\n",
    "        \n",
    "    def fit(self, X, y):\n",
    "        \"\"\"훈련 데이터 학습\n",
    "        \n",
    "        매개변수\n",
    "        ------------\n",
    "        X : {array-like}, shape = [n_samples, n_features]\n",
    "            n_samples개의 샘플과 n_features개의 특성으로 이루어진 훈련 데이터\n",
    "        y : array-like, shape = [n_samples]\n",
    "            타깃 값\n",
    "        \n",
    "        반환값\n",
    "        ----------\n",
    "        self : object\n",
    "        \n",
    "        \"\"\"\n",
    "        rgen = np.random.RandomState(self.random_state)\n",
    "        self.w_ = rgen.normal(loc=0.0, scale=0.01,\n",
    "                              size=1 + X.shape[1])\n",
    "        self.cost_ = []\n",
    "        \n",
    "        for i in range(self.n_iter):\n",
    "            net_input = self.net_input(X)\n",
    "            output = self.activation(net_input)\n",
    "            errors = (y - output)\n",
    "            self.w_[1:] += self.eta * X.T.dot(errors)\n",
    "            self.w_[0] += self.eta * errors.sum()\n",
    "            cost = (errors**2).sum() / 2.0\n",
    "            self.cost_.append(cost)\n",
    "        return self\n",
    "    \n",
    "    def net_input(self, X):\n",
    "        \"\"\"최종 입력 계산\"\"\"\n",
    "        return np.dot(X, self.w_[1:]) + self.w_[0]\n",
    "    \n",
    "    def activation(self, X):\n",
    "        \"\"\"선형 활성화 계산\"\"\"\n",
    "        return X\n",
    "    \n",
    "    def predict(self, X):\n",
    "        \"\"\"단위 계단 함수를 사용하여 클래스 레이블을 반환한다\"\"\"\n",
    "        return np.where(self.activation(self.net_input(X))\n",
    "                        >= 0.0, 1, -1)"
   ]
  },
  {
   "cell_type": "markdown",
   "id": "31fb8ea1",
   "metadata": {},
   "source": [
    "퍼셉트론처럼 개별 훈련 샘플마다 평가한 후 가중치를 업데이트하지 않고 전체 훈련 데이터셋을 기반으로 그래디언트를 계산한다. 절편(0번째 가중치)은 <code>self.eta * errors.sum()</code>이고<sup id=\"a02\">[2](#p02)</sup> 가중치 1에서 m까지는 <code>self.eta * X.T.dot(errors)</code>이다. 여기서 <code>X.T.dot(errors)</code>는 특성 행렬과 오차 벡터 가의 행렬-벡터 곱셈이다."
   ]
  },
  {
   "cell_type": "markdown",
   "id": "591a59c4",
   "metadata": {},
   "source": [
    "이 코드의 <code>activation()</code>메서드는 단순한 항등 함수<sup>identity function</sup>이기 때문에 아무런 영향을 미치지 않는다. 단일층 신경망을 통해 정보가 어떻게 흘러가는지를 표시하려고 (<code>activation()</code> 메서드에서 계산되는) 활성화 함수를 추가했다. 입력 데이터의 특성에서 최종 입력, 활성화, 출력 순으로 진행된다. 후에 다룰 비선형 활성화 함수를 사용하는 로지스틱 회귀 모델은 활성화 함수와 비용 함수만 다르고 아달린과 매우 비슷하다."
   ]
  },
  {
   "cell_type": "markdown",
   "id": "f29f6b99",
   "metadata": {},
   "source": [
    "이전 퍼셉트론 구현과 마찬가지로 비용을 <code>self.cost_</code> 리스트에 모아서 알고리즘이 훈련으로 수렴하는지 확인해 보겠다."
   ]
  },
  {
   "cell_type": "markdown",
   "id": "a272f974",
   "metadata": {},
   "source": [
    "실전에서는 최적으로 수렴하는 좋은 학습률 <i>η</i>를 찾기 위해 여러 번 실험을 해야 한다. 두 개의 학습률 <i>η</i>=0.1과 <i>η</i>=0.0001을 선택해 보자. 에포크 횟수 대비 비용 함수의 값을 그래프로 나타내면 아달린 구현이 훈련 데이터에서 얼마나 잘 학습하는지 볼 수 있다."
   ]
  },
  {
   "cell_type": "markdown",
   "id": "cd90cd19",
   "metadata": {},
   "source": [
    "<div style=\"background-color:#D3D3D3; padding:10px;\">\n",
    "    <span style=\"color: #D0B134\"><strong>NOTEΞ</strong></span> 에포크 횟수(n_iter)와 학습률 <i>η</i>(eta)는 퍼셉트론과 아달린 학습 알고리즘의 하이퍼파라미터이다. 나중에는 모델이 최적의 성능을 내기 위해 다양한 하이퍼파라미터 값을 자동으로 찾을 것이다.\n",
    "</div>"
   ]
  },
  {
   "cell_type": "markdown",
   "id": "569c92e4",
   "metadata": {},
   "source": [
    "두 학습률에서 에포크 횟수 대비 비용 그래프를 그려 본다."
   ]
  },
  {
   "cell_type": "code",
   "execution_count": 9,
   "id": "07763290",
   "metadata": {
    "ExecuteTime": {
     "end_time": "2022-12-13T11:41:25.032781Z",
     "start_time": "2022-12-13T11:41:24.260503Z"
    }
   },
   "outputs": [
    {
     "name": "stdout",
     "output_type": "stream",
     "text": [
      "그림 저장: 학습률에 따른 아달린 알고리즘의 수렴\n"
     ]
    },
    {
     "data": {
      "image/png": "[encoded data removed]",
      "text/plain": [
       "<Figure size 720x288 with 2 Axes>"
      ]
     },
     "metadata": {
      "needs_background": "light"
     },
     "output_type": "display_data"
    }
   ],
   "source": [
    "fig, ax = plt.subplots(nrows=1, ncols=2, figsize=(10, 4))\n",
    "\n",
    "ada1 = AdalineGD(n_iter=10, eta=0.01).fit(X, y)\n",
    "ax[0].plot(range(1, len(ada1.cost_) + 1),\n",
    "           np.log10(ada1.cost_), marker='o')\n",
    "ax[0].set_xlabel('Epochs')\n",
    "ax[0].set_ylabel('log(Sum-squared-error)')\n",
    "ax[0].set_title('Adaline - Learning rate 0.01')\n",
    "\n",
    "ada2 = AdalineGD(n_iter=10, eta=0.0001).fit(X, y)\n",
    "ax[1].plot(range(1, len(ada2.cost_) + 1),\n",
    "           ada2.cost_, marker='o')\n",
    "ax[1].set_xlabel('Epochs')\n",
    "ax[1].set_ylabel('Sum-squared-error')\n",
    "ax[1].set_title('Adaline - Learning rate 0.0001')\n",
    "save_fig('학습률에 따른 아달린 알고리즘의 수렴')\n",
    "plt.show()"
   ]
  },
  {
   "cell_type": "markdown",
   "id": "12ca5ef3",
   "metadata": {},
   "source": [
    "출력된 비용 함수 그래프에서 볼 수 있듯이 두 개의 다른 문제가 발생했다. 위 그림의 왼쪽 그래프는 학습률이 너무 클 때 발생한다. 비용 함수를 최소화하지 못하고 오차는 에포크마다 점점 더 커진다. 전역 최솟값을 지나쳤기 때문이다. 반면 오른쪽 그래프에서는 비용이 감소하지만 학습률 <i>η</i>=0.0001은 너무 작기 때문에 알고리즘이 전역 최솟값에 수렴하려면 아주 많은 에포크가 필요하다."
   ]
  },
  {
   "cell_type": "markdown",
   "id": "3c2d8f88",
   "metadata": {},
   "source": [
    "[그림 3]은 비용 함수 J를 최소화하려고 특정 가중치 값을 바꾸었을 때 어떤 일이 일어나는지 보여 준다. 왼쪽 그림은 적절하게 선택한 학습률의 경우이다. 비용이 점차 감소하여 전역 최솟값의 방향으로 이동한다. 오른쪽 그림은 너무 큰 학습률을 선택하여 전역 최솟값을 지나쳤다."
   ]
  },
  {
   "attachments": {},
   "cell_type": "markdown",
   "id": "f13830da",
   "metadata": {},
   "source": [
    "<b>그림 3</b> 경사 하강법에서 학습률의 영향\n",
    "<div style=\"text-align:center;\">\n",
    "    <img src=\"./images/AdalineGD and AdalineSGD/경사 하강법에서 학습률의 영향.png\">\n",
    "</div>"
   ]
  },
  {
   "cell_type": "markdown",
   "id": "cb8c9258",
   "metadata": {},
   "source": [
    "## 특성 스케일을 조정하여 경사 하강법 결과 향상"
   ]
  },
  {
   "cell_type": "markdown",
   "id": "24b7715e",
   "metadata": {},
   "source": [
    "일부 머신 러닝 알고리즘들(트리 기반 알고리즘)을 제외한 대부분은 최적의 성능을 위해 어떤 식으로든지 특성 스케일을 조정하는 것이 필요하다."
   ]
  },
  {
   "cell_type": "markdown",
   "id": "f5e1cd0a",
   "metadata": {},
   "source": [
    "경사 하강법은 특성 스케일을 조정하여 혜택을 볼 수 있는 많은 알고리즘 중 하나다. 이 절에서는 <b>표준화</b><sup>standardization</sup>라고 하는 특성 스케일 방법을 사용하겠다. 데이터에 표준 정규 분포의 성질을 부여하여 경사 하강법 학습이 좀 더 빠르게 수렴되도록 돕는다. 표준화는 각 특성의 평균을 0에 맞추고 특성의 표준 편차를 1로 만든다. 예를 들어 <i>j</i>번째 특성을 표준화하려면 모든 샘플에서 평균 <i>μ<sub>j</sub></i>를 빼고 표준 편차 <i>σ<sub>j</sub></i>로 나누면 된다."
   ]
  },
  {
   "cell_type": "markdown",
   "id": "0e2815a3",
   "metadata": {},
   "source": [
    "<div style=\"text-align : center;\">\n",
    "     <img src=\"./images/formula/ml04/standardization.png\">\n",
    "</div>"
   ]
  },
  {
   "cell_type": "markdown",
   "id": "2f926bfc",
   "metadata": {},
   "source": [
    "여기서 <i><b>x</b><sub>j</sub></i>는 n개의 모든 훈련 샘플에서 j번째 특성 값을 포함한 벡터이다. 표준화 기법을 데이터셋의 각 특성 j에 적용한다. 표준화가 경사 하강법 학습에 도움이 되는 이유 중 하나는 다음 그림에 나온 것처럼 더 적은 단계를 거쳐 최적 혹은 좋은 솔루션을 찾기 때문이다. [그림 4]는 2차원 분류 문제에서 모델의 가중치에 따른 비용 함수의 등고선을 보여 준다."
   ]
  },
  {
   "attachments": {},
   "cell_type": "markdown",
   "id": "28b5e3c8",
   "metadata": {},
   "source": [
    "<b>그림 4</b> 표준화가 비용 함수에 미치는 영향\n",
    "<div style=\"text-align:center;\">\n",
    "    <img src=\"./images/AdalineGD and AdalineSGD/표준화가 비용 함수에 미치는 영향.png\">\n",
    "</div>"
   ]
  },
  {
   "cell_type": "markdown",
   "id": "56381dcb",
   "metadata": {},
   "source": [
    "\n",
    "특성 스케일에 대한 추가적인 내용은 다음 링크에서 <b>특성 스케일링</b> 부분을 참고하자.<br><a href='https://github.com/Sameta-cani/jwork/blob/master/ML%20A-Z(Regression).ipynb' target='blank'>https://github.com/Sameta-cani/jwork/blob/master/ML%20A-Z(Regression).ipynb</a>"
   ]
  },
  {
   "cell_type": "markdown",
   "id": "8c1c588e",
   "metadata": {},
   "source": [
    "표준화는 넘파이 내장 함수 <code>mean()</code>과 <code>std()</code>로 간단하게 처리할 수 있다."
   ]
  },
  {
   "cell_type": "code",
   "execution_count": 10,
   "id": "949b1d05",
   "metadata": {
    "ExecuteTime": {
     "end_time": "2022-12-13T11:48:07.243383Z",
     "start_time": "2022-12-13T11:48:07.231310Z"
    }
   },
   "outputs": [],
   "source": [
    "X_std = np.copy(X)\n",
    "X_std[:, 0] = (X[:, 0] - X[:, 0].mean()) / X[:, 0].std()\n",
    "X_std[:, 1] = (X[:, 1] - X[:, 1].mean()) / X[:, 1].std()"
   ]
  },
  {
   "cell_type": "markdown",
   "id": "e158ba12",
   "metadata": {},
   "source": [
    "표준화한 후 다시 아달린 모델을 훈련하고 학습률 <i>η</i>=0.01에서 몇 번의 에포크만에 수렴하는지 확인해 보겠다."
   ]
  },
  {
   "cell_type": "code",
   "execution_count": 14,
   "id": "6d512200",
   "metadata": {
    "ExecuteTime": {
     "end_time": "2022-12-13T11:51:27.576879Z",
     "start_time": "2022-12-13T11:51:26.602860Z"
    }
   },
   "outputs": [
    {
     "name": "stderr",
     "output_type": "stream",
     "text": [
      "C:\\Users\\Sangjin\\AppData\\Local\\Temp\\ipykernel_188972\\3284501193.py:24: UserWarning: You passed a edgecolor/edgecolors ('black') for an unfilled marker ('x').  Matplotlib is ignoring the edgecolor in favor of the facecolor.  This behavior may change in the future.\n",
      "  plt.scatter(x=X[y == cl, 0],\n"
     ]
    },
    {
     "name": "stdout",
     "output_type": "stream",
     "text": [
      "그림 저장: 표준화를 적용한 아달린의 결정 경계\n"
     ]
    },
    {
     "data": {
      "image/png": "[encoded data removed]",
      "text/plain": [
       "<Figure size 432x288 with 1 Axes>"
      ]
     },
     "metadata": {
      "needs_background": "light"
     },
     "output_type": "display_data"
    },
    {
     "name": "stdout",
     "output_type": "stream",
     "text": [
      "그림 저장: 표준화를 적용한 아달린의 학습 곡선\n"
     ]
    },
    {
     "data": {
      "image/png": "[encoded data removed]",
      "text/plain": [
       "<Figure size 432x288 with 1 Axes>"
      ]
     },
     "metadata": {
      "needs_background": "light"
     },
     "output_type": "display_data"
    }
   ],
   "source": [
    "ada = AdalineGD(n_iter=15, eta=0.01)\n",
    "ada.fit(X_std, y)\n",
    "\n",
    "plot_decision_regions(X_std, y, classifier=ada)\n",
    "plt.title('Adaline - Gradient Descent')\n",
    "plt.xlabel('sepal length [standardized]')\n",
    "plt.ylabel('petal length [standardized]')\n",
    "plt.legend(loc='upper left')\n",
    "plt.tight_layout()\n",
    "save_fig('표준화를 적용한 아달린의 결정 경계')\n",
    "plt.show()\n",
    "\n",
    "plt.plot(range(1, len(ada.cost_) + 1), ada.cost_, marker='o')\n",
    "plt.xlabel('Epochs')\n",
    "plt.ylabel('Sum-squared-error')\n",
    "save_fig('표준화를 적용한 아달린의 학습 곡선')\n",
    "plt.show()"
   ]
  },
  {
   "cell_type": "markdown",
   "id": "44cce440",
   "metadata": {},
   "source": [
    "이 그래프에서 볼 수 있듯이 학습률 <i>η</i>=0.01을 사용하고 표준화된 특성에서 훈련하니 아달린 모델이 수렴했다. 모든 샘플이 완벽하게 분류되더라도 SSE가 0이 되지는 않는다."
   ]
  },
  {
   "cell_type": "markdown",
   "id": "de59e15c",
   "metadata": {},
   "source": [
    "## 대규모 머신 러닝과 확률적 경사 하강법"
   ]
  },
  {
   "cell_type": "markdown",
   "id": "26e44c5e",
   "metadata": {},
   "source": [
    "이전 절에서 전체 훈련 세트에서 계산한 그래디언트의 반대 방향으로 한 걸음씩 진행하여 비용 함수를 최소화하는 방법을 배웠다. 이 방식을 이따금 <b>배치 경사 하강법</b>이라고도 부른다. 수백만 개의 데이터 포인트가 있는 매우 큰 데이터셋을 생각해 보자. 많은 머신 러닝 애플리케이션에서 이런 데이터셋은 드문 일이 아니다. 이때 배치 경사 하강법을 실행하면 계산 비용이 매우 많이 든다. 전역 최솟값으로 나아가는 단계마다 매번 전체 훈련 데이터셋을 다시 평가해야 하기 때문이다."
   ]
  },
  {
   "cell_type": "markdown",
   "id": "1b6dc25c",
   "metadata": {},
   "source": [
    "<b>확률적 경사 하강법</b><sup>stochastic gradient descent</sup>은 배치 경사 하강법의 다른 대안으로 인기가 높다. 이따금 반복 또는 온라인 경사 하강법이라고 부른다. 다음 첫 번째 수식처럼 모든 샘플 <i><b>x</b><sup>(i)</sup></i>에 대하여 누적된 오차의 합을 기반으로 가중치를 업데이트하는 대신 두 번째 수식처럼 각 훈련 샘플에 대해서 조금씩 가중치를 업데이트한다."
   ]
  },
  {
   "cell_type": "markdown",
   "id": "8f7ab339",
   "metadata": {},
   "source": [
    "<div style=\"text-align : center;\">\n",
    "     <img src=\"./images/formula/ml04/sgd_training_w.png\">\n",
    "</div>"
   ]
  },
  {
   "cell_type": "markdown",
   "id": "98e92e1b",
   "metadata": {},
   "source": [
    "확률적 경사 하강법을 경사 하강법의 근사로 생각할 수 있지만 가중치가 더 자주 업데이트되기 때문에 수렴 속도가 훨씬 빠르다. 그래디언트가 하나의 훈련 샘플을 기반으로 계산되므로 오차의 궤적은 배치 경사 하강법보다 훨씬 어지럽다. 비선형 비용 함수를 다룰 때 얕은 지역 최솟값을 더 쉽게 탈출할 수 있어 장점이 되기도 한다. 확률적 경사 하강법에서 만족스러운 결과를 얻으려면 훈련 샘플 순서를 무작위하게 주입하는 것이 중요하다. 또 순환되지 않도록 에포크마다 훈련 세트를 섞는 것이 좋다."
   ]
  },
  {
   "cell_type": "markdown",
   "id": "096e988b",
   "metadata": {},
   "source": [
    "<div style=\"background-color:#D3D3D3; padding:10px;\">\n",
    "    <span style=\"color: #D0B134\"><strong>NOTEΞ</strong></span> 확률적 경사 하강법 구현에서 종종 고정된 학습률 <i>η</i>를 시간이 지남에 따라 적응적인 학습률로 대체한다. 예를 들어 다음과 같다.<br><br>\n",
    "    <div style=\"text-align : center;\">\n",
    "     <img src=\"./images/formula/ml04/sgd_learning_rate.png\">\n",
    "</div>\n",
    "    <br>여기서 <i>c</i><sub>1</sub>과 <i>c</i><sub>2</sub>는 상수다. 확률적 경사 하강법은 전역 최솟값에 도달하지 못하지만 매우 가까운 지역에 근접한다. 적응적 학습률을 사용하면 최솟값에 더욱 가깝게 다가갈 수 있다.\n",
    "</div>"
   ]
  },
  {
   "cell_type": "markdown",
   "id": "3577d836",
   "metadata": {},
   "source": [
    "확률적 경사 하강법의 또 다른 장점은 <b>온라인 학습</b><sup>online learning</sup>으로 사용할 수 있다는 것이다. 온라인 학습에서 모델은 새로운 훈련 데이터가 도착하는 대로 훈련된다. 많은 양의 훈련 데이터가 있을 때도 유용하다. 예를 들어 고객 데이터를 처리하는 웹 애플리케이션이다. 온라인 학습을 사용해서 시스템은 변화에 즉시 적응한다. 저장 공간에 제약이 있다면 모델을 업데이트한 후 훈련 데이터를 버릴 수 있다."
   ]
  },
  {
   "cell_type": "markdown",
   "id": "f4f244f3",
   "metadata": {},
   "source": [
    "<div style=\"background-color:#D3D3D3; padding:10px;\">\n",
    "    <span style=\"color: #D0B134\"><strong>NOTEΞ</strong></span> 배치 경사 하강법과 확률적 경사 하강법 사이의 절충점이 <b>미니 배치 학습</b><sup>mini-batch learning</sup>이다. 미니 배치 학습은 훈련 데이터의 작은 일부분으로 배치 경사 하강법을 적용한다고 이해할 수 있다. 예를 들어 한번에 32개의 샘플을 사용한다. 배치 경사 하강법에 비해 장점은 가중치 업데이트가 더 자주 일어나므로 수렴 속도가 더 빠르다. 또 미니 배치 학습은 확률적 경사 하강법에서 훈련 샘플을 순회하는 for 반복을 벡터화된 연산으로 바꾸어 주므로 학습 알고리즘의 계산 효율성이 크게 향상된다.\n",
    "</div>"
   ]
  },
  {
   "cell_type": "markdown",
   "id": "42d66f3e",
   "metadata": {},
   "source": [
    "경사 하강법으로 아달린 학습 규칙을 구현했기 때문에 학습 알고리즘을 조금만 수정하면 확률적 경사 하강법으로 가중치를 업데이트할 수 있다. <code>fit()</code>메서드 안에서 각 훈련 샘플에 대해 가중치를 업데이트할 것이다. 추가로 <code>partial_fit()</code>메서드도 구현하겠다. 이 메서드는 가중치를 다시 초기화하지 않아 온라인 학습에서 사용할 수 있다. 훈련 후에는 알고리즘이 수렴하는지 확인하려고 에포크마다 훈련 샘플의 평균 비용을 계산한다. 비용 함수를 최적화할 때 반복적인 순환이 일어나지 않도록 매 에포크가 일어나기 전에 훈련 샘플을 섞는 옵션을 추가한다. random_state 매개변수로는 재현 가능하도록 랜덤 시드를 지정할 수 있다."
   ]
  },
  {
   "cell_type": "code",
   "execution_count": 15,
   "id": "6f182cb1",
   "metadata": {
    "ExecuteTime": {
     "end_time": "2022-12-13T12:44:14.829747Z",
     "start_time": "2022-12-13T12:44:14.807154Z"
    }
   },
   "outputs": [],
   "source": [
    "class AdalineSGD(object):\n",
    "    \"\"\"ADAptive LInear NEuron 분류기\n",
    "    \n",
    "    매개변수\n",
    "    ------------\n",
    "    eta : float\n",
    "        학습률 (0.0과 1.0 사이)\n",
    "    n_iter : int\n",
    "        훈련 데이터셋 반복 횟수\n",
    "    shuffle : bool (default: True)\n",
    "        True로 설정하면 같은 반복이 되지 않도록 에포크마다 훈련 데이터를 섞는다\n",
    "    random_state : int\n",
    "        가중치 무작위 초기화를 위한 난수 생성기 시드\n",
    "    \n",
    "    속성\n",
    "    ------------\n",
    "    w_ : 1d-array\n",
    "        학습된 가중치\n",
    "    cost_ : list\n",
    "        모든 훈련 샘플에 대해 에포크마다 누적된 평균 비용 함수의 제곱합\n",
    "    \n",
    "    \"\"\"\n",
    "    def __init__(self, eta=0.01, n_iter=10,\n",
    "                 shuffle=True, random_state=None):\n",
    "        self.eta = eta\n",
    "        self.n_iter = n_iter\n",
    "        self.w_initialized = False\n",
    "        self.shuffle = shuffle\n",
    "        self.random_state = random_state\n",
    "        \n",
    "    def fit(self, X, y):\n",
    "        \"\"\"훈련 데이터 학습\n",
    "        \n",
    "        매개변수\n",
    "        ------------\n",
    "        X : {array-like}, shape = [n_samples, n_features]\n",
    "            n_samples개의 샘플과 n_features개의 특성으로 이루어진 훈련 데이터\n",
    "        y : array-like, shape = [n_samples]\n",
    "            타깃 벡터\n",
    "            \n",
    "        반환값\n",
    "        ----------\n",
    "        self : object\n",
    "        \n",
    "        \"\"\"\n",
    "        self._initialize_weights(X.shape[1])\n",
    "        self.cost_ = []\n",
    "        for i in range(self.n_iter):\n",
    "            if self.shuffle:\n",
    "                X, y = self._shuffle(X, y)\n",
    "            cost = []\n",
    "            for xi, target in zip(X, y):\n",
    "                cost.append(self._update_weights(xi, target))\n",
    "            avg_cost = sum(cost) / len(y)\n",
    "            self.cost_.append(avg_cost)\n",
    "        return self\n",
    "            \n",
    "    def partial_fit(self, X, y):\n",
    "        \"\"\"가중치를 다시 초기화하지 않고 훈련 데이터를 학습한다\"\"\"\n",
    "        if not self.w_initialized:\n",
    "            self._initialize_weights(X.shape[1])\n",
    "        if y.ravel().shape[0] > 1:\n",
    "            for xi, target in zip(X, y):\n",
    "                self._update_weights(xi, target)\n",
    "        else:\n",
    "            self._update_weights(xi, target)\n",
    "        return self\n",
    "    \n",
    "    def _shuffle(self, X, y):\n",
    "        \"\"\"훈련 데이터를 섞는다\"\"\"\n",
    "        r = self.rgen.permutation(len(y))\n",
    "        return X[r], y[r]\n",
    "    \n",
    "    def _initialize_weights(self, m):\n",
    "        \"\"\"랜덤한 작은 수로 가중치를 초기화한다\"\"\"\n",
    "        self.rgen = np.random.RandomState(self.random_state)\n",
    "        self.w_ = self.rgen.normal(loc=0.0, scale=0.01,\n",
    "                                   size=1 + m)\n",
    "        self.w_initialized = True\n",
    "        \n",
    "    def _update_weights(self, xi, target):\n",
    "        \"\"\"아달린 학습 규칙을 적용하여 가중치를 업데이트한다\"\"\"\n",
    "        output = self.activation(self.net_input(xi))\n",
    "        error = (target - output)\n",
    "        self.w_[1:] += self.eta * xi.dot(error)\n",
    "        self.w_[0] += self.eta * error\n",
    "        cost = 0.5 * error**2\n",
    "        return cost\n",
    "    \n",
    "    def net_input(self, X):\n",
    "        \"\"\"최종 입력 계산\"\"\"\n",
    "        return np.dot(X, self.w_[1:]) + self.w_[0]\n",
    "    \n",
    "    def activation(self, X):\n",
    "        \"\"\"선형 활성화 계산\"\"\"\n",
    "        return X\n",
    "    \n",
    "    def predict(self, X):\n",
    "        \"\"\"단위 계단 함수를 사용하여 클래스 레이블을 반환한다\"\"\"\n",
    "        return np.where(self.activation(self.net_input(X))\n",
    "                        >= 0.0, 1, -1)"
   ]
  },
  {
   "cell_type": "markdown",
   "id": "6e1e569d",
   "metadata": {},
   "source": [
    "AdalineSGD 분류기에서 사용하는 <code>_shuffle()</code>메서드는 다음과 같이 작동한다. np.random 모듈의 <code>permutation()</code>함수로 0에서 100까지 중복되지 않은 랜덤한 숫자 시퀀스<sup>sequence</sup>를 생성한다. 이 숫자 시퀀스를 특성 행렬과 클래스 레이블 벡터를 섞는 인덱스로 사용한다."
   ]
  },
  {
   "cell_type": "markdown",
   "id": "3065f2c7",
   "metadata": {},
   "source": [
    "그다음 <code>fit()</code>메서드로 AdalineSGD 분류기를 훈련하고, <code>plot_decision_regions()</code>로는 훈련 결과를 그래프로 그린다."
   ]
  },
  {
   "cell_type": "code",
   "execution_count": 16,
   "id": "9a0f4a09",
   "metadata": {
    "ExecuteTime": {
     "end_time": "2022-12-13T12:56:39.809862Z",
     "start_time": "2022-12-13T12:56:38.827544Z"
    }
   },
   "outputs": [
    {
     "name": "stderr",
     "output_type": "stream",
     "text": [
      "C:\\Users\\Sangjin\\AppData\\Local\\Temp\\ipykernel_188972\\3284501193.py:24: UserWarning: You passed a edgecolor/edgecolors ('black') for an unfilled marker ('x').  Matplotlib is ignoring the edgecolor in favor of the facecolor.  This behavior may change in the future.\n",
      "  plt.scatter(x=X[y == cl, 0],\n"
     ]
    },
    {
     "name": "stdout",
     "output_type": "stream",
     "text": [
      "그림 저장: 확률적 경사 하강법을 사용한 아달린의 결정 경계\n"
     ]
    },
    {
     "data": {
      "image/png": "[encoded data removed]",
      "text/plain": [
       "<Figure size 432x288 with 1 Axes>"
      ]
     },
     "metadata": {
      "needs_background": "light"
     },
     "output_type": "display_data"
    },
    {
     "name": "stdout",
     "output_type": "stream",
     "text": [
      "그림 저장: 확률적 경사 하강법을 사용한 아달린의 학습 곡선\n"
     ]
    },
    {
     "data": {
      "image/png": "[encoded data removed]",
      "text/plain": [
       "<Figure size 432x288 with 1 Axes>"
      ]
     },
     "metadata": {
      "needs_background": "light"
     },
     "output_type": "display_data"
    }
   ],
   "source": [
    "ada = AdalineSGD(n_iter=15, eta=0.01, random_state=1)\n",
    "ada.fit(X_std, y)\n",
    "\n",
    "plot_decision_regions(X_std, y, classifier=ada)\n",
    "plt.title('Adaline - Stochastic Gradient Descent')\n",
    "plt.xlabel('sepal legnth [standardized]')\n",
    "plt.ylabel('petal length [standardized]')\n",
    "plt.legend(loc='upper left')\n",
    "save_fig('확률적 경사 하강법을 사용한 아달린의 결정 경계')\n",
    "plt.show()\n",
    "\n",
    "plt.plot(range(1, len(ada.cost_) + 1), ada.cost_, marker='o')\n",
    "plt.xlabel('Epochs')\n",
    "plt.ylabel('Average Cost')\n",
    "save_fig('확률적 경사 하강법을 사용한 아달린의 학습 곡선')\n",
    "plt.show()"
   ]
  },
  {
   "cell_type": "markdown",
   "id": "1111b844",
   "metadata": {},
   "source": [
    "여기서 보듯이 평균 비용이 상당히 빠르게 감소한다. 15번째 에포크 이후 최종 결정 경계는 배치 경사 하강법과 거의 비슷해 보인다. 스트리밍 데이터를 사용하는 온라인 학습 방식으로 모델을 훈련하려면 개개의 샘플마다 <code>partial_fit()</code>메서드를 호출하면 된다. 예를 들어 <code>ada.partial_fit(X_std[0, :], y[0])과 같다."
   ]
  },
  {
   "cell_type": "markdown",
   "id": "be4218a2",
   "metadata": {},
   "source": [
    "# 미주"
   ]
  },
  {
   "cell_type": "markdown",
   "id": "e79081df",
   "metadata": {},
   "source": [
    "<b id=\"p01\">1</b> An Adpative \"Adaline\" Neuron Using Chemical \"Memistors\", Technical Report Number 1553-2, B. Widrow and others, Stanford Electron Labs, Standford, CA, October 1960 [↩](#a01)\n",
    "\n",
    "<b id=\"p02\">2</b> <i>w<sub>0</sub></i>에 대한 그래디언트는 <i>x<sub>0</sub></i>가 1이므로 SSE 비용 함수의 편도 함수에서 오차의 합만 남는다.[↩](#a02)"
   ]
  }
 ],
 "metadata": {
  "kernelspec": {
   "display_name": "myenv",
   "language": "python",
   "name": "myenv"
  },
  "language_info": {
   "codemirror_mode": {
    "name": "ipython",
    "version": 3
   },
   "file_extension": ".py",
   "mimetype": "text/x-python",
   "name": "python",
   "nbconvert_exporter": "python",
   "pygments_lexer": "ipython3",
   "version": "3.8.13"
  },
  "toc": {
   "base_numbering": 1,
   "nav_menu": {},
   "number_sections": true,
   "sideBar": true,
   "skip_h1_title": false,
   "title_cell": "Table of Contents",
   "title_sidebar": "Contents",
   "toc_cell": false,
   "toc_position": {},
   "toc_section_display": true,
   "toc_window_display": false
  }
 },
 "nbformat": 4,
 "nbformat_minor": 5
}
